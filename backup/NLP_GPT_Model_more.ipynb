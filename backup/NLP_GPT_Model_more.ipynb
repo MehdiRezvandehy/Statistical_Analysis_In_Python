{
 "cells": [
  {
   "cell_type": "markdown",
   "id": "39ce5810",
   "metadata": {},
   "source": [
    " "
   ]
  },
  {
   "cell_type": "markdown",
   "id": "aec69055",
   "metadata": {},
   "source": [
    "<font size=\"6.2\">NLP Transformer using GPT</font>  "
   ]
  },
  {
   "cell_type": "markdown",
   "id": "559cc275",
   "metadata": {},
   "source": [
    "In this Notebook, NLP Transformer using BERT GPT is presented. Most Material is retrieved from [Sinan Ozdemir](https://learning.oreilly.com/videos/introduction-to-transformer/9780137923717/). See [GitHub page](https://github.com/sinanuozdemir/oreilly-transformers-video-series/tree/main/notebooks)"
   ]
  },
  {
   "cell_type": "markdown",
   "id": "72513534",
   "metadata": {},
   "source": [
    "# Introduction"
   ]
  },
  {
   "cell_type": "markdown",
   "id": "5d6808a4",
   "metadata": {},
   "source": [
    "GPT stands for **G**enerative **P**re-trained **T**ransformers:\n",
    "\n",
    "* **Generative**: from Auto-regressive Language Model. It signifies predicting tokens with one side of the context, past context.\n",
    " \n",
    "* **Pre-trained**: decoders are trained on huge corpora of data.\n",
    "\n",
    "* **Transformers**: The decoder is taken from the transformer architecture."
   ]
  },
  {
   "cell_type": "markdown",
   "id": "1c0a94f1",
   "metadata": {},
   "source": [
    "GPT refers to a family of models:\n",
    "\n",
    "* GPT-1 released in 2018: 0.117B parameters\n",
    "* GPT-2 released in 2019: 1.5B parameters\n",
    "* GPT-3 released in 2020: 175B parameters"
   ]
  },
  {
   "cell_type": "markdown",
   "id": "668542a4",
   "metadata": {},
   "source": [
    "GPT is very similar to BERT. GPT has Byte-level tokenization by splitting a list of token in our vocabulary over 50,000 tokens. We also add the special token **<|endoftext|>** at the end.\n",
    "\n",
    "My name is Mehdi ==> [\"My\", \"name\", \"is\", \"Mehdi\",\"**<|endoftext|>**\" ]"
   ]
  },
  {
   "cell_type": "code",
   "execution_count": 1,
   "id": "c4fc1236",
   "metadata": {},
   "outputs": [
    {
     "data": {
      "text/plain": [
       "[17250, 612]"
      ]
     },
     "execution_count": 1,
     "metadata": {},
     "output_type": "execute_result"
    }
   ],
   "source": [
    "from transformers import GPT2Tokenizer\n",
    "tokenizer_gpt = GPT2Tokenizer.from_pretrained(\"gpt2\")\n",
    "tokenizer_gpt (\"Hi there\")['input_ids']"
   ]
  },
  {
   "cell_type": "code",
   "execution_count": 2,
   "id": "cb1dfea9",
   "metadata": {},
   "outputs": [
    {
     "data": {
      "text/plain": [
       "[15902, 612]"
      ]
     },
     "execution_count": 2,
     "metadata": {},
     "output_type": "execute_result"
    }
   ],
   "source": [
    "# Having a space make it to different token\n",
    "tokenizer_gpt (\" Hi there\")['input_ids']"
   ]
  },
  {
   "cell_type": "markdown",
   "id": "58d6e271",
   "metadata": {},
   "source": [
    "Space in GPT's tokenizer is treated as part of token; this leads to encode the word differently."
   ]
  },
  {
   "cell_type": "markdown",
   "id": "d5a579d2",
   "metadata": {},
   "source": [
    "GPT has two types of embeddings for tokenized sentences:\n",
    "\n",
    "**1. Word Token Embeddings (WTE)**\n",
    "   \n",
    "    a. Context-free (contex less) meaning of each token\n",
    "    b. Over 50,000 possible vectors\n",
    "    c. learnable during training\n",
    "   \n",
    "   \n",
    "**2. Word Position Embedding (WPE)**\n",
    "\n",
    "    a. To represent token's position in the sentence\n",
    "    b. This is not learnable\n",
    "   \n",
    "These two are identical to BERT, but we have an additional embedding in <span class=\"mark\">BERT for segment id (sentence A versus B) that we do not have for GPT.</span>\n",
    "   "
   ]
  },
  {
   "cell_type": "markdown",
   "id": "9c0e55b6",
   "metadata": {},
   "source": [
    "# GPT Family "
   ]
  },
  {
   "cell_type": "code",
   "execution_count": 3,
   "id": "61867e8f",
   "metadata": {},
   "outputs": [],
   "source": [
    "from transformers import pipeline, set_seed, GPT2Tokenizer, GPT2LMHeadModel\n",
    "from torch import tensor, numel # counting number of parameters\n",
    "from bertviz import model_view # visualize \n",
    "\n",
    "set_seed(32) # we have randomness in GPT while we do not have in BERT"
   ]
  },
  {
   "cell_type": "markdown",
   "id": "83691f28",
   "metadata": {},
   "source": [
    "GPT-2 is a large transformer-based language model with 1.5 billion parameters, trained on a dataset[1] of 8 million web pages. GPT-2 is trained with a simple objective: predict the next word, given all of the previous words within some text. The diversity of the dataset causes this simple goal to contain naturally occurring demonstrations of many tasks across diverse domains. GPT-2 is a direct scale-up of GPT, with more than 10X the parameters and trained on more than 10X the amount of data."
   ]
  },
  {
   "cell_type": "code",
   "execution_count": 4,
   "id": "6b6158e2",
   "metadata": {},
   "outputs": [],
   "source": [
    "generator = pipeline('text-generation', model='gpt2') # create a pipline for text generation using gpt"
   ]
  },
  {
   "cell_type": "markdown",
   "id": "eb3a89d4",
   "metadata": {},
   "source": [
    "Alternately, we can use `model='openai-gpt'` but it is a variant of the GPT model that was released by OpenAI prior to GPT-2. It is an earlier version and is not as commonly used or as up-to-date as GPT-2."
   ]
  },
  {
   "cell_type": "code",
   "execution_count": 5,
   "id": "bef15b5e",
   "metadata": {},
   "outputs": [
    {
     "name": "stderr",
     "output_type": "stream",
     "text": [
      "C:\\Users\\mrezv\\anaconda3\\lib\\site-packages\\transformers\\generation\\utils.py:1186: UserWarning: You have modified the pretrained model configuration to control generation. This is a deprecated strategy to control generation and will be removed soon, in a future version. Please use a generation configuration file (see https://huggingface.co/docs/transformers/main_classes/text_generation)\n",
      "  warnings.warn(\n",
      "Setting `pad_token_id` to `eos_token_id`:50256 for open-end generation.\n"
     ]
    },
    {
     "data": {
      "text/plain": [
       "[{'generated_text': 'Hello, I am a data scientist and I want to share some of my knowledge with you! As you know we are one of the most active community'},\n",
       " {'generated_text': 'Hello, I am a data scientist and I want to share some of my personal knowledge, techniques and solutions for building software that improves the efficiency of your'},\n",
       " {'generated_text': 'Hello, I am a data scientist and I want to share what I am currently working on. I have some ideas for next project in mind. Here'}]"
      ]
     },
     "execution_count": 5,
     "metadata": {},
     "output_type": "execute_result"
    }
   ],
   "source": [
    "generator(\"Hello, I am a data scientist and I want to\", max_length=30, num_return_sequences=3) # here is randombess occures"
   ]
  },
  {
   "cell_type": "markdown",
   "id": "b3d75f83",
   "metadata": {},
   "source": [
    "These are not great text prediction."
   ]
  },
  {
   "cell_type": "code",
   "execution_count": 6,
   "id": "66714e37",
   "metadata": {},
   "outputs": [
    {
     "data": {
      "text/plain": [
       "False"
      ]
     },
     "execution_count": 6,
     "metadata": {},
     "output_type": "execute_result"
    }
   ],
   "source": [
    "tokenizer = GPT2Tokenizer.from_pretrained('gpt2') # GPT tokenizer\n",
    "\n",
    "'Mehdi' in tokenizer.get_vocab()  # Mehdi is not in gpt vocabulary"
   ]
  },
  {
   "cell_type": "markdown",
   "id": "9f4bb953",
   "metadata": {},
   "source": [
    "GPT2 by default is cased (Mehdi is different than mehdi)."
   ]
  },
  {
   "cell_type": "code",
   "execution_count": 7,
   "id": "86095207",
   "metadata": {},
   "outputs": [
    {
     "data": {
      "text/plain": [
       "['Me', 'h', 'di', 'Ġloves', 'Ġworking', 'Ġout']"
      ]
     },
     "execution_count": 7,
     "metadata": {},
     "output_type": "execute_result"
    }
   ],
   "source": [
    "txt = 'Mehdi loves working out'\n",
    "\n",
    "tokenizer.convert_ids_to_tokens(tokenizer.encode(txt))"
   ]
  },
  {
   "cell_type": "code",
   "execution_count": 8,
   "id": "b7dea30e",
   "metadata": {},
   "outputs": [
    {
     "data": {
      "text/plain": [
       "[5308, 71, 10989, 10408, 1762, 503]"
      ]
     },
     "execution_count": 8,
     "metadata": {},
     "output_type": "execute_result"
    }
   ],
   "source": [
    "tokenizer.encode(txt)"
   ]
  },
  {
   "cell_type": "code",
   "execution_count": 9,
   "id": "7336eabe",
   "metadata": {},
   "outputs": [
    {
     "data": {
      "text/plain": [
       "tensor([[ 5308,    71, 10989, 10408,  1762,   503]])"
      ]
     },
     "execution_count": 9,
     "metadata": {},
     "output_type": "execute_result"
    }
   ],
   "source": [
    "encoded = tokenizer.encode(txt, return_tensors='pt') # Pytorch format\n",
    "encoded"
   ]
  },
  {
   "cell_type": "code",
   "execution_count": 10,
   "id": "e70e9394",
   "metadata": {},
   "outputs": [],
   "source": [
    "tokenizer = GPT2Tokenizer.from_pretrained('gpt2')\n",
    "model = GPT2LMHeadModel.from_pretrained('gpt2') # Language modeling head"
   ]
  },
  {
   "cell_type": "code",
   "execution_count": 11,
   "id": "b39073b6",
   "metadata": {},
   "outputs": [
    {
     "data": {
      "text/plain": [
       "GPT2LMHeadModel(\n",
       "  (transformer): GPT2Model(\n",
       "    (wte): Embedding(50257, 768)\n",
       "    (wpe): Embedding(1024, 768)\n",
       "    (drop): Dropout(p=0.1, inplace=False)\n",
       "    (h): ModuleList(\n",
       "      (0-11): 12 x GPT2Block(\n",
       "        (ln_1): LayerNorm((768,), eps=1e-05, elementwise_affine=True)\n",
       "        (attn): GPT2Attention(\n",
       "          (c_attn): Conv1D()\n",
       "          (c_proj): Conv1D()\n",
       "          (attn_dropout): Dropout(p=0.1, inplace=False)\n",
       "          (resid_dropout): Dropout(p=0.1, inplace=False)\n",
       "        )\n",
       "        (ln_2): LayerNorm((768,), eps=1e-05, elementwise_affine=True)\n",
       "        (mlp): GPT2MLP(\n",
       "          (c_fc): Conv1D()\n",
       "          (c_proj): Conv1D()\n",
       "          (act): NewGELUActivation()\n",
       "          (dropout): Dropout(p=0.1, inplace=False)\n",
       "        )\n",
       "      )\n",
       "    )\n",
       "    (ln_f): LayerNorm((768,), eps=1e-05, elementwise_affine=True)\n",
       "  )\n",
       "  (lm_head): Linear(in_features=768, out_features=50257, bias=False)\n",
       ")"
      ]
     },
     "execution_count": 11,
     "metadata": {},
     "output_type": "execute_result"
    }
   ],
   "source": [
    "model"
   ]
  },
  {
   "cell_type": "code",
   "execution_count": 12,
   "id": "4010d771",
   "metadata": {},
   "outputs": [
    {
     "data": {
      "text/plain": [
       "torch.Size([1, 6, 768])"
      ]
     },
     "execution_count": 12,
     "metadata": {},
     "output_type": "execute_result"
    }
   ],
   "source": [
    "# zoom in token embeding\n",
    "model.transformer.wte(encoded).shape # word token embeding (wte)"
   ]
  },
  {
   "cell_type": "markdown",
   "id": "a79db66c",
   "metadata": {},
   "source": [
    "Each token (6 tokens) has 768 length of vector"
   ]
  },
  {
   "cell_type": "code",
   "execution_count": 13,
   "id": "6ff47ce0",
   "metadata": {},
   "outputs": [
    {
     "data": {
      "text/plain": [
       "torch.Size([1, 6, 768])"
      ]
     },
     "execution_count": 13,
     "metadata": {},
     "output_type": "execute_result"
    }
   ],
   "source": [
    "# Similar to BERT, we can pass in our position that will output with the same shape\n",
    "model.transformer.wpe(tensor([0, 1, 2, 3, 4, 5]).reshape(1, 6)).shape  #word postion embeding (wpe)"
   ]
  },
  {
   "cell_type": "code",
   "execution_count": 14,
   "id": "9b8bb36a",
   "metadata": {},
   "outputs": [
    {
     "data": {
      "text/plain": [
       "torch.Size([1, 6, 768])"
      ]
     },
     "execution_count": 14,
     "metadata": {},
     "output_type": "execute_result"
    }
   ],
   "source": [
    "# word token embeding (wte) are added up with word postion embeding (wpe)\n",
    "\n",
    "initial_input = model.transformer.wte(encoded) + model.transformer.wpe(tensor([0, 1, 2, 3, 4, 5]).reshape(1, 6))\n",
    "\n",
    "initial_input.shape"
   ]
  },
  {
   "cell_type": "code",
   "execution_count": 15,
   "id": "dd3b6f4a",
   "metadata": {},
   "outputs": [
    {
     "data": {
      "text/plain": [
       "tensor([[[ 0.0547, -0.4038,  0.2470,  ..., -0.1350, -0.1283,  0.1031],\n",
       "         [ 0.0442, -0.0989,  0.0356,  ...,  0.0754, -0.1866,  0.1947],\n",
       "         [ 0.0326, -0.0136,  0.1464,  ...,  0.1332,  0.2655,  0.0350],\n",
       "         [-0.0761, -0.1581,  0.0896,  ..., -0.2130, -0.0214, -0.0970],\n",
       "         [-0.0460,  0.0483,  0.1984,  ..., -0.0730,  0.1341, -0.0947],\n",
       "         [-0.0388, -0.0780,  0.1656,  ...,  0.0859, -0.2295,  0.1717]]],\n",
       "       grad_fn=<AddBackward0>)"
      ]
     },
     "execution_count": 15,
     "metadata": {},
     "output_type": "execute_result"
    }
   ],
   "source": [
    "initial_input = model.transformer.drop(initial_input)\n",
    "initial_input"
   ]
  },
  {
   "cell_type": "code",
   "execution_count": 16,
   "id": "4193f076",
   "metadata": {},
   "outputs": [
    {
     "data": {
      "text/plain": [
       "Linear(in_features=768, out_features=50257, bias=False)"
      ]
     },
     "execution_count": 16,
     "metadata": {},
     "output_type": "execute_result"
    }
   ],
   "source": [
    "model.lm_head"
   ]
  },
  {
   "cell_type": "code",
   "execution_count": 17,
   "id": "2adcd739",
   "metadata": {},
   "outputs": [],
   "source": [
    "# If input is passed one-by-one to model transformer we should end up with the same \n",
    "for module in model.transformer.h:\n",
    "    initial_input = module(initial_input)[0]\n",
    "    \n",
    "initial_input = model.transformer.ln_f(initial_input)"
   ]
  },
  {
   "cell_type": "code",
   "execution_count": 18,
   "id": "6ec57e42",
   "metadata": {},
   "outputs": [
    {
     "data": {
      "text/plain": [
       "tensor(True)"
      ]
     },
     "execution_count": 18,
     "metadata": {},
     "output_type": "execute_result"
    }
   ],
   "source": [
    "(initial_input == model(encoded, output_hidden_states=True).hidden_states[-1]).all()"
   ]
  },
  {
   "cell_type": "code",
   "execution_count": 19,
   "id": "0eae8559",
   "metadata": {},
   "outputs": [
    {
     "name": "stdout",
     "output_type": "stream",
     "text": [
      "Number of params for GPT2 is: 124,439,808\n"
     ]
    }
   ],
   "source": [
    "total_params = 0\n",
    "for param in model.parameters():\n",
    "    total_params += numel(param)\n",
    "    \n",
    "print(f'Number of params for GPT2 is: {total_params:,}')"
   ]
  },
  {
   "cell_type": "code",
   "execution_count": null,
   "id": "4f26e41f",
   "metadata": {},
   "outputs": [],
   "source": []
  },
  {
   "cell_type": "markdown",
   "id": "77647ae0",
   "metadata": {},
   "source": [
    "# Masked multi-headed attention"
   ]
  },
  {
   "cell_type": "markdown",
   "id": "61e65281",
   "metadata": {},
   "source": [
    "Masked Self-Attention: upper limit matrix are assigned to zero because of not cheating\n",
    "\n",
    "GPT is predicting words one by one. "
   ]
  },
  {
   "cell_type": "code",
   "execution_count": 20,
   "id": "6160759d",
   "metadata": {},
   "outputs": [],
   "source": [
    "import torch\n",
    "import pandas as pd"
   ]
  },
  {
   "cell_type": "code",
   "execution_count": 21,
   "id": "2f8e4719",
   "metadata": {},
   "outputs": [
    {
     "data": {
      "text/plain": [
       "12"
      ]
     },
     "execution_count": 21,
     "metadata": {},
     "output_type": "execute_result"
    }
   ],
   "source": [
    "phrase = 'Today is a beautiful day. but, It is going to rain!'\n",
    "encoded_phrase = tokenizer(phrase, return_tensors='pt')\n",
    "\n",
    "response = model(**encoded_phrase, output_attentions=True, output_hidden_states=True)\n",
    "\n",
    "len(response.attentions)"
   ]
  },
  {
   "cell_type": "code",
   "execution_count": 22,
   "id": "f9e6cbe1",
   "metadata": {},
   "outputs": [
    {
     "data": {
      "text/plain": [
       "{'input_ids': tensor([[8888,  318,  257, 4950, 1110,   13,  475,   11,  632,  318, 1016,  284,\n",
       "         6290,    0]]), 'attention_mask': tensor([[1, 1, 1, 1, 1, 1, 1, 1, 1, 1, 1, 1, 1, 1]])}"
      ]
     },
     "execution_count": 22,
     "metadata": {},
     "output_type": "execute_result"
    }
   ],
   "source": [
    "# GPT does not have a sense of sentence A or B.\n",
    "encoded_phrase"
   ]
  },
  {
   "cell_type": "code",
   "execution_count": 23,
   "id": "cc24ead8",
   "metadata": {},
   "outputs": [
    {
     "data": {
      "text/plain": [
       "torch.Size([1, 12, 14, 14])"
      ]
     },
     "execution_count": 23,
     "metadata": {},
     "output_type": "execute_result"
    }
   ],
   "source": [
    "# access to attention mechanism\n",
    "response.attentions[-1].shape  # From the final decoder"
   ]
  },
  {
   "cell_type": "markdown",
   "id": "c6465853",
   "metadata": {},
   "source": [
    "For this array, first item is batch size (1), 12 indicates there 12 heads in final encoder, and 14 is number of tokens."
   ]
  },
  {
   "cell_type": "code",
   "execution_count": 24,
   "id": "e5efbd80",
   "metadata": {},
   "outputs": [
    {
     "data": {
      "text/plain": [
       "torch.Size([1, 14])"
      ]
     },
     "execution_count": 24,
     "metadata": {},
     "output_type": "execute_result"
    }
   ],
   "source": [
    "encoded_phrase['input_ids'].shape"
   ]
  },
  {
   "cell_type": "markdown",
   "id": "f9250b6f",
   "metadata": {},
   "source": [
    "We can convert this ids back to tokens:"
   ]
  },
  {
   "cell_type": "code",
   "execution_count": 25,
   "id": "698841ca",
   "metadata": {},
   "outputs": [
    {
     "data": {
      "text/plain": [
       "['Today',\n",
       " 'Ġis',\n",
       " 'Ġa',\n",
       " 'Ġbeautiful',\n",
       " 'Ġday',\n",
       " '.',\n",
       " 'Ġbut',\n",
       " ',',\n",
       " 'ĠIt',\n",
       " 'Ġis',\n",
       " 'Ġgoing',\n",
       " 'Ġto',\n",
       " 'Ġrain',\n",
       " '!']"
      ]
     },
     "execution_count": 25,
     "metadata": {},
     "output_type": "execute_result"
    }
   ],
   "source": [
    "tokens = tokenizer.convert_ids_to_tokens(encoded_phrase['input_ids'][0])\n",
    "tokens"
   ]
  },
  {
   "cell_type": "markdown",
   "id": "a586ba2b",
   "metadata": {},
   "source": [
    "\n",
    "Lets take a look at layer index 6, head 0. Check out the almost 60% attention the token it is giving to the token class"
   ]
  },
  {
   "cell_type": "code",
   "execution_count": 26,
   "id": "728b2ec7",
   "metadata": {},
   "outputs": [
    {
     "data": {
      "text/html": [
       "<div>\n",
       "<style scoped>\n",
       "    .dataframe tbody tr th:only-of-type {\n",
       "        vertical-align: middle;\n",
       "    }\n",
       "\n",
       "    .dataframe tbody tr th {\n",
       "        vertical-align: top;\n",
       "    }\n",
       "\n",
       "    .dataframe thead th {\n",
       "        text-align: right;\n",
       "    }\n",
       "</style>\n",
       "<table border=\"1\" class=\"dataframe\">\n",
       "  <thead>\n",
       "    <tr style=\"text-align: right;\">\n",
       "      <th></th>\n",
       "      <th>Today</th>\n",
       "      <th>Ġis</th>\n",
       "      <th>Ġa</th>\n",
       "      <th>Ġbeautiful</th>\n",
       "      <th>Ġday</th>\n",
       "      <th>.</th>\n",
       "      <th>Ġbut</th>\n",
       "      <th>,</th>\n",
       "      <th>ĠIt</th>\n",
       "      <th>Ġis</th>\n",
       "      <th>Ġgoing</th>\n",
       "      <th>Ġto</th>\n",
       "      <th>Ġrain</th>\n",
       "      <th>!</th>\n",
       "    </tr>\n",
       "  </thead>\n",
       "  <tbody>\n",
       "    <tr>\n",
       "      <th>Today</th>\n",
       "      <td>1.00</td>\n",
       "      <td>0.00</td>\n",
       "      <td>0.00</td>\n",
       "      <td>0.00</td>\n",
       "      <td>0.00</td>\n",
       "      <td>0.00</td>\n",
       "      <td>0.00</td>\n",
       "      <td>0.00</td>\n",
       "      <td>0.00</td>\n",
       "      <td>0.00</td>\n",
       "      <td>0.00</td>\n",
       "      <td>0.00</td>\n",
       "      <td>0.00</td>\n",
       "      <td>0.00</td>\n",
       "    </tr>\n",
       "    <tr>\n",
       "      <th>Ġis</th>\n",
       "      <td>0.93</td>\n",
       "      <td>0.07</td>\n",
       "      <td>0.00</td>\n",
       "      <td>0.00</td>\n",
       "      <td>0.00</td>\n",
       "      <td>0.00</td>\n",
       "      <td>0.00</td>\n",
       "      <td>0.00</td>\n",
       "      <td>0.00</td>\n",
       "      <td>0.00</td>\n",
       "      <td>0.00</td>\n",
       "      <td>0.00</td>\n",
       "      <td>0.00</td>\n",
       "      <td>0.00</td>\n",
       "    </tr>\n",
       "    <tr>\n",
       "      <th>Ġa</th>\n",
       "      <td>0.29</td>\n",
       "      <td>0.70</td>\n",
       "      <td>0.02</td>\n",
       "      <td>0.00</td>\n",
       "      <td>0.00</td>\n",
       "      <td>0.00</td>\n",
       "      <td>0.00</td>\n",
       "      <td>0.00</td>\n",
       "      <td>0.00</td>\n",
       "      <td>0.00</td>\n",
       "      <td>0.00</td>\n",
       "      <td>0.00</td>\n",
       "      <td>0.00</td>\n",
       "      <td>0.00</td>\n",
       "    </tr>\n",
       "    <tr>\n",
       "      <th>Ġbeautiful</th>\n",
       "      <td>0.22</td>\n",
       "      <td>0.55</td>\n",
       "      <td>0.20</td>\n",
       "      <td>0.03</td>\n",
       "      <td>0.00</td>\n",
       "      <td>0.00</td>\n",
       "      <td>0.00</td>\n",
       "      <td>0.00</td>\n",
       "      <td>0.00</td>\n",
       "      <td>0.00</td>\n",
       "      <td>0.00</td>\n",
       "      <td>0.00</td>\n",
       "      <td>0.00</td>\n",
       "      <td>0.00</td>\n",
       "    </tr>\n",
       "    <tr>\n",
       "      <th>Ġday</th>\n",
       "      <td>0.40</td>\n",
       "      <td>0.29</td>\n",
       "      <td>0.16</td>\n",
       "      <td>0.11</td>\n",
       "      <td>0.04</td>\n",
       "      <td>0.00</td>\n",
       "      <td>0.00</td>\n",
       "      <td>0.00</td>\n",
       "      <td>0.00</td>\n",
       "      <td>0.00</td>\n",
       "      <td>0.00</td>\n",
       "      <td>0.00</td>\n",
       "      <td>0.00</td>\n",
       "      <td>0.00</td>\n",
       "    </tr>\n",
       "    <tr>\n",
       "      <th>.</th>\n",
       "      <td>0.37</td>\n",
       "      <td>0.35</td>\n",
       "      <td>0.04</td>\n",
       "      <td>0.03</td>\n",
       "      <td>0.19</td>\n",
       "      <td>0.02</td>\n",
       "      <td>0.00</td>\n",
       "      <td>0.00</td>\n",
       "      <td>0.00</td>\n",
       "      <td>0.00</td>\n",
       "      <td>0.00</td>\n",
       "      <td>0.00</td>\n",
       "      <td>0.00</td>\n",
       "      <td>0.00</td>\n",
       "    </tr>\n",
       "    <tr>\n",
       "      <th>Ġbut</th>\n",
       "      <td>0.63</td>\n",
       "      <td>0.17</td>\n",
       "      <td>0.01</td>\n",
       "      <td>0.03</td>\n",
       "      <td>0.07</td>\n",
       "      <td>0.06</td>\n",
       "      <td>0.03</td>\n",
       "      <td>0.00</td>\n",
       "      <td>0.00</td>\n",
       "      <td>0.00</td>\n",
       "      <td>0.00</td>\n",
       "      <td>0.00</td>\n",
       "      <td>0.00</td>\n",
       "      <td>0.00</td>\n",
       "    </tr>\n",
       "    <tr>\n",
       "      <th>,</th>\n",
       "      <td>0.59</td>\n",
       "      <td>0.07</td>\n",
       "      <td>0.03</td>\n",
       "      <td>0.03</td>\n",
       "      <td>0.03</td>\n",
       "      <td>0.03</td>\n",
       "      <td>0.22</td>\n",
       "      <td>0.01</td>\n",
       "      <td>0.00</td>\n",
       "      <td>0.00</td>\n",
       "      <td>0.00</td>\n",
       "      <td>0.00</td>\n",
       "      <td>0.00</td>\n",
       "      <td>0.00</td>\n",
       "    </tr>\n",
       "    <tr>\n",
       "      <th>ĠIt</th>\n",
       "      <td>0.31</td>\n",
       "      <td>0.20</td>\n",
       "      <td>0.02</td>\n",
       "      <td>0.03</td>\n",
       "      <td>0.19</td>\n",
       "      <td>0.13</td>\n",
       "      <td>0.06</td>\n",
       "      <td>0.03</td>\n",
       "      <td>0.02</td>\n",
       "      <td>0.00</td>\n",
       "      <td>0.00</td>\n",
       "      <td>0.00</td>\n",
       "      <td>0.00</td>\n",
       "      <td>0.00</td>\n",
       "    </tr>\n",
       "    <tr>\n",
       "      <th>Ġis</th>\n",
       "      <td>0.35</td>\n",
       "      <td>0.09</td>\n",
       "      <td>0.02</td>\n",
       "      <td>0.04</td>\n",
       "      <td>0.15</td>\n",
       "      <td>0.07</td>\n",
       "      <td>0.12</td>\n",
       "      <td>0.02</td>\n",
       "      <td>0.10</td>\n",
       "      <td>0.03</td>\n",
       "      <td>0.00</td>\n",
       "      <td>0.00</td>\n",
       "      <td>0.00</td>\n",
       "      <td>0.00</td>\n",
       "    </tr>\n",
       "    <tr>\n",
       "      <th>Ġgoing</th>\n",
       "      <td>0.32</td>\n",
       "      <td>0.11</td>\n",
       "      <td>0.01</td>\n",
       "      <td>0.01</td>\n",
       "      <td>0.11</td>\n",
       "      <td>0.02</td>\n",
       "      <td>0.03</td>\n",
       "      <td>0.01</td>\n",
       "      <td>0.19</td>\n",
       "      <td>0.18</td>\n",
       "      <td>0.01</td>\n",
       "      <td>0.00</td>\n",
       "      <td>0.00</td>\n",
       "      <td>0.00</td>\n",
       "    </tr>\n",
       "    <tr>\n",
       "      <th>Ġto</th>\n",
       "      <td>0.20</td>\n",
       "      <td>0.14</td>\n",
       "      <td>0.04</td>\n",
       "      <td>0.03</td>\n",
       "      <td>0.10</td>\n",
       "      <td>0.03</td>\n",
       "      <td>0.04</td>\n",
       "      <td>0.01</td>\n",
       "      <td>0.22</td>\n",
       "      <td>0.14</td>\n",
       "      <td>0.05</td>\n",
       "      <td>0.01</td>\n",
       "      <td>0.00</td>\n",
       "      <td>0.00</td>\n",
       "    </tr>\n",
       "    <tr>\n",
       "      <th>Ġrain</th>\n",
       "      <td>0.53</td>\n",
       "      <td>0.03</td>\n",
       "      <td>0.02</td>\n",
       "      <td>0.01</td>\n",
       "      <td>0.02</td>\n",
       "      <td>0.04</td>\n",
       "      <td>0.10</td>\n",
       "      <td>0.02</td>\n",
       "      <td>0.06</td>\n",
       "      <td>0.05</td>\n",
       "      <td>0.03</td>\n",
       "      <td>0.03</td>\n",
       "      <td>0.08</td>\n",
       "      <td>0.00</td>\n",
       "    </tr>\n",
       "    <tr>\n",
       "      <th>!</th>\n",
       "      <td>0.63</td>\n",
       "      <td>0.03</td>\n",
       "      <td>0.01</td>\n",
       "      <td>0.01</td>\n",
       "      <td>0.02</td>\n",
       "      <td>0.02</td>\n",
       "      <td>0.05</td>\n",
       "      <td>0.02</td>\n",
       "      <td>0.02</td>\n",
       "      <td>0.03</td>\n",
       "      <td>0.03</td>\n",
       "      <td>0.01</td>\n",
       "      <td>0.11</td>\n",
       "      <td>0.02</td>\n",
       "    </tr>\n",
       "  </tbody>\n",
       "</table>\n",
       "</div>"
      ],
      "text/plain": [
       "            Today   Ġis    Ġa  Ġbeautiful  Ġday     .  Ġbut     ,   ĠIt   Ġis  \\\n",
       "Today        1.00  0.00  0.00        0.00  0.00  0.00  0.00  0.00  0.00  0.00   \n",
       "Ġis          0.93  0.07  0.00        0.00  0.00  0.00  0.00  0.00  0.00  0.00   \n",
       "Ġa           0.29  0.70  0.02        0.00  0.00  0.00  0.00  0.00  0.00  0.00   \n",
       "Ġbeautiful   0.22  0.55  0.20        0.03  0.00  0.00  0.00  0.00  0.00  0.00   \n",
       "Ġday         0.40  0.29  0.16        0.11  0.04  0.00  0.00  0.00  0.00  0.00   \n",
       ".            0.37  0.35  0.04        0.03  0.19  0.02  0.00  0.00  0.00  0.00   \n",
       "Ġbut         0.63  0.17  0.01        0.03  0.07  0.06  0.03  0.00  0.00  0.00   \n",
       ",            0.59  0.07  0.03        0.03  0.03  0.03  0.22  0.01  0.00  0.00   \n",
       "ĠIt          0.31  0.20  0.02        0.03  0.19  0.13  0.06  0.03  0.02  0.00   \n",
       "Ġis          0.35  0.09  0.02        0.04  0.15  0.07  0.12  0.02  0.10  0.03   \n",
       "Ġgoing       0.32  0.11  0.01        0.01  0.11  0.02  0.03  0.01  0.19  0.18   \n",
       "Ġto          0.20  0.14  0.04        0.03  0.10  0.03  0.04  0.01  0.22  0.14   \n",
       "Ġrain        0.53  0.03  0.02        0.01  0.02  0.04  0.10  0.02  0.06  0.05   \n",
       "!            0.63  0.03  0.01        0.01  0.02  0.02  0.05  0.02  0.02  0.03   \n",
       "\n",
       "            Ġgoing   Ġto  Ġrain     !  \n",
       "Today         0.00  0.00   0.00  0.00  \n",
       "Ġis           0.00  0.00   0.00  0.00  \n",
       "Ġa            0.00  0.00   0.00  0.00  \n",
       "Ġbeautiful    0.00  0.00   0.00  0.00  \n",
       "Ġday          0.00  0.00   0.00  0.00  \n",
       ".             0.00  0.00   0.00  0.00  \n",
       "Ġbut          0.00  0.00   0.00  0.00  \n",
       ",             0.00  0.00   0.00  0.00  \n",
       "ĠIt           0.00  0.00   0.00  0.00  \n",
       "Ġis           0.00  0.00   0.00  0.00  \n",
       "Ġgoing        0.01  0.00   0.00  0.00  \n",
       "Ġto           0.05  0.01   0.00  0.00  \n",
       "Ġrain         0.03  0.03   0.08  0.00  \n",
       "!             0.03  0.01   0.11  0.02  "
      ]
     },
     "execution_count": 26,
     "metadata": {},
     "output_type": "execute_result"
    }
   ],
   "source": [
    "arr = response.attentions[6][0][0]\n",
    "\n",
    "n_digits = 2\n",
    "\n",
    "attention_df = pd.DataFrame((torch.round(arr * 10**n_digits) / (10**n_digits)).detach()).applymap(float)\n",
    "\n",
    "attention_df.columns = tokens\n",
    "attention_df.index = tokens\n",
    "\n",
    "attention_df"
   ]
  },
  {
   "cell_type": "markdown",
   "id": "46cab0cd",
   "metadata": {},
   "source": [
    "`is` has the highest access to `today` 93%!. Lets have a better visualization for each layer (12) and head (12)."
   ]
  },
  {
   "cell_type": "code",
   "execution_count": 27,
   "id": "c307cd5b",
   "metadata": {},
   "outputs": [
    {
     "data": {
      "text/html": [
       "<script src=\"https://cdnjs.cloudflare.com/ajax/libs/require.js/2.3.6/require.min.js\"></script>"
      ],
      "text/plain": [
       "<IPython.core.display.HTML object>"
      ]
     },
     "metadata": {},
     "output_type": "display_data"
    },
    {
     "data": {
      "text/html": [
       "      \n",
       "        <div id=\"bertviz-4cc8e338ddb743e5b30a50556a35451a\" style=\"font-family:'Helvetica Neue', Helvetica, Arial, sans-serif;\">\n",
       "            <span style=\"user-select:none\">\n",
       "                \n",
       "            </span>\n",
       "            <div id='vis'></div>\n",
       "        </div>\n",
       "    "
      ],
      "text/plain": [
       "<IPython.core.display.HTML object>"
      ]
     },
     "metadata": {},
     "output_type": "display_data"
    },
    {
     "data": {
      "application/javascript": [
       "/**\n",
       " * @fileoverview Transformer Visualization D3 javascript code.\n",
       " *\n",
       " * Based on: https://github.com/tensorflow/tensor2tensor/blob/master/tensor2tensor/visualization/attention.js\n",
       " *\n",
       " * Change log:\n",
       " *\n",
       " * 02/01/19  Jesse Vig   Initial implementation\n",
       " * 12/31/20  Jesse Vig   Support multiple visualizations in single notebook.\n",
       " * 01/19/21  Jesse Vig   Support light/dark modes\n",
       " * 02/06/21  Jesse Vig   Move require config from separate jupyter notebook step\n",
       " * 05/03/21  Jesse Vig   Adjust visualization height dynamically\n",
       " * 03/23/22  Daniel SC   Update requirement URLs for d3 and jQuery (source of bug not allowing end result to be displayed on browsers)\n",
       " **/\n",
       "\n",
       "require.config({\n",
       "  paths: {\n",
       "      d3: 'https://cdnjs.cloudflare.com/ajax/libs/d3/5.7.0/d3.min',\n",
       "    jquery: 'https://cdnjs.cloudflare.com/ajax/libs/jquery/2.0.0/jquery.min',\n",
       "  }\n",
       "});\n",
       "\n",
       "requirejs(['jquery', 'd3'], function($, d3) {\n",
       "\n",
       "        const params = {\"attention\": [{\"name\": null, \"attn\": [[[[1.0, 0.0, 0.0, 0.0, 0.0, 0.0, 0.0, 0.0, 0.0, 0.0, 0.0, 0.0, 0.0, 0.0], [0.9515315294265747, 0.04846848547458649, 0.0, 0.0, 0.0, 0.0, 0.0, 0.0, 0.0, 0.0, 0.0, 0.0, 0.0, 0.0], [0.8371977210044861, 0.10807578265666962, 0.05472651869058609, 0.0, 0.0, 0.0, 0.0, 0.0, 0.0, 0.0, 0.0, 0.0, 0.0, 0.0], [0.6570507287979126, 0.11472555249929428, 0.12057040631771088, 0.10765334218740463, 0.0, 0.0, 0.0, 0.0, 0.0, 0.0, 0.0, 0.0, 0.0, 0.0], [0.4250752627849579, 0.16621841490268707, 0.08201197534799576, 0.20811595022678375, 0.11857839673757553, 0.0, 0.0, 0.0, 0.0, 0.0, 0.0, 0.0, 0.0, 0.0], [0.5436259508132935, 0.06904935836791992, 0.05872702971100807, 0.2243455946445465, 0.08406393975019455, 0.020188163965940475, 0.0, 0.0, 0.0, 0.0, 0.0, 0.0, 0.0, 0.0], [0.3925670087337494, 0.13477389514446259, 0.06957445293664932, 0.22448067367076874, 0.057906415313482285, 0.03981964662671089, 0.08087794482707977, 0.0, 0.0, 0.0, 0.0, 0.0, 0.0, 0.0], [0.46130117774009705, 0.05892394483089447, 0.046758219599723816, 0.236050084233284, 0.06545499712228775, 0.025325065478682518, 0.0885101780295372, 0.0176763404160738, 0.0, 0.0, 0.0, 0.0, 0.0, 0.0], [0.3041269779205322, 0.08210436254739761, 0.03819877281785011, 0.14894407987594604, 0.04448367655277252, 0.030204888433218002, 0.100267194211483, 0.052971962839365005, 0.19869820773601532, 0.0, 0.0, 0.0, 0.0, 0.0], [0.29777202010154724, 0.04680249094963074, 0.0307588130235672, 0.14298385381698608, 0.056889113038778305, 0.02837720885872841, 0.07096921652555466, 0.037012286484241486, 0.23971733450889587, 0.048717621713876724, 0.0, 0.0, 0.0, 0.0], [0.20996564626693726, 0.0851886123418808, 0.04177870228886604, 0.16333843767642975, 0.06068519130349159, 0.036397553980350494, 0.06420238316059113, 0.043603166937828064, 0.12328807264566422, 0.09856019169092178, 0.07299205660820007, 0.0, 0.0, 0.0], [0.3178706765174866, 0.06485151499509811, 0.028917409479618073, 0.09591559320688248, 0.05850592255592346, 0.021412041038274765, 0.03957638889551163, 0.029070932418107986, 0.14974617958068848, 0.07744894176721573, 0.09839033335447311, 0.018293943256139755, 0.0, 0.0], [0.4529760777950287, 0.027009449899196625, 0.030047807842493057, 0.055707789957523346, 0.10885608196258545, 0.02645491622388363, 0.017321981489658356, 0.02666459046304226, 0.011517399922013283, 0.01979781873524189, 0.03370535373687744, 0.033009517937898636, 0.15693111717700958, 0.0], [0.18276084959506989, 0.03288065642118454, 0.021106332540512085, 0.1151684820652008, 0.03370136767625809, 0.01692141592502594, 0.06490632891654968, 0.0186226274818182, 0.16050179302692413, 0.03308846056461334, 0.08272909373044968, 0.018964728340506554, 0.17676030099391937, 0.04188759997487068]], [[1.0, 0.0, 0.0, 0.0, 0.0, 0.0, 0.0, 0.0, 0.0, 0.0, 0.0, 0.0, 0.0, 0.0], [0.0062592485919594765, 0.9937407374382019, 0.0, 0.0, 0.0, 0.0, 0.0, 0.0, 0.0, 0.0, 0.0, 0.0, 0.0, 0.0], [0.00150681019295007, 0.0037337043322622776, 0.9947595000267029, 0.0, 0.0, 0.0, 0.0, 0.0, 0.0, 0.0, 0.0, 0.0, 0.0, 0.0], [0.00043493261910043657, 0.0003479104198049754, 0.00046875947737134993, 0.9987484216690063, 0.0, 0.0, 0.0, 0.0, 0.0, 0.0, 0.0, 0.0, 0.0, 0.0], [0.0028771355282515287, 0.0019451722037047148, 0.00045476664672605693, 0.006157218478620052, 0.9885657429695129, 0.0, 0.0, 0.0, 0.0, 0.0, 0.0, 0.0, 0.0, 0.0], [0.004738570190966129, 0.0007618906092830002, 0.001394110731780529, 0.0004574357299134135, 0.001728886622004211, 0.9909191131591797, 0.0, 0.0, 0.0, 0.0, 0.0, 0.0, 0.0, 0.0], [0.00020383346418384463, 0.0005757694598287344, 0.0014378129271790385, 0.00024888248299248517, 0.000416159862652421, 0.0028290124610066414, 0.994288444519043, 0.0, 0.0, 0.0, 0.0, 0.0, 0.0, 0.0], [0.004111753776669502, 0.0061829364858567715, 0.0007867888198234141, 5.072338171885349e-05, 0.0004763805482070893, 0.040895137935876846, 0.0022576311603188515, 0.9452385902404785, 0.0, 0.0, 0.0, 0.0, 0.0, 0.0], [0.00075718475272879, 0.0034433312248438597, 0.002929594600573182, 0.0005394601612351835, 0.0001892700238386169, 0.0001258062111446634, 0.0022541412618011236, 0.00012018142297165468, 0.9896411299705505, 0.0, 0.0, 0.0, 0.0, 0.0], [0.0012771381298080087, 0.4731235206127167, 0.0006713979528285563, 0.00014317153545562178, 0.0006499978480860591, 0.00015554274432361126, 0.00030305612017400563, 0.002758920891210437, 0.0014577676774933934, 0.5194595456123352, 0.0, 0.0, 0.0, 0.0], [0.00042003378621302545, 0.001038462040014565, 0.001100087189115584, 9.475320985075086e-05, 0.0005438399384729564, 0.00015215286111924797, 0.00024824621505104005, 9.875342948362231e-05, 0.00018255696340929717, 0.00028025361825712025, 0.995840847492218, 0.0, 0.0, 0.0], [0.0015868470072746277, 0.0023120867554098368, 0.0032385990489274263, 0.0001098712018574588, 0.00032906694104894996, 0.01030585914850235, 0.008124342188239098, 0.010170781053602695, 0.0012844429584220052, 0.0008574622916057706, 0.0034948461689054966, 0.9581857919692993, 0.0, 0.0], [9.045595652423799e-05, 0.00015177125169429928, 0.00021400216792244464, 0.0005708090611733496, 0.0007400045869871974, 2.101861718983855e-05, 0.00012362601410131902, 6.937742000445724e-05, 5.639655500999652e-05, 3.202689185854979e-05, 0.00018979495507664979, 7.507355621783063e-05, 0.9976657629013062, 0.0], [0.0024761378299444914, 0.00018021304276771843, 2.563859561632853e-05, 0.0020110297482460737, 0.00021121909958310425, 0.0026192301884293556, 0.0001893998560262844, 0.0013670664047822356, 9.119218157138675e-05, 3.6752222513314337e-05, 0.0002023683045990765, 0.0003454974212218076, 9.505330672254786e-05, 0.9901491403579712]], [[1.0, 0.0, 0.0, 0.0, 0.0, 0.0, 0.0, 0.0, 0.0, 0.0, 0.0, 0.0, 0.0, 0.0], [0.8529582619667053, 0.14704176783561707, 0.0, 0.0, 0.0, 0.0, 0.0, 0.0, 0.0, 0.0, 0.0, 0.0, 0.0, 0.0], [0.7013070583343506, 0.22054897248744965, 0.07814402878284454, 0.0, 0.0, 0.0, 0.0, 0.0, 0.0, 0.0, 0.0, 0.0, 0.0, 0.0], [0.5466662645339966, 0.1661989390850067, 0.18797554075717926, 0.09915930032730103, 0.0, 0.0, 0.0, 0.0, 0.0, 0.0, 0.0, 0.0, 0.0, 0.0], [0.48856890201568604, 0.1490434855222702, 0.16525909304618835, 0.10122311860322952, 0.09590540826320648, 0.0, 0.0, 0.0, 0.0, 0.0, 0.0, 0.0, 0.0, 0.0], [0.5224892497062683, 0.27761390805244446, 0.03248763084411621, 0.030236992985010147, 0.06905099004507065, 0.06812125444412231, 0.0, 0.0, 0.0, 0.0, 0.0, 0.0, 0.0, 0.0], [0.28881388902664185, 0.0972641259431839, 0.029726603999733925, 0.055680111050605774, 0.058453235775232315, 0.33120813965797424, 0.1388537883758545, 0.0, 0.0, 0.0, 0.0, 0.0, 0.0, 0.0], [0.19341272115707397, 0.05920462682843208, 0.013136448338627815, 0.020591966807842255, 0.020463455468416214, 0.289863646030426, 0.06621211022138596, 0.33711501955986023, 0.0, 0.0, 0.0, 0.0, 0.0, 0.0], [0.24670200049877167, 0.1623975783586502, 0.04546136409044266, 0.0655331239104271, 0.08052433282136917, 0.16668757796287537, 0.09482768923044205, 0.05430295690894127, 0.08356337994337082, 0.0, 0.0, 0.0, 0.0, 0.0], [0.20211485028266907, 0.1253175437450409, 0.03723939135670662, 0.06854179501533508, 0.07072631269693375, 0.15147003531455994, 0.09535308182239532, 0.04827422648668289, 0.08368393033742905, 0.1172787994146347, 0.0, 0.0, 0.0, 0.0], [0.21068771183490753, 0.08528323471546173, 0.07159087806940079, 0.04337038844823837, 0.09110879898071289, 0.14073701202869415, 0.10956554114818573, 0.047678686678409576, 0.09590131044387817, 0.06693225353956223, 0.03714423254132271, 0.0, 0.0, 0.0], [0.126879021525383, 0.06418416649103165, 0.026548605412244797, 0.04437446966767311, 0.04799670726060867, 0.22283439338207245, 0.097787044942379, 0.05177241563796997, 0.05228409916162491, 0.052161071449518204, 0.07132793217897415, 0.14184990525245667, 0.0, 0.0], [0.17410531640052795, 0.046863116323947906, 0.08707885444164276, 0.16499502956867218, 0.05257666856050491, 0.054134853184223175, 0.05532838776707649, 0.05013791844248772, 0.07344287633895874, 0.03319874405860901, 0.05375515669584274, 0.07934339344501495, 0.07503966987133026, 0.0], [0.1918189823627472, 0.11896130442619324, 0.021804876625537872, 0.039758410304784775, 0.07567637413740158, 0.07515072822570801, 0.049853965640068054, 0.02920345589518547, 0.09647678583860397, 0.1234252080321312, 0.06461198627948761, 0.03295926749706268, 0.012088089250028133, 0.06821044534444809]], [[1.0, 0.0, 0.0, 0.0, 0.0, 0.0, 0.0, 0.0, 0.0, 0.0, 0.0, 0.0, 0.0, 0.0], [0.6883413791656494, 0.3116585910320282, 0.0, 0.0, 0.0, 0.0, 0.0, 0.0, 0.0, 0.0, 0.0, 0.0, 0.0, 0.0], [0.1482812464237213, 0.20962344110012054, 0.6420953273773193, 0.0, 0.0, 0.0, 0.0, 0.0, 0.0, 0.0, 0.0, 0.0, 0.0, 0.0], [0.019525127485394478, 0.0012161909835413098, 0.002730060601606965, 0.9765285849571228, 0.0, 0.0, 0.0, 0.0, 0.0, 0.0, 0.0, 0.0, 0.0, 0.0], [0.08685220032930374, 0.0063209617510437965, 0.00606634933501482, 0.05368155241012573, 0.8470789194107056, 0.0, 0.0, 0.0, 0.0, 0.0, 0.0, 0.0, 0.0, 0.0], [0.07343227416276932, 0.09232106804847717, 0.06240741163492203, 0.08730565011501312, 0.23195050656795502, 0.45258310437202454, 0.0, 0.0, 0.0, 0.0, 0.0, 0.0, 0.0, 0.0], [0.008146470412611961, 0.007366066798567772, 0.013453475199639797, 0.007307607214897871, 0.00598360039293766, 0.07402709126472473, 0.8837156295776367, 0.0, 0.0, 0.0, 0.0, 0.0, 0.0, 0.0], [0.049487125128507614, 0.022921886295080185, 0.013186951167881489, 0.005842094775289297, 0.017991207540035248, 0.07648131996393204, 0.17786245048046112, 0.6362269520759583, 0.0, 0.0, 0.0, 0.0, 0.0, 0.0], [0.0017067898297682405, 0.00032691811793483794, 0.00025512275169603527, 0.00020767460227943957, 0.00023789195984136313, 0.001340213231742382, 0.0038340764585882425, 0.014041939750313759, 0.9780494570732117, 0.0, 0.0, 0.0, 0.0, 0.0], [0.012011529877781868, 0.0034593057353049517, 0.0019376651616767049, 0.0008246193756349385, 0.001844235579483211, 0.005730451084673405, 0.010251353494822979, 0.04372015222907066, 0.17986775934696198, 0.7403530478477478, 0.0, 0.0, 0.0, 0.0], [0.007571609225124121, 0.0002903028507716954, 0.00016151886666193604, 0.000136602291604504, 0.0008062534034252167, 0.0008741483325138688, 0.0037004402838647366, 0.006063179112970829, 0.052532076835632324, 0.028709664940834045, 0.8991543054580688, 0.0, 0.0, 0.0], [0.002984953811392188, 0.0014576943358406425, 0.0010320014553144574, 0.00023093854542821646, 0.000717961578629911, 0.0026926295831799507, 0.004144199658185244, 0.014909131452441216, 0.030161473900079727, 0.11141161620616913, 0.1257968544960022, 0.7044605612754822, 0.0, 0.0], [0.0021906187757849693, 6.154326115392905e-07, 5.521033585864643e-07, 3.0214105208870023e-05, 3.094610292464495e-05, 2.345686425542226e-06, 1.2106077520002145e-05, 7.432322036038386e-06, 4.305571201257408e-05, 5.2787134336540475e-05, 0.0007446557865478098, 0.00018165516667068005, 0.9967029690742493, 0.0], [0.0028494216967374086, 0.00021266638941597193, 0.00011940031254198402, 0.00041750766104087234, 0.00020392680016811937, 0.0004902016371488571, 0.0007183427806012332, 0.001853498280979693, 0.007403581403195858, 0.018282810226082802, 0.009639722295105457, 0.02557467669248581, 0.01602480374276638, 0.9162095189094543]], [[1.0, 0.0, 0.0, 0.0, 0.0, 0.0, 0.0, 0.0, 0.0, 0.0, 0.0, 0.0, 0.0, 0.0], [0.9672309160232544, 0.03276907280087471, 0.0, 0.0, 0.0, 0.0, 0.0, 0.0, 0.0, 0.0, 0.0, 0.0, 0.0, 0.0], [0.6433993577957153, 0.20773275196552277, 0.1488678902387619, 0.0, 0.0, 0.0, 0.0, 0.0, 0.0, 0.0, 0.0, 0.0, 0.0, 0.0], [0.19229182600975037, 0.011974216438829899, 0.012693984434008598, 0.7830399870872498, 0.0, 0.0, 0.0, 0.0, 0.0, 0.0, 0.0, 0.0, 0.0, 0.0], [0.24562999606132507, 0.020583027973771095, 0.03683680295944214, 0.5363954901695251, 0.1605546623468399, 0.0, 0.0, 0.0, 0.0, 0.0, 0.0, 0.0, 0.0, 0.0], [0.14475281536579132, 0.08257143199443817, 0.07498078793287277, 0.20386400818824768, 0.1634543538093567, 0.33037659525871277, 0.0, 0.0, 0.0, 0.0, 0.0, 0.0, 0.0, 0.0], [0.0625394657254219, 0.13811179995536804, 0.11050567030906677, 0.12553849816322327, 0.09808355569839478, 0.09332062304019928, 0.37190037965774536, 0.0, 0.0, 0.0, 0.0, 0.0, 0.0, 0.0], [0.3890868127346039, 0.07418317347764969, 0.01876964420080185, 0.0524071604013443, 0.049179479479789734, 0.05230456590652466, 0.10816974192857742, 0.25589948892593384, 0.0, 0.0, 0.0, 0.0, 0.0, 0.0], [0.05607123672962189, 0.03997799754142761, 0.028642626479268074, 0.027350228279829025, 0.04078981280326843, 0.049450602382421494, 0.13513101637363434, 0.0861077755689621, 0.5364786386489868, 0.0, 0.0, 0.0, 0.0, 0.0], [0.0902906134724617, 0.030829403549432755, 0.019226664677262306, 0.05130872130393982, 0.03480135649442673, 0.0253693126142025, 0.06862779706716537, 0.06293250620365143, 0.267777681350708, 0.34883588552474976, 0.0, 0.0, 0.0, 0.0], [0.061261601746082306, 0.024258114397525787, 0.01383892074227333, 0.022650495171546936, 0.03545123711228371, 0.020657137036323547, 0.04983234032988548, 0.048397358506917953, 0.08794696629047394, 0.18083396553993225, 0.4548717737197876, 0.0, 0.0, 0.0], [0.01299845241010189, 0.004495479166507721, 0.0033444082364439964, 0.009668556042015553, 0.004464072175323963, 0.004117762669920921, 0.013089817017316818, 0.006895777303725481, 0.03676686808466911, 0.04920339956879616, 0.7492069602012634, 0.10574847459793091, 0.0, 0.0], [0.015068127773702145, 0.0007063016528263688, 0.00034193950705230236, 0.0019617441575974226, 0.0010900268098339438, 0.00078914116602391, 0.0013285002205520868, 0.0013538965722545981, 0.0031570601277053356, 0.003069957485422492, 0.01386007945984602, 0.0029963620472699404, 0.954276978969574, 0.0], [0.02900119684636593, 0.00892006978392601, 0.011903878301382065, 0.028389813378453255, 0.012928572483360767, 0.020591270178556442, 0.0285060852766037, 0.02756515145301819, 0.053567200899124146, 0.055050067603588104, 0.11544600129127502, 0.16953253746032715, 0.06858371943235397, 0.370014488697052]], [[1.0, 0.0, 0.0, 0.0, 0.0, 0.0, 0.0, 0.0, 0.0, 0.0, 0.0, 0.0, 0.0, 0.0], [0.05416083335876465, 0.9458391666412354, 0.0, 0.0, 0.0, 0.0, 0.0, 0.0, 0.0, 0.0, 0.0, 0.0, 0.0, 0.0], [0.07158657908439636, 0.11927434056997299, 0.80913907289505, 0.0, 0.0, 0.0, 0.0, 0.0, 0.0, 0.0, 0.0, 0.0, 0.0, 0.0], [0.015847647562623024, 4.6142090468492825e-06, 6.903310804773355e-06, 0.9841408729553223, 0.0, 0.0, 0.0, 0.0, 0.0, 0.0, 0.0, 0.0, 0.0, 0.0], [0.03599949926137924, 5.508206595550291e-05, 9.538925951346755e-05, 0.0009076678543351591, 0.962942361831665, 0.0, 0.0, 0.0, 0.0, 0.0, 0.0, 0.0, 0.0, 0.0], [0.2465745210647583, 0.08203054219484329, 0.15775175392627716, 0.02529294602572918, 0.07559661567211151, 0.412753701210022, 0.0, 0.0, 0.0, 0.0, 0.0, 0.0, 0.0, 0.0], [0.02708391286432743, 0.0054193660616874695, 0.01612045057117939, 0.0020291460677981377, 0.00319810607470572, 0.0022206855937838554, 0.9439283013343811, 0.0, 0.0, 0.0, 0.0, 0.0, 0.0, 0.0], [0.10299275815486908, 0.11786855757236481, 0.17652812600135803, 0.021382339298725128, 0.053333915770053864, 0.1604873687028885, 0.09764520823955536, 0.26976174116134644, 0.0, 0.0, 0.0, 0.0, 0.0, 0.0], [0.06699205935001373, 0.005693914368748665, 0.001534098177216947, 0.0004767462960444391, 5.519212209037505e-05, 0.00018114135309588164, 0.00047852229909040034, 9.922746539814398e-05, 0.9244890809059143, 0.0, 0.0, 0.0, 0.0, 0.0], [0.0028084011282771826, 0.6047285199165344, 0.003274305956438184, 0.00017601496074348688, 0.00012995560246054083, 0.0007054891320876777, 0.00025742893922142684, 0.0011598396813496947, 0.0009874547831714153, 0.38577261567115784, 0.0, 0.0, 0.0, 0.0], [0.027767254039645195, 0.0012940019369125366, 0.0002992704976350069, 0.00012769580644089729, 8.355389581993222e-05, 2.2011974579072557e-05, 8.413696195930243e-05, 1.0970866242132615e-05, 0.0002304899098817259, 6.896882405271754e-05, 0.9700115919113159, 0.0, 0.0, 0.0], [0.018799472600221634, 0.11401814222335815, 0.3044861853122711, 0.01459226943552494, 0.010697770863771439, 0.03382658585906029, 0.029965728521347046, 0.02172570675611496, 0.032633110880851746, 0.042753737419843674, 0.02960214577615261, 0.3468991219997406, 0.0, 0.0], [0.0010815252317115664, 4.294068389754102e-07, 4.1159731267725874e-07, 2.921020677604247e-05, 1.8972472389577888e-05, 5.00333285913257e-08, 2.645001870860142e-07, 1.681872419112551e-08, 9.497338027131264e-08, 1.488951095751645e-08, 6.115219548519235e-07, 3.172284479546761e-08, 0.9988685846328735, 0.0], [0.05602048709988594, 0.0002163230674341321, 0.0003877798735629767, 0.00967614445835352, 0.0005807863199152052, 0.0003245519183110446, 7.520819053752348e-05, 0.00027470398345030844, 0.0006559771718457341, 3.2534648198634386e-05, 4.992089088773355e-05, 7.767699571559206e-05, 0.00028941952041350305, 0.9313386082649231]], [[1.0, 0.0, 0.0, 0.0, 0.0, 0.0, 0.0, 0.0, 0.0, 0.0, 0.0, 0.0, 0.0, 0.0], [0.9769169688224792, 0.02308306097984314, 0.0, 0.0, 0.0, 0.0, 0.0, 0.0, 0.0, 0.0, 0.0, 0.0, 0.0, 0.0], [0.9109213352203369, 0.0667414590716362, 0.02233722247183323, 0.0, 0.0, 0.0, 0.0, 0.0, 0.0, 0.0, 0.0, 0.0, 0.0, 0.0], [0.6110653281211853, 0.047330714762210846, 0.0762808546423912, 0.26532313227653503, 0.0, 0.0, 0.0, 0.0, 0.0, 0.0, 0.0, 0.0, 0.0, 0.0], [0.5152913928031921, 0.07610814273357391, 0.057981159538030624, 0.22907856106758118, 0.12154078483581543, 0.0, 0.0, 0.0, 0.0, 0.0, 0.0, 0.0, 0.0, 0.0], [0.6099100112915039, 0.04005200043320656, 0.020220130681991577, 0.25194019079208374, 0.07132185250520706, 0.006555858533829451, 0.0, 0.0, 0.0, 0.0, 0.0, 0.0, 0.0, 0.0], [0.3655027747154236, 0.04699718579649925, 0.05750197172164917, 0.3197908401489258, 0.12091415375471115, 0.037330348044633865, 0.051962826400995255, 0.0, 0.0, 0.0, 0.0, 0.0, 0.0, 0.0], [0.5340591073036194, 0.0510811023414135, 0.018507160246372223, 0.2555318772792816, 0.0860789567232132, 0.00852796621620655, 0.03762955591082573, 0.008584310300648212, 0.0, 0.0, 0.0, 0.0, 0.0, 0.0], [0.40756964683532715, 0.037833403795957565, 0.032521650195121765, 0.2826492488384247, 0.11262141913175583, 0.019831940531730652, 0.047810330986976624, 0.022225119173526764, 0.03693723678588867, 0.0, 0.0, 0.0, 0.0, 0.0], [0.3442043960094452, 0.03166527673602104, 0.01401456817984581, 0.31756970286369324, 0.13634461164474487, 0.014530349522829056, 0.05636860802769661, 0.012176102958619595, 0.0386977344751358, 0.03442860394716263, 0.0, 0.0, 0.0, 0.0], [0.2793005406856537, 0.03090185858309269, 0.03764478862285614, 0.2476479858160019, 0.16453894972801208, 0.028901588171720505, 0.048432935029268265, 0.025914696976542473, 0.03254853934049606, 0.02427363209426403, 0.07989446073770523, 0.0, 0.0, 0.0], [0.25825995206832886, 0.02305523492395878, 0.008227556012570858, 0.08509443700313568, 0.05504767596721649, 0.007707573007792234, 0.024861717596650124, 0.006425464525818825, 0.020128972828388214, 0.02012033574283123, 0.10789743065834045, 0.3831735849380493, 0.0, 0.0], [0.3239211142063141, 0.028345806524157524, 0.04255911707878113, 0.12791654467582703, 0.08275808393955231, 0.0483902208507061, 0.028833119198679924, 0.03418997302651405, 0.028164131566882133, 0.01628360152244568, 0.025863900780677795, 0.024437570944428444, 0.18833686411380768, 0.0], [0.2902153432369232, 0.02689523622393608, 0.023095138370990753, 0.24189125001430511, 0.05980132147669792, 0.015976136550307274, 0.02636212296783924, 0.018589012324810028, 0.027507435530424118, 0.01853659376502037, 0.04530975595116615, 0.01678948849439621, 0.14971067011356354, 0.0393204465508461]], [[1.0, 0.0, 0.0, 0.0, 0.0, 0.0, 0.0, 0.0, 0.0, 0.0, 0.0, 0.0, 0.0, 0.0], [0.9533714652061462, 0.04662855342030525, 0.0, 0.0, 0.0, 0.0, 0.0, 0.0, 0.0, 0.0, 0.0, 0.0, 0.0, 0.0], [0.497855007648468, 0.31853270530700684, 0.18361222743988037, 0.0, 0.0, 0.0, 0.0, 0.0, 0.0, 0.0, 0.0, 0.0, 0.0, 0.0], [0.26472207903862, 0.1919892132282257, 0.351383239030838, 0.1919054090976715, 0.0, 0.0, 0.0, 0.0, 0.0, 0.0, 0.0, 0.0, 0.0, 0.0], [0.14614446461200714, 0.10725779086351395, 0.12796446681022644, 0.5393722057342529, 0.07926097512245178, 0.0, 0.0, 0.0, 0.0, 0.0, 0.0, 0.0, 0.0, 0.0], [0.09717176109552383, 0.08498357236385345, 0.12312179058790207, 0.14442019164562225, 0.15449731051921844, 0.39580532908439636, 0.0, 0.0, 0.0, 0.0, 0.0, 0.0, 0.0, 0.0], [0.07415071874856949, 0.048145074397325516, 0.06389559060335159, 0.1011972427368164, 0.09303560853004456, 0.38153108954429626, 0.23804466426372528, 0.0, 0.0, 0.0, 0.0, 0.0, 0.0, 0.0], [0.04317241534590721, 0.025501597672700882, 0.033546485006809235, 0.07544295489788055, 0.06337672472000122, 0.23560355603694916, 0.2630894184112549, 0.26026684045791626, 0.0, 0.0, 0.0, 0.0, 0.0, 0.0], [0.04085284471511841, 0.016622290015220642, 0.02256951853632927, 0.016065599396824837, 0.013694929890334606, 0.21781295537948608, 0.15542207658290863, 0.239486962556839, 0.27747273445129395, 0.0, 0.0, 0.0, 0.0, 0.0], [0.030506931245326996, 0.008333928883075714, 0.013763677328824997, 0.0169982947409153, 0.02741863578557968, 0.09986723959445953, 0.11552993953227997, 0.13777650892734528, 0.3090183734893799, 0.24078646302223206, 0.0, 0.0, 0.0, 0.0], [0.03620860353112221, 0.011457039043307304, 0.014401346445083618, 0.008975174278020859, 0.0160867590457201, 0.0719841793179512, 0.07239767163991928, 0.11677206307649612, 0.18247027695178986, 0.3422010540962219, 0.12704578042030334, 0.0, 0.0, 0.0], [0.02462575025856495, 0.006386379711329937, 0.007749604992568493, 0.01683787815272808, 0.013730189763009548, 0.04638854041695595, 0.045855313539505005, 0.06244019791483879, 0.1398496776819229, 0.14622758328914642, 0.255595326423645, 0.23431360721588135, 0.0, 0.0], [0.02753957360982895, 0.017665386199951172, 0.015574044547975063, 0.015651879832148552, 0.006437052972614765, 0.04962044209241867, 0.048311054706573486, 0.07101378589868546, 0.12032958120107651, 0.2173784077167511, 0.07136081904172897, 0.2863856554031372, 0.052732352167367935, 0.0], [0.019618568941950798, 0.006581765133887529, 0.007235296070575714, 0.009194494225084782, 0.008498389273881912, 0.019462360069155693, 0.025012480095028877, 0.030834347009658813, 0.08623374253511429, 0.06660126894712448, 0.10175339877605438, 0.13772138953208923, 0.15928366780281067, 0.3219688832759857]], [[1.0, 0.0, 0.0, 0.0, 0.0, 0.0, 0.0, 0.0, 0.0, 0.0, 0.0, 0.0, 0.0, 0.0], [0.42868494987487793, 0.5713150501251221, 0.0, 0.0, 0.0, 0.0, 0.0, 0.0, 0.0, 0.0, 0.0, 0.0, 0.0, 0.0], [0.07169992476701736, 0.2895478904247284, 0.6387522220611572, 0.0, 0.0, 0.0, 0.0, 0.0, 0.0, 0.0, 0.0, 0.0, 0.0, 0.0], [0.4170326292514801, 0.2257279008626938, 0.2736947238445282, 0.08354479819536209, 0.0, 0.0, 0.0, 0.0, 0.0, 0.0, 0.0, 0.0, 0.0, 0.0], [0.12669432163238525, 0.1426936835050583, 0.29616308212280273, 0.38530367612838745, 0.04914521798491478, 0.0, 0.0, 0.0, 0.0, 0.0, 0.0, 0.0, 0.0, 0.0], [0.03968429192900658, 0.13526488840579987, 0.19801145792007446, 0.01326672825962305, 0.019693145528435707, 0.5940794348716736, 0.0, 0.0, 0.0, 0.0, 0.0, 0.0, 0.0, 0.0], [0.06271132081747055, 0.18582095205783844, 0.26720130443573, 0.0268805343657732, 0.04366673529148102, 0.32718077301979065, 0.08653835952281952, 0.0, 0.0, 0.0, 0.0, 0.0, 0.0, 0.0], [0.02290431410074234, 0.1280917227268219, 0.14394184947013855, 0.010441122576594353, 0.015940558165311813, 0.2948271334171295, 0.038179218769073486, 0.3456740379333496, 0.0, 0.0, 0.0, 0.0, 0.0, 0.0], [0.04512615501880646, 0.17746485769748688, 0.1745811551809311, 0.025232352316379547, 0.03127642348408699, 0.17361502349376678, 0.05253417417407036, 0.23068015277385712, 0.08948966860771179, 0.0, 0.0, 0.0, 0.0, 0.0], [0.021734463050961494, 0.10760141164064407, 0.1237536072731018, 0.013764915056526661, 0.016775311902165413, 0.14940758049488068, 0.045268576592206955, 0.20383957028388977, 0.061246685683727264, 0.2566078305244446, 0.0, 0.0, 0.0, 0.0], [0.0555257685482502, 0.1223127469420433, 0.12026523798704147, 0.05053580552339554, 0.033602744340896606, 0.08569662272930145, 0.07359568774700165, 0.1196846291422844, 0.07893261313438416, 0.2247997373342514, 0.035048387944698334, 0.0, 0.0, 0.0], [0.010678254999220371, 0.06541915237903595, 0.11007663607597351, 0.00912469532340765, 0.013632775284349918, 0.12781667709350586, 0.03663251921534538, 0.16302260756492615, 0.03651055321097374, 0.16497285664081573, 0.018215034157037735, 0.24389824271202087, 0.0, 0.0], [0.15737295150756836, 0.060094818472862244, 0.08272083848714828, 0.07539233565330505, 0.050855424255132675, 0.059453971683979034, 0.07674350589513779, 0.05897253379225731, 0.052650708705186844, 0.04629465192556381, 0.06094949692487717, 0.08607514202594757, 0.132423534989357, 0.0], [0.03005017340183258, 0.06513921171426773, 0.06146857887506485, 0.007259614299982786, 0.016203178092837334, 0.16551589965820312, 0.038769401609897614, 0.1936502307653427, 0.05081963911652565, 0.09337513148784637, 0.02565900608897209, 0.16421595215797424, 0.013133909553289413, 0.07474005967378616]], [[1.0, 0.0, 0.0, 0.0, 0.0, 0.0, 0.0, 0.0, 0.0, 0.0, 0.0, 0.0, 0.0, 0.0], [0.7363795042037964, 0.2636204659938812, 0.0, 0.0, 0.0, 0.0, 0.0, 0.0, 0.0, 0.0, 0.0, 0.0, 0.0, 0.0], [0.5515176057815552, 0.21763229370117188, 0.23085004091262817, 0.0, 0.0, 0.0, 0.0, 0.0, 0.0, 0.0, 0.0, 0.0, 0.0, 0.0], [0.48780161142349243, 0.22450196743011475, 0.2102426141500473, 0.07745378464460373, 0.0, 0.0, 0.0, 0.0, 0.0, 0.0, 0.0, 0.0, 0.0, 0.0], [0.39514249563217163, 0.19528064131736755, 0.18674449622631073, 0.12209828197956085, 0.10073401033878326, 0.0, 0.0, 0.0, 0.0, 0.0, 0.0, 0.0, 0.0, 0.0], [0.3222687840461731, 0.15745078027248383, 0.14971008896827698, 0.09969987720251083, 0.12175944447517395, 0.14911103248596191, 0.0, 0.0, 0.0, 0.0, 0.0, 0.0, 0.0, 0.0], [0.27452465891838074, 0.1380094289779663, 0.1328103393316269, 0.08984176814556122, 0.098826564848423, 0.1311228722333908, 0.13486437499523163, 0.0, 0.0, 0.0, 0.0, 0.0, 0.0, 0.0], [0.24853134155273438, 0.122362419962883, 0.11609289795160294, 0.06998350471258163, 0.08652948588132858, 0.11507033556699753, 0.13121739029884338, 0.1102125495672226, 0.0, 0.0, 0.0, 0.0, 0.0, 0.0], [0.1911597102880478, 0.11427469551563263, 0.10301869362592697, 0.05733983591198921, 0.07047723233699799, 0.11010465025901794, 0.13153032958507538, 0.1043023094534874, 0.11779262125492096, 0.0, 0.0, 0.0, 0.0, 0.0], [0.15884338319301605, 0.09897604584693909, 0.09129428118467331, 0.06810817867517471, 0.07436607033014297, 0.09951609373092651, 0.11459729820489883, 0.09337463974952698, 0.10664314776659012, 0.0942808985710144, 0.0, 0.0, 0.0, 0.0], [0.17455321550369263, 0.0982402041554451, 0.08364275097846985, 0.061057962477207184, 0.07183059304952621, 0.08918443322181702, 0.09756526350975037, 0.08178817480802536, 0.09313216805458069, 0.08967368304729462, 0.059331607073545456, 0.0, 0.0, 0.0], [0.14205418527126312, 0.07987713813781738, 0.0861046090722084, 0.05369074270129204, 0.06788723170757294, 0.07755983620882034, 0.08877740800380707, 0.07652363181114197, 0.08932317793369293, 0.07242264598608017, 0.061230890452861786, 0.10454848408699036, 0.0, 0.0], [0.19148212671279907, 0.07909143716096878, 0.08302922546863556, 0.05651547759771347, 0.06947068870067596, 0.08195599168539047, 0.07301363348960876, 0.07726464420557022, 0.07018700242042542, 0.06544812023639679, 0.057824648916721344, 0.08203034847974777, 0.012686644680798054, 0.0], [0.13794976472854614, 0.08075281977653503, 0.06566935032606125, 0.04870358109474182, 0.04583285376429558, 0.0735243558883667, 0.0757819265127182, 0.06991733610630035, 0.08136987686157227, 0.07055354118347168, 0.05884197726845741, 0.08053175359964371, 0.05151636153459549, 0.05905449390411377]], [[1.0, 0.0, 0.0, 0.0, 0.0, 0.0, 0.0, 0.0, 0.0, 0.0, 0.0, 0.0, 0.0, 0.0], [0.6501124501228333, 0.34988754987716675, 0.0, 0.0, 0.0, 0.0, 0.0, 0.0, 0.0, 0.0, 0.0, 0.0, 0.0, 0.0], [0.47052109241485596, 0.201788991689682, 0.32768991589546204, 0.0, 0.0, 0.0, 0.0, 0.0, 0.0, 0.0, 0.0, 0.0, 0.0, 0.0], [0.38167604804039, 0.16670192778110504, 0.1566915661096573, 0.2949305474758148, 0.0, 0.0, 0.0, 0.0, 0.0, 0.0, 0.0, 0.0, 0.0, 0.0], [0.3974209725856781, 0.1378190964460373, 0.12066132575273514, 0.047610897570848465, 0.2964877486228943, 0.0, 0.0, 0.0, 0.0, 0.0, 0.0, 0.0, 0.0, 0.0], [0.30847248435020447, 0.18925529718399048, 0.14763875305652618, 0.08519802987575531, 0.09607699513435364, 0.1733585000038147, 0.0, 0.0, 0.0, 0.0, 0.0, 0.0, 0.0, 0.0], [0.24317191541194916, 0.1607622504234314, 0.14416798949241638, 0.0664108395576477, 0.06549052894115448, 0.12542417645454407, 0.19457228481769562, 0.0, 0.0, 0.0, 0.0, 0.0, 0.0, 0.0], [0.22673840820789337, 0.1503899246454239, 0.12991002202033997, 0.05995030701160431, 0.08133403211832047, 0.13177920877933502, 0.10871797800064087, 0.1111801266670227, 0.0, 0.0, 0.0, 0.0, 0.0, 0.0], [0.19164195656776428, 0.1252446323633194, 0.1068921610713005, 0.0475885383784771, 0.03956003487110138, 0.0748801976442337, 0.08099255710840225, 0.06782979518175125, 0.2653702199459076, 0.0, 0.0, 0.0, 0.0, 0.0], [0.1161593645811081, 0.21896763145923615, 0.09120379388332367, 0.03603728488087654, 0.039980288594961166, 0.07728506624698639, 0.07225850969552994, 0.07153434306383133, 0.09710131585597992, 0.17947234213352203, 0.0, 0.0, 0.0, 0.0], [0.12744230031967163, 0.096328966319561, 0.09100576490163803, 0.0329909548163414, 0.054511699825525284, 0.07682221382856369, 0.07415848225355148, 0.06678009033203125, 0.08595407009124756, 0.07345663756132126, 0.2205488234758377, 0.0, 0.0, 0.0], [0.11051062494516373, 0.10013225674629211, 0.10913167148828506, 0.044789932668209076, 0.05072934553027153, 0.0868564024567604, 0.08382291346788406, 0.07886003702878952, 0.0849776417016983, 0.07339482754468918, 0.06599649041891098, 0.1107979342341423, 0.0, 0.0], [0.12065313756465912, 0.06994139403104782, 0.07337288558483124, 0.07108613103628159, 0.06339122354984283, 0.06280485540628433, 0.049896690994501114, 0.058618463575839996, 0.060528434813022614, 0.05197710171341896, 0.03393030911684036, 0.056349366903305054, 0.22744996845722198, 0.0], [0.10224837064743042, 0.06636358797550201, 0.04771049693226814, 0.07706533372402191, 0.03793118894100189, 0.08420894294977188, 0.06512398272752762, 0.06622790545225143, 0.05877509340643883, 0.06318149715662003, 0.03603225573897362, 0.0738096684217453, 0.03131682053208351, 0.1900048702955246]], [[1.0, 0.0, 0.0, 0.0, 0.0, 0.0, 0.0, 0.0, 0.0, 0.0, 0.0, 0.0, 0.0, 0.0], [0.6529548764228821, 0.3470451235771179, 0.0, 0.0, 0.0, 0.0, 0.0, 0.0, 0.0, 0.0, 0.0, 0.0, 0.0, 0.0], [0.5079525113105774, 0.2641679644584656, 0.22787950932979584, 0.0, 0.0, 0.0, 0.0, 0.0, 0.0, 0.0, 0.0, 0.0, 0.0, 0.0], [0.49463918805122375, 0.1921427994966507, 0.12197747081518173, 0.19124051928520203, 0.0, 0.0, 0.0, 0.0, 0.0, 0.0, 0.0, 0.0, 0.0, 0.0], [0.5073672533035278, 0.1299697309732437, 0.07305565476417542, 0.14461541175842285, 0.14499196410179138, 0.0, 0.0, 0.0, 0.0, 0.0, 0.0, 0.0, 0.0, 0.0], [0.321951687335968, 0.12383981049060822, 0.0974321961402893, 0.12284963577985764, 0.09106490015983582, 0.2428617626428604, 0.0, 0.0, 0.0, 0.0, 0.0, 0.0, 0.0, 0.0], [0.31847816705703735, 0.06939718872308731, 0.041232042014598846, 0.07720822840929031, 0.08457979559898376, 0.19453518092632294, 0.2145693451166153, 0.0, 0.0, 0.0, 0.0, 0.0, 0.0, 0.0], [0.23489642143249512, 0.10780680924654007, 0.07555528730154037, 0.08932982385158539, 0.07715930789709091, 0.12448277324438095, 0.15230244398117065, 0.13846708834171295, 0.0, 0.0, 0.0, 0.0, 0.0, 0.0], [0.23235799372196198, 0.08080252259969711, 0.06776674836874008, 0.0824236199259758, 0.05927393212914467, 0.17447374761104584, 0.12634232640266418, 0.13010627031326294, 0.04645282030105591, 0.0, 0.0, 0.0, 0.0, 0.0], [0.2332763671875, 0.08207641541957855, 0.0603964701294899, 0.06705842167139053, 0.04980134218931198, 0.12681718170642853, 0.11980339884757996, 0.12123044580221176, 0.04700001701712608, 0.09254002571105957, 0.0, 0.0, 0.0, 0.0], [0.23669876158237457, 0.07265676558017731, 0.046177223324775696, 0.08230025321245193, 0.06790518760681152, 0.09563827514648438, 0.11125767976045609, 0.08616738021373749, 0.031856998801231384, 0.07399865239858627, 0.09534287452697754, 0.0, 0.0, 0.0], [0.18160460889339447, 0.0771310105919838, 0.060755472630262375, 0.0652989000082016, 0.04684704914689064, 0.10380823910236359, 0.07996369153261185, 0.09673140943050385, 0.03465787693858147, 0.08585912734270096, 0.06929156184196472, 0.0980510488152504, 0.0, 0.0], [0.10349716991186142, 0.0922447070479393, 0.048846203833818436, 0.061525989323854446, 0.0670396238565445, 0.08333215117454529, 0.06890053302049637, 0.08602748811244965, 0.06796405464410782, 0.10726345330476761, 0.07076723128557205, 0.08281038701534271, 0.059781063348054886, 0.0], [0.17814281582832336, 0.05434976890683174, 0.050349242985248566, 0.08464928716421127, 0.041285909712314606, 0.091792531311512, 0.07265623658895493, 0.08249291777610779, 0.023191168904304504, 0.05111471191048622, 0.06638998538255692, 0.05978577211499214, 0.07600882649421692, 0.06779070198535919]]], [[[1.0, 0.0, 0.0, 0.0, 0.0, 0.0, 0.0, 0.0, 0.0, 0.0, 0.0, 0.0, 0.0, 0.0], [0.9931812882423401, 0.006818721070885658, 0.0, 0.0, 0.0, 0.0, 0.0, 0.0, 0.0, 0.0, 0.0, 0.0, 0.0, 0.0], [0.6874921321868896, 0.1909753382205963, 0.12153248488903046, 0.0, 0.0, 0.0, 0.0, 0.0, 0.0, 0.0, 0.0, 0.0, 0.0, 0.0], [0.3267664313316345, 0.12431448698043823, 0.3675803244113922, 0.18133877217769623, 0.0, 0.0, 0.0, 0.0, 0.0, 0.0, 0.0, 0.0, 0.0, 0.0], [0.24260427057743073, 0.06766534596681595, 0.2760176658630371, 0.3837733864784241, 0.029939280822873116, 0.0, 0.0, 0.0, 0.0, 0.0, 0.0, 0.0, 0.0, 0.0], [0.3177875578403473, 0.16508986055850983, 0.14744584262371063, 0.19135674834251404, 0.07747892290353775, 0.10084104537963867, 0.0, 0.0, 0.0, 0.0, 0.0, 0.0, 0.0, 0.0], [0.2148580402135849, 0.09962370991706848, 0.13568708300590515, 0.17178015410900116, 0.07041963189840317, 0.16124261915683746, 0.14638881385326385, 0.0, 0.0, 0.0, 0.0, 0.0, 0.0, 0.0], [0.2093576192855835, 0.06198987364768982, 0.0766754224896431, 0.0920507088303566, 0.08670516312122345, 0.05017167702317238, 0.26340508460998535, 0.1596444696187973, 0.0, 0.0, 0.0, 0.0, 0.0, 0.0], [0.13862356543540955, 0.06064709275960922, 0.04906171187758446, 0.03156590089201927, 0.025889722630381584, 0.10222529619932175, 0.16303226351737976, 0.28497543931007385, 0.1439789980649948, 0.0, 0.0, 0.0, 0.0, 0.0], [0.02566373161971569, 0.005559592042118311, 0.017752110958099365, 0.017187833786010742, 0.01615513488650322, 0.024231815710663795, 0.0644579753279686, 0.09537771344184875, 0.5990812182426453, 0.1345328986644745, 0.0, 0.0, 0.0, 0.0], [0.014025873504579067, 0.010921384207904339, 0.008698281832039356, 0.005735932383686304, 0.0032733045518398285, 0.01663363166153431, 0.02949967049062252, 0.07172053307294846, 0.132637158036232, 0.6456103920936584, 0.061243802309036255, 0.0, 0.0, 0.0], [0.013100307434797287, 0.002650063717737794, 0.0059272488579154015, 0.00910104624927044, 0.004846492316573858, 0.007881926372647285, 0.007677898742258549, 0.02525840327143669, 0.050578001886606216, 0.08860549330711365, 0.751937747001648, 0.032435350120067596, 0.0, 0.0], [0.021648012101650238, 0.005872043780982494, 0.00920066051185131, 0.01055856328457594, 0.005176078993827105, 0.022294646129012108, 0.01977677270770073, 0.04239999130368233, 0.06444564461708069, 0.10834499448537827, 0.2344140261411667, 0.3699043095111847, 0.08596404641866684, 0.0], [0.04417562112212181, 0.008902679197490215, 0.010019932873547077, 0.009051486849784851, 0.008624494075775146, 0.017557896673679352, 0.03910534083843231, 0.0641503557562828, 0.09243671596050262, 0.11999457329511642, 0.16767504811286926, 0.16284719109535217, 0.126869335770607, 0.12858925759792328]], [[1.0, 0.0, 0.0, 0.0, 0.0, 0.0, 0.0, 0.0, 0.0, 0.0, 0.0, 0.0, 0.0, 0.0], [0.956825852394104, 0.043174173682928085, 0.0, 0.0, 0.0, 0.0, 0.0, 0.0, 0.0, 0.0, 0.0, 0.0, 0.0, 0.0], [0.6910163164138794, 0.20574772357940674, 0.10323590785264969, 0.0, 0.0, 0.0, 0.0, 0.0, 0.0, 0.0, 0.0, 0.0, 0.0, 0.0], [0.5835140347480774, 0.1918599158525467, 0.14167717099189758, 0.08294882625341415, 0.0, 0.0, 0.0, 0.0, 0.0, 0.0, 0.0, 0.0, 0.0, 0.0], [0.4164300560951233, 0.21729081869125366, 0.17864610254764557, 0.10612549632787704, 0.08150744438171387, 0.0, 0.0, 0.0, 0.0, 0.0, 0.0, 0.0, 0.0, 0.0], [0.4644049108028412, 0.11735883355140686, 0.07565118372440338, 0.052156392484903336, 0.08727420121431351, 0.20315445959568024, 0.0, 0.0, 0.0, 0.0, 0.0, 0.0, 0.0, 0.0], [0.19128426909446716, 0.07234757393598557, 0.061601150780916214, 0.05846146494150162, 0.0961993932723999, 0.37829717993736267, 0.14180895686149597, 0.0, 0.0, 0.0, 0.0, 0.0, 0.0, 0.0], [0.1564130038022995, 0.05087669938802719, 0.04553752392530441, 0.0363476388156414, 0.027808785438537598, 0.2703794240951538, 0.29582348465919495, 0.11681345105171204, 0.0, 0.0, 0.0, 0.0, 0.0, 0.0], [0.09555687755346298, 0.027194637805223465, 0.023926865309476852, 0.022133275866508484, 0.030195724219083786, 0.2952375113964081, 0.17308016121387482, 0.261685311794281, 0.07098964601755142, 0.0, 0.0, 0.0, 0.0, 0.0], [0.08701901882886887, 0.011327242478728294, 0.01771085150539875, 0.017403004691004753, 0.017927629873156548, 0.17029431462287903, 0.14418883621692657, 0.24569030106067657, 0.18932318687438965, 0.09911554306745529, 0.0, 0.0, 0.0, 0.0], [0.06083638593554497, 0.014489567838609219, 0.02242882549762726, 0.013842012733221054, 0.018693512305617332, 0.12619028985500336, 0.09914501756429672, 0.20613448321819305, 0.10229667276144028, 0.2729935944080353, 0.06294962763786316, 0.0, 0.0, 0.0], [0.06352945417165756, 0.015905272215604782, 0.02275003120303154, 0.01323989313095808, 0.01731528528034687, 0.1329997032880783, 0.10071194171905518, 0.15909011662006378, 0.09546735882759094, 0.16744844615459442, 0.08366659283638, 0.1278759092092514, 0.0, 0.0], [0.06244615465402603, 0.011975700967013836, 0.017580261453986168, 0.014342212118208408, 0.01174562331289053, 0.11675332486629486, 0.0632002055644989, 0.14416645467281342, 0.08161872625350952, 0.09897006303071976, 0.12597934901714325, 0.16195514798164368, 0.089266836643219, 0.0], [0.10912743955850601, 0.017408670857548714, 0.01119683962315321, 0.00783523265272379, 0.010504425503313541, 0.08229220658540726, 0.06582937389612198, 0.09887675195932388, 0.0657152459025383, 0.07881413400173187, 0.06669193506240845, 0.09217327833175659, 0.0854390487074852, 0.20809543132781982]], [[1.0, 0.0, 0.0, 0.0, 0.0, 0.0, 0.0, 0.0, 0.0, 0.0, 0.0, 0.0, 0.0, 0.0], [0.9789953827857971, 0.02100462093949318, 0.0, 0.0, 0.0, 0.0, 0.0, 0.0, 0.0, 0.0, 0.0, 0.0, 0.0, 0.0], [0.7419512867927551, 0.049826908856630325, 0.20822180807590485, 0.0, 0.0, 0.0, 0.0, 0.0, 0.0, 0.0, 0.0, 0.0, 0.0, 0.0], [0.6126917600631714, 0.06591794639825821, 0.21542638540267944, 0.10596391558647156, 0.0, 0.0, 0.0, 0.0, 0.0, 0.0, 0.0, 0.0, 0.0, 0.0], [0.5227305889129639, 0.058831438422203064, 0.183350071310997, 0.08775998651981354, 0.14732785522937775, 0.0, 0.0, 0.0, 0.0, 0.0, 0.0, 0.0, 0.0, 0.0], [0.32393184304237366, 0.03826592117547989, 0.11694436520338058, 0.06111851707100868, 0.09889024496078491, 0.36084917187690735, 0.0, 0.0, 0.0, 0.0, 0.0, 0.0, 0.0, 0.0], [0.2347518354654312, 0.03441985696554184, 0.09699811041355133, 0.05102885887026787, 0.07972639799118042, 0.27043458819389343, 0.2326403558254242, 0.0, 0.0, 0.0, 0.0, 0.0, 0.0, 0.0], [0.16972513496875763, 0.02844465896487236, 0.07448074966669083, 0.04053278639912605, 0.06425987184047699, 0.2126099169254303, 0.17553681135177612, 0.23441006243228912, 0.0, 0.0, 0.0, 0.0, 0.0, 0.0], [0.13987043499946594, 0.025168005377054214, 0.06739487498998642, 0.03417159616947174, 0.05506713315844536, 0.18293485045433044, 0.14800810813903809, 0.20618297159671783, 0.14120204746723175, 0.0, 0.0, 0.0, 0.0, 0.0], [0.11248912662267685, 0.027063285931944847, 0.05774160102009773, 0.03241174668073654, 0.047909028828144073, 0.15224121510982513, 0.12307087332010269, 0.1632424145936966, 0.1032625213265419, 0.180568128824234, 0.0, 0.0, 0.0, 0.0], [0.10219410061836243, 0.022240884602069855, 0.0553155243396759, 0.0313323549926281, 0.04610951617360115, 0.146477609872818, 0.11552780121564865, 0.15737895667552948, 0.10055461525917053, 0.14603911340236664, 0.07682955265045166, 0.0, 0.0, 0.0], [0.08539063483476639, 0.02334938757121563, 0.04815768077969551, 0.027737712487578392, 0.04182960465550423, 0.11830680072307587, 0.0927065908908844, 0.12315098941326141, 0.08677712082862854, 0.13127072155475616, 0.06201242282986641, 0.15931029617786407, 0.0, 0.0], [0.07741786539554596, 0.022657183930277824, 0.04387657716870308, 0.02627457119524479, 0.038808438926935196, 0.11289490759372711, 0.09151145815849304, 0.11494007706642151, 0.07685359567403793, 0.11200390011072159, 0.05465291440486908, 0.13804607093334198, 0.09006242454051971, 0.0], [0.06817109882831573, 0.018885867670178413, 0.03625747933983803, 0.02304963394999504, 0.03200828284025192, 0.09039054811000824, 0.07447837293148041, 0.09273512661457062, 0.06963393837213516, 0.09760128706693649, 0.05046192929148674, 0.10936590284109116, 0.08308613300323486, 0.15387436747550964]], [[1.0, 0.0, 0.0, 0.0, 0.0, 0.0, 0.0, 0.0, 0.0, 0.0, 0.0, 0.0, 0.0, 0.0], [0.5684057474136353, 0.4315943121910095, 0.0, 0.0, 0.0, 0.0, 0.0, 0.0, 0.0, 0.0, 0.0, 0.0, 0.0, 0.0], [0.5770633816719055, 0.20967420935630798, 0.2132624238729477, 0.0, 0.0, 0.0, 0.0, 0.0, 0.0, 0.0, 0.0, 0.0, 0.0, 0.0], [0.5553051233291626, 0.14898373186588287, 0.1392778903245926, 0.15643319487571716, 0.0, 0.0, 0.0, 0.0, 0.0, 0.0, 0.0, 0.0, 0.0, 0.0], [0.5366573333740234, 0.10137183964252472, 0.10746494680643082, 0.11645326763391495, 0.1380525678396225, 0.0, 0.0, 0.0, 0.0, 0.0, 0.0, 0.0, 0.0, 0.0], [0.5034183859825134, 0.07721446454524994, 0.08118269592523575, 0.09037601947784424, 0.10150181502103806, 0.1463066041469574, 0.0, 0.0, 0.0, 0.0, 0.0, 0.0, 0.0, 0.0], [0.49805423617362976, 0.05832963064312935, 0.06341177225112915, 0.07282403856515884, 0.0816008523106575, 0.11746629327535629, 0.10831309854984283, 0.0, 0.0, 0.0, 0.0, 0.0, 0.0, 0.0], [0.4971890151500702, 0.04612940922379494, 0.05123499408364296, 0.056496620178222656, 0.06677817553281784, 0.10082963109016418, 0.09034412354230881, 0.09099797159433365, 0.0, 0.0, 0.0, 0.0, 0.0, 0.0], [0.4775647521018982, 0.03837883099913597, 0.04489526152610779, 0.048436298966407776, 0.05618499964475632, 0.08925914019346237, 0.07855945825576782, 0.08426221460103989, 0.08245901763439178, 0.0, 0.0, 0.0, 0.0, 0.0], [0.5041429996490479, 0.031175358220934868, 0.035777416080236435, 0.03744383901357651, 0.043625082820653915, 0.07366371899843216, 0.06346647441387177, 0.0668078064918518, 0.06240376457571983, 0.08149342983961105, 0.0, 0.0, 0.0, 0.0], [0.4894505739212036, 0.02645561844110489, 0.03206726163625717, 0.03495814651250839, 0.04126383364200592, 0.066603884100914, 0.057073142379522324, 0.06250132620334625, 0.05823960155248642, 0.0743156298995018, 0.05707095190882683, 0.0, 0.0, 0.0], [0.5102929472923279, 0.02226194553077221, 0.026683861389756203, 0.028379706665873528, 0.03352374956011772, 0.057116083800792694, 0.048850469291210175, 0.052114345133304596, 0.04927816614508629, 0.062075935304164886, 0.0466001071035862, 0.06282267719507217, 0.0, 0.0], [0.4984114170074463, 0.022163836285471916, 0.02379552088677883, 0.026906857267022133, 0.03141298145055771, 0.05327346920967102, 0.047643329948186874, 0.04874572530388832, 0.04399338737130165, 0.05467873811721802, 0.040509190410375595, 0.05248003825545311, 0.05598559230566025, 0.0], [0.5132694244384766, 0.0168308075517416, 0.019302930682897568, 0.020540179684758186, 0.024599242955446243, 0.04219062253832817, 0.035994675010442734, 0.03838571161031723, 0.03593139350414276, 0.04474152997136116, 0.03431711345911026, 0.0405438207089901, 0.04689003899693489, 0.08646246790885925]], [[1.0, 0.0, 0.0, 0.0, 0.0, 0.0, 0.0, 0.0, 0.0, 0.0, 0.0, 0.0, 0.0, 0.0], [0.933513879776001, 0.06648607552051544, 0.0, 0.0, 0.0, 0.0, 0.0, 0.0, 0.0, 0.0, 0.0, 0.0, 0.0, 0.0], [0.8312208652496338, 0.08197500556707382, 0.0868041068315506, 0.0, 0.0, 0.0, 0.0, 0.0, 0.0, 0.0, 0.0, 0.0, 0.0, 0.0], [0.7250696420669556, 0.08133696019649506, 0.07431711256504059, 0.11927630752325058, 0.0, 0.0, 0.0, 0.0, 0.0, 0.0, 0.0, 0.0, 0.0, 0.0], [0.6455176472663879, 0.07370937615633011, 0.06963985413312912, 0.10002519935369492, 0.11110802739858627, 0.0, 0.0, 0.0, 0.0, 0.0, 0.0, 0.0, 0.0, 0.0], [0.5461761951446533, 0.07084093987941742, 0.06337124854326248, 0.10540502518415451, 0.09963171929121017, 0.11457487940788269, 0.0, 0.0, 0.0, 0.0, 0.0, 0.0, 0.0, 0.0], [0.5070531964302063, 0.06366203725337982, 0.0555315837264061, 0.08786486089229584, 0.0796961635351181, 0.0938858836889267, 0.11230629682540894, 0.0, 0.0, 0.0, 0.0, 0.0, 0.0, 0.0], [0.4421970844268799, 0.060068994760513306, 0.05069015547633171, 0.0773877203464508, 0.07431573420763016, 0.08742421865463257, 0.10083804279565811, 0.10707808285951614, 0.0, 0.0, 0.0, 0.0, 0.0, 0.0], [0.40685033798217773, 0.048292338848114014, 0.04401051998138428, 0.060453735291957855, 0.06349346041679382, 0.07527031749486923, 0.08554612100124359, 0.10002149641513824, 0.11606170982122421, 0.0, 0.0, 0.0, 0.0, 0.0], [0.36353546380996704, 0.05014219507575035, 0.04207626357674599, 0.058595169335603714, 0.05160584673285484, 0.06927724927663803, 0.07503523677587509, 0.08618929982185364, 0.08388469368219376, 0.11965848505496979, 0.0, 0.0, 0.0, 0.0], [0.341429740190506, 0.03777042403817177, 0.033681005239486694, 0.0496482290327549, 0.04999775066971779, 0.06333046406507492, 0.06776630878448486, 0.0787607952952385, 0.08534315228462219, 0.0958915501832962, 0.09638060629367828, 0.0, 0.0, 0.0], [0.30413150787353516, 0.037259336560964584, 0.03518734872341156, 0.04641236737370491, 0.04818866029381752, 0.05592123791575432, 0.05752043426036835, 0.06824462115764618, 0.0778006762266159, 0.09230256080627441, 0.07409606873989105, 0.10293516516685486, 0.0, 0.0], [0.28554826974868774, 0.03651219233870506, 0.03025834821164608, 0.040187254548072815, 0.04201894626021385, 0.05481821671128273, 0.05561772733926773, 0.06358598917722702, 0.062024716287851334, 0.0736822560429573, 0.06314528733491898, 0.08344545215368271, 0.10915534198284149, 0.0], [0.24779710173606873, 0.031102824956178665, 0.027259865775704384, 0.03878481313586235, 0.03488122299313545, 0.04688712954521179, 0.04987733066082001, 0.053277358412742615, 0.0627722442150116, 0.06742001324892044, 0.0628110021352768, 0.06823570281267166, 0.09979277104139328, 0.1091005727648735]], [[1.0, 0.0, 0.0, 0.0, 0.0, 0.0, 0.0, 0.0, 0.0, 0.0, 0.0, 0.0, 0.0, 0.0], [0.9190579056739807, 0.08094216138124466, 0.0, 0.0, 0.0, 0.0, 0.0, 0.0, 0.0, 0.0, 0.0, 0.0, 0.0, 0.0], [0.7952457666397095, 0.11284292489290237, 0.09191122651100159, 0.0, 0.0, 0.0, 0.0, 0.0, 0.0, 0.0, 0.0, 0.0, 0.0, 0.0], [0.5802251696586609, 0.11288107931613922, 0.16154350340366364, 0.14535017311573029, 0.0, 0.0, 0.0, 0.0, 0.0, 0.0, 0.0, 0.0, 0.0, 0.0], [0.6100861430168152, 0.12083848565816879, 0.11889855563640594, 0.03708482161164284, 0.11309192329645157, 0.0, 0.0, 0.0, 0.0, 0.0, 0.0, 0.0, 0.0, 0.0], [0.5626327991485596, 0.10234817117452621, 0.11114544421434402, 0.0296787079423666, 0.012799968011677265, 0.18139494955539703, 0.0, 0.0, 0.0, 0.0, 0.0, 0.0, 0.0, 0.0], [0.4311140179634094, 0.05730728432536125, 0.07450452446937561, 0.015198975801467896, 0.008453167043626308, 0.10339517891407013, 0.3100268840789795, 0.0, 0.0, 0.0, 0.0, 0.0, 0.0, 0.0], [0.26594942808151245, 0.048294078558683395, 0.06076033413410187, 0.009137250483036041, 0.004908288363367319, 0.07766515016555786, 0.11165325343608856, 0.42163217067718506, 0.0, 0.0, 0.0, 0.0, 0.0, 0.0], [0.36925649642944336, 0.08111550658941269, 0.0797809436917305, 0.011309478431940079, 0.007032495923340321, 0.07774090021848679, 0.06957091391086578, 0.12535756826400757, 0.17883574962615967, 0.0, 0.0, 0.0, 0.0, 0.0], [0.32054027915000916, 0.1389312446117401, 0.0829492062330246, 0.010917732492089272, 0.010903103277087212, 0.10820809751749039, 0.04988962039351463, 0.1166086494922638, 0.026387719437479973, 0.1346643567085266, 0.0, 0.0, 0.0, 0.0], [0.343715637922287, 0.056607190519571304, 0.0812058225274086, 0.02496490813791752, 0.011734665371477604, 0.08959787338972092, 0.155022993683815, 0.10510996729135513, 0.03704260289669037, 0.04346514120697975, 0.05153316631913185, 0.0, 0.0, 0.0], [0.21066215634346008, 0.0248113963752985, 0.05341760814189911, 0.005552029702812433, 0.003892735345289111, 0.0470878966152668, 0.028301678597927094, 0.05396485701203346, 0.012968565337359905, 0.02161213383078575, 0.01836211048066616, 0.5193668603897095, 0.0, 0.0], [0.2391500025987625, 0.05395366996526718, 0.0782502070069313, 0.053228478878736496, 0.09704306721687317, 0.120949387550354, 0.04577359929680824, 0.10986340790987015, 0.028486402705311775, 0.03251037374138832, 0.03949589282274246, 0.0330624021589756, 0.06823305785655975, 0.0], [0.19816137850284576, 0.05167672783136368, 0.0571688748896122, 0.021513713523745537, 0.01142264623194933, 0.07365640252828598, 0.08367752283811569, 0.08101314306259155, 0.03441426903009415, 0.026132743805646896, 0.056942418217659, 0.010681318119168282, 0.005614785477519035, 0.2879239618778229]], [[1.0, 0.0, 0.0, 0.0, 0.0, 0.0, 0.0, 0.0, 0.0, 0.0, 0.0, 0.0, 0.0, 0.0], [0.986617386341095, 0.013382569886744022, 0.0, 0.0, 0.0, 0.0, 0.0, 0.0, 0.0, 0.0, 0.0, 0.0, 0.0, 0.0], [0.8585394024848938, 0.05405864119529724, 0.08740197122097015, 0.0, 0.0, 0.0, 0.0, 0.0, 0.0, 0.0, 0.0, 0.0, 0.0, 0.0], [0.814945638179779, 0.03499839827418327, 0.037724729627370834, 0.11233112215995789, 0.0, 0.0, 0.0, 0.0, 0.0, 0.0, 0.0, 0.0, 0.0, 0.0], [0.6780721545219421, 0.060362670570611954, 0.07327444106340408, 0.0907292366027832, 0.09756163507699966, 0.0, 0.0, 0.0, 0.0, 0.0, 0.0, 0.0, 0.0, 0.0], [0.7777755260467529, 0.0384507030248642, 0.034438516944646835, 0.028980890288949013, 0.025556771084666252, 0.09479743987321854, 0.0, 0.0, 0.0, 0.0, 0.0, 0.0, 0.0, 0.0], [0.6141247749328613, 0.07083501666784286, 0.12770287692546844, 0.09147121012210846, 0.014871882274746895, 0.06300223618745804, 0.017991928383708, 0.0, 0.0, 0.0, 0.0, 0.0, 0.0, 0.0], [0.5644797086715698, 0.08599764108657837, 0.08323299884796143, 0.05757632106542587, 0.0380239300429821, 0.08083028346300125, 0.043408725410699844, 0.046450480818748474, 0.0, 0.0, 0.0, 0.0, 0.0, 0.0], [0.5763474106788635, 0.06264959275722504, 0.09208862483501434, 0.06462492048740387, 0.020769143477082253, 0.06268083304166794, 0.04858003929257393, 0.04630840942263603, 0.025950973853468895, 0.0, 0.0, 0.0, 0.0, 0.0], [0.5257629752159119, 0.03758116066455841, 0.07876908034086227, 0.09226133674383163, 0.03968765586614609, 0.05883979797363281, 0.04035605117678642, 0.05831874534487724, 0.04352450743317604, 0.024898763746023178, 0.0, 0.0, 0.0, 0.0], [0.49903371930122375, 0.060681767761707306, 0.057027049362659454, 0.0441681407392025, 0.08736158162355423, 0.028393037617206573, 0.0443066768348217, 0.0397183857858181, 0.05875371769070625, 0.04251899570226669, 0.038036998361349106, 0.0, 0.0, 0.0], [0.37050750851631165, 0.05203220248222351, 0.08719941973686218, 0.04870442673563957, 0.04163256660103798, 0.03996593877673149, 0.04054839536547661, 0.049447618424892426, 0.047746870666742325, 0.05427304655313492, 0.12533541023731232, 0.0426066555082798, 0.0, 0.0], [0.451648086309433, 0.04968498274683952, 0.04056579992175102, 0.05564679950475693, 0.05491100996732712, 0.007470722775906324, 0.022499479353427887, 0.034731391817331314, 0.05190867558121681, 0.02226363494992256, 0.009005870670080185, 0.03482036292552948, 0.16484315693378448, 0.0], [0.4764636754989624, 0.029058588668704033, 0.021971965208649635, 0.024179110303521156, 0.01709704101085663, 0.18193532526493073, 0.01567947492003441, 0.041908565908670425, 0.014301453717052937, 0.016025522723793983, 0.021151507273316383, 0.011277616955339909, 0.024499889463186264, 0.10445024818181992]], [[1.0, 0.0, 0.0, 0.0, 0.0, 0.0, 0.0, 0.0, 0.0, 0.0, 0.0, 0.0, 0.0, 0.0], [0.9746014475822449, 0.025398587808012962, 0.0, 0.0, 0.0, 0.0, 0.0, 0.0, 0.0, 0.0, 0.0, 0.0, 0.0, 0.0], [0.8663115501403809, 0.055166468024253845, 0.0785219743847847, 0.0, 0.0, 0.0, 0.0, 0.0, 0.0, 0.0, 0.0, 0.0, 0.0, 0.0], [0.806503415107727, 0.05972064286470413, 0.07398145645856857, 0.059794556349515915, 0.0, 0.0, 0.0, 0.0, 0.0, 0.0, 0.0, 0.0, 0.0, 0.0], [0.7256773114204407, 0.07987868785858154, 0.08041314035654068, 0.07763123512268066, 0.03639969229698181, 0.0, 0.0, 0.0, 0.0, 0.0, 0.0, 0.0, 0.0, 0.0], [0.6567635536193848, 0.053524695336818695, 0.04841803386807442, 0.0966276302933693, 0.06851206719875336, 0.07615415751934052, 0.0, 0.0, 0.0, 0.0, 0.0, 0.0, 0.0, 0.0], [0.6233704686164856, 0.04488455131649971, 0.04565174877643585, 0.06848432123661041, 0.049898404628038406, 0.10834166407585144, 0.05936884880065918, 0.0, 0.0, 0.0, 0.0, 0.0, 0.0, 0.0], [0.5417630672454834, 0.04485553875565529, 0.04758065938949585, 0.054407306015491486, 0.0555587038397789, 0.08653316646814346, 0.06332536041736603, 0.10597623139619827, 0.0, 0.0, 0.0, 0.0, 0.0, 0.0], [0.5170016884803772, 0.04722707346081734, 0.050461240112781525, 0.06803423166275024, 0.07011105120182037, 0.07674342393875122, 0.054558515548706055, 0.08493392169475555, 0.03092874214053154, 0.0, 0.0, 0.0, 0.0, 0.0], [0.4638160765171051, 0.04818136990070343, 0.04433738440275192, 0.06342045217752457, 0.0584610216319561, 0.07694494724273682, 0.06329316645860672, 0.09915273636579514, 0.03000979870557785, 0.05238305777311325, 0.0, 0.0, 0.0, 0.0], [0.4877704977989197, 0.03704817220568657, 0.041328832507133484, 0.07854456454515457, 0.051995664834976196, 0.0693916380405426, 0.05110567435622215, 0.09011025726795197, 0.02289399318397045, 0.03761208802461624, 0.03219854086637497, 0.0, 0.0, 0.0], [0.4108051359653473, 0.03441764414310455, 0.04283244162797928, 0.06248218193650246, 0.05020339787006378, 0.07030311226844788, 0.046983227133750916, 0.09470414370298386, 0.021911820396780968, 0.034340161830186844, 0.04135306924581528, 0.08966376632452011, 0.0, 0.0], [0.3801701068878174, 0.04333770275115967, 0.05083144083619118, 0.07810165733098984, 0.06020602211356163, 0.08003675192594528, 0.057196471840143204, 0.0734705775976181, 0.025788256898522377, 0.036380790174007416, 0.02674824930727482, 0.07428028434515, 0.013451583683490753, 0.0], [0.40556639432907104, 0.042409200221300125, 0.028398144990205765, 0.06026345491409302, 0.03895992413163185, 0.04598508030176163, 0.03691220283508301, 0.05091000720858574, 0.025797689333558083, 0.03275955468416214, 0.051029812544584274, 0.042241420596838, 0.06460091471672058, 0.0741662010550499]], [[1.0, 0.0, 0.0, 0.0, 0.0, 0.0, 0.0, 0.0, 0.0, 0.0, 0.0, 0.0, 0.0, 0.0], [0.9093093872070312, 0.09069060534238815, 0.0, 0.0, 0.0, 0.0, 0.0, 0.0, 0.0, 0.0, 0.0, 0.0, 0.0, 0.0], [0.7853446006774902, 0.10355913639068604, 0.11109630018472672, 0.0, 0.0, 0.0, 0.0, 0.0, 0.0, 0.0, 0.0, 0.0, 0.0, 0.0], [0.7043868899345398, 0.10711744427680969, 0.13774587213993073, 0.050749771296978, 0.0, 0.0, 0.0, 0.0, 0.0, 0.0, 0.0, 0.0, 0.0, 0.0], [0.6940178275108337, 0.08682198077440262, 0.08765880763530731, 0.05657365918159485, 0.07492773234844208, 0.0, 0.0, 0.0, 0.0, 0.0, 0.0, 0.0, 0.0, 0.0], [0.5023790597915649, 0.10290103405714035, 0.09578613936901093, 0.035762567073106766, 0.0785415768623352, 0.1846296638250351, 0.0, 0.0, 0.0, 0.0, 0.0, 0.0, 0.0, 0.0], [0.5249132513999939, 0.06953560560941696, 0.08061083406209946, 0.04000306501984596, 0.0658835843205452, 0.16144786775112152, 0.057605717331171036, 0.0, 0.0, 0.0, 0.0, 0.0, 0.0, 0.0], [0.43259263038635254, 0.07581966370344162, 0.07575037330389023, 0.030404314398765564, 0.062230125069618225, 0.15202848613262177, 0.05875317007303238, 0.11242129653692245, 0.0, 0.0, 0.0, 0.0, 0.0, 0.0], [0.35685306787490845, 0.08781898766756058, 0.07926777005195618, 0.031960658729076385, 0.06191518157720566, 0.12163805961608887, 0.051990289241075516, 0.11379315704107285, 0.09476286917924881, 0.0, 0.0, 0.0, 0.0, 0.0], [0.3821240961551666, 0.066802479326725, 0.06973392516374588, 0.029079090803861618, 0.04815870523452759, 0.115790456533432, 0.05515466257929802, 0.08313152194023132, 0.07742574065923691, 0.07259944826364517, 0.0, 0.0, 0.0, 0.0], [0.32174810767173767, 0.0670354887843132, 0.0677243024110794, 0.033514052629470825, 0.05199528858065605, 0.11543554812669754, 0.04521222040057182, 0.0868321880698204, 0.0802587941288948, 0.07700743526220322, 0.053236596286296844, 0.0, 0.0, 0.0], [0.3204832673072815, 0.06339918076992035, 0.05927359312772751, 0.025532901287078857, 0.044607069343328476, 0.10470260679721832, 0.05524394288659096, 0.07582195848226547, 0.07478310167789459, 0.06561490148305893, 0.040774326771497726, 0.06976307928562164, 0.0, 0.0], [0.258741557598114, 0.06614189594984055, 0.06745672225952148, 0.022843962535262108, 0.06255700439214706, 0.12677104771137238, 0.04188152402639389, 0.07480726391077042, 0.06929849833250046, 0.06898577511310577, 0.046258196234703064, 0.07730178534984589, 0.01695478893816471, 0.0], [0.23624034225940704, 0.07972590625286102, 0.06122324615716934, 0.027848731726408005, 0.056054167449474335, 0.09450947493314743, 0.04616513103246689, 0.07104266434907913, 0.06672632694244385, 0.07188079506158829, 0.03590472415089607, 0.058108169585466385, 0.028552265837788582, 0.06601803749799728]], [[1.0, 0.0, 0.0, 0.0, 0.0, 0.0, 0.0, 0.0, 0.0, 0.0, 0.0, 0.0, 0.0, 0.0], [0.9590961933135986, 0.04090384766459465, 0.0, 0.0, 0.0, 0.0, 0.0, 0.0, 0.0, 0.0, 0.0, 0.0, 0.0, 0.0], [0.8494706749916077, 0.0693625956773758, 0.08116668462753296, 0.0, 0.0, 0.0, 0.0, 0.0, 0.0, 0.0, 0.0, 0.0, 0.0, 0.0], [0.8137224912643433, 0.07053156197071075, 0.09828311949968338, 0.017462803050875664, 0.0, 0.0, 0.0, 0.0, 0.0, 0.0, 0.0, 0.0, 0.0, 0.0], [0.7545027136802673, 0.08316076546907425, 0.09435179829597473, 0.015022276900708675, 0.05296234413981438, 0.0, 0.0, 0.0, 0.0, 0.0, 0.0, 0.0, 0.0, 0.0], [0.620873212814331, 0.09561126679182053, 0.1334925889968872, 0.03228813409805298, 0.04951571673154831, 0.0682191550731659, 0.0, 0.0, 0.0, 0.0, 0.0, 0.0, 0.0, 0.0], [0.523418664932251, 0.07922790944576263, 0.1327780932188034, 0.02560916729271412, 0.04229231923818588, 0.06526809185743332, 0.13140572607517242, 0.0, 0.0, 0.0, 0.0, 0.0, 0.0, 0.0], [0.5067512392997742, 0.08479364961385727, 0.11548928916454315, 0.02323993481695652, 0.0448727160692215, 0.05179745331406593, 0.1205410361289978, 0.0525146909058094, 0.0, 0.0, 0.0, 0.0, 0.0, 0.0], [0.44195201992988586, 0.08162546157836914, 0.1342243254184723, 0.02222282625734806, 0.039478447288274765, 0.05105343088507652, 0.09882904589176178, 0.05474735051393509, 0.07586701214313507, 0.0, 0.0, 0.0, 0.0, 0.0], [0.4432006776332855, 0.06405164301395416, 0.11901684105396271, 0.01879713125526905, 0.03614093363285065, 0.03952715918421745, 0.09401809424161911, 0.04449104890227318, 0.08469220995903015, 0.0560641884803772, 0.0, 0.0, 0.0, 0.0], [0.38354697823524475, 0.065309077501297, 0.10543270409107208, 0.02179710753262043, 0.038354989141225815, 0.035148441791534424, 0.08911379426717758, 0.03692272678017616, 0.1269070953130722, 0.0456237755715847, 0.05184323713183403, 0.0, 0.0, 0.0], [0.39341112971305847, 0.06903620809316635, 0.10421552509069443, 0.018553122878074646, 0.03745283558964729, 0.03325416147708893, 0.07332321256399155, 0.035022616386413574, 0.07827354967594147, 0.058014385402202606, 0.05064352601766586, 0.048799749463796616, 0.0, 0.0], [0.4343514144420624, 0.07803644239902496, 0.06962975114583969, 0.0164810698479414, 0.0764894112944603, 0.026853172108530998, 0.04367530718445778, 0.029173560440540314, 0.06498541682958603, 0.06009113788604736, 0.05108562484383583, 0.0349082387983799, 0.014239436946809292, 0.0], [0.3361348807811737, 0.08335036784410477, 0.10664696246385574, 0.023981530219316483, 0.0441514290869236, 0.03157538175582886, 0.05355051904916763, 0.03261302039027214, 0.046597935259342194, 0.06930402666330338, 0.06708687543869019, 0.04584382846951485, 0.01757943443953991, 0.04158368334174156]], [[1.0, 0.0, 0.0, 0.0, 0.0, 0.0, 0.0, 0.0, 0.0, 0.0, 0.0, 0.0, 0.0, 0.0], [0.0002472837804816663, 0.9997527003288269, 0.0, 0.0, 0.0, 0.0, 0.0, 0.0, 0.0, 0.0, 0.0, 0.0, 0.0, 0.0], [0.0007670768536627293, 0.5670866966247559, 0.432146281003952, 0.0, 0.0, 0.0, 0.0, 0.0, 0.0, 0.0, 0.0, 0.0, 0.0, 0.0], [0.0007600627723149955, 0.367927610874176, 0.27107298374176025, 0.3602393865585327, 0.0, 0.0, 0.0, 0.0, 0.0, 0.0, 0.0, 0.0, 0.0, 0.0], [0.0008354447199963033, 0.24949820339679718, 0.1904822438955307, 0.25582724809646606, 0.3033568859100342, 0.0, 0.0, 0.0, 0.0, 0.0, 0.0, 0.0, 0.0, 0.0], [0.0014255990972742438, 0.16668902337551117, 0.14150561392307281, 0.1907803863286972, 0.23175156116485596, 0.26784786581993103, 0.0, 0.0, 0.0, 0.0, 0.0, 0.0, 0.0, 0.0], [0.0011756750755012035, 0.12384654581546783, 0.11366506665945053, 0.15670137107372284, 0.1866055130958557, 0.20024366676807404, 0.21776217222213745, 0.0, 0.0, 0.0, 0.0, 0.0, 0.0, 0.0], [0.001575784175656736, 0.09705066680908203, 0.08866582065820694, 0.1214391440153122, 0.15416353940963745, 0.17895647883415222, 0.18271364271640778, 0.1754349321126938, 0.0, 0.0, 0.0, 0.0, 0.0, 0.0], [0.0014553837245330215, 0.078209288418293, 0.07591085135936737, 0.10035048425197601, 0.1246948316693306, 0.14688125252723694, 0.1555272489786148, 0.1469961255788803, 0.16997450590133667, 0.0, 0.0, 0.0, 0.0, 0.0], [0.002052092459052801, 0.06655032187700272, 0.06326185166835785, 0.08019322901964188, 0.10147792100906372, 0.12562787532806396, 0.1256779134273529, 0.12130085378885269, 0.1380625218153, 0.17579533159732819, 0.0, 0.0, 0.0, 0.0], [0.0018706126138567924, 0.05312661454081535, 0.05360110476613045, 0.07246986031532288, 0.09065669029951096, 0.1071184054017067, 0.10645969212055206, 0.107195183634758, 0.12395387142896652, 0.14740896224975586, 0.13613900542259216, 0.0, 0.0, 0.0], [0.0026694510597735643, 0.046458251774311066, 0.0464509092271328, 0.05884029343724251, 0.07819586247205734, 0.095174141228199, 0.09414275735616684, 0.09195476025342941, 0.10904192179441452, 0.13034100830554962, 0.10846629738807678, 0.13826435804367065, 0.0, 0.0], [0.0014369687996804714, 0.04098287969827652, 0.03943198546767235, 0.05243893340229988, 0.06681947410106659, 0.08615416288375854, 0.08642961829900742, 0.08075300604104996, 0.09418635815382004, 0.10493026673793793, 0.08724234253168106, 0.1119159609079361, 0.1472780704498291, 0.0], [0.002588392933830619, 0.03057173639535904, 0.03137174993753433, 0.04190263897180557, 0.0539749339222908, 0.06773940473794937, 0.06815213710069656, 0.06377808749675751, 0.07439353317022324, 0.08438461273908615, 0.0756753534078598, 0.0865650326013565, 0.12434213608503342, 0.19456031918525696]], [[1.0, 0.0, 0.0, 0.0, 0.0, 0.0, 0.0, 0.0, 0.0, 0.0, 0.0, 0.0, 0.0, 0.0], [0.7468165755271912, 0.25318342447280884, 0.0, 0.0, 0.0, 0.0, 0.0, 0.0, 0.0, 0.0, 0.0, 0.0, 0.0, 0.0], [0.25142642855644226, 0.015167628414928913, 0.7334059476852417, 0.0, 0.0, 0.0, 0.0, 0.0, 0.0, 0.0, 0.0, 0.0, 0.0, 0.0], [0.158371239900589, 0.011439301073551178, 0.021696016192436218, 0.808493435382843, 0.0, 0.0, 0.0, 0.0, 0.0, 0.0, 0.0, 0.0, 0.0, 0.0], [0.3814575970172882, 0.008249688893556595, 0.006254104431718588, 0.008511127904057503, 0.5955274701118469, 0.0, 0.0, 0.0, 0.0, 0.0, 0.0, 0.0, 0.0, 0.0], [0.43594083189964294, 0.14380083978176117, 0.15431301295757294, 0.07109033316373825, 0.02853504754602909, 0.1663198620080948, 0.0, 0.0, 0.0, 0.0, 0.0, 0.0, 0.0, 0.0], [0.09738349914550781, 0.01084293331950903, 0.004604699090123177, 0.0009673795429989696, 0.0006136455340310931, 0.04336021468043327, 0.842227578163147, 0.0, 0.0, 0.0, 0.0, 0.0, 0.0, 0.0], [0.248993918299675, 0.10065456479787827, 0.12048931419849396, 0.03628133609890938, 0.02038404904305935, 0.130184143781662, 0.18193373084068298, 0.16107898950576782, 0.0, 0.0, 0.0, 0.0, 0.0, 0.0], [0.057271070778369904, 0.01656334102153778, 0.0032574525102972984, 0.0015278923092409968, 0.0004664080624934286, 0.04866469278931618, 0.007750794291496277, 0.04351739585399628, 0.8209808468818665, 0.0, 0.0, 0.0, 0.0, 0.0], [0.06198987737298012, 0.13207441568374634, 0.004824523814022541, 0.0014080592663958669, 0.0005878465017303824, 0.05538769066333771, 0.00741991912946105, 0.04592170938849449, 0.010391496121883392, 0.6799945831298828, 0.0, 0.0, 0.0, 0.0], [0.04435666650533676, 0.008960716426372528, 0.0023159938864409924, 0.0006822256254963577, 0.001192574156448245, 0.0450747050344944, 0.0062361303716897964, 0.04087869077920914, 0.003032112494111061, 0.0057922713458538055, 0.8414779901504517, 0.0, 0.0, 0.0], [0.13301214575767517, 0.007960783317685127, 0.018362348899245262, 0.0011839134385809302, 0.0006668490241281688, 0.08019207417964935, 0.014619486406445503, 0.07060756534337997, 0.002368854358792305, 0.01272957306355238, 0.004436067305505276, 0.6538602709770203, 0.0, 0.0], [0.03494923934340477, 0.006530366372317076, 0.003814639989286661, 0.0035208428744226694, 0.0044433665461838245, 0.038476672023534775, 0.002465019701048732, 0.035733215510845184, 0.004943728446960449, 0.008375014178454876, 0.005145303905010223, 0.012823857367038727, 0.8387787938117981, 0.0], [0.12334857881069183, 0.008375679142773151, 0.006584750488400459, 0.014116778038442135, 0.0029150182381272316, 0.06036904826760292, 0.016959458589553833, 0.053044866770505905, 0.006113765761256218, 0.0056829010136425495, 0.006716336123645306, 0.048592060804367065, 0.0012988426024094224, 0.6458818912506104]]], [[[1.0, 0.0, 0.0, 0.0, 0.0, 0.0, 0.0, 0.0, 0.0, 0.0, 0.0, 0.0, 0.0, 0.0], [0.9572131037712097, 0.04278692975640297, 0.0, 0.0, 0.0, 0.0, 0.0, 0.0, 0.0, 0.0, 0.0, 0.0, 0.0, 0.0], [0.825028121471405, 0.08012035489082336, 0.09485151618719101, 0.0, 0.0, 0.0, 0.0, 0.0, 0.0, 0.0, 0.0, 0.0, 0.0, 0.0], [0.6776913404464722, 0.08280795067548752, 0.08119871467351913, 0.15830202400684357, 0.0, 0.0, 0.0, 0.0, 0.0, 0.0, 0.0, 0.0, 0.0, 0.0], [0.4029000699520111, 0.09085994213819504, 0.06674674898386002, 0.3452785611152649, 0.09421474486589432, 0.0, 0.0, 0.0, 0.0, 0.0, 0.0, 0.0, 0.0, 0.0], [0.4061543941497803, 0.14176465570926666, 0.08607487380504608, 0.16382268071174622, 0.14195109903812408, 0.060232292860746384, 0.0, 0.0, 0.0, 0.0, 0.0, 0.0, 0.0, 0.0], [0.21316319704055786, 0.06752539426088333, 0.057276349514722824, 0.2111607939004898, 0.15902112424373627, 0.11164537072181702, 0.180207759141922, 0.0, 0.0, 0.0, 0.0, 0.0, 0.0, 0.0], [0.29002904891967773, 0.05013144761323929, 0.042509108781814575, 0.08240041881799698, 0.07193002849817276, 0.09789404273033142, 0.31496909260749817, 0.05013677850365639, 0.0, 0.0, 0.0, 0.0, 0.0, 0.0], [0.2051074057817459, 0.05831826105713844, 0.03515062853693962, 0.03841667249798775, 0.03354160860180855, 0.07795239239931107, 0.3425741493701935, 0.0944143608212471, 0.11452456563711166, 0.0, 0.0, 0.0, 0.0, 0.0], [0.2737891376018524, 0.015996241942048073, 0.018901947885751724, 0.06212102621793747, 0.06569969654083252, 0.06293580681085587, 0.20889011025428772, 0.07800984382629395, 0.10248022526502609, 0.1111760288476944, 0.0, 0.0, 0.0, 0.0], [0.22408133745193481, 0.006941724102944136, 0.011515031568706036, 0.04382731765508652, 0.04647549241781235, 0.0598779059946537, 0.2748359441757202, 0.0839143618941307, 0.08958806842565536, 0.07261897623538971, 0.0863237977027893, 0.0, 0.0, 0.0], [0.15994365513324738, 0.006028621457517147, 0.006640913896262646, 0.024374449625611305, 0.03234921023249626, 0.05330716446042061, 0.08150561153888702, 0.05948382616043091, 0.03723486512899399, 0.0596172995865345, 0.11856649816036224, 0.360947847366333, 0.0, 0.0], [0.14430482685565948, 0.0073753297328948975, 0.005760157946497202, 0.017704159021377563, 0.017677029594779015, 0.050700679421424866, 0.045639947056770325, 0.03853074088692665, 0.057007092982530594, 0.044471368193626404, 0.09255379438400269, 0.4346136152744293, 0.0436612144112587, 0.0], [0.19950053095817566, 0.01622295193374157, 0.010309811681509018, 0.02066718600690365, 0.016376281157135963, 0.0112985298037529, 0.08002284169197083, 0.014563998207449913, 0.07350273430347443, 0.059274256229400635, 0.13719889521598816, 0.22231857478618622, 0.09705185890197754, 0.041691508144140244]], [[1.0, 0.0, 0.0, 0.0, 0.0, 0.0, 0.0, 0.0, 0.0, 0.0, 0.0, 0.0, 0.0, 0.0], [0.9924716949462891, 0.0075283171609044075, 0.0, 0.0, 0.0, 0.0, 0.0, 0.0, 0.0, 0.0, 0.0, 0.0, 0.0, 0.0], [0.9449334740638733, 0.028410907834768295, 0.02665562555193901, 0.0, 0.0, 0.0, 0.0, 0.0, 0.0, 0.0, 0.0, 0.0, 0.0, 0.0], [0.8980589509010315, 0.04388837888836861, 0.03102630376815796, 0.02702629752457142, 0.0, 0.0, 0.0, 0.0, 0.0, 0.0, 0.0, 0.0, 0.0, 0.0], [0.8799959421157837, 0.03760426491498947, 0.025596655905246735, 0.024536317214369774, 0.0322667732834816, 0.0, 0.0, 0.0, 0.0, 0.0, 0.0, 0.0, 0.0, 0.0], [0.8981967568397522, 0.018243875354528427, 0.010569177567958832, 0.016406619921326637, 0.017400186508893967, 0.039183348417282104, 0.0, 0.0, 0.0, 0.0, 0.0, 0.0, 0.0, 0.0], [0.7280194759368896, 0.04692813754081726, 0.013822061941027641, 0.055550042539834976, 0.03331373631954193, 0.09780490398406982, 0.02456156723201275, 0.0, 0.0, 0.0, 0.0, 0.0, 0.0, 0.0], [0.7342875599861145, 0.03455393388867378, 0.010271134786307812, 0.02809208258986473, 0.025450298562645912, 0.06166178733110428, 0.01622920110821724, 0.08945401757955551, 0.0, 0.0, 0.0, 0.0, 0.0, 0.0], [0.6839869618415833, 0.039049915969371796, 0.011890645138919353, 0.05273260921239853, 0.040034662932157516, 0.06658000499010086, 0.02394702658057213, 0.06779295951128006, 0.013985232450067997, 0.0, 0.0, 0.0, 0.0, 0.0], [0.6878902912139893, 0.04788391664624214, 0.01213989406824112, 0.030539389699697495, 0.03243615850806236, 0.05596007779240608, 0.024475540965795517, 0.05633286386728287, 0.016535334289073944, 0.03580651059746742, 0.0, 0.0, 0.0, 0.0], [0.7009212374687195, 0.02717440202832222, 0.016415564343333244, 0.02901264652609825, 0.019065914675593376, 0.0751967579126358, 0.01600639708340168, 0.07007170468568802, 0.016579411923885345, 0.018101172521710396, 0.011454851366579533, 0.0, 0.0, 0.0], [0.7017400860786438, 0.029538730159401894, 0.012327207252383232, 0.034698739647865295, 0.024929480627179146, 0.04450153186917305, 0.012640491127967834, 0.05952425301074982, 0.010746707208454609, 0.022075418382883072, 0.01604592613875866, 0.03123147040605545, 0.0, 0.0], [0.36665108799934387, 0.07833046466112137, 0.015152343548834324, 0.07493609935045242, 0.12167073786258698, 0.06940166652202606, 0.038433752954006195, 0.04940072447061539, 0.02914142608642578, 0.04191923514008522, 0.033166442066431046, 0.02826862223446369, 0.05352747440338135, 0.0], [0.48514604568481445, 0.0431748703122139, 0.012056972831487656, 0.057024672627449036, 0.056213151663541794, 0.05263129994273186, 0.01528485119342804, 0.07896344363689423, 0.010345798917114735, 0.022600552067160606, 0.04385470226407051, 0.02325919270515442, 0.05304853245615959, 0.04639578238129616]], [[1.0, 0.0, 0.0, 0.0, 0.0, 0.0, 0.0, 0.0, 0.0, 0.0, 0.0, 0.0, 0.0, 0.0], [0.9988518953323364, 0.0011481302790343761, 0.0, 0.0, 0.0, 0.0, 0.0, 0.0, 0.0, 0.0, 0.0, 0.0, 0.0, 0.0], [0.2509509325027466, 0.7097373604774475, 0.03931165486574173, 0.0, 0.0, 0.0, 0.0, 0.0, 0.0, 0.0, 0.0, 0.0, 0.0, 0.0], [0.21313326060771942, 0.27145668864250183, 0.44059866666793823, 0.07481135427951813, 0.0, 0.0, 0.0, 0.0, 0.0, 0.0, 0.0, 0.0, 0.0, 0.0], [0.06602651625871658, 0.054035138338804245, 0.05453510954976082, 0.8115395903587341, 0.013863700442016125, 0.0, 0.0, 0.0, 0.0, 0.0, 0.0, 0.0, 0.0, 0.0], [0.18407076597213745, 0.026858922094106674, 0.13047102093696594, 0.15454769134521484, 0.12810693681240082, 0.37594470381736755, 0.0, 0.0, 0.0, 0.0, 0.0, 0.0, 0.0, 0.0], [0.07998518645763397, 0.01994245871901512, 0.012937807478010654, 0.1926901489496231, 0.015698732808232307, 0.49987098574638367, 0.178874671459198, 0.0, 0.0, 0.0, 0.0, 0.0, 0.0, 0.0], [0.008471870794892311, 0.0015998805174604058, 0.0018745679408311844, 0.01981526054441929, 0.0069306944496929646, 0.03481234982609749, 0.7629085183143616, 0.1635867953300476, 0.0, 0.0, 0.0, 0.0, 0.0, 0.0], [0.05048171803355217, 0.002829805016517639, 0.0014641252346336842, 0.0054541705176234245, 0.004319198429584503, 0.19364091753959656, 0.14327576756477356, 0.5343918204307556, 0.06414248794317245, 0.0, 0.0, 0.0, 0.0, 0.0], [0.008385540917515755, 5.673342002410209e-06, 0.00016746955225244164, 0.00044508581049740314, 0.00031470422982238233, 0.005521206185221672, 0.01589384861290455, 0.06775124371051788, 0.8650142550468445, 0.0365009531378746, 0.0, 0.0, 0.0, 0.0], [0.015673644840717316, 8.697500015841797e-05, 0.00018099838052876294, 0.0004694588133133948, 0.00032900398946367204, 0.01348161417990923, 0.017662102356553078, 0.11635889858007431, 0.15150763094425201, 0.607939600944519, 0.07631010562181473, 0.0, 0.0, 0.0], [0.02447526343166828, 2.4370436221943237e-05, 0.00011404621182009578, 0.0006645361427217722, 0.00036668035318143666, 0.0013366640778258443, 0.004867772106081247, 0.01743103191256523, 0.05192731320858002, 0.2602415680885315, 0.5902252197265625, 0.04832565784454346, 0.0, 0.0], [0.0546799972653389, 0.00016863891505636275, 0.00014539163385052234, 0.00021048345661256462, 0.0003755266370717436, 0.00844948273152113, 0.0020416181068867445, 0.032025620341300964, 0.12022368609905243, 0.09725622087717056, 0.05028357729315758, 0.5471037030220032, 0.08703602850437164, 0.0], [0.09132414311170578, 4.36193986388389e-05, 7.593665941385552e-05, 0.000226057309191674, 9.47083390201442e-05, 0.0008952667703852057, 0.0012007651384919882, 0.0007139377994462848, 0.024728352203965187, 0.017840582877397537, 0.01924438774585724, 0.05370407551527023, 0.3075774013996124, 0.4823308289051056]], [[1.0, 0.0, 0.0, 0.0, 0.0, 0.0, 0.0, 0.0, 0.0, 0.0, 0.0, 0.0, 0.0, 0.0], [0.9945032596588135, 0.005496753379702568, 0.0, 0.0, 0.0, 0.0, 0.0, 0.0, 0.0, 0.0, 0.0, 0.0, 0.0, 0.0], [0.7554246187210083, 0.07991774380207062, 0.16465765237808228, 0.0, 0.0, 0.0, 0.0, 0.0, 0.0, 0.0, 0.0, 0.0, 0.0, 0.0], [0.29410532116889954, 0.04934733733534813, 0.4930022656917572, 0.16354508697986603, 0.0, 0.0, 0.0, 0.0, 0.0, 0.0, 0.0, 0.0, 0.0, 0.0], [0.2334587126970291, 0.041535258293151855, 0.1971389502286911, 0.5170440673828125, 0.010822963900864124, 0.0, 0.0, 0.0, 0.0, 0.0, 0.0, 0.0, 0.0, 0.0], [0.23721855878829956, 0.07754747569561005, 0.35757583379745483, 0.18575042486190796, 0.07128346711397171, 0.07062430679798126, 0.0, 0.0, 0.0, 0.0, 0.0, 0.0, 0.0, 0.0], [0.1283261626958847, 0.03781948611140251, 0.27302390336990356, 0.10819263011217117, 0.026719987392425537, 0.23120887577533722, 0.194708913564682, 0.0, 0.0, 0.0, 0.0, 0.0, 0.0, 0.0], [0.07490914314985275, 0.012113906443119049, 0.14949269592761993, 0.05266769975423813, 0.007612302433699369, 0.042514726519584656, 0.5934537053108215, 0.06723577529191971, 0.0, 0.0, 0.0, 0.0, 0.0, 0.0], [0.09264744818210602, 0.0055634560994803905, 0.03180652856826782, 0.01212399359792471, 0.02149548940360546, 0.0397552028298378, 0.2668018341064453, 0.3655147850513458, 0.16429127752780914, 0.0, 0.0, 0.0, 0.0, 0.0], [0.09338439255952835, 0.0010648799361661077, 0.034962333738803864, 0.01134989969432354, 0.006733066868036985, 0.0443073995411396, 0.10169635713100433, 0.25364357233047485, 0.3661242723464966, 0.08673383295536041, 0.0, 0.0, 0.0, 0.0], [0.09320180118083954, 0.0015159894246608019, 0.028133446350693703, 0.00957685336470604, 0.004703333135694265, 0.02038153074681759, 0.151410773396492, 0.10815063118934631, 0.4821792244911194, 0.06569524854421616, 0.03505117446184158, 0.0, 0.0, 0.0], [0.11186925321817398, 0.0012775727082043886, 0.017279600724577904, 0.013730447739362717, 0.0030761943198740482, 0.0197382140904665, 0.10379836708307266, 0.10078153759241104, 0.49226903915405273, 0.07290394604206085, 0.03203843533992767, 0.031237376853823662, 0.0, 0.0], [0.08051513880491257, 0.0025221938267350197, 0.03176581859588623, 0.011678683571517467, 0.002353650750592351, 0.013525751419365406, 0.043490611016750336, 0.0342949815094471, 0.4137437343597412, 0.06553768366575241, 0.1204792708158493, 0.08060342818498611, 0.09948893636465073, 0.0], [0.10858161747455597, 0.004912491422146559, 0.017496535554528236, 0.006706726737320423, 0.0028846869245171547, 0.003962503280490637, 0.05748637393116951, 0.0387105867266655, 0.1394670009613037, 0.07629237323999405, 0.09821810573339462, 0.14189083874225616, 0.22033850848674774, 0.08305171877145767]], [[1.0, 0.0, 0.0, 0.0, 0.0, 0.0, 0.0, 0.0, 0.0, 0.0, 0.0, 0.0, 0.0, 0.0], [0.9835749864578247, 0.01642507314682007, 0.0, 0.0, 0.0, 0.0, 0.0, 0.0, 0.0, 0.0, 0.0, 0.0, 0.0, 0.0], [0.6160141825675964, 0.3086111545562744, 0.07537471503019333, 0.0, 0.0, 0.0, 0.0, 0.0, 0.0, 0.0, 0.0, 0.0, 0.0, 0.0], [0.5427364110946655, 0.2113461047410965, 0.2252371609210968, 0.02068040892481804, 0.0, 0.0, 0.0, 0.0, 0.0, 0.0, 0.0, 0.0, 0.0, 0.0], [0.24066732823848724, 0.1868966817855835, 0.10387060791254044, 0.4494423568248749, 0.019123006612062454, 0.0, 0.0, 0.0, 0.0, 0.0, 0.0, 0.0, 0.0, 0.0], [0.3472488522529602, 0.11984218657016754, 0.175459623336792, 0.1141899824142456, 0.014434067532420158, 0.22882531583309174, 0.0, 0.0, 0.0, 0.0, 0.0, 0.0, 0.0, 0.0], [0.2999081611633301, 0.06323541700839996, 0.09007122367620468, 0.09505023807287216, 0.004805618431419134, 0.3647381067276001, 0.08219127357006073, 0.0, 0.0, 0.0, 0.0, 0.0, 0.0, 0.0], [0.23356787860393524, 0.014773232862353325, 0.05584871768951416, 0.010759195312857628, 0.011833512224256992, 0.09512553364038467, 0.4690864384174347, 0.10900552570819855, 0.0, 0.0, 0.0, 0.0, 0.0, 0.0], [0.25624144077301025, 0.005850771442055702, 0.011607790365815163, 0.0005465647554956377, 0.000433904497185722, 0.11551287770271301, 0.18067604303359985, 0.4216645359992981, 0.007465996779501438, 0.0, 0.0, 0.0, 0.0, 0.0], [0.17999909818172455, 0.0027851767372339964, 0.010587153024971485, 0.0005966813769191504, 0.0007235644152387977, 0.07919126003980637, 0.2913379669189453, 0.19273369014263153, 0.1486266702413559, 0.09341882169246674, 0.0, 0.0, 0.0, 0.0], [0.12061481922864914, 0.006319053936749697, 0.006453356705605984, 0.00438666483387351, 0.0007805416244082153, 0.037951186299324036, 0.14910630881786346, 0.2576709985733032, 0.04645004868507385, 0.32648444175720215, 0.04378248006105423, 0.0, 0.0, 0.0], [0.02900730073451996, 0.0002622865722514689, 0.0003585206577554345, 0.002159158233553171, 0.0011902065016329288, 0.004997348412871361, 0.005069490056484938, 0.02241813950240612, 0.09546341001987457, 0.02907462976872921, 0.7682939767837524, 0.04170549288392067, 0.0, 0.0], [0.17667962610721588, 0.0036279852502048016, 0.0032189900521188974, 0.002078859368339181, 0.0008461112156510353, 0.02795039862394333, 0.004890951327979565, 0.065016970038414, 0.4683368504047394, 0.07620825618505478, 0.06689157336950302, 0.08996986597776413, 0.014283613301813602, 0.0], [0.3338823616504669, 0.00787742156535387, 0.010152640752494335, 0.0025440368335694075, 0.00015926196647342294, 0.02485062927007675, 0.04691736027598381, 0.06654741615056992, 0.032592643052339554, 0.0858338475227356, 0.00853599514812231, 0.07214921712875366, 0.13301219046115875, 0.17494505643844604]], [[1.0, 0.0, 0.0, 0.0, 0.0, 0.0, 0.0, 0.0, 0.0, 0.0, 0.0, 0.0, 0.0, 0.0], [0.9709694385528564, 0.029030533507466316, 0.0, 0.0, 0.0, 0.0, 0.0, 0.0, 0.0, 0.0, 0.0, 0.0, 0.0, 0.0], [0.49314966797828674, 0.4522642195224762, 0.05458604171872139, 0.0, 0.0, 0.0, 0.0, 0.0, 0.0, 0.0, 0.0, 0.0, 0.0, 0.0], [0.4890747368335724, 0.27222687005996704, 0.1800992488861084, 0.05859914422035217, 0.0, 0.0, 0.0, 0.0, 0.0, 0.0, 0.0, 0.0, 0.0, 0.0], [0.401887446641922, 0.2260780781507492, 0.09418370574712753, 0.1670914590358734, 0.11075925081968307, 0.0, 0.0, 0.0, 0.0, 0.0, 0.0, 0.0, 0.0, 0.0], [0.20859819650650024, 0.09304764866828918, 0.08572912961244583, 0.06998783349990845, 0.23048289120197296, 0.31215426325798035, 0.0, 0.0, 0.0, 0.0, 0.0, 0.0, 0.0, 0.0], [0.09345542639493942, 0.023636162281036377, 0.027486447244882584, 0.02233175002038479, 0.0677812248468399, 0.6273017525672913, 0.1380072385072708, 0.0, 0.0, 0.0, 0.0, 0.0, 0.0, 0.0], [0.04258667305111885, 0.013564039021730423, 0.01337344478815794, 0.003422875888645649, 0.014519685879349709, 0.2370121031999588, 0.5651625394821167, 0.11035865545272827, 0.0, 0.0, 0.0, 0.0, 0.0, 0.0], [0.07217029482126236, 0.004349746275693178, 0.006047133356332779, 0.004375491291284561, 0.00881064310669899, 0.16979417204856873, 0.19632865488529205, 0.49106523394584656, 0.04705863073468208, 0.0, 0.0, 0.0, 0.0, 0.0], [0.07074805349111557, 0.00047307831118814647, 0.004415449686348438, 0.0025865633506327868, 0.0032802775967866182, 0.11345530301332474, 0.21271978318691254, 0.39566683769226074, 0.12682946026325226, 0.06982515752315521, 0.0, 0.0, 0.0, 0.0], [0.06120094656944275, 0.0009049526415765285, 0.003959254361689091, 0.002769141923636198, 0.0033270542044192553, 0.07969637215137482, 0.15390820801258087, 0.3773510754108429, 0.11135879158973694, 0.19370980560779572, 0.01181438285857439, 0.0, 0.0, 0.0], [0.09036435186862946, 0.001509253983385861, 0.0019827079959213734, 0.0014781792415305972, 0.003426534356549382, 0.05456555634737015, 0.11905819177627563, 0.2079622596502304, 0.08690328896045685, 0.32058101892471313, 0.01936376467347145, 0.0928049385547638, 0.0, 0.0], [0.07419583201408386, 0.0016185409622266889, 0.001890053041279316, 0.0025213700719177723, 0.005836729891598225, 0.05127674341201782, 0.07316405326128006, 0.13060714304447174, 0.08453856408596039, 0.13670337200164795, 0.08403713256120682, 0.3191237151622772, 0.034486763179302216, 0.0], [0.14612028002738953, 0.00208142283372581, 0.00259212008677423, 0.0017411933513358235, 0.004914379213005304, 0.012454988434910774, 0.023361803963780403, 0.06421424448490143, 0.019309556111693382, 0.05592859536409378, 0.013688086532056332, 0.14209042489528656, 0.11422930657863617, 0.3972736597061157]], [[1.0, 0.0, 0.0, 0.0, 0.0, 0.0, 0.0, 0.0, 0.0, 0.0, 0.0, 0.0, 0.0, 0.0], [0.9926663041114807, 0.007333726156502962, 0.0, 0.0, 0.0, 0.0, 0.0, 0.0, 0.0, 0.0, 0.0, 0.0, 0.0, 0.0], [0.9252892136573792, 0.02330363728106022, 0.05140719562768936, 0.0, 0.0, 0.0, 0.0, 0.0, 0.0, 0.0, 0.0, 0.0, 0.0, 0.0], [0.8798325657844543, 0.021916868165135384, 0.0517546609044075, 0.04649593308568001, 0.0, 0.0, 0.0, 0.0, 0.0, 0.0, 0.0, 0.0, 0.0, 0.0], [0.8754690885543823, 0.014479990117251873, 0.04317595064640045, 0.02301202528178692, 0.04386294260621071, 0.0, 0.0, 0.0, 0.0, 0.0, 0.0, 0.0, 0.0, 0.0], [0.5792649388313293, 0.027434280142188072, 0.03533129394054413, 0.03459253907203674, 0.06073032692074776, 0.2626466453075409, 0.0, 0.0, 0.0, 0.0, 0.0, 0.0, 0.0, 0.0], [0.31222063302993774, 0.02153262309730053, 0.039694078266620636, 0.025441471487283707, 0.03188193589448929, 0.4981982409954071, 0.0710311159491539, 0.0, 0.0, 0.0, 0.0, 0.0, 0.0, 0.0], [0.34328290820121765, 0.01478284690529108, 0.022753490135073662, 0.020467599853873253, 0.03257043659687042, 0.37341684103012085, 0.1485949605703354, 0.044130872935056686, 0.0, 0.0, 0.0, 0.0, 0.0, 0.0], [0.27485114336013794, 0.02364334836602211, 0.0260557122528553, 0.03396638482809067, 0.037627652287483215, 0.3694925606250763, 0.10610739886760712, 0.04300791770219803, 0.0852479562163353, 0.0, 0.0, 0.0, 0.0, 0.0], [0.2510853409767151, 0.006241599563509226, 0.01393165998160839, 0.021504631265997887, 0.024779964238405228, 0.28450700640678406, 0.15469864010810852, 0.05764119327068329, 0.13307738304138184, 0.05253266543149948, 0.0, 0.0, 0.0, 0.0], [0.2020096480846405, 0.004789693281054497, 0.015005051158368587, 0.012217684648931026, 0.018073199316859245, 0.2403203248977661, 0.14464811980724335, 0.0595991387963295, 0.17098864912986755, 0.04203007370233536, 0.09031841158866882, 0.0, 0.0, 0.0], [0.18804524838924408, 0.005517046898603439, 0.013631266541779041, 0.01225503720343113, 0.01321637537330389, 0.2045988142490387, 0.1052984744310379, 0.05559873580932617, 0.16230128705501556, 0.04278801754117012, 0.0561395063996315, 0.14061014354228973, 0.0, 0.0], [0.29550105333328247, 0.007416612934321165, 0.014814919792115688, 0.008823512122035027, 0.015442071482539177, 0.1848580688238144, 0.08713201433420181, 0.061071060597896576, 0.1120380312204361, 0.04487135633826256, 0.0469135083258152, 0.07076724618673325, 0.050350580364465714, 0.0], [0.1581716388463974, 0.0060395472683012486, 0.009029321372509003, 0.010516325011849403, 0.01798487827181816, 0.12256848812103271, 0.07910038530826569, 0.018372289836406708, 0.10050521790981293, 0.028716610744595528, 0.057112276554107666, 0.07632148265838623, 0.040818534791469574, 0.274742990732193]], [[1.0, 0.0, 0.0, 0.0, 0.0, 0.0, 0.0, 0.0, 0.0, 0.0, 0.0, 0.0, 0.0, 0.0], [0.868912935256958, 0.13108707964420319, 0.0, 0.0, 0.0, 0.0, 0.0, 0.0, 0.0, 0.0, 0.0, 0.0, 0.0, 0.0], [0.6704715490341187, 0.0812542736530304, 0.24827420711517334, 0.0, 0.0, 0.0, 0.0, 0.0, 0.0, 0.0, 0.0, 0.0, 0.0, 0.0], [0.4933050572872162, 0.06331612914800644, 0.13421699404716492, 0.30916181206703186, 0.0, 0.0, 0.0, 0.0, 0.0, 0.0, 0.0, 0.0, 0.0, 0.0], [0.3491557538509369, 0.027927760034799576, 0.07229892909526825, 0.17371392250061035, 0.37690362334251404, 0.0, 0.0, 0.0, 0.0, 0.0, 0.0, 0.0, 0.0, 0.0], [0.2250576913356781, 0.023209737613797188, 0.05948349088430405, 0.15878792107105255, 0.307485967874527, 0.22597528994083405, 0.0, 0.0, 0.0, 0.0, 0.0, 0.0, 0.0, 0.0], [0.18694572150707245, 0.014681183733046055, 0.039974335581064224, 0.11539434641599655, 0.21565087139606476, 0.1780472844839096, 0.249306321144104, 0.0, 0.0, 0.0, 0.0, 0.0, 0.0, 0.0], [0.15206573903560638, 0.010928399860858917, 0.029980864375829697, 0.07209616899490356, 0.15080350637435913, 0.12417161464691162, 0.24027927219867706, 0.2196744829416275, 0.0, 0.0, 0.0, 0.0, 0.0, 0.0], [0.12346618622541428, 0.012506984174251556, 0.02550950087606907, 0.051075611263513565, 0.10529708117246628, 0.08948621153831482, 0.1465582698583603, 0.1580892652273178, 0.2880108952522278, 0.0, 0.0, 0.0, 0.0, 0.0], [0.10424633324146271, 0.0086484020575881, 0.01973908022046089, 0.04067683592438698, 0.06987578421831131, 0.0658436194062233, 0.10969597846269608, 0.09400326013565063, 0.2241746336221695, 0.2630961537361145, 0.0, 0.0, 0.0, 0.0], [0.09516726434230804, 0.008327136747539043, 0.018281754106283188, 0.035235445946455, 0.05935647711157799, 0.058216117322444916, 0.10771916061639786, 0.08962886035442352, 0.16920436918735504, 0.2285211980342865, 0.13034221529960632, 0.0, 0.0, 0.0], [0.09465613961219788, 0.009079961106181145, 0.01642131805419922, 0.030198782682418823, 0.053333476185798645, 0.04976240545511246, 0.0820344090461731, 0.06861617416143417, 0.15502355992794037, 0.1840004026889801, 0.1123896986246109, 0.1444835215806961, 0.0, 0.0], [0.11092700809240341, 0.012669616378843784, 0.01743396185338497, 0.03458821773529053, 0.05528504401445389, 0.05450781062245369, 0.06589431315660477, 0.061210986226797104, 0.11501975357532501, 0.12750358879566193, 0.08026956766843796, 0.10669352859258652, 0.15799662470817566, 0.0], [0.07887595146894455, 0.009092994965612888, 0.013692955486476421, 0.029737314209342003, 0.04773226007819176, 0.03442979231476784, 0.054608944803476334, 0.047575779259204865, 0.11323221027851105, 0.11170933395624161, 0.07677969336509705, 0.07172387093305588, 0.1401350498199463, 0.17067384719848633]], [[1.0, 0.0, 0.0, 0.0, 0.0, 0.0, 0.0, 0.0, 0.0, 0.0, 0.0, 0.0, 0.0, 0.0], [0.9471847414970398, 0.052815262228250504, 0.0, 0.0, 0.0, 0.0, 0.0, 0.0, 0.0, 0.0, 0.0, 0.0, 0.0, 0.0], [0.5016269087791443, 0.4710073173046112, 0.027365829795598984, 0.0, 0.0, 0.0, 0.0, 0.0, 0.0, 0.0, 0.0, 0.0, 0.0, 0.0], [0.4001155495643616, 0.35096219182014465, 0.12265663594007492, 0.12626570463180542, 0.0, 0.0, 0.0, 0.0, 0.0, 0.0, 0.0, 0.0, 0.0, 0.0], [0.3461667001247406, 0.2941323220729828, 0.1016799733042717, 0.21522070467472076, 0.042800337076187134, 0.0, 0.0, 0.0, 0.0, 0.0, 0.0, 0.0, 0.0, 0.0], [0.13259893655776978, 0.41930294036865234, 0.11360379308462143, 0.1213715448975563, 0.09318511933088303, 0.11993764340877533, 0.0, 0.0, 0.0, 0.0, 0.0, 0.0, 0.0, 0.0], [0.08613086491823196, 0.31011348962783813, 0.09338320791721344, 0.04203084856271744, 0.0522601455450058, 0.22828742861747742, 0.1877940595149994, 0.0, 0.0, 0.0, 0.0, 0.0, 0.0, 0.0], [0.07767666131258011, 0.14015451073646545, 0.0420377254486084, 0.022202789783477783, 0.01985684596002102, 0.107953280210495, 0.5210533142089844, 0.06906482577323914, 0.0, 0.0, 0.0, 0.0, 0.0, 0.0], [0.10674090683460236, 0.08037831634283066, 0.01833449676632881, 0.01403781957924366, 0.0146073829382658, 0.11651886999607086, 0.2919202744960785, 0.29533451795578003, 0.06212751567363739, 0.0, 0.0, 0.0, 0.0, 0.0], [0.12255369871854782, 0.0061846645548939705, 0.01085338369011879, 0.010710649192333221, 0.00810210406780243, 0.08657190203666687, 0.18765613436698914, 0.24026621878147125, 0.05179652199149132, 0.27530476450920105, 0.0, 0.0, 0.0, 0.0], [0.07728885114192963, 0.005902692209929228, 0.0037528614047914743, 0.0039419266395270824, 0.0013632882619276643, 0.04156734049320221, 0.07214377820491791, 0.10299642384052277, 0.018433015793561935, 0.6521757245063782, 0.0204341858625412, 0.0, 0.0, 0.0], [0.0807952955365181, 0.003569908905774355, 0.002082525985315442, 0.0014049886958673596, 0.0004082484811078757, 0.024436870589852333, 0.02106831967830658, 0.07349160313606262, 0.01376237254589796, 0.5760763883590698, 0.13246965408325195, 0.0704338476061821, 0.0, 0.0], [0.049224358052015305, 0.0032163073774427176, 0.002979433164000511, 0.0020440449006855488, 0.0015249503776431084, 0.013523183763027191, 0.019120752811431885, 0.028528228402137756, 0.030129263177514076, 0.16099442541599274, 0.344588041305542, 0.26752594113349915, 0.076601043343544, 0.0], [0.08313674479722977, 0.018122054636478424, 0.007752546574920416, 0.004015977494418621, 0.0037444347981363535, 0.007261420600116253, 0.05852699652314186, 0.029682768508791924, 0.037270426750183105, 0.2935011386871338, 0.01692219451069832, 0.2335822582244873, 0.08896809071302414, 0.11751297116279602]], [[1.0, 0.0, 0.0, 0.0, 0.0, 0.0, 0.0, 0.0, 0.0, 0.0, 0.0, 0.0, 0.0, 0.0], [0.9961389899253845, 0.0038610154297202826, 0.0, 0.0, 0.0, 0.0, 0.0, 0.0, 0.0, 0.0, 0.0, 0.0, 0.0, 0.0], [0.9129564166069031, 0.06319952756166458, 0.023844098672270775, 0.0, 0.0, 0.0, 0.0, 0.0, 0.0, 0.0, 0.0, 0.0, 0.0, 0.0], [0.6667996048927307, 0.0671638548374176, 0.06346919387578964, 0.20256733894348145, 0.0, 0.0, 0.0, 0.0, 0.0, 0.0, 0.0, 0.0, 0.0, 0.0], [0.23040753602981567, 0.048773571848869324, 0.04283027723431587, 0.5689948201179504, 0.10899380594491959, 0.0, 0.0, 0.0, 0.0, 0.0, 0.0, 0.0, 0.0, 0.0], [0.12850536406040192, 0.010715468786656857, 0.029164200648665428, 0.19618138670921326, 0.5493987798690796, 0.08603481203317642, 0.0, 0.0, 0.0, 0.0, 0.0, 0.0, 0.0, 0.0], [0.07117918878793716, 0.01407927367836237, 0.03447044640779495, 0.21742841601371765, 0.27201324701309204, 0.34037086367607117, 0.05045853927731514, 0.0, 0.0, 0.0, 0.0, 0.0, 0.0, 0.0], [0.11429627239704132, 0.016025876626372337, 0.03192145377397537, 0.13176144659519196, 0.25529372692108154, 0.14802297949790955, 0.209897980093956, 0.09278026223182678, 0.0, 0.0, 0.0, 0.0, 0.0, 0.0], [0.09333470463752747, 0.007906454615294933, 0.011565595865249634, 0.08030017465353012, 0.09396564215421677, 0.14764955639839172, 0.08371744304895401, 0.2256591022014618, 0.2559013366699219, 0.0, 0.0, 0.0, 0.0, 0.0], [0.07200580090284348, 0.0009307715808972716, 0.00438464293256402, 0.05133283883333206, 0.04543355107307434, 0.06670136749744415, 0.03310113400220871, 0.14803779125213623, 0.46367141604423523, 0.11440057307481766, 0.0, 0.0, 0.0, 0.0], [0.08290594816207886, 0.0007104871328920126, 0.0032174394000321627, 0.035858381539583206, 0.029076244682073593, 0.037516772747039795, 0.030654512345790863, 0.09393278509378433, 0.392416387796402, 0.13124839961528778, 0.16246266663074493, 0.0, 0.0, 0.0], [0.08504187315702438, 0.0005776348407380283, 0.0018407931784167886, 0.01967369206249714, 0.02211928367614746, 0.02756614424288273, 0.02067854255437851, 0.07912292331457138, 0.3120775520801544, 0.07471490651369095, 0.31234270334243774, 0.044243987649679184, 0.0, 0.0], [0.07448364049196243, 0.0013273340882733464, 0.0011558713158592582, 0.005470093339681625, 0.00965039525181055, 0.02633805386722088, 0.01286532822996378, 0.024492530152201653, 0.2565711736679077, 0.06304294615983963, 0.2516387701034546, 0.06442607939243317, 0.20853792130947113, 0.0], [0.06016549468040466, 0.00047740607988089323, 0.0009607415413483977, 0.004594715312123299, 0.009394768625497818, 0.0031826540362089872, 0.005876285023987293, 0.0053995586931705475, 0.035548727959394455, 0.01668339967727661, 0.04412982240319252, 0.03794915974140167, 0.6302211880683899, 0.14541609585285187]], [[1.0, 0.0, 0.0, 0.0, 0.0, 0.0, 0.0, 0.0, 0.0, 0.0, 0.0, 0.0, 0.0, 0.0], [0.8960570096969604, 0.10394303500652313, 0.0, 0.0, 0.0, 0.0, 0.0, 0.0, 0.0, 0.0, 0.0, 0.0, 0.0, 0.0], [0.7782413959503174, 0.1214657798409462, 0.10029277950525284, 0.0, 0.0, 0.0, 0.0, 0.0, 0.0, 0.0, 0.0, 0.0, 0.0, 0.0], [0.6254060864448547, 0.09577299654483795, 0.07673852890729904, 0.20208236575126648, 0.0, 0.0, 0.0, 0.0, 0.0, 0.0, 0.0, 0.0, 0.0, 0.0], [0.46974486112594604, 0.07741950452327728, 0.06929866224527359, 0.16634632647037506, 0.21719062328338623, 0.0, 0.0, 0.0, 0.0, 0.0, 0.0, 0.0, 0.0, 0.0], [0.4735479950904846, 0.06255465000867844, 0.04646458849310875, 0.1357732117176056, 0.15753279626369476, 0.12412676960229874, 0.0, 0.0, 0.0, 0.0, 0.0, 0.0, 0.0, 0.0], [0.3434526026248932, 0.0672583058476448, 0.04542668163776398, 0.1273685097694397, 0.14418098330497742, 0.13848081231117249, 0.13383209705352783, 0.0, 0.0, 0.0, 0.0, 0.0, 0.0, 0.0], [0.32473471760749817, 0.05267011374235153, 0.037156689912080765, 0.09274577349424362, 0.10154615342617035, 0.10383813083171844, 0.1656021773815155, 0.12170623242855072, 0.0, 0.0, 0.0, 0.0, 0.0, 0.0], [0.2532684803009033, 0.05467677488923073, 0.03526391461491585, 0.0821009948849678, 0.09548741579055786, 0.09200063347816467, 0.09720007330179214, 0.1128748208284378, 0.17712688446044922, 0.0, 0.0, 0.0, 0.0, 0.0], [0.21204596757888794, 0.04194122180342674, 0.03007614053785801, 0.07341983914375305, 0.06217372789978981, 0.08402606099843979, 0.09323909878730774, 0.0857575312256813, 0.14606128633022308, 0.17125917971134186, 0.0, 0.0, 0.0, 0.0], [0.1643158495426178, 0.030071787536144257, 0.024200355634093285, 0.059147585183382034, 0.048961520195007324, 0.06802967935800552, 0.0768439844250679, 0.0740860179066658, 0.12588201463222504, 0.16010026633739471, 0.16836102306842804, 0.0, 0.0, 0.0], [0.1635383814573288, 0.028920333832502365, 0.019971609115600586, 0.05075319483876228, 0.04765720292925835, 0.05536271259188652, 0.06796453893184662, 0.05023651197552681, 0.1256948858499527, 0.1339586228132248, 0.11961059272289276, 0.13633136451244354, 0.0, 0.0], [0.12603755295276642, 0.02648080140352249, 0.01643550768494606, 0.046215325593948364, 0.05398363620042801, 0.056364551186561584, 0.05488291755318642, 0.050279177725315094, 0.08886785805225372, 0.09806734323501587, 0.10671965777873993, 0.08997264504432678, 0.18569299578666687, 0.0], [0.1306375116109848, 0.019259976223111153, 0.01385169941931963, 0.04514801874756813, 0.0452178530395031, 0.03972957283258438, 0.039006080478429794, 0.03789829462766647, 0.07777029275894165, 0.06927397847175598, 0.08799360692501068, 0.06266359984874725, 0.16519005596637726, 0.16635946929454803]], [[1.0, 0.0, 0.0, 0.0, 0.0, 0.0, 0.0, 0.0, 0.0, 0.0, 0.0, 0.0, 0.0, 0.0], [0.9612502455711365, 0.03874969109892845, 0.0, 0.0, 0.0, 0.0, 0.0, 0.0, 0.0, 0.0, 0.0, 0.0, 0.0, 0.0], [0.8870447278022766, 0.05199230834841728, 0.06096296012401581, 0.0, 0.0, 0.0, 0.0, 0.0, 0.0, 0.0, 0.0, 0.0, 0.0, 0.0], [0.8309462070465088, 0.04354008287191391, 0.0463765524327755, 0.0791371762752533, 0.0, 0.0, 0.0, 0.0, 0.0, 0.0, 0.0, 0.0, 0.0, 0.0], [0.7788510918617249, 0.038355957716703415, 0.041609495878219604, 0.05585431307554245, 0.08532919734716415, 0.0, 0.0, 0.0, 0.0, 0.0, 0.0, 0.0, 0.0, 0.0], [0.7347021698951721, 0.024901391938328743, 0.028455955907702446, 0.05060052499175072, 0.07976043969392776, 0.08157936483621597, 0.0, 0.0, 0.0, 0.0, 0.0, 0.0, 0.0, 0.0], [0.7112798690795898, 0.02464611455798149, 0.021652743220329285, 0.03887805715203285, 0.05483260005712509, 0.07812616229057312, 0.07058452069759369, 0.0, 0.0, 0.0, 0.0, 0.0, 0.0, 0.0], [0.7012147307395935, 0.018253153190016747, 0.016234727576375008, 0.032839335501194, 0.0453348308801651, 0.049718767404556274, 0.07178378850221634, 0.06462059915065765, 0.0, 0.0, 0.0, 0.0, 0.0, 0.0], [0.6732984781265259, 0.015465780161321163, 0.01395037304610014, 0.024044813588261604, 0.03328552842140198, 0.04053676500916481, 0.04330144822597504, 0.06601762026548386, 0.09009917825460434, 0.0, 0.0, 0.0, 0.0, 0.0], [0.6441730260848999, 0.011148247867822647, 0.011490581557154655, 0.023721100762486458, 0.02302449941635132, 0.03562184423208237, 0.04625304415822029, 0.046186067163944244, 0.07841349393129349, 0.07996808737516403, 0.0, 0.0, 0.0, 0.0], [0.5989609360694885, 0.010993781499564648, 0.010831712745130062, 0.02221602387726307, 0.02102111652493477, 0.03097541444003582, 0.04457006976008415, 0.03571662679314613, 0.07467593997716904, 0.0775499939918518, 0.0724884495139122, 0.0, 0.0, 0.0], [0.6073623895645142, 0.009760573506355286, 0.00830690935254097, 0.016818100586533546, 0.015827570110559464, 0.025286030024290085, 0.03181244432926178, 0.029857870191335678, 0.0633537694811821, 0.060542937368154526, 0.05850214883685112, 0.07256924360990524, 0.0, 0.0], [0.5929238200187683, 0.0068932450376451015, 0.0072237723506987095, 0.014089931733906269, 0.018407465890049934, 0.02592642605304718, 0.02622205764055252, 0.02444085292518139, 0.04588991031050682, 0.04430261254310608, 0.053586360067129135, 0.052496157586574554, 0.08759737759828568, 0.0], [0.6141130328178406, 0.006157753057777882, 0.0063369679264724255, 0.01162073016166687, 0.015545970760285854, 0.01580723747611046, 0.017670441418886185, 0.01675015315413475, 0.04076831415295601, 0.03176259994506836, 0.04058755561709404, 0.03509479761123657, 0.0709872767329216, 0.07679720968008041]]], [[[1.0, 0.0, 0.0, 0.0, 0.0, 0.0, 0.0, 0.0, 0.0, 0.0, 0.0, 0.0, 0.0, 0.0], [0.9977868795394897, 0.002213135827332735, 0.0, 0.0, 0.0, 0.0, 0.0, 0.0, 0.0, 0.0, 0.0, 0.0, 0.0, 0.0], [0.9895462393760681, 0.0025793430395424366, 0.00787440687417984, 0.0, 0.0, 0.0, 0.0, 0.0, 0.0, 0.0, 0.0, 0.0, 0.0, 0.0], [0.9352243542671204, 0.001116808969527483, 0.00439801998436451, 0.05926084518432617, 0.0, 0.0, 0.0, 0.0, 0.0, 0.0, 0.0, 0.0, 0.0, 0.0], [0.9582989811897278, 0.0003522818733472377, 0.0011524194851517677, 0.0001209761539939791, 0.040075358003377914, 0.0, 0.0, 0.0, 0.0, 0.0, 0.0, 0.0, 0.0, 0.0], [0.984592616558075, 0.004339727107435465, 0.0072392309084534645, 0.0005284454673528671, 0.0003954945714212954, 0.0029044621624052525, 0.0, 0.0, 0.0, 0.0, 0.0, 0.0, 0.0, 0.0], [0.9272541999816895, 0.0014972646022215486, 0.005423909518867731, 0.000671972637064755, 0.00014523747086059302, 0.006132145877927542, 0.05887524038553238, 0.0, 0.0, 0.0, 0.0, 0.0, 0.0, 0.0], [0.9496936798095703, 0.010109830647706985, 0.023292329162359238, 0.0005734252044931054, 0.0004010010161437094, 0.005793685093522072, 0.006581203080713749, 0.003554844530299306, 0.0, 0.0, 0.0, 0.0, 0.0, 0.0], [0.9277617931365967, 0.003937572240829468, 0.0026580882258713245, 0.00024243818188551813, 6.37745251879096e-05, 0.0041708266362547874, 0.0006465425249189138, 0.0028171788435429335, 0.05770163983106613, 0.0, 0.0, 0.0, 0.0, 0.0], [0.9065784215927124, 0.049957673996686935, 0.006772280670702457, 0.00018884355085901916, 0.00019278627587482333, 0.003392621176317334, 0.001101719681173563, 0.001897015143185854, 0.001750398543663323, 0.028168365359306335, 0.0, 0.0, 0.0, 0.0], [0.9436805844306946, 0.0037959811743348837, 0.0021322257816791534, 7.086995901772752e-05, 0.0009448795462958515, 0.004268186632543802, 0.0004467821854632348, 0.0009628097177483141, 6.599786138394848e-05, 0.0011304512154310942, 0.042501166462898254, 0.0, 0.0, 0.0], [0.9201321005821228, 0.015880083665251732, 0.00893241073936224, 0.0008801094954833388, 0.0005287581006996334, 0.005473568104207516, 0.001979784807190299, 0.002441560151055455, 0.0003493206750135869, 0.0038224784657359123, 0.02778266742825508, 0.011797097511589527, 0.0, 0.0], [0.9383884072303772, 0.0013787838397547603, 0.005121457856148481, 0.0003075428248848766, 0.00040371838258579373, 0.00339474156498909, 8.244549826486036e-05, 0.0009123836061917245, 3.8309470255626366e-05, 0.0002102757280226797, 3.920134622603655e-05, 0.00148333131801337, 0.048239484429359436, 0.0], [0.8994612097740173, 0.007542941253632307, 0.010000400245189667, 0.0020972166676074266, 0.0031979053746908903, 0.011006291024386883, 0.005375790875405073, 0.004207756835967302, 0.00587391946464777, 0.0007694929372519255, 0.0007557457429356873, 0.0019523020600900054, 0.0001030912681017071, 0.04765576496720314]], [[1.0, 0.0, 0.0, 0.0, 0.0, 0.0, 0.0, 0.0, 0.0, 0.0, 0.0, 0.0, 0.0, 0.0], [0.9590672254562378, 0.04093272611498833, 0.0, 0.0, 0.0, 0.0, 0.0, 0.0, 0.0, 0.0, 0.0, 0.0, 0.0, 0.0], [0.7877850532531738, 0.1768999993801117, 0.03531501442193985, 0.0, 0.0, 0.0, 0.0, 0.0, 0.0, 0.0, 0.0, 0.0, 0.0, 0.0], [0.7201447486877441, 0.17548809945583344, 0.08655630052089691, 0.017810840159654617, 0.0, 0.0, 0.0, 0.0, 0.0, 0.0, 0.0, 0.0, 0.0, 0.0], [0.7350741624832153, 0.136213019490242, 0.07526526600122452, 0.020207157358527184, 0.033240485936403275, 0.0, 0.0, 0.0, 0.0, 0.0, 0.0, 0.0, 0.0, 0.0], [0.5914303064346313, 0.19527873396873474, 0.06409550458192825, 0.008650531060993671, 0.018986260518431664, 0.12155866622924805, 0.0, 0.0, 0.0, 0.0, 0.0, 0.0, 0.0, 0.0], [0.46452128887176514, 0.07021860778331757, 0.013003246858716011, 0.001984889153391123, 0.0038980799727141857, 0.38819462060928345, 0.05817922204732895, 0.0, 0.0, 0.0, 0.0, 0.0, 0.0, 0.0], [0.47153300046920776, 0.029930664226412773, 0.004858551546931267, 0.00194976304192096, 0.002365176333114505, 0.09045999497175217, 0.2604089081287384, 0.13849391043186188, 0.0, 0.0, 0.0, 0.0, 0.0, 0.0], [0.3774302005767822, 0.023470567539334297, 0.007221216335892677, 0.002917664358392358, 0.004555821418762207, 0.12519101798534393, 0.1955723613500595, 0.22810065746307373, 0.03554053232073784, 0.0, 0.0, 0.0, 0.0, 0.0], [0.32909464836120605, 0.0027789294254034758, 0.002669714158400893, 0.0010484160156920552, 0.0014832416782155633, 0.09683695435523987, 0.28111532330513, 0.16213276982307434, 0.07671835273504257, 0.04612157493829727, 0.0, 0.0, 0.0, 0.0], [0.4172273576259613, 0.00262761814519763, 0.0011549072805792093, 0.0013254735385999084, 0.003953779116272926, 0.06346257776021957, 0.250367671251297, 0.1093473732471466, 0.09564442932605743, 0.04110967367887497, 0.013779126107692719, 0.0, 0.0, 0.0], [0.38022056221961975, 0.003168830880895257, 0.001778629724867642, 0.0011296940501779318, 0.001995311351493001, 0.058265507221221924, 0.2105824202299118, 0.1418362557888031, 0.0550302118062973, 0.07831311970949173, 0.01802404411137104, 0.049655333161354065, 0.0, 0.0], [0.1683976799249649, 0.003228615503758192, 0.002751880092546344, 0.0015116207068786025, 0.002875928534194827, 0.02118031121790409, 0.018420007079839706, 0.03888325020670891, 0.6582809090614319, 0.03877490013837814, 0.015639351680874825, 0.016288941726088524, 0.013766705058515072, 0.0], [0.44288477301597595, 0.011992878280580044, 0.007260106038302183, 0.0011889314046129584, 0.0006336523802019656, 0.024935152381658554, 0.09617456793785095, 0.13788482546806335, 0.056855909526348114, 0.06332550942897797, 0.01562998630106449, 0.059623587876558304, 0.00854411069303751, 0.0730661079287529]], [[1.0, 0.0, 0.0, 0.0, 0.0, 0.0, 0.0, 0.0, 0.0, 0.0, 0.0, 0.0, 0.0, 0.0], [0.8372243642807007, 0.16277562081813812, 0.0, 0.0, 0.0, 0.0, 0.0, 0.0, 0.0, 0.0, 0.0, 0.0, 0.0, 0.0], [0.21992385387420654, 0.6413169503211975, 0.13875918090343475, 0.0, 0.0, 0.0, 0.0, 0.0, 0.0, 0.0, 0.0, 0.0, 0.0, 0.0], [0.1274830549955368, 0.37538614869117737, 0.4067753255367279, 0.0903555154800415, 0.0, 0.0, 0.0, 0.0, 0.0, 0.0, 0.0, 0.0, 0.0, 0.0], [0.03358382731676102, 0.1085311695933342, 0.752764880657196, 0.08728408068418503, 0.017836032435297966, 0.0, 0.0, 0.0, 0.0, 0.0, 0.0, 0.0, 0.0, 0.0], [0.07152016460895538, 0.45299696922302246, 0.2724474370479584, 0.03813403099775314, 0.07231006771326065, 0.09259135276079178, 0.0, 0.0, 0.0, 0.0, 0.0, 0.0, 0.0, 0.0], [0.0618610754609108, 0.19453701376914978, 0.1170673742890358, 0.005711672827601433, 0.014182541519403458, 0.4431268274784088, 0.16351348161697388, 0.0, 0.0, 0.0, 0.0, 0.0, 0.0, 0.0], [0.12034176290035248, 0.03318668156862259, 0.01772279478609562, 0.000993831898085773, 0.003742821281775832, 0.06595542281866074, 0.7155098915100098, 0.042546819895505905, 0.0, 0.0, 0.0, 0.0, 0.0, 0.0], [0.10566096752882004, 0.013849047012627125, 0.011147411540150642, 0.00036020626430399716, 0.000943525810725987, 0.017061224207282066, 0.18479882180690765, 0.6286861896514893, 0.037492550909519196, 0.0, 0.0, 0.0, 0.0, 0.0], [0.1615533083677292, 0.001367609016597271, 0.014701377600431442, 0.00034194887848570943, 0.0014252872206270695, 0.037049371749162674, 0.11659397929906845, 0.21557879447937012, 0.362707257270813, 0.08868099004030228, 0.0, 0.0, 0.0, 0.0], [0.2627827525138855, 0.0015314863994717598, 0.012549473904073238, 0.0005960449343547225, 0.003509510774165392, 0.021331725642085075, 0.018908100202679634, 0.04028276354074478, 0.18110838532447815, 0.4277798533439636, 0.029619909822940826, 0.0, 0.0, 0.0], [0.22013278305530548, 0.0016817678697407246, 0.006460088770836592, 0.0004353419062681496, 0.0009806774323806167, 0.013329729437828064, 0.030714375898241997, 0.04989033192396164, 0.27664050459861755, 0.23527663946151733, 0.10803421586751938, 0.056423574686050415, 0.0, 0.0], [0.09158171713352203, 0.00124372448772192, 0.0048123314045369625, 0.0004491469881031662, 0.0006850979407317936, 0.002968741348013282, 0.004485385492444038, 0.009380534291267395, 0.03674601390957832, 0.1635832041501999, 0.1790657341480255, 0.3664906620979309, 0.13850757479667664, 0.0], [0.2940232455730438, 0.004229390062391758, 0.004461983218789101, 0.00035897092311643064, 0.000365173356840387, 0.0010837398003786802, 0.016765525564551353, 0.041958946734666824, 0.031084660440683365, 0.03755931928753853, 0.02347799949347973, 0.06324800103902817, 0.4061349630355835, 0.07524801790714264]], [[1.0, 0.0, 0.0, 0.0, 0.0, 0.0, 0.0, 0.0, 0.0, 0.0, 0.0, 0.0, 0.0, 0.0], [0.974719762802124, 0.025280172005295753, 0.0, 0.0, 0.0, 0.0, 0.0, 0.0, 0.0, 0.0, 0.0, 0.0, 0.0, 0.0], [0.6582114696502686, 0.25672048330307007, 0.08506795763969421, 0.0, 0.0, 0.0, 0.0, 0.0, 0.0, 0.0, 0.0, 0.0, 0.0, 0.0], [0.5931891798973083, 0.169336199760437, 0.19897004961967468, 0.038504552096128464, 0.0, 0.0, 0.0, 0.0, 0.0, 0.0, 0.0, 0.0, 0.0, 0.0], [0.4615980386734009, 0.05803766846656799, 0.06572435051202774, 0.38543856143951416, 0.029201367869973183, 0.0, 0.0, 0.0, 0.0, 0.0, 0.0, 0.0, 0.0, 0.0], [0.698796272277832, 0.03801427409052849, 0.023278163745999336, 0.009853577241301537, 0.04880748316645622, 0.18125024437904358, 0.0, 0.0, 0.0, 0.0, 0.0, 0.0, 0.0, 0.0], [0.4362151026725769, 0.017458323389291763, 0.0037810790818184614, 0.008150968700647354, 0.005021681077778339, 0.4973510801792145, 0.03202177956700325, 0.0, 0.0, 0.0, 0.0, 0.0, 0.0, 0.0], [0.3952421247959137, 0.00436924584209919, 0.005939845461398363, 0.013197113759815693, 0.00315910205245018, 0.12573003768920898, 0.33835217356681824, 0.114010289311409, 0.0, 0.0, 0.0, 0.0, 0.0, 0.0], [0.6297950148582458, 0.004893632605671883, 0.0016346890479326248, 0.001071970327757299, 0.0010827843798324466, 0.10068343579769135, 0.0470525361597538, 0.20070523023605347, 0.013080835342407227, 0.0, 0.0, 0.0, 0.0, 0.0], [0.3272676169872284, 0.0003077593573834747, 0.0009417282999493182, 0.00136954162735492, 0.0001463578810216859, 0.029597394168376923, 0.05233897641301155, 0.19932805001735687, 0.2696801722049713, 0.11902240663766861, 0.0, 0.0, 0.0, 0.0], [0.5816446542739868, 0.0009890664368867874, 0.0007644349243491888, 0.002849281532689929, 0.0013867972884327173, 0.060586050152778625, 0.019486241042613983, 0.17964205145835876, 0.04083040729165077, 0.07424251735210419, 0.03757857158780098, 0.0, 0.0, 0.0], [0.3295998275279999, 0.0007325592450797558, 0.0005855976487509906, 0.0008278705063275993, 0.00025114932213909924, 0.01053168997168541, 0.004404713399708271, 0.015512236393988132, 0.04227478429675102, 0.08537420630455017, 0.3160756230354309, 0.19382984936237335, 0.0, 0.0], [0.4604604244232178, 0.0006142192287370563, 0.00016615190543234348, 0.00047769289813004434, 0.0010443896753713489, 0.010488559491932392, 0.01224514190107584, 0.01713607646524906, 0.08006727695465088, 0.021803444251418114, 0.09989196062088013, 0.2445601224899292, 0.05104459449648857, 0.0], [0.8702320456504822, 8.02845970611088e-05, 4.131380410399288e-05, 5.239461097517051e-05, 9.012825466925278e-05, 0.000989503227174282, 8.17973559605889e-05, 6.0116162785561755e-05, 0.001035966444760561, 0.0005041804979555309, 0.0012259562499821186, 0.010657425038516521, 0.03510662540793419, 0.0798424705862999]], [[1.0, 0.0, 0.0, 0.0, 0.0, 0.0, 0.0, 0.0, 0.0, 0.0, 0.0, 0.0, 0.0, 0.0], [0.9971953630447388, 0.0028045810759067535, 0.0, 0.0, 0.0, 0.0, 0.0, 0.0, 0.0, 0.0, 0.0, 0.0, 0.0, 0.0], [0.9800788760185242, 0.011138953268527985, 0.008782090619206429, 0.0, 0.0, 0.0, 0.0, 0.0, 0.0, 0.0, 0.0, 0.0, 0.0, 0.0], [0.9541028738021851, 0.01553924847394228, 0.018942680209875107, 0.011415239423513412, 0.0, 0.0, 0.0, 0.0, 0.0, 0.0, 0.0, 0.0, 0.0, 0.0], [0.9785269498825073, 0.006232150364667177, 0.008310864679515362, 0.002687880303710699, 0.004242315888404846, 0.0, 0.0, 0.0, 0.0, 0.0, 0.0, 0.0, 0.0, 0.0], [0.920920729637146, 0.013736210763454437, 0.012545272707939148, 0.010925976559519768, 0.009541155770421028, 0.03233063220977783, 0.0, 0.0, 0.0, 0.0, 0.0, 0.0, 0.0, 0.0], [0.9119622111320496, 0.011687740683555603, 0.006011349614709616, 0.004099241457879543, 0.003974458668380976, 0.030855929479002953, 0.03140891343355179, 0.0, 0.0, 0.0, 0.0, 0.0, 0.0, 0.0], [0.8874083161354065, 0.012476567178964615, 0.005284107755869627, 0.007686627097427845, 0.0032998756505548954, 0.022310487926006317, 0.042305558919906616, 0.01922866515815258, 0.0, 0.0, 0.0, 0.0, 0.0, 0.0], [0.8810038566589355, 0.01154918223619461, 0.01231379434466362, 0.007196072954684496, 0.00586442556232214, 0.023985445499420166, 0.023711223155260086, 0.02871275506913662, 0.00566314859315753, 0.0, 0.0, 0.0, 0.0, 0.0], [0.8796486258506775, 0.017178039997816086, 0.010045034810900688, 0.006230710074305534, 0.004664512816816568, 0.02115591987967491, 0.014353317208588123, 0.010910444892942905, 0.0070201256312429905, 0.028793316334486008, 0.0, 0.0, 0.0, 0.0], [0.9291419982910156, 0.009763523004949093, 0.005095953121781349, 0.0036934716627001762, 0.004354607313871384, 0.017395388334989548, 0.0060166553594172, 0.004006911534816027, 0.0037037997972220182, 0.015225069597363472, 0.001602773554623127, 0.0, 0.0, 0.0], [0.8959787487983704, 0.011300159618258476, 0.007334213703870773, 0.004404318984597921, 0.0036743301898241043, 0.017222044989466667, 0.012776471674442291, 0.005592891480773687, 0.0044637112878263, 0.021391423419117928, 0.01084988098591566, 0.005011704750359058, 0.0, 0.0], [0.9379456639289856, 0.004447797313332558, 0.009035528637468815, 0.004912049043923616, 0.007592724170535803, 0.01612437143921852, 0.0008279468165710568, 0.00232534296810627, 0.0005013693007640541, 0.00508583290502429, 0.002117701107636094, 0.008067642338573933, 0.0010160347446799278, 0.0], [0.8186389207839966, 0.016878802329301834, 0.01212080754339695, 0.02122485637664795, 0.010847090743482113, 0.026554599404335022, 0.013915732502937317, 0.011319027282297611, 0.004877026192843914, 0.016503386199474335, 0.0228219386190176, 0.009485438466072083, 0.0014563575387001038, 0.013355898670852184]], [[1.0, 0.0, 0.0, 0.0, 0.0, 0.0, 0.0, 0.0, 0.0, 0.0, 0.0, 0.0, 0.0, 0.0], [0.9909646511077881, 0.009035291150212288, 0.0, 0.0, 0.0, 0.0, 0.0, 0.0, 0.0, 0.0, 0.0, 0.0, 0.0, 0.0], [0.8250389099121094, 0.1088673323392868, 0.06609369069337845, 0.0, 0.0, 0.0, 0.0, 0.0, 0.0, 0.0, 0.0, 0.0, 0.0, 0.0], [0.7383031845092773, 0.10583356767892838, 0.10476288199424744, 0.05110039934515953, 0.0, 0.0, 0.0, 0.0, 0.0, 0.0, 0.0, 0.0, 0.0, 0.0], [0.7479797005653381, 0.11458632349967957, 0.046962544322013855, 0.025093432515859604, 0.06537806242704391, 0.0, 0.0, 0.0, 0.0, 0.0, 0.0, 0.0, 0.0, 0.0], [0.5391768217086792, 0.17313911020755768, 0.07352069020271301, 0.08343993127346039, 0.08798953890800476, 0.04273395612835884, 0.0, 0.0, 0.0, 0.0, 0.0, 0.0, 0.0, 0.0], [0.5521007776260376, 0.03726455569267273, 0.0656387060880661, 0.08299306780099869, 0.10304775834083557, 0.10265379399061203, 0.0563012920320034, 0.0, 0.0, 0.0, 0.0, 0.0, 0.0, 0.0], [0.6751255393028259, 0.08398944139480591, 0.04370131716132164, 0.05795614421367645, 0.027480171993374825, 0.057079561054706573, 0.04186493158340454, 0.01280290074646473, 0.0, 0.0, 0.0, 0.0, 0.0, 0.0], [0.5385215878486633, 0.17152506113052368, 0.05178023502230644, 0.045418016612529755, 0.039466410875320435, 0.05735079199075699, 0.03474138677120209, 0.028362218290567398, 0.03283438831567764, 0.0, 0.0, 0.0, 0.0, 0.0], [0.49038928747177124, 0.059571485966444016, 0.08005686849355698, 0.07967851310968399, 0.06727158278226852, 0.057875413447618484, 0.04637414962053299, 0.027000775560736656, 0.06080237776041031, 0.030979517847299576, 0.0, 0.0, 0.0, 0.0], [0.4868465065956116, 0.06451892107725143, 0.05637989193201065, 0.04006772115826607, 0.10490517318248749, 0.04404355585575104, 0.02251860685646534, 0.035569652915000916, 0.07339836657047272, 0.030578214675188065, 0.04117348790168762, 0.0, 0.0, 0.0], [0.41494089365005493, 0.09839693456888199, 0.05017964541912079, 0.033021215349435806, 0.07586336880922318, 0.049667924642562866, 0.03609054163098335, 0.049860380589962006, 0.04454939067363739, 0.0490666925907135, 0.04920506849884987, 0.04915795475244522, 0.0, 0.0], [0.3646600544452667, 0.04619994014501572, 0.024392079561948776, 0.02981746569275856, 0.16375218331813812, 0.033266037702560425, 0.020573031157255173, 0.024498170241713524, 0.05886998400092125, 0.030803430825471878, 0.054245974868535995, 0.05069262534379959, 0.09822893142700195, 0.0], [0.24662940204143524, 0.06099933758378029, 0.02494015544652939, 0.042999353259801865, 0.056604813784360886, 0.031519390642642975, 0.10935144126415253, 0.06702731549739838, 0.040645282715559006, 0.025516856461763382, 0.05777906998991966, 0.03942707180976868, 0.15257872641086578, 0.04398179426789284]], [[1.0, 0.0, 0.0, 0.0, 0.0, 0.0, 0.0, 0.0, 0.0, 0.0, 0.0, 0.0, 0.0, 0.0], [0.9732710719108582, 0.026728935539722443, 0.0, 0.0, 0.0, 0.0, 0.0, 0.0, 0.0, 0.0, 0.0, 0.0, 0.0, 0.0], [0.6206048130989075, 0.33085522055625916, 0.04853997007012367, 0.0, 0.0, 0.0, 0.0, 0.0, 0.0, 0.0, 0.0, 0.0, 0.0, 0.0], [0.39291679859161377, 0.25754913687705994, 0.1815185248851776, 0.1680154949426651, 0.0, 0.0, 0.0, 0.0, 0.0, 0.0, 0.0, 0.0, 0.0, 0.0], [0.17582595348358154, 0.4157731831073761, 0.06883714348077774, 0.2444312870502472, 0.09513242542743683, 0.0, 0.0, 0.0, 0.0, 0.0, 0.0, 0.0, 0.0, 0.0], [0.12092725187540054, 0.32260894775390625, 0.15149272978305817, 0.14782081544399261, 0.15938375890254974, 0.09776660054922104, 0.0, 0.0, 0.0, 0.0, 0.0, 0.0, 0.0, 0.0], [0.187546506524086, 0.11874271929264069, 0.08501989394426346, 0.05219702795147896, 0.09757829457521439, 0.1900981366634369, 0.2688174247741699, 0.0, 0.0, 0.0, 0.0, 0.0, 0.0, 0.0], [0.1697191298007965, 0.01945587992668152, 0.015282961539924145, 0.025543279945850372, 0.02655918523669243, 0.077700674533844, 0.5322190523147583, 0.13351982831954956, 0.0, 0.0, 0.0, 0.0, 0.0, 0.0], [0.20969441533088684, 0.01874704100191593, 0.01615212857723236, 0.008378392085433006, 0.023225385695695877, 0.0662587508559227, 0.3745476007461548, 0.2002994418144226, 0.08269684761762619, 0.0, 0.0, 0.0, 0.0, 0.0], [0.18997718393802643, 0.0016910580452531576, 0.0031303318683058023, 0.009393208660185337, 0.011735839769244194, 0.03971797227859497, 0.036845844238996506, 0.02906610257923603, 0.5960599780082703, 0.0823824405670166, 0.0, 0.0, 0.0, 0.0], [0.18944546580314636, 0.0029433988966047764, 0.0018351884791627526, 0.014434180222451687, 0.005553799215704203, 0.03558341786265373, 0.026594461873173714, 0.055443983525037766, 0.41915163397789, 0.19344013929367065, 0.05557423457503319, 0.0, 0.0, 0.0], [0.13465651869773865, 0.0014136481331661344, 0.0010954674798995256, 0.004227443132549524, 0.0031526258680969477, 0.017366480082273483, 0.00970682967454195, 0.026576049625873566, 0.3444999158382416, 0.09648589789867401, 0.34071242809295654, 0.020106784999370575, 0.0, 0.0], [0.09249591082334518, 0.003359770169481635, 0.0012847757898271084, 0.015357227064669132, 0.008827198296785355, 0.0363277867436409, 0.0036525861360132694, 0.01847858354449272, 0.2456400841474533, 0.11780001223087311, 0.282168447971344, 0.10552359372377396, 0.06908400356769562, 0.0], [0.18930765986442566, 0.008619377389550209, 0.006296852137893438, 0.005879530217498541, 0.0038945262786000967, 0.006542447488754988, 0.047958001494407654, 0.011324913240969181, 0.20590941607952118, 0.0411943644285202, 0.063935287296772, 0.0783601775765419, 0.22292251884937286, 0.10785489529371262]], [[1.0, 0.0, 0.0, 0.0, 0.0, 0.0, 0.0, 0.0, 0.0, 0.0, 0.0, 0.0, 0.0, 0.0], [0.9768665432929993, 0.023133402690291405, 0.0, 0.0, 0.0, 0.0, 0.0, 0.0, 0.0, 0.0, 0.0, 0.0, 0.0, 0.0], [0.7171211838722229, 0.17725837230682373, 0.10562054067850113, 0.0, 0.0, 0.0, 0.0, 0.0, 0.0, 0.0, 0.0, 0.0, 0.0, 0.0], [0.4194270372390747, 0.1389859914779663, 0.15097752213478088, 0.2906093895435333, 0.0, 0.0, 0.0, 0.0, 0.0, 0.0, 0.0, 0.0, 0.0, 0.0], [0.28280141949653625, 0.10337931662797928, 0.04317208006978035, 0.460671067237854, 0.10997625440359116, 0.0, 0.0, 0.0, 0.0, 0.0, 0.0, 0.0, 0.0, 0.0], [0.20688286423683167, 0.01995064876973629, 0.021069632843136787, 0.06976202875375748, 0.5501211881637573, 0.13221360743045807, 0.0, 0.0, 0.0, 0.0, 0.0, 0.0, 0.0, 0.0], [0.17634430527687073, 0.04259932413697243, 0.014688086695969105, 0.08930423855781555, 0.2898228168487549, 0.33873897790908813, 0.04850219935178757, 0.0, 0.0, 0.0, 0.0, 0.0, 0.0, 0.0], [0.13607434928417206, 0.030234145000576973, 0.013341138139367104, 0.029394863173365593, 0.08989960700273514, 0.21349425613880157, 0.325296550989151, 0.1622651368379593, 0.0, 0.0, 0.0, 0.0, 0.0, 0.0], [0.27580001950263977, 0.005401897709816694, 0.00878257304430008, 0.011476623825728893, 0.03480357676744461, 0.09378760308027267, 0.1626354455947876, 0.34928351640701294, 0.058028701692819595, 0.0, 0.0, 0.0, 0.0, 0.0], [0.3382857143878937, 0.000658156001009047, 0.006468769628554583, 0.009933069348335266, 0.010656892322003841, 0.05114166438579559, 0.031280942261219025, 0.2622179090976715, 0.1444137841463089, 0.14494319260120392, 0.0, 0.0, 0.0, 0.0], [0.17609767615795135, 0.0005497486563399434, 0.005389883182942867, 0.005051914602518082, 0.007045161910355091, 0.044531743973493576, 0.022037087008357048, 0.08582265675067902, 0.3955124616622925, 0.19709856808185577, 0.06086320802569389, 0.0, 0.0, 0.0], [0.2309282273054123, 0.0003205664979759604, 0.0010808497900143266, 0.0058947061188519, 0.002588865580037236, 0.021282201632857323, 0.014109749346971512, 0.08455836772918701, 0.3236099183559418, 0.1289120763540268, 0.12460102140903473, 0.06211346015334129, 0.0, 0.0], [0.19049839675426483, 0.0006737738149240613, 0.0015061774756759405, 0.0029442566446959972, 0.0049213627353310585, 0.025934960693120956, 0.018723823130130768, 0.02702372707426548, 0.4966264069080353, 0.06742161512374878, 0.03392260894179344, 0.06555108726024628, 0.06425168365240097, 0.0], [0.3450162708759308, 0.00019738903210964054, 0.00018796879157889634, 0.0006685791886411607, 0.0026522097177803516, 0.001990437274798751, 0.0012301064562052488, 0.00030159924062900245, 0.002954901894554496, 0.003760641673579812, 0.02176852710545063, 0.02493133395910263, 0.4598337411880493, 0.13450638949871063]], [[1.0, 0.0, 0.0, 0.0, 0.0, 0.0, 0.0, 0.0, 0.0, 0.0, 0.0, 0.0, 0.0, 0.0], [0.8019427061080933, 0.19805723428726196, 0.0, 0.0, 0.0, 0.0, 0.0, 0.0, 0.0, 0.0, 0.0, 0.0, 0.0, 0.0], [0.3784945607185364, 0.5961402058601379, 0.025365155190229416, 0.0, 0.0, 0.0, 0.0, 0.0, 0.0, 0.0, 0.0, 0.0, 0.0, 0.0], [0.3737112283706665, 0.47219589352607727, 0.07329443097114563, 0.0807984471321106, 0.0, 0.0, 0.0, 0.0, 0.0, 0.0, 0.0, 0.0, 0.0, 0.0], [0.20591381192207336, 0.5659670233726501, 0.12318938225507736, 0.053698308765888214, 0.051231518387794495, 0.0, 0.0, 0.0, 0.0, 0.0, 0.0, 0.0, 0.0, 0.0], [0.28021401166915894, 0.14974166452884674, 0.028463466092944145, 0.018685853108763695, 0.10167110711336136, 0.4212239682674408, 0.0, 0.0, 0.0, 0.0, 0.0, 0.0, 0.0, 0.0], [0.17359086871147156, 0.04669669270515442, 0.006188142579048872, 0.0007443322683684528, 0.03616488724946976, 0.650515079498291, 0.08609998971223831, 0.0, 0.0, 0.0, 0.0, 0.0, 0.0, 0.0], [0.20036724209785461, 0.01912028342485428, 0.0010813011322170496, 0.00012688888818956912, 0.00335973990149796, 0.2181665003299713, 0.4264773428440094, 0.13130073249340057, 0.0, 0.0, 0.0, 0.0, 0.0, 0.0], [0.23386216163635254, 0.00894560944288969, 0.0028435809072107077, 0.005663169547915459, 0.006623211782425642, 0.1304842233657837, 0.22087660431861877, 0.3542594909667969, 0.03644196316599846, 0.0, 0.0, 0.0, 0.0, 0.0], [0.14630453288555145, 0.001894966815598309, 0.0007549339788965881, 0.0017852875171229243, 0.0034164648968726397, 0.09825723618268967, 0.18458370864391327, 0.3710060715675354, 0.05642091855406761, 0.13557592034339905, 0.0, 0.0, 0.0, 0.0], [0.1863478273153305, 0.0017622042214497924, 0.0005570266512222588, 0.0021595938596874475, 0.002454596571624279, 0.10131541639566422, 0.10595116019248962, 0.33678075671195984, 0.03269045427441597, 0.19860485196113586, 0.03137607127428055, 0.0, 0.0, 0.0], [0.262886106967926, 0.0016332474770024419, 0.00014068045129533857, 0.0002583189634606242, 0.0007503826636821032, 0.03906659409403801, 0.083193339407444, 0.10390111058950424, 0.030412130057811737, 0.2991670072078705, 0.03462161868810654, 0.1439695656299591, 0.0, 0.0], [0.10878578573465347, 0.0008498048409819603, 0.00011165888281539083, 0.0012135036522522569, 0.0008892731857486069, 0.017575763165950775, 0.02108589932322502, 0.0627821534872055, 0.024160131812095642, 0.10166985541582108, 0.034643057733774185, 0.6108357310295105, 0.015397516079246998, 0.0], [0.38012951612472534, 0.0016457817982882261, 0.0007570115849375725, 0.00048268691170960665, 0.002485309960320592, 0.013645676895976067, 0.0043666912242770195, 0.003828104818239808, 0.011710393242537975, 0.03079373575747013, 0.020339347422122955, 0.1488998383283615, 0.05305922403931618, 0.32785654067993164]], [[1.0, 0.0, 0.0, 0.0, 0.0, 0.0, 0.0, 0.0, 0.0, 0.0, 0.0, 0.0, 0.0, 0.0], [0.8822564482688904, 0.11774353682994843, 0.0, 0.0, 0.0, 0.0, 0.0, 0.0, 0.0, 0.0, 0.0, 0.0, 0.0, 0.0], [0.3063438832759857, 0.6431726813316345, 0.05048340559005737, 0.0, 0.0, 0.0, 0.0, 0.0, 0.0, 0.0, 0.0, 0.0, 0.0, 0.0], [0.30122625827789307, 0.5543203949928284, 0.10912363231182098, 0.03532968461513519, 0.0, 0.0, 0.0, 0.0, 0.0, 0.0, 0.0, 0.0, 0.0, 0.0], [0.2817224860191345, 0.43652647733688354, 0.12117507308721542, 0.060696493834257126, 0.09987948089838028, 0.0, 0.0, 0.0, 0.0, 0.0, 0.0, 0.0, 0.0, 0.0], [0.19127069413661957, 0.6470943093299866, 0.0446796715259552, 0.0272285807877779, 0.03894129768013954, 0.05078531801700592, 0.0, 0.0, 0.0, 0.0, 0.0, 0.0, 0.0, 0.0], [0.2090032696723938, 0.49013879895210266, 0.04760877788066864, 0.004938100930303335, 0.0013969886349514127, 0.12191720306873322, 0.12499682605266571, 0.0, 0.0, 0.0, 0.0, 0.0, 0.0, 0.0], [0.187057226896286, 0.04373699054121971, 0.0035514032933861017, 0.0015751345781609416, 0.0020384660456329584, 0.03442884981632233, 0.6340212225914001, 0.09359075129032135, 0.0, 0.0, 0.0, 0.0, 0.0, 0.0], [0.2549212872982025, 0.029515227302908897, 0.0030382482800632715, 0.0009145454387180507, 0.0045921592973172665, 0.02110084891319275, 0.45435813069343567, 0.2046365737915039, 0.02692290209233761, 0.0, 0.0, 0.0, 0.0, 0.0], [0.18393319845199585, 0.013658306561410427, 0.0006252656457945704, 0.0007519071223214269, 0.0051858811639249325, 0.01634974591434002, 0.5431897044181824, 0.08033013343811035, 0.06000987067818642, 0.09596603363752365, 0.0, 0.0, 0.0, 0.0], [0.26230213046073914, 0.024414045736193657, 0.0030318961944431067, 0.0018034169916063547, 0.002684457926079631, 0.016352862119674683, 0.01963387057185173, 0.06964856386184692, 0.11284926533699036, 0.4504844546318054, 0.03679506853222847, 0.0, 0.0, 0.0], [0.21115873754024506, 0.017689991742372513, 0.0017533322097733617, 0.002205291297286749, 0.0023982792627066374, 0.007727271411567926, 0.03631560131907463, 0.030303461477160454, 0.07481493055820465, 0.34318122267723083, 0.1911451667547226, 0.0813068374991417, 0.0, 0.0], [0.1643133908510208, 0.006370873190462589, 0.004159254487603903, 0.0017834994941949844, 0.006089147180318832, 0.013883638195693493, 0.009090709500014782, 0.018219100311398506, 0.059276189655065536, 0.1428118348121643, 0.29212260246276855, 0.19903068244457245, 0.08284913003444672, 0.0], [0.2938128709793091, 0.03367031365633011, 0.0030957816634327173, 0.005615243688225746, 0.003562942147254944, 0.006605829577893019, 0.03676762804389, 0.08181728422641754, 0.11756275594234467, 0.1565917283296585, 0.028559507802128792, 0.112704336643219, 0.04684692993760109, 0.07278678566217422]], [[1.0, 0.0, 0.0, 0.0, 0.0, 0.0, 0.0, 0.0, 0.0, 0.0, 0.0, 0.0, 0.0, 0.0], [0.996299684047699, 0.003700300818309188, 0.0, 0.0, 0.0, 0.0, 0.0, 0.0, 0.0, 0.0, 0.0, 0.0, 0.0, 0.0], [0.9288068413734436, 0.005970700178295374, 0.06522251665592194, 0.0, 0.0, 0.0, 0.0, 0.0, 0.0, 0.0, 0.0, 0.0, 0.0, 0.0], [0.7614760398864746, 0.003947346471250057, 0.020784270018339157, 0.2137923240661621, 0.0, 0.0, 0.0, 0.0, 0.0, 0.0, 0.0, 0.0, 0.0, 0.0], [0.6816274523735046, 0.01999208703637123, 0.021658005192875862, 0.08922959864139557, 0.18749284744262695, 0.0, 0.0, 0.0, 0.0, 0.0, 0.0, 0.0, 0.0, 0.0], [0.7535514831542969, 0.021311625838279724, 0.029135163873434067, 0.04089432954788208, 0.03215321525931358, 0.12295418232679367, 0.0, 0.0, 0.0, 0.0, 0.0, 0.0, 0.0, 0.0], [0.6571353077888489, 0.03476639837026596, 0.059530023485422134, 0.058071319013834, 0.03307922184467316, 0.08889992535114288, 0.06851772218942642, 0.0, 0.0, 0.0, 0.0, 0.0, 0.0, 0.0], [0.6340808272361755, 0.009053224697709084, 0.03525010123848915, 0.02389605902135372, 0.017632413655519485, 0.056724730879068375, 0.11418164521455765, 0.10918096452951431, 0.0, 0.0, 0.0, 0.0, 0.0, 0.0], [0.7017368078231812, 0.011865339241921902, 0.0176825113594532, 0.016347255557775497, 0.007654119748622179, 0.045302703976631165, 0.06455034762620926, 0.042301349341869354, 0.09255954623222351, 0.0, 0.0, 0.0, 0.0, 0.0], [0.6593717336654663, 0.016107410192489624, 0.03208228200674057, 0.020381053909659386, 0.0070951394736766815, 0.043827030807733536, 0.01975594460964203, 0.030559878796339035, 0.07329072058200836, 0.09752868115901947, 0.0, 0.0, 0.0, 0.0], [0.666420578956604, 0.006643446162343025, 0.03443736582994461, 0.015400097705423832, 0.013589857146143913, 0.05104735121130943, 0.021975724026560783, 0.016186175867915154, 0.04485063999891281, 0.02591756172478199, 0.10353127866983414, 0.0, 0.0, 0.0], [0.7146084904670715, 0.005219100508838892, 0.013165649026632309, 0.010321449488401413, 0.011593633331358433, 0.02802254632115364, 0.015894396230578423, 0.011059758253395557, 0.03316276893019676, 0.022578967735171318, 0.030058328062295914, 0.10431499034166336, 0.0, 0.0], [0.6357212066650391, 0.003683530492708087, 0.013923028483986855, 0.014470157213509083, 0.00802010577172041, 0.022640682756900787, 0.01806953363120556, 0.010820032097399235, 0.020852133631706238, 0.02069929428398609, 0.022142518311738968, 0.013976069167256355, 0.1949816346168518, 0.0], [0.6161868572235107, 0.004125272389501333, 0.011021465994417667, 0.01431491132825613, 0.00795053318142891, 0.03634261712431908, 0.032747384160757065, 0.01680956594645977, 0.041326675564050674, 0.011213353835046291, 0.009382268413901329, 0.013241496868431568, 0.07285268604755402, 0.11248496174812317]], [[1.0, 0.0, 0.0, 0.0, 0.0, 0.0, 0.0, 0.0, 0.0, 0.0, 0.0, 0.0, 0.0, 0.0], [0.9719212055206299, 0.028078829869627953, 0.0, 0.0, 0.0, 0.0, 0.0, 0.0, 0.0, 0.0, 0.0, 0.0, 0.0, 0.0], [0.732109010219574, 0.15999309718608856, 0.10789798200130463, 0.0, 0.0, 0.0, 0.0, 0.0, 0.0, 0.0, 0.0, 0.0, 0.0, 0.0], [0.30326780676841736, 0.11370091140270233, 0.07309990376234055, 0.5099313259124756, 0.0, 0.0, 0.0, 0.0, 0.0, 0.0, 0.0, 0.0, 0.0, 0.0], [0.16192671656608582, 0.10459933429956436, 0.03136815130710602, 0.6845439076423645, 0.017561806365847588, 0.0, 0.0, 0.0, 0.0, 0.0, 0.0, 0.0, 0.0, 0.0], [0.0821656659245491, 0.038977913558483124, 0.030651360750198364, 0.6419618129730225, 0.12739905714988708, 0.07884420454502106, 0.0, 0.0, 0.0, 0.0, 0.0, 0.0, 0.0, 0.0], [0.1681915670633316, 0.028902707621455193, 0.030438851565122604, 0.3867967426776886, 0.029572149738669395, 0.26027870178222656, 0.09581921249628067, 0.0, 0.0, 0.0, 0.0, 0.0, 0.0, 0.0], [0.2801162004470825, 0.0092474315315485, 0.020785341039299965, 0.040497999638319016, 0.010847075842320919, 0.05202047526836395, 0.47861814498901367, 0.10786738991737366, 0.0, 0.0, 0.0, 0.0, 0.0, 0.0], [0.34626713395118713, 0.015907814726233482, 0.04668371379375458, 0.057015351951122284, 0.13925307989120483, 0.047913797199726105, 0.24190552532672882, 0.06878720223903656, 0.03626634180545807, 0.0, 0.0, 0.0, 0.0, 0.0], [0.3308594524860382, 0.005229151342064142, 0.03628917038440704, 0.042838845402002335, 0.03762292489409447, 0.04860329255461693, 0.2849946916103363, 0.08999475091695786, 0.0384778268635273, 0.08508992195129395, 0.0, 0.0, 0.0, 0.0], [0.34998685121536255, 0.003935917746275663, 0.024867892265319824, 0.022436870262026787, 0.01262526586651802, 0.03272493928670883, 0.1127176359295845, 0.09144386649131775, 0.11354223638772964, 0.07611574232578278, 0.15960296988487244, 0.0, 0.0, 0.0], [0.20187680423259735, 0.0014663832262158394, 0.010041115805506706, 0.04384714365005493, 0.026717256754636765, 0.019740324467420578, 0.10749056935310364, 0.06787056475877762, 0.03511292487382889, 0.04914543032646179, 0.3329727053642273, 0.10371872782707214, 0.0, 0.0], [0.1693258434534073, 0.002872216748073697, 0.020431237295269966, 0.022828705608844757, 0.01786102168262005, 0.021603882312774658, 0.05226021260023117, 0.04605572670698166, 0.021144215017557144, 0.03181372955441475, 0.14252275228500366, 0.11718052625656128, 0.3340998589992523, 0.0], [0.1432342231273651, 0.0048479544930160046, 0.008698899298906326, 0.06657832860946655, 0.02145782858133316, 0.009676230140030384, 0.04134182259440422, 0.008551299571990967, 0.014165030792355537, 0.05124504864215851, 0.17761436104774475, 0.07827445864677429, 0.2630522847175598, 0.11126234382390976]]], [[[1.0, 0.0, 0.0, 0.0, 0.0, 0.0, 0.0, 0.0, 0.0, 0.0, 0.0, 0.0, 0.0, 0.0], [0.8898833394050598, 0.11011666059494019, 0.0, 0.0, 0.0, 0.0, 0.0, 0.0, 0.0, 0.0, 0.0, 0.0, 0.0, 0.0], [0.41882508993148804, 0.460684210062027, 0.12049072235822678, 0.0, 0.0, 0.0, 0.0, 0.0, 0.0, 0.0, 0.0, 0.0, 0.0, 0.0], [0.14657367765903473, 0.350132554769516, 0.47894152998924255, 0.024352150037884712, 0.0, 0.0, 0.0, 0.0, 0.0, 0.0, 0.0, 0.0, 0.0, 0.0], [0.0872533768415451, 0.6420556306838989, 0.19418086111545563, 0.0680328980088234, 0.008477158844470978, 0.0, 0.0, 0.0, 0.0, 0.0, 0.0, 0.0, 0.0, 0.0], [0.5083044767379761, 0.1817626804113388, 0.1326937973499298, 0.06036938354372978, 0.05295684188604355, 0.0639127865433693, 0.0, 0.0, 0.0, 0.0, 0.0, 0.0, 0.0, 0.0], [0.5123986601829529, 0.1465248018503189, 0.1695331335067749, 0.010950671508908272, 0.006676509976387024, 0.12036658823490143, 0.03354966267943382, 0.0, 0.0, 0.0, 0.0, 0.0, 0.0, 0.0], [0.5588586926460266, 0.04161711409687996, 0.01602894440293312, 0.0015330275055021048, 0.001321286428719759, 0.04533722996711731, 0.2895623445510864, 0.045741427689790726, 0.0, 0.0, 0.0, 0.0, 0.0, 0.0], [0.6621589660644531, 0.019083160907030106, 0.005484016612172127, 0.004015228245407343, 0.005675299558788538, 0.029058024287223816, 0.09773271530866623, 0.1354948729276657, 0.04129769280552864, 0.0, 0.0, 0.0, 0.0, 0.0], [0.7678963541984558, 0.002804253716021776, 0.0008220096933655441, 0.0023924962151795626, 0.0013685595476999879, 0.016117824241518974, 0.027344826608896255, 0.06113644316792488, 0.06496335566043854, 0.055153872817754745, 0.0, 0.0, 0.0, 0.0], [0.8388544321060181, 0.0029200981371104717, 0.00878357607871294, 0.0004356195859145373, 8.424547559116036e-05, 0.00829398911446333, 0.011791519820690155, 0.011426242999732494, 0.043431397527456284, 0.051203034818172455, 0.022775955498218536, 0.0, 0.0, 0.0], [0.7816242575645447, 0.0029591661877930164, 0.0014042820548638701, 0.0008402634994126856, 0.00038158532697707415, 0.007908777333796024, 0.013614255003631115, 0.006952519528567791, 0.015827374532818794, 0.06354513019323349, 0.09446307271718979, 0.01047944650053978, 0.0, 0.0], [0.5625821352005005, 0.0017996995011344552, 0.002134359907358885, 0.0003563894715625793, 0.0008293513674288988, 0.004679018631577492, 0.008329685777425766, 0.0026457542553544044, 0.005120053421705961, 0.024051908403635025, 0.0064489287324249744, 0.12110327184200287, 0.2599194049835205, 0.0], [0.6303843855857849, 0.0024120572488754988, 0.004721551667898893, 0.001638520509004593, 0.0007101924857124686, 0.006242495495826006, 0.007493831682950258, 0.002716371323913336, 0.0040870844386518, 0.02983677387237549, 0.015866242349147797, 0.07065361738204956, 0.1511772871017456, 0.07205971330404282]], [[1.0, 0.0, 0.0, 0.0, 0.0, 0.0, 0.0, 0.0, 0.0, 0.0, 0.0, 0.0, 0.0, 0.0], [0.9692040085792542, 0.030795956030488014, 0.0, 0.0, 0.0, 0.0, 0.0, 0.0, 0.0, 0.0, 0.0, 0.0, 0.0, 0.0], [0.5903478264808655, 0.3898482620716095, 0.019803907722234726, 0.0, 0.0, 0.0, 0.0, 0.0, 0.0, 0.0, 0.0, 0.0, 0.0, 0.0], [0.397300660610199, 0.43651193380355835, 0.11432848870754242, 0.05185895413160324, 0.0, 0.0, 0.0, 0.0, 0.0, 0.0, 0.0, 0.0, 0.0, 0.0], [0.5787636041641235, 0.19313469529151917, 0.09326839447021484, 0.11643253266811371, 0.01840083859860897, 0.0, 0.0, 0.0, 0.0, 0.0, 0.0, 0.0, 0.0, 0.0], [0.6760538220405579, 0.1263943612575531, 0.019986780360341072, 0.03030644729733467, 0.04176910221576691, 0.10548945516347885, 0.0, 0.0, 0.0, 0.0, 0.0, 0.0, 0.0, 0.0], [0.5505685210227966, 0.022749124094843864, 0.012981025502085686, 0.010866055265069008, 0.0160586666315794, 0.21554003655910492, 0.17123658955097198, 0.0, 0.0, 0.0, 0.0, 0.0, 0.0, 0.0], [0.33832547068595886, 0.00904102437198162, 0.0025302201975136995, 0.0015595474978908896, 0.003590986132621765, 0.04399239644408226, 0.5654119849205017, 0.03554833307862282, 0.0, 0.0, 0.0, 0.0, 0.0, 0.0], [0.13569094240665436, 0.0037060813046991825, 0.0011208256473764777, 0.0003755384241230786, 0.0014497189549729228, 0.023754838854074478, 0.3241725265979767, 0.4817773401737213, 0.02795213647186756, 0.0, 0.0, 0.0, 0.0, 0.0], [0.09968385100364685, 0.0010484113590791821, 0.00032810712582431734, 0.0004938123165629804, 0.0006519115413539112, 0.01441314909607172, 0.4927893877029419, 0.30482015013694763, 0.06135586276650429, 0.024415358901023865, 0.0, 0.0, 0.0, 0.0], [0.20908010005950928, 0.00466639781370759, 0.0027606140356510878, 0.0019098968477919698, 0.0003541311016306281, 0.02880055643618107, 0.17872118949890137, 0.36133208870887756, 0.07805534452199936, 0.12060427665710449, 0.013715331442654133, 0.0, 0.0, 0.0], [0.1553831696510315, 0.0019188238075003028, 0.0009575457661412656, 0.0013193002669140697, 0.0008635637350380421, 0.021799281239509583, 0.31319862604141235, 0.29268744587898254, 0.09373785555362701, 0.07829228043556213, 0.025857146829366684, 0.013984967954456806, 0.0, 0.0], [0.35474348068237305, 0.005980535876005888, 0.0018948062788695097, 0.006222424563020468, 0.005480208434164524, 0.02257370762526989, 0.13923664391040802, 0.10967103391885757, 0.08086114376783371, 0.14351308345794678, 0.04888853430747986, 0.024812649935483932, 0.056121744215488434, 0.0], [0.5177360773086548, 0.005143344402313232, 0.0039853560738265514, 0.002816556254401803, 0.0029222602024674416, 0.007366945967078209, 0.08192314952611923, 0.08798637986183167, 0.032486919313669205, 0.061764590442180634, 0.04758506268262863, 0.04794291406869888, 0.04639066755771637, 0.05394984781742096]], [[1.0, 0.0, 0.0, 0.0, 0.0, 0.0, 0.0, 0.0, 0.0, 0.0, 0.0, 0.0, 0.0, 0.0], [0.9679773449897766, 0.032022684812545776, 0.0, 0.0, 0.0, 0.0, 0.0, 0.0, 0.0, 0.0, 0.0, 0.0, 0.0, 0.0], [0.882331132888794, 0.09282175451517105, 0.02484717220067978, 0.0, 0.0, 0.0, 0.0, 0.0, 0.0, 0.0, 0.0, 0.0, 0.0, 0.0], [0.8836926221847534, 0.06940823048353195, 0.008795982226729393, 0.038103137165308, 0.0, 0.0, 0.0, 0.0, 0.0, 0.0, 0.0, 0.0, 0.0, 0.0], [0.8774648904800415, 0.039644837379455566, 0.009530346840620041, 0.03158079832792282, 0.041779037564992905, 0.0, 0.0, 0.0, 0.0, 0.0, 0.0, 0.0, 0.0, 0.0], [0.7262831330299377, 0.05819939076900482, 0.009588893502950668, 0.015399450436234474, 0.09575844556093216, 0.09477076679468155, 0.0, 0.0, 0.0, 0.0, 0.0, 0.0, 0.0, 0.0], [0.7116522192955017, 0.030962491407990456, 0.005026134662330151, 0.00630481680855155, 0.043368030339479446, 0.11319145560264587, 0.08949469029903412, 0.0, 0.0, 0.0, 0.0, 0.0, 0.0, 0.0], [0.6610689759254456, 0.045043300837278366, 0.011709856800734997, 0.009255417622625828, 0.01627906784415245, 0.10851944983005524, 0.09363573789596558, 0.05448812618851662, 0.0, 0.0, 0.0, 0.0, 0.0, 0.0], [0.6427857279777527, 0.03897260129451752, 0.011252106167376041, 0.024371981620788574, 0.025680942460894585, 0.08925823122262955, 0.09428457170724869, 0.054981738328933716, 0.01841212809085846, 0.0, 0.0, 0.0, 0.0, 0.0], [0.6536827683448792, 0.02984890714287758, 0.006372669246047735, 0.013928850181400776, 0.045249126851558685, 0.05875680595636368, 0.08293250948190689, 0.042549680918455124, 0.05263107270002365, 0.014047632925212383, 0.0, 0.0, 0.0, 0.0], [0.6453626155853271, 0.029590405523777008, 0.003982021473348141, 0.011547805741429329, 0.02318643219769001, 0.048749346286058426, 0.1266242265701294, 0.04683569446206093, 0.03542984277009964, 0.01704317517578602, 0.011648337356746197, 0.0, 0.0, 0.0], [0.6648653149604797, 0.01818757690489292, 0.0031668771989643574, 0.01167730987071991, 0.036106426268815994, 0.030671032145619392, 0.11886246502399445, 0.04692155495285988, 0.030837705358862877, 0.010657212696969509, 0.019008364528417587, 0.00903822761029005, 0.0, 0.0], [0.4930981397628784, 0.020727336406707764, 0.0067352354526519775, 0.01859024167060852, 0.06292925775051117, 0.05786103755235672, 0.17439737915992737, 0.0660896971821785, 0.02740103006362915, 0.022291600704193115, 0.01858353614807129, 0.021939974278211594, 0.00935552641749382, 0.0], [0.4878201484680176, 0.06433245539665222, 0.003074643900617957, 0.006939483340829611, 0.058745283633470535, 0.05515578016638756, 0.1221725270152092, 0.06777281314134598, 0.03914034366607666, 0.008576051332056522, 0.009968251921236515, 0.011046388186514378, 0.012840811163187027, 0.05241500213742256]], [[1.0, 0.0, 0.0, 0.0, 0.0, 0.0, 0.0, 0.0, 0.0, 0.0, 0.0, 0.0, 0.0, 0.0], [0.9908955693244934, 0.009104439988732338, 0.0, 0.0, 0.0, 0.0, 0.0, 0.0, 0.0, 0.0, 0.0, 0.0, 0.0, 0.0], [0.7074286341667175, 0.2639806568622589, 0.028590776026248932, 0.0, 0.0, 0.0, 0.0, 0.0, 0.0, 0.0, 0.0, 0.0, 0.0, 0.0], [0.7452566623687744, 0.1935112178325653, 0.03298141434788704, 0.02825074829161167, 0.0, 0.0, 0.0, 0.0, 0.0, 0.0, 0.0, 0.0, 0.0, 0.0], [0.3598466217517853, 0.13215607404708862, 0.012022579088807106, 0.04278207942843437, 0.45319265127182007, 0.0, 0.0, 0.0, 0.0, 0.0, 0.0, 0.0, 0.0, 0.0], [0.25687673687934875, 0.047073427587747574, 0.03547273948788643, 0.0593409538269043, 0.5750022530555725, 0.026233861222863197, 0.0, 0.0, 0.0, 0.0, 0.0, 0.0, 0.0, 0.0], [0.5820722579956055, 0.09343986213207245, 0.018185291439294815, 0.08690699189901352, 0.07741928100585938, 0.07342994958162308, 0.06854642182588577, 0.0, 0.0, 0.0, 0.0, 0.0, 0.0, 0.0], [0.6412506103515625, 0.02139771543443203, 0.018755817785859108, 0.044202227145433426, 0.027628380805253983, 0.05235590785741806, 0.12027408927679062, 0.0741351842880249, 0.0, 0.0, 0.0, 0.0, 0.0, 0.0], [0.4424671530723572, 0.019311804324388504, 0.02346038445830345, 0.07269982993602753, 0.05389779806137085, 0.042905233800411224, 0.15016664564609528, 0.11658620834350586, 0.07850495725870132, 0.0, 0.0, 0.0, 0.0, 0.0], [0.4373917579650879, 0.003752227406948805, 0.008592097088694572, 0.05142775550484657, 0.036413732916116714, 0.02486673928797245, 0.05505955219268799, 0.046905264258384705, 0.2487090677022934, 0.08688190579414368, 0.0, 0.0, 0.0, 0.0], [0.18526646494865417, 0.0030752208549529314, 0.013406439684331417, 0.034426234662532806, 0.17374013364315033, 0.010976115241646767, 0.01913401298224926, 0.008051308803260326, 0.421401709318161, 0.10784383118152618, 0.022678527981042862, 0.0, 0.0, 0.0], [0.20774897933006287, 0.006026409100741148, 0.007865955121815205, 0.018257329240441322, 0.1120956614613533, 0.00889506097882986, 0.025621429085731506, 0.009033553302288055, 0.4501303732395172, 0.1077546775341034, 0.032998207956552505, 0.013572302646934986, 0.0, 0.0], [0.259261816740036, 0.008046022616326809, 0.0038547441363334656, 0.013614234514534473, 0.11094603687524796, 0.011856344528496265, 0.012862584553658962, 0.011920470744371414, 0.26063284277915955, 0.12646923959255219, 0.013681706972420216, 0.024098677560687065, 0.14275532960891724, 0.0], [0.28008052706718445, 0.0029662728775292635, 0.002910759299993515, 0.0056542083621025085, 0.01442726794630289, 0.0015932313399389386, 0.009645919315516949, 0.01536135096102953, 0.052605628967285156, 0.028222259134054184, 0.025477932766079903, 0.024966293945908546, 0.5146991014480591, 0.021389175206422806]], [[1.0, 0.0, 0.0, 0.0, 0.0, 0.0, 0.0, 0.0, 0.0, 0.0, 0.0, 0.0, 0.0, 0.0], [0.966482937335968, 0.03351706266403198, 0.0, 0.0, 0.0, 0.0, 0.0, 0.0, 0.0, 0.0, 0.0, 0.0, 0.0, 0.0], [0.8880773186683655, 0.055719949305057526, 0.056202661246061325, 0.0, 0.0, 0.0, 0.0, 0.0, 0.0, 0.0, 0.0, 0.0, 0.0, 0.0], [0.7975546717643738, 0.04604654386639595, 0.028349317610263824, 0.12804953753948212, 0.0, 0.0, 0.0, 0.0, 0.0, 0.0, 0.0, 0.0, 0.0, 0.0], [0.8760662078857422, 0.04055964574217796, 0.018661901354789734, 0.041056614369153976, 0.023655574768781662, 0.0, 0.0, 0.0, 0.0, 0.0, 0.0, 0.0, 0.0, 0.0], [0.7741314172744751, 0.08121123909950256, 0.028716281056404114, 0.055264875292778015, 0.03404323011636734, 0.026632854714989662, 0.0, 0.0, 0.0, 0.0, 0.0, 0.0, 0.0, 0.0], [0.7308810949325562, 0.03471744433045387, 0.023110708221793175, 0.05274371802806854, 0.004870633129030466, 0.05059046670794487, 0.10308590531349182, 0.0, 0.0, 0.0, 0.0, 0.0, 0.0, 0.0], [0.665183961391449, 0.013183497823774815, 0.005739758722484112, 0.004178667441010475, 0.004614014178514481, 0.02542279101908207, 0.1270281970500946, 0.15464916825294495, 0.0, 0.0, 0.0, 0.0, 0.0, 0.0], [0.8127700090408325, 0.027325764298439026, 0.007855052128434181, 0.008517268113791943, 0.0068709151819348335, 0.02067345380783081, 0.02594671957194805, 0.0415462888777256, 0.04849458858370781, 0.0, 0.0, 0.0, 0.0, 0.0], [0.6027933359146118, 0.06749307364225388, 0.011663340963423252, 0.004303620662540197, 0.00552253657951951, 0.023392168805003166, 0.03500080481171608, 0.03883702680468559, 0.11147276312112808, 0.09952134639024734, 0.0, 0.0, 0.0, 0.0], [0.8277990818023682, 0.05231955647468567, 0.0077004097402095795, 0.00101167568936944, 0.0024919912684708834, 0.016040533781051636, 0.010643224231898785, 0.014891120605170727, 0.030214430764317513, 0.029527978971600533, 0.0073600769974291325, 0.0, 0.0, 0.0], [0.728817880153656, 0.014111682772636414, 0.005356272682547569, 0.001206298009492457, 0.0022932046558707952, 0.015980083495378494, 0.00739402836188674, 0.011601961217820644, 0.10304625332355499, 0.014030355960130692, 0.05089390650391579, 0.04526802524924278, 0.0, 0.0], [0.5409338474273682, 0.026687774807214737, 0.010020943358540535, 0.005037806462496519, 0.0344206728041172, 0.01698877289891243, 0.013313299044966698, 0.015510722063481808, 0.13360252976417542, 0.03540296107530594, 0.027032431215047836, 0.014834384433925152, 0.12621380388736725, 0.0], [0.6298479437828064, 0.04596397653222084, 0.004190336912870407, 0.03648415207862854, 0.02628222294151783, 0.04192234203219414, 0.014593267813324928, 0.032540518790483475, 0.04564547538757324, 0.029399869963526726, 0.006944627035409212, 0.007375732064247131, 0.03371870890259743, 0.04509076103568077]], [[1.0, 0.0, 0.0, 0.0, 0.0, 0.0, 0.0, 0.0, 0.0, 0.0, 0.0, 0.0, 0.0, 0.0], [0.9696730971336365, 0.030326850712299347, 0.0, 0.0, 0.0, 0.0, 0.0, 0.0, 0.0, 0.0, 0.0, 0.0, 0.0, 0.0], [0.8771207928657532, 0.07853103429079056, 0.04434816539287567, 0.0, 0.0, 0.0, 0.0, 0.0, 0.0, 0.0, 0.0, 0.0, 0.0, 0.0], [0.8064669370651245, 0.10014819353818893, 0.043923791497945786, 0.049461036920547485, 0.0, 0.0, 0.0, 0.0, 0.0, 0.0, 0.0, 0.0, 0.0, 0.0], [0.47415414452552795, 0.15086154639720917, 0.07023480534553528, 0.2871684730052948, 0.017581062391400337, 0.0, 0.0, 0.0, 0.0, 0.0, 0.0, 0.0, 0.0, 0.0], [0.7488998770713806, 0.030046740546822548, 0.04785273224115372, 0.08222171664237976, 0.03738616034388542, 0.053592801094055176, 0.0, 0.0, 0.0, 0.0, 0.0, 0.0, 0.0, 0.0], [0.531091034412384, 0.02018304541707039, 0.011096388101577759, 0.00775601901113987, 0.009936613030731678, 0.33032020926475525, 0.08961672335863113, 0.0, 0.0, 0.0, 0.0, 0.0, 0.0, 0.0], [0.671621561050415, 0.01396225392818451, 0.008265269920229912, 0.0024073319509625435, 0.007352202199399471, 0.14642953872680664, 0.14144323766231537, 0.008518445305526257, 0.0, 0.0, 0.0, 0.0, 0.0, 0.0], [0.7626447677612305, 0.004973442759364843, 0.007791111245751381, 0.0018794572679325938, 0.005405797623097897, 0.050597500056028366, 0.08475317060947418, 0.06715431809425354, 0.014800512231886387, 0.0, 0.0, 0.0, 0.0, 0.0], [0.6996963024139404, 0.00081523263361305, 0.0031954257283359766, 0.0012237753253430128, 0.004389127250760794, 0.06005505099892616, 0.0589529350399971, 0.06801112741231918, 0.09451135247945786, 0.009149628691375256, 0.0, 0.0, 0.0, 0.0], [0.7607777714729309, 0.0011916316580027342, 0.01550960075110197, 0.005164087750017643, 0.005512093659490347, 0.04550148919224739, 0.02825521118938923, 0.03073057159781456, 0.06910364329814911, 0.01678631640970707, 0.021467579528689384, 0.0, 0.0, 0.0], [0.7294365167617798, 0.0017223017057403922, 0.008197098970413208, 0.005934944376349449, 0.008315793238580227, 0.04139232262969017, 0.03829427808523178, 0.02614777162671089, 0.05308353155851364, 0.03205004334449768, 0.039147574454545975, 0.016277799382805824, 0.0, 0.0], [0.5935844779014587, 0.0008381809457205236, 0.004038088954985142, 0.0033116068225353956, 0.002619844162836671, 0.038832444697618484, 0.015567278489470482, 0.04852650687098503, 0.04369514808058739, 0.015750443562865257, 0.13043616712093353, 0.045912329107522964, 0.05688753351569176, 0.0], [0.7439903616905212, 0.001094931154511869, 0.004423721693456173, 0.0024779050145298243, 0.0032774433493614197, 0.006044371984899044, 0.01580582931637764, 0.005829967558383942, 0.005436589475721121, 0.008315847255289555, 0.014834387227892876, 0.06887850165367126, 0.08578360825777054, 0.03380659967660904]], [[1.0, 0.0, 0.0, 0.0, 0.0, 0.0, 0.0, 0.0, 0.0, 0.0, 0.0, 0.0, 0.0, 0.0], [0.976125955581665, 0.023874057456851006, 0.0, 0.0, 0.0, 0.0, 0.0, 0.0, 0.0, 0.0, 0.0, 0.0, 0.0, 0.0], [0.8538379073143005, 0.10452410578727722, 0.041638001799583435, 0.0, 0.0, 0.0, 0.0, 0.0, 0.0, 0.0, 0.0, 0.0, 0.0, 0.0], [0.7835609912872314, 0.1043815016746521, 0.06883174926042557, 0.04322575777769089, 0.0, 0.0, 0.0, 0.0, 0.0, 0.0, 0.0, 0.0, 0.0, 0.0], [0.56914883852005, 0.13304680585861206, 0.08999843150377274, 0.18228863179683685, 0.025517234578728676, 0.0, 0.0, 0.0, 0.0, 0.0, 0.0, 0.0, 0.0, 0.0], [0.4973253309726715, 0.1478225737810135, 0.059014055877923965, 0.09231666475534439, 0.12886546552181244, 0.07465599477291107, 0.0, 0.0, 0.0, 0.0, 0.0, 0.0, 0.0, 0.0], [0.38148975372314453, 0.12210101634263992, 0.058351024985313416, 0.08860902488231659, 0.11459165811538696, 0.13027116656303406, 0.1045864000916481, 0.0, 0.0, 0.0, 0.0, 0.0, 0.0, 0.0], [0.46573156118392944, 0.10544081032276154, 0.02976391091942787, 0.030351530760526657, 0.03792519494891167, 0.046710822731256485, 0.2355232536792755, 0.04855290800333023, 0.0, 0.0, 0.0, 0.0, 0.0, 0.0], [0.3924073576927185, 0.03355500102043152, 0.02520710974931717, 0.06391792744398117, 0.07943369448184967, 0.061434753239154816, 0.23455055058002472, 0.0957101434469223, 0.013783499598503113, 0.0, 0.0, 0.0, 0.0, 0.0], [0.5337020754814148, 0.0148035679012537, 0.02035393752157688, 0.04151482507586479, 0.05787156894803047, 0.04039755463600159, 0.1328696310520172, 0.05170082673430443, 0.04771248251199722, 0.059073351323604584, 0.0, 0.0, 0.0, 0.0], [0.6686791181564331, 0.013803369365632534, 0.01914999447762966, 0.03389495611190796, 0.013313657604157925, 0.02294766716659069, 0.06437672674655914, 0.025511115789413452, 0.036528125405311584, 0.07900553941726685, 0.022789768874645233, 0.0, 0.0, 0.0], [0.6565244793891907, 0.007799569983035326, 0.007658117450773716, 0.016768617555499077, 0.023327000439167023, 0.028010079637169838, 0.0759979709982872, 0.01679748296737671, 0.032087814062833786, 0.03623287379741669, 0.05583753064274788, 0.042958393692970276, 0.0, 0.0], [0.5566408634185791, 0.009979430586099625, 0.016272680833935738, 0.03437742590904236, 0.028420835733413696, 0.02047489956021309, 0.05578990653157234, 0.022196950390934944, 0.0360611267387867, 0.04717274755239487, 0.037865493446588516, 0.07617999613285065, 0.05856774374842644, 0.0], [0.3226199150085449, 0.019512688741087914, 0.007339238189160824, 0.011023755185306072, 0.01347822044044733, 0.01778370328247547, 0.12291442602872849, 0.03404228761792183, 0.05730348825454712, 0.07161027193069458, 0.060779962688684464, 0.07032372057437897, 0.12559477984905243, 0.06567347794771194]], [[1.0, 0.0, 0.0, 0.0, 0.0, 0.0, 0.0, 0.0, 0.0, 0.0, 0.0, 0.0, 0.0, 0.0], [0.9982283711433411, 0.0017716162838041782, 0.0, 0.0, 0.0, 0.0, 0.0, 0.0, 0.0, 0.0, 0.0, 0.0, 0.0, 0.0], [0.6888407468795776, 0.006058431696146727, 0.30510079860687256, 0.0, 0.0, 0.0, 0.0, 0.0, 0.0, 0.0, 0.0, 0.0, 0.0, 0.0], [0.5782710313796997, 0.004915987607091665, 0.11158235371112823, 0.30523061752319336, 0.0, 0.0, 0.0, 0.0, 0.0, 0.0, 0.0, 0.0, 0.0, 0.0], [0.2076178640127182, 0.03243051841855049, 0.03023182787001133, 0.08071982860565186, 0.6489999294281006, 0.0, 0.0, 0.0, 0.0, 0.0, 0.0, 0.0, 0.0, 0.0], [0.14925293624401093, 0.011780964210629463, 0.03275381401181221, 0.021389039233326912, 0.1672763079404831, 0.6175469160079956, 0.0, 0.0, 0.0, 0.0, 0.0, 0.0, 0.0, 0.0], [0.10372531414031982, 0.007065389305353165, 0.011949311010539532, 0.004103654529899359, 0.026264892891049385, 0.5225958824157715, 0.3242955207824707, 0.0, 0.0, 0.0, 0.0, 0.0, 0.0, 0.0], [0.3335622251033783, 0.007355209439992905, 0.005949980579316616, 0.007806749548763037, 0.0020841448567807674, 0.03705186769366264, 0.16228698194026947, 0.4439028203487396, 0.0, 0.0, 0.0, 0.0, 0.0, 0.0], [0.2465970367193222, 0.0026525326538830996, 0.010364065878093243, 0.004925732035189867, 0.0027319807559251785, 0.05725754797458649, 0.2774059772491455, 0.09885941445827484, 0.2992057204246521, 0.0, 0.0, 0.0, 0.0, 0.0], [0.47219353914260864, 0.0024974914267659187, 0.006229813676327467, 0.00668376125395298, 0.0009741457761265337, 0.008314997889101505, 0.0105446083471179, 0.06364981085062027, 0.10348054766654968, 0.325431227684021, 0.0, 0.0, 0.0, 0.0], [0.24713334441184998, 0.0017171084182336926, 0.05365568771958351, 0.013321086764335632, 0.0016011515399441123, 0.011026709340512753, 0.002650071168318391, 0.015309836715459824, 0.04010167717933655, 0.10817287117242813, 0.5053104162216187, 0.0, 0.0, 0.0], [0.32285940647125244, 0.0019950184505432844, 0.011223793029785156, 0.0072927637957036495, 0.0032800023909658194, 0.012901201844215393, 0.0022158753126859665, 0.003647620091214776, 0.03006148710846901, 0.02873760648071766, 0.06155337393283844, 0.5142318606376648, 0.0, 0.0], [0.2829079329967499, 0.0021477574482560158, 0.012450791895389557, 0.012285233475267887, 0.010636395774781704, 0.012114901095628738, 0.005736876279115677, 0.005068297032266855, 0.0318097323179245, 0.02477334998548031, 0.025139009580016136, 0.19904623925685883, 0.3758835196495056, 0.0], [0.17774870991706848, 0.0030449661426246166, 0.005821035243570805, 0.0041654836386442184, 0.0510486476123333, 0.09567058831453323, 0.028835032135248184, 0.004920819774270058, 0.01133492961525917, 0.018031755462288857, 0.026021739467978477, 0.050753314048051834, 0.03502604737877846, 0.4875769317150116]], [[1.0, 0.0, 0.0, 0.0, 0.0, 0.0, 0.0, 0.0, 0.0, 0.0, 0.0, 0.0, 0.0, 0.0], [0.9990137815475464, 0.000986215891316533, 0.0, 0.0, 0.0, 0.0, 0.0, 0.0, 0.0, 0.0, 0.0, 0.0, 0.0, 0.0], [0.9747567176818848, 0.01113402470946312, 0.014109230600297451, 0.0, 0.0, 0.0, 0.0, 0.0, 0.0, 0.0, 0.0, 0.0, 0.0, 0.0], [0.9373512864112854, 0.014949310570955276, 0.011211395263671875, 0.03648805245757103, 0.0, 0.0, 0.0, 0.0, 0.0, 0.0, 0.0, 0.0, 0.0, 0.0], [0.9427500367164612, 0.011432978324592113, 0.00656931521371007, 0.008690993301570415, 0.03055652603507042, 0.0, 0.0, 0.0, 0.0, 0.0, 0.0, 0.0, 0.0, 0.0], [0.8803842067718506, 0.014004252851009369, 0.012868291698396206, 0.016531093046069145, 0.03907088190317154, 0.03714124485850334, 0.0, 0.0, 0.0, 0.0, 0.0, 0.0, 0.0, 0.0], [0.8658644556999207, 0.011692753992974758, 0.006710282061249018, 0.00907514151185751, 0.013955710455775261, 0.038127440959215164, 0.05457417666912079, 0.0, 0.0, 0.0, 0.0, 0.0, 0.0, 0.0], [0.8173099756240845, 0.011219159699976444, 0.006794450804591179, 0.019029991701245308, 0.008268947713077068, 0.04849189892411232, 0.04675905033946037, 0.04212655499577522, 0.0, 0.0, 0.0, 0.0, 0.0, 0.0], [0.8407135009765625, 0.009560178965330124, 0.005296730902045965, 0.01843925006687641, 0.009380105882883072, 0.04633454605937004, 0.010476027615368366, 0.024124328047037125, 0.03567544370889664, 0.0, 0.0, 0.0, 0.0, 0.0], [0.8054394125938416, 0.00611988827586174, 0.01418276410549879, 0.027280906215310097, 0.022800300270318985, 0.03984835371375084, 0.022701893001794815, 0.018537405878305435, 0.019647909328341484, 0.023441210389137268, 0.0, 0.0, 0.0, 0.0], [0.6738772392272949, 0.010256373323500156, 0.015232628211379051, 0.038298383355140686, 0.08599983900785446, 0.04020128399133682, 0.04929805546998978, 0.017100529745221138, 0.005753860808908939, 0.03218018636107445, 0.031801529228687286, 0.0, 0.0, 0.0], [0.7450483441352844, 0.007382269948720932, 0.00905206985771656, 0.029279140755534172, 0.048763517290353775, 0.028348349034786224, 0.010804506950080395, 0.014543508179485798, 0.005662369076162577, 0.04333217069506645, 0.02930429019033909, 0.028479499742388725, 0.0, 0.0], [0.8352711200714111, 0.00904528982937336, 0.00367106799967587, 0.011508237570524216, 0.020500024780631065, 0.024491799995303154, 0.040459807962179184, 0.003997591324150562, 0.0047910176217556, 0.010695726610720158, 0.012547886930406094, 0.017165809869766235, 0.005854378454387188, 0.0], [0.661504328250885, 0.025155039504170418, 0.006575226783752441, 0.012880592606961727, 0.030189018696546555, 0.057185567915439606, 0.04549601301550865, 0.013034391216933727, 0.012810289859771729, 0.028434623032808304, 0.02643653005361557, 0.01736515946686268, 0.03141060844063759, 0.03152252361178398]], [[1.0, 0.0, 0.0, 0.0, 0.0, 0.0, 0.0, 0.0, 0.0, 0.0, 0.0, 0.0, 0.0, 0.0], [0.9856115579605103, 0.014388447627425194, 0.0, 0.0, 0.0, 0.0, 0.0, 0.0, 0.0, 0.0, 0.0, 0.0, 0.0, 0.0], [0.777434229850769, 0.16157527267932892, 0.060990557074546814, 0.0, 0.0, 0.0, 0.0, 0.0, 0.0, 0.0, 0.0, 0.0, 0.0, 0.0], [0.5556549429893494, 0.1701377034187317, 0.1882934719324112, 0.08591388911008835, 0.0, 0.0, 0.0, 0.0, 0.0, 0.0, 0.0, 0.0, 0.0, 0.0], [0.41256144642829895, 0.1844596117734909, 0.096389040350914, 0.22968240082263947, 0.07690747082233429, 0.0, 0.0, 0.0, 0.0, 0.0, 0.0, 0.0, 0.0, 0.0], [0.2789474129676819, 0.11413178592920303, 0.1006980612874031, 0.23899933695793152, 0.2364218831062317, 0.030801504850387573, 0.0, 0.0, 0.0, 0.0, 0.0, 0.0, 0.0, 0.0], [0.3684808611869812, 0.15191392600536346, 0.11252875626087189, 0.20858359336853027, 0.03765116259455681, 0.08708538115024567, 0.0337563194334507, 0.0, 0.0, 0.0, 0.0, 0.0, 0.0, 0.0], [0.6939390897750854, 0.039231281727552414, 0.06641469895839691, 0.04975905641913414, 0.020561348646879196, 0.04532613605260849, 0.0727403312921524, 0.012027974240481853, 0.0, 0.0, 0.0, 0.0, 0.0, 0.0], [0.5677973628044128, 0.05449213460087776, 0.028697635978460312, 0.06104566901922226, 0.04202236607670784, 0.08198928087949753, 0.06263552606105804, 0.06252860277891159, 0.03879143297672272, 0.0, 0.0, 0.0, 0.0, 0.0], [0.7135902643203735, 0.008457272313535213, 0.016435381025075912, 0.04369019344449043, 0.04299568012356758, 0.038380157202482224, 0.04592509940266609, 0.04093124717473984, 0.03286461904644966, 0.01673012413084507, 0.0, 0.0, 0.0, 0.0], [0.7023071050643921, 0.032216254621744156, 0.007852810434997082, 0.027063880115747452, 0.03953247517347336, 0.012712989933788776, 0.04400245100259781, 0.024789011105895042, 0.01886027492582798, 0.051878027617931366, 0.03878471255302429, 0.0, 0.0, 0.0], [0.29352042078971863, 0.010466591455042362, 0.006061109248548746, 0.05576517805457115, 0.03538719564676285, 0.013890732079744339, 0.030869148671627045, 0.02210976369678974, 0.037643492221832275, 0.08212084323167801, 0.33473441004753113, 0.0774310827255249, 0.0, 0.0], [0.25014621019363403, 0.01844513788819313, 0.0076583451591432095, 0.030166061595082283, 0.0885385274887085, 0.008179194293916225, 0.02209845371544361, 0.010552870109677315, 0.028640886768698692, 0.08959747850894928, 0.16595226526260376, 0.15178999304771423, 0.1282346248626709, 0.0], [0.1417720466852188, 0.013645455241203308, 0.007045644335448742, 0.022284995764493942, 0.04337778314948082, 0.004933544434607029, 0.02131890505552292, 0.019426414743065834, 0.05715380609035492, 0.09419947117567062, 0.1718018352985382, 0.09122536331415176, 0.27977877855300903, 0.03203601762652397]], [[1.0, 0.0, 0.0, 0.0, 0.0, 0.0, 0.0, 0.0, 0.0, 0.0, 0.0, 0.0, 0.0, 0.0], [0.9969097971916199, 0.003090244485065341, 0.0, 0.0, 0.0, 0.0, 0.0, 0.0, 0.0, 0.0, 0.0, 0.0, 0.0, 0.0], [0.9645689129829407, 0.010149882175028324, 0.025281177833676338, 0.0, 0.0, 0.0, 0.0, 0.0, 0.0, 0.0, 0.0, 0.0, 0.0, 0.0], [0.9606189727783203, 0.008074473589658737, 0.025085939094424248, 0.006220724433660507, 0.0, 0.0, 0.0, 0.0, 0.0, 0.0, 0.0, 0.0, 0.0, 0.0], [0.9666074514389038, 0.011634230613708496, 0.01089025940746069, 0.0010487536201253533, 0.00981920026242733, 0.0, 0.0, 0.0, 0.0, 0.0, 0.0, 0.0, 0.0, 0.0], [0.8851521611213684, 0.015134483575820923, 0.018111955374479294, 0.0015668484847992659, 0.02572968788444996, 0.05430492386221886, 0.0, 0.0, 0.0, 0.0, 0.0, 0.0, 0.0, 0.0], [0.7965334057807922, 0.017062965780496597, 0.02670375443994999, 0.0011859888909384608, 0.007161382585763931, 0.046544309705495834, 0.10480813682079315, 0.0, 0.0, 0.0, 0.0, 0.0, 0.0, 0.0], [0.6882100105285645, 0.013435001485049725, 0.02438810095191002, 0.00447234557941556, 0.005191645119339228, 0.07284829020500183, 0.0743771642446518, 0.11707732081413269, 0.0, 0.0, 0.0, 0.0, 0.0, 0.0], [0.8162252306938171, 0.01894473470747471, 0.013640206307172775, 0.002293270081281662, 0.017147907987236977, 0.05530925840139389, 0.030493199825286865, 0.03211843967437744, 0.013827769085764885, 0.0, 0.0, 0.0, 0.0, 0.0], [0.7968342304229736, 0.012482325546443462, 0.015798969194293022, 0.0028379757422953844, 0.014204657636582851, 0.06323014199733734, 0.023018864914774895, 0.03679128736257553, 0.023806503042578697, 0.010995084419846535, 0.0, 0.0, 0.0, 0.0], [0.9006771445274353, 0.005620884709060192, 0.005681352224200964, 0.0018538390286266804, 0.008146477863192558, 0.023644911125302315, 0.010467534884810448, 0.019299887120723724, 0.008915653452277184, 0.005482888780534267, 0.01020942535251379, 0.0, 0.0, 0.0], [0.8331983089447021, 0.005936534609645605, 0.010164618492126465, 0.002539935987442732, 0.016470538452267647, 0.053168896585702896, 0.011784149333834648, 0.017517345026135445, 0.0070990524254739285, 0.008646477945148945, 0.010739151388406754, 0.022735044360160828, 0.0, 0.0], [0.8811718821525574, 0.008410963229835033, 0.006230223923921585, 0.00222061388194561, 0.02127617597579956, 0.019098706543445587, 0.009970702230930328, 0.010785789228975773, 0.0030010840855538845, 0.00370292947627604, 0.008004368282854557, 0.00756503501906991, 0.01856164075434208, 0.0], [0.7191035747528076, 0.021584713831543922, 0.013600824400782585, 0.0014888126170262694, 0.024812549352645874, 0.0496637336909771, 0.03562987223267555, 0.03094184398651123, 0.02629196271300316, 0.009713088162243366, 0.007640952244400978, 0.03857223317027092, 0.0023760944604873657, 0.01857968233525753]], [[1.0, 0.0, 0.0, 0.0, 0.0, 0.0, 0.0, 0.0, 0.0, 0.0, 0.0, 0.0, 0.0, 0.0], [1.0, 1.3695894418574994e-10, 0.0, 0.0, 0.0, 0.0, 0.0, 0.0, 0.0, 0.0, 0.0, 0.0, 0.0, 0.0], [0.00012374708603601903, 0.9983238577842712, 0.0015524065820500255, 0.0, 0.0, 0.0, 0.0, 0.0, 0.0, 0.0, 0.0, 0.0, 0.0, 0.0], [1.2649009022425162e-06, 0.00010067574476124719, 0.9992659687995911, 0.0006320013199001551, 0.0, 0.0, 0.0, 0.0, 0.0, 0.0, 0.0, 0.0, 0.0, 0.0], [1.3027424472511484e-07, 8.230605433312554e-12, 5.5374812374386906e-11, 0.9999555349349976, 4.433806680026464e-05, 0.0, 0.0, 0.0, 0.0, 0.0, 0.0, 0.0, 0.0, 0.0], [8.528820671926951e-08, 2.3765311496504182e-08, 3.3509567343159574e-10, 1.5204817827907391e-05, 0.9999080896377563, 7.658930553589016e-05, 0.0, 0.0, 0.0, 0.0, 0.0, 0.0, 0.0, 0.0], [2.6344878278905526e-06, 9.705158454664797e-09, 1.09988938529898e-12, 1.533059161389072e-13, 3.730560305115205e-10, 0.9963055849075317, 0.003691762685775757, 0.0, 0.0, 0.0, 0.0, 0.0, 0.0, 0.0], [1.5014621490561098e-10, 1.3841288141677732e-12, 6.3842385188367465e-15, 2.34391089513108e-17, 4.21049225470476e-16, 1.6268193459012537e-09, 0.9993516802787781, 0.0006483355537056923, 0.0, 0.0, 0.0, 0.0, 0.0, 0.0], [1.426955775762906e-10, 1.7181227144127953e-12, 1.4180361529100849e-12, 1.8411163198661044e-15, 4.607037611104557e-16, 5.020650633014156e-07, 0.0003030726220458746, 0.9996963739395142, 1.2858167508511542e-07, 0.0, 0.0, 0.0, 0.0, 0.0], [4.3194262389079086e-08, 1.855249488107516e-14, 2.5418008626695854e-14, 1.0302046823658798e-16, 1.0829320366549293e-17, 7.1724982723953e-12, 2.5737321163177285e-09, 1.4643136125869205e-07, 0.9943696856498718, 0.005630221683532, 0.0, 0.0, 0.0, 0.0], [1.269168325990222e-09, 4.0610553114772685e-11, 2.387818831550703e-10, 7.495264848333255e-16, 2.067076705166733e-17, 2.892116748995019e-14, 2.0563505325615905e-12, 4.244273769243856e-12, 3.813419482412428e-07, 0.9999973773956299, 2.2705880837747827e-06, 0.0, 0.0, 0.0], [7.024181930548323e-11, 1.3000779380996363e-13, 2.6551374285505892e-15, 1.3746357940553743e-14, 1.2388636123905616e-14, 3.2130056942933014e-14, 4.295057165422432e-15, 2.2924017098778027e-15, 2.3343374455642163e-10, 4.328111117501976e-06, 0.9997774958610535, 0.00021825195290148258, 0.0, 0.0], [2.300160506507609e-09, 2.9088524124143422e-12, 6.893571000490817e-13, 1.379663104003918e-14, 2.5502441506152873e-17, 3.8527048305120326e-13, 1.2136064722612083e-11, 2.219189675772837e-12, 7.752455566389926e-09, 2.365343107157969e-06, 6.537028639286291e-06, 0.9999909400939941, 1.4040901419321017e-07, 0.0], [1.3403685443336144e-05, 4.4399408805008596e-15, 3.4711359885899985e-16, 1.2865707631204426e-11, 1.27257052895402e-07, 3.946337701066227e-11, 1.794249969953865e-12, 4.553771774809881e-14, 1.7782254835285727e-10, 1.2306464181044419e-10, 1.528215953783274e-08, 8.238635551549578e-09, 0.9999755620956421, 1.0864774594665505e-05]]], [[[1.0, 0.0, 0.0, 0.0, 0.0, 0.0, 0.0, 0.0, 0.0, 0.0, 0.0, 0.0, 0.0, 0.0], [0.9894765615463257, 0.010523433797061443, 0.0, 0.0, 0.0, 0.0, 0.0, 0.0, 0.0, 0.0, 0.0, 0.0, 0.0, 0.0], [0.9882110953330994, 0.000927529064938426, 0.010861394926905632, 0.0, 0.0, 0.0, 0.0, 0.0, 0.0, 0.0, 0.0, 0.0, 0.0, 0.0], [0.9347637295722961, 0.0007715037208981812, 0.003096083179116249, 0.0613686665892601, 0.0, 0.0, 0.0, 0.0, 0.0, 0.0, 0.0, 0.0, 0.0, 0.0], [0.9742005467414856, 0.0006586752133443952, 0.0019317768746986985, 0.016349412500858307, 0.006859532557427883, 0.0, 0.0, 0.0, 0.0, 0.0, 0.0, 0.0, 0.0, 0.0], [0.9450836777687073, 0.0014623655006289482, 0.006302351597696543, 0.004393393639475107, 0.0015065890038385987, 0.041251592338085175, 0.0, 0.0, 0.0, 0.0, 0.0, 0.0, 0.0, 0.0], [0.9345774054527283, 0.008579828776419163, 0.006935479119420052, 0.004913024604320526, 0.0008785245008766651, 0.007450375705957413, 0.036665432155132294, 0.0, 0.0, 0.0, 0.0, 0.0, 0.0, 0.0], [0.9420931935310364, 0.007681140210479498, 0.006635226774960756, 0.005677098874002695, 0.0030713253654539585, 0.0023999959230422974, 0.012572837062180042, 0.019869057461619377, 0.0, 0.0, 0.0, 0.0, 0.0, 0.0], [0.9672912359237671, 0.00616092886775732, 0.005163704976439476, 0.011527778580784798, 0.0010185606079176068, 0.0015831865603104234, 0.0021917822305113077, 0.0030061714351177216, 0.0020566671155393124, 0.0, 0.0, 0.0, 0.0, 0.0], [0.8345805406570435, 0.0005293139256536961, 0.052898846566677094, 0.049286387860774994, 0.01853932812809944, 0.008854957297444344, 0.017116805538535118, 0.004631104879081249, 0.006945239845663309, 0.006617310456931591, 0.0, 0.0, 0.0, 0.0], [0.8664689064025879, 0.0007332788081839681, 0.0018623365322127938, 0.010516463778913021, 0.01276601105928421, 0.05732101947069168, 0.031328167766332626, 0.015103819780051708, 0.0011513079516589642, 0.001039823517203331, 0.001708742929622531, 0.0, 0.0, 0.0], [0.8877522349357605, 7.748925418127328e-05, 0.0041283247992396355, 0.012177478522062302, 0.002238800749182701, 0.026598095893859863, 0.027036750689148903, 0.004548464901745319, 0.0010448995744809508, 0.0007800296298228204, 0.007119119632989168, 0.02649826742708683, 0.0, 0.0], [0.848900318145752, 0.00044543331023305655, 0.0022141668014228344, 0.004662699531763792, 0.012878037989139557, 0.050014927983284, 0.014445223845541477, 0.002619071863591671, 0.0060567548498511314, 0.0001261862344108522, 0.0012049964861944318, 0.0038445214740931988, 0.052587710320949554, 0.0], [0.14300742745399475, 0.00025414020637981594, 0.0008046122384257615, 0.0002814374165609479, 0.000179788374225609, 0.0008460399694740772, 0.8419299125671387, 0.0040189120918512344, 0.002415456809103489, 0.00039656140143051744, 0.0004735731054097414, 0.0009918148862197995, 0.002330669667571783, 0.0020696467254310846]], [[1.0, 0.0, 0.0, 0.0, 0.0, 0.0, 0.0, 0.0, 0.0, 0.0, 0.0, 0.0, 0.0, 0.0], [0.9999598264694214, 4.0162882214644924e-05, 0.0, 0.0, 0.0, 0.0, 0.0, 0.0, 0.0, 0.0, 0.0, 0.0, 0.0, 0.0], [0.9985968470573425, 1.0312068070561509e-06, 0.001402023364789784, 0.0, 0.0, 0.0, 0.0, 0.0, 0.0, 0.0, 0.0, 0.0, 0.0, 0.0], [0.9991231560707092, 2.046022245849599e-06, 6.433896260205074e-07, 0.0008742316858842969, 0.0, 0.0, 0.0, 0.0, 0.0, 0.0, 0.0, 0.0, 0.0, 0.0], [0.9993152618408203, 2.5241932235076092e-05, 1.6830346794449724e-05, 3.450301301199943e-05, 0.0006081844330765307, 0.0, 0.0, 0.0, 0.0, 0.0, 0.0, 0.0, 0.0, 0.0], [0.9980720281600952, 3.042377284145914e-05, 0.00023653724929317832, 0.0002015015052165836, 3.168390321661718e-05, 0.0014278045855462551, 0.0, 0.0, 0.0, 0.0, 0.0, 0.0, 0.0, 0.0], [0.9893282055854797, 3.586696720958571e-06, 4.508038909989409e-05, 4.165856444160454e-05, 3.5090884011879098e-06, 9.228796443494502e-06, 0.010568821802735329, 0.0, 0.0, 0.0, 0.0, 0.0, 0.0, 0.0], [0.9963138699531555, 2.358826577619766e-06, 2.8334006856312044e-06, 8.196395356208086e-06, 1.089682086785615e-07, 1.0397436689402184e-08, 0.00010113078315043822, 0.0035715335980057716, 0.0, 0.0, 0.0, 0.0, 0.0, 0.0], [0.997685432434082, 6.359394433275156e-07, 1.2392042663122993e-05, 3.034055043826811e-05, 2.1113635284564225e-07, 2.104455276707995e-08, 9.648171726439614e-06, 0.00010529921564739197, 0.002156142145395279, 0.0, 0.0, 0.0, 0.0, 0.0], [0.9889850616455078, 5.0322505273925344e-08, 0.0036380349192768335, 0.0012488862266764045, 1.4462291630934487e-07, 1.3601226811488232e-08, 1.473203064961126e-05, 3.412629303056747e-05, 0.0014015530468896031, 0.004677485674619675, 0.0, 0.0, 0.0, 0.0], [0.9993552565574646, 7.000619461905444e-08, 4.5010670874034986e-05, 0.00010073719022329897, 6.898496849316871e-06, 1.5943368225634913e-06, 4.233941945130937e-05, 4.25972018547327e-07, 9.470229997532442e-06, 5.062324362370418e-06, 0.00043316298979334533, 0.0, 0.0, 0.0], [0.9966262578964233, 5.137714254033199e-08, 4.1044702811632305e-05, 6.109230889705941e-05, 1.0263269700772071e-07, 2.4865471459634136e-07, 4.253881343174726e-05, 1.4115031490291585e-06, 6.330456926662009e-06, 6.495029651887307e-07, 4.636616358766332e-05, 0.003173875156790018, 0.0, 0.0], [0.9986936450004578, 1.5690420696046203e-06, 3.9964905340639234e-07, 1.5077289390319493e-06, 1.298217512157862e-06, 1.075875752576394e-05, 2.658796074683778e-05, 5.667539539899735e-07, 4.258827175362967e-06, 2.175763427203492e-07, 2.5526608737891365e-07, 4.327868373366073e-05, 0.001215682947076857, 0.0], [0.9808510541915894, 1.8157592421630397e-05, 1.1356491086189635e-05, 7.0379423959821e-06, 2.9829013783455594e-06, 1.2702198546321597e-06, 0.016268130391836166, 8.38503910927102e-05, 3.404905874049291e-05, 7.3434566729702055e-06, 3.092027554885135e-06, 4.021083805128001e-05, 0.0017739511094987392, 0.0008975769160315394]], [[1.0, 0.0, 0.0, 0.0, 0.0, 0.0, 0.0, 0.0, 0.0, 0.0, 0.0, 0.0, 0.0, 0.0], [0.8315799236297607, 0.16842012107372284, 0.0, 0.0, 0.0, 0.0, 0.0, 0.0, 0.0, 0.0, 0.0, 0.0, 0.0, 0.0], [0.4878677427768707, 0.5004812479019165, 0.01165096927434206, 0.0, 0.0, 0.0, 0.0, 0.0, 0.0, 0.0, 0.0, 0.0, 0.0, 0.0], [0.3567529022693634, 0.4891430139541626, 0.12632116675376892, 0.027782868593931198, 0.0, 0.0, 0.0, 0.0, 0.0, 0.0, 0.0, 0.0, 0.0, 0.0], [0.3755398094654083, 0.3008810877799988, 0.18633459508419037, 0.1317692995071411, 0.005475187674164772, 0.0, 0.0, 0.0, 0.0, 0.0, 0.0, 0.0, 0.0, 0.0], [0.3340868651866913, 0.2929976284503937, 0.11945638805627823, 0.05015106499195099, 0.1888687163591385, 0.01443933229893446, 0.0, 0.0, 0.0, 0.0, 0.0, 0.0, 0.0, 0.0], [0.5887441635131836, 0.07591135799884796, 0.01873650588095188, 0.07499382644891739, 0.05254329741001129, 0.15472102165222168, 0.03434980660676956, 0.0, 0.0, 0.0, 0.0, 0.0, 0.0, 0.0], [0.7834459543228149, 0.04280160740017891, 0.01797996647655964, 0.03466661646962166, 0.009186428971588612, 0.03912767022848129, 0.06659884005784988, 0.0061928993090987206, 0.0, 0.0, 0.0, 0.0, 0.0, 0.0], [0.4916060268878937, 0.1413239985704422, 0.08266708999872208, 0.04393496736884117, 0.012206075713038445, 0.042912911623716354, 0.04659992828965187, 0.07435690611600876, 0.06439214944839478, 0.0, 0.0, 0.0, 0.0, 0.0], [0.7535485625267029, 0.01280466839671135, 0.003948661964386702, 0.011269516311585903, 0.01292320154607296, 0.03432329371571541, 0.025994839146733284, 0.04757247492671013, 0.09081537276506424, 0.00679943198338151, 0.0, 0.0, 0.0, 0.0], [0.6564480662345886, 0.0565265491604805, 0.01031702570617199, 0.005145245231688023, 0.005923442542552948, 0.032489530742168427, 0.016595508903265, 0.02370215579867363, 0.09283187985420227, 0.05584801733493805, 0.044172678142786026, 0.0, 0.0, 0.0], [0.5114551782608032, 0.03227509185671806, 0.015092166140675545, 0.013993611559271812, 0.009154402650892735, 0.029298823326826096, 0.020489564165472984, 0.026036132127046585, 0.17880403995513916, 0.04706010967493057, 0.10415536165237427, 0.012185539118945599, 0.0, 0.0], [0.4934552013874054, 0.02472028136253357, 0.0036855731159448624, 0.003110569901764393, 0.01495504379272461, 0.0059081497602164745, 0.0067202504724264145, 0.014000876806676388, 0.052614543586969376, 0.06578266620635986, 0.14311248064041138, 0.15679463744163513, 0.015139787457883358, 0.0], [0.27922672033309937, 0.025838008150458336, 0.014027455821633339, 0.00852162018418312, 0.011094445362687111, 0.007494601886719465, 0.035967614501714706, 0.034836821258068085, 0.16830633580684662, 0.09749534726142883, 0.049025166779756546, 0.030649395659565926, 0.18599766492843628, 0.05151887238025665]], [[1.0, 0.0, 0.0, 0.0, 0.0, 0.0, 0.0, 0.0, 0.0, 0.0, 0.0, 0.0, 0.0, 0.0], [0.9608766436576843, 0.0391232930123806, 0.0, 0.0, 0.0, 0.0, 0.0, 0.0, 0.0, 0.0, 0.0, 0.0, 0.0, 0.0], [0.8180478811264038, 0.13847950100898743, 0.043472614139318466, 0.0, 0.0, 0.0, 0.0, 0.0, 0.0, 0.0, 0.0, 0.0, 0.0, 0.0], [0.5714854598045349, 0.17554590106010437, 0.13697753846645355, 0.11599106341600418, 0.0, 0.0, 0.0, 0.0, 0.0, 0.0, 0.0, 0.0, 0.0, 0.0], [0.6166868209838867, 0.16166704893112183, 0.07040548324584961, 0.10404476523399353, 0.047195933759212494, 0.0, 0.0, 0.0, 0.0, 0.0, 0.0, 0.0, 0.0, 0.0], [0.5253733396530151, 0.24930837750434875, 0.04079485312104225, 0.07146307080984116, 0.05409877747297287, 0.05896161496639252, 0.0, 0.0, 0.0, 0.0, 0.0, 0.0, 0.0, 0.0], [0.4857112765312195, 0.15714219212532043, 0.02019410766661167, 0.06149826943874359, 0.08420348912477493, 0.09570487588644028, 0.0955457016825676, 0.0, 0.0, 0.0, 0.0, 0.0, 0.0, 0.0], [0.3875780999660492, 0.13821500539779663, 0.02033494971692562, 0.01819847710430622, 0.03959744796156883, 0.07202868163585663, 0.27379336953163147, 0.05025387182831764, 0.0, 0.0, 0.0, 0.0, 0.0, 0.0], [0.3900052011013031, 0.0668492317199707, 0.009174229577183723, 0.012154115363955498, 0.024368705227971077, 0.06044216454029083, 0.262865275144577, 0.1285826563835144, 0.04555836692452431, 0.0, 0.0, 0.0, 0.0, 0.0], [0.3140784800052643, 0.018462466076016426, 0.0033753816969692707, 0.006979744415730238, 0.015012053772807121, 0.050219401717185974, 0.24190229177474976, 0.11337137967348099, 0.20696191489696503, 0.029636895284056664, 0.0, 0.0, 0.0, 0.0], [0.39856553077697754, 0.03807426244020462, 0.004851263482123613, 0.006615299265831709, 0.006509534083306789, 0.03949638828635216, 0.17683446407318115, 0.11202743649482727, 0.0997559130191803, 0.10567262023687363, 0.0115973437204957, 0.0, 0.0, 0.0], [0.3092336654663086, 0.02949061244726181, 0.004675629548728466, 0.008269407786428928, 0.007305377162992954, 0.038228582590818405, 0.21416069567203522, 0.14328065514564514, 0.13136136531829834, 0.07669559121131897, 0.02265794947743416, 0.014640454202890396, 0.0, 0.0], [0.1505899429321289, 0.03066495805978775, 0.00982800405472517, 0.006005625706166029, 0.017745008692145348, 0.03636223077774048, 0.19068069756031036, 0.10230672359466553, 0.1378171592950821, 0.1366880089044571, 0.050144683569669724, 0.08664757758378983, 0.04451944679021835, 0.0], [0.20515090227127075, 0.03933131322264671, 0.004590301308780909, 0.007525577209889889, 0.014716613106429577, 0.022489313036203384, 0.25256675481796265, 0.06850343197584152, 0.147658109664917, 0.07101889699697495, 0.022547708824276924, 0.022547930479049683, 0.07081489264965057, 0.0505383275449276]], [[1.0, 0.0, 0.0, 0.0, 0.0, 0.0, 0.0, 0.0, 0.0, 0.0, 0.0, 0.0, 0.0, 0.0], [0.9650648236274719, 0.03493518754839897, 0.0, 0.0, 0.0, 0.0, 0.0, 0.0, 0.0, 0.0, 0.0, 0.0, 0.0, 0.0], [0.7078623175621033, 0.2746143043041229, 0.017523346468806267, 0.0, 0.0, 0.0, 0.0, 0.0, 0.0, 0.0, 0.0, 0.0, 0.0, 0.0], [0.5898871421813965, 0.24300368130207062, 0.11919388920068741, 0.04791535437107086, 0.0, 0.0, 0.0, 0.0, 0.0, 0.0, 0.0, 0.0, 0.0, 0.0], [0.6678946018218994, 0.08498039096593857, 0.07051818817853928, 0.11942125111818314, 0.057185545563697815, 0.0, 0.0, 0.0, 0.0, 0.0, 0.0, 0.0, 0.0, 0.0], [0.44192275404930115, 0.09236358851194382, 0.06924451142549515, 0.13578571379184723, 0.19157443940639496, 0.06910890340805054, 0.0, 0.0, 0.0, 0.0, 0.0, 0.0, 0.0, 0.0], [0.5139132738113403, 0.06431857496500015, 0.03415016829967499, 0.031234219670295715, 0.07325829565525055, 0.12596040964126587, 0.15716521441936493, 0.0, 0.0, 0.0, 0.0, 0.0, 0.0, 0.0], [0.6367640495300293, 0.06345174461603165, 0.03699153661727905, 0.014404219575226307, 0.009883277118206024, 0.04422455281019211, 0.1837078034877777, 0.010572900995612144, 0.0, 0.0, 0.0, 0.0, 0.0, 0.0], [0.4014301002025604, 0.024113010615110397, 0.028998231515288353, 0.027767203748226166, 0.02244495414197445, 0.061052750796079636, 0.15505941212177277, 0.25446709990501404, 0.0246671624481678, 0.0, 0.0, 0.0, 0.0, 0.0], [0.7320848703384399, 0.00117684795986861, 0.004150221589952707, 0.010844573378562927, 0.018048863857984543, 0.034763507544994354, 0.11329378187656403, 0.05398540571331978, 0.026454810053110123, 0.005197064019739628, 0.0, 0.0, 0.0, 0.0], [0.7142364382743835, 0.0037932826671749353, 0.007883245125412941, 0.0033915615640580654, 0.006431865505874157, 0.016582755371928215, 0.04509304463863373, 0.07346930354833603, 0.019963687285780907, 0.08606848865747452, 0.023086322471499443, 0.0, 0.0, 0.0], [0.7301485538482666, 0.002745114965364337, 0.011108072474598885, 0.009993147104978561, 0.016978388652205467, 0.03820130228996277, 0.05548999831080437, 0.031287360936403275, 0.023591330274939537, 0.019747575744986534, 0.04221701994538307, 0.018492119386792183, 0.0, 0.0], [0.6551176309585571, 0.0033170594833791256, 0.0028481553308665752, 0.0021440384443849325, 0.016772093251347542, 0.0455988347530365, 0.04705408960580826, 0.0251261368393898, 0.025264663621783257, 0.011614429764449596, 0.012653118930757046, 0.083916075527668, 0.06857357919216156, 0.0], [0.33106788992881775, 0.007265654858201742, 0.007316118571907282, 0.0061750756576657295, 0.01668858528137207, 0.00847914069890976, 0.0258797537535429, 0.010878465138375759, 0.022298160940408707, 0.033489979803562164, 0.036219824105501175, 0.12020090967416763, 0.3375994563102722, 0.03644098713994026]], [[1.0, 0.0, 0.0, 0.0, 0.0, 0.0, 0.0, 0.0, 0.0, 0.0, 0.0, 0.0, 0.0, 0.0], [0.9485204815864563, 0.05147954076528549, 0.0, 0.0, 0.0, 0.0, 0.0, 0.0, 0.0, 0.0, 0.0, 0.0, 0.0, 0.0], [0.9868060350418091, 0.00267964880913496, 0.010514327324926853, 0.0, 0.0, 0.0, 0.0, 0.0, 0.0, 0.0, 0.0, 0.0, 0.0, 0.0], [0.9543811082839966, 0.0028794468380510807, 0.004096560645848513, 0.03864289075136185, 0.0, 0.0, 0.0, 0.0, 0.0, 0.0, 0.0, 0.0, 0.0, 0.0], [0.9073212742805481, 0.03308713063597679, 0.04304692521691322, 0.012719180434942245, 0.0038254186511039734, 0.0, 0.0, 0.0, 0.0, 0.0, 0.0, 0.0, 0.0, 0.0], [0.9327727556228638, 0.013980752788484097, 0.019959889352321625, 0.009093810804188251, 0.002486033597961068, 0.021706849336624146, 0.0, 0.0, 0.0, 0.0, 0.0, 0.0, 0.0, 0.0], [0.9107581377029419, 0.0057458048686385155, 0.01578987017273903, 0.02103235013782978, 0.0039429208263754845, 0.016611719503998756, 0.02611910179257393, 0.0, 0.0, 0.0, 0.0, 0.0, 0.0, 0.0], [0.9244228005409241, 0.002545214258134365, 0.0038915916811674833, 0.004874832462519407, 0.0058904304169118404, 0.0164417065680027, 0.040205445140600204, 0.0017281421460211277, 0.0, 0.0, 0.0, 0.0, 0.0, 0.0], [0.9190388321876526, 0.0014755232259631157, 0.01596272550523281, 0.021075274795293808, 0.0033824315760284662, 0.002905420958995819, 0.006461597513407469, 0.015085830353200436, 0.01461248192936182, 0.0, 0.0, 0.0, 0.0, 0.0], [0.8207523226737976, 0.0001710764190647751, 0.0638316199183464, 0.06577569246292114, 0.002538729226216674, 0.0027751263696700335, 0.011148336343467236, 0.003496820107102394, 0.012372358702123165, 0.01713796705007553, 0.0, 0.0, 0.0, 0.0], [0.9360174536705017, 0.000968475011177361, 0.02002095617353916, 0.012097172439098358, 0.0005178017891012132, 0.003117792773991823, 0.008287128061056137, 0.002303357934579253, 0.00606866180896759, 0.0016902153147384524, 0.008911044336855412, 0.0, 0.0, 0.0], [0.8374418616294861, 0.000245410279603675, 0.009561186656355858, 0.035695768892765045, 0.0017825098475441337, 0.006460497621446848, 0.018562382087111473, 0.0009583199862390757, 0.0020170726347714663, 0.0013528218260034919, 0.004816744010895491, 0.08110562711954117, 0.0, 0.0], [0.9701345562934875, 0.0005198312574066222, 0.00017542204295750707, 0.0009816127130761743, 0.00017709896201267838, 0.0019337296253070235, 0.019722724333405495, 0.00026953808264806867, 0.0011173972161486745, 0.00033314566826447845, 3.9620077586732805e-05, 0.0001172667762148194, 0.004477972164750099, 0.0], [0.7475099563598633, 0.007181982975453138, 0.004015977960079908, 0.00361467688344419, 0.004290243145078421, 0.002244020812213421, 0.1423640251159668, 0.0009543884661979973, 0.03223320096731186, 0.003160565160214901, 0.0011633974500000477, 0.0036200552713125944, 0.011797420680522919, 0.03585007041692734]], [[1.0, 0.0, 0.0, 0.0, 0.0, 0.0, 0.0, 0.0, 0.0, 0.0, 0.0, 0.0, 0.0, 0.0], [0.8897897005081177, 0.1102103590965271, 0.0, 0.0, 0.0, 0.0, 0.0, 0.0, 0.0, 0.0, 0.0, 0.0, 0.0, 0.0], [0.4531583786010742, 0.5180428624153137, 0.02879873290657997, 0.0, 0.0, 0.0, 0.0, 0.0, 0.0, 0.0, 0.0, 0.0, 0.0, 0.0], [0.6407519578933716, 0.1288735717535019, 0.18151220679283142, 0.048862311989068985, 0.0, 0.0, 0.0, 0.0, 0.0, 0.0, 0.0, 0.0, 0.0, 0.0], [0.9033650159835815, 0.0035932620521634817, 0.0011038384400308132, 0.0771317258477211, 0.014806094579398632, 0.0, 0.0, 0.0, 0.0, 0.0, 0.0, 0.0, 0.0, 0.0], [0.9424413442611694, 0.003576963907107711, 0.0003437644918449223, 0.0018832491477951407, 0.025014540180563927, 0.026740115135908127, 0.0, 0.0, 0.0, 0.0, 0.0, 0.0, 0.0, 0.0], [0.6186698079109192, 0.00407415721565485, 0.0004028795228805393, 0.010975663550198078, 0.019765183329582214, 0.3260762691497803, 0.02003606967628002, 0.0, 0.0, 0.0, 0.0, 0.0, 0.0, 0.0], [0.16801442205905914, 0.001111332792788744, 0.0014305011136457324, 0.0024321116507053375, 0.0008371058502234519, 0.007294059731066227, 0.758811354637146, 0.06006911024451256, 0.0, 0.0, 0.0, 0.0, 0.0, 0.0], [0.27944594621658325, 0.004609506111592054, 0.0006921335007064044, 0.00237879971973598, 0.0008634495316073298, 0.012523955665528774, 0.1095123365521431, 0.5788170695304871, 0.0111567797139287, 0.0, 0.0, 0.0, 0.0, 0.0], [0.7459978461265564, 0.00032225673203356564, 0.0003390397469047457, 0.0005412231548689306, 0.00019888152019120753, 0.0008131194626912475, 0.05217565596103668, 0.01782827451825142, 0.11846620589494705, 0.06331749260425568, 0.0, 0.0, 0.0, 0.0], [0.2591969668865204, 0.005365884397178888, 0.008955917321145535, 0.001595806679688394, 0.0007367631187662482, 0.0007016063900664449, 0.010433511808514595, 0.0026065579149872065, 0.11131515353918076, 0.5946622490882874, 0.0044297412969172, 0.0, 0.0, 0.0], [0.541526198387146, 0.0027790626045316458, 0.0011656914139166474, 0.0017354877199977636, 0.005072987172752619, 0.001971926772966981, 0.01074086595326662, 0.001072164042852819, 0.13706611096858978, 0.15494482219219208, 0.11507460474967957, 0.026850078254938126, 0.0, 0.0], [0.7937737107276917, 0.0019719612319022417, 0.0007501277141273022, 0.001742228982038796, 0.0006780330440960824, 0.0018539566081017256, 0.011270985007286072, 0.0017618045676499605, 0.023426678031682968, 0.03952304646372795, 0.017228465527296066, 0.06867276877164841, 0.03734618425369263, 0.0], [0.9544013142585754, 5.031845284975134e-05, 1.5686680853832513e-05, 8.817009074846283e-05, 0.00017002556705847383, 0.00013601254613604397, 0.0005312876310199499, 9.435010724700987e-06, 0.0005813834141008556, 0.0003246281121391803, 0.0002283547364640981, 0.00023606793547514826, 0.03591850399971008, 0.007308724336326122]], [[1.0, 0.0, 0.0, 0.0, 0.0, 0.0, 0.0, 0.0, 0.0, 0.0, 0.0, 0.0, 0.0, 0.0], [0.9492117166519165, 0.050788313150405884, 0.0, 0.0, 0.0, 0.0, 0.0, 0.0, 0.0, 0.0, 0.0, 0.0, 0.0, 0.0], [0.948360800743103, 0.04170013964176178, 0.009939090348780155, 0.0, 0.0, 0.0, 0.0, 0.0, 0.0, 0.0, 0.0, 0.0, 0.0, 0.0], [0.8445380330085754, 0.02262827940285206, 0.022112958133220673, 0.11072072386741638, 0.0, 0.0, 0.0, 0.0, 0.0, 0.0, 0.0, 0.0, 0.0, 0.0], [0.699224591255188, 0.019403964281082153, 0.012718775309622288, 0.2130710631608963, 0.05558155104517937, 0.0, 0.0, 0.0, 0.0, 0.0, 0.0, 0.0, 0.0, 0.0], [0.5996668934822083, 0.01930399425327778, 0.014520508237183094, 0.19889678061008453, 0.14550311863422394, 0.02210875228047371, 0.0, 0.0, 0.0, 0.0, 0.0, 0.0, 0.0, 0.0], [0.9082709550857544, 0.005521594081073999, 0.003196326782926917, 0.0032335661817342043, 0.01917298696935177, 0.034757453948259354, 0.025847051292657852, 0.0, 0.0, 0.0, 0.0, 0.0, 0.0, 0.0], [0.7650320529937744, 0.004588576965034008, 0.0017103406134992838, 0.001759133068844676, 0.0030309613794088364, 0.009462316520512104, 0.20961520075798035, 0.004801327362656593, 0.0, 0.0, 0.0, 0.0, 0.0, 0.0], [0.8401849865913391, 0.011429598554968834, 0.003608189057558775, 0.023319987580180168, 0.020830051973462105, 0.0127798430621624, 0.07274971157312393, 0.00641405675560236, 0.008683615364134312, 0.0, 0.0, 0.0, 0.0, 0.0], [0.8822941184043884, 0.003912278451025486, 0.0011737943859770894, 0.013195311650633812, 0.016471615061163902, 0.020170746371150017, 0.04163198173046112, 0.0024674066808074713, 0.010975359007716179, 0.007707396522164345, 0.0, 0.0, 0.0, 0.0], [0.7977906465530396, 0.0038245515897870064, 0.0031708127353340387, 0.02428658865392208, 0.02463354729115963, 0.010972079820930958, 0.0800662636756897, 0.00659545511007309, 0.014340857975184917, 0.020288944244384766, 0.01403017807751894, 0.0, 0.0, 0.0], [0.6754933595657349, 0.002427437109872699, 0.0034299995750188828, 0.02850295603275299, 0.011352929286658764, 0.004851969890296459, 0.04928381368517876, 0.014817503280937672, 0.01698552817106247, 0.01930019073188305, 0.153340145945549, 0.020214185118675232, 0.0, 0.0], [0.563686728477478, 0.002073796233162284, 0.0010779746808111668, 0.003623690688982606, 0.006531108170747757, 0.003731235396116972, 0.01916511543095112, 0.001562981866300106, 0.003743449691683054, 0.03905642405152321, 0.002920577535405755, 0.042405564337968826, 0.310421347618103, 0.0], [0.5693767070770264, 0.005091542843729258, 0.001774846576154232, 0.011754924431443214, 0.006455366034060717, 0.0030559804290533066, 0.047798607498407364, 0.0041338661685585976, 0.010533464141190052, 0.014722018502652645, 0.012262215837836266, 0.08393192291259766, 0.2130037397146225, 0.016104796901345253]], [[1.0, 0.0, 0.0, 0.0, 0.0, 0.0, 0.0, 0.0, 0.0, 0.0, 0.0, 0.0, 0.0, 0.0], [0.9595502614974976, 0.04044979065656662, 0.0, 0.0, 0.0, 0.0, 0.0, 0.0, 0.0, 0.0, 0.0, 0.0, 0.0, 0.0], [0.9547397494316101, 0.027879219502210617, 0.01738099195063114, 0.0, 0.0, 0.0, 0.0, 0.0, 0.0, 0.0, 0.0, 0.0, 0.0, 0.0], [0.8002286553382874, 0.06318759173154831, 0.009344050660729408, 0.1272396743297577, 0.0, 0.0, 0.0, 0.0, 0.0, 0.0, 0.0, 0.0, 0.0, 0.0], [0.719225287437439, 0.22159957885742188, 0.033203985542058945, 0.009110815823078156, 0.016860395669937134, 0.0, 0.0, 0.0, 0.0, 0.0, 0.0, 0.0, 0.0, 0.0], [0.8331233859062195, 0.06860560178756714, 0.04791843891143799, 0.021039782091975212, 0.00552054587751627, 0.023792192339897156, 0.0, 0.0, 0.0, 0.0, 0.0, 0.0, 0.0, 0.0], [0.6459082961082458, 0.04150255396962166, 0.04531680792570114, 0.09482759982347488, 0.016489582136273384, 0.030796535313129425, 0.1251586675643921, 0.0, 0.0, 0.0, 0.0, 0.0, 0.0, 0.0], [0.7028874754905701, 0.024674370884895325, 0.05654741823673248, 0.05786696821451187, 0.010630058124661446, 0.029134472832083702, 0.09830525517463684, 0.019953997805714607, 0.0, 0.0, 0.0, 0.0, 0.0, 0.0], [0.3813566565513611, 0.03646101430058479, 0.38154667615890503, 0.09726344048976898, 0.010588575154542923, 0.022785402834415436, 0.040121838450431824, 0.022681890055537224, 0.007194476667791605, 0.0, 0.0, 0.0, 0.0, 0.0], [0.29871565103530884, 0.0015712613239884377, 0.29354068636894226, 0.25827381014823914, 0.03540423884987831, 0.023110611364245415, 0.05639692023396492, 0.009693572297692299, 0.01505090482532978, 0.008242342621088028, 0.0, 0.0, 0.0, 0.0], [0.8035407662391663, 0.015396696515381336, 0.03721808269619942, 0.015429195947945118, 0.007896741852164268, 0.04538045451045036, 0.03682812675833702, 0.003999252803623676, 0.003887954168021679, 0.0218411423265934, 0.008581651374697685, 0.0, 0.0, 0.0], [0.7227817177772522, 0.006644855719059706, 0.030331751331686974, 0.03301320970058441, 0.005676639266312122, 0.03316377475857735, 0.11949122697114944, 0.004101070575416088, 0.005459881387650967, 0.011576153337955475, 0.004116518888622522, 0.0236432496458292, 0.0, 0.0], [0.6726831197738647, 0.008644533343613148, 0.009212111122906208, 0.005271494388580322, 0.012714329175651073, 0.12183636426925659, 0.10142957419157028, 0.004132792819291353, 0.01407209038734436, 0.004837623797357082, 0.0039252545684576035, 0.007555948104709387, 0.033684760332107544, 0.0], [0.4287157356739044, 0.011226579546928406, 0.009277998469769955, 0.0027921616565436125, 0.0025507654063403606, 0.00311005930416286, 0.41253161430358887, 0.011545571498572826, 0.05212516337633133, 0.0144749591127038, 0.004555975552648306, 0.006681386847048998, 0.025131678208708763, 0.01528035756200552]], [[1.0, 0.0, 0.0, 0.0, 0.0, 0.0, 0.0, 0.0, 0.0, 0.0, 0.0, 0.0, 0.0, 0.0], [0.9950064420700073, 0.004993562586605549, 0.0, 0.0, 0.0, 0.0, 0.0, 0.0, 0.0, 0.0, 0.0, 0.0, 0.0, 0.0], [0.9681950211524963, 0.019091444090008736, 0.012713557109236717, 0.0, 0.0, 0.0, 0.0, 0.0, 0.0, 0.0, 0.0, 0.0, 0.0, 0.0], [0.9496400356292725, 0.02874308079481125, 0.01840696856379509, 0.003209927584975958, 0.0, 0.0, 0.0, 0.0, 0.0, 0.0, 0.0, 0.0, 0.0, 0.0], [0.9384134411811829, 0.01326714176684618, 0.027907462790608406, 0.01577804423868656, 0.004633868113160133, 0.0, 0.0, 0.0, 0.0, 0.0, 0.0, 0.0, 0.0, 0.0], [0.8974505066871643, 0.020171338692307472, 0.020811397582292557, 0.010007545351982117, 0.027366699650883675, 0.024192485958337784, 0.0, 0.0, 0.0, 0.0, 0.0, 0.0, 0.0, 0.0], [0.7608621120452881, 0.024936966598033905, 0.027191514149308205, 0.014047947712242603, 0.04870142042636871, 0.04957085847854614, 0.07468928396701813, 0.0, 0.0, 0.0, 0.0, 0.0, 0.0, 0.0], [0.8268824219703674, 0.017270002514123917, 0.016750434413552284, 0.010997883975505829, 0.014690334908664227, 0.022354794666171074, 0.08103334158658981, 0.010020789690315723, 0.0, 0.0, 0.0, 0.0, 0.0, 0.0], [0.7543545961380005, 0.019561855122447014, 0.022866614162921906, 0.02936195768415928, 0.04420432448387146, 0.038373593240976334, 0.062477000057697296, 0.027185961604118347, 0.0016139718936756253, 0.0, 0.0, 0.0, 0.0, 0.0], [0.7164452075958252, 0.018533432856202126, 0.0366719514131546, 0.027425622567534447, 0.0500437393784523, 0.05783596262335777, 0.045822873711586, 0.01908845826983452, 0.009967215359210968, 0.01816556230187416, 0.0, 0.0, 0.0, 0.0], [0.7853720188140869, 0.012971887364983559, 0.030170783400535583, 0.02823597751557827, 0.04240109771490097, 0.03364141285419464, 0.031942207366228104, 0.00620967848226428, 0.00824032723903656, 0.01566310226917267, 0.0051515111699700356, 0.0, 0.0, 0.0], [0.7902331948280334, 0.009189118631184101, 0.023522360250353813, 0.02070465125143528, 0.05997354909777641, 0.032137107104063034, 0.037667788565158844, 0.0060979402624070644, 0.0030070380307734013, 0.01030415017157793, 0.00534603139385581, 0.0018170715775340796, 0.0, 0.0], [0.8719000816345215, 0.006452156230807304, 0.01737135462462902, 0.014499378390610218, 0.006015975493937731, 0.016242828220129013, 0.02760150283575058, 0.012094528414309025, 0.007403022609651089, 0.006130424793809652, 0.007342267315834761, 0.006503046024590731, 0.00044344912748783827, 0.0], [0.7436187863349915, 0.011763918213546276, 0.016614368185400963, 0.00888415239751339, 0.010704239830374718, 0.023033438250422478, 0.09377831965684891, 0.009163731709122658, 0.029165782034397125, 0.010510248132050037, 0.007598554249852896, 0.006137318443506956, 0.008338096551597118, 0.02068903110921383]], [[1.0, 0.0, 0.0, 0.0, 0.0, 0.0, 0.0, 0.0, 0.0, 0.0, 0.0, 0.0, 0.0, 0.0], [0.9423089027404785, 0.057691071182489395, 0.0, 0.0, 0.0, 0.0, 0.0, 0.0, 0.0, 0.0, 0.0, 0.0, 0.0, 0.0], [0.8901007175445557, 0.09179792553186417, 0.01810142770409584, 0.0, 0.0, 0.0, 0.0, 0.0, 0.0, 0.0, 0.0, 0.0, 0.0, 0.0], [0.9089249968528748, 0.06695093214511871, 0.00860749464482069, 0.01551663875579834, 0.0, 0.0, 0.0, 0.0, 0.0, 0.0, 0.0, 0.0, 0.0, 0.0], [0.7274050116539001, 0.12659594416618347, 0.0189261082559824, 0.033191829919815063, 0.09388110041618347, 0.0, 0.0, 0.0, 0.0, 0.0, 0.0, 0.0, 0.0, 0.0], [0.5137946605682373, 0.07832759618759155, 0.009326164610683918, 0.01856694556772709, 0.32397040724754333, 0.05601418763399124, 0.0, 0.0, 0.0, 0.0, 0.0, 0.0, 0.0, 0.0], [0.7405115365982056, 0.06608162820339203, 0.03863544017076492, 0.037717871367931366, 0.02115536667406559, 0.06209558621048927, 0.033802539110183716, 0.0, 0.0, 0.0, 0.0, 0.0, 0.0, 0.0], [0.8673135638237, 0.026848312467336655, 0.012778175994753838, 0.005302544683218002, 0.006139982491731644, 0.036452677100896835, 0.03744320571422577, 0.007721553556621075, 0.0, 0.0, 0.0, 0.0, 0.0, 0.0], [0.29433879256248474, 0.20942097902297974, 0.05959789454936981, 0.058943651616573334, 0.25500163435935974, 0.06775154918432236, 0.028781533241271973, 0.005788224283605814, 0.020375674590468407, 0.0, 0.0, 0.0, 0.0, 0.0], [0.3637595474720001, 0.148330956697464, 0.05374027043581009, 0.05505265295505524, 0.12907929718494415, 0.13044148683547974, 0.061523452401161194, 0.007813774049282074, 0.029588088393211365, 0.020670412108302116, 0.0, 0.0, 0.0, 0.0], [0.2530757784843445, 0.08166486024856567, 0.01718093268573284, 0.009591559879481792, 0.43255725502967834, 0.06468150019645691, 0.04621390625834465, 0.006322594825178385, 0.0294756181538105, 0.014431354589760303, 0.04480462521314621, 0.0, 0.0, 0.0], [0.34182316064834595, 0.08642418682575226, 0.062124963849782944, 0.016265898942947388, 0.11811259388923645, 0.06782371550798416, 0.051328253000974655, 0.002861804561689496, 0.03074677102267742, 0.018472814932465553, 0.09591473639011383, 0.10810113698244095, 0.0, 0.0], [0.3849591910839081, 0.13035131990909576, 0.02726476825773716, 0.03033430501818657, 0.09490323811769485, 0.10467959195375443, 0.057398855686187744, 0.02400282584130764, 0.010410215705633163, 0.012729162350296974, 0.011897205375134945, 0.015236001461744308, 0.09583335369825363, 0.0], [0.49713876843452454, 0.03491980582475662, 0.008932046592235565, 0.011032293550670147, 0.04304850101470947, 0.02571162022650242, 0.03945362940430641, 0.009182151407003403, 0.010420156642794609, 0.007498707622289658, 0.0152872484177351, 0.012153277173638344, 0.2309700846672058, 0.054251786321401596]], [[1.0, 0.0, 0.0, 0.0, 0.0, 0.0, 0.0, 0.0, 0.0, 0.0, 0.0, 0.0, 0.0, 0.0], [0.9734101295471191, 0.026589853689074516, 0.0, 0.0, 0.0, 0.0, 0.0, 0.0, 0.0, 0.0, 0.0, 0.0, 0.0, 0.0], [0.8814570307731628, 0.01342842262238264, 0.10511459410190582, 0.0, 0.0, 0.0, 0.0, 0.0, 0.0, 0.0, 0.0, 0.0, 0.0, 0.0], [0.9057550430297852, 0.024331996217370033, 0.024302594363689423, 0.04561034217476845, 0.0, 0.0, 0.0, 0.0, 0.0, 0.0, 0.0, 0.0, 0.0, 0.0], [0.941570520401001, 0.014911731705069542, 0.011331369169056416, 0.007187629118561745, 0.024998698383569717, 0.0, 0.0, 0.0, 0.0, 0.0, 0.0, 0.0, 0.0, 0.0], [0.6207969188690186, 0.027057921513915062, 0.013899250887334347, 0.009709346108138561, 0.03978746384382248, 0.2887491285800934, 0.0, 0.0, 0.0, 0.0, 0.0, 0.0, 0.0, 0.0], [0.6450867652893066, 0.016035744920372963, 0.008583771996200085, 0.013966265134513378, 0.007294111419469118, 0.19992434978485107, 0.10910908877849579, 0.0, 0.0, 0.0, 0.0, 0.0, 0.0, 0.0], [0.653814435005188, 0.007123265415430069, 0.007383081130683422, 0.004327456001192331, 0.012760238721966743, 0.04817698895931244, 0.05536960810422897, 0.2110450118780136, 0.0, 0.0, 0.0, 0.0, 0.0, 0.0], [0.7759292721748352, 0.009531471878290176, 0.017289409413933754, 0.011148580349981785, 0.010003863833844662, 0.021031038835644722, 0.04237215965986252, 0.023883327841758728, 0.08881080895662308, 0.0, 0.0, 0.0, 0.0, 0.0], [0.7122451066970825, 0.01349758729338646, 0.012107552960515022, 0.003816150827333331, 0.0060145072638988495, 0.01556661631911993, 0.054614804685115814, 0.010957228019833565, 0.011458643712103367, 0.15972179174423218, 0.0, 0.0, 0.0, 0.0], [0.7740541100502014, 0.010802976787090302, 0.01644337922334671, 0.0036367725115269423, 0.0017191697843372822, 0.017903847619891167, 0.0156744122505188, 0.01241622120141983, 0.014937121421098709, 0.049234047532081604, 0.08317790925502777, 0.0, 0.0, 0.0], [0.6008259654045105, 0.007270961534231901, 0.010998080484569073, 0.0020684064365923405, 0.0032420132774859667, 0.016124308109283447, 0.015219074673950672, 0.008915906772017479, 0.004433189984411001, 0.03055468201637268, 0.008835317566990852, 0.2915121614933014, 0.0, 0.0], [0.832416832447052, 0.00748180178925395, 0.0070941634476184845, 0.00257103075273335, 0.01852608472108841, 0.029466746374964714, 0.00607937341555953, 0.005623525474220514, 0.008752861991524696, 0.012218394316732883, 0.007120153401046991, 0.011844112537801266, 0.05080489069223404, 0.0], [0.504989504814148, 0.008584251627326012, 0.005984087474644184, 0.004945981316268444, 0.04837055504322052, 0.13340403139591217, 0.018767448142170906, 0.035437844693660736, 0.011178317479789257, 0.005353688262403011, 0.002806128468364477, 0.01088797952979803, 0.07324010878801346, 0.13605010509490967]]], [[[1.0, 0.0, 0.0, 0.0, 0.0, 0.0, 0.0, 0.0, 0.0, 0.0, 0.0, 0.0, 0.0, 0.0], [0.9279683828353882, 0.07203155010938644, 0.0, 0.0, 0.0, 0.0, 0.0, 0.0, 0.0, 0.0, 0.0, 0.0, 0.0, 0.0], [0.2897178530693054, 0.6952491402626038, 0.015032981522381306, 0.0, 0.0, 0.0, 0.0, 0.0, 0.0, 0.0, 0.0, 0.0, 0.0, 0.0], [0.22163306176662445, 0.5494300127029419, 0.19678190350532532, 0.03215496614575386, 0.0, 0.0, 0.0, 0.0, 0.0, 0.0, 0.0, 0.0, 0.0, 0.0], [0.3953939974308014, 0.29128870368003845, 0.16152745485305786, 0.10934881120920181, 0.04244105890393257, 0.0, 0.0, 0.0, 0.0, 0.0, 0.0, 0.0, 0.0, 0.0], [0.36700960993766785, 0.3468908965587616, 0.040176041424274445, 0.03446386754512787, 0.1891559362411499, 0.022303659468889236, 0.0, 0.0, 0.0, 0.0, 0.0, 0.0, 0.0, 0.0], [0.6316918134689331, 0.17350225150585175, 0.011919609270989895, 0.028874631971120834, 0.06892774999141693, 0.056485615670681, 0.0285982396453619, 0.0, 0.0, 0.0, 0.0, 0.0, 0.0, 0.0], [0.5857750773429871, 0.06738968938589096, 0.02983534149825573, 0.025972139090299606, 0.0335906520485878, 0.026534749194979668, 0.22288371622562408, 0.008018534630537033, 0.0, 0.0, 0.0, 0.0, 0.0, 0.0], [0.31216293573379517, 0.20237824320793152, 0.022206345573067665, 0.034509699791669846, 0.1872008889913559, 0.12921345233917236, 0.05617916211485863, 0.032219838351011276, 0.02392945997416973, 0.0, 0.0, 0.0, 0.0, 0.0], [0.35121917724609375, 0.08976300805807114, 0.024805540218949318, 0.04175873473286629, 0.15231332182884216, 0.0725567564368248, 0.11946266144514084, 0.021648233756422997, 0.09762272983789444, 0.02884986251592636, 0.0, 0.0, 0.0, 0.0], [0.31985610723495483, 0.11072418838739395, 0.011048403568565845, 0.013122575357556343, 0.10613740980625153, 0.017173081636428833, 0.03064315766096115, 0.007819543592631817, 0.19477693736553192, 0.17847684025764465, 0.010221801698207855, 0.0, 0.0, 0.0], [0.20172199606895447, 0.13947424292564392, 0.03637123852968216, 0.033399637788534164, 0.09596061706542969, 0.027061790227890015, 0.03898507356643677, 0.01244448870420456, 0.22190026938915253, 0.13929781317710876, 0.04557012766599655, 0.007812665775418282, 0.0, 0.0], [0.5347251892089844, 0.030536780133843422, 0.017616787925362587, 0.0064960685558617115, 0.02154703438282013, 0.03611524775624275, 0.09629721939563751, 0.018900901079177856, 0.056878142058849335, 0.045480310916900635, 0.028746139258146286, 0.02528044395148754, 0.0813797265291214, 0.0], [0.6323709487915039, 0.03262503445148468, 0.00892999954521656, 0.007375034969300032, 0.018662501126527786, 0.015546753071248531, 0.05106355622410774, 0.02151309698820114, 0.01970640756189823, 0.02507779188454151, 0.027991056442260742, 0.013694659806787968, 0.10729900002479553, 0.01814418099820614]], [[1.0, 0.0, 0.0, 0.0, 0.0, 0.0, 0.0, 0.0, 0.0, 0.0, 0.0, 0.0, 0.0, 0.0], [0.922522246837616, 0.07747781276702881, 0.0, 0.0, 0.0, 0.0, 0.0, 0.0, 0.0, 0.0, 0.0, 0.0, 0.0, 0.0], [0.9819170832633972, 0.011582660488784313, 0.0065001873299479485, 0.0, 0.0, 0.0, 0.0, 0.0, 0.0, 0.0, 0.0, 0.0, 0.0, 0.0], [0.9310522079467773, 0.022048335522413254, 0.008906107395887375, 0.03799343854188919, 0.0, 0.0, 0.0, 0.0, 0.0, 0.0, 0.0, 0.0, 0.0, 0.0], [0.6089361310005188, 0.05410222336649895, 0.006480193696916103, 0.3177168667316437, 0.01276453584432602, 0.0, 0.0, 0.0, 0.0, 0.0, 0.0, 0.0, 0.0, 0.0], [0.5193923115730286, 0.14214053750038147, 0.027121098712086678, 0.22663502395153046, 0.030988328158855438, 0.05372260883450508, 0.0, 0.0, 0.0, 0.0, 0.0, 0.0, 0.0, 0.0], [0.5898514986038208, 0.06479442119598389, 0.036240290850400925, 0.11360767483711243, 0.04696507751941681, 0.06500997394323349, 0.08353108912706375, 0.0, 0.0, 0.0, 0.0, 0.0, 0.0, 0.0], [0.6392104029655457, 0.07196255773305893, 0.038113124668598175, 0.03693234547972679, 0.009860388934612274, 0.036553651094436646, 0.15546567738056183, 0.011901816353201866, 0.0, 0.0, 0.0, 0.0, 0.0, 0.0], [0.3264741003513336, 0.11125393211841583, 0.2012026607990265, 0.17432647943496704, 0.02627573348581791, 0.09778469800949097, 0.03644460812211037, 0.00864036288112402, 0.017597516998648643, 0.0, 0.0, 0.0, 0.0, 0.0], [0.3591022491455078, 0.02023223228752613, 0.04807883873581886, 0.3989122211933136, 0.06734773516654968, 0.06153249368071556, 0.024056972935795784, 0.002419004449620843, 0.011341053061187267, 0.006977161858230829, 0.0, 0.0, 0.0, 0.0], [0.8804958462715149, 0.008509120903909206, 0.010308514349162579, 0.011050618253648281, 0.03512034937739372, 0.01711726374924183, 0.008123788982629776, 0.002031239913776517, 0.006035591010004282, 0.005224205553531647, 0.01598346047103405, 0.0, 0.0, 0.0], [0.6951920390129089, 0.016302190721035004, 0.017830530181527138, 0.11290855705738068, 0.05510389804840088, 0.05201829969882965, 0.008883224800229073, 0.0014072718331590295, 0.004575200378894806, 0.02328871376812458, 0.005123893264681101, 0.0073661794885993, 0.0, 0.0], [0.8341682553291321, 0.0028528685215860605, 0.005102597177028656, 0.02770208939909935, 0.008866947144269943, 0.03950225189328194, 0.015111527405679226, 0.001529963337816298, 0.008639426901936531, 0.0015737076755613089, 0.005964300595223904, 0.02029256522655487, 0.02869347110390663, 0.0], [0.46882694959640503, 0.0824064239859581, 0.015678737312555313, 0.01831703633069992, 0.010947505943477154, 0.017080504447221756, 0.10093875974416733, 0.019106313586235046, 0.04824265465140343, 0.02273925207555294, 0.019300639629364014, 0.03008515015244484, 0.1232677474617958, 0.02306230179965496]], [[1.0, 0.0, 0.0, 0.0, 0.0, 0.0, 0.0, 0.0, 0.0, 0.0, 0.0, 0.0, 0.0, 0.0], [0.9923235177993774, 0.0076764593832194805, 0.0, 0.0, 0.0, 0.0, 0.0, 0.0, 0.0, 0.0, 0.0, 0.0, 0.0, 0.0], [0.9654197096824646, 0.010470465756952763, 0.024109801277518272, 0.0, 0.0, 0.0, 0.0, 0.0, 0.0, 0.0, 0.0, 0.0, 0.0, 0.0], [0.9213997721672058, 0.022636188194155693, 0.0371243879199028, 0.01883970946073532, 0.0, 0.0, 0.0, 0.0, 0.0, 0.0, 0.0, 0.0, 0.0, 0.0], [0.9199951887130737, 0.018307140097022057, 0.03380246460437775, 0.012902913615107536, 0.014992385171353817, 0.0, 0.0, 0.0, 0.0, 0.0, 0.0, 0.0, 0.0, 0.0], [0.8634786605834961, 0.016153203323483467, 0.022652804851531982, 0.010830257087945938, 0.027032840996980667, 0.05985218659043312, 0.0, 0.0, 0.0, 0.0, 0.0, 0.0, 0.0, 0.0], [0.895488440990448, 0.012202845886349678, 0.010640771128237247, 0.012631439603865147, 0.010892070829868317, 0.047285642474889755, 0.010858669877052307, 0.0, 0.0, 0.0, 0.0, 0.0, 0.0, 0.0], [0.8533008694648743, 0.013776733539998531, 0.014267834834754467, 0.01724117062985897, 0.012164616025984287, 0.038923874497413635, 0.025337500497698784, 0.02498733438551426, 0.0, 0.0, 0.0, 0.0, 0.0, 0.0], [0.8433390259742737, 0.011295140720903873, 0.008839309215545654, 0.008634110912680626, 0.011053315363824368, 0.05750923231244087, 0.024199292063713074, 0.023821981623768806, 0.011308490298688412, 0.0, 0.0, 0.0, 0.0, 0.0], [0.8319949507713318, 0.008483373560011387, 0.0059915343299508095, 0.008953552693128586, 0.012772886082530022, 0.047186046838760376, 0.030112333595752716, 0.02834618277847767, 0.013056659139692783, 0.013102555647492409, 0.0, 0.0, 0.0, 0.0], [0.8655032515525818, 0.007944982498884201, 0.004888314288109541, 0.006053219549357891, 0.011032961308956146, 0.03148980438709259, 0.02679920569062233, 0.0160408653318882, 0.01300611812621355, 0.013031091541051865, 0.00421010609716177, 0.0, 0.0, 0.0], [0.8539658188819885, 0.008769429288804531, 0.006620361469686031, 0.006604435387998819, 0.0140991797670722, 0.026159221306443214, 0.027832580730319023, 0.020476549863815308, 0.0072045838460326195, 0.010923044756054878, 0.004190760664641857, 0.013153943233191967, 0.0, 0.0], [0.830853283405304, 0.016680022701621056, 0.010082830674946308, 0.005906559992581606, 0.008759621530771255, 0.03778526932001114, 0.025635188445448875, 0.01824096590280533, 0.009496019221842289, 0.011671295389533043, 0.0054388586431741714, 0.009581374935805798, 0.009868677705526352, 0.0], [0.7153212428092957, 0.01452531199902296, 0.007851734757423401, 0.006318367086350918, 0.04177587106823921, 0.05097765475511551, 0.02268299274146557, 0.03022335097193718, 0.018055295571684837, 0.008714741095900536, 0.007851794362068176, 0.01637827791273594, 0.01114238053560257, 0.04818095266819]], [[1.0, 0.0, 0.0, 0.0, 0.0, 0.0, 0.0, 0.0, 0.0, 0.0, 0.0, 0.0, 0.0, 0.0], [0.9961651563644409, 0.0038348196540027857, 0.0, 0.0, 0.0, 0.0, 0.0, 0.0, 0.0, 0.0, 0.0, 0.0, 0.0, 0.0], [0.9808083772659302, 0.007740536704659462, 0.011451019905507565, 0.0, 0.0, 0.0, 0.0, 0.0, 0.0, 0.0, 0.0, 0.0, 0.0, 0.0], [0.9574502110481262, 0.01478563528507948, 0.014355898834764957, 0.013408243656158447, 0.0, 0.0, 0.0, 0.0, 0.0, 0.0, 0.0, 0.0, 0.0, 0.0], [0.9258949160575867, 0.012669224292039871, 0.015155689790844917, 0.033715058118104935, 0.012565094977617264, 0.0, 0.0, 0.0, 0.0, 0.0, 0.0, 0.0, 0.0, 0.0], [0.6248524785041809, 0.06498277187347412, 0.0510348416864872, 0.05726996436715126, 0.12318473309278488, 0.07867523282766342, 0.0, 0.0, 0.0, 0.0, 0.0, 0.0, 0.0, 0.0], [0.4709148705005646, 0.03785703703761101, 0.04338414594531059, 0.15915840864181519, 0.16295543313026428, 0.1021307185292244, 0.023599358275532722, 0.0, 0.0, 0.0, 0.0, 0.0, 0.0, 0.0], [0.5237184166908264, 0.05173975229263306, 0.05073656886816025, 0.13202469050884247, 0.07441917061805725, 0.08600784093141556, 0.06428308039903641, 0.017070487141609192, 0.0, 0.0, 0.0, 0.0, 0.0, 0.0], [0.5362691879272461, 0.03830612823367119, 0.06505028903484344, 0.07837535440921783, 0.04956873878836632, 0.07297397404909134, 0.09196362644433975, 0.04197870194911957, 0.025513973087072372, 0.0, 0.0, 0.0, 0.0, 0.0], [0.5190690755844116, 0.014021579176187515, 0.034283317625522614, 0.10728497803211212, 0.06227941811084747, 0.09206279367208481, 0.06769439578056335, 0.03427650034427643, 0.045663606375455856, 0.023364324122667313, 0.0, 0.0, 0.0, 0.0], [0.7897301912307739, 0.00915355421602726, 0.011792952194809914, 0.014992429874837399, 0.026389872655272484, 0.031949080526828766, 0.036740340292453766, 0.029034076258540154, 0.02005658484995365, 0.01201734971255064, 0.018143706023693085, 0.0, 0.0, 0.0], [0.7410849332809448, 0.014176439493894577, 0.012090526521205902, 0.030234429985284805, 0.04324641823768616, 0.036665935069322586, 0.023526133969426155, 0.008979634381830692, 0.017057623714208603, 0.008546743541955948, 0.029339132830500603, 0.035052038729190826, 0.0, 0.0], [0.7057510614395142, 0.019096938893198967, 0.03318092226982117, 0.017849333584308624, 0.025513848289847374, 0.03512151539325714, 0.03150239214301109, 0.013968591578304768, 0.02477041259407997, 0.009194186888635159, 0.027709828689694405, 0.02573220804333687, 0.03060869313776493, 0.0], [0.36567798256874084, 0.021906588226556778, 0.013277759775519371, 0.009664627723395824, 0.022236276417970657, 0.02597668580710888, 0.08961036056280136, 0.04368188977241516, 0.10809005051851273, 0.04472709447145462, 0.051193952560424805, 0.0377393439412117, 0.12156586349010468, 0.04465155303478241]], [[1.0, 0.0, 0.0, 0.0, 0.0, 0.0, 0.0, 0.0, 0.0, 0.0, 0.0, 0.0, 0.0, 0.0], [0.9810425043106079, 0.018957514315843582, 0.0, 0.0, 0.0, 0.0, 0.0, 0.0, 0.0, 0.0, 0.0, 0.0, 0.0, 0.0], [0.8950991630554199, 0.06262336671352386, 0.04227745532989502, 0.0, 0.0, 0.0, 0.0, 0.0, 0.0, 0.0, 0.0, 0.0, 0.0, 0.0], [0.7930350303649902, 0.07046974450349808, 0.08301308751106262, 0.05348215624690056, 0.0, 0.0, 0.0, 0.0, 0.0, 0.0, 0.0, 0.0, 0.0, 0.0], [0.7581737041473389, 0.06222477927803993, 0.05007149279117584, 0.026567010208964348, 0.10296300798654556, 0.0, 0.0, 0.0, 0.0, 0.0, 0.0, 0.0, 0.0, 0.0], [0.6718342304229736, 0.07689325511455536, 0.015400966629385948, 0.032296791672706604, 0.0997074767947197, 0.10386736690998077, 0.0, 0.0, 0.0, 0.0, 0.0, 0.0, 0.0, 0.0], [0.5845187306404114, 0.04841499775648117, 0.021861255168914795, 0.02225806750357151, 0.022083483636379242, 0.08971603214740753, 0.21114756166934967, 0.0, 0.0, 0.0, 0.0, 0.0, 0.0, 0.0], [0.5928687453269958, 0.04353879392147064, 0.04644430801272392, 0.01394601445645094, 0.012864467687904835, 0.07486411929130554, 0.18133436143398285, 0.03413922339677811, 0.0, 0.0, 0.0, 0.0, 0.0, 0.0], [0.465015709400177, 0.05779288336634636, 0.030346443876624107, 0.021383199840784073, 0.057193025946617126, 0.14122340083122253, 0.09862642735242844, 0.04784570634365082, 0.08057329058647156, 0.0, 0.0, 0.0, 0.0, 0.0], [0.3897584080696106, 0.050447817891836166, 0.034534770995378494, 0.024158427491784096, 0.0365711934864521, 0.14906787872314453, 0.12172496318817139, 0.04435770586133003, 0.13309790194034576, 0.01628096029162407, 0.0, 0.0, 0.0, 0.0], [0.5356494784355164, 0.06736952066421509, 0.011872359551489353, 0.028161337599158287, 0.03417541831731796, 0.09250937402248383, 0.09090225398540497, 0.04628194496035576, 0.04985950142145157, 0.012253907509148121, 0.030964965000748634, 0.0, 0.0, 0.0], [0.4319113790988922, 0.06402432918548584, 0.01669669710099697, 0.01917644403874874, 0.0490945428609848, 0.07777860760688782, 0.0491955541074276, 0.026286981999874115, 0.044104594737291336, 0.016637157648801804, 0.08224072307348251, 0.12285301834344864, 0.0, 0.0], [0.3618326187133789, 0.043408941477537155, 0.03333702310919762, 0.015673192217946053, 0.057568587362766266, 0.17540599405765533, 0.11239342391490936, 0.016986792907118797, 0.06703336536884308, 0.009046660736203194, 0.02338615618646145, 0.055929675698280334, 0.027997637167572975, 0.0], [0.3283107280731201, 0.031741321086883545, 0.00745012704282999, 0.011034248396754265, 0.0381028912961483, 0.06373050063848495, 0.10916747897863388, 0.010554554872214794, 0.12441077828407288, 0.007611341308802366, 0.027784904465079308, 0.03563915193080902, 0.11117422580718994, 0.09328777343034744]], [[1.0, 0.0, 0.0, 0.0, 0.0, 0.0, 0.0, 0.0, 0.0, 0.0, 0.0, 0.0, 0.0, 0.0], [0.9756208062171936, 0.024379217997193336, 0.0, 0.0, 0.0, 0.0, 0.0, 0.0, 0.0, 0.0, 0.0, 0.0, 0.0, 0.0], [0.9019273519515991, 0.0676872506737709, 0.030385319143533707, 0.0, 0.0, 0.0, 0.0, 0.0, 0.0, 0.0, 0.0, 0.0, 0.0, 0.0], [0.8911179304122925, 0.026299921795725822, 0.01884281449019909, 0.06373941153287888, 0.0, 0.0, 0.0, 0.0, 0.0, 0.0, 0.0, 0.0, 0.0, 0.0], [0.8192248940467834, 0.01995018869638443, 0.01774686574935913, 0.06877724826335907, 0.07430082559585571, 0.0, 0.0, 0.0, 0.0, 0.0, 0.0, 0.0, 0.0, 0.0], [0.5572972893714905, 0.06308721005916595, 0.025364292785525322, 0.09416121244430542, 0.13250143826007843, 0.12758861482143402, 0.0, 0.0, 0.0, 0.0, 0.0, 0.0, 0.0, 0.0], [0.7573047280311584, 0.03563371300697327, 0.024476220831274986, 0.03161120042204857, 0.035558927804231644, 0.04769289866089821, 0.06772226095199585, 0.0, 0.0, 0.0, 0.0, 0.0, 0.0, 0.0], [0.6255372762680054, 0.04994041472673416, 0.03151760250329971, 0.03529421612620354, 0.038498543202877045, 0.054543472826480865, 0.11534713953733444, 0.049321409314870834, 0.0, 0.0, 0.0, 0.0, 0.0, 0.0], [0.4660303592681885, 0.04136758670210838, 0.01893891580402851, 0.022258494049310684, 0.04153909906744957, 0.02997872792184353, 0.13016869127750397, 0.18818485736846924, 0.061533283442258835, 0.0, 0.0, 0.0, 0.0, 0.0], [0.5645082592964172, 0.015628010034561157, 0.010747392661869526, 0.03873847424983978, 0.04263054206967354, 0.043331317603588104, 0.08894629031419754, 0.09291429817676544, 0.052253447473049164, 0.05030188709497452, 0.0, 0.0, 0.0, 0.0], [0.7862705588340759, 0.009160163812339306, 0.007175578270107508, 0.012701901607215405, 0.019447971135377884, 0.013063755817711353, 0.032918915152549744, 0.03260715305805206, 0.02953203022480011, 0.03168606758117676, 0.025435900315642357, 0.0, 0.0, 0.0], [0.7047069072723389, 0.012907341122627258, 0.008428229950368404, 0.019105708226561546, 0.025847909972071648, 0.02529916539788246, 0.04301629960536957, 0.036347489804029465, 0.03096180595457554, 0.026879137381911278, 0.027420056983828545, 0.039079971611499786, 0.0, 0.0], [0.7017802000045776, 0.005582189653068781, 0.0036494119558483362, 0.009408646263182163, 0.021671833470463753, 0.027416164055466652, 0.043348103761672974, 0.0418032743036747, 0.04548322781920433, 0.025439975783228874, 0.01796473190188408, 0.03289550915360451, 0.023556791245937347, 0.0], [0.4405600428581238, 0.01634553261101246, 0.008934414014220238, 0.016205668449401855, 0.03642759472131729, 0.03780108317732811, 0.08302263170480728, 0.03175409883260727, 0.07245014607906342, 0.03604216128587723, 0.01980358548462391, 0.028446674346923828, 0.060441795736551285, 0.11176451295614243]], [[1.0, 0.0, 0.0, 0.0, 0.0, 0.0, 0.0, 0.0, 0.0, 0.0, 0.0, 0.0, 0.0, 0.0], [0.9503085017204285, 0.049691490828990936, 0.0, 0.0, 0.0, 0.0, 0.0, 0.0, 0.0, 0.0, 0.0, 0.0, 0.0, 0.0], [0.9321167469024658, 0.032483458518981934, 0.035399727523326874, 0.0, 0.0, 0.0, 0.0, 0.0, 0.0, 0.0, 0.0, 0.0, 0.0, 0.0], [0.9161853790283203, 0.024274347350001335, 0.019151723012328148, 0.04038861021399498, 0.0, 0.0, 0.0, 0.0, 0.0, 0.0, 0.0, 0.0, 0.0, 0.0], [0.9262683987617493, 0.02318130061030388, 0.01108908373862505, 0.01273586880415678, 0.026725392788648605, 0.0, 0.0, 0.0, 0.0, 0.0, 0.0, 0.0, 0.0, 0.0], [0.7727208137512207, 0.033438172191381454, 0.01020321249961853, 0.014356091618537903, 0.01814049296081066, 0.1511411815881729, 0.0, 0.0, 0.0, 0.0, 0.0, 0.0, 0.0, 0.0], [0.8407005667686462, 0.010760878212749958, 0.008693946525454521, 0.010020222514867783, 0.00953658390790224, 0.0554010272026062, 0.06488678604364395, 0.0, 0.0, 0.0, 0.0, 0.0, 0.0, 0.0], [0.7721388339996338, 0.013012879528105259, 0.007243494037538767, 0.0069917235523462296, 0.006023757625371218, 0.06817927956581116, 0.037911683320999146, 0.08849837630987167, 0.0, 0.0, 0.0, 0.0, 0.0, 0.0], [0.6962152719497681, 0.044792916625738144, 0.01697930134832859, 0.00815066508948803, 0.0055641550570726395, 0.044743090867996216, 0.03189656883478165, 0.01747269555926323, 0.13418537378311157, 0.0, 0.0, 0.0, 0.0, 0.0], [0.6033487915992737, 0.03783121332526207, 0.023163938894867897, 0.016307873651385307, 0.005812256131321192, 0.043080415576696396, 0.044527407735586166, 0.020788606256246567, 0.05546434968709946, 0.14967507123947144, 0.0, 0.0, 0.0, 0.0], [0.8478105664253235, 0.010642032139003277, 0.0056378901936113834, 0.004401616286486387, 0.003072476014494896, 0.023865249007940292, 0.007827980443835258, 0.006751153152436018, 0.022073306143283844, 0.025061244145035744, 0.04285654053092003, 0.0, 0.0, 0.0], [0.8197112679481506, 0.009481921792030334, 0.005557954777032137, 0.004753421992063522, 0.0020663258619606495, 0.02431574836373329, 0.007511963602155447, 0.007626665290445089, 0.014736449345946312, 0.013996436260640621, 0.01062496192753315, 0.07961687445640564, 0.0, 0.0], [0.8200166821479797, 0.015732405707240105, 0.00806952454149723, 0.00700238486751914, 0.009035732597112656, 0.03107617050409317, 0.018473345786333084, 0.012570512481033802, 0.02350386418402195, 0.008933682925999165, 0.009265282191336155, 0.008128441870212555, 0.028191959485411644, 0.0], [0.6133120656013489, 0.019191598519682884, 0.004022123757749796, 0.003974288236349821, 0.006073245778679848, 0.07733969390392303, 0.03130989149212837, 0.012972586788237095, 0.050601549446582794, 0.01821310445666313, 0.003093352308496833, 0.008194751106202602, 0.0175867211073637, 0.13411499559879303]], [[1.0, 0.0, 0.0, 0.0, 0.0, 0.0, 0.0, 0.0, 0.0, 0.0, 0.0, 0.0, 0.0, 0.0], [0.9618973731994629, 0.038102615624666214, 0.0, 0.0, 0.0, 0.0, 0.0, 0.0, 0.0, 0.0, 0.0, 0.0, 0.0, 0.0], [0.8555986881256104, 0.12429589778184891, 0.020105404779314995, 0.0, 0.0, 0.0, 0.0, 0.0, 0.0, 0.0, 0.0, 0.0, 0.0, 0.0], [0.6604869365692139, 0.23514604568481445, 0.05219348520040512, 0.052173491567373276, 0.0, 0.0, 0.0, 0.0, 0.0, 0.0, 0.0, 0.0, 0.0, 0.0], [0.7284498810768127, 0.08484762161970139, 0.030803823843598366, 0.11952859908342361, 0.03637000173330307, 0.0, 0.0, 0.0, 0.0, 0.0, 0.0, 0.0, 0.0, 0.0], [0.6075960397720337, 0.08376025408506393, 0.018810827285051346, 0.09368926286697388, 0.17282816767692566, 0.023315442726016045, 0.0, 0.0, 0.0, 0.0, 0.0, 0.0, 0.0, 0.0], [0.5408467054367065, 0.023110689595341682, 0.01550066377967596, 0.08494332432746887, 0.2276596873998642, 0.08762534707784653, 0.020313560962677002, 0.0, 0.0, 0.0, 0.0, 0.0, 0.0, 0.0], [0.4925057291984558, 0.04788260534405708, 0.045582402497529984, 0.07817894220352173, 0.1333550214767456, 0.12025875598192215, 0.05709652975201607, 0.02513997070491314, 0.0, 0.0, 0.0, 0.0, 0.0, 0.0], [0.4977613687515259, 0.0795147493481636, 0.03559739515185356, 0.06366268545389175, 0.12628035247325897, 0.06206068396568298, 0.050127092748880386, 0.04796149954199791, 0.037034206092357635, 0.0, 0.0, 0.0, 0.0, 0.0], [0.5483412742614746, 0.031149543821811676, 0.01975732482969761, 0.06534320116043091, 0.15271508693695068, 0.06316135078668594, 0.025939399376511574, 0.02855326607823372, 0.03186074644327164, 0.03317875415086746, 0.0, 0.0, 0.0, 0.0], [0.7691668272018433, 0.02550734020769596, 0.00942967925220728, 0.023749306797981262, 0.02426212467253208, 0.025578275322914124, 0.03963369131088257, 0.015173140913248062, 0.02455698326230049, 0.02739477902650833, 0.015547842718660831, 0.0, 0.0, 0.0], [0.771685004234314, 0.015770256519317627, 0.007046903017908335, 0.02282336726784706, 0.0587543323636055, 0.020899076014757156, 0.015524129383265972, 0.008836732245981693, 0.020092887803912163, 0.016301164403557777, 0.032090358436107635, 0.010175706818699837, 0.0, 0.0], [0.5597047805786133, 0.02781180664896965, 0.018347768113017082, 0.03029240295290947, 0.026363210752606392, 0.013294508680701256, 0.04510153457522392, 0.012868004851043224, 0.03442783281207085, 0.02196727879345417, 0.028168965131044388, 0.016581684350967407, 0.16507026553153992, 0.0], [0.3769753575325012, 0.018312135711312294, 0.007612761575728655, 0.016094829887151718, 0.02792106382548809, 0.004073813557624817, 0.02866072580218315, 0.013110066764056683, 0.025868073105812073, 0.0337112657725811, 0.07127439230680466, 0.028448008000850677, 0.3305351436138153, 0.017402369529008865]], [[1.0, 0.0, 0.0, 0.0, 0.0, 0.0, 0.0, 0.0, 0.0, 0.0, 0.0, 0.0, 0.0, 0.0], [0.9770828485488892, 0.022917097434401512, 0.0, 0.0, 0.0, 0.0, 0.0, 0.0, 0.0, 0.0, 0.0, 0.0, 0.0, 0.0], [0.4569307863712311, 0.5357955694198608, 0.007273745257407427, 0.0, 0.0, 0.0, 0.0, 0.0, 0.0, 0.0, 0.0, 0.0, 0.0, 0.0], [0.5616506934165955, 0.27137821912765503, 0.11267896741628647, 0.05429212749004364, 0.0, 0.0, 0.0, 0.0, 0.0, 0.0, 0.0, 0.0, 0.0, 0.0], [0.44424691796302795, 0.06316906958818436, 0.10315750539302826, 0.376595675945282, 0.012830845080316067, 0.0, 0.0, 0.0, 0.0, 0.0, 0.0, 0.0, 0.0, 0.0], [0.5703486800193787, 0.12000295519828796, 0.06993469595909119, 0.11647874116897583, 0.11682862043380737, 0.006406288128346205, 0.0, 0.0, 0.0, 0.0, 0.0, 0.0, 0.0, 0.0], [0.6648252606391907, 0.01942548342049122, 0.005397395696491003, 0.04081728309392929, 0.02836070954799652, 0.16312584280967712, 0.07804803550243378, 0.0, 0.0, 0.0, 0.0, 0.0, 0.0, 0.0], [0.39525148272514343, 0.0064517841674387455, 0.002640957711264491, 0.003261573612689972, 0.004453805275261402, 0.02451256476342678, 0.5504449009895325, 0.012982906773686409, 0.0, 0.0, 0.0, 0.0, 0.0, 0.0], [0.3441562056541443, 0.029999850317835808, 0.005383490119129419, 0.00831134244799614, 0.00756728183478117, 0.059915538877248764, 0.1910296082496643, 0.3239690363407135, 0.029667651280760765, 0.0, 0.0, 0.0, 0.0, 0.0], [0.3600892424583435, 0.0035327067598700523, 0.0007473831647075713, 0.001345659838989377, 0.0029021380469202995, 0.014407025650143623, 0.10673102736473083, 0.09293314069509506, 0.3992842435836792, 0.018027495592832565, 0.0, 0.0, 0.0, 0.0], [0.7827736139297485, 0.022272687405347824, 0.0003872038214467466, 0.0010887578828260303, 0.002733134664595127, 0.006487849168479443, 0.026055607944726944, 0.01222104299813509, 0.06324887275695801, 0.07635139673948288, 0.0063798618502914906, 0.0, 0.0, 0.0], [0.45024585723876953, 0.017358755692839622, 0.0010398668237030506, 0.002999800257384777, 0.009297388605773449, 0.010285389609634876, 0.023194115608930588, 0.013800745829939842, 0.08337518572807312, 0.09359518438577652, 0.2854531705379486, 0.009354563429951668, 0.0, 0.0], [0.6254695653915405, 0.00650013005360961, 0.0008607160416431725, 0.0006190143758431077, 0.0030692422296851873, 0.0033831705804914236, 0.023131297901272774, 0.00403480464592576, 0.12572544813156128, 0.03712988644838333, 0.037343863397836685, 0.11261909455060959, 0.02011365443468094, 0.0], [0.35593828558921814, 0.008270402438938618, 0.0021962018217891455, 0.0032540448009967804, 0.005906813312321901, 0.0019439556635916233, 0.043549250811338425, 0.025634050369262695, 0.1249992698431015, 0.046749792993068695, 0.016398314386606216, 0.01885415054857731, 0.33540764451026917, 0.01089783851057291]], [[1.0, 0.0, 0.0, 0.0, 0.0, 0.0, 0.0, 0.0, 0.0, 0.0, 0.0, 0.0, 0.0, 0.0], [0.9604063630104065, 0.039593685418367386, 0.0, 0.0, 0.0, 0.0, 0.0, 0.0, 0.0, 0.0, 0.0, 0.0, 0.0, 0.0], [0.9947183728218079, 0.00021090704831294715, 0.005070714745670557, 0.0, 0.0, 0.0, 0.0, 0.0, 0.0, 0.0, 0.0, 0.0, 0.0, 0.0], [0.9966217279434204, 6.718291115248576e-05, 3.9937105611898005e-05, 0.0032712530810385942, 0.0, 0.0, 0.0, 0.0, 0.0, 0.0, 0.0, 0.0, 0.0, 0.0], [0.997019350528717, 0.0011426701676100492, 0.00041308533400297165, 0.0007990325684659183, 0.0006258148932829499, 0.0, 0.0, 0.0, 0.0, 0.0, 0.0, 0.0, 0.0, 0.0], [0.9801961779594421, 0.0013749176869168878, 0.0019413296831771731, 0.0013828009832650423, 0.0005028359591960907, 0.014601996168494225, 0.0, 0.0, 0.0, 0.0, 0.0, 0.0, 0.0, 0.0], [0.9887108206748962, 0.0016407929360866547, 0.0005097993998788297, 0.0007001216872595251, 0.0004199954855721444, 0.0013581542298197746, 0.0066604516468942165, 0.0, 0.0, 0.0, 0.0, 0.0, 0.0, 0.0], [0.9385596513748169, 0.00039331865264102817, 0.00012240376963745803, 0.00011991097562713549, 0.00020135061640758067, 0.00016267305181827396, 0.011002601124346256, 0.049438104033470154, 0.0, 0.0, 0.0, 0.0, 0.0, 0.0], [0.9905024766921997, 2.332480471523013e-05, 4.811342296306975e-05, 0.0002266899828100577, 1.1538007129274774e-05, 2.4284396204166114e-05, 0.0001753086398821324, 0.0011604639003053308, 0.007827676832675934, 0.0, 0.0, 0.0, 0.0, 0.0], [0.9532724618911743, 2.98370450764196e-05, 0.011974790133535862, 0.0022277524694800377, 7.368910155491903e-05, 0.0001013766523101367, 0.0003093011910095811, 0.00046971719712018967, 0.0036614350974559784, 0.0278796199709177, 0.0, 0.0, 0.0, 0.0], [0.9998074173927307, 4.353485110186739e-06, 3.2517888030270115e-05, 3.3695661841193214e-05, 3.6854080462944694e-06, 6.609712272620527e-06, 5.565866558754351e-06, 7.218437758638174e-08, 1.1213183825020678e-05, 4.456644091987982e-06, 9.035090624820441e-05, 0.0, 0.0, 0.0], [0.9899201393127441, 4.038195402245037e-05, 3.233314782846719e-05, 0.00016966744442470372, 1.0567698154773097e-05, 0.0001228048058692366, 0.00012169351248303428, 1.140451422543265e-05, 0.0006441203877329826, 7.297047704923898e-05, 3.407000258448534e-05, 0.008819704875349998, 0.0, 0.0], [0.9861722588539124, 1.527106542198453e-05, 3.0834032713755732e-06, 4.473365333979018e-05, 0.00015634782903362066, 0.0009316926007159054, 0.00011364040256012231, 6.225284778338391e-06, 0.00018953844846691936, 2.9108077796990983e-05, 2.6859268018597504e-06, 0.00011768810509238392, 0.012217791751027107, 0.0], [0.87092524766922, 0.0014416187768802047, 6.54316390864551e-05, 0.0003717047511599958, 0.0008206923957914114, 0.0008692917181178927, 0.09632580727338791, 0.0003694531915243715, 0.007034373469650745, 0.0013505184324458241, 3.574269430828281e-05, 0.0008671025279909372, 0.008847799152135849, 0.010675383731722832]], [[1.0, 0.0, 0.0, 0.0, 0.0, 0.0, 0.0, 0.0, 0.0, 0.0, 0.0, 0.0, 0.0, 0.0], [0.998227059841156, 0.001772934920154512, 0.0, 0.0, 0.0, 0.0, 0.0, 0.0, 0.0, 0.0, 0.0, 0.0, 0.0, 0.0], [0.9929810762405396, 0.001591793610714376, 0.005427161697298288, 0.0, 0.0, 0.0, 0.0, 0.0, 0.0, 0.0, 0.0, 0.0, 0.0, 0.0], [0.9636366963386536, 0.003011071588844061, 0.004601882770657539, 0.028750285506248474, 0.0, 0.0, 0.0, 0.0, 0.0, 0.0, 0.0, 0.0, 0.0, 0.0], [0.9782585501670837, 0.0024676204193383455, 0.0015796612715348601, 0.006075228564441204, 0.011618957854807377, 0.0, 0.0, 0.0, 0.0, 0.0, 0.0, 0.0, 0.0, 0.0], [0.9474536776542664, 0.006082311738282442, 0.004056034609675407, 0.007235346827656031, 0.006858895067125559, 0.028313592076301575, 0.0, 0.0, 0.0, 0.0, 0.0, 0.0, 0.0, 0.0], [0.9350667595863342, 0.002293601166456938, 0.008825577795505524, 0.00668856268748641, 0.005562698468565941, 0.01126065757125616, 0.03030220791697502, 0.0, 0.0, 0.0, 0.0, 0.0, 0.0, 0.0], [0.9144353270530701, 0.0030373302288353443, 0.0039010916370898485, 0.011633986607193947, 0.006944410502910614, 0.011804596520960331, 0.020653480663895607, 0.027589725330471992, 0.0, 0.0, 0.0, 0.0, 0.0, 0.0], [0.9224835634231567, 0.0015672305598855019, 0.002825890202075243, 0.006818723399192095, 0.0036774117033928633, 0.009473660960793495, 0.015364487655460835, 0.006638974417001009, 0.031149938702583313, 0.0, 0.0, 0.0, 0.0, 0.0], [0.8842592239379883, 0.0005330237909220159, 0.0018964639166370034, 0.019679052755236626, 0.01170514989644289, 0.03789287060499191, 0.005178901832550764, 0.009559151716530323, 0.017258331179618835, 0.012037926353514194, 0.0, 0.0, 0.0, 0.0], [0.8773858547210693, 0.0010277384426444769, 0.0012372785713523626, 0.006238583475351334, 0.012165657244622707, 0.033008377999067307, 0.009106852114200592, 0.014729750342667103, 0.021238034591078758, 0.00916466023772955, 0.014697118662297726, 0.0, 0.0, 0.0], [0.8951963782310486, 0.0005758265615440905, 0.0009329894091933966, 0.004533515777438879, 0.008105863817036152, 0.023709751665592194, 0.00653800368309021, 0.009294947609305382, 0.017159631475806236, 0.0073231980204582214, 0.01874702051281929, 0.007882729172706604, 0.0, 0.0], [0.7849195599555969, 0.0016059114132076502, 0.0024821683764457703, 0.0076979100704193115, 0.016080861911177635, 0.06160930544137955, 0.012385119684040546, 0.021168820559978485, 0.017830494791269302, 0.011853315867483616, 0.01361666340380907, 0.004870075266808271, 0.043879780918359756, 0.0], [0.7752923369407654, 0.006105451844632626, 0.0030007052700966597, 0.0031583195086568594, 0.004544074181467295, 0.021039126440882683, 0.04646610468626022, 0.01416164729744196, 0.025657417252659798, 0.02360180765390396, 0.010188196785748005, 0.0036386980209499598, 0.013115432113409042, 0.05003074184060097]], [[1.0, 0.0, 0.0, 0.0, 0.0, 0.0, 0.0, 0.0, 0.0, 0.0, 0.0, 0.0, 0.0, 0.0], [0.9742491841316223, 0.025750843808054924, 0.0, 0.0, 0.0, 0.0, 0.0, 0.0, 0.0, 0.0, 0.0, 0.0, 0.0, 0.0], [0.7655491828918457, 0.2163764089345932, 0.018074311316013336, 0.0, 0.0, 0.0, 0.0, 0.0, 0.0, 0.0, 0.0, 0.0, 0.0, 0.0], [0.6201764941215515, 0.18182183802127838, 0.11482325196266174, 0.08317834883928299, 0.0, 0.0, 0.0, 0.0, 0.0, 0.0, 0.0, 0.0, 0.0, 0.0], [0.6652212738990784, 0.10662179440259933, 0.04655374214053154, 0.16549502313137054, 0.016108136624097824, 0.0, 0.0, 0.0, 0.0, 0.0, 0.0, 0.0, 0.0, 0.0], [0.6506356000900269, 0.060373932123184204, 0.03526831045746803, 0.10144937038421631, 0.1113777682185173, 0.04089507460594177, 0.0, 0.0, 0.0, 0.0, 0.0, 0.0, 0.0, 0.0], [0.9013650417327881, 0.01360555924475193, 0.00601735757663846, 0.006500875577330589, 0.01564924418926239, 0.012808933854103088, 0.04405292123556137, 0.0, 0.0, 0.0, 0.0, 0.0, 0.0, 0.0], [0.7061331272125244, 0.04837506636977196, 0.007533763535320759, 0.007128607481718063, 0.010299049317836761, 0.01134670339524746, 0.15543155372142792, 0.05375223979353905, 0.0, 0.0, 0.0, 0.0, 0.0, 0.0], [0.18117156624794006, 0.010210824199020863, 0.001533424947410822, 0.0037900274619460106, 0.008188403211534023, 0.012015685439109802, 0.2441835105419159, 0.485919713973999, 0.05298681557178497, 0.0, 0.0, 0.0, 0.0, 0.0], [0.36872023344039917, 0.005686638411134481, 0.0010878673056140542, 0.0075248549692332745, 0.009869351051747799, 0.010044188238680363, 0.1787460893392563, 0.311426043510437, 0.08966516703367233, 0.017229542136192322, 0.0, 0.0, 0.0, 0.0], [0.4927580654621124, 0.008668361231684685, 0.0013991714222356677, 0.0033794203773140907, 0.008767911233007908, 0.013115269131958485, 0.13034456968307495, 0.10177250951528549, 0.12325997650623322, 0.08635148406028748, 0.03018314018845558, 0.0, 0.0, 0.0], [0.3453415334224701, 0.014063563197851181, 0.0028145674150437117, 0.010079898871481419, 0.02360541932284832, 0.008972925134003162, 0.13311192393302917, 0.07900424301624298, 0.09988467395305634, 0.06144094839692116, 0.17874345183372498, 0.04293690621852875, 0.0, 0.0], [0.35813000798225403, 0.005858009681105614, 0.002165580401197076, 0.002695887116715312, 0.0055692363530397415, 0.031231090426445007, 0.18848972022533417, 0.07713498175144196, 0.049707841128110886, 0.04094655066728592, 0.05565432459115982, 0.15701867640018463, 0.025398125872015953, 0.0], [0.57535719871521, 0.008818374015390873, 0.0028294275980442762, 0.004323808941990137, 0.009710147976875305, 0.008559904992580414, 0.05109475180506706, 0.03266899660229683, 0.02726695127785206, 0.03344674035906792, 0.039710238575935364, 0.15734131634235382, 0.026955153793096542, 0.021916966885328293]]], [[[1.0, 0.0, 0.0, 0.0, 0.0, 0.0, 0.0, 0.0, 0.0, 0.0, 0.0, 0.0, 0.0, 0.0], [0.9606446027755737, 0.03935541957616806, 0.0, 0.0, 0.0, 0.0, 0.0, 0.0, 0.0, 0.0, 0.0, 0.0, 0.0, 0.0], [0.586992084980011, 0.39935556054115295, 0.013652387075126171, 0.0, 0.0, 0.0, 0.0, 0.0, 0.0, 0.0, 0.0, 0.0, 0.0, 0.0], [0.2685821056365967, 0.38741329312324524, 0.3127067983150482, 0.03129785135388374, 0.0, 0.0, 0.0, 0.0, 0.0, 0.0, 0.0, 0.0, 0.0, 0.0], [0.4843125343322754, 0.08234963566064835, 0.08215878158807755, 0.33474767208099365, 0.016431404277682304, 0.0, 0.0, 0.0, 0.0, 0.0, 0.0, 0.0, 0.0, 0.0], [0.8670421242713928, 0.03407244756817818, 0.0079339062795043, 0.01457947213202715, 0.07252220809459686, 0.003849894506856799, 0.0, 0.0, 0.0, 0.0, 0.0, 0.0, 0.0, 0.0], [0.8264214396476746, 0.02664531022310257, 0.007870073430240154, 0.00908447802066803, 0.034868527203798294, 0.061951376497745514, 0.0331588089466095, 0.0, 0.0, 0.0, 0.0, 0.0, 0.0, 0.0], [0.6864705681800842, 0.006240667775273323, 0.0016087848925963044, 0.0027695067692548037, 0.006357296369969845, 0.02378769777715206, 0.26160743832588196, 0.011157994158565998, 0.0, 0.0, 0.0, 0.0, 0.0, 0.0], [0.3793843388557434, 0.006990583147853613, 0.0019295065430924296, 0.0014557397225871682, 0.009068712592124939, 0.030896835029125214, 0.0863933339715004, 0.460867315530777, 0.023013640195131302, 0.0, 0.0, 0.0, 0.0, 0.0], [0.5561602115631104, 0.0021135960705578327, 0.0005041520926170051, 0.0003094951098319143, 0.004823746159672737, 0.009011763148009777, 0.05948478728532791, 0.10595368593931198, 0.23583447933197021, 0.025804098695516586, 0.0, 0.0, 0.0, 0.0], [0.6428953409194946, 0.018003301694989204, 0.009428443387150764, 0.001406779163517058, 0.004947706591337919, 0.006436167750507593, 0.009145361371338367, 0.02057958021759987, 0.03590070456266403, 0.2390373945236206, 0.01221921294927597, 0.0, 0.0, 0.0], [0.5601186752319336, 0.00736067583784461, 0.002299198182299733, 0.002462439239025116, 0.011765007860958576, 0.004947229288518429, 0.017863880842924118, 0.010776890441775322, 0.10616094619035721, 0.11104654520750046, 0.1542612910270691, 0.010937152430415154, 0.0, 0.0], [0.6473977565765381, 0.004134414717555046, 0.0024441133718937635, 0.000760280410759151, 0.004585720598697662, 0.007404976990073919, 0.011060844175517559, 0.011580726131796837, 0.034426163882017136, 0.047490254044532776, 0.06395286321640015, 0.13268689811229706, 0.03207506611943245, 0.0], [0.8605304956436157, 0.003353509586304426, 0.001763777807354927, 0.0019677281379699707, 0.003916722256690264, 0.001568049076013267, 0.006349639035761356, 0.0007044652593322098, 0.010731690563261509, 0.009070932865142822, 0.007699582260102034, 0.014234213158488274, 0.06834543496370316, 0.009763789363205433]], [[1.0, 0.0, 0.0, 0.0, 0.0, 0.0, 0.0, 0.0, 0.0, 0.0, 0.0, 0.0, 0.0, 0.0], [0.9962802529335022, 0.003719691652804613, 0.0, 0.0, 0.0, 0.0, 0.0, 0.0, 0.0, 0.0, 0.0, 0.0, 0.0, 0.0], [0.9911596179008484, 0.0028902061749249697, 0.005950222257524729, 0.0, 0.0, 0.0, 0.0, 0.0, 0.0, 0.0, 0.0, 0.0, 0.0, 0.0], [0.9817858338356018, 0.005012845620512962, 0.004479216877371073, 0.00872211717069149, 0.0, 0.0, 0.0, 0.0, 0.0, 0.0, 0.0, 0.0, 0.0, 0.0], [0.834366500377655, 0.04198053479194641, 0.056867439299821854, 0.03138090297579765, 0.03540458902716637, 0.0, 0.0, 0.0, 0.0, 0.0, 0.0, 0.0, 0.0, 0.0], [0.8685749173164368, 0.004265885800123215, 0.005803471431136131, 0.011993582360446453, 0.02211679145693779, 0.08724535256624222, 0.0, 0.0, 0.0, 0.0, 0.0, 0.0, 0.0, 0.0], [0.8889255523681641, 0.006384562235325575, 0.01073971763253212, 0.016549905762076378, 0.01925722137093544, 0.024997645989060402, 0.033145394176244736, 0.0, 0.0, 0.0, 0.0, 0.0, 0.0, 0.0], [0.9001678228378296, 0.004135329741984606, 0.005476729013025761, 0.007313923444598913, 0.011881443671882153, 0.01448730193078518, 0.03746751323342323, 0.019070055335760117, 0.0, 0.0, 0.0, 0.0, 0.0, 0.0], [0.6381905674934387, 0.007763301022350788, 0.021257469430565834, 0.0372651144862175, 0.0652986541390419, 0.120418481528759, 0.06422583013772964, 0.018561240285634995, 0.027019299566745758, 0.0, 0.0, 0.0, 0.0, 0.0], [0.6489160656929016, 0.0043226550333201885, 0.013012830168008804, 0.04024606570601463, 0.06268040090799332, 0.11099155992269516, 0.04819466918706894, 0.02302590198814869, 0.04019497334957123, 0.008414949290454388, 0.0, 0.0, 0.0, 0.0], [0.6058881282806396, 0.003889854531735182, 0.007827681489288807, 0.012344402261078358, 0.08923868089914322, 0.1908150464296341, 0.0474197156727314, 0.012931114062666893, 0.008880818262696266, 0.0011225013295188546, 0.019642096012830734, 0.0, 0.0, 0.0], [0.5869166254997253, 0.0034926007501780987, 0.0034042424522340298, 0.014982630498707294, 0.0974823534488678, 0.1386713683605194, 0.08485366404056549, 0.011869962327182293, 0.01674834080040455, 0.007420761045068502, 0.02210172638297081, 0.012055685743689537, 0.0, 0.0], [0.9200712442398071, 0.0011636130511760712, 0.0008312059217132628, 0.0011629846412688494, 0.0006735657807439566, 0.0167507566511631, 0.01446716021746397, 0.005562846083194017, 0.0018619043985381722, 0.00019474673899821937, 0.00032490803278051317, 0.00039422811823897064, 0.036540813744068146, 0.0], [0.7829108834266663, 0.001827796222642064, 0.0015553174307569861, 0.0024371230974793434, 0.00249012210406363, 0.0054689873941242695, 0.020422710105776787, 0.005579306278377771, 0.011202520690858364, 0.0016621701652184129, 0.0020201934967190027, 0.005354749504476786, 0.029686739668250084, 0.12738150358200073]], [[1.0, 0.0, 0.0, 0.0, 0.0, 0.0, 0.0, 0.0, 0.0, 0.0, 0.0, 0.0, 0.0, 0.0], [0.9962964653968811, 0.003703590016812086, 0.0, 0.0, 0.0, 0.0, 0.0, 0.0, 0.0, 0.0, 0.0, 0.0, 0.0, 0.0], [0.9973331689834595, 0.00022731850913260132, 0.0024395196232944727, 0.0, 0.0, 0.0, 0.0, 0.0, 0.0, 0.0, 0.0, 0.0, 0.0, 0.0], [0.9814627170562744, 0.000950330460909754, 0.00010601145913824439, 0.017480844631791115, 0.0, 0.0, 0.0, 0.0, 0.0, 0.0, 0.0, 0.0, 0.0, 0.0], [0.9974290728569031, 0.001409630523994565, 7.940882642287761e-05, 0.000422170473029837, 0.0006596668972633779, 0.0, 0.0, 0.0, 0.0, 0.0, 0.0, 0.0, 0.0, 0.0], [0.990721583366394, 0.0007489488925784826, 0.0004631656047422439, 0.003659906331449747, 0.0012042260495945811, 0.0032022022642195225, 0.0, 0.0, 0.0, 0.0, 0.0, 0.0, 0.0, 0.0], [0.9874267578125, 0.001026979647576809, 0.0003445558832027018, 0.003159221261739731, 0.0005947739700786769, 0.001314365305006504, 0.0061333440244197845, 0.0, 0.0, 0.0, 0.0, 0.0, 0.0, 0.0], [0.9848113059997559, 0.0005246666260063648, 0.00013734748063143343, 0.000998036121018231, 0.000576075108256191, 2.9685663321288303e-05, 0.003104632021859288, 0.00981833878904581, 0.0, 0.0, 0.0, 0.0, 0.0, 0.0], [0.9812378287315369, 0.0007497958140447736, 0.00031113208387978375, 0.006365911103785038, 0.00047149925376288593, 0.00038693437818437815, 0.0004925794783048332, 0.006956229452043772, 0.0030280884820967913, 0.0, 0.0, 0.0, 0.0, 0.0], [0.9362344145774841, 0.00011918713425984606, 0.0036048435140401125, 0.01748664863407612, 0.0010903591755777597, 0.0006325150607153773, 0.00031675148056820035, 0.008321789093315601, 0.006768602877855301, 0.025424957275390625, 0.0, 0.0, 0.0, 0.0], [0.9983861446380615, 2.334093369427137e-05, 6.098530866438523e-05, 0.0008642334723845124, 0.0002532425569370389, 0.00024322113313246518, 6.192466389620677e-05, 1.0040314009529538e-05, 2.335819044674281e-05, 3.783651663979981e-06, 6.981792830629274e-05, 0.0, 0.0, 0.0], [0.9961121678352356, 1.7266025679418817e-05, 3.956546788685955e-05, 0.0007058182964101434, 3.2869189453776926e-05, 7.565766281913966e-05, 0.0003114193968940526, 0.00016631920880172402, 0.0002037253143498674, 0.000258543121162802, 0.0001780109159881249, 0.001898541348055005, 0.0, 0.0], [0.9847375750541687, 5.143057569512166e-05, 1.5213176084216684e-05, 0.00031670278985984623, 0.00020294722344260663, 0.0008833163301460445, 0.0009464151225984097, 0.000817783351521939, 0.0003351891355123371, 6.837815453764051e-05, 2.026220317929983e-05, 0.00024995143758133054, 0.011354880407452583, 0.0], [0.8926264643669128, 0.0012867433251813054, 7.741180888842791e-05, 0.0007893383735790849, 0.00026803818764165044, 0.0002240333124063909, 0.033125415444374084, 0.010207168757915497, 0.010742636397480965, 0.0012789935572072864, 0.00012376414088066667, 0.00018832313071470708, 0.01592108979821205, 0.033140454441308975]], [[1.0, 0.0, 0.0, 0.0, 0.0, 0.0, 0.0, 0.0, 0.0, 0.0, 0.0, 0.0, 0.0, 0.0], [0.9749880433082581, 0.02501191757619381, 0.0, 0.0, 0.0, 0.0, 0.0, 0.0, 0.0, 0.0, 0.0, 0.0, 0.0, 0.0], [0.9444083571434021, 0.04248227924108505, 0.013109397143125534, 0.0, 0.0, 0.0, 0.0, 0.0, 0.0, 0.0, 0.0, 0.0, 0.0, 0.0], [0.8619041442871094, 0.07222270220518112, 0.026462683454155922, 0.039410412311553955, 0.0, 0.0, 0.0, 0.0, 0.0, 0.0, 0.0, 0.0, 0.0, 0.0], [0.752016007900238, 0.10565978288650513, 0.030545979738235474, 0.0546518936753273, 0.05712638050317764, 0.0, 0.0, 0.0, 0.0, 0.0, 0.0, 0.0, 0.0, 0.0], [0.7589210867881775, 0.09018673747777939, 0.025611352175474167, 0.040162719786167145, 0.04309559985995293, 0.04202248528599739, 0.0, 0.0, 0.0, 0.0, 0.0, 0.0, 0.0, 0.0], [0.6628422737121582, 0.03913617879152298, 0.019685978069901466, 0.08049941807985306, 0.07763883471488953, 0.06408770382404327, 0.056109718978405, 0.0, 0.0, 0.0, 0.0, 0.0, 0.0, 0.0], [0.675811767578125, 0.02442861534655094, 0.017802588641643524, 0.04080265015363693, 0.045942213386297226, 0.051072198897600174, 0.10736823827028275, 0.03677170351147652, 0.0, 0.0, 0.0, 0.0, 0.0, 0.0], [0.6345873475074768, 0.033408574759960175, 0.009189224801957607, 0.035988498479127884, 0.06403479725122452, 0.05267028510570526, 0.0801081582903862, 0.04078834503889084, 0.04922483116388321, 0.0, 0.0, 0.0, 0.0, 0.0], [0.6204798817634583, 0.011373522691428661, 0.006561199203133583, 0.07091619074344635, 0.0512981191277504, 0.03152831643819809, 0.07615909725427628, 0.04201514273881912, 0.05024487525224686, 0.039423685520887375, 0.0, 0.0, 0.0, 0.0], [0.7113324999809265, 0.01633298583328724, 0.010692519135773182, 0.03332233428955078, 0.05921020731329918, 0.03932143375277519, 0.037189412862062454, 0.02918940782546997, 0.026450512930750847, 0.019842492416501045, 0.01711622253060341, 0.0, 0.0, 0.0], [0.6232073903083801, 0.010023067705333233, 0.008026675321161747, 0.025354186072945595, 0.06185941770672798, 0.041143953800201416, 0.06071971729397774, 0.032380133867263794, 0.034750211983919144, 0.021370837464928627, 0.03092179074883461, 0.05024270340800285, 0.0, 0.0], [0.7097348570823669, 0.023938637226819992, 0.004753872752189636, 0.005161628592759371, 0.04290451481938362, 0.03867500275373459, 0.02646898478269577, 0.00806409865617752, 0.016792209818959236, 0.014460140839219093, 0.008909067139029503, 0.026006927713751793, 0.0741301104426384, 0.0], [0.4918193221092224, 0.025013823062181473, 0.007415567059069872, 0.0048758601769804955, 0.008854537270963192, 0.013909474015235901, 0.09888476878404617, 0.016548236832022667, 0.05982722342014313, 0.02001265250146389, 0.008208162151277065, 0.0279309693723917, 0.17246758937835693, 0.044231805950403214]], [[1.0, 0.0, 0.0, 0.0, 0.0, 0.0, 0.0, 0.0, 0.0, 0.0, 0.0, 0.0, 0.0, 0.0], [0.9638091325759888, 0.03619086369872093, 0.0, 0.0, 0.0, 0.0, 0.0, 0.0, 0.0, 0.0, 0.0, 0.0, 0.0, 0.0], [0.9544190764427185, 0.04194550961256027, 0.00363536411896348, 0.0, 0.0, 0.0, 0.0, 0.0, 0.0, 0.0, 0.0, 0.0, 0.0, 0.0], [0.932857871055603, 0.040612947195768356, 0.010715370066463947, 0.015813743695616722, 0.0, 0.0, 0.0, 0.0, 0.0, 0.0, 0.0, 0.0, 0.0, 0.0], [0.7517792582511902, 0.10812018066644669, 0.022535348311066628, 0.11030736565589905, 0.007257775403559208, 0.0, 0.0, 0.0, 0.0, 0.0, 0.0, 0.0, 0.0, 0.0], [0.6997016072273254, 0.12038339674472809, 0.022662807255983353, 0.06796986609697342, 0.04868100583553314, 0.04060119763016701, 0.0, 0.0, 0.0, 0.0, 0.0, 0.0, 0.0, 0.0], [0.8233749270439148, 0.05936796963214874, 0.02218475565314293, 0.04966337978839874, 0.014868938364088535, 0.02025434374809265, 0.010285631753504276, 0.0, 0.0, 0.0, 0.0, 0.0, 0.0, 0.0], [0.9326162338256836, 0.01227644644677639, 0.00547500466927886, 0.0068938154727220535, 0.009664496406912804, 0.006960839964449406, 0.019403519108891487, 0.00670966412872076, 0.0, 0.0, 0.0, 0.0, 0.0, 0.0], [0.9695326685905457, 0.004296649247407913, 0.0009439651621505618, 0.004115790594369173, 0.0017025233246386051, 0.007193615660071373, 0.001796422409825027, 0.002087589120492339, 0.00833068136125803, 0.0, 0.0, 0.0, 0.0, 0.0], [0.948699951171875, 0.00330740911886096, 0.0007505539106205106, 0.00297109829261899, 0.0010987058049067855, 0.005197036080062389, 0.005185352638363838, 0.005885254591703415, 0.02440248616039753, 0.002502160146832466, 0.0, 0.0, 0.0, 0.0], [0.9413387775421143, 0.008781461045145988, 0.0005703401984646916, 0.001726122573018074, 0.0018212555442005396, 0.0019602826796472073, 0.007298227399587631, 0.0014669873053207994, 0.027152633294463158, 0.006256707478314638, 0.0016270660562440753, 0.0, 0.0, 0.0], [0.9357846975326538, 0.005852863658219576, 0.0006452106172218919, 0.00341488653793931, 0.0016835988499224186, 0.003158716019243002, 0.007736187428236008, 0.003346438752487302, 0.027963437139987946, 0.006355211138725281, 0.0020174651872366667, 0.0020413349848240614, 0.0, 0.0], [0.8745622038841248, 0.009126505814492702, 0.0016016790177673101, 0.0038168441969901323, 0.002257580403238535, 0.0021873752120882273, 0.013991058804094791, 0.002505516866222024, 0.040557317435741425, 0.016094548627734184, 0.007730311714112759, 0.011457961052656174, 0.014111070893704891, 0.0], [0.33141741156578064, 0.01320362463593483, 0.002723297104239464, 0.005395196843892336, 0.006450936198234558, 0.012575061991810799, 0.047062959522008896, 0.014148248359560966, 0.48278340697288513, 0.019882602617144585, 0.004820321220904589, 0.010045793838799, 0.024574102833867073, 0.02491704747080803]], [[1.0, 0.0, 0.0, 0.0, 0.0, 0.0, 0.0, 0.0, 0.0, 0.0, 0.0, 0.0, 0.0, 0.0], [0.9938748478889465, 0.00612513767555356, 0.0, 0.0, 0.0, 0.0, 0.0, 0.0, 0.0, 0.0, 0.0, 0.0, 0.0, 0.0], [0.9632449150085449, 0.027498507872223854, 0.009256661869585514, 0.0, 0.0, 0.0, 0.0, 0.0, 0.0, 0.0, 0.0, 0.0, 0.0, 0.0], [0.8443992733955383, 0.08189847320318222, 0.02399599365890026, 0.049706216901540756, 0.0, 0.0, 0.0, 0.0, 0.0, 0.0, 0.0, 0.0, 0.0, 0.0], [0.8223826885223389, 0.03668361157178879, 0.018218379467725754, 0.07629772275686264, 0.04641760513186455, 0.0, 0.0, 0.0, 0.0, 0.0, 0.0, 0.0, 0.0, 0.0], [0.428877055644989, 0.06456110626459122, 0.018731314688920975, 0.051317404955625534, 0.34529179334640503, 0.09122132509946823, 0.0, 0.0, 0.0, 0.0, 0.0, 0.0, 0.0, 0.0], [0.788409948348999, 0.03486507013440132, 0.011875062249600887, 0.003080666298046708, 0.01374154631048441, 0.09675762802362442, 0.0512700192630291, 0.0, 0.0, 0.0, 0.0, 0.0, 0.0, 0.0], [0.6863611936569214, 0.018102912232279778, 0.018242955207824707, 0.004207557998597622, 0.012137556448578835, 0.08304176479578018, 0.11695805191993713, 0.06094808876514435, 0.0, 0.0, 0.0, 0.0, 0.0, 0.0], [0.5151025652885437, 0.03081258200109005, 0.008715186268091202, 0.008111308328807354, 0.04831097275018692, 0.07568153738975525, 0.20064972341060638, 0.08254315704107285, 0.030072955414652824, 0.0, 0.0, 0.0, 0.0, 0.0], [0.7556731104850769, 0.006205161102116108, 0.006296960171312094, 0.003961107227951288, 0.007049359381198883, 0.055540531873703, 0.08329501748085022, 0.04456771910190582, 0.02838405966758728, 0.00902685895562172, 0.0, 0.0, 0.0, 0.0], [0.5154165625572205, 0.014573822729289532, 0.004680200945585966, 0.006976897828280926, 0.04833272472023964, 0.08946438133716583, 0.15155541896820068, 0.10115606337785721, 0.03721221536397934, 0.015544744208455086, 0.0150868846103549, 0.0, 0.0, 0.0], [0.5293149948120117, 0.012900322675704956, 0.004050769377499819, 0.012317477725446224, 0.04379599168896675, 0.07988505065441132, 0.1685141623020172, 0.07295715063810349, 0.029855551198124886, 0.013107119128108025, 0.013325943611562252, 0.019975433126091957, 0.0, 0.0], [0.5106205940246582, 0.01649315096437931, 0.004606814123690128, 0.010779072530567646, 0.04331560060381889, 0.07210993766784668, 0.10287032276391983, 0.03817100450396538, 0.03494313731789589, 0.023616429418325424, 0.02886931598186493, 0.03965497389435768, 0.07394963502883911, 0.0], [0.4170723855495453, 0.013903397135436535, 0.008840212598443031, 0.004234673921018839, 0.03827749192714691, 0.03779970481991768, 0.1319800168275833, 0.08954297006130219, 0.02286255918443203, 0.034514229744672775, 0.04036577418446541, 0.05221444368362427, 0.03629974275827408, 0.07209240645170212]], [[1.0, 0.0, 0.0, 0.0, 0.0, 0.0, 0.0, 0.0, 0.0, 0.0, 0.0, 0.0, 0.0, 0.0], [0.9778973460197449, 0.022102676331996918, 0.0, 0.0, 0.0, 0.0, 0.0, 0.0, 0.0, 0.0, 0.0, 0.0, 0.0, 0.0], [0.9518300890922546, 0.035838574171066284, 0.012331383302807808, 0.0, 0.0, 0.0, 0.0, 0.0, 0.0, 0.0, 0.0, 0.0, 0.0, 0.0], [0.9280455112457275, 0.038139358162879944, 0.009640281088650227, 0.02417481504380703, 0.0, 0.0, 0.0, 0.0, 0.0, 0.0, 0.0, 0.0, 0.0, 0.0], [0.9113931059837341, 0.03802204132080078, 0.006397546734660864, 0.01836281083524227, 0.02582450769841671, 0.0, 0.0, 0.0, 0.0, 0.0, 0.0, 0.0, 0.0, 0.0], [0.7575860619544983, 0.04150627180933952, 0.009262886829674244, 0.04360533505678177, 0.07012347877025604, 0.07791594415903091, 0.0, 0.0, 0.0, 0.0, 0.0, 0.0, 0.0, 0.0], [0.7661234140396118, 0.04237282648682594, 0.012126614339649677, 0.03173411637544632, 0.04738723114132881, 0.045375704765319824, 0.054880108684301376, 0.0, 0.0, 0.0, 0.0, 0.0, 0.0, 0.0], [0.6365414261817932, 0.02955171838402748, 0.007336499635130167, 0.01840771548449993, 0.0219571590423584, 0.049225084483623505, 0.12783288955688477, 0.10914744436740875, 0.0, 0.0, 0.0, 0.0, 0.0, 0.0], [0.5939884781837463, 0.04236259311437607, 0.012719370424747467, 0.036710213869810104, 0.04686816781759262, 0.053257450461387634, 0.1274438202381134, 0.06113604083657265, 0.025513987988233566, 0.0, 0.0, 0.0, 0.0, 0.0], [0.6662259101867676, 0.018610434606671333, 0.008610740303993225, 0.03352125734090805, 0.05371912941336632, 0.0492057204246521, 0.06310392171144485, 0.04665166139602661, 0.027580857276916504, 0.032770395278930664, 0.0, 0.0, 0.0, 0.0], [0.7323628067970276, 0.029729850590229034, 0.009984303265810013, 0.029799679294228554, 0.04443350061774254, 0.031429581344127655, 0.0314553864300251, 0.02832917869091034, 0.013607935979962349, 0.035588588565588, 0.013279207050800323, 0.0, 0.0, 0.0], [0.7539491653442383, 0.016945306211709976, 0.007009513210505247, 0.036529790610075, 0.04372119531035423, 0.03749648109078407, 0.02914578840136528, 0.018725179135799408, 0.008963500149548054, 0.02567107044160366, 0.011986334808170795, 0.009856625460088253, 0.0, 0.0], [0.8856151700019836, 0.00900582130998373, 0.0032649431377649307, 0.008673232980072498, 0.012672760523855686, 0.007752361241728067, 0.010473974980413914, 0.012747216038405895, 0.012516993097960949, 0.00663153687492013, 0.008151622489094734, 0.007489257492125034, 0.015005093067884445, 0.0], [0.6436525583267212, 0.01890605129301548, 0.007095954846590757, 0.016851382330060005, 0.017652999609708786, 0.01607537642121315, 0.04045727103948593, 0.03612173721194267, 0.029396604746580124, 0.022583944723010063, 0.022416852414608, 0.03323974460363388, 0.03224470093846321, 0.06330478191375732]], [[1.0, 0.0, 0.0, 0.0, 0.0, 0.0, 0.0, 0.0, 0.0, 0.0, 0.0, 0.0, 0.0, 0.0], [0.9949045181274414, 0.005095446016639471, 0.0, 0.0, 0.0, 0.0, 0.0, 0.0, 0.0, 0.0, 0.0, 0.0, 0.0, 0.0], [0.9959415793418884, 0.0027393971104174852, 0.0013190665049478412, 0.0, 0.0, 0.0, 0.0, 0.0, 0.0, 0.0, 0.0, 0.0, 0.0, 0.0], [0.9807592034339905, 0.0029117590747773647, 0.002240465022623539, 0.01408851332962513, 0.0, 0.0, 0.0, 0.0, 0.0, 0.0, 0.0, 0.0, 0.0, 0.0], [0.9437373876571655, 0.005326215177774429, 0.013596040196716785, 0.01960962451994419, 0.017730794847011566, 0.0, 0.0, 0.0, 0.0, 0.0, 0.0, 0.0, 0.0, 0.0], [0.8516963720321655, 0.028979292139410973, 0.01846178248524666, 0.04314139857888222, 0.01376333087682724, 0.04395779222249985, 0.0, 0.0, 0.0, 0.0, 0.0, 0.0, 0.0, 0.0], [0.7551094889640808, 0.07556083053350449, 0.04575631767511368, 0.038278620690107346, 0.03521943464875221, 0.02846630848944187, 0.021609025076031685, 0.0, 0.0, 0.0, 0.0, 0.0, 0.0, 0.0], [0.8232835531234741, 0.07762771844863892, 0.016855893656611443, 0.030298715457320213, 0.010801427066326141, 0.01395542174577713, 0.012860536575317383, 0.014316670596599579, 0.0, 0.0, 0.0, 0.0, 0.0, 0.0], [0.5636277198791504, 0.017221197485923767, 0.015304910019040108, 0.09228377789258957, 0.11516497284173965, 0.08693164587020874, 0.08893858641386032, 0.01123346108943224, 0.009293721988797188, 0.0, 0.0, 0.0, 0.0, 0.0], [0.7438149452209473, 0.006952805444598198, 0.005424166563898325, 0.04872524365782738, 0.07897139340639114, 0.05236981436610222, 0.03601833060383797, 0.006313782650977373, 0.00926851574331522, 0.012140934355556965, 0.0, 0.0, 0.0, 0.0], [0.8515389561653137, 0.004628028254956007, 0.004338141530752182, 0.014355494640767574, 0.0094213355332613, 0.020571736618876457, 0.047497451305389404, 0.02685348130762577, 0.016200119629502296, 0.0024030213244259357, 0.0021920516155660152, 0.0, 0.0, 0.0], [0.8402261734008789, 0.0027516933623701334, 0.002143731340765953, 0.017060089856386185, 0.029483702033758163, 0.032587647438049316, 0.051801759749650955, 0.008636320941150188, 0.009148492477834225, 0.001970701152458787, 0.001888867118395865, 0.002300865249708295, 0.0, 0.0], [0.907265841960907, 0.0014337257016450167, 0.0006006702897138894, 0.003498675301671028, 0.0029301606118679047, 0.017152830958366394, 0.03279368579387665, 0.007009091787040234, 0.003598614130169153, 0.000629240763373673, 0.0004855644074268639, 0.00048389972653239965, 0.022118128836154938, 0.0], [0.7595546245574951, 0.04342937842011452, 0.019854597747325897, 0.03600827232003212, 0.005871924571692944, 0.008813634514808655, 0.035328254103660583, 0.015221795998513699, 0.010595330037176609, 0.005545161664485931, 0.006121987011283636, 0.0042792861349880695, 0.028895962983369827, 0.020479917526245117]], [[1.0, 0.0, 0.0, 0.0, 0.0, 0.0, 0.0, 0.0, 0.0, 0.0, 0.0, 0.0, 0.0, 0.0], [0.8573836088180542, 0.14261634647846222, 0.0, 0.0, 0.0, 0.0, 0.0, 0.0, 0.0, 0.0, 0.0, 0.0, 0.0, 0.0], [0.4285803735256195, 0.5578614473342896, 0.013558179140090942, 0.0, 0.0, 0.0, 0.0, 0.0, 0.0, 0.0, 0.0, 0.0, 0.0, 0.0], [0.4679338037967682, 0.4207629859447479, 0.07638155668973923, 0.03492173179984093, 0.0, 0.0, 0.0, 0.0, 0.0, 0.0, 0.0, 0.0, 0.0, 0.0], [0.622526228427887, 0.1315232366323471, 0.019310055300593376, 0.126268669962883, 0.10037177801132202, 0.0, 0.0, 0.0, 0.0, 0.0, 0.0, 0.0, 0.0, 0.0], [0.6544741988182068, 0.07631928473711014, 0.014787792228162289, 0.06040668487548828, 0.18774138391017914, 0.006270661950111389, 0.0, 0.0, 0.0, 0.0, 0.0, 0.0, 0.0, 0.0], [0.6867169737815857, 0.05473131686449051, 0.029355641454458237, 0.07296405732631683, 0.08716007322072983, 0.05062928423285484, 0.01844269223511219, 0.0, 0.0, 0.0, 0.0, 0.0, 0.0, 0.0], [0.5552332997322083, 0.05461309477686882, 0.0649748146533966, 0.04534195736050606, 0.0392850786447525, 0.06681017577648163, 0.13965587317943573, 0.03408575803041458, 0.0, 0.0, 0.0, 0.0, 0.0, 0.0], [0.4239685535430908, 0.07926236838102341, 0.018279938027262688, 0.036432601511478424, 0.2364925593137741, 0.0253104567527771, 0.05778605490922928, 0.05018552765250206, 0.07228203117847443, 0.0, 0.0, 0.0, 0.0, 0.0], [0.31372547149658203, 0.01816253550350666, 0.009509016759693623, 0.062205661088228226, 0.3348016142845154, 0.03871636837720871, 0.054486531764268875, 0.04553685709834099, 0.10433869063854218, 0.01851731538772583, 0.0, 0.0, 0.0, 0.0], [0.22504501044750214, 0.03571441024541855, 0.011372679844498634, 0.05585517734289169, 0.15401306748390198, 0.026631517335772514, 0.05553792789578438, 0.012495024129748344, 0.33376753330230713, 0.058767277747392654, 0.030800389125943184, 0.0, 0.0, 0.0], [0.23236636817455292, 0.02615421451628208, 0.012813176959753036, 0.04906860366463661, 0.17412246763706207, 0.02782452665269375, 0.051113396883010864, 0.047221824526786804, 0.171780064702034, 0.04605706036090851, 0.13688209652900696, 0.024596279487013817, 0.0, 0.0], [0.7143397331237793, 0.007701316848397255, 0.0028602813836187124, 0.003572659334167838, 0.013200601562857628, 0.0075530982576310635, 0.025294095277786255, 0.007207694463431835, 0.022230325266718864, 0.009605261497199535, 0.0023268896620720625, 0.021159963682293892, 0.1629481315612793, 0.0], [0.42677041888237, 0.004378837533295155, 0.003134811297059059, 0.008015531115233898, 0.017894119024276733, 0.001138734514825046, 0.01576748676598072, 0.02510220929980278, 0.04096680134534836, 0.008385316468775272, 0.01861598715186119, 0.019676540046930313, 0.40244060754776, 0.007712602149695158]], [[1.0, 0.0, 0.0, 0.0, 0.0, 0.0, 0.0, 0.0, 0.0, 0.0, 0.0, 0.0, 0.0, 0.0], [0.9765989780426025, 0.023401057347655296, 0.0, 0.0, 0.0, 0.0, 0.0, 0.0, 0.0, 0.0, 0.0, 0.0, 0.0, 0.0], [0.9159986972808838, 0.06854349374771118, 0.015457838773727417, 0.0, 0.0, 0.0, 0.0, 0.0, 0.0, 0.0, 0.0, 0.0, 0.0, 0.0], [0.8322663307189941, 0.08958859741687775, 0.05269496515393257, 0.025450121611356735, 0.0, 0.0, 0.0, 0.0, 0.0, 0.0, 0.0, 0.0, 0.0, 0.0], [0.8627944588661194, 0.07387304306030273, 0.032863788306713104, 0.017718739807605743, 0.012749937362968922, 0.0, 0.0, 0.0, 0.0, 0.0, 0.0, 0.0, 0.0, 0.0], [0.866019606590271, 0.04759501293301582, 0.03140790015459061, 0.00774381635710597, 0.01431444101035595, 0.03291928768157959, 0.0, 0.0, 0.0, 0.0, 0.0, 0.0, 0.0, 0.0], [0.8209947347640991, 0.018828732892870903, 0.018689913675189018, 0.004981589037925005, 0.0119978291913867, 0.02761727198958397, 0.0968899205327034, 0.0, 0.0, 0.0, 0.0, 0.0, 0.0, 0.0], [0.6676148176193237, 0.015697302296757698, 0.021866215392947197, 0.004342989064753056, 0.008728734217584133, 0.019038964062929153, 0.19132305681705475, 0.07138799875974655, 0.0, 0.0, 0.0, 0.0, 0.0, 0.0], [0.46967047452926636, 0.01137680746614933, 0.0072584147565066814, 0.004114906303584576, 0.014437648467719555, 0.03599649667739868, 0.15063461661338806, 0.196974977850914, 0.1095355898141861, 0.0, 0.0, 0.0, 0.0, 0.0], [0.22898904979228973, 0.005597209557890892, 0.002763187512755394, 0.001993802608922124, 0.00736539950594306, 0.02060231752693653, 0.23433226346969604, 0.2456407994031906, 0.21865400671958923, 0.03406187519431114, 0.0, 0.0, 0.0, 0.0], [0.37440186738967896, 0.013627861626446247, 0.008212750777602196, 0.0053724804893136024, 0.02290913090109825, 0.05695553123950958, 0.13536521792411804, 0.06613748520612717, 0.19520258903503418, 0.10419199615716934, 0.017623107880353928, 0.0, 0.0, 0.0], [0.2747923731803894, 0.010597392916679382, 0.007167852018028498, 0.006129965651780367, 0.02202928066253662, 0.04339321702718735, 0.1469588577747345, 0.08115330338478088, 0.23875658214092255, 0.11209511756896973, 0.0313730351626873, 0.025553006678819656, 0.0, 0.0], [0.47479909658432007, 0.011774606071412563, 0.004269549623131752, 0.0016361263114959002, 0.007047357968986034, 0.034402042627334595, 0.11303269863128662, 0.12495490163564682, 0.11044054478406906, 0.041254397481679916, 0.019142182543873787, 0.04433722794055939, 0.012909426353871822, 0.0], [0.8044872879981995, 0.008338580839335918, 0.007969921454787254, 0.0012852340005338192, 0.0027083675377070904, 0.0031765045132488012, 0.055291797965765, 0.025165576487779617, 0.02625678852200508, 0.0102234510704875, 0.0015190072590485215, 0.0028075440786778927, 0.023692794144153595, 0.027077006176114082]], [[1.0, 0.0, 0.0, 0.0, 0.0, 0.0, 0.0, 0.0, 0.0, 0.0, 0.0, 0.0, 0.0, 0.0], [0.9823353886604309, 0.017664633691310883, 0.0, 0.0, 0.0, 0.0, 0.0, 0.0, 0.0, 0.0, 0.0, 0.0, 0.0, 0.0], [0.9952924251556396, 0.0014391893055289984, 0.0032683948520570993, 0.0, 0.0, 0.0, 0.0, 0.0, 0.0, 0.0, 0.0, 0.0, 0.0, 0.0], [0.9825156927108765, 0.0020437240600585938, 0.00039480242412537336, 0.015045755542814732, 0.0, 0.0, 0.0, 0.0, 0.0, 0.0, 0.0, 0.0, 0.0, 0.0], [0.9870252013206482, 0.004871377255767584, 0.0005719129694625735, 0.00408412329852581, 0.0034473815467208624, 0.0, 0.0, 0.0, 0.0, 0.0, 0.0, 0.0, 0.0, 0.0], [0.9568961262702942, 0.004011543467640877, 0.0045641204342246056, 0.019922487437725067, 0.00543235894292593, 0.00917336717247963, 0.0, 0.0, 0.0, 0.0, 0.0, 0.0, 0.0, 0.0], [0.9503806233406067, 0.0020259765442460775, 0.0053237141110002995, 0.012820689007639885, 0.0029268742073327303, 0.007678073365241289, 0.018844131380319595, 0.0, 0.0, 0.0, 0.0, 0.0, 0.0, 0.0], [0.9743513464927673, 0.0013307201443240047, 0.0021125951316207647, 0.003713755402714014, 0.0032867661211639643, 0.0011470349272713065, 0.0062773823738098145, 0.007780476473271847, 0.0, 0.0, 0.0, 0.0, 0.0, 0.0], [0.8592575788497925, 0.007798383478075266, 0.010889539495110512, 0.011052842251956463, 0.0023855941835790873, 0.009426267817616463, 0.033325985074043274, 0.0560239776968956, 0.009839821606874466, 0.0, 0.0, 0.0, 0.0, 0.0], [0.6102691292762756, 0.001267589395865798, 0.14679664373397827, 0.06277672946453094, 0.017167653888463974, 0.031893957406282425, 0.04590117558836937, 0.04061376303434372, 0.01944367028772831, 0.023869788274168968, 0.0, 0.0, 0.0, 0.0], [0.995618462562561, 8.274977881228551e-05, 0.0008654744015075266, 0.0007029554108157754, 0.0004141683748457581, 0.0005045314901508391, 0.0015723409596830606, 3.602147626224905e-05, 4.169762905803509e-05, 2.1346599169191904e-05, 0.0001402534544467926, 0.0, 0.0, 0.0], [0.9517920613288879, 0.003720690030604601, 0.005934975575655699, 0.0038946750573813915, 0.0013473519356921315, 0.002841689856722951, 0.01488701906055212, 0.0011886246502399445, 0.001565361744724214, 0.00200333702377975, 0.0005208902875892818, 0.01030318345874548, 0.0, 0.0], [0.9907494187355042, 0.0001627700257813558, 6.128817767603323e-05, 9.495087579125538e-05, 0.0003276313073001802, 0.00093331333482638, 0.0010292809456586838, 0.00025656941579654813, 0.0007036347524262965, 0.00015580579929519445, 4.398029705043882e-05, 0.00032701759482733905, 0.005154408514499664, 0.0], [0.8301110863685608, 0.0032116053625941277, 0.002563266083598137, 0.0091601787135005, 0.0020180423744022846, 0.0009387091267853975, 0.03896507993340492, 0.004955895245075226, 0.041026245802640915, 0.00412953644990921, 0.002212066436186433, 0.004297141917049885, 0.046449583023786545, 0.00996153149753809]], [[1.0, 0.0, 0.0, 0.0, 0.0, 0.0, 0.0, 0.0, 0.0, 0.0, 0.0, 0.0, 0.0, 0.0], [0.9907315373420715, 0.009268424473702908, 0.0, 0.0, 0.0, 0.0, 0.0, 0.0, 0.0, 0.0, 0.0, 0.0, 0.0, 0.0], [0.9983495473861694, 0.00045730246347375214, 0.001193198491819203, 0.0, 0.0, 0.0, 0.0, 0.0, 0.0, 0.0, 0.0, 0.0, 0.0, 0.0], [0.9742273688316345, 0.0031327405013144016, 0.0010674134828150272, 0.02157239429652691, 0.0, 0.0, 0.0, 0.0, 0.0, 0.0, 0.0, 0.0, 0.0, 0.0], [0.9926016926765442, 0.001239866716787219, 0.001071770442649722, 0.003073501167818904, 0.002013068413361907, 0.0, 0.0, 0.0, 0.0, 0.0, 0.0, 0.0, 0.0, 0.0], [0.9798057675361633, 0.0029335529543459415, 0.0009662389056757092, 0.005323535762727261, 0.0007539140642620623, 0.010217011906206608, 0.0, 0.0, 0.0, 0.0, 0.0, 0.0, 0.0, 0.0], [0.9578503370285034, 0.007479884196072817, 0.0030123000033199787, 0.0031402313616126776, 0.0010606891009956598, 0.006305257324129343, 0.021151339635252953, 0.0, 0.0, 0.0, 0.0, 0.0, 0.0, 0.0], [0.8520419597625732, 0.005689832381904125, 0.0015785815194249153, 0.002065886976197362, 0.0005314364098012447, 0.000870916701387614, 0.085600346326828, 0.051621101796627045, 0.0, 0.0, 0.0, 0.0, 0.0, 0.0], [0.93893963098526, 0.01821017451584339, 0.007087281439453363, 0.009591121226549149, 0.0006187245598994195, 0.0035578019451349974, 0.003664998570457101, 0.010038328357040882, 0.008291851729154587, 0.0, 0.0, 0.0, 0.0, 0.0], [0.8773499727249146, 0.0030767288990318775, 0.020214632153511047, 0.03287021070718765, 0.0023281716275960207, 0.004559621214866638, 0.003920478746294975, 0.014460310339927673, 0.009954285807907581, 0.031265635043382645, 0.0, 0.0, 0.0, 0.0], [0.9317259192466736, 0.003885467303916812, 0.009856841526925564, 0.019640019163489342, 0.0056278398260474205, 0.0051331231370568275, 0.000453279324574396, 0.003408170072361827, 0.005101005081087351, 0.0013287720503285527, 0.013839541003108025, 0.0, 0.0, 0.0], [0.9305490851402283, 0.0016563370591029525, 0.004380035679787397, 0.017437029629945755, 0.0020847602281719446, 0.012276917695999146, 0.0020719177555292845, 0.008962544612586498, 0.00506571913138032, 0.0015781502006575465, 0.009416652843356133, 0.004520689602941275, 0.0, 0.0], [0.9314388632774353, 0.0030546439811587334, 0.0008585735922679305, 0.007046367973089218, 0.007615025155246258, 0.031689535826444626, 0.0011276376899331808, 0.0011820882791653275, 0.003442716784775257, 0.0017332220450043678, 0.0019581636879593134, 0.0025862902402877808, 0.006266918499022722, 0.0], [0.5989384651184082, 0.0046526347286999226, 0.0008589330827817321, 0.0028676956426352262, 0.0012150696711614728, 0.00831681676208973, 0.32065263390541077, 0.013361086137592793, 0.026903629302978516, 0.0005478623788803816, 0.000791243277490139, 0.0006948757800273597, 0.004395609255880117, 0.01580331288278103]]], [[[1.0, 0.0, 0.0, 0.0, 0.0, 0.0, 0.0, 0.0, 0.0, 0.0, 0.0, 0.0, 0.0, 0.0], [0.977423369884491, 0.022576656192541122, 0.0, 0.0, 0.0, 0.0, 0.0, 0.0, 0.0, 0.0, 0.0, 0.0, 0.0, 0.0], [0.9196407794952393, 0.03977281600236893, 0.04058641567826271, 0.0, 0.0, 0.0, 0.0, 0.0, 0.0, 0.0, 0.0, 0.0, 0.0, 0.0], [0.8866867423057556, 0.04528091847896576, 0.03222408518195152, 0.03580823168158531, 0.0, 0.0, 0.0, 0.0, 0.0, 0.0, 0.0, 0.0, 0.0, 0.0], [0.9111836552619934, 0.013002202846109867, 0.009948918595910072, 0.011172501370310783, 0.0546928271651268, 0.0, 0.0, 0.0, 0.0, 0.0, 0.0, 0.0, 0.0, 0.0], [0.8020085692405701, 0.038745734840631485, 0.03618847206234932, 0.039020515978336334, 0.024532753974199295, 0.059504032135009766, 0.0, 0.0, 0.0, 0.0, 0.0, 0.0, 0.0, 0.0], [0.6984077095985413, 0.03237979859113693, 0.030845239758491516, 0.021413667127490044, 0.04049009457230568, 0.1141558364033699, 0.06230767071247101, 0.0, 0.0, 0.0, 0.0, 0.0, 0.0, 0.0], [0.8150027394294739, 0.007347356528043747, 0.015583393163979053, 0.027166379615664482, 0.02647247724235058, 0.04489496722817421, 0.050226520746946335, 0.013306322507560253, 0.0, 0.0, 0.0, 0.0, 0.0, 0.0], [0.5844122767448425, 0.023221850395202637, 0.02078116685152054, 0.05717046931385994, 0.06911270320415497, 0.04291077330708504, 0.05416014418005943, 0.06301619112491608, 0.08521457761526108, 0.0, 0.0, 0.0, 0.0, 0.0], [0.7196450233459473, 0.015589522197842598, 0.01342400535941124, 0.031409554183483124, 0.024507582187652588, 0.040262579917907715, 0.0318567231297493, 0.03788729012012482, 0.06532157212495804, 0.020096125081181526, 0.0, 0.0, 0.0, 0.0], [0.714629590511322, 0.013760179281234741, 0.007577140815556049, 0.016839293763041496, 0.03518853336572647, 0.040777433663606644, 0.01389086153358221, 0.04498128965497017, 0.021800043061375618, 0.03932257741689682, 0.051233064383268356, 0.0, 0.0, 0.0], [0.6195405125617981, 0.023611970245838165, 0.02088269218802452, 0.028396567329764366, 0.05156145617365837, 0.03473565727472305, 0.01379256509244442, 0.02870091237127781, 0.05035668611526489, 0.033824384212493896, 0.03833049535751343, 0.05626608431339264, 0.0, 0.0], [0.7749884724617004, 0.013786758296191692, 0.013338788412511349, 0.008711227215826511, 0.012853968888521194, 0.06322700530290604, 0.038928285241127014, 0.012000170536339283, 0.024053312838077545, 0.005012752488255501, 0.004935046192258596, 0.01631319709122181, 0.011851048097014427, 0.0], [0.7151407599449158, 0.01761750690639019, 0.007616685703396797, 0.009152892976999283, 0.00575972581282258, 0.04535982385277748, 0.05107457563281059, 0.021010402590036392, 0.069420225918293, 0.0038350452668964863, 0.004385524429380894, 0.008633675053715706, 0.0031206985004246235, 0.037872470915317535]], [[1.0, 0.0, 0.0, 0.0, 0.0, 0.0, 0.0, 0.0, 0.0, 0.0, 0.0, 0.0, 0.0, 0.0], [0.9490429759025574, 0.050956979393959045, 0.0, 0.0, 0.0, 0.0, 0.0, 0.0, 0.0, 0.0, 0.0, 0.0, 0.0, 0.0], [0.9930777549743652, 0.004084113519638777, 0.0028381473384797573, 0.0, 0.0, 0.0, 0.0, 0.0, 0.0, 0.0, 0.0, 0.0, 0.0, 0.0], [0.9467010498046875, 0.03570073843002319, 0.003172861644998193, 0.014425468631088734, 0.0, 0.0, 0.0, 0.0, 0.0, 0.0, 0.0, 0.0, 0.0, 0.0], [0.9748753309249878, 0.01676679588854313, 0.00226033222861588, 0.0028031272813677788, 0.003294417867437005, 0.0, 0.0, 0.0, 0.0, 0.0, 0.0, 0.0, 0.0, 0.0], [0.8987958431243896, 0.032584480941295624, 0.018344130367040634, 0.028152132406830788, 0.011377722956240177, 0.010745801031589508, 0.0, 0.0, 0.0, 0.0, 0.0, 0.0, 0.0, 0.0], [0.8071757555007935, 0.07766131311655045, 0.013876787386834621, 0.032160885632038116, 0.02869129553437233, 0.009387950412929058, 0.031046060845255852, 0.0, 0.0, 0.0, 0.0, 0.0, 0.0, 0.0], [0.7911032438278198, 0.026623936370015144, 0.020826177671551704, 0.013035550713539124, 0.007050581742078066, 0.006801834795624018, 0.09116977453231812, 0.04338891804218292, 0.0, 0.0, 0.0, 0.0, 0.0, 0.0], [0.8312695026397705, 0.07073145359754562, 0.02715602144598961, 0.028290867805480957, 0.009591985493898392, 0.01324241328984499, 0.0035041130613535643, 0.013908297754824162, 0.0023054732009768486, 0.0, 0.0, 0.0, 0.0, 0.0], [0.8142443299293518, 0.002740797121077776, 0.06165219470858574, 0.045377008616924286, 0.017050134018063545, 0.009047288447618484, 0.012313255108892918, 0.02402782067656517, 0.007221093866974115, 0.006326052825897932, 0.0, 0.0, 0.0, 0.0], [0.9527865052223206, 0.004107026848942041, 0.011236555874347687, 0.005155759397894144, 0.0026196518447250128, 0.010134806856513023, 0.003625228302553296, 0.005331442225724459, 0.0008751898421905935, 0.003423914546146989, 0.0007037627510726452, 0.0, 0.0, 0.0], [0.9230042695999146, 0.0030359437223523855, 0.011810950003564358, 0.007162712514400482, 0.005343971308320761, 0.006716650910675526, 0.006140596233308315, 0.010529093444347382, 0.0030820767860859632, 0.003426716895774007, 0.005217299330979586, 0.014529794454574585, 0.0, 0.0], [0.9693763852119446, 0.006294517312198877, 0.0007666222518309951, 0.004095311276614666, 0.0019154766341671348, 0.003935510758310556, 0.003299657953903079, 0.0010985645931214094, 0.001272460911422968, 0.0005814280593767762, 0.00022066195379011333, 0.0009984165662899613, 0.006144935730844736, 0.0], [0.7121832370758057, 0.03581186383962631, 0.013497316278517246, 0.015429733321070671, 0.009581142105162144, 0.00892700906842947, 0.10098841041326523, 0.012535040266811848, 0.031891509890556335, 0.017319416627287865, 0.004242889583110809, 0.014268986880779266, 0.017534323036670685, 0.005789014510810375]], [[1.0, 0.0, 0.0, 0.0, 0.0, 0.0, 0.0, 0.0, 0.0, 0.0, 0.0, 0.0, 0.0, 0.0], [0.97501140832901, 0.024988560006022453, 0.0, 0.0, 0.0, 0.0, 0.0, 0.0, 0.0, 0.0, 0.0, 0.0, 0.0, 0.0], [0.9193010926246643, 0.04318849742412567, 0.03751041367650032, 0.0, 0.0, 0.0, 0.0, 0.0, 0.0, 0.0, 0.0, 0.0, 0.0, 0.0], [0.8232775330543518, 0.05274611711502075, 0.06165362522006035, 0.06232277303934097, 0.0, 0.0, 0.0, 0.0, 0.0, 0.0, 0.0, 0.0, 0.0, 0.0], [0.8807376027107239, 0.03194684907793999, 0.026561707258224487, 0.03346194326877594, 0.027291836217045784, 0.0, 0.0, 0.0, 0.0, 0.0, 0.0, 0.0, 0.0, 0.0], [0.4661935865879059, 0.10369541496038437, 0.044078923761844635, 0.08765657246112823, 0.05467978119850159, 0.2436956763267517, 0.0, 0.0, 0.0, 0.0, 0.0, 0.0, 0.0, 0.0], [0.27926382422447205, 0.057305216789245605, 0.027029071003198624, 0.05338514596223831, 0.0444072000682354, 0.17391808331012726, 0.3646914064884186, 0.0, 0.0, 0.0, 0.0, 0.0, 0.0, 0.0], [0.28367120027542114, 0.02703375183045864, 0.018000900745391846, 0.025437023490667343, 0.026323171332478523, 0.12372114509344101, 0.318904310464859, 0.17690850794315338, 0.0, 0.0, 0.0, 0.0, 0.0, 0.0], [0.3384948670864105, 0.06559913605451584, 0.018139634281396866, 0.019244184717535973, 0.02706529200077057, 0.11531521379947662, 0.153237447142601, 0.1967463493347168, 0.06615795940160751, 0.0, 0.0, 0.0, 0.0, 0.0], [0.44332462549209595, 0.023906007409095764, 0.01130314078181982, 0.018106648698449135, 0.03586011752486229, 0.1265333741903305, 0.08131040632724762, 0.12851300835609436, 0.08345434069633484, 0.0476883240044117, 0.0, 0.0, 0.0, 0.0], [0.5801146626472473, 0.010606319643557072, 0.011039628647267818, 0.014020211063325405, 0.014620398171246052, 0.07823769003152847, 0.09540489315986633, 0.0982917845249176, 0.06212121248245239, 0.013709013350307941, 0.02183416858315468, 0.0, 0.0, 0.0], [0.6069410443305969, 0.009796259924769402, 0.008669115602970123, 0.017432039603590965, 0.01678890734910965, 0.05842647701501846, 0.06892156600952148, 0.06906260550022125, 0.02547251246869564, 0.0153218237683177, 0.016718702390789986, 0.08644886314868927, 0.0, 0.0], [0.5848564505577087, 0.010790960863232613, 0.009028815664350986, 0.016465825960040092, 0.021096859127283096, 0.06557665765285492, 0.10655157268047333, 0.04125222563743591, 0.04610598832368851, 0.013120151124894619, 0.008203898556530476, 0.030269768089056015, 0.04668087512254715, 0.0], [0.18751952052116394, 0.03037341870367527, 0.01616779901087284, 0.015502199530601501, 0.023660754784941673, 0.062377139925956726, 0.27890804409980774, 0.06048059090971947, 0.050471216440200806, 0.0207288209348917, 0.01061350479722023, 0.06498934328556061, 0.049551256000995636, 0.12865638732910156]], [[1.0, 0.0, 0.0, 0.0, 0.0, 0.0, 0.0, 0.0, 0.0, 0.0, 0.0, 0.0, 0.0, 0.0], [0.9398906826972961, 0.06010935828089714, 0.0, 0.0, 0.0, 0.0, 0.0, 0.0, 0.0, 0.0, 0.0, 0.0, 0.0, 0.0], [0.853079617023468, 0.09513591229915619, 0.05178455635905266, 0.0, 0.0, 0.0, 0.0, 0.0, 0.0, 0.0, 0.0, 0.0, 0.0, 0.0], [0.7819388508796692, 0.10143052041530609, 0.0671960785984993, 0.0494346059858799, 0.0, 0.0, 0.0, 0.0, 0.0, 0.0, 0.0, 0.0, 0.0, 0.0], [0.8866931796073914, 0.04375482723116875, 0.03848819434642792, 0.012520522810518742, 0.018543168902397156, 0.0, 0.0, 0.0, 0.0, 0.0, 0.0, 0.0, 0.0, 0.0], [0.7584311962127686, 0.04942167177796364, 0.06387640535831451, 0.03626571595668793, 0.03421715274453163, 0.057787876576185226, 0.0, 0.0, 0.0, 0.0, 0.0, 0.0, 0.0, 0.0], [0.7091302871704102, 0.04512907564640045, 0.05275851860642433, 0.049909014254808426, 0.041543908417224884, 0.04032793641090393, 0.06120122969150543, 0.0, 0.0, 0.0, 0.0, 0.0, 0.0, 0.0], [0.6761313676834106, 0.048193033784627914, 0.038143012672662735, 0.042372189462184906, 0.01777910254895687, 0.07389150559902191, 0.07246095687150955, 0.031028788536787033, 0.0, 0.0, 0.0, 0.0, 0.0, 0.0], [0.7373428344726562, 0.02968265488743782, 0.01992052048444748, 0.02302129566669464, 0.07023397088050842, 0.05504505708813667, 0.021678421646356583, 0.014940016902983189, 0.02813524752855301, 0.0, 0.0, 0.0, 0.0, 0.0], [0.5891610383987427, 0.032608047127723694, 0.023876488208770752, 0.06412602961063385, 0.11701469868421555, 0.06284943968057632, 0.03947686403989792, 0.019476739689707756, 0.04130350053310394, 0.010107121430337429, 0.0, 0.0, 0.0, 0.0], [0.8572668433189392, 0.024821750819683075, 0.01674213632941246, 0.007174778264015913, 0.010275175794959068, 0.021368082612752914, 0.018492741510272026, 0.011159970425069332, 0.028488880023360252, 0.002765384968370199, 0.0014442336978390813, 0.0, 0.0, 0.0], [0.5895955562591553, 0.0273609459400177, 0.02075064368546009, 0.024440357461571693, 0.14300841093063354, 0.05731263756752014, 0.04123680293560028, 0.023258205503225327, 0.04008469358086586, 0.007017543539404869, 0.009427757933735847, 0.016506502404808998, 0.0, 0.0], [0.6513399481773376, 0.06691458076238632, 0.03209388628602028, 0.00920988991856575, 0.015963925048708916, 0.04562446102499962, 0.038957029581069946, 0.01447747740894556, 0.03213128447532654, 0.01042649894952774, 0.0021342767868191004, 0.009329145774245262, 0.07139754295349121, 0.0], [0.6959253549575806, 0.02398226037621498, 0.02761073037981987, 0.009663974866271019, 0.008590396493673325, 0.03365986794233322, 0.03610287606716156, 0.021728765219449997, 0.014711825177073479, 0.010234171524643898, 0.002194090746343136, 0.015498585067689419, 0.013780560344457626, 0.08631651848554611]], [[1.0, 0.0, 0.0, 0.0, 0.0, 0.0, 0.0, 0.0, 0.0, 0.0, 0.0, 0.0, 0.0, 0.0], [0.9640522599220276, 0.03594782203435898, 0.0, 0.0, 0.0, 0.0, 0.0, 0.0, 0.0, 0.0, 0.0, 0.0, 0.0, 0.0], [0.8720331192016602, 0.11560271680355072, 0.012364102527499199, 0.0, 0.0, 0.0, 0.0, 0.0, 0.0, 0.0, 0.0, 0.0, 0.0, 0.0], [0.6839606761932373, 0.0798163041472435, 0.08339650183916092, 0.15282653272151947, 0.0, 0.0, 0.0, 0.0, 0.0, 0.0, 0.0, 0.0, 0.0, 0.0], [0.8058080077171326, 0.016589315608143806, 0.021142728626728058, 0.12487474083900452, 0.031585127115249634, 0.0, 0.0, 0.0, 0.0, 0.0, 0.0, 0.0, 0.0, 0.0], [0.8194538354873657, 0.03641829267144203, 0.00757244136184454, 0.03184106573462486, 0.06750471144914627, 0.03720959275960922, 0.0, 0.0, 0.0, 0.0, 0.0, 0.0, 0.0, 0.0], [0.8531826734542847, 0.01712041348218918, 0.0018945859046652913, 0.0032922117970883846, 0.007363098207861185, 0.05660667270421982, 0.060540471225976944, 0.0, 0.0, 0.0, 0.0, 0.0, 0.0, 0.0], [0.603140115737915, 0.014698120765388012, 0.002193850465118885, 0.001013729372061789, 0.0026141793932765722, 0.03431188687682152, 0.25087109208106995, 0.09115701913833618, 0.0, 0.0, 0.0, 0.0, 0.0, 0.0], [0.5111845135688782, 0.004446125589311123, 0.0022205710411071777, 0.00660617183893919, 0.005654531065374613, 0.01650873012840748, 0.2597939372062683, 0.1680450588464737, 0.025540286675095558, 0.0, 0.0, 0.0, 0.0, 0.0], [0.46575918793678284, 0.0033054715022444725, 0.0012934195110574365, 0.0019940740894526243, 0.007469970267266035, 0.012082290835678577, 0.31104952096939087, 0.12963663041591644, 0.05604584887623787, 0.011363589204847813, 0.0, 0.0, 0.0, 0.0], [0.5824437737464905, 0.006620291620492935, 0.003977119456976652, 0.003880527801811695, 0.01722114346921444, 0.014748328365385532, 0.11145923286676407, 0.06371896713972092, 0.10221979767084122, 0.06175484135746956, 0.031956035643815994, 0.0, 0.0, 0.0], [0.5251221060752869, 0.0038558361120522022, 0.0014500792603939772, 0.0060420893132686615, 0.017517106607556343, 0.00908706896007061, 0.12997432053089142, 0.06256585568189621, 0.06775622814893723, 0.05493946373462677, 0.038152944296598434, 0.08353673666715622, 0.0, 0.0], [0.8287180662155151, 0.0007483498775400221, 0.0005253396811895072, 0.0009943852201104164, 0.0014409160939976573, 0.005780244246125221, 0.031430166214704514, 0.0061669135466217995, 0.0070062060840427876, 0.0062887161038815975, 0.001192668336443603, 0.017908435314893723, 0.09179963916540146, 0.0], [0.789661169052124, 0.0055406889878213406, 0.0022427693475037813, 0.00312905665487051, 0.004494824446737766, 0.010840768925845623, 0.04537003114819527, 0.03484606742858887, 0.01064365915954113, 0.00607534684240818, 0.0012890654616057873, 0.009219659492373466, 0.041578616946935654, 0.0350683219730854]], [[1.0, 0.0, 0.0, 0.0, 0.0, 0.0, 0.0, 0.0, 0.0, 0.0, 0.0, 0.0, 0.0, 0.0], [0.9740059971809387, 0.02599402703344822, 0.0, 0.0, 0.0, 0.0, 0.0, 0.0, 0.0, 0.0, 0.0, 0.0, 0.0, 0.0], [0.9076339602470398, 0.08246210217475891, 0.00990393478423357, 0.0, 0.0, 0.0, 0.0, 0.0, 0.0, 0.0, 0.0, 0.0, 0.0, 0.0], [0.8099424242973328, 0.06197962164878845, 0.07667478919029236, 0.051403068006038666, 0.0, 0.0, 0.0, 0.0, 0.0, 0.0, 0.0, 0.0, 0.0, 0.0], [0.7235361337661743, 0.07965811342000961, 0.03739356994628906, 0.1202685758471489, 0.039143696427345276, 0.0, 0.0, 0.0, 0.0, 0.0, 0.0, 0.0, 0.0, 0.0], [0.6699990034103394, 0.032957762479782104, 0.019111676141619682, 0.045026712119579315, 0.1313106119632721, 0.10159426182508469, 0.0, 0.0, 0.0, 0.0, 0.0, 0.0, 0.0, 0.0], [0.6434833407402039, 0.03966289758682251, 0.01788574829697609, 0.022628087550401688, 0.05239129811525345, 0.11122668534517288, 0.11272192001342773, 0.0, 0.0, 0.0, 0.0, 0.0, 0.0, 0.0], [0.4962787628173828, 0.030736416578292847, 0.01709473505616188, 0.017820565029978752, 0.05162627249956131, 0.08183135092258453, 0.2757425606250763, 0.028869297355413437, 0.0, 0.0, 0.0, 0.0, 0.0, 0.0], [0.7163379788398743, 0.011949673295021057, 0.0064430031925439835, 0.011915313079953194, 0.03401739522814751, 0.048194754868745804, 0.07825808227062225, 0.05849124491214752, 0.034392550587654114, 0.0, 0.0, 0.0, 0.0, 0.0], [0.6427942514419556, 0.00504691805690527, 0.0034057360608130693, 0.011429578065872192, 0.01378139853477478, 0.023284537717700005, 0.08627918362617493, 0.04546669125556946, 0.14787869155406952, 0.02063303254544735, 0.0, 0.0, 0.0, 0.0], [0.24342408776283264, 0.018354853615164757, 0.00557372672483325, 0.007430965546518564, 0.01434245239943266, 0.026077482849359512, 0.11965558677911758, 0.07099009305238724, 0.18522343039512634, 0.26337161660194397, 0.045555613934993744, 0.0, 0.0, 0.0], [0.33926641941070557, 0.013763509690761566, 0.004821432754397392, 0.009075132198631763, 0.025097493082284927, 0.011682436801493168, 0.07226799428462982, 0.021542243659496307, 0.23669001460075378, 0.14342047274112701, 0.09224603325128555, 0.030126793310046196, 0.0, 0.0], [0.320296972990036, 0.018709437921643257, 0.01049930788576603, 0.008439473807811737, 0.015399646945297718, 0.022821640595793724, 0.0815512165427208, 0.03399817273020744, 0.08809853345155716, 0.09761679172515869, 0.0856294259428978, 0.14943811297416687, 0.06750129908323288, 0.0], [0.4988609254360199, 0.019660787656903267, 0.01168788317590952, 0.010516186244785786, 0.04209943115711212, 0.08540504425764084, 0.07735130935907364, 0.03273748978972435, 0.019423969089984894, 0.024019209668040276, 0.014841101132333279, 0.024823863059282303, 0.08389757573604584, 0.05467516928911209]], [[1.0, 0.0, 0.0, 0.0, 0.0, 0.0, 0.0, 0.0, 0.0, 0.0, 0.0, 0.0, 0.0, 0.0], [0.966238260269165, 0.03376169875264168, 0.0, 0.0, 0.0, 0.0, 0.0, 0.0, 0.0, 0.0, 0.0, 0.0, 0.0, 0.0], [0.9847507476806641, 0.009687714278697968, 0.005561507306993008, 0.0, 0.0, 0.0, 0.0, 0.0, 0.0, 0.0, 0.0, 0.0, 0.0, 0.0], [0.9633936882019043, 0.016512392088770866, 0.006635334342718124, 0.013458681292831898, 0.0, 0.0, 0.0, 0.0, 0.0, 0.0, 0.0, 0.0, 0.0, 0.0], [0.931622326374054, 0.019490396603941917, 0.012913624756038189, 0.00488024577498436, 0.031093504279851913, 0.0, 0.0, 0.0, 0.0, 0.0, 0.0, 0.0, 0.0, 0.0], [0.515004575252533, 0.18314383924007416, 0.03596024587750435, 0.016554558649659157, 0.08848219364881516, 0.16085459291934967, 0.0, 0.0, 0.0, 0.0, 0.0, 0.0, 0.0, 0.0], [0.7386288642883301, 0.09367941319942474, 0.023152168840169907, 0.024645552039146423, 0.032094839960336685, 0.04734661057591438, 0.040452565997838974, 0.0, 0.0, 0.0, 0.0, 0.0, 0.0, 0.0], [0.8433089256286621, 0.05382796376943588, 0.021994149312376976, 0.009871275164186954, 0.019973954185843468, 0.012178086675703526, 0.031247666105628014, 0.007598050404340029, 0.0, 0.0, 0.0, 0.0, 0.0, 0.0], [0.5891109704971313, 0.15371721982955933, 0.0772642269730568, 0.01245669461786747, 0.09115374088287354, 0.0424041748046875, 0.0090700788423419, 0.01599864847958088, 0.008824191987514496, 0.0, 0.0, 0.0, 0.0, 0.0], [0.722785472869873, 0.01254130620509386, 0.05177869647741318, 0.04476846009492874, 0.04021289944648743, 0.05635141208767891, 0.021419774740934372, 0.014655834063887596, 0.030596083030104637, 0.004890004638582468, 0.0, 0.0, 0.0, 0.0], [0.8657515645027161, 0.009764700196683407, 0.00509754428640008, 0.003062234725803137, 0.04337729513645172, 0.043789349496364594, 0.012481429614126682, 0.007742693647742271, 0.0025167574640363455, 0.0022297976538538933, 0.004186752252280712, 0.0, 0.0, 0.0], [0.9552502036094666, 0.001403305446729064, 0.0005099980044178665, 0.0029087259899824858, 0.013057592324912548, 0.003697679378092289, 0.0056322310119867325, 0.005455062724649906, 0.008187809027731419, 0.0003953460545744747, 0.0006094704731367528, 0.0028925861697643995, 0.0, 0.0], [0.960192859172821, 0.0014366941759362817, 0.0012812035856768489, 0.0016634567873552442, 0.002316252561286092, 0.007973619736731052, 0.004525098484009504, 0.008808523416519165, 0.0034827422350645065, 0.00017681680037640035, 0.00022343809541780502, 0.0005773212178610265, 0.007341868244111538, 0.0], [0.6323707699775696, 0.05998540669679642, 0.015370221808552742, 0.014340520836412907, 0.018103985115885735, 0.06908614933490753, 0.047914057970047, 0.023944003507494926, 0.022671809419989586, 0.005022955592721701, 0.02011866681277752, 0.017473116517066956, 0.01961742341518402, 0.03398100659251213]], [[1.0, 0.0, 0.0, 0.0, 0.0, 0.0, 0.0, 0.0, 0.0, 0.0, 0.0, 0.0, 0.0, 0.0], [0.799710214138031, 0.20028986036777496, 0.0, 0.0, 0.0, 0.0, 0.0, 0.0, 0.0, 0.0, 0.0, 0.0, 0.0, 0.0], [0.2617572247982025, 0.7068997621536255, 0.031342942267656326, 0.0, 0.0, 0.0, 0.0, 0.0, 0.0, 0.0, 0.0, 0.0, 0.0, 0.0], [0.184273824095726, 0.544483482837677, 0.23324434459209442, 0.03799835592508316, 0.0, 0.0, 0.0, 0.0, 0.0, 0.0, 0.0, 0.0, 0.0, 0.0], [0.39395517110824585, 0.14566941559314728, 0.16499076783657074, 0.264848917722702, 0.030535729601979256, 0.0, 0.0, 0.0, 0.0, 0.0, 0.0, 0.0, 0.0, 0.0], [0.9421206116676331, 0.026842139661312103, 0.004133473616093397, 0.003660846734419465, 0.01599002629518509, 0.007252936717122793, 0.0, 0.0, 0.0, 0.0, 0.0, 0.0, 0.0, 0.0], [0.9045761823654175, 0.018877146765589714, 0.0024998297449201345, 0.006733307149261236, 0.008329467847943306, 0.035160284489393234, 0.02382371388375759, 0.0, 0.0, 0.0, 0.0, 0.0, 0.0, 0.0], [0.7731731534004211, 0.01968221552670002, 0.002434212015941739, 0.002905585803091526, 0.007203697692602873, 0.04393739253282547, 0.12594568729400635, 0.02471812441945076, 0.0, 0.0, 0.0, 0.0, 0.0, 0.0], [0.7578260898590088, 0.01625918224453926, 0.0020662404131144285, 0.00531052378937602, 0.01409568078815937, 0.03625451400876045, 0.049862056970596313, 0.09539011120796204, 0.02293568290770054, 0.0, 0.0, 0.0, 0.0, 0.0], [0.5369577407836914, 0.00925302505493164, 0.0034510225523263216, 0.005670278798788786, 0.01274123229086399, 0.018123989924788475, 0.0514974519610405, 0.02674478478729725, 0.2556234300136566, 0.0799369066953659, 0.0, 0.0, 0.0, 0.0], [0.5576096773147583, 0.017742836847901344, 0.004442259203642607, 0.004721759352833033, 0.005429065320640802, 0.023872828111052513, 0.03283556178212166, 0.027597887441515923, 0.16439898312091827, 0.15306156873703003, 0.008287577889859676, 0.0, 0.0, 0.0], [0.5325148105621338, 0.007526069413870573, 0.0027613199781626463, 0.002945884130895138, 0.007367454003542662, 0.025281043723225594, 0.04920782148838043, 0.010460259392857552, 0.12662525475025177, 0.08352884650230408, 0.06820215284824371, 0.08357900381088257, 0.0, 0.0], [0.8300154209136963, 0.003915196284651756, 0.0015535569982603192, 0.0016116905026137829, 0.0036343305837363005, 0.014683078974485397, 0.015963491052389145, 0.003180002560839057, 0.012769769877195358, 0.013547355309128761, 0.01086950022727251, 0.03361037001013756, 0.054646242409944534, 0.0], [0.9380554556846619, 0.002902562962844968, 0.0007561101228930056, 0.0004860771878156811, 0.002140792552381754, 0.001956139225512743, 0.006594900041818619, 0.0030841452535241842, 0.002499061869457364, 0.003031123662367463, 0.0024558543227612972, 0.005130958277732134, 0.0239349827170372, 0.006971820257604122]], [[1.0, 0.0, 0.0, 0.0, 0.0, 0.0, 0.0, 0.0, 0.0, 0.0, 0.0, 0.0, 0.0, 0.0], [0.9386388659477234, 0.061361175030469894, 0.0, 0.0, 0.0, 0.0, 0.0, 0.0, 0.0, 0.0, 0.0, 0.0, 0.0, 0.0], [0.8308618664741516, 0.14442801475524902, 0.024710074067115784, 0.0, 0.0, 0.0, 0.0, 0.0, 0.0, 0.0, 0.0, 0.0, 0.0, 0.0], [0.6629433035850525, 0.2277803272008896, 0.06946104019880295, 0.039815373718738556, 0.0, 0.0, 0.0, 0.0, 0.0, 0.0, 0.0, 0.0, 0.0, 0.0], [0.8707120418548584, 0.03830404207110405, 0.03146025910973549, 0.026283172890543938, 0.03324049338698387, 0.0, 0.0, 0.0, 0.0, 0.0, 0.0, 0.0, 0.0, 0.0], [0.6398454308509827, 0.11901023983955383, 0.03189854323863983, 0.06759219616651535, 0.0735081359744072, 0.06814539432525635, 0.0, 0.0, 0.0, 0.0, 0.0, 0.0, 0.0, 0.0], [0.5215676426887512, 0.10561354458332062, 0.0475538894534111, 0.08313403278589249, 0.11259541660547256, 0.07787278294563293, 0.05166266858577728, 0.0, 0.0, 0.0, 0.0, 0.0, 0.0, 0.0], [0.49164101481437683, 0.07381949573755264, 0.05516219884157181, 0.052776362746953964, 0.09134689718484879, 0.12449928373098373, 0.08491379767656326, 0.025840936228632927, 0.0, 0.0, 0.0, 0.0, 0.0, 0.0], [0.5227029919624329, 0.0648457333445549, 0.036653969436883926, 0.07873482257127762, 0.1511048823595047, 0.0739300474524498, 0.03973314166069031, 0.01266808807849884, 0.01962634176015854, 0.0, 0.0, 0.0, 0.0, 0.0], [0.526129961013794, 0.03123505413532257, 0.0422324612736702, 0.10732543468475342, 0.08733948320150375, 0.05169219523668289, 0.06616534292697906, 0.01845085807144642, 0.031168147921562195, 0.03826113045215607, 0.0, 0.0, 0.0, 0.0], [0.49079981446266174, 0.07434563338756561, 0.0392703115940094, 0.0872519463300705, 0.10424742847681046, 0.05417656898498535, 0.03895685076713562, 0.013353005982935429, 0.03521323204040527, 0.03812764585018158, 0.024257581681013107, 0.0, 0.0, 0.0], [0.29330796003341675, 0.05636845529079437, 0.03254261985421181, 0.11507180333137512, 0.13387317955493927, 0.12549936771392822, 0.0372258760035038, 0.010444549843668938, 0.025604503229260445, 0.035026807337999344, 0.06625300645828247, 0.06878182291984558, 0.0, 0.0], [0.6688733696937561, 0.03506472706794739, 0.014853043481707573, 0.04035164415836334, 0.03718062490224838, 0.03345734253525734, 0.02118483930826187, 0.005474403500556946, 0.016692114993929863, 0.0076908874325454235, 0.003659535199403763, 0.015050085261464119, 0.10046734660863876, 0.0], [0.6052157282829285, 0.027877356857061386, 0.014982253313064575, 0.018124084919691086, 0.01721132919192314, 0.019070355221629143, 0.023418202996253967, 0.019456306472420692, 0.019684704020619392, 0.007005155086517334, 0.015362800098955631, 0.021802887320518494, 0.15364699065685272, 0.0371418334543705]], [[1.0, 0.0, 0.0, 0.0, 0.0, 0.0, 0.0, 0.0, 0.0, 0.0, 0.0, 0.0, 0.0, 0.0], [0.9630146622657776, 0.03698529675602913, 0.0, 0.0, 0.0, 0.0, 0.0, 0.0, 0.0, 0.0, 0.0, 0.0, 0.0, 0.0], [0.8848019242286682, 0.06494762748479843, 0.050250399857759476, 0.0, 0.0, 0.0, 0.0, 0.0, 0.0, 0.0, 0.0, 0.0, 0.0, 0.0], [0.7803124189376831, 0.0698116347193718, 0.048593662679195404, 0.10128233581781387, 0.0, 0.0, 0.0, 0.0, 0.0, 0.0, 0.0, 0.0, 0.0, 0.0], [0.8433914184570312, 0.03272225335240364, 0.03260531276464462, 0.03794832527637482, 0.053332578390836716, 0.0, 0.0, 0.0, 0.0, 0.0, 0.0, 0.0, 0.0, 0.0], [0.84676194190979, 0.0331890806555748, 0.01940925046801567, 0.027042606845498085, 0.02477334626019001, 0.04882378131151199, 0.0, 0.0, 0.0, 0.0, 0.0, 0.0, 0.0, 0.0], [0.7428073287010193, 0.034363213926553726, 0.017924973741173744, 0.032140813767910004, 0.04463856294751167, 0.09035034477710724, 0.03777468949556351, 0.0, 0.0, 0.0, 0.0, 0.0, 0.0, 0.0], [0.631466805934906, 0.03156673163175583, 0.020723948255181313, 0.03279422968626022, 0.03415655344724655, 0.10895651578903198, 0.10670480877161026, 0.03363034129142761, 0.0, 0.0, 0.0, 0.0, 0.0, 0.0], [0.7994955778121948, 0.018379393965005875, 0.01661306992173195, 0.024604540318250656, 0.023930134251713753, 0.04487473890185356, 0.02849053032696247, 0.024132834747433662, 0.019479159265756607, 0.0, 0.0, 0.0, 0.0, 0.0], [0.7870902419090271, 0.015327183529734612, 0.01877407729625702, 0.03628839552402496, 0.03029683418571949, 0.03897038847208023, 0.0138653963804245, 0.01480516605079174, 0.02753506414592266, 0.01704721711575985, 0.0, 0.0, 0.0, 0.0], [0.8953160047531128, 0.005170641466975212, 0.008139670826494694, 0.02116597630083561, 0.02196531370282173, 0.01295197382569313, 0.006529097445309162, 0.008516620844602585, 0.007660753093659878, 0.0058308872394263744, 0.006752954795956612, 0.0, 0.0, 0.0], [0.8443191647529602, 0.0066532171331346035, 0.012125864624977112, 0.020658111199736595, 0.023723987862467766, 0.02481788396835327, 0.011214998550713062, 0.015106137841939926, 0.011165129952132702, 0.008108401671051979, 0.011879070661962032, 0.010228189639747143, 0.0, 0.0], [0.8473203778266907, 0.010294093750417233, 0.006988413166254759, 0.005717040039598942, 0.009075598791241646, 0.00889124721288681, 0.007251168601214886, 0.0036866883747279644, 0.01275620423257351, 0.003494926728308201, 0.00905280839651823, 0.00603879801928997, 0.06943253427743912, 0.0], [0.48238879442214966, 0.015612666495144367, 0.011179118417203426, 0.011056756600737572, 0.010747834108769894, 0.03705604374408722, 0.07197900116443634, 0.02134617418050766, 0.0319923534989357, 0.017988458275794983, 0.01892680861055851, 0.03207894414663315, 0.15980377793312073, 0.07784318923950195]], [[1.0, 0.0, 0.0, 0.0, 0.0, 0.0, 0.0, 0.0, 0.0, 0.0, 0.0, 0.0, 0.0, 0.0], [0.944852352142334, 0.05514765903353691, 0.0, 0.0, 0.0, 0.0, 0.0, 0.0, 0.0, 0.0, 0.0, 0.0, 0.0, 0.0], [0.8623100519180298, 0.0732099711894989, 0.06448002904653549, 0.0, 0.0, 0.0, 0.0, 0.0, 0.0, 0.0, 0.0, 0.0, 0.0, 0.0], [0.7781650424003601, 0.10287880897521973, 0.03979036584496498, 0.07916576415300369, 0.0, 0.0, 0.0, 0.0, 0.0, 0.0, 0.0, 0.0, 0.0, 0.0], [0.8453438878059387, 0.03894969820976257, 0.030766669660806656, 0.04003021866083145, 0.044909533113241196, 0.0, 0.0, 0.0, 0.0, 0.0, 0.0, 0.0, 0.0, 0.0], [0.7046573162078857, 0.0610293447971344, 0.051451101899147034, 0.030099084600806236, 0.07033960521221161, 0.08242356777191162, 0.0, 0.0, 0.0, 0.0, 0.0, 0.0, 0.0, 0.0], [0.7492187023162842, 0.058684322983026505, 0.04148026555776596, 0.015199679881334305, 0.03246702998876572, 0.04119354858994484, 0.06175633892416954, 0.0, 0.0, 0.0, 0.0, 0.0, 0.0, 0.0], [0.7232107520103455, 0.059978749603033066, 0.04375854879617691, 0.008807838894426823, 0.020108411088585854, 0.039325349032878876, 0.07483597844839096, 0.029974306002259254, 0.0, 0.0, 0.0, 0.0, 0.0, 0.0], [0.6984867453575134, 0.0405229851603508, 0.03108801320195198, 0.019652951508760452, 0.03763829916715622, 0.07315508276224136, 0.038020167499780655, 0.026990825310349464, 0.034445036202669144, 0.0, 0.0, 0.0, 0.0, 0.0], [0.5887132883071899, 0.01824086159467697, 0.037521928548812866, 0.038154859095811844, 0.05237989500164986, 0.05644461512565613, 0.06661053746938705, 0.04537279158830643, 0.033201754093170166, 0.06335952132940292, 0.0, 0.0, 0.0, 0.0], [0.628334105014801, 0.021370500326156616, 0.02622132934629917, 0.014294068329036236, 0.09205987304449081, 0.08773598074913025, 0.014103278517723083, 0.022245759144425392, 0.0348152220249176, 0.02351502701640129, 0.035304781049489975, 0.0, 0.0, 0.0], [0.5161744952201843, 0.02650764398276806, 0.029255980625748634, 0.025043733417987823, 0.09640037268400192, 0.10574696958065033, 0.017641594633460045, 0.01741599664092064, 0.04193778336048126, 0.02486896887421608, 0.02759012207388878, 0.07141632586717606, 0.0, 0.0], [0.612086832523346, 0.0407961942255497, 0.014074867591261864, 0.00708959624171257, 0.04097553715109825, 0.07139244675636292, 0.0182996466755867, 0.01158909872174263, 0.051484763622283936, 0.016546202823519707, 0.005918093957006931, 0.027895487844944, 0.08185121417045593, 0.0], [0.5111894011497498, 0.02353583835065365, 0.017287753522396088, 0.0037922419141978025, 0.010045074857771397, 0.02760498970746994, 0.13160690665245056, 0.024989765137434006, 0.047019802033901215, 0.015445391647517681, 0.004025118425488472, 0.024840829893946648, 0.04563038796186447, 0.1129864752292633]], [[1.0, 0.0, 0.0, 0.0, 0.0, 0.0, 0.0, 0.0, 0.0, 0.0, 0.0, 0.0, 0.0, 0.0], [0.9781674742698669, 0.021832454949617386, 0.0, 0.0, 0.0, 0.0, 0.0, 0.0, 0.0, 0.0, 0.0, 0.0, 0.0, 0.0], [0.9479866623878479, 0.042326584458351135, 0.009686736389994621, 0.0, 0.0, 0.0, 0.0, 0.0, 0.0, 0.0, 0.0, 0.0, 0.0, 0.0], [0.8588236570358276, 0.10317430645227432, 0.017899885773658752, 0.02010214328765869, 0.0, 0.0, 0.0, 0.0, 0.0, 0.0, 0.0, 0.0, 0.0, 0.0], [0.9505132436752319, 0.018861588090658188, 0.016894249245524406, 0.010160687379539013, 0.0035701398737728596, 0.0, 0.0, 0.0, 0.0, 0.0, 0.0, 0.0, 0.0, 0.0], [0.7417382001876831, 0.0846487507224083, 0.0339067280292511, 0.045940134674310684, 0.019374407827854156, 0.07439183443784714, 0.0, 0.0, 0.0, 0.0, 0.0, 0.0, 0.0, 0.0], [0.8571470975875854, 0.030174512416124344, 0.011662691831588745, 0.021622534841299057, 0.02639181725680828, 0.039666447788476944, 0.013334876857697964, 0.0, 0.0, 0.0, 0.0, 0.0, 0.0, 0.0], [0.8450461030006409, 0.02780328318476677, 0.011347407475113869, 0.018588831648230553, 0.016756463795900345, 0.040198929607868195, 0.018281128257513046, 0.021977728232741356, 0.0, 0.0, 0.0, 0.0, 0.0, 0.0], [0.7767179012298584, 0.04491855949163437, 0.014018130488693714, 0.02177635207772255, 0.03168328478932381, 0.04115001857280731, 0.017478803172707558, 0.019167449325323105, 0.03308943286538124, 0.0, 0.0, 0.0, 0.0, 0.0], [0.7978204488754272, 0.014163941144943237, 0.00826707761734724, 0.035605087876319885, 0.03561580181121826, 0.023341158404946327, 0.02593700774013996, 0.01857493817806244, 0.028279997408390045, 0.01239478774368763, 0.0, 0.0, 0.0, 0.0], [0.8647696375846863, 0.013906511478126049, 0.007022131234407425, 0.013627342879772186, 0.013081343844532967, 0.018540455028414726, 0.015329824760556221, 0.020214581862092018, 0.012982217594981194, 0.010872220620512962, 0.009653676301240921, 0.0, 0.0, 0.0], [0.8270886540412903, 0.014469044283032417, 0.008919119834899902, 0.021958936005830765, 0.02523372881114483, 0.02115025371313095, 0.0236880574375391, 0.013708864338696003, 0.013259485363960266, 0.009235868230462074, 0.012333878315985203, 0.00895405001938343, 0.0, 0.0], [0.797339141368866, 0.025001974776387215, 0.007776882499456406, 0.009644017554819584, 0.03073865920305252, 0.021449429914355278, 0.009408668614923954, 0.008786025457084179, 0.03688498213887215, 0.009813538752496243, 0.0037491810508072376, 0.005549982190132141, 0.03385758027434349, 0.0], [0.733736515045166, 0.04066546633839607, 0.016477562487125397, 0.015244743786752224, 0.004329181741923094, 0.026604851707816124, 0.012083271518349648, 0.026176922023296356, 0.032968513667583466, 0.00781962089240551, 0.010278035886585712, 0.008003332652151585, 0.03534352406859398, 0.030268384143710136]]], [[[1.0, 0.0, 0.0, 0.0, 0.0, 0.0, 0.0, 0.0, 0.0, 0.0, 0.0, 0.0, 0.0, 0.0], [0.9371930360794067, 0.06280691176652908, 0.0, 0.0, 0.0, 0.0, 0.0, 0.0, 0.0, 0.0, 0.0, 0.0, 0.0, 0.0], [0.7885909080505371, 0.15867367386817932, 0.05273542180657387, 0.0, 0.0, 0.0, 0.0, 0.0, 0.0, 0.0, 0.0, 0.0, 0.0, 0.0], [0.8211374282836914, 0.13109642267227173, 0.0259237140417099, 0.021842435002326965, 0.0, 0.0, 0.0, 0.0, 0.0, 0.0, 0.0, 0.0, 0.0, 0.0], [0.9243436455726624, 0.014157637022435665, 0.007839268073439598, 0.027011031284928322, 0.026648424565792084, 0.0, 0.0, 0.0, 0.0, 0.0, 0.0, 0.0, 0.0, 0.0], [0.8925323486328125, 0.016977563500404358, 0.014827100560069084, 0.025838645175099373, 0.03279685974121094, 0.017027391120791435, 0.0, 0.0, 0.0, 0.0, 0.0, 0.0, 0.0, 0.0], [0.8076174855232239, 0.019897516816854477, 0.021642841398715973, 0.052595190703868866, 0.06031902879476547, 0.01483425498008728, 0.023093732073903084, 0.0, 0.0, 0.0, 0.0, 0.0, 0.0, 0.0], [0.883240818977356, 0.01791129820048809, 0.011160764843225479, 0.019728193059563637, 0.03434022143483162, 0.014179742895066738, 0.011633344925940037, 0.0078056189231574535, 0.0, 0.0, 0.0, 0.0, 0.0, 0.0], [0.672264575958252, 0.09198509901762009, 0.03837200999259949, 0.04199233278632164, 0.08464136719703674, 0.017297059297561646, 0.02691791206598282, 0.011449644342064857, 0.015080112963914871, 0.0, 0.0, 0.0, 0.0, 0.0], [0.5546826720237732, 0.07226523011922836, 0.03507019579410553, 0.07442702353000641, 0.10423818230628967, 0.01648568920791149, 0.02208106406033039, 0.007777825463563204, 0.07062695175409317, 0.04234505072236061, 0.0, 0.0, 0.0, 0.0], [0.7519797086715698, 0.05888991430401802, 0.023321930319070816, 0.02017899788916111, 0.031201738864183426, 0.006505738012492657, 0.010663514025509357, 0.0023801755160093307, 0.03186999633908272, 0.031360648572444916, 0.03164764866232872, 0.0, 0.0, 0.0], [0.49668973684310913, 0.0625765323638916, 0.04532521218061447, 0.03980280086398125, 0.10583831369876862, 0.0052572074346244335, 0.014093339443206787, 0.003740817541256547, 0.06591726839542389, 0.042960938066244125, 0.09741059690713882, 0.02038721553981304, 0.0, 0.0], [0.9176657199859619, 0.009865392930805683, 0.003113693092018366, 0.0033454815857112408, 0.0048666163347661495, 0.007609402760863304, 0.0021758151706308126, 0.0010981395607814193, 0.005227639339864254, 0.002886965638026595, 0.0007255650125443935, 0.003586490172892809, 0.03783310577273369, 0.0], [0.7986888885498047, 0.0363275371491909, 0.020042041316628456, 0.009869396686553955, 0.008452864363789558, 0.019077228382229805, 0.00932227447628975, 0.005681029986590147, 0.021605363115668297, 0.004498369991779327, 0.004416842479258776, 0.005229454021900892, 0.0350751169025898, 0.021713532507419586]], [[1.0, 0.0, 0.0, 0.0, 0.0, 0.0, 0.0, 0.0, 0.0, 0.0, 0.0, 0.0, 0.0, 0.0], [0.9497689008712769, 0.05023101717233658, 0.0, 0.0, 0.0, 0.0, 0.0, 0.0, 0.0, 0.0, 0.0, 0.0, 0.0, 0.0], [0.9549298286437988, 0.021902145817875862, 0.02316794916987419, 0.0, 0.0, 0.0, 0.0, 0.0, 0.0, 0.0, 0.0, 0.0, 0.0, 0.0], [0.9358855485916138, 0.04265328496694565, 0.003675200743600726, 0.01778593100607395, 0.0, 0.0, 0.0, 0.0, 0.0, 0.0, 0.0, 0.0, 0.0, 0.0], [0.9476527571678162, 0.03115883469581604, 0.007770254742354155, 0.008519094437360764, 0.004898993298411369, 0.0, 0.0, 0.0, 0.0, 0.0, 0.0, 0.0, 0.0, 0.0], [0.8967181444168091, 0.0354921855032444, 0.010702480562031269, 0.02887609973549843, 0.009503744542598724, 0.01870730146765709, 0.0, 0.0, 0.0, 0.0, 0.0, 0.0, 0.0, 0.0], [0.8782075047492981, 0.03442003205418587, 0.007116703316569328, 0.007547617889940739, 0.004187118727713823, 0.017016785219311714, 0.051504138857126236, 0.0, 0.0, 0.0, 0.0, 0.0, 0.0, 0.0], [0.9059498310089111, 0.011361639015376568, 0.002696559764444828, 0.004559741821140051, 0.001746965921483934, 0.0047766705974936485, 0.051133494824171066, 0.017775017768144608, 0.0, 0.0, 0.0, 0.0, 0.0, 0.0], [0.8413857221603394, 0.09772105515003204, 0.01151819247752428, 0.007611227221786976, 0.005726463161408901, 0.012245282530784607, 0.008370370604097843, 0.004808999132364988, 0.010612630285322666, 0.0, 0.0, 0.0, 0.0, 0.0], [0.9081282019615173, 0.011994484812021255, 0.0334070548415184, 0.00939991045743227, 0.002084549516439438, 0.01046343706548214, 0.006952313240617514, 0.002608944196254015, 0.005637899972498417, 0.009323380887508392, 0.0, 0.0, 0.0, 0.0], [0.9572579264640808, 0.0038271676748991013, 0.0023578216787427664, 0.006487324833869934, 0.005511565133929253, 0.008262469433248043, 0.0018182607600465417, 0.0012520157033577561, 0.002017522929236293, 0.004986115265637636, 0.0062218355014920235, 0.0, 0.0, 0.0], [0.9315628409385681, 0.002657560398802161, 0.0026492804754525423, 0.0031563343945890665, 0.002549901604652405, 0.0025039254687726498, 0.0025206308346241713, 0.0012883726740255952, 0.004702576901763678, 0.0027758225332945585, 0.006338660605251789, 0.037293918430805206, 0.0, 0.0], [0.897167444229126, 0.013334630988538265, 0.006105537060648203, 0.00947085302323103, 0.004663276020437479, 0.01447224523872137, 0.017152804881334305, 0.003636944340541959, 0.009212924167513847, 0.004121976438909769, 0.0008654914563521743, 0.0114591708406806, 0.008336653001606464, 0.0], [0.7315875291824341, 0.025093309581279755, 0.01002446934580803, 0.014138217084109783, 0.003984535112977028, 0.022789284586906433, 0.056974638253450394, 0.008671319112181664, 0.03455391526222229, 0.007232080213725567, 0.005713644903153181, 0.02133025787770748, 0.008812284097075462, 0.049094535410404205]], [[1.0, 0.0, 0.0, 0.0, 0.0, 0.0, 0.0, 0.0, 0.0, 0.0, 0.0, 0.0, 0.0, 0.0], [0.9044656753540039, 0.09553434699773788, 0.0, 0.0, 0.0, 0.0, 0.0, 0.0, 0.0, 0.0, 0.0, 0.0, 0.0, 0.0], [0.8763434290885925, 0.10107298195362091, 0.02258365973830223, 0.0, 0.0, 0.0, 0.0, 0.0, 0.0, 0.0, 0.0, 0.0, 0.0, 0.0], [0.8102647066116333, 0.1419747769832611, 0.02325461618602276, 0.024505961686372757, 0.0, 0.0, 0.0, 0.0, 0.0, 0.0, 0.0, 0.0, 0.0, 0.0], [0.8978707790374756, 0.014491830952465534, 0.00985343474894762, 0.013960928656160831, 0.06382307410240173, 0.0, 0.0, 0.0, 0.0, 0.0, 0.0, 0.0, 0.0, 0.0], [0.6395318508148193, 0.037465862929821014, 0.016424907371401787, 0.07435683906078339, 0.12538516521453857, 0.1068354919552803, 0.0, 0.0, 0.0, 0.0, 0.0, 0.0, 0.0, 0.0], [0.6813391447067261, 0.04683041200041771, 0.018230631947517395, 0.04943285882472992, 0.053423572331666946, 0.09474451094865799, 0.05599889159202576, 0.0, 0.0, 0.0, 0.0, 0.0, 0.0, 0.0], [0.648926854133606, 0.08153091371059418, 0.019734296947717667, 0.015385877341032028, 0.04033268243074417, 0.07286128401756287, 0.08817397803068161, 0.03305415064096451, 0.0, 0.0, 0.0, 0.0, 0.0, 0.0], [0.6960113048553467, 0.04907236620783806, 0.019342567771673203, 0.015005584806203842, 0.060907844454050064, 0.07501043379306793, 0.05610117316246033, 0.02104473114013672, 0.007504014298319817, 0.0, 0.0, 0.0, 0.0, 0.0], [0.5440723299980164, 0.0672726035118103, 0.03838055580854416, 0.01872912608087063, 0.0652468129992485, 0.11145661026239395, 0.08863897621631622, 0.036049943417310715, 0.015237653627991676, 0.014915494248270988, 0.0, 0.0, 0.0, 0.0], [0.8602471351623535, 0.021673474460840225, 0.01202766876667738, 0.015021171420812607, 0.03328687325119972, 0.020733902230858803, 0.00984808150678873, 0.0031902992632240057, 0.007975934073328972, 0.0019411931280046701, 0.014054389670491219, 0.0, 0.0, 0.0], [0.7610655426979065, 0.025783592835068703, 0.011913318186998367, 0.030265457928180695, 0.039255328476428986, 0.028971556574106216, 0.033893462270498276, 0.011560744605958462, 0.010480586439371109, 0.006608119234442711, 0.02440425008535385, 0.015797968953847885, 0.0, 0.0], [0.9211969971656799, 0.005025004968047142, 0.0026938552036881447, 0.0014022142859175801, 0.0032238196581602097, 0.00984909012913704, 0.00518417963758111, 0.0029983106069266796, 0.0013845383655279875, 0.0008013728074729443, 0.001069418154656887, 0.001606046687811613, 0.04356512799859047, 0.0], [0.669217586517334, 0.02046394720673561, 0.011928733438253403, 0.011380691081285477, 0.019880009815096855, 0.0485803447663784, 0.02504906803369522, 0.013836285099387169, 0.011132589541375637, 0.007728009484708309, 0.0055921138264238834, 0.01578914374113083, 0.09051364660263062, 0.04890784993767738]], [[1.0, 0.0, 0.0, 0.0, 0.0, 0.0, 0.0, 0.0, 0.0, 0.0, 0.0, 0.0, 0.0, 0.0], [0.944682240486145, 0.05531774088740349, 0.0, 0.0, 0.0, 0.0, 0.0, 0.0, 0.0, 0.0, 0.0, 0.0, 0.0, 0.0], [0.7466581463813782, 0.24127855896949768, 0.012063276953995228, 0.0, 0.0, 0.0, 0.0, 0.0, 0.0, 0.0, 0.0, 0.0, 0.0, 0.0], [0.6392340064048767, 0.1505194902420044, 0.11943907290697098, 0.09080740809440613, 0.0, 0.0, 0.0, 0.0, 0.0, 0.0, 0.0, 0.0, 0.0, 0.0], [0.7124048471450806, 0.049313850700855255, 0.04999259486794472, 0.16092681884765625, 0.027361830696463585, 0.0, 0.0, 0.0, 0.0, 0.0, 0.0, 0.0, 0.0, 0.0], [0.76993727684021, 0.024061016738414764, 0.004086324479430914, 0.02002567984163761, 0.08209016919136047, 0.0997997373342514, 0.0, 0.0, 0.0, 0.0, 0.0, 0.0, 0.0, 0.0], [0.39935916662216187, 0.042143408209085464, 0.007105434313416481, 0.017896553501486778, 0.05606207996606827, 0.3196907937526703, 0.1577424854040146, 0.0, 0.0, 0.0, 0.0, 0.0, 0.0, 0.0], [0.32226452231407166, 0.061276160180568695, 0.004617751110345125, 0.01016407459974289, 0.05213799700140953, 0.17518800497055054, 0.3279138505458832, 0.046437639743089676, 0.0, 0.0, 0.0, 0.0, 0.0, 0.0], [0.4108143150806427, 0.02641293965280056, 0.003321913769468665, 0.004926890600472689, 0.03702656179666519, 0.1068953275680542, 0.2399265319108963, 0.13344521820545197, 0.037230346351861954, 0.0, 0.0, 0.0, 0.0, 0.0], [0.5168769359588623, 0.016161294654011726, 0.00255564134567976, 0.005292294081300497, 0.03856811672449112, 0.05378914251923561, 0.16142190992832184, 0.04048923775553703, 0.1286541223526001, 0.03619123622775078, 0.0, 0.0, 0.0, 0.0], [0.5224135518074036, 0.016648532822728157, 0.0037160192150622606, 0.003766305511817336, 0.017400654032826424, 0.05720910429954529, 0.08986220508813858, 0.04725620150566101, 0.054694417864084244, 0.15275181829929352, 0.034281134605407715, 0.0, 0.0, 0.0], [0.4905756413936615, 0.009033208712935448, 0.0014287406811490655, 0.006372811272740364, 0.015510475262999535, 0.03801938146352768, 0.10948195308446884, 0.02341950498521328, 0.050241827964782715, 0.06339491158723831, 0.16949471831321716, 0.02302676998078823, 0.0, 0.0], [0.39196211099624634, 0.014285068027675152, 0.008874423801898956, 0.009111851453781128, 0.01001366414129734, 0.07085296511650085, 0.08319225907325745, 0.03452229127287865, 0.04420348256826401, 0.07102958858013153, 0.04955095425248146, 0.050479039549827576, 0.16192227602005005, 0.0], [0.5853632092475891, 0.01682509109377861, 0.004118340089917183, 0.006032782606780529, 0.014832197688519955, 0.043166689574718475, 0.043284669518470764, 0.008663581684231758, 0.023151196539402008, 0.02605569362640381, 0.004919765517115593, 0.007054517511278391, 0.19706730544567108, 0.019465027377009392]], [[1.0, 0.0, 0.0, 0.0, 0.0, 0.0, 0.0, 0.0, 0.0, 0.0, 0.0, 0.0, 0.0, 0.0], [0.9860724210739136, 0.01392750907689333, 0.0, 0.0, 0.0, 0.0, 0.0, 0.0, 0.0, 0.0, 0.0, 0.0, 0.0, 0.0], [0.9963691234588623, 0.0027767124120146036, 0.0008540820563212037, 0.0, 0.0, 0.0, 0.0, 0.0, 0.0, 0.0, 0.0, 0.0, 0.0, 0.0], [0.974242627620697, 0.005651616491377354, 0.0014152027433738112, 0.01869054138660431, 0.0, 0.0, 0.0, 0.0, 0.0, 0.0, 0.0, 0.0, 0.0, 0.0], [0.9492325186729431, 0.012529504485428333, 0.004798128269612789, 0.016785576939582825, 0.016654346138238907, 0.0, 0.0, 0.0, 0.0, 0.0, 0.0, 0.0, 0.0, 0.0], [0.8463589549064636, 0.021373426541686058, 0.009247373789548874, 0.021423906087875366, 0.029269278049468994, 0.07232707738876343, 0.0, 0.0, 0.0, 0.0, 0.0, 0.0, 0.0, 0.0], [0.7991496920585632, 0.03768746927380562, 0.020356105640530586, 0.036743130534887314, 0.033916644752025604, 0.03787829354405403, 0.034268733114004135, 0.0, 0.0, 0.0, 0.0, 0.0, 0.0, 0.0], [0.8688932061195374, 0.017228811979293823, 0.011201148852705956, 0.02007882297039032, 0.017615754157304764, 0.025639206171035767, 0.028252797201275826, 0.011090205051004887, 0.0, 0.0, 0.0, 0.0, 0.0, 0.0], [0.8300548195838928, 0.011199906468391418, 0.006402395665645599, 0.018951164558529854, 0.02544831857085228, 0.05434669181704521, 0.026054561138153076, 0.017572464421391487, 0.009969628416001797, 0.0, 0.0, 0.0, 0.0, 0.0], [0.8544136881828308, 0.013043176382780075, 0.012296007946133614, 0.025027504190802574, 0.04265793785452843, 0.013963617384433746, 0.010211510583758354, 0.006309431046247482, 0.01528990175575018, 0.006787302438169718, 0.0, 0.0, 0.0, 0.0], [0.9755799174308777, 0.001440617023035884, 0.0007857566233724356, 0.0034533683210611343, 0.005595603957772255, 0.0016471013659611344, 0.0034520430490374565, 0.0023776316083967686, 0.0039141178131103516, 0.000508615281432867, 0.0012451151851564646, 0.0, 0.0, 0.0], [0.9631178379058838, 0.0021722239907830954, 0.0016656559891998768, 0.004047113936394453, 0.010406449437141418, 0.0031948250252753496, 0.00376618723385036, 0.002664410276338458, 0.004241896793246269, 0.0008270512917079031, 0.001723787048831582, 0.002172567881643772, 0.0, 0.0], [0.9651228785514832, 0.003323877230286598, 0.001923389732837677, 0.0020671889651566744, 0.0036169816739857197, 0.004537736531347036, 0.0026420406065881252, 0.0013960819924250245, 0.003329621395096183, 0.0003550540714059025, 0.0002804094983730465, 0.0008017078507691622, 0.01060300599783659, 0.0], [0.7374544739723206, 0.027346620336174965, 0.017655150964856148, 0.017836252227425575, 0.014476735144853592, 0.05408729612827301, 0.03264667093753815, 0.017334647476673126, 0.018415335565805435, 0.005435237195342779, 0.000776537402998656, 0.002710071625187993, 0.010752126574516296, 0.04307295382022858]], [[1.0, 0.0, 0.0, 0.0, 0.0, 0.0, 0.0, 0.0, 0.0, 0.0, 0.0, 0.0, 0.0, 0.0], [0.9369080662727356, 0.06309192627668381, 0.0, 0.0, 0.0, 0.0, 0.0, 0.0, 0.0, 0.0, 0.0, 0.0, 0.0, 0.0], [0.9553983807563782, 0.025681542232632637, 0.018920036032795906, 0.0, 0.0, 0.0, 0.0, 0.0, 0.0, 0.0, 0.0, 0.0, 0.0, 0.0], [0.8951143622398376, 0.03599896281957626, 0.015378609299659729, 0.05350809171795845, 0.0, 0.0, 0.0, 0.0, 0.0, 0.0, 0.0, 0.0, 0.0, 0.0], [0.8612995743751526, 0.04059741273522377, 0.018569177016615868, 0.016636911779642105, 0.06289688497781754, 0.0, 0.0, 0.0, 0.0, 0.0, 0.0, 0.0, 0.0, 0.0], [0.9031574726104736, 0.024486377835273743, 0.013722172938287258, 0.012534795328974724, 0.030200228095054626, 0.015898989513516426, 0.0, 0.0, 0.0, 0.0, 0.0, 0.0, 0.0, 0.0], [0.8612629175186157, 0.01643768511712551, 0.009670352563261986, 0.008164084516465664, 0.02841312624514103, 0.01862681843340397, 0.05742505192756653, 0.0, 0.0, 0.0, 0.0, 0.0, 0.0, 0.0], [0.887748122215271, 0.015085686929523945, 0.007784932851791382, 0.005807819776237011, 0.015958130359649658, 0.013753375969827175, 0.03511872887611389, 0.018743302673101425, 0.0, 0.0, 0.0, 0.0, 0.0, 0.0], [0.8098345994949341, 0.016306445002555847, 0.006936044432222843, 0.007215085905045271, 0.02388753555715084, 0.016340257599949837, 0.040735237300395966, 0.019554760307073593, 0.05919007211923599, 0.0, 0.0, 0.0, 0.0, 0.0], [0.8106935620307922, 0.021822256967425346, 0.0149885518476367, 0.013808956369757652, 0.029579073190689087, 0.01061733067035675, 0.02901190146803856, 0.009927653707563877, 0.028504805639386177, 0.03104591742157936, 0.0, 0.0, 0.0, 0.0], [0.8438862562179565, 0.012283929623663425, 0.0052237678319215775, 0.0077210236340761185, 0.01853526197373867, 0.015110197477042675, 0.024096166715025902, 0.008571378886699677, 0.03942536935210228, 0.01473323255777359, 0.010413446463644505, 0.0, 0.0, 0.0], [0.7952076196670532, 0.010011924430727959, 0.010030168108642101, 0.011624057777225971, 0.019891008734703064, 0.010229946114122868, 0.022514760494232178, 0.011125118471682072, 0.03738486394286156, 0.01715562306344509, 0.02167755365371704, 0.03314749151468277, 0.0, 0.0], [0.8197788000106812, 0.009928877465426922, 0.005107929464429617, 0.003835601033642888, 0.01014978438615799, 0.038125742226839066, 0.01100724283605814, 0.01768546737730503, 0.01939263567328453, 0.007344735786318779, 0.003412204096093774, 0.003811181988567114, 0.05041972175240517, 0.0], [0.8138368129730225, 0.008910315111279488, 0.007955250330269337, 0.002520356560125947, 0.00519033707678318, 0.01579473353922367, 0.03879019245505333, 0.020281825214624405, 0.03295959532260895, 0.005876827519387007, 0.007063807919621468, 0.003658959409222007, 0.009868423454463482, 0.02729259431362152]], [[1.0, 0.0, 0.0, 0.0, 0.0, 0.0, 0.0, 0.0, 0.0, 0.0, 0.0, 0.0, 0.0, 0.0], [0.97762131690979, 0.02237868122756481, 0.0, 0.0, 0.0, 0.0, 0.0, 0.0, 0.0, 0.0, 0.0, 0.0, 0.0, 0.0], [0.9892639517784119, 0.008393832482397556, 0.0023421524092555046, 0.0, 0.0, 0.0, 0.0, 0.0, 0.0, 0.0, 0.0, 0.0, 0.0, 0.0], [0.9655342698097229, 0.013280907645821571, 0.0012728283181786537, 0.019912011921405792, 0.0, 0.0, 0.0, 0.0, 0.0, 0.0, 0.0, 0.0, 0.0, 0.0], [0.9677037596702576, 0.016421163454651833, 0.002197500318288803, 0.006258347071707249, 0.007419249042868614, 0.0, 0.0, 0.0, 0.0, 0.0, 0.0, 0.0, 0.0, 0.0], [0.9433251023292542, 0.008533312007784843, 0.003075024811550975, 0.028905419632792473, 0.010705284774303436, 0.005455903243273497, 0.0, 0.0, 0.0, 0.0, 0.0, 0.0, 0.0, 0.0], [0.9152669906616211, 0.013977945782244205, 0.006868349388241768, 0.04510357230901718, 0.008760201744735241, 0.004795685410499573, 0.0052272602915763855, 0.0, 0.0, 0.0, 0.0, 0.0, 0.0, 0.0], [0.9239715933799744, 0.012528438121080399, 0.005262595601379871, 0.02764226868748665, 0.008344892412424088, 0.006243282463401556, 0.008636411279439926, 0.0073705632239580154, 0.0, 0.0, 0.0, 0.0, 0.0, 0.0], [0.9234404563903809, 0.026850035414099693, 0.007341656368225813, 0.016021978110074997, 0.004413391463458538, 0.006032873410731554, 0.004439409356564283, 0.004340422339737415, 0.00711966073140502, 0.0, 0.0, 0.0, 0.0, 0.0], [0.8059560060501099, 0.012078610248863697, 0.017958762124180794, 0.1221039816737175, 0.01501568965613842, 0.003670636797323823, 0.0031685607973486185, 0.0022587087005376816, 0.008909763768315315, 0.008879350498318672, 0.0, 0.0, 0.0, 0.0], [0.9600719809532166, 0.002564992755651474, 0.0008634893456473947, 0.024400008842349052, 0.0018289241706952453, 0.00337398168630898, 0.001290366519242525, 0.0010826765792444348, 0.0007262683939188719, 0.0012697489000856876, 0.0025273729115724564, 0.0, 0.0, 0.0], [0.9065474271774292, 0.016180116683244705, 0.0046356962993741035, 0.030004316940903664, 0.010311135090887547, 0.006795339286327362, 0.0024336972273886204, 0.0015505861956626177, 0.002624753164127469, 0.006730177439749241, 0.005525920540094376, 0.006660801358520985, 0.0, 0.0], [0.9660202860832214, 0.004929814487695694, 0.0006244793767109513, 0.003242740873247385, 0.0023578396067023277, 0.007963744923472404, 0.0036088107153773308, 0.0010978177888318896, 0.0012601928319782019, 0.0005465507274493575, 0.00028773880330845714, 0.0004146306891925633, 0.00764539884403348, 0.0], [0.8464412093162537, 0.014220798388123512, 0.004556011874228716, 0.019943641498684883, 0.005012002307921648, 0.006934636738151312, 0.010715852491557598, 0.006288579199463129, 0.014263718388974667, 0.0009103181073442101, 0.0016673615900799632, 0.0011109564220532775, 0.04941180720925331, 0.018523186445236206]], [[1.0, 0.0, 0.0, 0.0, 0.0, 0.0, 0.0, 0.0, 0.0, 0.0, 0.0, 0.0, 0.0, 0.0], [0.981884777545929, 0.018115209415555, 0.0, 0.0, 0.0, 0.0, 0.0, 0.0, 0.0, 0.0, 0.0, 0.0, 0.0, 0.0], [0.9743692278862, 0.01667085848748684, 0.008959833532571793, 0.0, 0.0, 0.0, 0.0, 0.0, 0.0, 0.0, 0.0, 0.0, 0.0, 0.0], [0.9516406059265137, 0.017002778127789497, 0.00836047250777483, 0.02299611270427704, 0.0, 0.0, 0.0, 0.0, 0.0, 0.0, 0.0, 0.0, 0.0, 0.0], [0.9214597344398499, 0.025438088923692703, 0.02117772214114666, 0.016468605026602745, 0.015455801971256733, 0.0, 0.0, 0.0, 0.0, 0.0, 0.0, 0.0, 0.0, 0.0], [0.7108173966407776, 0.05799032002687454, 0.035678233951330185, 0.04409244656562805, 0.08779294043779373, 0.06362858414649963, 0.0, 0.0, 0.0, 0.0, 0.0, 0.0, 0.0, 0.0], [0.5124159455299377, 0.07527489960193634, 0.03338666260242462, 0.1477694809436798, 0.1629742980003357, 0.03675614669919014, 0.031422488391399384, 0.0, 0.0, 0.0, 0.0, 0.0, 0.0, 0.0], [0.7868964672088623, 0.03164377808570862, 0.017910178750753403, 0.021936768665909767, 0.06167038902640343, 0.03574245423078537, 0.03208533674478531, 0.012114644050598145, 0.0, 0.0, 0.0, 0.0, 0.0, 0.0], [0.757732629776001, 0.05128804221749306, 0.017951400950551033, 0.07061690837144852, 0.042049430310726166, 0.041409559547901154, 0.009566855616867542, 0.005500894971191883, 0.003884257050231099, 0.0, 0.0, 0.0, 0.0, 0.0], [0.6653995513916016, 0.01611504703760147, 0.011241602711379528, 0.13218307495117188, 0.08861599117517471, 0.025231191888451576, 0.024543682113289833, 0.011400299146771431, 0.012377851642668247, 0.012891795486211777, 0.0, 0.0, 0.0, 0.0], [0.755416214466095, 0.010920478962361813, 0.00593867851421237, 0.037760671228170395, 0.10182806849479675, 0.029995257034897804, 0.014208916574716568, 0.0069505306892097, 0.017546899616718292, 0.013013554736971855, 0.006420602556318045, 0.0, 0.0, 0.0], [0.7052491307258606, 0.011928116902709007, 0.00904608704149723, 0.13217291235923767, 0.04995406046509743, 0.02426058053970337, 0.015134377405047417, 0.006200033240020275, 0.009186062961816788, 0.007719032932072878, 0.013389400206506252, 0.01576032117009163, 0.0, 0.0], [0.8408029675483704, 0.008471844717860222, 0.005586729850620031, 0.027999140322208405, 0.017947308719158173, 0.01674673706293106, 0.011491180397570133, 0.006008311174809933, 0.006613366771489382, 0.004769070539623499, 0.004491440486162901, 0.004261046648025513, 0.04481080174446106, 0.0], [0.6689699292182922, 0.030473317950963974, 0.02386033721268177, 0.007349442690610886, 0.014658873900771141, 0.06298904865980148, 0.030067816376686096, 0.012389043346047401, 0.015175609849393368, 0.01140702422708273, 0.012215230613946915, 0.018105773255228996, 0.0521186999976635, 0.040219828486442566]], [[1.0, 0.0, 0.0, 0.0, 0.0, 0.0, 0.0, 0.0, 0.0, 0.0, 0.0, 0.0, 0.0, 0.0], [0.9167618155479431, 0.08323823660612106, 0.0, 0.0, 0.0, 0.0, 0.0, 0.0, 0.0, 0.0, 0.0, 0.0, 0.0, 0.0], [0.9330126047134399, 0.051887668669223785, 0.015099704265594482, 0.0, 0.0, 0.0, 0.0, 0.0, 0.0, 0.0, 0.0, 0.0, 0.0, 0.0], [0.8630370497703552, 0.05765325948596001, 0.023909514769911766, 0.05540022626519203, 0.0, 0.0, 0.0, 0.0, 0.0, 0.0, 0.0, 0.0, 0.0, 0.0], [0.8904677629470825, 0.03582942485809326, 0.04008925333619118, 0.0283584613353014, 0.0052550374530255795, 0.0, 0.0, 0.0, 0.0, 0.0, 0.0, 0.0, 0.0, 0.0], [0.7345378994941711, 0.10194694250822067, 0.019424626603722572, 0.08113254606723785, 0.026211537420749664, 0.03674651309847832, 0.0, 0.0, 0.0, 0.0, 0.0, 0.0, 0.0, 0.0], [0.8118118047714233, 0.07661347091197968, 0.015341564081609249, 0.03048277273774147, 0.02053433284163475, 0.027311164885759354, 0.01790490746498108, 0.0, 0.0, 0.0, 0.0, 0.0, 0.0, 0.0], [0.801263153553009, 0.04286845773458481, 0.015558561310172081, 0.023700403049588203, 0.02418450452387333, 0.041669342666864395, 0.030590932816267014, 0.02016465924680233, 0.0, 0.0, 0.0, 0.0, 0.0, 0.0], [0.8338139057159424, 0.028820151463150978, 0.004999558907002211, 0.013057223521173, 0.011174359358847141, 0.03648478910326958, 0.02345232479274273, 0.02006981521844864, 0.028127817437052727, 0.0, 0.0, 0.0, 0.0, 0.0], [0.7513471245765686, 0.02218303643167019, 0.0099076759070158, 0.027075037360191345, 0.02450837939977646, 0.038149185478687286, 0.04027919843792915, 0.022226205095648766, 0.05036427453160286, 0.013959945179522038, 0.0, 0.0, 0.0, 0.0], [0.8058955669403076, 0.01611907221376896, 0.008188227191567421, 0.016668178141117096, 0.005697252694517374, 0.02160755731165409, 0.02903955988585949, 0.028461024165153503, 0.046711429953575134, 0.01452692598104477, 0.007085208781063557, 0.0, 0.0, 0.0], [0.8178769946098328, 0.02185390517115593, 0.009821339510381222, 0.02164335921406746, 0.007976800203323364, 0.01909041777253151, 0.017918016761541367, 0.015848053619265556, 0.03813520073890686, 0.011093971319496632, 0.006523022428154945, 0.012218821793794632, 0.0, 0.0], [0.8051871657371521, 0.023178692907094955, 0.027703898027539253, 0.024016203358769417, 0.0074572814628481865, 0.012251087464392185, 0.015694860368967056, 0.011115387082099915, 0.025667289271950722, 0.004188880790024996, 0.009050355292856693, 0.013657888397574425, 0.020831068977713585, 0.0], [0.6453673243522644, 0.09017246961593628, 0.03674817085266113, 0.0318785160779953, 0.014360200613737106, 0.014925729483366013, 0.009075724519789219, 0.006255997344851494, 0.05371781438589096, 0.008390279486775398, 0.011712562292814255, 0.014936746098101139, 0.03631458431482315, 0.02614377625286579]], [[1.0, 0.0, 0.0, 0.0, 0.0, 0.0, 0.0, 0.0, 0.0, 0.0, 0.0, 0.0, 0.0, 0.0], [0.9763004779815674, 0.02369951456785202, 0.0, 0.0, 0.0, 0.0, 0.0, 0.0, 0.0, 0.0, 0.0, 0.0, 0.0, 0.0], [0.9872692823410034, 0.01007021777331829, 0.0026605145540088415, 0.0, 0.0, 0.0, 0.0, 0.0, 0.0, 0.0, 0.0, 0.0, 0.0, 0.0], [0.9715303778648376, 0.013902203179895878, 0.0007244066800922155, 0.013842939399182796, 0.0, 0.0, 0.0, 0.0, 0.0, 0.0, 0.0, 0.0, 0.0, 0.0], [0.9711625576019287, 0.014599837362766266, 0.0020194740500301123, 0.0032818757463246584, 0.008936142548918724, 0.0, 0.0, 0.0, 0.0, 0.0, 0.0, 0.0, 0.0, 0.0], [0.9481897354125977, 0.014297227375209332, 0.004147326573729515, 0.014724990352988243, 0.009399001486599445, 0.00924171693623066, 0.0, 0.0, 0.0, 0.0, 0.0, 0.0, 0.0, 0.0], [0.9375861883163452, 0.009892024099826813, 0.004792406223714352, 0.023188844323158264, 0.008351367898285389, 0.004717857111245394, 0.01147132646292448, 0.0, 0.0, 0.0, 0.0, 0.0, 0.0, 0.0], [0.9587721228599548, 0.005511553958058357, 0.003555195638909936, 0.011853184551000595, 0.004216523375362158, 0.003886857768520713, 0.007845385000109673, 0.004359164275228977, 0.0, 0.0, 0.0, 0.0, 0.0, 0.0], [0.9415323734283447, 0.012943465262651443, 0.0048163714818656445, 0.012900002300739288, 0.003197822719812393, 0.0064129941165447235, 0.007304794620722532, 0.003554907161742449, 0.00733724981546402, 0.0, 0.0, 0.0, 0.0, 0.0], [0.780056893825531, 0.0057177310809493065, 0.027353821322321892, 0.15202674269676208, 0.004660275764763355, 0.0042183431796729565, 0.005114866886287928, 0.004933306481689215, 0.009664547629654408, 0.006253468804061413, 0.0, 0.0, 0.0, 0.0], [0.9798800349235535, 0.0008014982449822128, 0.0005372805171646178, 0.009853962808847427, 0.0008124857558868825, 0.001996916253119707, 0.0011380314826965332, 0.0005384921678341925, 0.001202023820951581, 0.00031772826332598925, 0.0029214571695774794, 0.0, 0.0, 0.0], [0.9068853855133057, 0.003743871347978711, 0.005158360116183758, 0.018106140196323395, 0.0021255421452224255, 0.00438720965757966, 0.008117484860122204, 0.004220395814627409, 0.002683741971850395, 0.0034255599603056908, 0.01675974205136299, 0.024386756122112274, 0.0, 0.0], [0.9625208377838135, 0.002278389874845743, 0.0003608731785789132, 0.0016058299224823713, 0.003374239895492792, 0.002449150662869215, 0.0019431635737419128, 0.0004136938077863306, 0.0011224646586924791, 8.759371849009767e-05, 0.00011841103696497157, 0.0007312534144148231, 0.022994112223386765, 0.0], [0.8577499389648438, 0.009375028312206268, 0.005394956097006798, 0.012318248860538006, 0.00770310265943408, 0.005752035416662693, 0.017881544306874275, 0.004911875352263451, 0.013689892366528511, 0.0012553820852190256, 0.0018911852966994047, 0.0022649692837148905, 0.05193454399704933, 0.007877316325902939]], [[1.0, 0.0, 0.0, 0.0, 0.0, 0.0, 0.0, 0.0, 0.0, 0.0, 0.0, 0.0, 0.0, 0.0], [0.8659204840660095, 0.13407954573631287, 0.0, 0.0, 0.0, 0.0, 0.0, 0.0, 0.0, 0.0, 0.0, 0.0, 0.0, 0.0], [0.69974684715271, 0.28424087166786194, 0.016012225300073624, 0.0, 0.0, 0.0, 0.0, 0.0, 0.0, 0.0, 0.0, 0.0, 0.0, 0.0], [0.7244168519973755, 0.13725478947162628, 0.07179498672485352, 0.0665334165096283, 0.0, 0.0, 0.0, 0.0, 0.0, 0.0, 0.0, 0.0, 0.0, 0.0], [0.45342254638671875, 0.06739571690559387, 0.0829717367887497, 0.2964532673358917, 0.09975676238536835, 0.0, 0.0, 0.0, 0.0, 0.0, 0.0, 0.0, 0.0, 0.0], [0.7004891037940979, 0.02091575227677822, 0.01640055514872074, 0.10735183209180832, 0.1068505197763443, 0.04799210652709007, 0.0, 0.0, 0.0, 0.0, 0.0, 0.0, 0.0, 0.0], [0.7764224410057068, 0.044335659593343735, 0.007929706946015358, 0.011254205368459225, 0.04754539206624031, 0.08012906461954117, 0.03238353133201599, 0.0, 0.0, 0.0, 0.0, 0.0, 0.0, 0.0], [0.7402207851409912, 0.019453059881925583, 0.003836145857349038, 0.0075376215390861034, 0.02286475896835327, 0.04079354554414749, 0.14924092590808868, 0.016053229570388794, 0.0, 0.0, 0.0, 0.0, 0.0, 0.0], [0.7251121401786804, 0.01934199407696724, 0.0031518451869487762, 0.00922189187258482, 0.015573976561427116, 0.05249520018696785, 0.07461822777986526, 0.07473433017730713, 0.025750426575541496, 0.0, 0.0, 0.0, 0.0, 0.0], [0.6338470578193665, 0.010367462411522865, 0.004120029509067535, 0.005139334127306938, 0.0237312912940979, 0.021657418459653854, 0.10200156271457672, 0.034917403012514114, 0.1118040680885315, 0.05241433531045914, 0.0, 0.0, 0.0, 0.0], [0.5726014971733093, 0.011361321434378624, 0.0023556104861199856, 0.008645256981253624, 0.011153804138302803, 0.010304030030965805, 0.12033188343048096, 0.022669557482004166, 0.04224744811654091, 0.16938762366771698, 0.028941936790943146, 0.0, 0.0, 0.0], [0.6152660846710205, 0.009791840799152851, 0.0015369267202913761, 0.006862361915409565, 0.027940286323428154, 0.007128776051104069, 0.0350254587829113, 0.01689138635993004, 0.06727521121501923, 0.07969672232866287, 0.07360228151082993, 0.05898265540599823, 0.0, 0.0], [0.7109023928642273, 0.006634679157286882, 0.00348363583907485, 0.006327703595161438, 0.006820683367550373, 0.005464701913297176, 0.008303086273372173, 0.0061339158564805984, 0.023593319579958916, 0.026993831619620323, 0.011725437827408314, 0.09507950395345688, 0.08853710442781448, 0.0], [0.6375625133514404, 0.0046948702074587345, 0.005554020870476961, 0.011773739941418171, 0.02784350886940956, 0.007407144643366337, 0.018068404868245125, 0.011149694211781025, 0.021384933963418007, 0.022195467725396156, 0.021266639232635498, 0.029213784262537956, 0.15352463722229004, 0.028360549360513687]], [[1.0, 0.0, 0.0, 0.0, 0.0, 0.0, 0.0, 0.0, 0.0, 0.0, 0.0, 0.0, 0.0, 0.0], [0.9838454723358154, 0.016154516488313675, 0.0, 0.0, 0.0, 0.0, 0.0, 0.0, 0.0, 0.0, 0.0, 0.0, 0.0, 0.0], [0.9923336505889893, 0.003806196851655841, 0.003860160242766142, 0.0, 0.0, 0.0, 0.0, 0.0, 0.0, 0.0, 0.0, 0.0, 0.0, 0.0], [0.9748207926750183, 0.004123079124838114, 0.0027138758450746536, 0.018342239782214165, 0.0, 0.0, 0.0, 0.0, 0.0, 0.0, 0.0, 0.0, 0.0, 0.0], [0.9844472408294678, 0.0065111685544252396, 0.005443902220577002, 0.0029048670548945665, 0.0006926975911483169, 0.0, 0.0, 0.0, 0.0, 0.0, 0.0, 0.0, 0.0, 0.0], [0.9698401093482971, 0.010339071974158287, 0.005988588556647301, 0.004546598065644503, 0.0013106007827445865, 0.007974925450980663, 0.0, 0.0, 0.0, 0.0, 0.0, 0.0, 0.0, 0.0], [0.76790452003479, 0.07477536797523499, 0.027566568925976753, 0.017771312966942787, 0.004918487276881933, 0.04965977743268013, 0.05740395560860634, 0.0, 0.0, 0.0, 0.0, 0.0, 0.0, 0.0], [0.8694943189620972, 0.025863341987133026, 0.008935975842177868, 0.012514234520494938, 0.0024918531998991966, 0.004750325344502926, 0.024751989170908928, 0.05119812488555908, 0.0, 0.0, 0.0, 0.0, 0.0, 0.0], [0.5994904041290283, 0.07942869514226913, 0.008884650655090809, 0.013827717863023281, 0.0036730398423969746, 0.010619645938277245, 0.0030574328266084194, 0.14085161685943604, 0.14016680419445038, 0.0, 0.0, 0.0, 0.0, 0.0], [0.560161828994751, 0.018027421087026596, 0.01393596176058054, 0.026392862200737, 0.007083104457706213, 0.012395814061164856, 0.0048041315749287605, 0.0978228822350502, 0.23308923840522766, 0.026286819949746132, 0.0, 0.0, 0.0, 0.0], [0.7271151542663574, 0.006421071942895651, 0.006428626365959644, 0.013951408676803112, 0.006152758374810219, 0.03807617723941803, 0.006303425878286362, 0.07609745115041733, 0.10544674098491669, 0.006081314291805029, 0.007925869897007942, 0.0, 0.0, 0.0], [0.6353442668914795, 0.004378938116133213, 0.004460593219846487, 0.01817850023508072, 0.004076268523931503, 0.022259391844272614, 0.004951981827616692, 0.1608930081129074, 0.12141826748847961, 0.007490379735827446, 0.005929406266659498, 0.010618994012475014, 0.0, 0.0], [0.6988143920898438, 0.0146744130179286, 0.005426450632512569, 0.0063321650959551334, 0.0031807986088097095, 0.17146533727645874, 0.014032293111085892, 0.023667387664318085, 0.04969881474971771, 0.002499697497114539, 0.002040708437561989, 0.004312140867114067, 0.003855419345200062, 0.0], [0.8493001461029053, 0.013434899970889091, 0.0029617107938975096, 0.0018139276653528214, 0.0009622036595828831, 0.011023048311471939, 0.043209902942180634, 0.015285026282072067, 0.0459308922290802, 0.001517814351245761, 0.0011192489182576537, 0.0016272228676825762, 0.0009732311009429395, 0.010840835981070995]]], [[[1.0, 0.0, 0.0, 0.0, 0.0, 0.0, 0.0, 0.0, 0.0, 0.0, 0.0, 0.0, 0.0, 0.0], [0.9660229682922363, 0.033977095037698746, 0.0, 0.0, 0.0, 0.0, 0.0, 0.0, 0.0, 0.0, 0.0, 0.0, 0.0, 0.0], [0.9340174794197083, 0.051145657896995544, 0.014836913906037807, 0.0, 0.0, 0.0, 0.0, 0.0, 0.0, 0.0, 0.0, 0.0, 0.0, 0.0], [0.8144931793212891, 0.10317899286746979, 0.02259133756160736, 0.059736549854278564, 0.0, 0.0, 0.0, 0.0, 0.0, 0.0, 0.0, 0.0, 0.0, 0.0], [0.9735459089279175, 0.005187633913010359, 0.002664528088644147, 0.014331168495118618, 0.004270720295608044, 0.0, 0.0, 0.0, 0.0, 0.0, 0.0, 0.0, 0.0, 0.0], [0.8396181464195251, 0.026975804939866066, 0.013880704529583454, 0.055028535425662994, 0.01702503114938736, 0.04747170954942703, 0.0, 0.0, 0.0, 0.0, 0.0, 0.0, 0.0, 0.0], [0.8598142862319946, 0.01995556429028511, 0.007313897367566824, 0.055168576538562775, 0.023444151505827904, 0.02465112879872322, 0.00965227372944355, 0.0, 0.0, 0.0, 0.0, 0.0, 0.0, 0.0], [0.8604758381843567, 0.02020077034831047, 0.008580264635384083, 0.05969514697790146, 0.01834368146955967, 0.016135098412632942, 0.010545570403337479, 0.006023619323968887, 0.0, 0.0, 0.0, 0.0, 0.0, 0.0], [0.9677497744560242, 0.004130522254854441, 0.0009310286259278655, 0.011648696847259998, 0.005908814258873463, 0.0034966357052326202, 0.0026601573918014765, 0.0013622887199744582, 0.002111941110342741, 0.0, 0.0, 0.0, 0.0, 0.0], [0.8711500763893127, 0.010150294750928879, 0.004612496588379145, 0.07346881181001663, 0.012304302304983139, 0.009723827242851257, 0.004214993212372065, 0.003459647763520479, 0.008526802994310856, 0.00238875113427639, 0.0, 0.0, 0.0, 0.0], [0.9598320722579956, 0.002669412177056074, 0.0011708852834999561, 0.02058122493326664, 0.004763247910887003, 0.002833175240084529, 0.0014346089446917176, 0.001224663807079196, 0.002290804637596011, 0.0007767795468680561, 0.0024230796843767166, 0.0, 0.0, 0.0], [0.8642194271087646, 0.008561996743083, 0.0026736471336334944, 0.053416669368743896, 0.02975945733487606, 0.008417967706918716, 0.006872120779007673, 0.002480980707332492, 0.003745049238204956, 0.003046295139938593, 0.011837586760520935, 0.0049687400460243225, 0.0, 0.0], [0.8943243026733398, 0.007959648966789246, 0.0034847843926399946, 0.014733422547578812, 0.005215801298618317, 0.01642012968659401, 0.004544071387499571, 0.0030544204637408257, 0.0030154832638800144, 0.0011731613194569945, 0.0020585155580192804, 0.004432637710124254, 0.039583608508110046, 0.0], [0.7291616797447205, 0.014411810785531998, 0.007227452006191015, 0.02283993735909462, 0.009758871048688889, 0.01788739114999771, 0.011580405756831169, 0.005911658518016338, 0.01326000690460205, 0.002548335585743189, 0.004810363054275513, 0.004861332476139069, 0.12569782137870789, 0.030042992904782295]], [[1.0, 0.0, 0.0, 0.0, 0.0, 0.0, 0.0, 0.0, 0.0, 0.0, 0.0, 0.0, 0.0, 0.0], [0.9700651168823242, 0.029934870079159737, 0.0, 0.0, 0.0, 0.0, 0.0, 0.0, 0.0, 0.0, 0.0, 0.0, 0.0, 0.0], [0.9403398036956787, 0.03927227854728699, 0.020387880504131317, 0.0, 0.0, 0.0, 0.0, 0.0, 0.0, 0.0, 0.0, 0.0, 0.0, 0.0], [0.9279905557632446, 0.029285715892910957, 0.003369887825101614, 0.039353903383016586, 0.0, 0.0, 0.0, 0.0, 0.0, 0.0, 0.0, 0.0, 0.0, 0.0], [0.9294829964637756, 0.033581651747226715, 0.0035975167993456125, 0.020282553508877754, 0.013055293820798397, 0.0, 0.0, 0.0, 0.0, 0.0, 0.0, 0.0, 0.0, 0.0], [0.8595255017280579, 0.020234286785125732, 0.007591198198497295, 0.06478314846754074, 0.026882147416472435, 0.020983779802918434, 0.0, 0.0, 0.0, 0.0, 0.0, 0.0, 0.0, 0.0], [0.8336371183395386, 0.01585265062749386, 0.00618409737944603, 0.07582695782184601, 0.027021370828151703, 0.01144670881330967, 0.030031083151698112, 0.0, 0.0, 0.0, 0.0, 0.0, 0.0, 0.0], [0.7943230271339417, 0.022326549515128136, 0.00871457252651453, 0.0828128308057785, 0.019124170765280724, 0.01688980497419834, 0.04057759419083595, 0.015231403522193432, 0.0, 0.0, 0.0, 0.0, 0.0, 0.0], [0.6989173293113708, 0.18011678755283356, 0.008962695486843586, 0.03578536584973335, 0.014556441456079483, 0.01560186967253685, 0.015375605784356594, 0.0074622235260903835, 0.023221613839268684, 0.0, 0.0, 0.0, 0.0, 0.0], [0.7064623236656189, 0.026335960254073143, 0.014535650610923767, 0.15514937043190002, 0.01635214313864708, 0.006244311109185219, 0.01334418449550867, 0.00538534065708518, 0.012022928334772587, 0.04416769742965698, 0.0, 0.0, 0.0, 0.0], [0.9188007712364197, 0.006247084587812424, 0.0022593075409531593, 0.04590367525815964, 0.004649116192013025, 0.00516886543482542, 0.005173187702894211, 0.0026392152067273855, 0.0017120816046372056, 0.00323058245703578, 0.004216116853058338, 0.0, 0.0, 0.0], [0.7834914326667786, 0.017115069553256035, 0.0030938591808080673, 0.06804180145263672, 0.010448798537254333, 0.0033290856517851353, 0.007984713651239872, 0.0016006453661248088, 0.008010703139007092, 0.01691175438463688, 0.03298862650990486, 0.04698348790407181, 0.0, 0.0], [0.8920202851295471, 0.015667302533984184, 0.0013699423288926482, 0.015432973392307758, 0.007291195448487997, 0.008694063872098923, 0.016682451590895653, 0.0024806063156574965, 0.002903945976868272, 0.005986228119581938, 0.0015295576304197311, 0.004844444803893566, 0.025097008794546127, 0.0], [0.7271766066551208, 0.009656165726482868, 0.003421191591769457, 0.03498043492436409, 0.018480505794286728, 0.009863707236945629, 0.035696372389793396, 0.007496617268770933, 0.01615009643137455, 0.0040476368740201, 0.004592565353959799, 0.0023682641331106424, 0.1075935885310173, 0.018476329743862152]], [[1.0, 0.0, 0.0, 0.0, 0.0, 0.0, 0.0, 0.0, 0.0, 0.0, 0.0, 0.0, 0.0, 0.0], [0.9265028834342957, 0.07349707931280136, 0.0, 0.0, 0.0, 0.0, 0.0, 0.0, 0.0, 0.0, 0.0, 0.0, 0.0, 0.0], [0.9615139365196228, 0.026587577536702156, 0.011898462660610676, 0.0, 0.0, 0.0, 0.0, 0.0, 0.0, 0.0, 0.0, 0.0, 0.0, 0.0], [0.93891441822052, 0.033221807330846786, 0.006396373733878136, 0.02146727591753006, 0.0, 0.0, 0.0, 0.0, 0.0, 0.0, 0.0, 0.0, 0.0, 0.0], [0.8956347107887268, 0.035623762756586075, 0.00850280188024044, 0.03733692690730095, 0.02290177159011364, 0.0, 0.0, 0.0, 0.0, 0.0, 0.0, 0.0, 0.0, 0.0], [0.9217774271965027, 0.016817763447761536, 0.005091914441436529, 0.016142558306455612, 0.016810307279229164, 0.023359937593340874, 0.0, 0.0, 0.0, 0.0, 0.0, 0.0, 0.0, 0.0], [0.8630915880203247, 0.030370717868208885, 0.015202070586383343, 0.03238214924931526, 0.01580498367547989, 0.01899329014122486, 0.02415514551103115, 0.0, 0.0, 0.0, 0.0, 0.0, 0.0, 0.0], [0.8350241184234619, 0.021334374323487282, 0.010590818710625172, 0.03635019063949585, 0.014974242076277733, 0.020095283165574074, 0.02854185178875923, 0.03308912366628647, 0.0, 0.0, 0.0, 0.0, 0.0, 0.0], [0.8293441534042358, 0.05531223490834236, 0.007407187018543482, 0.0262348260730505, 0.012350581586360931, 0.017527874559164047, 0.010948929004371166, 0.007317707408219576, 0.033556461334228516, 0.0, 0.0, 0.0, 0.0, 0.0], [0.6249295473098755, 0.02253335900604725, 0.027615301311016083, 0.10882024466991425, 0.018118806183338165, 0.015303030610084534, 0.01162966899573803, 0.030448943376541138, 0.1311304271221161, 0.009470710530877113, 0.0, 0.0, 0.0, 0.0], [0.8619064688682556, 0.003332418156787753, 0.001549017964862287, 0.01797240786254406, 0.002728702500462532, 0.006423796061426401, 0.007062457036226988, 0.014204207807779312, 0.05129256844520569, 0.0040352074429392815, 0.02949291095137596, 0.0, 0.0, 0.0], [0.8703739047050476, 0.010676111094653606, 0.0057275560684502125, 0.028315303847193718, 0.00354913086630404, 0.005083374213427305, 0.006320963613688946, 0.007257848512381315, 0.02756411023437977, 0.006947837304323912, 0.021136978641152382, 0.007046849001199007, 0.0, 0.0], [0.7325606346130371, 0.021361319348216057, 0.008861520327627659, 0.02568867616355419, 0.006998863536864519, 0.03614891692996025, 0.03216814994812012, 0.023143121972680092, 0.06672827154397964, 0.005377805791795254, 0.02083282172679901, 0.008865078911185265, 0.01126472931355238, 0.0], [0.7215904593467712, 0.0297086238861084, 0.008747313171625137, 0.013629332184791565, 0.01729724369943142, 0.0338447280228138, 0.02660859003663063, 0.0174858495593071, 0.05441409349441528, 0.004287706688046455, 0.013997413218021393, 0.00801265612244606, 0.023458436131477356, 0.026917604729533195]], [[1.0, 0.0, 0.0, 0.0, 0.0, 0.0, 0.0, 0.0, 0.0, 0.0, 0.0, 0.0, 0.0, 0.0], [0.6702330112457275, 0.32976704835891724, 0.0, 0.0, 0.0, 0.0, 0.0, 0.0, 0.0, 0.0, 0.0, 0.0, 0.0, 0.0], [0.7209413051605225, 0.21318742632865906, 0.06587131321430206, 0.0, 0.0, 0.0, 0.0, 0.0, 0.0, 0.0, 0.0, 0.0, 0.0, 0.0], [0.4741048216819763, 0.3503340482711792, 0.08594071865081787, 0.089620441198349, 0.0, 0.0, 0.0, 0.0, 0.0, 0.0, 0.0, 0.0, 0.0, 0.0], [0.7862591743469238, 0.05430850014090538, 0.07469005882740021, 0.015728799626231194, 0.06901340186595917, 0.0, 0.0, 0.0, 0.0, 0.0, 0.0, 0.0, 0.0, 0.0], [0.36543530225753784, 0.09443935751914978, 0.059198036789894104, 0.05072130635380745, 0.21685980260372162, 0.2133462131023407, 0.0, 0.0, 0.0, 0.0, 0.0, 0.0, 0.0, 0.0], [0.2838190495967865, 0.12198179960250854, 0.04158608615398407, 0.0537649430334568, 0.2886936664581299, 0.1620781421661377, 0.04807639122009277, 0.0, 0.0, 0.0, 0.0, 0.0, 0.0, 0.0], [0.5341382622718811, 0.07168038189411163, 0.03203929588198662, 0.06024167686700821, 0.15934330224990845, 0.05303587391972542, 0.05298700928688049, 0.03653417155146599, 0.0, 0.0, 0.0, 0.0, 0.0, 0.0], [0.7632104754447937, 0.06133202835917473, 0.018446216359734535, 0.019583815708756447, 0.06624710559844971, 0.03337917476892471, 0.012930712662637234, 0.014363341964781284, 0.01050716731697321, 0.0, 0.0, 0.0, 0.0, 0.0], [0.40980491042137146, 0.11576780676841736, 0.06225571408867836, 0.09779168665409088, 0.11204446107149124, 0.07778584957122803, 0.021223289892077446, 0.053064797073602676, 0.028552858158946037, 0.021708551794290543, 0.0, 0.0, 0.0, 0.0], [0.7567374110221863, 0.012158293277025223, 0.013699333183467388, 0.04247353971004486, 0.045847948640584946, 0.06899476796388626, 0.009147384203970432, 0.02468341588973999, 0.010803528130054474, 0.00677145691588521, 0.008682840503752232, 0.0, 0.0, 0.0], [0.6388808488845825, 0.047732967883348465, 0.01849324256181717, 0.04155905172228813, 0.07416053861379623, 0.028711920604109764, 0.01622585579752922, 0.0188616793602705, 0.010040836408734322, 0.017850089818239212, 0.014612559229135513, 0.07287038117647171, 0.0, 0.0], [0.4674798548221588, 0.055460523813962936, 0.022456740960478783, 0.01131416205316782, 0.0828169509768486, 0.2438075989484787, 0.026100153103470802, 0.021641459316015244, 0.027975432574748993, 0.003367431228980422, 0.003389706602320075, 0.0144597003236413, 0.019730210304260254, 0.0], [0.466645747423172, 0.05827992409467697, 0.02056966908276081, 0.019972385838627815, 0.1540652960538864, 0.07801175117492676, 0.03207072243094444, 0.011742698960006237, 0.03858166188001633, 0.00385590479709208, 0.002225593663752079, 0.00948032084852457, 0.05773372948169708, 0.046764522790908813]], [[1.0, 0.0, 0.0, 0.0, 0.0, 0.0, 0.0, 0.0, 0.0, 0.0, 0.0, 0.0, 0.0, 0.0], [0.852287232875824, 0.1477128118276596, 0.0, 0.0, 0.0, 0.0, 0.0, 0.0, 0.0, 0.0, 0.0, 0.0, 0.0, 0.0], [0.5977823734283447, 0.2913655638694763, 0.11085211485624313, 0.0, 0.0, 0.0, 0.0, 0.0, 0.0, 0.0, 0.0, 0.0, 0.0, 0.0], [0.7715741395950317, 0.13187523186206818, 0.06752283126115799, 0.029027743265032768, 0.0, 0.0, 0.0, 0.0, 0.0, 0.0, 0.0, 0.0, 0.0, 0.0], [0.9163723587989807, 0.045705646276474, 0.018585797399282455, 0.010230653919279575, 0.009105551987886429, 0.0, 0.0, 0.0, 0.0, 0.0, 0.0, 0.0, 0.0, 0.0], [0.6703439950942993, 0.029905131086707115, 0.021884694695472717, 0.06986673176288605, 0.04516149312257767, 0.16283796727657318, 0.0, 0.0, 0.0, 0.0, 0.0, 0.0, 0.0, 0.0], [0.5741020441055298, 0.02557382546365261, 0.018490396440029144, 0.08573209494352341, 0.020649084821343422, 0.03384552523493767, 0.24160704016685486, 0.0, 0.0, 0.0, 0.0, 0.0, 0.0, 0.0], [0.5842077732086182, 0.030162733048200607, 0.0212157741189003, 0.06702633202075958, 0.017749708145856857, 0.0519939623773098, 0.14799955487251282, 0.07964412868022919, 0.0, 0.0, 0.0, 0.0, 0.0, 0.0], [0.4504151940345764, 0.02632354013621807, 0.0145718390122056, 0.030320147052407265, 0.03503406420350075, 0.0278010256588459, 0.20284545421600342, 0.14257338643074036, 0.0701153352856636, 0.0, 0.0, 0.0, 0.0, 0.0], [0.3647421896457672, 0.02952389419078827, 0.02320268377661705, 0.04441457986831665, 0.01716853678226471, 0.015410111285746098, 0.16841472685337067, 0.1364668607711792, 0.12291042506694794, 0.07774602621793747, 0.0, 0.0, 0.0, 0.0], [0.6543954610824585, 0.011426705867052078, 0.010320097208023071, 0.09018869698047638, 0.019678551703691483, 0.044945765286684036, 0.05973714590072632, 0.026469988748431206, 0.04287760332226753, 0.02540765143930912, 0.014552365057170391, 0.0, 0.0, 0.0], [0.4482562243938446, 0.016249215230345726, 0.013295548036694527, 0.07856998592615128, 0.06025386229157448, 0.010965836234390736, 0.06088275462388992, 0.05470803380012512, 0.1409740000963211, 0.04060573875904083, 0.03697536513209343, 0.038263507187366486, 0.0, 0.0], [0.5774124264717102, 0.015213298611342907, 0.010335137136280537, 0.012757295742630959, 0.0038726096972823143, 0.14234881103038788, 0.09187519550323486, 0.057874541729688644, 0.0400276705622673, 0.022448761388659477, 0.005845625884830952, 0.01628773659467697, 0.003700838889926672, 0.0], [0.6761356592178345, 0.0171882975846529, 0.011132686398923397, 0.007229856215417385, 0.00479290122166276, 0.10142738372087479, 0.05575404316186905, 0.023603076115250587, 0.013806227594614029, 0.007728828117251396, 0.005259811878204346, 0.00341701228171587, 0.008816469460725784, 0.06370782852172852]], [[1.0, 0.0, 0.0, 0.0, 0.0, 0.0, 0.0, 0.0, 0.0, 0.0, 0.0, 0.0, 0.0, 0.0], [0.941729724407196, 0.05827030539512634, 0.0, 0.0, 0.0, 0.0, 0.0, 0.0, 0.0, 0.0, 0.0, 0.0, 0.0, 0.0], [0.9748109579086304, 0.021772367879748344, 0.0034167508129030466, 0.0, 0.0, 0.0, 0.0, 0.0, 0.0, 0.0, 0.0, 0.0, 0.0, 0.0], [0.9886668920516968, 0.006475094705820084, 0.002181779593229294, 0.002676193369552493, 0.0, 0.0, 0.0, 0.0, 0.0, 0.0, 0.0, 0.0, 0.0, 0.0], [0.4633868634700775, 0.07603894919157028, 0.0756256952881813, 0.2741086184978485, 0.1108398586511612, 0.0, 0.0, 0.0, 0.0, 0.0, 0.0, 0.0, 0.0, 0.0], [0.7352966070175171, 0.01981721818447113, 0.013784339651465416, 0.030302854254841805, 0.08596500009298325, 0.1148340106010437, 0.0, 0.0, 0.0, 0.0, 0.0, 0.0, 0.0, 0.0], [0.8655466437339783, 0.00923914648592472, 0.0021819465328007936, 0.004715369548648596, 0.01421272847801447, 0.03142699971795082, 0.0726771131157875, 0.0, 0.0, 0.0, 0.0, 0.0, 0.0, 0.0], [0.7101003527641296, 0.012786438688635826, 0.0032488536089658737, 0.007253868505358696, 0.015992887318134308, 0.03329487517476082, 0.18741273880004883, 0.029910000041127205, 0.0, 0.0, 0.0, 0.0, 0.0, 0.0], [0.6574022769927979, 0.030006829649209976, 0.006568222772330046, 0.012522803619503975, 0.012855492532253265, 0.05998918041586876, 0.12780731916427612, 0.05256549268960953, 0.040282368659973145, 0.0, 0.0, 0.0, 0.0, 0.0], [0.6409436464309692, 0.01143496111035347, 0.005458773113787174, 0.010472984984517097, 0.012602093629539013, 0.03393986076116562, 0.106502003967762, 0.03468681499361992, 0.11757218837738037, 0.02638661488890648, 0.0, 0.0, 0.0, 0.0], [0.8188486099243164, 0.00812626164406538, 0.0037812218070030212, 0.006109780631959438, 0.004191393032670021, 0.009803648106753826, 0.02629736438393593, 0.019142959266901016, 0.034039780497550964, 0.06185747683048248, 0.0078015197068452835, 0.0, 0.0, 0.0], [0.9242147207260132, 0.0027070781216025352, 0.0013078439515084028, 0.004277451429516077, 0.002847995376214385, 0.0023109421599656343, 0.009194226004183292, 0.005099799484014511, 0.01986086368560791, 0.006856877822428942, 0.006726966705173254, 0.014595231041312218, 0.0, 0.0], [0.37283003330230713, 0.014889592304825783, 0.011242097243666649, 0.018764035776257515, 0.013491549529135227, 0.018274370580911636, 0.0654710978269577, 0.034175727516412735, 0.03811226785182953, 0.06626775860786438, 0.08660946041345596, 0.1997336745262146, 0.06013829633593559, 0.0], [0.674541175365448, 0.009081280790269375, 0.0072641270235180855, 0.005720483139157295, 0.018329907208681107, 0.03249556943774223, 0.06742292642593384, 0.01740211993455887, 0.027129672467708588, 0.015086391940712929, 0.01255119126290083, 0.028451411053538322, 0.04827443137764931, 0.03624933585524559]], [[1.0, 0.0, 0.0, 0.0, 0.0, 0.0, 0.0, 0.0, 0.0, 0.0, 0.0, 0.0, 0.0, 0.0], [0.952290415763855, 0.04770956560969353, 0.0, 0.0, 0.0, 0.0, 0.0, 0.0, 0.0, 0.0, 0.0, 0.0, 0.0, 0.0], [0.9067240357398987, 0.08184162527322769, 0.011434410698711872, 0.0, 0.0, 0.0, 0.0, 0.0, 0.0, 0.0, 0.0, 0.0, 0.0, 0.0], [0.888256311416626, 0.07448436319828033, 0.010032223537564278, 0.027227163314819336, 0.0, 0.0, 0.0, 0.0, 0.0, 0.0, 0.0, 0.0, 0.0, 0.0], [0.9684136509895325, 0.007303997408598661, 0.00152804353274405, 0.01026430819183588, 0.012490001507103443, 0.0, 0.0, 0.0, 0.0, 0.0, 0.0, 0.0, 0.0, 0.0], [0.8955701589584351, 0.022587019950151443, 0.004477143753319979, 0.035977110266685486, 0.023201236501336098, 0.018187208101153374, 0.0, 0.0, 0.0, 0.0, 0.0, 0.0, 0.0, 0.0], [0.9102998375892639, 0.02365150675177574, 0.0037811999209225178, 0.02671518176794052, 0.015170296654105186, 0.01086487527936697, 0.0095169423148036, 0.0, 0.0, 0.0, 0.0, 0.0, 0.0, 0.0], [0.9312365651130676, 0.015168312005698681, 0.0026657432317733765, 0.020662931725382805, 0.011725612916052341, 0.0063106594607234, 0.008426213636994362, 0.0038038205821067095, 0.0, 0.0, 0.0, 0.0, 0.0, 0.0], [0.9668128490447998, 0.005541034042835236, 0.0006618613842874765, 0.009713064879179, 0.006270129233598709, 0.0032332190312445164, 0.002613409887999296, 0.0005969830090180039, 0.004557461477816105, 0.0, 0.0, 0.0, 0.0, 0.0], [0.8732569217681885, 0.009756211191415787, 0.003483660751953721, 0.06903409212827682, 0.013690781779587269, 0.005578816402703524, 0.004066229797899723, 0.0020395449828356504, 0.014318762347102165, 0.004774905741214752, 0.0, 0.0, 0.0, 0.0], [0.9695219397544861, 0.001716621802188456, 0.0005265222280286252, 0.016987847164273262, 0.0033918230328708887, 0.0010821442119777203, 0.0014244586927816272, 0.0006102001643739641, 0.0019012481207028031, 0.0007924209930934012, 0.002044759690761566, 0.0, 0.0, 0.0], [0.9117960929870605, 0.00813333597034216, 0.001289839274249971, 0.03422878682613373, 0.012946845032274723, 0.002455023117363453, 0.002550798933953047, 0.0007919063791632652, 0.0032853451557457447, 0.002483805874362588, 0.011798695661127567, 0.0082394415512681, 0.0, 0.0], [0.950020432472229, 0.003063598880544305, 0.0009110532701015472, 0.008074995130300522, 0.004068328067660332, 0.002517815912142396, 0.0013088692212477326, 0.0004680330748669803, 0.0019522630609571934, 0.0005649774102494121, 0.0013823109911754727, 0.001675695413723588, 0.02399170584976673, 0.0], [0.8233113288879395, 0.016653312370181084, 0.004034877754747868, 0.0142088383436203, 0.012356696650385857, 0.011362351477146149, 0.010901622474193573, 0.004093277268111706, 0.01841490902006626, 0.005266142543405294, 0.0036441481206566095, 0.004480993840843439, 0.05850675702095032, 0.01276475004851818]], [[1.0, 0.0, 0.0, 0.0, 0.0, 0.0, 0.0, 0.0, 0.0, 0.0, 0.0, 0.0, 0.0, 0.0], [0.9429323077201843, 0.057067688554525375, 0.0, 0.0, 0.0, 0.0, 0.0, 0.0, 0.0, 0.0, 0.0, 0.0, 0.0, 0.0], [0.8574748039245605, 0.08254716545343399, 0.05997810140252113, 0.0, 0.0, 0.0, 0.0, 0.0, 0.0, 0.0, 0.0, 0.0, 0.0, 0.0], [0.7989922165870667, 0.08738717436790466, 0.03603252023458481, 0.07758810371160507, 0.0, 0.0, 0.0, 0.0, 0.0, 0.0, 0.0, 0.0, 0.0, 0.0], [0.8956095576286316, 0.038595426827669144, 0.010980313643813133, 0.02003776654601097, 0.03477688506245613, 0.0, 0.0, 0.0, 0.0, 0.0, 0.0, 0.0, 0.0, 0.0], [0.7042754292488098, 0.083653524518013, 0.03248795494437218, 0.039225023239851, 0.05831703543663025, 0.08204102516174316, 0.0, 0.0, 0.0, 0.0, 0.0, 0.0, 0.0, 0.0], [0.6995767951011658, 0.057951491326093674, 0.02310236357152462, 0.030421387404203415, 0.05926999822258949, 0.056279316544532776, 0.0733986347913742, 0.0, 0.0, 0.0, 0.0, 0.0, 0.0, 0.0], [0.7249913215637207, 0.037671007215976715, 0.019602809101343155, 0.03729453682899475, 0.04473475366830826, 0.036482587456703186, 0.06006823480129242, 0.039154794067144394, 0.0, 0.0, 0.0, 0.0, 0.0, 0.0], [0.733765721321106, 0.05544798821210861, 0.010305914096534252, 0.019165566191077232, 0.05873699486255646, 0.04301360622048378, 0.03651982545852661, 0.023266827687621117, 0.01977754384279251, 0.0, 0.0, 0.0, 0.0, 0.0], [0.509107232093811, 0.04206229746341705, 0.0256170853972435, 0.19827206432819366, 0.0693112388253212, 0.03445203974843025, 0.026448089629411697, 0.027877891436219215, 0.037780240178108215, 0.029071716591715813, 0.0, 0.0, 0.0, 0.0], [0.880706787109375, 0.010021654888987541, 0.006611845921725035, 0.011048012413084507, 0.017821980640292168, 0.03039177879691124, 0.011886825785040855, 0.014590317383408546, 0.006744793150573969, 0.006463251542299986, 0.00371284456923604, 0.0, 0.0, 0.0], [0.7582467794418335, 0.02864203415811062, 0.010044509544968605, 0.0155792823061347, 0.03551434725522995, 0.03679346665740013, 0.022684691473841667, 0.015602030791342258, 0.007239907048642635, 0.011206138879060745, 0.02937859669327736, 0.029068298637866974, 0.0, 0.0], [0.7509968280792236, 0.013541954569518566, 0.006139077711850405, 0.004187279846519232, 0.03623679652810097, 0.01694771647453308, 0.01582978665828705, 0.008441228419542313, 0.017673606052994728, 0.004661524202674627, 0.003559335134923458, 0.007469472475349903, 0.11431538313627243, 0.0], [0.4720706045627594, 0.041455745697021484, 0.014684494584798813, 0.003411443205550313, 0.02087286487221718, 0.038274165242910385, 0.0613958016037941, 0.049608346074819565, 0.1210685670375824, 0.013057391159236431, 0.002579475985839963, 0.009105696342885494, 0.0915631428360939, 0.060852233320474625]], [[1.0, 0.0, 0.0, 0.0, 0.0, 0.0, 0.0, 0.0, 0.0, 0.0, 0.0, 0.0, 0.0, 0.0], [0.9715706706047058, 0.0284293070435524, 0.0, 0.0, 0.0, 0.0, 0.0, 0.0, 0.0, 0.0, 0.0, 0.0, 0.0, 0.0], [0.9853899478912354, 0.007146109826862812, 0.007463853806257248, 0.0, 0.0, 0.0, 0.0, 0.0, 0.0, 0.0, 0.0, 0.0, 0.0, 0.0], [0.9709479808807373, 0.006864225957542658, 0.003886609338223934, 0.018301233649253845, 0.0, 0.0, 0.0, 0.0, 0.0, 0.0, 0.0, 0.0, 0.0, 0.0], [0.9634096026420593, 0.012249879539012909, 0.007340733427554369, 0.004557302221655846, 0.012442621402442455, 0.0, 0.0, 0.0, 0.0, 0.0, 0.0, 0.0, 0.0, 0.0], [0.9569475650787354, 0.006982563994824886, 0.011830886825919151, 0.009027998894453049, 0.0025111890863627195, 0.012699857354164124, 0.0, 0.0, 0.0, 0.0, 0.0, 0.0, 0.0, 0.0], [0.8258829712867737, 0.023410087451338768, 0.03590484708547592, 0.01737336814403534, 0.0024037028197199106, 0.03832489252090454, 0.05669999122619629, 0.0, 0.0, 0.0, 0.0, 0.0, 0.0, 0.0], [0.8162733912467957, 0.008343545719981194, 0.013451758772134781, 0.010910705663263798, 0.0014315239386633039, 0.008114797063171864, 0.05460333079099655, 0.08687102794647217, 0.0, 0.0, 0.0, 0.0, 0.0, 0.0], [0.7604920864105225, 0.03426530584692955, 0.01200377382338047, 0.011141609400510788, 0.008508720435202122, 0.03794896975159645, 0.016591031104326248, 0.09742020070552826, 0.02162831649184227, 0.0, 0.0, 0.0, 0.0, 0.0], [0.6946133375167847, 0.015368306078016758, 0.07783956825733185, 0.02348063886165619, 0.003604503348469734, 0.03530464693903923, 0.020347481593489647, 0.0760197788476944, 0.017966097220778465, 0.03545558452606201, 0.0, 0.0, 0.0, 0.0], [0.9273688793182373, 0.005033642984926701, 0.003223070874810219, 0.004041919484734535, 0.0008596400148235261, 0.024146826937794685, 0.004357299767434597, 0.021377399563789368, 0.0019328051712363958, 0.0048385062254965305, 0.0028199900407344103, 0.0, 0.0, 0.0], [0.8435202240943909, 0.009247185662388802, 0.005716059822589159, 0.010026153177022934, 0.00199225265532732, 0.009747279807925224, 0.008093072101473808, 0.06861113756895065, 0.00829065777361393, 0.011116445064544678, 0.0031571309082210064, 0.020482510328292847, 0.0, 0.0], [0.831920325756073, 0.01640048250555992, 0.00964549370110035, 0.006452456116676331, 0.0027914992533624172, 0.05211375653743744, 0.043014608323574066, 0.010651899501681328, 0.008341399021446705, 0.003340560244396329, 0.000741494121029973, 0.005014016758650541, 0.009572084061801434, 0.0], [0.7137886881828308, 0.011084839701652527, 0.01225652638822794, 0.004443407524377108, 0.002662040526047349, 0.02115318551659584, 0.14073997735977173, 0.019631749019026756, 0.03708699345588684, 0.00695645110681653, 0.001062970608472824, 0.00797626469284296, 0.007602600380778313, 0.013554250821471214]], [[1.0, 0.0, 0.0, 0.0, 0.0, 0.0, 0.0, 0.0, 0.0, 0.0, 0.0, 0.0, 0.0, 0.0], [0.9098873138427734, 0.09011263400316238, 0.0, 0.0, 0.0, 0.0, 0.0, 0.0, 0.0, 0.0, 0.0, 0.0, 0.0, 0.0], [0.9117052555084229, 0.08076833188533783, 0.007526483852416277, 0.0, 0.0, 0.0, 0.0, 0.0, 0.0, 0.0, 0.0, 0.0, 0.0, 0.0], [0.9160619378089905, 0.024253856390714645, 0.029322920367121696, 0.03036130964756012, 0.0, 0.0, 0.0, 0.0, 0.0, 0.0, 0.0, 0.0, 0.0, 0.0], [0.6530798673629761, 0.018093666061758995, 0.03981003165245056, 0.21772781014442444, 0.07128849625587463, 0.0, 0.0, 0.0, 0.0, 0.0, 0.0, 0.0, 0.0, 0.0], [0.7990173697471619, 0.028395093977451324, 0.012884785421192646, 0.021993564441800117, 0.05789870768785477, 0.07981038838624954, 0.0, 0.0, 0.0, 0.0, 0.0, 0.0, 0.0, 0.0], [0.7317042946815491, 0.019539812579751015, 0.019987167790532112, 0.020385490730404854, 0.052354149520397186, 0.09501367807388306, 0.06101538985967636, 0.0, 0.0, 0.0, 0.0, 0.0, 0.0, 0.0], [0.48945531249046326, 0.04043743386864662, 0.01912439428269863, 0.01985855959355831, 0.06709182262420654, 0.09053424745798111, 0.23205479979515076, 0.041443485766649246, 0.0, 0.0, 0.0, 0.0, 0.0, 0.0], [0.8355019092559814, 0.016275672242045403, 0.011703886091709137, 0.008482451550662518, 0.01618685945868492, 0.02476339042186737, 0.011443886905908585, 0.005393739324063063, 0.07024826854467392, 0.0, 0.0, 0.0, 0.0, 0.0], [0.598537027835846, 0.032704949378967285, 0.01403284166008234, 0.0063742585480213165, 0.031163889914751053, 0.04101356863975525, 0.03607683628797531, 0.014672340825200081, 0.11815252900123596, 0.10727168619632721, 0.0, 0.0, 0.0, 0.0], [0.8873127102851868, 0.00551197212189436, 0.0027590536046773195, 0.001609453116543591, 0.0022569727152585983, 0.008882880210876465, 0.015952249988913536, 0.00612898264080286, 0.020269960165023804, 0.033559516072273254, 0.015756292268633842, 0.0, 0.0, 0.0], [0.49025511741638184, 0.016315504908561707, 0.005052654072642326, 0.0052017942070961, 0.025047842413187027, 0.011496391147375107, 0.016702694818377495, 0.006790506653487682, 0.14636313915252686, 0.1012590155005455, 0.11163223534822464, 0.0638832151889801, 0.0, 0.0], [0.68961501121521, 0.009206175804138184, 0.009328025393188, 0.004541046917438507, 0.006458180025219917, 0.014846025966107845, 0.011820647865533829, 0.008211543783545494, 0.03339322283864021, 0.04513261467218399, 0.008792020380496979, 0.07372380793094635, 0.08493155241012573, 0.0], [0.6497674584388733, 0.006475768983364105, 0.0034567564725875854, 0.003960908856242895, 0.015874821692705154, 0.024670399725437164, 0.01574081741273403, 0.00825292058289051, 0.01728004589676857, 0.019373351708054543, 0.018698757514357567, 0.013372272253036499, 0.14807076752185822, 0.055004965513944626]], [[1.0, 0.0, 0.0, 0.0, 0.0, 0.0, 0.0, 0.0, 0.0, 0.0, 0.0, 0.0, 0.0, 0.0], [0.9733080267906189, 0.026691939681768417, 0.0, 0.0, 0.0, 0.0, 0.0, 0.0, 0.0, 0.0, 0.0, 0.0, 0.0, 0.0], [0.9759976267814636, 0.01838567480444908, 0.005616673268377781, 0.0, 0.0, 0.0, 0.0, 0.0, 0.0, 0.0, 0.0, 0.0, 0.0, 0.0], [0.9486284852027893, 0.016760358586907387, 0.003138540545478463, 0.031472545117139816, 0.0, 0.0, 0.0, 0.0, 0.0, 0.0, 0.0, 0.0, 0.0, 0.0], [0.9720732569694519, 0.009393866173923016, 0.0036368437577039003, 0.01287772972136736, 0.0020183261949568987, 0.0, 0.0, 0.0, 0.0, 0.0, 0.0, 0.0, 0.0, 0.0], [0.9571297764778137, 0.009505398571491241, 0.005180583335459232, 0.018469499424099922, 0.004752726294100285, 0.00496207270771265, 0.0, 0.0, 0.0, 0.0, 0.0, 0.0, 0.0, 0.0], [0.944650411605835, 0.012040610425174236, 0.007061551790684462, 0.019064340740442276, 0.0063072494231164455, 0.004200957249850035, 0.006674943957477808, 0.0, 0.0, 0.0, 0.0, 0.0, 0.0, 0.0], [0.9249348640441895, 0.012995978817343712, 0.008399024605751038, 0.026534883305430412, 0.006635541561990976, 0.0033097814302891493, 0.010028124786913395, 0.007161800283938646, 0.0, 0.0, 0.0, 0.0, 0.0, 0.0], [0.931251049041748, 0.015960119664669037, 0.0012852984946221113, 0.01285961177200079, 0.008126761764287949, 0.0030117263086140156, 0.006509626749902964, 0.0029802729841321707, 0.018015509471297264, 0.0, 0.0, 0.0, 0.0, 0.0], [0.8874537944793701, 0.011973206885159016, 0.006972636561840773, 0.04030730202794075, 0.004095000214874744, 0.003498509991914034, 0.008899255655705929, 0.011755125597119331, 0.018555866554379463, 0.006489299237728119, 0.0, 0.0, 0.0, 0.0], [0.8793167471885681, 0.014849547296762466, 0.005843482445925474, 0.035231493413448334, 0.005259575787931681, 0.010970806702971458, 0.011794988065958023, 0.0138758085668087, 0.012563280761241913, 0.0043618883937597275, 0.005932264029979706, 0.0, 0.0, 0.0], [0.8075531125068665, 0.020064955577254295, 0.0065012224949896336, 0.05429249629378319, 0.00820858683437109, 0.004184666555374861, 0.017415810376405716, 0.008406617678701878, 0.011280082166194916, 0.009965627454221249, 0.01353645883500576, 0.0385904535651207, 0.0, 0.0], [0.8653897643089294, 0.017604634165763855, 0.013726873323321342, 0.01084323413670063, 0.0022115923929959536, 0.006600669119507074, 0.012907464057207108, 0.007113496772944927, 0.011093463748693466, 0.002334401709958911, 0.0033358559012413025, 0.00901029072701931, 0.037828266620635986, 0.0], [0.8021625280380249, 0.014536316506564617, 0.010533577762544155, 0.015274484641849995, 0.0051214382983744144, 0.005045727360993624, 0.010300971567630768, 0.005357042420655489, 0.032388873398303986, 0.005849078297615051, 0.0037080952897667885, 0.006303863599896431, 0.07736848294734955, 0.006049631629139185]], [[1.0, 0.0, 0.0, 0.0, 0.0, 0.0, 0.0, 0.0, 0.0, 0.0, 0.0, 0.0, 0.0, 0.0], [0.809025764465332, 0.19097423553466797, 0.0, 0.0, 0.0, 0.0, 0.0, 0.0, 0.0, 0.0, 0.0, 0.0, 0.0, 0.0], [0.16200238466262817, 0.8017200827598572, 0.03627747669816017, 0.0, 0.0, 0.0, 0.0, 0.0, 0.0, 0.0, 0.0, 0.0, 0.0, 0.0], [0.3821012079715729, 0.4623072147369385, 0.10850725322961807, 0.047084320336580276, 0.0, 0.0, 0.0, 0.0, 0.0, 0.0, 0.0, 0.0, 0.0, 0.0], [0.9590693116188049, 0.010515950620174408, 0.011289136484265327, 0.016011225059628487, 0.0031143457163125277, 0.0, 0.0, 0.0, 0.0, 0.0, 0.0, 0.0, 0.0, 0.0], [0.9588961005210876, 0.005982778500765562, 0.002764899982139468, 0.011057949624955654, 0.011386601254343987, 0.009911790490150452, 0.0, 0.0, 0.0, 0.0, 0.0, 0.0, 0.0, 0.0], [0.8803179860115051, 0.021966012194752693, 0.006009289994835854, 0.024008464068174362, 0.028613032773137093, 0.01719856634736061, 0.021886693313717842, 0.0, 0.0, 0.0, 0.0, 0.0, 0.0, 0.0], [0.8111280202865601, 0.03119518980383873, 0.010291689075529575, 0.041243549436330795, 0.03335889056324959, 0.014362677000463009, 0.04857253283262253, 0.009847491979598999, 0.0, 0.0, 0.0, 0.0, 0.0, 0.0], [0.8949227929115295, 0.02784847468137741, 0.004200855270028114, 0.012472455389797688, 0.012260220013558865, 0.006639449391514063, 0.030308745801448822, 0.004050279501825571, 0.007296738680452108, 0.0, 0.0, 0.0, 0.0, 0.0], [0.6440277099609375, 0.05181201547384262, 0.024139387533068657, 0.02633948251605034, 0.05267558619379997, 0.011366311460733414, 0.02124003693461418, 0.015252852812409401, 0.1053779348731041, 0.04776855930685997, 0.0, 0.0, 0.0, 0.0], [0.985980212688446, 0.0006058069411665201, 0.0002171806845581159, 0.0003114401188213378, 0.001977699575945735, 0.001107744057662785, 0.0038174111396074295, 0.0009075144189409912, 0.002484280848875642, 0.0009222686639986932, 0.0016684168949723244, 0.0, 0.0, 0.0], [0.9277196526527405, 0.002448235172778368, 0.0006787531892769039, 0.003483177861198783, 0.014911618083715439, 0.004151623230427504, 0.018113384023308754, 0.0015732534229755402, 0.008338109590113163, 0.006167630665004253, 0.005255600903183222, 0.0071589346043765545, 0.0, 0.0], [0.9598388075828552, 0.002943397266790271, 0.001606257283128798, 0.0006882424931973219, 0.001267305575311184, 0.001955089159309864, 0.0037279666867107153, 0.0006732759648002684, 0.001533755799755454, 0.0014771705027669668, 0.0017983190482482314, 0.0010621098335832357, 0.021428395062685013, 0.0], [0.8880530595779419, 0.00667564058676362, 0.005894288886338472, 0.014837861061096191, 0.00497159268707037, 0.0027737992350012064, 0.014587823301553726, 0.001163878128863871, 0.007685377728193998, 0.006568992510437965, 0.004137193784117699, 0.0017442845273762941, 0.03465266525745392, 0.006253410596400499]]], [[[1.0, 0.0, 0.0, 0.0, 0.0, 0.0, 0.0, 0.0, 0.0, 0.0, 0.0, 0.0, 0.0, 0.0], [0.5463716387748718, 0.45362839102745056, 0.0, 0.0, 0.0, 0.0, 0.0, 0.0, 0.0, 0.0, 0.0, 0.0, 0.0, 0.0], [0.3588636517524719, 0.2810429334640503, 0.36009344458580017, 0.0, 0.0, 0.0, 0.0, 0.0, 0.0, 0.0, 0.0, 0.0, 0.0, 0.0], [0.3456951975822449, 0.17747363448143005, 0.2433812916278839, 0.2334498018026352, 0.0, 0.0, 0.0, 0.0, 0.0, 0.0, 0.0, 0.0, 0.0, 0.0], [0.17037653923034668, 0.22646446526050568, 0.19702652096748352, 0.2491052746772766, 0.15702727437019348, 0.0, 0.0, 0.0, 0.0, 0.0, 0.0, 0.0, 0.0, 0.0], [0.18392327427864075, 0.07951205968856812, 0.141129270195961, 0.12836462259292603, 0.11717286705970764, 0.3498978912830353, 0.0, 0.0, 0.0, 0.0, 0.0, 0.0, 0.0, 0.0], [0.07903314381837845, 0.16389939188957214, 0.21149909496307373, 0.18203763663768768, 0.06448283791542053, 0.1077723428606987, 0.19127561151981354, 0.0, 0.0, 0.0, 0.0, 0.0, 0.0, 0.0], [0.09645873308181763, 0.1688689887523651, 0.15510611236095428, 0.12571197748184204, 0.06312061101198196, 0.1111995056271553, 0.16735632717609406, 0.1121777594089508, 0.0, 0.0, 0.0, 0.0, 0.0, 0.0], [0.07221459597349167, 0.11714179068803787, 0.2641633152961731, 0.11560394614934921, 0.05390284210443497, 0.062364380806684494, 0.1025889664888382, 0.06582421064376831, 0.1461959034204483, 0.0, 0.0, 0.0, 0.0, 0.0], [0.08671199530363083, 0.10435127466917038, 0.22279450297355652, 0.09020796418190002, 0.05181970074772835, 0.04558604583144188, 0.12249694019556046, 0.06906775385141373, 0.10920462757349014, 0.09775909781455994, 0.0, 0.0, 0.0, 0.0], [0.1591988205909729, 0.07374086230993271, 0.13112881779670715, 0.12391608953475952, 0.10689184814691544, 0.036763355135917664, 0.0795174092054367, 0.05245257169008255, 0.11325103789567947, 0.0649901032447815, 0.0581490695476532, 0.0, 0.0, 0.0], [0.18148791790008545, 0.09725065529346466, 0.16284002363681793, 0.10915445536375046, 0.10415134578943253, 0.04557517543435097, 0.0558028519153595, 0.034089718014001846, 0.06451953947544098, 0.04537634924054146, 0.04812171682715416, 0.05163021758198738, 0.0, 0.0], [0.15433356165885925, 0.1578369140625, 0.06306162476539612, 0.04986787959933281, 0.061026521027088165, 0.10677389055490494, 0.10379970818758011, 0.059479616582393646, 0.0772094652056694, 0.07009513676166534, 0.011763068847358227, 0.040098123252391815, 0.0446544848382473, 0.0], [0.11984856426715851, 0.08070021122694016, 0.102138951420784, 0.05837146192789078, 0.06030886247754097, 0.22541606426239014, 0.045762304216623306, 0.03006216138601303, 0.06995294988155365, 0.01048336923122406, 0.008219358511269093, 0.03371104598045349, 0.06290785223245621, 0.09211695194244385]], [[1.0, 0.0, 0.0, 0.0, 0.0, 0.0, 0.0, 0.0, 0.0, 0.0, 0.0, 0.0, 0.0, 0.0], [0.9334095120429993, 0.0665905624628067, 0.0, 0.0, 0.0, 0.0, 0.0, 0.0, 0.0, 0.0, 0.0, 0.0, 0.0, 0.0], [0.8966986536979675, 0.06135724484920502, 0.041944123804569244, 0.0, 0.0, 0.0, 0.0, 0.0, 0.0, 0.0, 0.0, 0.0, 0.0, 0.0], [0.8125150203704834, 0.07653000205755234, 0.05975233390927315, 0.0512026809155941, 0.0, 0.0, 0.0, 0.0, 0.0, 0.0, 0.0, 0.0, 0.0, 0.0], [0.9022107124328613, 0.04239755496382713, 0.025353558361530304, 0.014207648113369942, 0.015830544754862785, 0.0, 0.0, 0.0, 0.0, 0.0, 0.0, 0.0, 0.0, 0.0], [0.668120265007019, 0.10474281013011932, 0.04680377617478371, 0.05074324831366539, 0.02480364590883255, 0.10478628426790237, 0.0, 0.0, 0.0, 0.0, 0.0, 0.0, 0.0, 0.0], [0.5733851194381714, 0.15123885869979858, 0.041402194648981094, 0.04637574404478073, 0.03180511295795441, 0.08215473592281342, 0.07363827526569366, 0.0, 0.0, 0.0, 0.0, 0.0, 0.0, 0.0], [0.5487764477729797, 0.11802365630865097, 0.03790837153792381, 0.04958059638738632, 0.03586224466562271, 0.07754357159137726, 0.08001549541950226, 0.05228963494300842, 0.0, 0.0, 0.0, 0.0, 0.0, 0.0], [0.9032284617424011, 0.01821449026465416, 0.007452792953699827, 0.013392082415521145, 0.01125316135585308, 0.015576626174151897, 0.015107748098671436, 0.004405034705996513, 0.011369534768164158, 0.0, 0.0, 0.0, 0.0, 0.0], [0.639033854007721, 0.0427217073738575, 0.02157985046505928, 0.08043516427278519, 0.020261159166693687, 0.04891493171453476, 0.0488835945725441, 0.032501380890607834, 0.035406336188316345, 0.030261892825365067, 0.0, 0.0, 0.0, 0.0], [0.8080968260765076, 0.0183169674128294, 0.01247998047620058, 0.035516031086444855, 0.007675190921872854, 0.024258797988295555, 0.04237891361117363, 0.017952974885702133, 0.011378278955817223, 0.012091047130525112, 0.009855150245130062, 0.0, 0.0, 0.0], [0.8109350204467773, 0.021016977727413177, 0.011873308569192886, 0.02165372483432293, 0.018803877755999565, 0.02043982595205307, 0.021706867963075638, 0.01243457943201065, 0.011043154634535313, 0.01699628122150898, 0.012317714281380177, 0.02077861689031124, 0.0, 0.0], [0.7444407939910889, 0.03834131732583046, 0.021661285310983658, 0.020266352221369743, 0.015788307413458824, 0.0433431938290596, 0.03376736864447594, 0.011239085346460342, 0.015027905814349651, 0.01721355691552162, 0.011476046405732632, 0.0176595039665699, 0.009775317274034023, 0.0], [0.42276403307914734, 0.09417515993118286, 0.03542222082614899, 0.028990842401981354, 0.03515702486038208, 0.07949597388505936, 0.06949157267808914, 0.03869223594665527, 0.049101293087005615, 0.043506231158971786, 0.009098426438868046, 0.01290914136916399, 0.022338123992085457, 0.05885782092809677]], [[1.0, 0.0, 0.0, 0.0, 0.0, 0.0, 0.0, 0.0, 0.0, 0.0, 0.0, 0.0, 0.0, 0.0], [0.9705594182014465, 0.029440592974424362, 0.0, 0.0, 0.0, 0.0, 0.0, 0.0, 0.0, 0.0, 0.0, 0.0, 0.0, 0.0], [0.9547629356384277, 0.030972618609666824, 0.014264480210840702, 0.0, 0.0, 0.0, 0.0, 0.0, 0.0, 0.0, 0.0, 0.0, 0.0, 0.0], [0.9119239449501038, 0.02861930988729, 0.012363801710307598, 0.04709296301007271, 0.0, 0.0, 0.0, 0.0, 0.0, 0.0, 0.0, 0.0, 0.0, 0.0], [0.9192259907722473, 0.03244883939623833, 0.0074203177355229855, 0.03397994861006737, 0.006924917921423912, 0.0, 0.0, 0.0, 0.0, 0.0, 0.0, 0.0, 0.0, 0.0], [0.8396400809288025, 0.02677166275680065, 0.010812204331159592, 0.02669024094939232, 0.005816127173602581, 0.09026966243982315, 0.0, 0.0, 0.0, 0.0, 0.0, 0.0, 0.0, 0.0], [0.8041862845420837, 0.029452526941895485, 0.009590686298906803, 0.028909994289278984, 0.006848962511867285, 0.10022171586751938, 0.020789911970496178, 0.0, 0.0, 0.0, 0.0, 0.0, 0.0, 0.0], [0.8006122708320618, 0.02491423301398754, 0.01102981436997652, 0.028502782806754112, 0.005564963445067406, 0.0853162556886673, 0.020844297483563423, 0.02321530506014824, 0.0, 0.0, 0.0, 0.0, 0.0, 0.0], [0.9572033882141113, 0.008483401499688625, 0.003446597373113036, 0.007571856025606394, 0.0018474081298336387, 0.0073943170718848705, 0.0031175296753644943, 0.004126223269850016, 0.006809255573898554, 0.0, 0.0, 0.0, 0.0, 0.0], [0.8304961323738098, 0.018486978486180305, 0.010839993134140968, 0.03576105460524559, 0.004971719346940517, 0.04364961013197899, 0.017750151455402374, 0.021097775548696518, 0.012496053241193295, 0.004450615029782057, 0.0, 0.0, 0.0, 0.0], [0.8657175302505493, 0.014974899590015411, 0.0051574246026575565, 0.03424600139260292, 0.004675690550357103, 0.02254645898938179, 0.017315266653895378, 0.02078384906053543, 0.005964473355561495, 0.004507455509155989, 0.0041110459715127945, 0.0, 0.0, 0.0], [0.9315881133079529, 0.01021148543804884, 0.004991446156054735, 0.015009846538305283, 0.0023627534974366426, 0.004740734118968248, 0.004777034744620323, 0.004106678068637848, 0.00362718035466969, 0.003198161954060197, 0.00778623390942812, 0.007600354962050915, 0.0, 0.0], [0.8042243123054504, 0.028069710358977318, 0.009530587121844292, 0.02066822722554207, 0.003239284036681056, 0.05629104748368263, 0.01884259656071663, 0.024860406294465065, 0.00442092027515173, 0.00276989140547812, 0.006272758357226849, 0.00952135305851698, 0.011288957670331001, 0.0], [0.6460960507392883, 0.019332967698574066, 0.00988798402249813, 0.013244221918284893, 0.0034684394486248493, 0.07392203062772751, 0.01799117960035801, 0.029721641913056374, 0.01747048646211624, 0.0021021906286478043, 0.010241624899208546, 0.011371631175279617, 0.03961579129099846, 0.10553380846977234]], [[1.0, 0.0, 0.0, 0.0, 0.0, 0.0, 0.0, 0.0, 0.0, 0.0, 0.0, 0.0, 0.0, 0.0], [0.8321957588195801, 0.16780422627925873, 0.0, 0.0, 0.0, 0.0, 0.0, 0.0, 0.0, 0.0, 0.0, 0.0, 0.0, 0.0], [0.5371943712234497, 0.3766607940196991, 0.08614479750394821, 0.0, 0.0, 0.0, 0.0, 0.0, 0.0, 0.0, 0.0, 0.0, 0.0, 0.0], [0.46155962347984314, 0.20308801531791687, 0.23344922065734863, 0.10190316289663315, 0.0, 0.0, 0.0, 0.0, 0.0, 0.0, 0.0, 0.0, 0.0, 0.0], [0.7394497394561768, 0.06183901056647301, 0.08506838977336884, 0.08383943140506744, 0.029803447425365448, 0.0, 0.0, 0.0, 0.0, 0.0, 0.0, 0.0, 0.0, 0.0], [0.4935098886489868, 0.10043849050998688, 0.035361405462026596, 0.06956396996974945, 0.0804772600531578, 0.2206488996744156, 0.0, 0.0, 0.0, 0.0, 0.0, 0.0, 0.0, 0.0], [0.30930086970329285, 0.08772014826536179, 0.031105203554034233, 0.06526385992765427, 0.08463574945926666, 0.2787284851074219, 0.1432456374168396, 0.0, 0.0, 0.0, 0.0, 0.0, 0.0, 0.0], [0.2679685056209564, 0.0688323825597763, 0.02667335793375969, 0.06227298825979233, 0.07667294144630432, 0.21396294236183167, 0.2130115032196045, 0.0706053227186203, 0.0, 0.0, 0.0, 0.0, 0.0, 0.0], [0.7088435292243958, 0.031801749020814896, 0.015383303165435791, 0.018658233806490898, 0.06391478329896927, 0.052539657801389694, 0.03976409137248993, 0.02223624475300312, 0.04685837775468826, 0.0, 0.0, 0.0, 0.0, 0.0], [0.4527076780796051, 0.059163905680179596, 0.02291047014296055, 0.02890746295452118, 0.04605916887521744, 0.11681174486875534, 0.10070548951625824, 0.053066521883010864, 0.0756196528673172, 0.04404783621430397, 0.0, 0.0, 0.0, 0.0], [0.6201930046081543, 0.052705682814121246, 0.024829037487506866, 0.022951027378439903, 0.031841471791267395, 0.05884586274623871, 0.051555272191762924, 0.02927924506366253, 0.03197155147790909, 0.04834609851241112, 0.02748197689652443, 0.0, 0.0, 0.0], [0.6513921618461609, 0.031798042356967926, 0.018273133784532547, 0.017485903576016426, 0.03281083703041077, 0.030440909788012505, 0.039884790778160095, 0.010979775339365005, 0.06312145292758942, 0.03639544919133186, 0.04853801801800728, 0.018879562616348267, 0.0, 0.0], [0.5673208236694336, 0.03735347464680672, 0.043722059577703476, 0.024186834692955017, 0.011416678316891193, 0.10673099011182785, 0.06486079096794128, 0.038950394839048386, 0.02321944385766983, 0.013566008768975735, 0.012629489414393902, 0.010593455284833908, 0.045449528843164444, 0.0], [0.2812790274620056, 0.038524847477674484, 0.023257208988070488, 0.03060375154018402, 0.03773442655801773, 0.12962906062602997, 0.09693451225757599, 0.041318733245134354, 0.036366675049066544, 0.01224907673895359, 0.01018018089234829, 0.010910717770457268, 0.13361334800720215, 0.1173984557390213]], [[1.0, 0.0, 0.0, 0.0, 0.0, 0.0, 0.0, 0.0, 0.0, 0.0, 0.0, 0.0, 0.0, 0.0], [0.8394356369972229, 0.16056430339813232, 0.0, 0.0, 0.0, 0.0, 0.0, 0.0, 0.0, 0.0, 0.0, 0.0, 0.0, 0.0], [0.8570123314857483, 0.10857338458299637, 0.034414324909448624, 0.0, 0.0, 0.0, 0.0, 0.0, 0.0, 0.0, 0.0, 0.0, 0.0, 0.0], [0.8140441179275513, 0.13402731716632843, 0.029362881556153297, 0.022565782070159912, 0.0, 0.0, 0.0, 0.0, 0.0, 0.0, 0.0, 0.0, 0.0, 0.0], [0.8107914328575134, 0.09914791584014893, 0.050271887332201004, 0.0247141495347023, 0.01507466472685337, 0.0, 0.0, 0.0, 0.0, 0.0, 0.0, 0.0, 0.0, 0.0], [0.7080522179603577, 0.10275797545909882, 0.04455813020467758, 0.025567730888724327, 0.009829613380134106, 0.10923438519239426, 0.0, 0.0, 0.0, 0.0, 0.0, 0.0, 0.0, 0.0], [0.6088430881500244, 0.08257675170898438, 0.06483947485685349, 0.024909568950533867, 0.00787186436355114, 0.10755617171525955, 0.10340307652950287, 0.0, 0.0, 0.0, 0.0, 0.0, 0.0, 0.0], [0.6453406810760498, 0.04957118630409241, 0.04871222749352455, 0.022494010627269745, 0.006948468275368214, 0.06249454244971275, 0.0762195885181427, 0.0882192850112915, 0.0, 0.0, 0.0, 0.0, 0.0, 0.0], [0.6261301636695862, 0.028993822634220123, 0.03338188678026199, 0.01423100009560585, 0.011455009691417217, 0.11614111810922623, 0.0379755012691021, 0.05022989958524704, 0.08146163821220398, 0.0, 0.0, 0.0, 0.0, 0.0], [0.5865919589996338, 0.057095445692539215, 0.04620923101902008, 0.027970008552074432, 0.008328855969011784, 0.06942954659461975, 0.055550094693899155, 0.0691864863038063, 0.046431418508291245, 0.03320696949958801, 0.0, 0.0, 0.0, 0.0], [0.7450512647628784, 0.029249407351017, 0.012573818676173687, 0.012452504597604275, 0.01721818372607231, 0.04834124073386192, 0.028151612728834152, 0.03796454146504402, 0.03191133588552475, 0.02025263011455536, 0.016833392903208733, 0.0, 0.0, 0.0], [0.6209486126899719, 0.038126781582832336, 0.022072182968258858, 0.012041854672133923, 0.008143640123307705, 0.06476748734712601, 0.047199491411447525, 0.05519779771566391, 0.0453704297542572, 0.022848112508654594, 0.017630351707339287, 0.045653216540813446, 0.0, 0.0], [0.5174310207366943, 0.06046196445822716, 0.02288558892905712, 0.010868636891245842, 0.005723728332668543, 0.08181656152009964, 0.0791751891374588, 0.09408707171678543, 0.026366088539361954, 0.02774302288889885, 0.013175779022276402, 0.04076215252280235, 0.019503101706504822, 0.0], [0.47516587376594543, 0.046609945595264435, 0.042931508272886276, 0.014943823218345642, 0.006091363728046417, 0.08214429020881653, 0.07815296202898026, 0.07179512083530426, 0.05110828951001167, 0.015255134552717209, 0.01013889629393816, 0.032526373863220215, 0.014510215260088444, 0.05862615257501602]], [[1.0, 0.0, 0.0, 0.0, 0.0, 0.0, 0.0, 0.0, 0.0, 0.0, 0.0, 0.0, 0.0, 0.0], [0.957156777381897, 0.04284324869513512, 0.0, 0.0, 0.0, 0.0, 0.0, 0.0, 0.0, 0.0, 0.0, 0.0, 0.0, 0.0], [0.9696848392486572, 0.018891943618655205, 0.011423135176301003, 0.0, 0.0, 0.0, 0.0, 0.0, 0.0, 0.0, 0.0, 0.0, 0.0, 0.0], [0.9269880652427673, 0.02828177809715271, 0.012424360029399395, 0.03230579197406769, 0.0, 0.0, 0.0, 0.0, 0.0, 0.0, 0.0, 0.0, 0.0, 0.0], [0.9200692176818848, 0.03595530614256859, 0.011803892441093922, 0.012774016708135605, 0.019397597759962082, 0.0, 0.0, 0.0, 0.0, 0.0, 0.0, 0.0, 0.0, 0.0], [0.7075397372245789, 0.07315777987241745, 0.016385165974497795, 0.011087702587246895, 0.018696710467338562, 0.17313291132450104, 0.0, 0.0, 0.0, 0.0, 0.0, 0.0, 0.0, 0.0], [0.69447922706604, 0.09190405905246735, 0.015201268717646599, 0.013554802164435387, 0.02180291712284088, 0.06377465277910233, 0.09928324818611145, 0.0, 0.0, 0.0, 0.0, 0.0, 0.0, 0.0], [0.6477842330932617, 0.0855298638343811, 0.014527854509651661, 0.015658224001526833, 0.014376765117049217, 0.06761778146028519, 0.10404173284769058, 0.05046353489160538, 0.0, 0.0, 0.0, 0.0, 0.0, 0.0], [0.6120064854621887, 0.12743446230888367, 0.04435347765684128, 0.032147008925676346, 0.025045009329915047, 0.05817157030105591, 0.06547459214925766, 0.01418270729482174, 0.02118472382426262, 0.0, 0.0, 0.0, 0.0, 0.0], [0.7817177772521973, 0.028994951397180557, 0.03858961537480354, 0.04702506959438324, 0.02011156640946865, 0.02717728540301323, 0.01717221550643444, 0.0050261011347174644, 0.02468484826385975, 0.009500601328909397, 0.0, 0.0, 0.0, 0.0], [0.9316637516021729, 0.01283288188278675, 0.005981875583529472, 0.00701711094006896, 0.009696569293737411, 0.007123737595975399, 0.006528906989842653, 0.0011746602831408381, 0.0015773006016388535, 0.00360091938637197, 0.01280226744711399, 0.0, 0.0, 0.0], [0.8261328339576721, 0.018280228599905968, 0.035532206296920776, 0.011009768582880497, 0.007548278663307428, 0.02001495473086834, 0.026518216356635094, 0.00667203264310956, 0.005247932858765125, 0.012695795856416225, 0.009273546747863293, 0.021074095740914345, 0.0, 0.0], [0.7979687452316284, 0.03737747669219971, 0.007691581733524799, 0.011241883039474487, 0.012880919501185417, 0.01708458922803402, 0.038469813764095306, 0.006069766357541084, 0.010914242826402187, 0.008422122336924076, 0.008866907097399235, 0.016805721446871758, 0.02620631456375122, 0.0], [0.3785741925239563, 0.08139906823635101, 0.01519687194377184, 0.011140730232000351, 0.020582932978868484, 0.08445741981267929, 0.13993887603282928, 0.05490146577358246, 0.04147247225046158, 0.018406542018055916, 0.012152987532317638, 0.020554430782794952, 0.01470659114420414, 0.10651551932096481]], [[1.0, 0.0, 0.0, 0.0, 0.0, 0.0, 0.0, 0.0, 0.0, 0.0, 0.0, 0.0, 0.0, 0.0], [0.9635007977485657, 0.03649920970201492, 0.0, 0.0, 0.0, 0.0, 0.0, 0.0, 0.0, 0.0, 0.0, 0.0, 0.0, 0.0], [0.960990846157074, 0.023569820448756218, 0.015439328737556934, 0.0, 0.0, 0.0, 0.0, 0.0, 0.0, 0.0, 0.0, 0.0, 0.0, 0.0], [0.9416518807411194, 0.01968657225370407, 0.0100473091006279, 0.028614189475774765, 0.0, 0.0, 0.0, 0.0, 0.0, 0.0, 0.0, 0.0, 0.0, 0.0], [0.9796836376190186, 0.006909994874149561, 0.0032436151523143053, 0.006852762307971716, 0.0033099325373768806, 0.0, 0.0, 0.0, 0.0, 0.0, 0.0, 0.0, 0.0, 0.0], [0.9394059777259827, 0.011457012966275215, 0.005551723763346672, 0.020607808604836464, 0.0064297993667423725, 0.016547678038477898, 0.0, 0.0, 0.0, 0.0, 0.0, 0.0, 0.0, 0.0], [0.9226309061050415, 0.013493998907506466, 0.0069815232418477535, 0.02888491377234459, 0.0067055802792310715, 0.01340892817825079, 0.007894298993051052, 0.0, 0.0, 0.0, 0.0, 0.0, 0.0, 0.0], [0.8984400629997253, 0.015716439113020897, 0.008208099752664566, 0.0355093777179718, 0.010201009921729565, 0.0161398034542799, 0.009280064143240452, 0.0065051536075770855, 0.0, 0.0, 0.0, 0.0, 0.0, 0.0], [0.902000367641449, 0.016236238181591034, 0.008765796199440956, 0.01656225696206093, 0.007300721015781164, 0.005237656179815531, 0.005367312580347061, 0.001769416849128902, 0.03676014021039009, 0.0, 0.0, 0.0, 0.0, 0.0], [0.7662706971168518, 0.023608792573213577, 0.022024787962436676, 0.0765417218208313, 0.009499367326498032, 0.011019574478268623, 0.011923412792384624, 0.010578447952866554, 0.057879578322172165, 0.010653645731508732, 0.0, 0.0, 0.0, 0.0], [0.8700607419013977, 0.010899313725531101, 0.012752684764564037, 0.047915469855070114, 0.01040656678378582, 0.006028297822922468, 0.005358624737709761, 0.0031972385477274656, 0.013204253278672695, 0.004662374034523964, 0.01551436260342598, 0.0, 0.0, 0.0], [0.9201563596725464, 0.006558405235409737, 0.007380662485957146, 0.016105320304632187, 0.003929161466658115, 0.003068160265684128, 0.004238177556544542, 0.002832786412909627, 0.01372388657182455, 0.0028488696552813053, 0.008402083069086075, 0.010756285861134529, 0.0, 0.0], [0.807524561882019, 0.020149778574705124, 0.012616343796253204, 0.02807764522731304, 0.004199129994958639, 0.012333451770246029, 0.010534225031733513, 0.0052497959695756435, 0.03448149561882019, 0.0048141698352992535, 0.01558380015194416, 0.011713912710547447, 0.03272155299782753, 0.0], [0.7256163358688354, 0.024592582136392593, 0.008996637538075447, 0.026209263131022453, 0.010570187121629715, 0.024734660983085632, 0.01935632899403572, 0.010941771790385246, 0.037190087139606476, 0.0047693755477666855, 0.009683098644018173, 0.009626257233321667, 0.07033681869506836, 0.017376700416207314]], [[1.0, 0.0, 0.0, 0.0, 0.0, 0.0, 0.0, 0.0, 0.0, 0.0, 0.0, 0.0, 0.0, 0.0], [0.9391111731529236, 0.06088876724243164, 0.0, 0.0, 0.0, 0.0, 0.0, 0.0, 0.0, 0.0, 0.0, 0.0, 0.0, 0.0], [0.9127776026725769, 0.03928017616271973, 0.047942206263542175, 0.0, 0.0, 0.0, 0.0, 0.0, 0.0, 0.0, 0.0, 0.0, 0.0, 0.0], [0.9127954840660095, 0.018199583515524864, 0.02402220107614994, 0.04498276486992836, 0.0, 0.0, 0.0, 0.0, 0.0, 0.0, 0.0, 0.0, 0.0, 0.0], [0.903319239616394, 0.021760370582342148, 0.020903626456856728, 0.03104192391037941, 0.022974777966737747, 0.0, 0.0, 0.0, 0.0, 0.0, 0.0, 0.0, 0.0, 0.0], [0.6937007308006287, 0.035994406789541245, 0.034576285630464554, 0.06855867803096771, 0.028784172609448433, 0.13838577270507812, 0.0, 0.0, 0.0, 0.0, 0.0, 0.0, 0.0, 0.0], [0.6199259757995605, 0.05999799072742462, 0.042757101356983185, 0.06603339314460754, 0.033660173416137695, 0.0997711569070816, 0.07785435765981674, 0.0, 0.0, 0.0, 0.0, 0.0, 0.0, 0.0], [0.5774649977684021, 0.04359106719493866, 0.03671178221702576, 0.08499370515346527, 0.05008958652615547, 0.11052656918764114, 0.05414950102567673, 0.042472805827856064, 0.0, 0.0, 0.0, 0.0, 0.0, 0.0], [0.9396075010299683, 0.005358428694307804, 0.00787160824984312, 0.00824671983718872, 0.006900289095938206, 0.016496136784553528, 0.005802604835480452, 0.0027318436186760664, 0.00698491744697094, 0.0, 0.0, 0.0, 0.0, 0.0], [0.6527007222175598, 0.040504466742277145, 0.03239985555410385, 0.06390342116355896, 0.03087080828845501, 0.041093822568655014, 0.0500158853828907, 0.03294363245368004, 0.025398997589945793, 0.030168388038873672, 0.0, 0.0, 0.0, 0.0], [0.7713464498519897, 0.013287719339132309, 0.011942967772483826, 0.03656658157706261, 0.030548755079507828, 0.05049905925989151, 0.01649586111307144, 0.011979482136666775, 0.007295982446521521, 0.008208442479372025, 0.041828703135252, 0.0, 0.0, 0.0], [0.9373465776443481, 0.007037188857793808, 0.008113168179988861, 0.01226687990128994, 0.005811617244035006, 0.007229015696793795, 0.0062287235632538795, 0.0036035317461937666, 0.003048522863537073, 0.002999648917466402, 0.0026614360976964235, 0.0036536427214741707, 0.0, 0.0], [0.6570901274681091, 0.011158004403114319, 0.008858166635036469, 0.019975559785962105, 0.014107534661889076, 0.2050798088312149, 0.027212493121623993, 0.019747024402022362, 0.009392344392836094, 0.004167547449469566, 0.006126628257334232, 0.003963289316743612, 0.013121535070240498, 0.0], [0.44108566641807556, 0.03196578472852707, 0.025577809661626816, 0.0480375774204731, 0.03151467442512512, 0.09478875249624252, 0.05456200987100601, 0.03248702362179756, 0.05991179123520851, 0.0182855986058712, 0.01332591287791729, 0.013361528515815735, 0.032954368740320206, 0.1021413654088974]], [[1.0, 0.0, 0.0, 0.0, 0.0, 0.0, 0.0, 0.0, 0.0, 0.0, 0.0, 0.0, 0.0, 0.0], [0.00022017517767380923, 0.9997798800468445, 0.0, 0.0, 0.0, 0.0, 0.0, 0.0, 0.0, 0.0, 0.0, 0.0, 0.0, 0.0], [5.753317236667499e-05, 0.7369336485862732, 0.26300880312919617, 0.0, 0.0, 0.0, 0.0, 0.0, 0.0, 0.0, 0.0, 0.0, 0.0, 0.0], [5.161153239896521e-05, 0.3050336539745331, 0.44654396176338196, 0.24837075173854828, 0.0, 0.0, 0.0, 0.0, 0.0, 0.0, 0.0, 0.0, 0.0, 0.0], [7.983557225088589e-06, 0.3057959973812103, 0.13096559047698975, 0.28635871410369873, 0.2768716812133789, 0.0, 0.0, 0.0, 0.0, 0.0, 0.0, 0.0, 0.0, 0.0], [3.784226646530442e-05, 0.201724112033844, 0.0594935342669487, 0.0618157759308815, 0.04942717403173447, 0.6275016069412231, 0.0, 0.0, 0.0, 0.0, 0.0, 0.0, 0.0, 0.0], [2.1957421267870814e-06, 0.2178451418876648, 0.06507417559623718, 0.08103072643280029, 0.03328929468989372, 0.29779747128486633, 0.30496102571487427, 0.0, 0.0, 0.0, 0.0, 0.0, 0.0, 0.0], [3.673553510452621e-05, 0.16740450263023376, 0.025809574872255325, 0.04184122383594513, 0.03239035606384277, 0.22692540287971497, 0.4117502272129059, 0.09384189546108246, 0.0, 0.0, 0.0, 0.0, 0.0, 0.0], [2.837906095010112e-06, 0.08351267129182816, 0.10645879805088043, 0.09402135014533997, 0.024015039205551147, 0.15394411981105804, 0.16918784379959106, 0.08436226099729538, 0.2844950556755066, 0.0, 0.0, 0.0, 0.0, 0.0], [2.7479920390760526e-05, 0.07994160801172256, 0.038903750479221344, 0.047401249408721924, 0.030961280688643456, 0.17811737954616547, 0.17719627916812897, 0.09640491008758545, 0.27675965428352356, 0.07428643852472305, 0.0, 0.0, 0.0, 0.0], [0.00010284501331625506, 0.10483382642269135, 0.108953557908535, 0.08623681217432022, 0.02929055504500866, 0.05909806862473488, 0.14702492952346802, 0.05244504660367966, 0.2386205494403839, 0.10855655372142792, 0.06483722478151321, 0.0, 0.0, 0.0], [1.813060589483939e-05, 0.09600193798542023, 0.13281787931919098, 0.10180019587278366, 0.023944400250911713, 0.0993816927075386, 0.1177506074309349, 0.04438165947794914, 0.1141938865184784, 0.08861057460308075, 0.12840493023395538, 0.052694182842969894, 0.0, 0.0], [1.2510826309153344e-05, 0.07062322646379471, 0.022117197513580322, 0.013872520998120308, 0.04939642548561096, 0.1497797667980194, 0.22468605637550354, 0.06843739002943039, 0.17712341248989105, 0.07977097481489182, 0.02980358898639679, 0.04513053596019745, 0.06924644857645035, 0.0], [3.641203511506319e-05, 0.059555526822805405, 0.018332986161112785, 0.015493866056203842, 0.03774113580584526, 0.24339066445827484, 0.14316074550151825, 0.052361540496349335, 0.11877676099538803, 0.020610379055142403, 0.003965255804359913, 0.010737020522356033, 0.057228345423936844, 0.21860937774181366]], [[1.0, 0.0, 0.0, 0.0, 0.0, 0.0, 0.0, 0.0, 0.0, 0.0, 0.0, 0.0, 0.0, 0.0], [0.96365886926651, 0.036341093480587006, 0.0, 0.0, 0.0, 0.0, 0.0, 0.0, 0.0, 0.0, 0.0, 0.0, 0.0, 0.0], [0.946033775806427, 0.04024659842252731, 0.01371960062533617, 0.0, 0.0, 0.0, 0.0, 0.0, 0.0, 0.0, 0.0, 0.0, 0.0, 0.0], [0.9358205199241638, 0.032934945076704025, 0.006138758733868599, 0.025105776265263557, 0.0, 0.0, 0.0, 0.0, 0.0, 0.0, 0.0, 0.0, 0.0, 0.0], [0.9529363512992859, 0.015947559848427773, 0.009593511000275612, 0.015411979518830776, 0.0061106509529054165, 0.0, 0.0, 0.0, 0.0, 0.0, 0.0, 0.0, 0.0, 0.0], [0.8621050715446472, 0.029958870261907578, 0.009745940566062927, 0.0425826720893383, 0.012467678636312485, 0.04313983768224716, 0.0, 0.0, 0.0, 0.0, 0.0, 0.0, 0.0, 0.0], [0.8249906301498413, 0.031710367649793625, 0.010110840201377869, 0.055261071771383286, 0.01429073791950941, 0.023465199396014214, 0.040171246975660324, 0.0, 0.0, 0.0, 0.0, 0.0, 0.0, 0.0], [0.816927433013916, 0.029288960620760918, 0.00591469369828701, 0.06265202164649963, 0.01219168771058321, 0.01729491353034973, 0.04324330389499664, 0.012487038969993591, 0.0, 0.0, 0.0, 0.0, 0.0, 0.0], [0.8448160886764526, 0.040279537439346313, 0.013107191771268845, 0.03981797769665718, 0.010937189683318138, 0.01577068492770195, 0.022223249077796936, 0.003444479778409004, 0.00960356555879116, 0.0, 0.0, 0.0, 0.0, 0.0], [0.7825427651405334, 0.025741737335920334, 0.014473010785877705, 0.08600837737321854, 0.013314979150891304, 0.016821328550577164, 0.0191795714199543, 0.006938946899026632, 0.014883660711348057, 0.02009575441479683, 0.0, 0.0, 0.0, 0.0], [0.9100347757339478, 0.006764487363398075, 0.0030484700109809637, 0.04370521008968353, 0.0101694967597723, 0.006509740836918354, 0.006107103079557419, 0.001100311172194779, 0.0023103016428649426, 0.0016891214763745666, 0.00856087263673544, 0.0, 0.0, 0.0], [0.8931297063827515, 0.01508148480206728, 0.008512798696756363, 0.024559345096349716, 0.004983857739716768, 0.00778948375955224, 0.010759318247437477, 0.0017804232193157077, 0.0030079290736466646, 0.0060936943627893925, 0.007924742996692657, 0.01637713611125946, 0.0, 0.0], [0.8820288777351379, 0.012639565393328667, 0.0018742171814665198, 0.030727030709385872, 0.005491227377206087, 0.007570024114102125, 0.01877027004957199, 0.0023828260600566864, 0.006544475443661213, 0.003384100738912821, 0.0038147438317537308, 0.005044163670390844, 0.019728539511561394, 0.0], [0.6996416449546814, 0.031908128410577774, 0.005070933140814304, 0.030376529321074486, 0.009651325643062592, 0.01884080097079277, 0.048718053847551346, 0.012257522903382778, 0.02852567285299301, 0.007496465463191271, 0.008509657345712185, 0.005783377215266228, 0.050276994705200195, 0.042942944914102554]], [[1.0, 0.0, 0.0, 0.0, 0.0, 0.0, 0.0, 0.0, 0.0, 0.0, 0.0, 0.0, 0.0, 0.0], [0.8270828127861023, 0.17291714251041412, 0.0, 0.0, 0.0, 0.0, 0.0, 0.0, 0.0, 0.0, 0.0, 0.0, 0.0, 0.0], [0.7204975485801697, 0.20960915088653564, 0.06989330798387527, 0.0, 0.0, 0.0, 0.0, 0.0, 0.0, 0.0, 0.0, 0.0, 0.0, 0.0], [0.5521257519721985, 0.19050656259059906, 0.1407022774219513, 0.11666544526815414, 0.0, 0.0, 0.0, 0.0, 0.0, 0.0, 0.0, 0.0, 0.0, 0.0], [0.806639552116394, 0.03246667608618736, 0.01908552274107933, 0.06340144574642181, 0.07840672880411148, 0.0, 0.0, 0.0, 0.0, 0.0, 0.0, 0.0, 0.0, 0.0], [0.6336183547973633, 0.07252838462591171, 0.02372061461210251, 0.02997184358537197, 0.05463338643312454, 0.18552742898464203, 0.0, 0.0, 0.0, 0.0, 0.0, 0.0, 0.0, 0.0], [0.5775891542434692, 0.050406020134687424, 0.020095450803637505, 0.013472327962517738, 0.026997720822691917, 0.18739387392997742, 0.12404550611972809, 0.0, 0.0, 0.0, 0.0, 0.0, 0.0, 0.0], [0.484819233417511, 0.034307751804590225, 0.018181348219513893, 0.02002350613474846, 0.029460640624165535, 0.1683310866355896, 0.1483391374349594, 0.0965372622013092, 0.0, 0.0, 0.0, 0.0, 0.0, 0.0], [0.6152200698852539, 0.07105506211519241, 0.05341437831521034, 0.014960928820073605, 0.04664881154894829, 0.050832994282245636, 0.029545942321419716, 0.0206742025911808, 0.09764758497476578, 0.0, 0.0, 0.0, 0.0, 0.0], [0.4561683237552643, 0.08376458287239075, 0.04320499673485756, 0.04426754266023636, 0.04328456521034241, 0.071475088596344, 0.06486529856920242, 0.03465929999947548, 0.07927403599023819, 0.07903623580932617, 0.0, 0.0, 0.0, 0.0], [0.7642368674278259, 0.031012585386633873, 0.014077544212341309, 0.019295651465654373, 0.01732088252902031, 0.036353472620248795, 0.026972873136401176, 0.01307175774127245, 0.012623252347111702, 0.03510969504714012, 0.029925381764769554, 0.0, 0.0, 0.0], [0.3006027340888977, 0.020447280257940292, 0.01168033666908741, 0.009666324593126774, 0.02932457998394966, 0.0139829246327281, 0.016514519229531288, 0.007712286431342363, 0.16515898704528809, 0.07885251194238663, 0.2658001184463501, 0.08025749027729034, 0.0, 0.0], [0.6594274640083313, 0.02498435229063034, 0.013924832455813885, 0.0034774511586874723, 0.013842743821442127, 0.06815607100725174, 0.04049656167626381, 0.019419226795434952, 0.023098038509488106, 0.008547047153115273, 0.008053622208535671, 0.0056885238736867905, 0.11088395863771439, 0.0], [0.322316974401474, 0.027520179748535156, 0.013373223133385181, 0.006559443194419146, 0.02196475863456726, 0.133598193526268, 0.0668250024318695, 0.06282684206962585, 0.03317044675350189, 0.007904515601694584, 0.00962661113590002, 0.008979149162769318, 0.09198211878538132, 0.19335252046585083]], [[1.0, 0.0, 0.0, 0.0, 0.0, 0.0, 0.0, 0.0, 0.0, 0.0, 0.0, 0.0, 0.0, 0.0], [0.9331567287445068, 0.0668431967496872, 0.0, 0.0, 0.0, 0.0, 0.0, 0.0, 0.0, 0.0, 0.0, 0.0, 0.0, 0.0], [0.758125364780426, 0.1705380529165268, 0.07133664935827255, 0.0, 0.0, 0.0, 0.0, 0.0, 0.0, 0.0, 0.0, 0.0, 0.0, 0.0], [0.7667297124862671, 0.08582756668329239, 0.0933152437210083, 0.054127514362335205, 0.0, 0.0, 0.0, 0.0, 0.0, 0.0, 0.0, 0.0, 0.0, 0.0], [0.699408233165741, 0.07077191025018692, 0.04469743371009827, 0.08762652426958084, 0.09749580919742584, 0.0, 0.0, 0.0, 0.0, 0.0, 0.0, 0.0, 0.0, 0.0], [0.706953763961792, 0.058499787002801895, 0.027516765519976616, 0.06508652120828629, 0.0707489624619484, 0.07119409739971161, 0.0, 0.0, 0.0, 0.0, 0.0, 0.0, 0.0, 0.0], [0.661706805229187, 0.036354269832372665, 0.023076355457305908, 0.06620782613754272, 0.09675031900405884, 0.045592453330755234, 0.07031197845935822, 0.0, 0.0, 0.0, 0.0, 0.0, 0.0, 0.0], [0.6325017809867859, 0.052637550979852676, 0.017932040616869926, 0.062287554144859314, 0.09042493253946304, 0.0221001785248518, 0.09213259071111679, 0.029983479529619217, 0.0, 0.0, 0.0, 0.0, 0.0, 0.0], [0.5544912815093994, 0.02544667012989521, 0.03226779028773308, 0.038306135684251785, 0.10090136528015137, 0.06147138029336929, 0.04886021465063095, 0.03473318740725517, 0.10352201759815216, 0.0, 0.0, 0.0, 0.0, 0.0], [0.34814730286598206, 0.05220828577876091, 0.037036582827568054, 0.05270865187048912, 0.06090059503912926, 0.015018845908343792, 0.05769692361354828, 0.022461526095867157, 0.21216343343257904, 0.14165785908699036, 0.0, 0.0, 0.0, 0.0], [0.039486151188611984, 0.020831068977713585, 0.004425295628607273, 0.007294603623449802, 0.019072478637099266, 0.8094475269317627, 0.024547068402171135, 0.03572723641991615, 0.009700803086161613, 0.012572551146149635, 0.016895275563001633, 0.0, 0.0, 0.0], [0.15743617713451385, 0.02696290798485279, 0.020974015817046165, 0.03724275156855583, 0.06660240888595581, 0.0683031678199768, 0.051354844123125076, 0.021360330283641815, 0.3974524736404419, 0.07529634237289429, 0.050775688141584396, 0.02623892016708851, 0.0, 0.0], [0.6276034712791443, 0.02264270931482315, 0.014712788164615631, 0.016484402120113373, 0.022819189354777336, 0.04280802235007286, 0.05000908300280571, 0.04409538954496384, 0.02037089690566063, 0.016434215009212494, 0.01362443994730711, 0.005062209442257881, 0.10333322733640671, 0.0], [0.3844347894191742, 0.02635587379336357, 0.013014016672968864, 0.026627792045474052, 0.041166771203279495, 0.04413919150829315, 0.0474349744617939, 0.033609434962272644, 0.033900514245033264, 0.01534631010144949, 0.010595418512821198, 0.00438138609752059, 0.2666183114051819, 0.052375249564647675]]]], \"left_text\": [\"Today\", \" is\", \" a\", \" beautiful\", \" day\", \".\", \" but\", \",\", \" It\", \" is\", \" going\", \" to\", \" rain\", \"!\"], \"right_text\": [\"Today\", \" is\", \" a\", \" beautiful\", \" day\", \".\", \" but\", \",\", \" It\", \" is\", \" going\", \" to\", \" rain\", \"!\"]}], \"default_filter\": \"0\", \"display_mode\": \"dark\", \"root_div_id\": \"bertviz-4cc8e338ddb743e5b30a50556a35451a\", \"include_layers\": [0, 1, 2, 3, 4, 5, 6, 7, 8, 9, 10, 11], \"include_heads\": [0, 1, 2, 3, 4, 5, 6, 7, 8, 9, 10, 11], \"total_heads\": 12}; // HACK: {\"attention\": [{\"name\": null, \"attn\": [[[[1.0, 0.0, 0.0, 0.0, 0.0, 0.0, 0.0, 0.0, 0.0, 0.0, 0.0, 0.0, 0.0, 0.0], [0.9515315294265747, 0.04846848547458649, 0.0, 0.0, 0.0, 0.0, 0.0, 0.0, 0.0, 0.0, 0.0, 0.0, 0.0, 0.0], [0.8371977210044861, 0.10807578265666962, 0.05472651869058609, 0.0, 0.0, 0.0, 0.0, 0.0, 0.0, 0.0, 0.0, 0.0, 0.0, 0.0], [0.6570507287979126, 0.11472555249929428, 0.12057040631771088, 0.10765334218740463, 0.0, 0.0, 0.0, 0.0, 0.0, 0.0, 0.0, 0.0, 0.0, 0.0], [0.4250752627849579, 0.16621841490268707, 0.08201197534799576, 0.20811595022678375, 0.11857839673757553, 0.0, 0.0, 0.0, 0.0, 0.0, 0.0, 0.0, 0.0, 0.0], [0.5436259508132935, 0.06904935836791992, 0.05872702971100807, 0.2243455946445465, 0.08406393975019455, 0.020188163965940475, 0.0, 0.0, 0.0, 0.0, 0.0, 0.0, 0.0, 0.0], [0.3925670087337494, 0.13477389514446259, 0.06957445293664932, 0.22448067367076874, 0.057906415313482285, 0.03981964662671089, 0.08087794482707977, 0.0, 0.0, 0.0, 0.0, 0.0, 0.0, 0.0], [0.46130117774009705, 0.05892394483089447, 0.046758219599723816, 0.236050084233284, 0.06545499712228775, 0.025325065478682518, 0.0885101780295372, 0.0176763404160738, 0.0, 0.0, 0.0, 0.0, 0.0, 0.0], [0.3041269779205322, 0.08210436254739761, 0.03819877281785011, 0.14894407987594604, 0.04448367655277252, 0.030204888433218002, 0.100267194211483, 0.052971962839365005, 0.19869820773601532, 0.0, 0.0, 0.0, 0.0, 0.0], [0.29777202010154724, 0.04680249094963074, 0.0307588130235672, 0.14298385381698608, 0.056889113038778305, 0.02837720885872841, 0.07096921652555466, 0.037012286484241486, 0.23971733450889587, 0.048717621713876724, 0.0, 0.0, 0.0, 0.0], [0.20996564626693726, 0.0851886123418808, 0.04177870228886604, 0.16333843767642975, 0.06068519130349159, 0.036397553980350494, 0.06420238316059113, 0.043603166937828064, 0.12328807264566422, 0.09856019169092178, 0.07299205660820007, 0.0, 0.0, 0.0], [0.3178706765174866, 0.06485151499509811, 0.028917409479618073, 0.09591559320688248, 0.05850592255592346, 0.021412041038274765, 0.03957638889551163, 0.029070932418107986, 0.14974617958068848, 0.07744894176721573, 0.09839033335447311, 0.018293943256139755, 0.0, 0.0], [0.4529760777950287, 0.027009449899196625, 0.030047807842493057, 0.055707789957523346, 0.10885608196258545, 0.02645491622388363, 0.017321981489658356, 0.02666459046304226, 0.011517399922013283, 0.01979781873524189, 0.03370535373687744, 0.033009517937898636, 0.15693111717700958, 0.0], [0.18276084959506989, 0.03288065642118454, 0.021106332540512085, 0.1151684820652008, 0.03370136767625809, 0.01692141592502594, 0.06490632891654968, 0.0186226274818182, 0.16050179302692413, 0.03308846056461334, 0.08272909373044968, 0.018964728340506554, 0.17676030099391937, 0.04188759997487068]], [[1.0, 0.0, 0.0, 0.0, 0.0, 0.0, 0.0, 0.0, 0.0, 0.0, 0.0, 0.0, 0.0, 0.0], [0.0062592485919594765, 0.9937407374382019, 0.0, 0.0, 0.0, 0.0, 0.0, 0.0, 0.0, 0.0, 0.0, 0.0, 0.0, 0.0], [0.00150681019295007, 0.0037337043322622776, 0.9947595000267029, 0.0, 0.0, 0.0, 0.0, 0.0, 0.0, 0.0, 0.0, 0.0, 0.0, 0.0], [0.00043493261910043657, 0.0003479104198049754, 0.00046875947737134993, 0.9987484216690063, 0.0, 0.0, 0.0, 0.0, 0.0, 0.0, 0.0, 0.0, 0.0, 0.0], [0.0028771355282515287, 0.0019451722037047148, 0.00045476664672605693, 0.006157218478620052, 0.9885657429695129, 0.0, 0.0, 0.0, 0.0, 0.0, 0.0, 0.0, 0.0, 0.0], [0.004738570190966129, 0.0007618906092830002, 0.001394110731780529, 0.0004574357299134135, 0.001728886622004211, 0.9909191131591797, 0.0, 0.0, 0.0, 0.0, 0.0, 0.0, 0.0, 0.0], [0.00020383346418384463, 0.0005757694598287344, 0.0014378129271790385, 0.00024888248299248517, 0.000416159862652421, 0.0028290124610066414, 0.994288444519043, 0.0, 0.0, 0.0, 0.0, 0.0, 0.0, 0.0], [0.004111753776669502, 0.0061829364858567715, 0.0007867888198234141, 5.072338171885349e-05, 0.0004763805482070893, 0.040895137935876846, 0.0022576311603188515, 0.9452385902404785, 0.0, 0.0, 0.0, 0.0, 0.0, 0.0], [0.00075718475272879, 0.0034433312248438597, 0.002929594600573182, 0.0005394601612351835, 0.0001892700238386169, 0.0001258062111446634, 0.0022541412618011236, 0.00012018142297165468, 0.9896411299705505, 0.0, 0.0, 0.0, 0.0, 0.0], [0.0012771381298080087, 0.4731235206127167, 0.0006713979528285563, 0.00014317153545562178, 0.0006499978480860591, 0.00015554274432361126, 0.00030305612017400563, 0.002758920891210437, 0.0014577676774933934, 0.5194595456123352, 0.0, 0.0, 0.0, 0.0], [0.00042003378621302545, 0.001038462040014565, 0.001100087189115584, 9.475320985075086e-05, 0.0005438399384729564, 0.00015215286111924797, 0.00024824621505104005, 9.875342948362231e-05, 0.00018255696340929717, 0.00028025361825712025, 0.995840847492218, 0.0, 0.0, 0.0], [0.0015868470072746277, 0.0023120867554098368, 0.0032385990489274263, 0.0001098712018574588, 0.00032906694104894996, 0.01030585914850235, 0.008124342188239098, 0.010170781053602695, 0.0012844429584220052, 0.0008574622916057706, 0.0034948461689054966, 0.9581857919692993, 0.0, 0.0], [9.045595652423799e-05, 0.00015177125169429928, 0.00021400216792244464, 0.0005708090611733496, 0.0007400045869871974, 2.101861718983855e-05, 0.00012362601410131902, 6.937742000445724e-05, 5.639655500999652e-05, 3.202689185854979e-05, 0.00018979495507664979, 7.507355621783063e-05, 0.9976657629013062, 0.0], [0.0024761378299444914, 0.00018021304276771843, 2.563859561632853e-05, 0.0020110297482460737, 0.00021121909958310425, 0.0026192301884293556, 0.0001893998560262844, 0.0013670664047822356, 9.119218157138675e-05, 3.6752222513314337e-05, 0.0002023683045990765, 0.0003454974212218076, 9.505330672254786e-05, 0.9901491403579712]], [[1.0, 0.0, 0.0, 0.0, 0.0, 0.0, 0.0, 0.0, 0.0, 0.0, 0.0, 0.0, 0.0, 0.0], [0.8529582619667053, 0.14704176783561707, 0.0, 0.0, 0.0, 0.0, 0.0, 0.0, 0.0, 0.0, 0.0, 0.0, 0.0, 0.0], [0.7013070583343506, 0.22054897248744965, 0.07814402878284454, 0.0, 0.0, 0.0, 0.0, 0.0, 0.0, 0.0, 0.0, 0.0, 0.0, 0.0], [0.5466662645339966, 0.1661989390850067, 0.18797554075717926, 0.09915930032730103, 0.0, 0.0, 0.0, 0.0, 0.0, 0.0, 0.0, 0.0, 0.0, 0.0], [0.48856890201568604, 0.1490434855222702, 0.16525909304618835, 0.10122311860322952, 0.09590540826320648, 0.0, 0.0, 0.0, 0.0, 0.0, 0.0, 0.0, 0.0, 0.0], [0.5224892497062683, 0.27761390805244446, 0.03248763084411621, 0.030236992985010147, 0.06905099004507065, 0.06812125444412231, 0.0, 0.0, 0.0, 0.0, 0.0, 0.0, 0.0, 0.0], [0.28881388902664185, 0.0972641259431839, 0.029726603999733925, 0.055680111050605774, 0.058453235775232315, 0.33120813965797424, 0.1388537883758545, 0.0, 0.0, 0.0, 0.0, 0.0, 0.0, 0.0], [0.19341272115707397, 0.05920462682843208, 0.013136448338627815, 0.020591966807842255, 0.020463455468416214, 0.289863646030426, 0.06621211022138596, 0.33711501955986023, 0.0, 0.0, 0.0, 0.0, 0.0, 0.0], [0.24670200049877167, 0.1623975783586502, 0.04546136409044266, 0.0655331239104271, 0.08052433282136917, 0.16668757796287537, 0.09482768923044205, 0.05430295690894127, 0.08356337994337082, 0.0, 0.0, 0.0, 0.0, 0.0], [0.20211485028266907, 0.1253175437450409, 0.03723939135670662, 0.06854179501533508, 0.07072631269693375, 0.15147003531455994, 0.09535308182239532, 0.04827422648668289, 0.08368393033742905, 0.1172787994146347, 0.0, 0.0, 0.0, 0.0], [0.21068771183490753, 0.08528323471546173, 0.07159087806940079, 0.04337038844823837, 0.09110879898071289, 0.14073701202869415, 0.10956554114818573, 0.047678686678409576, 0.09590131044387817, 0.06693225353956223, 0.03714423254132271, 0.0, 0.0, 0.0], [0.126879021525383, 0.06418416649103165, 0.026548605412244797, 0.04437446966767311, 0.04799670726060867, 0.22283439338207245, 0.097787044942379, 0.05177241563796997, 0.05228409916162491, 0.052161071449518204, 0.07132793217897415, 0.14184990525245667, 0.0, 0.0], [0.17410531640052795, 0.046863116323947906, 0.08707885444164276, 0.16499502956867218, 0.05257666856050491, 0.054134853184223175, 0.05532838776707649, 0.05013791844248772, 0.07344287633895874, 0.03319874405860901, 0.05375515669584274, 0.07934339344501495, 0.07503966987133026, 0.0], [0.1918189823627472, 0.11896130442619324, 0.021804876625537872, 0.039758410304784775, 0.07567637413740158, 0.07515072822570801, 0.049853965640068054, 0.02920345589518547, 0.09647678583860397, 0.1234252080321312, 0.06461198627948761, 0.03295926749706268, 0.012088089250028133, 0.06821044534444809]], [[1.0, 0.0, 0.0, 0.0, 0.0, 0.0, 0.0, 0.0, 0.0, 0.0, 0.0, 0.0, 0.0, 0.0], [0.6883413791656494, 0.3116585910320282, 0.0, 0.0, 0.0, 0.0, 0.0, 0.0, 0.0, 0.0, 0.0, 0.0, 0.0, 0.0], [0.1482812464237213, 0.20962344110012054, 0.6420953273773193, 0.0, 0.0, 0.0, 0.0, 0.0, 0.0, 0.0, 0.0, 0.0, 0.0, 0.0], [0.019525127485394478, 0.0012161909835413098, 0.002730060601606965, 0.9765285849571228, 0.0, 0.0, 0.0, 0.0, 0.0, 0.0, 0.0, 0.0, 0.0, 0.0], [0.08685220032930374, 0.0063209617510437965, 0.00606634933501482, 0.05368155241012573, 0.8470789194107056, 0.0, 0.0, 0.0, 0.0, 0.0, 0.0, 0.0, 0.0, 0.0], [0.07343227416276932, 0.09232106804847717, 0.06240741163492203, 0.08730565011501312, 0.23195050656795502, 0.45258310437202454, 0.0, 0.0, 0.0, 0.0, 0.0, 0.0, 0.0, 0.0], [0.008146470412611961, 0.007366066798567772, 0.013453475199639797, 0.007307607214897871, 0.00598360039293766, 0.07402709126472473, 0.8837156295776367, 0.0, 0.0, 0.0, 0.0, 0.0, 0.0, 0.0], [0.049487125128507614, 0.022921886295080185, 0.013186951167881489, 0.005842094775289297, 0.017991207540035248, 0.07648131996393204, 0.17786245048046112, 0.6362269520759583, 0.0, 0.0, 0.0, 0.0, 0.0, 0.0], [0.0017067898297682405, 0.00032691811793483794, 0.00025512275169603527, 0.00020767460227943957, 0.00023789195984136313, 0.001340213231742382, 0.0038340764585882425, 0.014041939750313759, 0.9780494570732117, 0.0, 0.0, 0.0, 0.0, 0.0], [0.012011529877781868, 0.0034593057353049517, 0.0019376651616767049, 0.0008246193756349385, 0.001844235579483211, 0.005730451084673405, 0.010251353494822979, 0.04372015222907066, 0.17986775934696198, 0.7403530478477478, 0.0, 0.0, 0.0, 0.0], [0.007571609225124121, 0.0002903028507716954, 0.00016151886666193604, 0.000136602291604504, 0.0008062534034252167, 0.0008741483325138688, 0.0037004402838647366, 0.006063179112970829, 0.052532076835632324, 0.028709664940834045, 0.8991543054580688, 0.0, 0.0, 0.0], [0.002984953811392188, 0.0014576943358406425, 0.0010320014553144574, 0.00023093854542821646, 0.000717961578629911, 0.0026926295831799507, 0.004144199658185244, 0.014909131452441216, 0.030161473900079727, 0.11141161620616913, 0.1257968544960022, 0.7044605612754822, 0.0, 0.0], [0.0021906187757849693, 6.154326115392905e-07, 5.521033585864643e-07, 3.0214105208870023e-05, 3.094610292464495e-05, 2.345686425542226e-06, 1.2106077520002145e-05, 7.432322036038386e-06, 4.305571201257408e-05, 5.2787134336540475e-05, 0.0007446557865478098, 0.00018165516667068005, 0.9967029690742493, 0.0], [0.0028494216967374086, 0.00021266638941597193, 0.00011940031254198402, 0.00041750766104087234, 0.00020392680016811937, 0.0004902016371488571, 0.0007183427806012332, 0.001853498280979693, 0.007403581403195858, 0.018282810226082802, 0.009639722295105457, 0.02557467669248581, 0.01602480374276638, 0.9162095189094543]], [[1.0, 0.0, 0.0, 0.0, 0.0, 0.0, 0.0, 0.0, 0.0, 0.0, 0.0, 0.0, 0.0, 0.0], [0.9672309160232544, 0.03276907280087471, 0.0, 0.0, 0.0, 0.0, 0.0, 0.0, 0.0, 0.0, 0.0, 0.0, 0.0, 0.0], [0.6433993577957153, 0.20773275196552277, 0.1488678902387619, 0.0, 0.0, 0.0, 0.0, 0.0, 0.0, 0.0, 0.0, 0.0, 0.0, 0.0], [0.19229182600975037, 0.011974216438829899, 0.012693984434008598, 0.7830399870872498, 0.0, 0.0, 0.0, 0.0, 0.0, 0.0, 0.0, 0.0, 0.0, 0.0], [0.24562999606132507, 0.020583027973771095, 0.03683680295944214, 0.5363954901695251, 0.1605546623468399, 0.0, 0.0, 0.0, 0.0, 0.0, 0.0, 0.0, 0.0, 0.0], [0.14475281536579132, 0.08257143199443817, 0.07498078793287277, 0.20386400818824768, 0.1634543538093567, 0.33037659525871277, 0.0, 0.0, 0.0, 0.0, 0.0, 0.0, 0.0, 0.0], [0.0625394657254219, 0.13811179995536804, 0.11050567030906677, 0.12553849816322327, 0.09808355569839478, 0.09332062304019928, 0.37190037965774536, 0.0, 0.0, 0.0, 0.0, 0.0, 0.0, 0.0], [0.3890868127346039, 0.07418317347764969, 0.01876964420080185, 0.0524071604013443, 0.049179479479789734, 0.05230456590652466, 0.10816974192857742, 0.25589948892593384, 0.0, 0.0, 0.0, 0.0, 0.0, 0.0], [0.05607123672962189, 0.03997799754142761, 0.028642626479268074, 0.027350228279829025, 0.04078981280326843, 0.049450602382421494, 0.13513101637363434, 0.0861077755689621, 0.5364786386489868, 0.0, 0.0, 0.0, 0.0, 0.0], [0.0902906134724617, 0.030829403549432755, 0.019226664677262306, 0.05130872130393982, 0.03480135649442673, 0.0253693126142025, 0.06862779706716537, 0.06293250620365143, 0.267777681350708, 0.34883588552474976, 0.0, 0.0, 0.0, 0.0], [0.061261601746082306, 0.024258114397525787, 0.01383892074227333, 0.022650495171546936, 0.03545123711228371, 0.020657137036323547, 0.04983234032988548, 0.048397358506917953, 0.08794696629047394, 0.18083396553993225, 0.4548717737197876, 0.0, 0.0, 0.0], [0.01299845241010189, 0.004495479166507721, 0.0033444082364439964, 0.009668556042015553, 0.004464072175323963, 0.004117762669920921, 0.013089817017316818, 0.006895777303725481, 0.03676686808466911, 0.04920339956879616, 0.7492069602012634, 0.10574847459793091, 0.0, 0.0], [0.015068127773702145, 0.0007063016528263688, 0.00034193950705230236, 0.0019617441575974226, 0.0010900268098339438, 0.00078914116602391, 0.0013285002205520868, 0.0013538965722545981, 0.0031570601277053356, 0.003069957485422492, 0.01386007945984602, 0.0029963620472699404, 0.954276978969574, 0.0], [0.02900119684636593, 0.00892006978392601, 0.011903878301382065, 0.028389813378453255, 0.012928572483360767, 0.020591270178556442, 0.0285060852766037, 0.02756515145301819, 0.053567200899124146, 0.055050067603588104, 0.11544600129127502, 0.16953253746032715, 0.06858371943235397, 0.370014488697052]], [[1.0, 0.0, 0.0, 0.0, 0.0, 0.0, 0.0, 0.0, 0.0, 0.0, 0.0, 0.0, 0.0, 0.0], [0.05416083335876465, 0.9458391666412354, 0.0, 0.0, 0.0, 0.0, 0.0, 0.0, 0.0, 0.0, 0.0, 0.0, 0.0, 0.0], [0.07158657908439636, 0.11927434056997299, 0.80913907289505, 0.0, 0.0, 0.0, 0.0, 0.0, 0.0, 0.0, 0.0, 0.0, 0.0, 0.0], [0.015847647562623024, 4.6142090468492825e-06, 6.903310804773355e-06, 0.9841408729553223, 0.0, 0.0, 0.0, 0.0, 0.0, 0.0, 0.0, 0.0, 0.0, 0.0], [0.03599949926137924, 5.508206595550291e-05, 9.538925951346755e-05, 0.0009076678543351591, 0.962942361831665, 0.0, 0.0, 0.0, 0.0, 0.0, 0.0, 0.0, 0.0, 0.0], [0.2465745210647583, 0.08203054219484329, 0.15775175392627716, 0.02529294602572918, 0.07559661567211151, 0.412753701210022, 0.0, 0.0, 0.0, 0.0, 0.0, 0.0, 0.0, 0.0], [0.02708391286432743, 0.0054193660616874695, 0.01612045057117939, 0.0020291460677981377, 0.00319810607470572, 0.0022206855937838554, 0.9439283013343811, 0.0, 0.0, 0.0, 0.0, 0.0, 0.0, 0.0], [0.10299275815486908, 0.11786855757236481, 0.17652812600135803, 0.021382339298725128, 0.053333915770053864, 0.1604873687028885, 0.09764520823955536, 0.26976174116134644, 0.0, 0.0, 0.0, 0.0, 0.0, 0.0], [0.06699205935001373, 0.005693914368748665, 0.001534098177216947, 0.0004767462960444391, 5.519212209037505e-05, 0.00018114135309588164, 0.00047852229909040034, 9.922746539814398e-05, 0.9244890809059143, 0.0, 0.0, 0.0, 0.0, 0.0], [0.0028084011282771826, 0.6047285199165344, 0.003274305956438184, 0.00017601496074348688, 0.00012995560246054083, 0.0007054891320876777, 0.00025742893922142684, 0.0011598396813496947, 0.0009874547831714153, 0.38577261567115784, 0.0, 0.0, 0.0, 0.0], [0.027767254039645195, 0.0012940019369125366, 0.0002992704976350069, 0.00012769580644089729, 8.355389581993222e-05, 2.2011974579072557e-05, 8.413696195930243e-05, 1.0970866242132615e-05, 0.0002304899098817259, 6.896882405271754e-05, 0.9700115919113159, 0.0, 0.0, 0.0], [0.018799472600221634, 0.11401814222335815, 0.3044861853122711, 0.01459226943552494, 0.010697770863771439, 0.03382658585906029, 0.029965728521347046, 0.02172570675611496, 0.032633110880851746, 0.042753737419843674, 0.02960214577615261, 0.3468991219997406, 0.0, 0.0], [0.0010815252317115664, 4.294068389754102e-07, 4.1159731267725874e-07, 2.921020677604247e-05, 1.8972472389577888e-05, 5.00333285913257e-08, 2.645001870860142e-07, 1.681872419112551e-08, 9.497338027131264e-08, 1.488951095751645e-08, 6.115219548519235e-07, 3.172284479546761e-08, 0.9988685846328735, 0.0], [0.05602048709988594, 0.0002163230674341321, 0.0003877798735629767, 0.00967614445835352, 0.0005807863199152052, 0.0003245519183110446, 7.520819053752348e-05, 0.00027470398345030844, 0.0006559771718457341, 3.2534648198634386e-05, 4.992089088773355e-05, 7.767699571559206e-05, 0.00028941952041350305, 0.9313386082649231]], [[1.0, 0.0, 0.0, 0.0, 0.0, 0.0, 0.0, 0.0, 0.0, 0.0, 0.0, 0.0, 0.0, 0.0], [0.9769169688224792, 0.02308306097984314, 0.0, 0.0, 0.0, 0.0, 0.0, 0.0, 0.0, 0.0, 0.0, 0.0, 0.0, 0.0], [0.9109213352203369, 0.0667414590716362, 0.02233722247183323, 0.0, 0.0, 0.0, 0.0, 0.0, 0.0, 0.0, 0.0, 0.0, 0.0, 0.0], [0.6110653281211853, 0.047330714762210846, 0.0762808546423912, 0.26532313227653503, 0.0, 0.0, 0.0, 0.0, 0.0, 0.0, 0.0, 0.0, 0.0, 0.0], [0.5152913928031921, 0.07610814273357391, 0.057981159538030624, 0.22907856106758118, 0.12154078483581543, 0.0, 0.0, 0.0, 0.0, 0.0, 0.0, 0.0, 0.0, 0.0], [0.6099100112915039, 0.04005200043320656, 0.020220130681991577, 0.25194019079208374, 0.07132185250520706, 0.006555858533829451, 0.0, 0.0, 0.0, 0.0, 0.0, 0.0, 0.0, 0.0], [0.3655027747154236, 0.04699718579649925, 0.05750197172164917, 0.3197908401489258, 0.12091415375471115, 0.037330348044633865, 0.051962826400995255, 0.0, 0.0, 0.0, 0.0, 0.0, 0.0, 0.0], [0.5340591073036194, 0.0510811023414135, 0.018507160246372223, 0.2555318772792816, 0.0860789567232132, 0.00852796621620655, 0.03762955591082573, 0.008584310300648212, 0.0, 0.0, 0.0, 0.0, 0.0, 0.0], [0.40756964683532715, 0.037833403795957565, 0.032521650195121765, 0.2826492488384247, 0.11262141913175583, 0.019831940531730652, 0.047810330986976624, 0.022225119173526764, 0.03693723678588867, 0.0, 0.0, 0.0, 0.0, 0.0], [0.3442043960094452, 0.03166527673602104, 0.01401456817984581, 0.31756970286369324, 0.13634461164474487, 0.014530349522829056, 0.05636860802769661, 0.012176102958619595, 0.0386977344751358, 0.03442860394716263, 0.0, 0.0, 0.0, 0.0], [0.2793005406856537, 0.03090185858309269, 0.03764478862285614, 0.2476479858160019, 0.16453894972801208, 0.028901588171720505, 0.048432935029268265, 0.025914696976542473, 0.03254853934049606, 0.02427363209426403, 0.07989446073770523, 0.0, 0.0, 0.0], [0.25825995206832886, 0.02305523492395878, 0.008227556012570858, 0.08509443700313568, 0.05504767596721649, 0.007707573007792234, 0.024861717596650124, 0.006425464525818825, 0.020128972828388214, 0.02012033574283123, 0.10789743065834045, 0.3831735849380493, 0.0, 0.0], [0.3239211142063141, 0.028345806524157524, 0.04255911707878113, 0.12791654467582703, 0.08275808393955231, 0.0483902208507061, 0.028833119198679924, 0.03418997302651405, 0.028164131566882133, 0.01628360152244568, 0.025863900780677795, 0.024437570944428444, 0.18833686411380768, 0.0], [0.2902153432369232, 0.02689523622393608, 0.023095138370990753, 0.24189125001430511, 0.05980132147669792, 0.015976136550307274, 0.02636212296783924, 0.018589012324810028, 0.027507435530424118, 0.01853659376502037, 0.04530975595116615, 0.01678948849439621, 0.14971067011356354, 0.0393204465508461]], [[1.0, 0.0, 0.0, 0.0, 0.0, 0.0, 0.0, 0.0, 0.0, 0.0, 0.0, 0.0, 0.0, 0.0], [0.9533714652061462, 0.04662855342030525, 0.0, 0.0, 0.0, 0.0, 0.0, 0.0, 0.0, 0.0, 0.0, 0.0, 0.0, 0.0], [0.497855007648468, 0.31853270530700684, 0.18361222743988037, 0.0, 0.0, 0.0, 0.0, 0.0, 0.0, 0.0, 0.0, 0.0, 0.0, 0.0], [0.26472207903862, 0.1919892132282257, 0.351383239030838, 0.1919054090976715, 0.0, 0.0, 0.0, 0.0, 0.0, 0.0, 0.0, 0.0, 0.0, 0.0], [0.14614446461200714, 0.10725779086351395, 0.12796446681022644, 0.5393722057342529, 0.07926097512245178, 0.0, 0.0, 0.0, 0.0, 0.0, 0.0, 0.0, 0.0, 0.0], [0.09717176109552383, 0.08498357236385345, 0.12312179058790207, 0.14442019164562225, 0.15449731051921844, 0.39580532908439636, 0.0, 0.0, 0.0, 0.0, 0.0, 0.0, 0.0, 0.0], [0.07415071874856949, 0.048145074397325516, 0.06389559060335159, 0.1011972427368164, 0.09303560853004456, 0.38153108954429626, 0.23804466426372528, 0.0, 0.0, 0.0, 0.0, 0.0, 0.0, 0.0], [0.04317241534590721, 0.025501597672700882, 0.033546485006809235, 0.07544295489788055, 0.06337672472000122, 0.23560355603694916, 0.2630894184112549, 0.26026684045791626, 0.0, 0.0, 0.0, 0.0, 0.0, 0.0], [0.04085284471511841, 0.016622290015220642, 0.02256951853632927, 0.016065599396824837, 0.013694929890334606, 0.21781295537948608, 0.15542207658290863, 0.239486962556839, 0.27747273445129395, 0.0, 0.0, 0.0, 0.0, 0.0], [0.030506931245326996, 0.008333928883075714, 0.013763677328824997, 0.0169982947409153, 0.02741863578557968, 0.09986723959445953, 0.11552993953227997, 0.13777650892734528, 0.3090183734893799, 0.24078646302223206, 0.0, 0.0, 0.0, 0.0], [0.03620860353112221, 0.011457039043307304, 0.014401346445083618, 0.008975174278020859, 0.0160867590457201, 0.0719841793179512, 0.07239767163991928, 0.11677206307649612, 0.18247027695178986, 0.3422010540962219, 0.12704578042030334, 0.0, 0.0, 0.0], [0.02462575025856495, 0.006386379711329937, 0.007749604992568493, 0.01683787815272808, 0.013730189763009548, 0.04638854041695595, 0.045855313539505005, 0.06244019791483879, 0.1398496776819229, 0.14622758328914642, 0.255595326423645, 0.23431360721588135, 0.0, 0.0], [0.02753957360982895, 0.017665386199951172, 0.015574044547975063, 0.015651879832148552, 0.006437052972614765, 0.04962044209241867, 0.048311054706573486, 0.07101378589868546, 0.12032958120107651, 0.2173784077167511, 0.07136081904172897, 0.2863856554031372, 0.052732352167367935, 0.0], [0.019618568941950798, 0.006581765133887529, 0.007235296070575714, 0.009194494225084782, 0.008498389273881912, 0.019462360069155693, 0.025012480095028877, 0.030834347009658813, 0.08623374253511429, 0.06660126894712448, 0.10175339877605438, 0.13772138953208923, 0.15928366780281067, 0.3219688832759857]], [[1.0, 0.0, 0.0, 0.0, 0.0, 0.0, 0.0, 0.0, 0.0, 0.0, 0.0, 0.0, 0.0, 0.0], [0.42868494987487793, 0.5713150501251221, 0.0, 0.0, 0.0, 0.0, 0.0, 0.0, 0.0, 0.0, 0.0, 0.0, 0.0, 0.0], [0.07169992476701736, 0.2895478904247284, 0.6387522220611572, 0.0, 0.0, 0.0, 0.0, 0.0, 0.0, 0.0, 0.0, 0.0, 0.0, 0.0], [0.4170326292514801, 0.2257279008626938, 0.2736947238445282, 0.08354479819536209, 0.0, 0.0, 0.0, 0.0, 0.0, 0.0, 0.0, 0.0, 0.0, 0.0], [0.12669432163238525, 0.1426936835050583, 0.29616308212280273, 0.38530367612838745, 0.04914521798491478, 0.0, 0.0, 0.0, 0.0, 0.0, 0.0, 0.0, 0.0, 0.0], [0.03968429192900658, 0.13526488840579987, 0.19801145792007446, 0.01326672825962305, 0.019693145528435707, 0.5940794348716736, 0.0, 0.0, 0.0, 0.0, 0.0, 0.0, 0.0, 0.0], [0.06271132081747055, 0.18582095205783844, 0.26720130443573, 0.0268805343657732, 0.04366673529148102, 0.32718077301979065, 0.08653835952281952, 0.0, 0.0, 0.0, 0.0, 0.0, 0.0, 0.0], [0.02290431410074234, 0.1280917227268219, 0.14394184947013855, 0.010441122576594353, 0.015940558165311813, 0.2948271334171295, 0.038179218769073486, 0.3456740379333496, 0.0, 0.0, 0.0, 0.0, 0.0, 0.0], [0.04512615501880646, 0.17746485769748688, 0.1745811551809311, 0.025232352316379547, 0.03127642348408699, 0.17361502349376678, 0.05253417417407036, 0.23068015277385712, 0.08948966860771179, 0.0, 0.0, 0.0, 0.0, 0.0], [0.021734463050961494, 0.10760141164064407, 0.1237536072731018, 0.013764915056526661, 0.016775311902165413, 0.14940758049488068, 0.045268576592206955, 0.20383957028388977, 0.061246685683727264, 0.2566078305244446, 0.0, 0.0, 0.0, 0.0], [0.0555257685482502, 0.1223127469420433, 0.12026523798704147, 0.05053580552339554, 0.033602744340896606, 0.08569662272930145, 0.07359568774700165, 0.1196846291422844, 0.07893261313438416, 0.2247997373342514, 0.035048387944698334, 0.0, 0.0, 0.0], [0.010678254999220371, 0.06541915237903595, 0.11007663607597351, 0.00912469532340765, 0.013632775284349918, 0.12781667709350586, 0.03663251921534538, 0.16302260756492615, 0.03651055321097374, 0.16497285664081573, 0.018215034157037735, 0.24389824271202087, 0.0, 0.0], [0.15737295150756836, 0.060094818472862244, 0.08272083848714828, 0.07539233565330505, 0.050855424255132675, 0.059453971683979034, 0.07674350589513779, 0.05897253379225731, 0.052650708705186844, 0.04629465192556381, 0.06094949692487717, 0.08607514202594757, 0.132423534989357, 0.0], [0.03005017340183258, 0.06513921171426773, 0.06146857887506485, 0.007259614299982786, 0.016203178092837334, 0.16551589965820312, 0.038769401609897614, 0.1936502307653427, 0.05081963911652565, 0.09337513148784637, 0.02565900608897209, 0.16421595215797424, 0.013133909553289413, 0.07474005967378616]], [[1.0, 0.0, 0.0, 0.0, 0.0, 0.0, 0.0, 0.0, 0.0, 0.0, 0.0, 0.0, 0.0, 0.0], [0.7363795042037964, 0.2636204659938812, 0.0, 0.0, 0.0, 0.0, 0.0, 0.0, 0.0, 0.0, 0.0, 0.0, 0.0, 0.0], [0.5515176057815552, 0.21763229370117188, 0.23085004091262817, 0.0, 0.0, 0.0, 0.0, 0.0, 0.0, 0.0, 0.0, 0.0, 0.0, 0.0], [0.48780161142349243, 0.22450196743011475, 0.2102426141500473, 0.07745378464460373, 0.0, 0.0, 0.0, 0.0, 0.0, 0.0, 0.0, 0.0, 0.0, 0.0], [0.39514249563217163, 0.19528064131736755, 0.18674449622631073, 0.12209828197956085, 0.10073401033878326, 0.0, 0.0, 0.0, 0.0, 0.0, 0.0, 0.0, 0.0, 0.0], [0.3222687840461731, 0.15745078027248383, 0.14971008896827698, 0.09969987720251083, 0.12175944447517395, 0.14911103248596191, 0.0, 0.0, 0.0, 0.0, 0.0, 0.0, 0.0, 0.0], [0.27452465891838074, 0.1380094289779663, 0.1328103393316269, 0.08984176814556122, 0.098826564848423, 0.1311228722333908, 0.13486437499523163, 0.0, 0.0, 0.0, 0.0, 0.0, 0.0, 0.0], [0.24853134155273438, 0.122362419962883, 0.11609289795160294, 0.06998350471258163, 0.08652948588132858, 0.11507033556699753, 0.13121739029884338, 0.1102125495672226, 0.0, 0.0, 0.0, 0.0, 0.0, 0.0], [0.1911597102880478, 0.11427469551563263, 0.10301869362592697, 0.05733983591198921, 0.07047723233699799, 0.11010465025901794, 0.13153032958507538, 0.1043023094534874, 0.11779262125492096, 0.0, 0.0, 0.0, 0.0, 0.0], [0.15884338319301605, 0.09897604584693909, 0.09129428118467331, 0.06810817867517471, 0.07436607033014297, 0.09951609373092651, 0.11459729820489883, 0.09337463974952698, 0.10664314776659012, 0.0942808985710144, 0.0, 0.0, 0.0, 0.0], [0.17455321550369263, 0.0982402041554451, 0.08364275097846985, 0.061057962477207184, 0.07183059304952621, 0.08918443322181702, 0.09756526350975037, 0.08178817480802536, 0.09313216805458069, 0.08967368304729462, 0.059331607073545456, 0.0, 0.0, 0.0], [0.14205418527126312, 0.07987713813781738, 0.0861046090722084, 0.05369074270129204, 0.06788723170757294, 0.07755983620882034, 0.08877740800380707, 0.07652363181114197, 0.08932317793369293, 0.07242264598608017, 0.061230890452861786, 0.10454848408699036, 0.0, 0.0], [0.19148212671279907, 0.07909143716096878, 0.08302922546863556, 0.05651547759771347, 0.06947068870067596, 0.08195599168539047, 0.07301363348960876, 0.07726464420557022, 0.07018700242042542, 0.06544812023639679, 0.057824648916721344, 0.08203034847974777, 0.012686644680798054, 0.0], [0.13794976472854614, 0.08075281977653503, 0.06566935032606125, 0.04870358109474182, 0.04583285376429558, 0.0735243558883667, 0.0757819265127182, 0.06991733610630035, 0.08136987686157227, 0.07055354118347168, 0.05884197726845741, 0.08053175359964371, 0.05151636153459549, 0.05905449390411377]], [[1.0, 0.0, 0.0, 0.0, 0.0, 0.0, 0.0, 0.0, 0.0, 0.0, 0.0, 0.0, 0.0, 0.0], [0.6501124501228333, 0.34988754987716675, 0.0, 0.0, 0.0, 0.0, 0.0, 0.0, 0.0, 0.0, 0.0, 0.0, 0.0, 0.0], [0.47052109241485596, 0.201788991689682, 0.32768991589546204, 0.0, 0.0, 0.0, 0.0, 0.0, 0.0, 0.0, 0.0, 0.0, 0.0, 0.0], [0.38167604804039, 0.16670192778110504, 0.1566915661096573, 0.2949305474758148, 0.0, 0.0, 0.0, 0.0, 0.0, 0.0, 0.0, 0.0, 0.0, 0.0], [0.3974209725856781, 0.1378190964460373, 0.12066132575273514, 0.047610897570848465, 0.2964877486228943, 0.0, 0.0, 0.0, 0.0, 0.0, 0.0, 0.0, 0.0, 0.0], [0.30847248435020447, 0.18925529718399048, 0.14763875305652618, 0.08519802987575531, 0.09607699513435364, 0.1733585000038147, 0.0, 0.0, 0.0, 0.0, 0.0, 0.0, 0.0, 0.0], [0.24317191541194916, 0.1607622504234314, 0.14416798949241638, 0.0664108395576477, 0.06549052894115448, 0.12542417645454407, 0.19457228481769562, 0.0, 0.0, 0.0, 0.0, 0.0, 0.0, 0.0], [0.22673840820789337, 0.1503899246454239, 0.12991002202033997, 0.05995030701160431, 0.08133403211832047, 0.13177920877933502, 0.10871797800064087, 0.1111801266670227, 0.0, 0.0, 0.0, 0.0, 0.0, 0.0], [0.19164195656776428, 0.1252446323633194, 0.1068921610713005, 0.0475885383784771, 0.03956003487110138, 0.0748801976442337, 0.08099255710840225, 0.06782979518175125, 0.2653702199459076, 0.0, 0.0, 0.0, 0.0, 0.0], [0.1161593645811081, 0.21896763145923615, 0.09120379388332367, 0.03603728488087654, 0.039980288594961166, 0.07728506624698639, 0.07225850969552994, 0.07153434306383133, 0.09710131585597992, 0.17947234213352203, 0.0, 0.0, 0.0, 0.0], [0.12744230031967163, 0.096328966319561, 0.09100576490163803, 0.0329909548163414, 0.054511699825525284, 0.07682221382856369, 0.07415848225355148, 0.06678009033203125, 0.08595407009124756, 0.07345663756132126, 0.2205488234758377, 0.0, 0.0, 0.0], [0.11051062494516373, 0.10013225674629211, 0.10913167148828506, 0.044789932668209076, 0.05072934553027153, 0.0868564024567604, 0.08382291346788406, 0.07886003702878952, 0.0849776417016983, 0.07339482754468918, 0.06599649041891098, 0.1107979342341423, 0.0, 0.0], [0.12065313756465912, 0.06994139403104782, 0.07337288558483124, 0.07108613103628159, 0.06339122354984283, 0.06280485540628433, 0.049896690994501114, 0.058618463575839996, 0.060528434813022614, 0.05197710171341896, 0.03393030911684036, 0.056349366903305054, 0.22744996845722198, 0.0], [0.10224837064743042, 0.06636358797550201, 0.04771049693226814, 0.07706533372402191, 0.03793118894100189, 0.08420894294977188, 0.06512398272752762, 0.06622790545225143, 0.05877509340643883, 0.06318149715662003, 0.03603225573897362, 0.0738096684217453, 0.03131682053208351, 0.1900048702955246]], [[1.0, 0.0, 0.0, 0.0, 0.0, 0.0, 0.0, 0.0, 0.0, 0.0, 0.0, 0.0, 0.0, 0.0], [0.6529548764228821, 0.3470451235771179, 0.0, 0.0, 0.0, 0.0, 0.0, 0.0, 0.0, 0.0, 0.0, 0.0, 0.0, 0.0], [0.5079525113105774, 0.2641679644584656, 0.22787950932979584, 0.0, 0.0, 0.0, 0.0, 0.0, 0.0, 0.0, 0.0, 0.0, 0.0, 0.0], [0.49463918805122375, 0.1921427994966507, 0.12197747081518173, 0.19124051928520203, 0.0, 0.0, 0.0, 0.0, 0.0, 0.0, 0.0, 0.0, 0.0, 0.0], [0.5073672533035278, 0.1299697309732437, 0.07305565476417542, 0.14461541175842285, 0.14499196410179138, 0.0, 0.0, 0.0, 0.0, 0.0, 0.0, 0.0, 0.0, 0.0], [0.321951687335968, 0.12383981049060822, 0.0974321961402893, 0.12284963577985764, 0.09106490015983582, 0.2428617626428604, 0.0, 0.0, 0.0, 0.0, 0.0, 0.0, 0.0, 0.0], [0.31847816705703735, 0.06939718872308731, 0.041232042014598846, 0.07720822840929031, 0.08457979559898376, 0.19453518092632294, 0.2145693451166153, 0.0, 0.0, 0.0, 0.0, 0.0, 0.0, 0.0], [0.23489642143249512, 0.10780680924654007, 0.07555528730154037, 0.08932982385158539, 0.07715930789709091, 0.12448277324438095, 0.15230244398117065, 0.13846708834171295, 0.0, 0.0, 0.0, 0.0, 0.0, 0.0], [0.23235799372196198, 0.08080252259969711, 0.06776674836874008, 0.0824236199259758, 0.05927393212914467, 0.17447374761104584, 0.12634232640266418, 0.13010627031326294, 0.04645282030105591, 0.0, 0.0, 0.0, 0.0, 0.0], [0.2332763671875, 0.08207641541957855, 0.0603964701294899, 0.06705842167139053, 0.04980134218931198, 0.12681718170642853, 0.11980339884757996, 0.12123044580221176, 0.04700001701712608, 0.09254002571105957, 0.0, 0.0, 0.0, 0.0], [0.23669876158237457, 0.07265676558017731, 0.046177223324775696, 0.08230025321245193, 0.06790518760681152, 0.09563827514648438, 0.11125767976045609, 0.08616738021373749, 0.031856998801231384, 0.07399865239858627, 0.09534287452697754, 0.0, 0.0, 0.0], [0.18160460889339447, 0.0771310105919838, 0.060755472630262375, 0.0652989000082016, 0.04684704914689064, 0.10380823910236359, 0.07996369153261185, 0.09673140943050385, 0.03465787693858147, 0.08585912734270096, 0.06929156184196472, 0.0980510488152504, 0.0, 0.0], [0.10349716991186142, 0.0922447070479393, 0.048846203833818436, 0.061525989323854446, 0.0670396238565445, 0.08333215117454529, 0.06890053302049637, 0.08602748811244965, 0.06796405464410782, 0.10726345330476761, 0.07076723128557205, 0.08281038701534271, 0.059781063348054886, 0.0], [0.17814281582832336, 0.05434976890683174, 0.050349242985248566, 0.08464928716421127, 0.041285909712314606, 0.091792531311512, 0.07265623658895493, 0.08249291777610779, 0.023191168904304504, 0.05111471191048622, 0.06638998538255692, 0.05978577211499214, 0.07600882649421692, 0.06779070198535919]]], [[[1.0, 0.0, 0.0, 0.0, 0.0, 0.0, 0.0, 0.0, 0.0, 0.0, 0.0, 0.0, 0.0, 0.0], [0.9931812882423401, 0.006818721070885658, 0.0, 0.0, 0.0, 0.0, 0.0, 0.0, 0.0, 0.0, 0.0, 0.0, 0.0, 0.0], [0.6874921321868896, 0.1909753382205963, 0.12153248488903046, 0.0, 0.0, 0.0, 0.0, 0.0, 0.0, 0.0, 0.0, 0.0, 0.0, 0.0], [0.3267664313316345, 0.12431448698043823, 0.3675803244113922, 0.18133877217769623, 0.0, 0.0, 0.0, 0.0, 0.0, 0.0, 0.0, 0.0, 0.0, 0.0], [0.24260427057743073, 0.06766534596681595, 0.2760176658630371, 0.3837733864784241, 0.029939280822873116, 0.0, 0.0, 0.0, 0.0, 0.0, 0.0, 0.0, 0.0, 0.0], [0.3177875578403473, 0.16508986055850983, 0.14744584262371063, 0.19135674834251404, 0.07747892290353775, 0.10084104537963867, 0.0, 0.0, 0.0, 0.0, 0.0, 0.0, 0.0, 0.0], [0.2148580402135849, 0.09962370991706848, 0.13568708300590515, 0.17178015410900116, 0.07041963189840317, 0.16124261915683746, 0.14638881385326385, 0.0, 0.0, 0.0, 0.0, 0.0, 0.0, 0.0], [0.2093576192855835, 0.06198987364768982, 0.0766754224896431, 0.0920507088303566, 0.08670516312122345, 0.05017167702317238, 0.26340508460998535, 0.1596444696187973, 0.0, 0.0, 0.0, 0.0, 0.0, 0.0], [0.13862356543540955, 0.06064709275960922, 0.04906171187758446, 0.03156590089201927, 0.025889722630381584, 0.10222529619932175, 0.16303226351737976, 0.28497543931007385, 0.1439789980649948, 0.0, 0.0, 0.0, 0.0, 0.0], [0.02566373161971569, 0.005559592042118311, 0.017752110958099365, 0.017187833786010742, 0.01615513488650322, 0.024231815710663795, 0.0644579753279686, 0.09537771344184875, 0.5990812182426453, 0.1345328986644745, 0.0, 0.0, 0.0, 0.0], [0.014025873504579067, 0.010921384207904339, 0.008698281832039356, 0.005735932383686304, 0.0032733045518398285, 0.01663363166153431, 0.02949967049062252, 0.07172053307294846, 0.132637158036232, 0.6456103920936584, 0.061243802309036255, 0.0, 0.0, 0.0], [0.013100307434797287, 0.002650063717737794, 0.0059272488579154015, 0.00910104624927044, 0.004846492316573858, 0.007881926372647285, 0.007677898742258549, 0.02525840327143669, 0.050578001886606216, 0.08860549330711365, 0.751937747001648, 0.032435350120067596, 0.0, 0.0], [0.021648012101650238, 0.005872043780982494, 0.00920066051185131, 0.01055856328457594, 0.005176078993827105, 0.022294646129012108, 0.01977677270770073, 0.04239999130368233, 0.06444564461708069, 0.10834499448537827, 0.2344140261411667, 0.3699043095111847, 0.08596404641866684, 0.0], [0.04417562112212181, 0.008902679197490215, 0.010019932873547077, 0.009051486849784851, 0.008624494075775146, 0.017557896673679352, 0.03910534083843231, 0.0641503557562828, 0.09243671596050262, 0.11999457329511642, 0.16767504811286926, 0.16284719109535217, 0.126869335770607, 0.12858925759792328]], [[1.0, 0.0, 0.0, 0.0, 0.0, 0.0, 0.0, 0.0, 0.0, 0.0, 0.0, 0.0, 0.0, 0.0], [0.956825852394104, 0.043174173682928085, 0.0, 0.0, 0.0, 0.0, 0.0, 0.0, 0.0, 0.0, 0.0, 0.0, 0.0, 0.0], [0.6910163164138794, 0.20574772357940674, 0.10323590785264969, 0.0, 0.0, 0.0, 0.0, 0.0, 0.0, 0.0, 0.0, 0.0, 0.0, 0.0], [0.5835140347480774, 0.1918599158525467, 0.14167717099189758, 0.08294882625341415, 0.0, 0.0, 0.0, 0.0, 0.0, 0.0, 0.0, 0.0, 0.0, 0.0], [0.4164300560951233, 0.21729081869125366, 0.17864610254764557, 0.10612549632787704, 0.08150744438171387, 0.0, 0.0, 0.0, 0.0, 0.0, 0.0, 0.0, 0.0, 0.0], [0.4644049108028412, 0.11735883355140686, 0.07565118372440338, 0.052156392484903336, 0.08727420121431351, 0.20315445959568024, 0.0, 0.0, 0.0, 0.0, 0.0, 0.0, 0.0, 0.0], [0.19128426909446716, 0.07234757393598557, 0.061601150780916214, 0.05846146494150162, 0.0961993932723999, 0.37829717993736267, 0.14180895686149597, 0.0, 0.0, 0.0, 0.0, 0.0, 0.0, 0.0], [0.1564130038022995, 0.05087669938802719, 0.04553752392530441, 0.0363476388156414, 0.027808785438537598, 0.2703794240951538, 0.29582348465919495, 0.11681345105171204, 0.0, 0.0, 0.0, 0.0, 0.0, 0.0], [0.09555687755346298, 0.027194637805223465, 0.023926865309476852, 0.022133275866508484, 0.030195724219083786, 0.2952375113964081, 0.17308016121387482, 0.261685311794281, 0.07098964601755142, 0.0, 0.0, 0.0, 0.0, 0.0], [0.08701901882886887, 0.011327242478728294, 0.01771085150539875, 0.017403004691004753, 0.017927629873156548, 0.17029431462287903, 0.14418883621692657, 0.24569030106067657, 0.18932318687438965, 0.09911554306745529, 0.0, 0.0, 0.0, 0.0], [0.06083638593554497, 0.014489567838609219, 0.02242882549762726, 0.013842012733221054, 0.018693512305617332, 0.12619028985500336, 0.09914501756429672, 0.20613448321819305, 0.10229667276144028, 0.2729935944080353, 0.06294962763786316, 0.0, 0.0, 0.0], [0.06352945417165756, 0.015905272215604782, 0.02275003120303154, 0.01323989313095808, 0.01731528528034687, 0.1329997032880783, 0.10071194171905518, 0.15909011662006378, 0.09546735882759094, 0.16744844615459442, 0.08366659283638, 0.1278759092092514, 0.0, 0.0], [0.06244615465402603, 0.011975700967013836, 0.017580261453986168, 0.014342212118208408, 0.01174562331289053, 0.11675332486629486, 0.0632002055644989, 0.14416645467281342, 0.08161872625350952, 0.09897006303071976, 0.12597934901714325, 0.16195514798164368, 0.089266836643219, 0.0], [0.10912743955850601, 0.017408670857548714, 0.01119683962315321, 0.00783523265272379, 0.010504425503313541, 0.08229220658540726, 0.06582937389612198, 0.09887675195932388, 0.0657152459025383, 0.07881413400173187, 0.06669193506240845, 0.09217327833175659, 0.0854390487074852, 0.20809543132781982]], [[1.0, 0.0, 0.0, 0.0, 0.0, 0.0, 0.0, 0.0, 0.0, 0.0, 0.0, 0.0, 0.0, 0.0], [0.9789953827857971, 0.02100462093949318, 0.0, 0.0, 0.0, 0.0, 0.0, 0.0, 0.0, 0.0, 0.0, 0.0, 0.0, 0.0], [0.7419512867927551, 0.049826908856630325, 0.20822180807590485, 0.0, 0.0, 0.0, 0.0, 0.0, 0.0, 0.0, 0.0, 0.0, 0.0, 0.0], [0.6126917600631714, 0.06591794639825821, 0.21542638540267944, 0.10596391558647156, 0.0, 0.0, 0.0, 0.0, 0.0, 0.0, 0.0, 0.0, 0.0, 0.0], [0.5227305889129639, 0.058831438422203064, 0.183350071310997, 0.08775998651981354, 0.14732785522937775, 0.0, 0.0, 0.0, 0.0, 0.0, 0.0, 0.0, 0.0, 0.0], [0.32393184304237366, 0.03826592117547989, 0.11694436520338058, 0.06111851707100868, 0.09889024496078491, 0.36084917187690735, 0.0, 0.0, 0.0, 0.0, 0.0, 0.0, 0.0, 0.0], [0.2347518354654312, 0.03441985696554184, 0.09699811041355133, 0.05102885887026787, 0.07972639799118042, 0.27043458819389343, 0.2326403558254242, 0.0, 0.0, 0.0, 0.0, 0.0, 0.0, 0.0], [0.16972513496875763, 0.02844465896487236, 0.07448074966669083, 0.04053278639912605, 0.06425987184047699, 0.2126099169254303, 0.17553681135177612, 0.23441006243228912, 0.0, 0.0, 0.0, 0.0, 0.0, 0.0], [0.13987043499946594, 0.025168005377054214, 0.06739487498998642, 0.03417159616947174, 0.05506713315844536, 0.18293485045433044, 0.14800810813903809, 0.20618297159671783, 0.14120204746723175, 0.0, 0.0, 0.0, 0.0, 0.0], [0.11248912662267685, 0.027063285931944847, 0.05774160102009773, 0.03241174668073654, 0.047909028828144073, 0.15224121510982513, 0.12307087332010269, 0.1632424145936966, 0.1032625213265419, 0.180568128824234, 0.0, 0.0, 0.0, 0.0], [0.10219410061836243, 0.022240884602069855, 0.0553155243396759, 0.0313323549926281, 0.04610951617360115, 0.146477609872818, 0.11552780121564865, 0.15737895667552948, 0.10055461525917053, 0.14603911340236664, 0.07682955265045166, 0.0, 0.0, 0.0], [0.08539063483476639, 0.02334938757121563, 0.04815768077969551, 0.027737712487578392, 0.04182960465550423, 0.11830680072307587, 0.0927065908908844, 0.12315098941326141, 0.08677712082862854, 0.13127072155475616, 0.06201242282986641, 0.15931029617786407, 0.0, 0.0], [0.07741786539554596, 0.022657183930277824, 0.04387657716870308, 0.02627457119524479, 0.038808438926935196, 0.11289490759372711, 0.09151145815849304, 0.11494007706642151, 0.07685359567403793, 0.11200390011072159, 0.05465291440486908, 0.13804607093334198, 0.09006242454051971, 0.0], [0.06817109882831573, 0.018885867670178413, 0.03625747933983803, 0.02304963394999504, 0.03200828284025192, 0.09039054811000824, 0.07447837293148041, 0.09273512661457062, 0.06963393837213516, 0.09760128706693649, 0.05046192929148674, 0.10936590284109116, 0.08308613300323486, 0.15387436747550964]], [[1.0, 0.0, 0.0, 0.0, 0.0, 0.0, 0.0, 0.0, 0.0, 0.0, 0.0, 0.0, 0.0, 0.0], [0.5684057474136353, 0.4315943121910095, 0.0, 0.0, 0.0, 0.0, 0.0, 0.0, 0.0, 0.0, 0.0, 0.0, 0.0, 0.0], [0.5770633816719055, 0.20967420935630798, 0.2132624238729477, 0.0, 0.0, 0.0, 0.0, 0.0, 0.0, 0.0, 0.0, 0.0, 0.0, 0.0], [0.5553051233291626, 0.14898373186588287, 0.1392778903245926, 0.15643319487571716, 0.0, 0.0, 0.0, 0.0, 0.0, 0.0, 0.0, 0.0, 0.0, 0.0], [0.5366573333740234, 0.10137183964252472, 0.10746494680643082, 0.11645326763391495, 0.1380525678396225, 0.0, 0.0, 0.0, 0.0, 0.0, 0.0, 0.0, 0.0, 0.0], [0.5034183859825134, 0.07721446454524994, 0.08118269592523575, 0.09037601947784424, 0.10150181502103806, 0.1463066041469574, 0.0, 0.0, 0.0, 0.0, 0.0, 0.0, 0.0, 0.0], [0.49805423617362976, 0.05832963064312935, 0.06341177225112915, 0.07282403856515884, 0.0816008523106575, 0.11746629327535629, 0.10831309854984283, 0.0, 0.0, 0.0, 0.0, 0.0, 0.0, 0.0], [0.4971890151500702, 0.04612940922379494, 0.05123499408364296, 0.056496620178222656, 0.06677817553281784, 0.10082963109016418, 0.09034412354230881, 0.09099797159433365, 0.0, 0.0, 0.0, 0.0, 0.0, 0.0], [0.4775647521018982, 0.03837883099913597, 0.04489526152610779, 0.048436298966407776, 0.05618499964475632, 0.08925914019346237, 0.07855945825576782, 0.08426221460103989, 0.08245901763439178, 0.0, 0.0, 0.0, 0.0, 0.0], [0.5041429996490479, 0.031175358220934868, 0.035777416080236435, 0.03744383901357651, 0.043625082820653915, 0.07366371899843216, 0.06346647441387177, 0.0668078064918518, 0.06240376457571983, 0.08149342983961105, 0.0, 0.0, 0.0, 0.0], [0.4894505739212036, 0.02645561844110489, 0.03206726163625717, 0.03495814651250839, 0.04126383364200592, 0.066603884100914, 0.057073142379522324, 0.06250132620334625, 0.05823960155248642, 0.0743156298995018, 0.05707095190882683, 0.0, 0.0, 0.0], [0.5102929472923279, 0.02226194553077221, 0.026683861389756203, 0.028379706665873528, 0.03352374956011772, 0.057116083800792694, 0.048850469291210175, 0.052114345133304596, 0.04927816614508629, 0.062075935304164886, 0.0466001071035862, 0.06282267719507217, 0.0, 0.0], [0.4984114170074463, 0.022163836285471916, 0.02379552088677883, 0.026906857267022133, 0.03141298145055771, 0.05327346920967102, 0.047643329948186874, 0.04874572530388832, 0.04399338737130165, 0.05467873811721802, 0.040509190410375595, 0.05248003825545311, 0.05598559230566025, 0.0], [0.5132694244384766, 0.0168308075517416, 0.019302930682897568, 0.020540179684758186, 0.024599242955446243, 0.04219062253832817, 0.035994675010442734, 0.03838571161031723, 0.03593139350414276, 0.04474152997136116, 0.03431711345911026, 0.0405438207089901, 0.04689003899693489, 0.08646246790885925]], [[1.0, 0.0, 0.0, 0.0, 0.0, 0.0, 0.0, 0.0, 0.0, 0.0, 0.0, 0.0, 0.0, 0.0], [0.933513879776001, 0.06648607552051544, 0.0, 0.0, 0.0, 0.0, 0.0, 0.0, 0.0, 0.0, 0.0, 0.0, 0.0, 0.0], [0.8312208652496338, 0.08197500556707382, 0.0868041068315506, 0.0, 0.0, 0.0, 0.0, 0.0, 0.0, 0.0, 0.0, 0.0, 0.0, 0.0], [0.7250696420669556, 0.08133696019649506, 0.07431711256504059, 0.11927630752325058, 0.0, 0.0, 0.0, 0.0, 0.0, 0.0, 0.0, 0.0, 0.0, 0.0], [0.6455176472663879, 0.07370937615633011, 0.06963985413312912, 0.10002519935369492, 0.11110802739858627, 0.0, 0.0, 0.0, 0.0, 0.0, 0.0, 0.0, 0.0, 0.0], [0.5461761951446533, 0.07084093987941742, 0.06337124854326248, 0.10540502518415451, 0.09963171929121017, 0.11457487940788269, 0.0, 0.0, 0.0, 0.0, 0.0, 0.0, 0.0, 0.0], [0.5070531964302063, 0.06366203725337982, 0.0555315837264061, 0.08786486089229584, 0.0796961635351181, 0.0938858836889267, 0.11230629682540894, 0.0, 0.0, 0.0, 0.0, 0.0, 0.0, 0.0], [0.4421970844268799, 0.060068994760513306, 0.05069015547633171, 0.0773877203464508, 0.07431573420763016, 0.08742421865463257, 0.10083804279565811, 0.10707808285951614, 0.0, 0.0, 0.0, 0.0, 0.0, 0.0], [0.40685033798217773, 0.048292338848114014, 0.04401051998138428, 0.060453735291957855, 0.06349346041679382, 0.07527031749486923, 0.08554612100124359, 0.10002149641513824, 0.11606170982122421, 0.0, 0.0, 0.0, 0.0, 0.0], [0.36353546380996704, 0.05014219507575035, 0.04207626357674599, 0.058595169335603714, 0.05160584673285484, 0.06927724927663803, 0.07503523677587509, 0.08618929982185364, 0.08388469368219376, 0.11965848505496979, 0.0, 0.0, 0.0, 0.0], [0.341429740190506, 0.03777042403817177, 0.033681005239486694, 0.0496482290327549, 0.04999775066971779, 0.06333046406507492, 0.06776630878448486, 0.0787607952952385, 0.08534315228462219, 0.0958915501832962, 0.09638060629367828, 0.0, 0.0, 0.0], [0.30413150787353516, 0.037259336560964584, 0.03518734872341156, 0.04641236737370491, 0.04818866029381752, 0.05592123791575432, 0.05752043426036835, 0.06824462115764618, 0.0778006762266159, 0.09230256080627441, 0.07409606873989105, 0.10293516516685486, 0.0, 0.0], [0.28554826974868774, 0.03651219233870506, 0.03025834821164608, 0.040187254548072815, 0.04201894626021385, 0.05481821671128273, 0.05561772733926773, 0.06358598917722702, 0.062024716287851334, 0.0736822560429573, 0.06314528733491898, 0.08344545215368271, 0.10915534198284149, 0.0], [0.24779710173606873, 0.031102824956178665, 0.027259865775704384, 0.03878481313586235, 0.03488122299313545, 0.04688712954521179, 0.04987733066082001, 0.053277358412742615, 0.0627722442150116, 0.06742001324892044, 0.0628110021352768, 0.06823570281267166, 0.09979277104139328, 0.1091005727648735]], [[1.0, 0.0, 0.0, 0.0, 0.0, 0.0, 0.0, 0.0, 0.0, 0.0, 0.0, 0.0, 0.0, 0.0], [0.9190579056739807, 0.08094216138124466, 0.0, 0.0, 0.0, 0.0, 0.0, 0.0, 0.0, 0.0, 0.0, 0.0, 0.0, 0.0], [0.7952457666397095, 0.11284292489290237, 0.09191122651100159, 0.0, 0.0, 0.0, 0.0, 0.0, 0.0, 0.0, 0.0, 0.0, 0.0, 0.0], [0.5802251696586609, 0.11288107931613922, 0.16154350340366364, 0.14535017311573029, 0.0, 0.0, 0.0, 0.0, 0.0, 0.0, 0.0, 0.0, 0.0, 0.0], [0.6100861430168152, 0.12083848565816879, 0.11889855563640594, 0.03708482161164284, 0.11309192329645157, 0.0, 0.0, 0.0, 0.0, 0.0, 0.0, 0.0, 0.0, 0.0], [0.5626327991485596, 0.10234817117452621, 0.11114544421434402, 0.0296787079423666, 0.012799968011677265, 0.18139494955539703, 0.0, 0.0, 0.0, 0.0, 0.0, 0.0, 0.0, 0.0], [0.4311140179634094, 0.05730728432536125, 0.07450452446937561, 0.015198975801467896, 0.008453167043626308, 0.10339517891407013, 0.3100268840789795, 0.0, 0.0, 0.0, 0.0, 0.0, 0.0, 0.0], [0.26594942808151245, 0.048294078558683395, 0.06076033413410187, 0.009137250483036041, 0.004908288363367319, 0.07766515016555786, 0.11165325343608856, 0.42163217067718506, 0.0, 0.0, 0.0, 0.0, 0.0, 0.0], [0.36925649642944336, 0.08111550658941269, 0.0797809436917305, 0.011309478431940079, 0.007032495923340321, 0.07774090021848679, 0.06957091391086578, 0.12535756826400757, 0.17883574962615967, 0.0, 0.0, 0.0, 0.0, 0.0], [0.32054027915000916, 0.1389312446117401, 0.0829492062330246, 0.010917732492089272, 0.010903103277087212, 0.10820809751749039, 0.04988962039351463, 0.1166086494922638, 0.026387719437479973, 0.1346643567085266, 0.0, 0.0, 0.0, 0.0], [0.343715637922287, 0.056607190519571304, 0.0812058225274086, 0.02496490813791752, 0.011734665371477604, 0.08959787338972092, 0.155022993683815, 0.10510996729135513, 0.03704260289669037, 0.04346514120697975, 0.05153316631913185, 0.0, 0.0, 0.0], [0.21066215634346008, 0.0248113963752985, 0.05341760814189911, 0.005552029702812433, 0.003892735345289111, 0.0470878966152668, 0.028301678597927094, 0.05396485701203346, 0.012968565337359905, 0.02161213383078575, 0.01836211048066616, 0.5193668603897095, 0.0, 0.0], [0.2391500025987625, 0.05395366996526718, 0.0782502070069313, 0.053228478878736496, 0.09704306721687317, 0.120949387550354, 0.04577359929680824, 0.10986340790987015, 0.028486402705311775, 0.03251037374138832, 0.03949589282274246, 0.0330624021589756, 0.06823305785655975, 0.0], [0.19816137850284576, 0.05167672783136368, 0.0571688748896122, 0.021513713523745537, 0.01142264623194933, 0.07365640252828598, 0.08367752283811569, 0.08101314306259155, 0.03441426903009415, 0.026132743805646896, 0.056942418217659, 0.010681318119168282, 0.005614785477519035, 0.2879239618778229]], [[1.0, 0.0, 0.0, 0.0, 0.0, 0.0, 0.0, 0.0, 0.0, 0.0, 0.0, 0.0, 0.0, 0.0], [0.986617386341095, 0.013382569886744022, 0.0, 0.0, 0.0, 0.0, 0.0, 0.0, 0.0, 0.0, 0.0, 0.0, 0.0, 0.0], [0.8585394024848938, 0.05405864119529724, 0.08740197122097015, 0.0, 0.0, 0.0, 0.0, 0.0, 0.0, 0.0, 0.0, 0.0, 0.0, 0.0], [0.814945638179779, 0.03499839827418327, 0.037724729627370834, 0.11233112215995789, 0.0, 0.0, 0.0, 0.0, 0.0, 0.0, 0.0, 0.0, 0.0, 0.0], [0.6780721545219421, 0.060362670570611954, 0.07327444106340408, 0.0907292366027832, 0.09756163507699966, 0.0, 0.0, 0.0, 0.0, 0.0, 0.0, 0.0, 0.0, 0.0], [0.7777755260467529, 0.0384507030248642, 0.034438516944646835, 0.028980890288949013, 0.025556771084666252, 0.09479743987321854, 0.0, 0.0, 0.0, 0.0, 0.0, 0.0, 0.0, 0.0], [0.6141247749328613, 0.07083501666784286, 0.12770287692546844, 0.09147121012210846, 0.014871882274746895, 0.06300223618745804, 0.017991928383708, 0.0, 0.0, 0.0, 0.0, 0.0, 0.0, 0.0], [0.5644797086715698, 0.08599764108657837, 0.08323299884796143, 0.05757632106542587, 0.0380239300429821, 0.08083028346300125, 0.043408725410699844, 0.046450480818748474, 0.0, 0.0, 0.0, 0.0, 0.0, 0.0], [0.5763474106788635, 0.06264959275722504, 0.09208862483501434, 0.06462492048740387, 0.020769143477082253, 0.06268083304166794, 0.04858003929257393, 0.04630840942263603, 0.025950973853468895, 0.0, 0.0, 0.0, 0.0, 0.0], [0.5257629752159119, 0.03758116066455841, 0.07876908034086227, 0.09226133674383163, 0.03968765586614609, 0.05883979797363281, 0.04035605117678642, 0.05831874534487724, 0.04352450743317604, 0.024898763746023178, 0.0, 0.0, 0.0, 0.0], [0.49903371930122375, 0.060681767761707306, 0.057027049362659454, 0.0441681407392025, 0.08736158162355423, 0.028393037617206573, 0.0443066768348217, 0.0397183857858181, 0.05875371769070625, 0.04251899570226669, 0.038036998361349106, 0.0, 0.0, 0.0], [0.37050750851631165, 0.05203220248222351, 0.08719941973686218, 0.04870442673563957, 0.04163256660103798, 0.03996593877673149, 0.04054839536547661, 0.049447618424892426, 0.047746870666742325, 0.05427304655313492, 0.12533541023731232, 0.0426066555082798, 0.0, 0.0], [0.451648086309433, 0.04968498274683952, 0.04056579992175102, 0.05564679950475693, 0.05491100996732712, 0.007470722775906324, 0.022499479353427887, 0.034731391817331314, 0.05190867558121681, 0.02226363494992256, 0.009005870670080185, 0.03482036292552948, 0.16484315693378448, 0.0], [0.4764636754989624, 0.029058588668704033, 0.021971965208649635, 0.024179110303521156, 0.01709704101085663, 0.18193532526493073, 0.01567947492003441, 0.041908565908670425, 0.014301453717052937, 0.016025522723793983, 0.021151507273316383, 0.011277616955339909, 0.024499889463186264, 0.10445024818181992]], [[1.0, 0.0, 0.0, 0.0, 0.0, 0.0, 0.0, 0.0, 0.0, 0.0, 0.0, 0.0, 0.0, 0.0], [0.9746014475822449, 0.025398587808012962, 0.0, 0.0, 0.0, 0.0, 0.0, 0.0, 0.0, 0.0, 0.0, 0.0, 0.0, 0.0], [0.8663115501403809, 0.055166468024253845, 0.0785219743847847, 0.0, 0.0, 0.0, 0.0, 0.0, 0.0, 0.0, 0.0, 0.0, 0.0, 0.0], [0.806503415107727, 0.05972064286470413, 0.07398145645856857, 0.059794556349515915, 0.0, 0.0, 0.0, 0.0, 0.0, 0.0, 0.0, 0.0, 0.0, 0.0], [0.7256773114204407, 0.07987868785858154, 0.08041314035654068, 0.07763123512268066, 0.03639969229698181, 0.0, 0.0, 0.0, 0.0, 0.0, 0.0, 0.0, 0.0, 0.0], [0.6567635536193848, 0.053524695336818695, 0.04841803386807442, 0.0966276302933693, 0.06851206719875336, 0.07615415751934052, 0.0, 0.0, 0.0, 0.0, 0.0, 0.0, 0.0, 0.0], [0.6233704686164856, 0.04488455131649971, 0.04565174877643585, 0.06848432123661041, 0.049898404628038406, 0.10834166407585144, 0.05936884880065918, 0.0, 0.0, 0.0, 0.0, 0.0, 0.0, 0.0], [0.5417630672454834, 0.04485553875565529, 0.04758065938949585, 0.054407306015491486, 0.0555587038397789, 0.08653316646814346, 0.06332536041736603, 0.10597623139619827, 0.0, 0.0, 0.0, 0.0, 0.0, 0.0], [0.5170016884803772, 0.04722707346081734, 0.050461240112781525, 0.06803423166275024, 0.07011105120182037, 0.07674342393875122, 0.054558515548706055, 0.08493392169475555, 0.03092874214053154, 0.0, 0.0, 0.0, 0.0, 0.0], [0.4638160765171051, 0.04818136990070343, 0.04433738440275192, 0.06342045217752457, 0.0584610216319561, 0.07694494724273682, 0.06329316645860672, 0.09915273636579514, 0.03000979870557785, 0.05238305777311325, 0.0, 0.0, 0.0, 0.0], [0.4877704977989197, 0.03704817220568657, 0.041328832507133484, 0.07854456454515457, 0.051995664834976196, 0.0693916380405426, 0.05110567435622215, 0.09011025726795197, 0.02289399318397045, 0.03761208802461624, 0.03219854086637497, 0.0, 0.0, 0.0], [0.4108051359653473, 0.03441764414310455, 0.04283244162797928, 0.06248218193650246, 0.05020339787006378, 0.07030311226844788, 0.046983227133750916, 0.09470414370298386, 0.021911820396780968, 0.034340161830186844, 0.04135306924581528, 0.08966376632452011, 0.0, 0.0], [0.3801701068878174, 0.04333770275115967, 0.05083144083619118, 0.07810165733098984, 0.06020602211356163, 0.08003675192594528, 0.057196471840143204, 0.0734705775976181, 0.025788256898522377, 0.036380790174007416, 0.02674824930727482, 0.07428028434515, 0.013451583683490753, 0.0], [0.40556639432907104, 0.042409200221300125, 0.028398144990205765, 0.06026345491409302, 0.03895992413163185, 0.04598508030176163, 0.03691220283508301, 0.05091000720858574, 0.025797689333558083, 0.03275955468416214, 0.051029812544584274, 0.042241420596838, 0.06460091471672058, 0.0741662010550499]], [[1.0, 0.0, 0.0, 0.0, 0.0, 0.0, 0.0, 0.0, 0.0, 0.0, 0.0, 0.0, 0.0, 0.0], [0.9093093872070312, 0.09069060534238815, 0.0, 0.0, 0.0, 0.0, 0.0, 0.0, 0.0, 0.0, 0.0, 0.0, 0.0, 0.0], [0.7853446006774902, 0.10355913639068604, 0.11109630018472672, 0.0, 0.0, 0.0, 0.0, 0.0, 0.0, 0.0, 0.0, 0.0, 0.0, 0.0], [0.7043868899345398, 0.10711744427680969, 0.13774587213993073, 0.050749771296978, 0.0, 0.0, 0.0, 0.0, 0.0, 0.0, 0.0, 0.0, 0.0, 0.0], [0.6940178275108337, 0.08682198077440262, 0.08765880763530731, 0.05657365918159485, 0.07492773234844208, 0.0, 0.0, 0.0, 0.0, 0.0, 0.0, 0.0, 0.0, 0.0], [0.5023790597915649, 0.10290103405714035, 0.09578613936901093, 0.035762567073106766, 0.0785415768623352, 0.1846296638250351, 0.0, 0.0, 0.0, 0.0, 0.0, 0.0, 0.0, 0.0], [0.5249132513999939, 0.06953560560941696, 0.08061083406209946, 0.04000306501984596, 0.0658835843205452, 0.16144786775112152, 0.057605717331171036, 0.0, 0.0, 0.0, 0.0, 0.0, 0.0, 0.0], [0.43259263038635254, 0.07581966370344162, 0.07575037330389023, 0.030404314398765564, 0.062230125069618225, 0.15202848613262177, 0.05875317007303238, 0.11242129653692245, 0.0, 0.0, 0.0, 0.0, 0.0, 0.0], [0.35685306787490845, 0.08781898766756058, 0.07926777005195618, 0.031960658729076385, 0.06191518157720566, 0.12163805961608887, 0.051990289241075516, 0.11379315704107285, 0.09476286917924881, 0.0, 0.0, 0.0, 0.0, 0.0], [0.3821240961551666, 0.066802479326725, 0.06973392516374588, 0.029079090803861618, 0.04815870523452759, 0.115790456533432, 0.05515466257929802, 0.08313152194023132, 0.07742574065923691, 0.07259944826364517, 0.0, 0.0, 0.0, 0.0], [0.32174810767173767, 0.0670354887843132, 0.0677243024110794, 0.033514052629470825, 0.05199528858065605, 0.11543554812669754, 0.04521222040057182, 0.0868321880698204, 0.0802587941288948, 0.07700743526220322, 0.053236596286296844, 0.0, 0.0, 0.0], [0.3204832673072815, 0.06339918076992035, 0.05927359312772751, 0.025532901287078857, 0.044607069343328476, 0.10470260679721832, 0.05524394288659096, 0.07582195848226547, 0.07478310167789459, 0.06561490148305893, 0.040774326771497726, 0.06976307928562164, 0.0, 0.0], [0.258741557598114, 0.06614189594984055, 0.06745672225952148, 0.022843962535262108, 0.06255700439214706, 0.12677104771137238, 0.04188152402639389, 0.07480726391077042, 0.06929849833250046, 0.06898577511310577, 0.046258196234703064, 0.07730178534984589, 0.01695478893816471, 0.0], [0.23624034225940704, 0.07972590625286102, 0.06122324615716934, 0.027848731726408005, 0.056054167449474335, 0.09450947493314743, 0.04616513103246689, 0.07104266434907913, 0.06672632694244385, 0.07188079506158829, 0.03590472415089607, 0.058108169585466385, 0.028552265837788582, 0.06601803749799728]], [[1.0, 0.0, 0.0, 0.0, 0.0, 0.0, 0.0, 0.0, 0.0, 0.0, 0.0, 0.0, 0.0, 0.0], [0.9590961933135986, 0.04090384766459465, 0.0, 0.0, 0.0, 0.0, 0.0, 0.0, 0.0, 0.0, 0.0, 0.0, 0.0, 0.0], [0.8494706749916077, 0.0693625956773758, 0.08116668462753296, 0.0, 0.0, 0.0, 0.0, 0.0, 0.0, 0.0, 0.0, 0.0, 0.0, 0.0], [0.8137224912643433, 0.07053156197071075, 0.09828311949968338, 0.017462803050875664, 0.0, 0.0, 0.0, 0.0, 0.0, 0.0, 0.0, 0.0, 0.0, 0.0], [0.7545027136802673, 0.08316076546907425, 0.09435179829597473, 0.015022276900708675, 0.05296234413981438, 0.0, 0.0, 0.0, 0.0, 0.0, 0.0, 0.0, 0.0, 0.0], [0.620873212814331, 0.09561126679182053, 0.1334925889968872, 0.03228813409805298, 0.04951571673154831, 0.0682191550731659, 0.0, 0.0, 0.0, 0.0, 0.0, 0.0, 0.0, 0.0], [0.523418664932251, 0.07922790944576263, 0.1327780932188034, 0.02560916729271412, 0.04229231923818588, 0.06526809185743332, 0.13140572607517242, 0.0, 0.0, 0.0, 0.0, 0.0, 0.0, 0.0], [0.5067512392997742, 0.08479364961385727, 0.11548928916454315, 0.02323993481695652, 0.0448727160692215, 0.05179745331406593, 0.1205410361289978, 0.0525146909058094, 0.0, 0.0, 0.0, 0.0, 0.0, 0.0], [0.44195201992988586, 0.08162546157836914, 0.1342243254184723, 0.02222282625734806, 0.039478447288274765, 0.05105343088507652, 0.09882904589176178, 0.05474735051393509, 0.07586701214313507, 0.0, 0.0, 0.0, 0.0, 0.0], [0.4432006776332855, 0.06405164301395416, 0.11901684105396271, 0.01879713125526905, 0.03614093363285065, 0.03952715918421745, 0.09401809424161911, 0.04449104890227318, 0.08469220995903015, 0.0560641884803772, 0.0, 0.0, 0.0, 0.0], [0.38354697823524475, 0.065309077501297, 0.10543270409107208, 0.02179710753262043, 0.038354989141225815, 0.035148441791534424, 0.08911379426717758, 0.03692272678017616, 0.1269070953130722, 0.0456237755715847, 0.05184323713183403, 0.0, 0.0, 0.0], [0.39341112971305847, 0.06903620809316635, 0.10421552509069443, 0.018553122878074646, 0.03745283558964729, 0.03325416147708893, 0.07332321256399155, 0.035022616386413574, 0.07827354967594147, 0.058014385402202606, 0.05064352601766586, 0.048799749463796616, 0.0, 0.0], [0.4343514144420624, 0.07803644239902496, 0.06962975114583969, 0.0164810698479414, 0.0764894112944603, 0.026853172108530998, 0.04367530718445778, 0.029173560440540314, 0.06498541682958603, 0.06009113788604736, 0.05108562484383583, 0.0349082387983799, 0.014239436946809292, 0.0], [0.3361348807811737, 0.08335036784410477, 0.10664696246385574, 0.023981530219316483, 0.0441514290869236, 0.03157538175582886, 0.05355051904916763, 0.03261302039027214, 0.046597935259342194, 0.06930402666330338, 0.06708687543869019, 0.04584382846951485, 0.01757943443953991, 0.04158368334174156]], [[1.0, 0.0, 0.0, 0.0, 0.0, 0.0, 0.0, 0.0, 0.0, 0.0, 0.0, 0.0, 0.0, 0.0], [0.0002472837804816663, 0.9997527003288269, 0.0, 0.0, 0.0, 0.0, 0.0, 0.0, 0.0, 0.0, 0.0, 0.0, 0.0, 0.0], [0.0007670768536627293, 0.5670866966247559, 0.432146281003952, 0.0, 0.0, 0.0, 0.0, 0.0, 0.0, 0.0, 0.0, 0.0, 0.0, 0.0], [0.0007600627723149955, 0.367927610874176, 0.27107298374176025, 0.3602393865585327, 0.0, 0.0, 0.0, 0.0, 0.0, 0.0, 0.0, 0.0, 0.0, 0.0], [0.0008354447199963033, 0.24949820339679718, 0.1904822438955307, 0.25582724809646606, 0.3033568859100342, 0.0, 0.0, 0.0, 0.0, 0.0, 0.0, 0.0, 0.0, 0.0], [0.0014255990972742438, 0.16668902337551117, 0.14150561392307281, 0.1907803863286972, 0.23175156116485596, 0.26784786581993103, 0.0, 0.0, 0.0, 0.0, 0.0, 0.0, 0.0, 0.0], [0.0011756750755012035, 0.12384654581546783, 0.11366506665945053, 0.15670137107372284, 0.1866055130958557, 0.20024366676807404, 0.21776217222213745, 0.0, 0.0, 0.0, 0.0, 0.0, 0.0, 0.0], [0.001575784175656736, 0.09705066680908203, 0.08866582065820694, 0.1214391440153122, 0.15416353940963745, 0.17895647883415222, 0.18271364271640778, 0.1754349321126938, 0.0, 0.0, 0.0, 0.0, 0.0, 0.0], [0.0014553837245330215, 0.078209288418293, 0.07591085135936737, 0.10035048425197601, 0.1246948316693306, 0.14688125252723694, 0.1555272489786148, 0.1469961255788803, 0.16997450590133667, 0.0, 0.0, 0.0, 0.0, 0.0], [0.002052092459052801, 0.06655032187700272, 0.06326185166835785, 0.08019322901964188, 0.10147792100906372, 0.12562787532806396, 0.1256779134273529, 0.12130085378885269, 0.1380625218153, 0.17579533159732819, 0.0, 0.0, 0.0, 0.0], [0.0018706126138567924, 0.05312661454081535, 0.05360110476613045, 0.07246986031532288, 0.09065669029951096, 0.1071184054017067, 0.10645969212055206, 0.107195183634758, 0.12395387142896652, 0.14740896224975586, 0.13613900542259216, 0.0, 0.0, 0.0], [0.0026694510597735643, 0.046458251774311066, 0.0464509092271328, 0.05884029343724251, 0.07819586247205734, 0.095174141228199, 0.09414275735616684, 0.09195476025342941, 0.10904192179441452, 0.13034100830554962, 0.10846629738807678, 0.13826435804367065, 0.0, 0.0], [0.0014369687996804714, 0.04098287969827652, 0.03943198546767235, 0.05243893340229988, 0.06681947410106659, 0.08615416288375854, 0.08642961829900742, 0.08075300604104996, 0.09418635815382004, 0.10493026673793793, 0.08724234253168106, 0.1119159609079361, 0.1472780704498291, 0.0], [0.002588392933830619, 0.03057173639535904, 0.03137174993753433, 0.04190263897180557, 0.0539749339222908, 0.06773940473794937, 0.06815213710069656, 0.06377808749675751, 0.07439353317022324, 0.08438461273908615, 0.0756753534078598, 0.0865650326013565, 0.12434213608503342, 0.19456031918525696]], [[1.0, 0.0, 0.0, 0.0, 0.0, 0.0, 0.0, 0.0, 0.0, 0.0, 0.0, 0.0, 0.0, 0.0], [0.7468165755271912, 0.25318342447280884, 0.0, 0.0, 0.0, 0.0, 0.0, 0.0, 0.0, 0.0, 0.0, 0.0, 0.0, 0.0], [0.25142642855644226, 0.015167628414928913, 0.7334059476852417, 0.0, 0.0, 0.0, 0.0, 0.0, 0.0, 0.0, 0.0, 0.0, 0.0, 0.0], [0.158371239900589, 0.011439301073551178, 0.021696016192436218, 0.808493435382843, 0.0, 0.0, 0.0, 0.0, 0.0, 0.0, 0.0, 0.0, 0.0, 0.0], [0.3814575970172882, 0.008249688893556595, 0.006254104431718588, 0.008511127904057503, 0.5955274701118469, 0.0, 0.0, 0.0, 0.0, 0.0, 0.0, 0.0, 0.0, 0.0], [0.43594083189964294, 0.14380083978176117, 0.15431301295757294, 0.07109033316373825, 0.02853504754602909, 0.1663198620080948, 0.0, 0.0, 0.0, 0.0, 0.0, 0.0, 0.0, 0.0], [0.09738349914550781, 0.01084293331950903, 0.004604699090123177, 0.0009673795429989696, 0.0006136455340310931, 0.04336021468043327, 0.842227578163147, 0.0, 0.0, 0.0, 0.0, 0.0, 0.0, 0.0], [0.248993918299675, 0.10065456479787827, 0.12048931419849396, 0.03628133609890938, 0.02038404904305935, 0.130184143781662, 0.18193373084068298, 0.16107898950576782, 0.0, 0.0, 0.0, 0.0, 0.0, 0.0], [0.057271070778369904, 0.01656334102153778, 0.0032574525102972984, 0.0015278923092409968, 0.0004664080624934286, 0.04866469278931618, 0.007750794291496277, 0.04351739585399628, 0.8209808468818665, 0.0, 0.0, 0.0, 0.0, 0.0], [0.06198987737298012, 0.13207441568374634, 0.004824523814022541, 0.0014080592663958669, 0.0005878465017303824, 0.05538769066333771, 0.00741991912946105, 0.04592170938849449, 0.010391496121883392, 0.6799945831298828, 0.0, 0.0, 0.0, 0.0], [0.04435666650533676, 0.008960716426372528, 0.0023159938864409924, 0.0006822256254963577, 0.001192574156448245, 0.0450747050344944, 0.0062361303716897964, 0.04087869077920914, 0.003032112494111061, 0.0057922713458538055, 0.8414779901504517, 0.0, 0.0, 0.0], [0.13301214575767517, 0.007960783317685127, 0.018362348899245262, 0.0011839134385809302, 0.0006668490241281688, 0.08019207417964935, 0.014619486406445503, 0.07060756534337997, 0.002368854358792305, 0.01272957306355238, 0.004436067305505276, 0.6538602709770203, 0.0, 0.0], [0.03494923934340477, 0.006530366372317076, 0.003814639989286661, 0.0035208428744226694, 0.0044433665461838245, 0.038476672023534775, 0.002465019701048732, 0.035733215510845184, 0.004943728446960449, 0.008375014178454876, 0.005145303905010223, 0.012823857367038727, 0.8387787938117981, 0.0], [0.12334857881069183, 0.008375679142773151, 0.006584750488400459, 0.014116778038442135, 0.0029150182381272316, 0.06036904826760292, 0.016959458589553833, 0.053044866770505905, 0.006113765761256218, 0.0056829010136425495, 0.006716336123645306, 0.048592060804367065, 0.0012988426024094224, 0.6458818912506104]]], [[[1.0, 0.0, 0.0, 0.0, 0.0, 0.0, 0.0, 0.0, 0.0, 0.0, 0.0, 0.0, 0.0, 0.0], [0.9572131037712097, 0.04278692975640297, 0.0, 0.0, 0.0, 0.0, 0.0, 0.0, 0.0, 0.0, 0.0, 0.0, 0.0, 0.0], [0.825028121471405, 0.08012035489082336, 0.09485151618719101, 0.0, 0.0, 0.0, 0.0, 0.0, 0.0, 0.0, 0.0, 0.0, 0.0, 0.0], [0.6776913404464722, 0.08280795067548752, 0.08119871467351913, 0.15830202400684357, 0.0, 0.0, 0.0, 0.0, 0.0, 0.0, 0.0, 0.0, 0.0, 0.0], [0.4029000699520111, 0.09085994213819504, 0.06674674898386002, 0.3452785611152649, 0.09421474486589432, 0.0, 0.0, 0.0, 0.0, 0.0, 0.0, 0.0, 0.0, 0.0], [0.4061543941497803, 0.14176465570926666, 0.08607487380504608, 0.16382268071174622, 0.14195109903812408, 0.060232292860746384, 0.0, 0.0, 0.0, 0.0, 0.0, 0.0, 0.0, 0.0], [0.21316319704055786, 0.06752539426088333, 0.057276349514722824, 0.2111607939004898, 0.15902112424373627, 0.11164537072181702, 0.180207759141922, 0.0, 0.0, 0.0, 0.0, 0.0, 0.0, 0.0], [0.29002904891967773, 0.05013144761323929, 0.042509108781814575, 0.08240041881799698, 0.07193002849817276, 0.09789404273033142, 0.31496909260749817, 0.05013677850365639, 0.0, 0.0, 0.0, 0.0, 0.0, 0.0], [0.2051074057817459, 0.05831826105713844, 0.03515062853693962, 0.03841667249798775, 0.03354160860180855, 0.07795239239931107, 0.3425741493701935, 0.0944143608212471, 0.11452456563711166, 0.0, 0.0, 0.0, 0.0, 0.0], [0.2737891376018524, 0.015996241942048073, 0.018901947885751724, 0.06212102621793747, 0.06569969654083252, 0.06293580681085587, 0.20889011025428772, 0.07800984382629395, 0.10248022526502609, 0.1111760288476944, 0.0, 0.0, 0.0, 0.0], [0.22408133745193481, 0.006941724102944136, 0.011515031568706036, 0.04382731765508652, 0.04647549241781235, 0.0598779059946537, 0.2748359441757202, 0.0839143618941307, 0.08958806842565536, 0.07261897623538971, 0.0863237977027893, 0.0, 0.0, 0.0], [0.15994365513324738, 0.006028621457517147, 0.006640913896262646, 0.024374449625611305, 0.03234921023249626, 0.05330716446042061, 0.08150561153888702, 0.05948382616043091, 0.03723486512899399, 0.0596172995865345, 0.11856649816036224, 0.360947847366333, 0.0, 0.0], [0.14430482685565948, 0.0073753297328948975, 0.005760157946497202, 0.017704159021377563, 0.017677029594779015, 0.050700679421424866, 0.045639947056770325, 0.03853074088692665, 0.057007092982530594, 0.044471368193626404, 0.09255379438400269, 0.4346136152744293, 0.0436612144112587, 0.0], [0.19950053095817566, 0.01622295193374157, 0.010309811681509018, 0.02066718600690365, 0.016376281157135963, 0.0112985298037529, 0.08002284169197083, 0.014563998207449913, 0.07350273430347443, 0.059274256229400635, 0.13719889521598816, 0.22231857478618622, 0.09705185890197754, 0.041691508144140244]], [[1.0, 0.0, 0.0, 0.0, 0.0, 0.0, 0.0, 0.0, 0.0, 0.0, 0.0, 0.0, 0.0, 0.0], [0.9924716949462891, 0.0075283171609044075, 0.0, 0.0, 0.0, 0.0, 0.0, 0.0, 0.0, 0.0, 0.0, 0.0, 0.0, 0.0], [0.9449334740638733, 0.028410907834768295, 0.02665562555193901, 0.0, 0.0, 0.0, 0.0, 0.0, 0.0, 0.0, 0.0, 0.0, 0.0, 0.0], [0.8980589509010315, 0.04388837888836861, 0.03102630376815796, 0.02702629752457142, 0.0, 0.0, 0.0, 0.0, 0.0, 0.0, 0.0, 0.0, 0.0, 0.0], [0.8799959421157837, 0.03760426491498947, 0.025596655905246735, 0.024536317214369774, 0.0322667732834816, 0.0, 0.0, 0.0, 0.0, 0.0, 0.0, 0.0, 0.0, 0.0], [0.8981967568397522, 0.018243875354528427, 0.010569177567958832, 0.016406619921326637, 0.017400186508893967, 0.039183348417282104, 0.0, 0.0, 0.0, 0.0, 0.0, 0.0, 0.0, 0.0], [0.7280194759368896, 0.04692813754081726, 0.013822061941027641, 0.055550042539834976, 0.03331373631954193, 0.09780490398406982, 0.02456156723201275, 0.0, 0.0, 0.0, 0.0, 0.0, 0.0, 0.0], [0.7342875599861145, 0.03455393388867378, 0.010271134786307812, 0.02809208258986473, 0.025450298562645912, 0.06166178733110428, 0.01622920110821724, 0.08945401757955551, 0.0, 0.0, 0.0, 0.0, 0.0, 0.0], [0.6839869618415833, 0.039049915969371796, 0.011890645138919353, 0.05273260921239853, 0.040034662932157516, 0.06658000499010086, 0.02394702658057213, 0.06779295951128006, 0.013985232450067997, 0.0, 0.0, 0.0, 0.0, 0.0], [0.6878902912139893, 0.04788391664624214, 0.01213989406824112, 0.030539389699697495, 0.03243615850806236, 0.05596007779240608, 0.024475540965795517, 0.05633286386728287, 0.016535334289073944, 0.03580651059746742, 0.0, 0.0, 0.0, 0.0], [0.7009212374687195, 0.02717440202832222, 0.016415564343333244, 0.02901264652609825, 0.019065914675593376, 0.0751967579126358, 0.01600639708340168, 0.07007170468568802, 0.016579411923885345, 0.018101172521710396, 0.011454851366579533, 0.0, 0.0, 0.0], [0.7017400860786438, 0.029538730159401894, 0.012327207252383232, 0.034698739647865295, 0.024929480627179146, 0.04450153186917305, 0.012640491127967834, 0.05952425301074982, 0.010746707208454609, 0.022075418382883072, 0.01604592613875866, 0.03123147040605545, 0.0, 0.0], [0.36665108799934387, 0.07833046466112137, 0.015152343548834324, 0.07493609935045242, 0.12167073786258698, 0.06940166652202606, 0.038433752954006195, 0.04940072447061539, 0.02914142608642578, 0.04191923514008522, 0.033166442066431046, 0.02826862223446369, 0.05352747440338135, 0.0], [0.48514604568481445, 0.0431748703122139, 0.012056972831487656, 0.057024672627449036, 0.056213151663541794, 0.05263129994273186, 0.01528485119342804, 0.07896344363689423, 0.010345798917114735, 0.022600552067160606, 0.04385470226407051, 0.02325919270515442, 0.05304853245615959, 0.04639578238129616]], [[1.0, 0.0, 0.0, 0.0, 0.0, 0.0, 0.0, 0.0, 0.0, 0.0, 0.0, 0.0, 0.0, 0.0], [0.9988518953323364, 0.0011481302790343761, 0.0, 0.0, 0.0, 0.0, 0.0, 0.0, 0.0, 0.0, 0.0, 0.0, 0.0, 0.0], [0.2509509325027466, 0.7097373604774475, 0.03931165486574173, 0.0, 0.0, 0.0, 0.0, 0.0, 0.0, 0.0, 0.0, 0.0, 0.0, 0.0], [0.21313326060771942, 0.27145668864250183, 0.44059866666793823, 0.07481135427951813, 0.0, 0.0, 0.0, 0.0, 0.0, 0.0, 0.0, 0.0, 0.0, 0.0], [0.06602651625871658, 0.054035138338804245, 0.05453510954976082, 0.8115395903587341, 0.013863700442016125, 0.0, 0.0, 0.0, 0.0, 0.0, 0.0, 0.0, 0.0, 0.0], [0.18407076597213745, 0.026858922094106674, 0.13047102093696594, 0.15454769134521484, 0.12810693681240082, 0.37594470381736755, 0.0, 0.0, 0.0, 0.0, 0.0, 0.0, 0.0, 0.0], [0.07998518645763397, 0.01994245871901512, 0.012937807478010654, 0.1926901489496231, 0.015698732808232307, 0.49987098574638367, 0.178874671459198, 0.0, 0.0, 0.0, 0.0, 0.0, 0.0, 0.0], [0.008471870794892311, 0.0015998805174604058, 0.0018745679408311844, 0.01981526054441929, 0.0069306944496929646, 0.03481234982609749, 0.7629085183143616, 0.1635867953300476, 0.0, 0.0, 0.0, 0.0, 0.0, 0.0], [0.05048171803355217, 0.002829805016517639, 0.0014641252346336842, 0.0054541705176234245, 0.004319198429584503, 0.19364091753959656, 0.14327576756477356, 0.5343918204307556, 0.06414248794317245, 0.0, 0.0, 0.0, 0.0, 0.0], [0.008385540917515755, 5.673342002410209e-06, 0.00016746955225244164, 0.00044508581049740314, 0.00031470422982238233, 0.005521206185221672, 0.01589384861290455, 0.06775124371051788, 0.8650142550468445, 0.0365009531378746, 0.0, 0.0, 0.0, 0.0], [0.015673644840717316, 8.697500015841797e-05, 0.00018099838052876294, 0.0004694588133133948, 0.00032900398946367204, 0.01348161417990923, 0.017662102356553078, 0.11635889858007431, 0.15150763094425201, 0.607939600944519, 0.07631010562181473, 0.0, 0.0, 0.0], [0.02447526343166828, 2.4370436221943237e-05, 0.00011404621182009578, 0.0006645361427217722, 0.00036668035318143666, 0.0013366640778258443, 0.004867772106081247, 0.01743103191256523, 0.05192731320858002, 0.2602415680885315, 0.5902252197265625, 0.04832565784454346, 0.0, 0.0], [0.0546799972653389, 0.00016863891505636275, 0.00014539163385052234, 0.00021048345661256462, 0.0003755266370717436, 0.00844948273152113, 0.0020416181068867445, 0.032025620341300964, 0.12022368609905243, 0.09725622087717056, 0.05028357729315758, 0.5471037030220032, 0.08703602850437164, 0.0], [0.09132414311170578, 4.36193986388389e-05, 7.593665941385552e-05, 0.000226057309191674, 9.47083390201442e-05, 0.0008952667703852057, 0.0012007651384919882, 0.0007139377994462848, 0.024728352203965187, 0.017840582877397537, 0.01924438774585724, 0.05370407551527023, 0.3075774013996124, 0.4823308289051056]], [[1.0, 0.0, 0.0, 0.0, 0.0, 0.0, 0.0, 0.0, 0.0, 0.0, 0.0, 0.0, 0.0, 0.0], [0.9945032596588135, 0.005496753379702568, 0.0, 0.0, 0.0, 0.0, 0.0, 0.0, 0.0, 0.0, 0.0, 0.0, 0.0, 0.0], [0.7554246187210083, 0.07991774380207062, 0.16465765237808228, 0.0, 0.0, 0.0, 0.0, 0.0, 0.0, 0.0, 0.0, 0.0, 0.0, 0.0], [0.29410532116889954, 0.04934733733534813, 0.4930022656917572, 0.16354508697986603, 0.0, 0.0, 0.0, 0.0, 0.0, 0.0, 0.0, 0.0, 0.0, 0.0], [0.2334587126970291, 0.041535258293151855, 0.1971389502286911, 0.5170440673828125, 0.010822963900864124, 0.0, 0.0, 0.0, 0.0, 0.0, 0.0, 0.0, 0.0, 0.0], [0.23721855878829956, 0.07754747569561005, 0.35757583379745483, 0.18575042486190796, 0.07128346711397171, 0.07062430679798126, 0.0, 0.0, 0.0, 0.0, 0.0, 0.0, 0.0, 0.0], [0.1283261626958847, 0.03781948611140251, 0.27302390336990356, 0.10819263011217117, 0.026719987392425537, 0.23120887577533722, 0.194708913564682, 0.0, 0.0, 0.0, 0.0, 0.0, 0.0, 0.0], [0.07490914314985275, 0.012113906443119049, 0.14949269592761993, 0.05266769975423813, 0.007612302433699369, 0.042514726519584656, 0.5934537053108215, 0.06723577529191971, 0.0, 0.0, 0.0, 0.0, 0.0, 0.0], [0.09264744818210602, 0.0055634560994803905, 0.03180652856826782, 0.01212399359792471, 0.02149548940360546, 0.0397552028298378, 0.2668018341064453, 0.3655147850513458, 0.16429127752780914, 0.0, 0.0, 0.0, 0.0, 0.0], [0.09338439255952835, 0.0010648799361661077, 0.034962333738803864, 0.01134989969432354, 0.006733066868036985, 0.0443073995411396, 0.10169635713100433, 0.25364357233047485, 0.3661242723464966, 0.08673383295536041, 0.0, 0.0, 0.0, 0.0], [0.09320180118083954, 0.0015159894246608019, 0.028133446350693703, 0.00957685336470604, 0.004703333135694265, 0.02038153074681759, 0.151410773396492, 0.10815063118934631, 0.4821792244911194, 0.06569524854421616, 0.03505117446184158, 0.0, 0.0, 0.0], [0.11186925321817398, 0.0012775727082043886, 0.017279600724577904, 0.013730447739362717, 0.0030761943198740482, 0.0197382140904665, 0.10379836708307266, 0.10078153759241104, 0.49226903915405273, 0.07290394604206085, 0.03203843533992767, 0.031237376853823662, 0.0, 0.0], [0.08051513880491257, 0.0025221938267350197, 0.03176581859588623, 0.011678683571517467, 0.002353650750592351, 0.013525751419365406, 0.043490611016750336, 0.0342949815094471, 0.4137437343597412, 0.06553768366575241, 0.1204792708158493, 0.08060342818498611, 0.09948893636465073, 0.0], [0.10858161747455597, 0.004912491422146559, 0.017496535554528236, 0.006706726737320423, 0.0028846869245171547, 0.003962503280490637, 0.05748637393116951, 0.0387105867266655, 0.1394670009613037, 0.07629237323999405, 0.09821810573339462, 0.14189083874225616, 0.22033850848674774, 0.08305171877145767]], [[1.0, 0.0, 0.0, 0.0, 0.0, 0.0, 0.0, 0.0, 0.0, 0.0, 0.0, 0.0, 0.0, 0.0], [0.9835749864578247, 0.01642507314682007, 0.0, 0.0, 0.0, 0.0, 0.0, 0.0, 0.0, 0.0, 0.0, 0.0, 0.0, 0.0], [0.6160141825675964, 0.3086111545562744, 0.07537471503019333, 0.0, 0.0, 0.0, 0.0, 0.0, 0.0, 0.0, 0.0, 0.0, 0.0, 0.0], [0.5427364110946655, 0.2113461047410965, 0.2252371609210968, 0.02068040892481804, 0.0, 0.0, 0.0, 0.0, 0.0, 0.0, 0.0, 0.0, 0.0, 0.0], [0.24066732823848724, 0.1868966817855835, 0.10387060791254044, 0.4494423568248749, 0.019123006612062454, 0.0, 0.0, 0.0, 0.0, 0.0, 0.0, 0.0, 0.0, 0.0], [0.3472488522529602, 0.11984218657016754, 0.175459623336792, 0.1141899824142456, 0.014434067532420158, 0.22882531583309174, 0.0, 0.0, 0.0, 0.0, 0.0, 0.0, 0.0, 0.0], [0.2999081611633301, 0.06323541700839996, 0.09007122367620468, 0.09505023807287216, 0.004805618431419134, 0.3647381067276001, 0.08219127357006073, 0.0, 0.0, 0.0, 0.0, 0.0, 0.0, 0.0], [0.23356787860393524, 0.014773232862353325, 0.05584871768951416, 0.010759195312857628, 0.011833512224256992, 0.09512553364038467, 0.4690864384174347, 0.10900552570819855, 0.0, 0.0, 0.0, 0.0, 0.0, 0.0], [0.25624144077301025, 0.005850771442055702, 0.011607790365815163, 0.0005465647554956377, 0.000433904497185722, 0.11551287770271301, 0.18067604303359985, 0.4216645359992981, 0.007465996779501438, 0.0, 0.0, 0.0, 0.0, 0.0], [0.17999909818172455, 0.0027851767372339964, 0.010587153024971485, 0.0005966813769191504, 0.0007235644152387977, 0.07919126003980637, 0.2913379669189453, 0.19273369014263153, 0.1486266702413559, 0.09341882169246674, 0.0, 0.0, 0.0, 0.0], [0.12061481922864914, 0.006319053936749697, 0.006453356705605984, 0.00438666483387351, 0.0007805416244082153, 0.037951186299324036, 0.14910630881786346, 0.2576709985733032, 0.04645004868507385, 0.32648444175720215, 0.04378248006105423, 0.0, 0.0, 0.0], [0.02900730073451996, 0.0002622865722514689, 0.0003585206577554345, 0.002159158233553171, 0.0011902065016329288, 0.004997348412871361, 0.005069490056484938, 0.02241813950240612, 0.09546341001987457, 0.02907462976872921, 0.7682939767837524, 0.04170549288392067, 0.0, 0.0], [0.17667962610721588, 0.0036279852502048016, 0.0032189900521188974, 0.002078859368339181, 0.0008461112156510353, 0.02795039862394333, 0.004890951327979565, 0.065016970038414, 0.4683368504047394, 0.07620825618505478, 0.06689157336950302, 0.08996986597776413, 0.014283613301813602, 0.0], [0.3338823616504669, 0.00787742156535387, 0.010152640752494335, 0.0025440368335694075, 0.00015926196647342294, 0.02485062927007675, 0.04691736027598381, 0.06654741615056992, 0.032592643052339554, 0.0858338475227356, 0.00853599514812231, 0.07214921712875366, 0.13301219046115875, 0.17494505643844604]], [[1.0, 0.0, 0.0, 0.0, 0.0, 0.0, 0.0, 0.0, 0.0, 0.0, 0.0, 0.0, 0.0, 0.0], [0.9709694385528564, 0.029030533507466316, 0.0, 0.0, 0.0, 0.0, 0.0, 0.0, 0.0, 0.0, 0.0, 0.0, 0.0, 0.0], [0.49314966797828674, 0.4522642195224762, 0.05458604171872139, 0.0, 0.0, 0.0, 0.0, 0.0, 0.0, 0.0, 0.0, 0.0, 0.0, 0.0], [0.4890747368335724, 0.27222687005996704, 0.1800992488861084, 0.05859914422035217, 0.0, 0.0, 0.0, 0.0, 0.0, 0.0, 0.0, 0.0, 0.0, 0.0], [0.401887446641922, 0.2260780781507492, 0.09418370574712753, 0.1670914590358734, 0.11075925081968307, 0.0, 0.0, 0.0, 0.0, 0.0, 0.0, 0.0, 0.0, 0.0], [0.20859819650650024, 0.09304764866828918, 0.08572912961244583, 0.06998783349990845, 0.23048289120197296, 0.31215426325798035, 0.0, 0.0, 0.0, 0.0, 0.0, 0.0, 0.0, 0.0], [0.09345542639493942, 0.023636162281036377, 0.027486447244882584, 0.02233175002038479, 0.0677812248468399, 0.6273017525672913, 0.1380072385072708, 0.0, 0.0, 0.0, 0.0, 0.0, 0.0, 0.0], [0.04258667305111885, 0.013564039021730423, 0.01337344478815794, 0.003422875888645649, 0.014519685879349709, 0.2370121031999588, 0.5651625394821167, 0.11035865545272827, 0.0, 0.0, 0.0, 0.0, 0.0, 0.0], [0.07217029482126236, 0.004349746275693178, 0.006047133356332779, 0.004375491291284561, 0.00881064310669899, 0.16979417204856873, 0.19632865488529205, 0.49106523394584656, 0.04705863073468208, 0.0, 0.0, 0.0, 0.0, 0.0], [0.07074805349111557, 0.00047307831118814647, 0.004415449686348438, 0.0025865633506327868, 0.0032802775967866182, 0.11345530301332474, 0.21271978318691254, 0.39566683769226074, 0.12682946026325226, 0.06982515752315521, 0.0, 0.0, 0.0, 0.0], [0.06120094656944275, 0.0009049526415765285, 0.003959254361689091, 0.002769141923636198, 0.0033270542044192553, 0.07969637215137482, 0.15390820801258087, 0.3773510754108429, 0.11135879158973694, 0.19370980560779572, 0.01181438285857439, 0.0, 0.0, 0.0], [0.09036435186862946, 0.001509253983385861, 0.0019827079959213734, 0.0014781792415305972, 0.003426534356549382, 0.05456555634737015, 0.11905819177627563, 0.2079622596502304, 0.08690328896045685, 0.32058101892471313, 0.01936376467347145, 0.0928049385547638, 0.0, 0.0], [0.07419583201408386, 0.0016185409622266889, 0.001890053041279316, 0.0025213700719177723, 0.005836729891598225, 0.05127674341201782, 0.07316405326128006, 0.13060714304447174, 0.08453856408596039, 0.13670337200164795, 0.08403713256120682, 0.3191237151622772, 0.034486763179302216, 0.0], [0.14612028002738953, 0.00208142283372581, 0.00259212008677423, 0.0017411933513358235, 0.004914379213005304, 0.012454988434910774, 0.023361803963780403, 0.06421424448490143, 0.019309556111693382, 0.05592859536409378, 0.013688086532056332, 0.14209042489528656, 0.11422930657863617, 0.3972736597061157]], [[1.0, 0.0, 0.0, 0.0, 0.0, 0.0, 0.0, 0.0, 0.0, 0.0, 0.0, 0.0, 0.0, 0.0], [0.9926663041114807, 0.007333726156502962, 0.0, 0.0, 0.0, 0.0, 0.0, 0.0, 0.0, 0.0, 0.0, 0.0, 0.0, 0.0], [0.9252892136573792, 0.02330363728106022, 0.05140719562768936, 0.0, 0.0, 0.0, 0.0, 0.0, 0.0, 0.0, 0.0, 0.0, 0.0, 0.0], [0.8798325657844543, 0.021916868165135384, 0.0517546609044075, 0.04649593308568001, 0.0, 0.0, 0.0, 0.0, 0.0, 0.0, 0.0, 0.0, 0.0, 0.0], [0.8754690885543823, 0.014479990117251873, 0.04317595064640045, 0.02301202528178692, 0.04386294260621071, 0.0, 0.0, 0.0, 0.0, 0.0, 0.0, 0.0, 0.0, 0.0], [0.5792649388313293, 0.027434280142188072, 0.03533129394054413, 0.03459253907203674, 0.06073032692074776, 0.2626466453075409, 0.0, 0.0, 0.0, 0.0, 0.0, 0.0, 0.0, 0.0], [0.31222063302993774, 0.02153262309730053, 0.039694078266620636, 0.025441471487283707, 0.03188193589448929, 0.4981982409954071, 0.0710311159491539, 0.0, 0.0, 0.0, 0.0, 0.0, 0.0, 0.0], [0.34328290820121765, 0.01478284690529108, 0.022753490135073662, 0.020467599853873253, 0.03257043659687042, 0.37341684103012085, 0.1485949605703354, 0.044130872935056686, 0.0, 0.0, 0.0, 0.0, 0.0, 0.0], [0.27485114336013794, 0.02364334836602211, 0.0260557122528553, 0.03396638482809067, 0.037627652287483215, 0.3694925606250763, 0.10610739886760712, 0.04300791770219803, 0.0852479562163353, 0.0, 0.0, 0.0, 0.0, 0.0], [0.2510853409767151, 0.006241599563509226, 0.01393165998160839, 0.021504631265997887, 0.024779964238405228, 0.28450700640678406, 0.15469864010810852, 0.05764119327068329, 0.13307738304138184, 0.05253266543149948, 0.0, 0.0, 0.0, 0.0], [0.2020096480846405, 0.004789693281054497, 0.015005051158368587, 0.012217684648931026, 0.018073199316859245, 0.2403203248977661, 0.14464811980724335, 0.0595991387963295, 0.17098864912986755, 0.04203007370233536, 0.09031841158866882, 0.0, 0.0, 0.0], [0.18804524838924408, 0.005517046898603439, 0.013631266541779041, 0.01225503720343113, 0.01321637537330389, 0.2045988142490387, 0.1052984744310379, 0.05559873580932617, 0.16230128705501556, 0.04278801754117012, 0.0561395063996315, 0.14061014354228973, 0.0, 0.0], [0.29550105333328247, 0.007416612934321165, 0.014814919792115688, 0.008823512122035027, 0.015442071482539177, 0.1848580688238144, 0.08713201433420181, 0.061071060597896576, 0.1120380312204361, 0.04487135633826256, 0.0469135083258152, 0.07076724618673325, 0.050350580364465714, 0.0], [0.1581716388463974, 0.0060395472683012486, 0.009029321372509003, 0.010516325011849403, 0.01798487827181816, 0.12256848812103271, 0.07910038530826569, 0.018372289836406708, 0.10050521790981293, 0.028716610744595528, 0.057112276554107666, 0.07632148265838623, 0.040818534791469574, 0.274742990732193]], [[1.0, 0.0, 0.0, 0.0, 0.0, 0.0, 0.0, 0.0, 0.0, 0.0, 0.0, 0.0, 0.0, 0.0], [0.868912935256958, 0.13108707964420319, 0.0, 0.0, 0.0, 0.0, 0.0, 0.0, 0.0, 0.0, 0.0, 0.0, 0.0, 0.0], [0.6704715490341187, 0.0812542736530304, 0.24827420711517334, 0.0, 0.0, 0.0, 0.0, 0.0, 0.0, 0.0, 0.0, 0.0, 0.0, 0.0], [0.4933050572872162, 0.06331612914800644, 0.13421699404716492, 0.30916181206703186, 0.0, 0.0, 0.0, 0.0, 0.0, 0.0, 0.0, 0.0, 0.0, 0.0], [0.3491557538509369, 0.027927760034799576, 0.07229892909526825, 0.17371392250061035, 0.37690362334251404, 0.0, 0.0, 0.0, 0.0, 0.0, 0.0, 0.0, 0.0, 0.0], [0.2250576913356781, 0.023209737613797188, 0.05948349088430405, 0.15878792107105255, 0.307485967874527, 0.22597528994083405, 0.0, 0.0, 0.0, 0.0, 0.0, 0.0, 0.0, 0.0], [0.18694572150707245, 0.014681183733046055, 0.039974335581064224, 0.11539434641599655, 0.21565087139606476, 0.1780472844839096, 0.249306321144104, 0.0, 0.0, 0.0, 0.0, 0.0, 0.0, 0.0], [0.15206573903560638, 0.010928399860858917, 0.029980864375829697, 0.07209616899490356, 0.15080350637435913, 0.12417161464691162, 0.24027927219867706, 0.2196744829416275, 0.0, 0.0, 0.0, 0.0, 0.0, 0.0], [0.12346618622541428, 0.012506984174251556, 0.02550950087606907, 0.051075611263513565, 0.10529708117246628, 0.08948621153831482, 0.1465582698583603, 0.1580892652273178, 0.2880108952522278, 0.0, 0.0, 0.0, 0.0, 0.0], [0.10424633324146271, 0.0086484020575881, 0.01973908022046089, 0.04067683592438698, 0.06987578421831131, 0.0658436194062233, 0.10969597846269608, 0.09400326013565063, 0.2241746336221695, 0.2630961537361145, 0.0, 0.0, 0.0, 0.0], [0.09516726434230804, 0.008327136747539043, 0.018281754106283188, 0.035235445946455, 0.05935647711157799, 0.058216117322444916, 0.10771916061639786, 0.08962886035442352, 0.16920436918735504, 0.2285211980342865, 0.13034221529960632, 0.0, 0.0, 0.0], [0.09465613961219788, 0.009079961106181145, 0.01642131805419922, 0.030198782682418823, 0.053333476185798645, 0.04976240545511246, 0.0820344090461731, 0.06861617416143417, 0.15502355992794037, 0.1840004026889801, 0.1123896986246109, 0.1444835215806961, 0.0, 0.0], [0.11092700809240341, 0.012669616378843784, 0.01743396185338497, 0.03458821773529053, 0.05528504401445389, 0.05450781062245369, 0.06589431315660477, 0.061210986226797104, 0.11501975357532501, 0.12750358879566193, 0.08026956766843796, 0.10669352859258652, 0.15799662470817566, 0.0], [0.07887595146894455, 0.009092994965612888, 0.013692955486476421, 0.029737314209342003, 0.04773226007819176, 0.03442979231476784, 0.054608944803476334, 0.047575779259204865, 0.11323221027851105, 0.11170933395624161, 0.07677969336509705, 0.07172387093305588, 0.1401350498199463, 0.17067384719848633]], [[1.0, 0.0, 0.0, 0.0, 0.0, 0.0, 0.0, 0.0, 0.0, 0.0, 0.0, 0.0, 0.0, 0.0], [0.9471847414970398, 0.052815262228250504, 0.0, 0.0, 0.0, 0.0, 0.0, 0.0, 0.0, 0.0, 0.0, 0.0, 0.0, 0.0], [0.5016269087791443, 0.4710073173046112, 0.027365829795598984, 0.0, 0.0, 0.0, 0.0, 0.0, 0.0, 0.0, 0.0, 0.0, 0.0, 0.0], [0.4001155495643616, 0.35096219182014465, 0.12265663594007492, 0.12626570463180542, 0.0, 0.0, 0.0, 0.0, 0.0, 0.0, 0.0, 0.0, 0.0, 0.0], [0.3461667001247406, 0.2941323220729828, 0.1016799733042717, 0.21522070467472076, 0.042800337076187134, 0.0, 0.0, 0.0, 0.0, 0.0, 0.0, 0.0, 0.0, 0.0], [0.13259893655776978, 0.41930294036865234, 0.11360379308462143, 0.1213715448975563, 0.09318511933088303, 0.11993764340877533, 0.0, 0.0, 0.0, 0.0, 0.0, 0.0, 0.0, 0.0], [0.08613086491823196, 0.31011348962783813, 0.09338320791721344, 0.04203084856271744, 0.0522601455450058, 0.22828742861747742, 0.1877940595149994, 0.0, 0.0, 0.0, 0.0, 0.0, 0.0, 0.0], [0.07767666131258011, 0.14015451073646545, 0.0420377254486084, 0.022202789783477783, 0.01985684596002102, 0.107953280210495, 0.5210533142089844, 0.06906482577323914, 0.0, 0.0, 0.0, 0.0, 0.0, 0.0], [0.10674090683460236, 0.08037831634283066, 0.01833449676632881, 0.01403781957924366, 0.0146073829382658, 0.11651886999607086, 0.2919202744960785, 0.29533451795578003, 0.06212751567363739, 0.0, 0.0, 0.0, 0.0, 0.0], [0.12255369871854782, 0.0061846645548939705, 0.01085338369011879, 0.010710649192333221, 0.00810210406780243, 0.08657190203666687, 0.18765613436698914, 0.24026621878147125, 0.05179652199149132, 0.27530476450920105, 0.0, 0.0, 0.0, 0.0], [0.07728885114192963, 0.005902692209929228, 0.0037528614047914743, 0.0039419266395270824, 0.0013632882619276643, 0.04156734049320221, 0.07214377820491791, 0.10299642384052277, 0.018433015793561935, 0.6521757245063782, 0.0204341858625412, 0.0, 0.0, 0.0], [0.0807952955365181, 0.003569908905774355, 0.002082525985315442, 0.0014049886958673596, 0.0004082484811078757, 0.024436870589852333, 0.02106831967830658, 0.07349160313606262, 0.01376237254589796, 0.5760763883590698, 0.13246965408325195, 0.0704338476061821, 0.0, 0.0], [0.049224358052015305, 0.0032163073774427176, 0.002979433164000511, 0.0020440449006855488, 0.0015249503776431084, 0.013523183763027191, 0.019120752811431885, 0.028528228402137756, 0.030129263177514076, 0.16099442541599274, 0.344588041305542, 0.26752594113349915, 0.076601043343544, 0.0], [0.08313674479722977, 0.018122054636478424, 0.007752546574920416, 0.004015977494418621, 0.0037444347981363535, 0.007261420600116253, 0.05852699652314186, 0.029682768508791924, 0.037270426750183105, 0.2935011386871338, 0.01692219451069832, 0.2335822582244873, 0.08896809071302414, 0.11751297116279602]], [[1.0, 0.0, 0.0, 0.0, 0.0, 0.0, 0.0, 0.0, 0.0, 0.0, 0.0, 0.0, 0.0, 0.0], [0.9961389899253845, 0.0038610154297202826, 0.0, 0.0, 0.0, 0.0, 0.0, 0.0, 0.0, 0.0, 0.0, 0.0, 0.0, 0.0], [0.9129564166069031, 0.06319952756166458, 0.023844098672270775, 0.0, 0.0, 0.0, 0.0, 0.0, 0.0, 0.0, 0.0, 0.0, 0.0, 0.0], [0.6667996048927307, 0.0671638548374176, 0.06346919387578964, 0.20256733894348145, 0.0, 0.0, 0.0, 0.0, 0.0, 0.0, 0.0, 0.0, 0.0, 0.0], [0.23040753602981567, 0.048773571848869324, 0.04283027723431587, 0.5689948201179504, 0.10899380594491959, 0.0, 0.0, 0.0, 0.0, 0.0, 0.0, 0.0, 0.0, 0.0], [0.12850536406040192, 0.010715468786656857, 0.029164200648665428, 0.19618138670921326, 0.5493987798690796, 0.08603481203317642, 0.0, 0.0, 0.0, 0.0, 0.0, 0.0, 0.0, 0.0], [0.07117918878793716, 0.01407927367836237, 0.03447044640779495, 0.21742841601371765, 0.27201324701309204, 0.34037086367607117, 0.05045853927731514, 0.0, 0.0, 0.0, 0.0, 0.0, 0.0, 0.0], [0.11429627239704132, 0.016025876626372337, 0.03192145377397537, 0.13176144659519196, 0.25529372692108154, 0.14802297949790955, 0.209897980093956, 0.09278026223182678, 0.0, 0.0, 0.0, 0.0, 0.0, 0.0], [0.09333470463752747, 0.007906454615294933, 0.011565595865249634, 0.08030017465353012, 0.09396564215421677, 0.14764955639839172, 0.08371744304895401, 0.2256591022014618, 0.2559013366699219, 0.0, 0.0, 0.0, 0.0, 0.0], [0.07200580090284348, 0.0009307715808972716, 0.00438464293256402, 0.05133283883333206, 0.04543355107307434, 0.06670136749744415, 0.03310113400220871, 0.14803779125213623, 0.46367141604423523, 0.11440057307481766, 0.0, 0.0, 0.0, 0.0], [0.08290594816207886, 0.0007104871328920126, 0.0032174394000321627, 0.035858381539583206, 0.029076244682073593, 0.037516772747039795, 0.030654512345790863, 0.09393278509378433, 0.392416387796402, 0.13124839961528778, 0.16246266663074493, 0.0, 0.0, 0.0], [0.08504187315702438, 0.0005776348407380283, 0.0018407931784167886, 0.01967369206249714, 0.02211928367614746, 0.02756614424288273, 0.02067854255437851, 0.07912292331457138, 0.3120775520801544, 0.07471490651369095, 0.31234270334243774, 0.044243987649679184, 0.0, 0.0], [0.07448364049196243, 0.0013273340882733464, 0.0011558713158592582, 0.005470093339681625, 0.00965039525181055, 0.02633805386722088, 0.01286532822996378, 0.024492530152201653, 0.2565711736679077, 0.06304294615983963, 0.2516387701034546, 0.06442607939243317, 0.20853792130947113, 0.0], [0.06016549468040466, 0.00047740607988089323, 0.0009607415413483977, 0.004594715312123299, 0.009394768625497818, 0.0031826540362089872, 0.005876285023987293, 0.0053995586931705475, 0.035548727959394455, 0.01668339967727661, 0.04412982240319252, 0.03794915974140167, 0.6302211880683899, 0.14541609585285187]], [[1.0, 0.0, 0.0, 0.0, 0.0, 0.0, 0.0, 0.0, 0.0, 0.0, 0.0, 0.0, 0.0, 0.0], [0.8960570096969604, 0.10394303500652313, 0.0, 0.0, 0.0, 0.0, 0.0, 0.0, 0.0, 0.0, 0.0, 0.0, 0.0, 0.0], [0.7782413959503174, 0.1214657798409462, 0.10029277950525284, 0.0, 0.0, 0.0, 0.0, 0.0, 0.0, 0.0, 0.0, 0.0, 0.0, 0.0], [0.6254060864448547, 0.09577299654483795, 0.07673852890729904, 0.20208236575126648, 0.0, 0.0, 0.0, 0.0, 0.0, 0.0, 0.0, 0.0, 0.0, 0.0], [0.46974486112594604, 0.07741950452327728, 0.06929866224527359, 0.16634632647037506, 0.21719062328338623, 0.0, 0.0, 0.0, 0.0, 0.0, 0.0, 0.0, 0.0, 0.0], [0.4735479950904846, 0.06255465000867844, 0.04646458849310875, 0.1357732117176056, 0.15753279626369476, 0.12412676960229874, 0.0, 0.0, 0.0, 0.0, 0.0, 0.0, 0.0, 0.0], [0.3434526026248932, 0.0672583058476448, 0.04542668163776398, 0.1273685097694397, 0.14418098330497742, 0.13848081231117249, 0.13383209705352783, 0.0, 0.0, 0.0, 0.0, 0.0, 0.0, 0.0], [0.32473471760749817, 0.05267011374235153, 0.037156689912080765, 0.09274577349424362, 0.10154615342617035, 0.10383813083171844, 0.1656021773815155, 0.12170623242855072, 0.0, 0.0, 0.0, 0.0, 0.0, 0.0], [0.2532684803009033, 0.05467677488923073, 0.03526391461491585, 0.0821009948849678, 0.09548741579055786, 0.09200063347816467, 0.09720007330179214, 0.1128748208284378, 0.17712688446044922, 0.0, 0.0, 0.0, 0.0, 0.0], [0.21204596757888794, 0.04194122180342674, 0.03007614053785801, 0.07341983914375305, 0.06217372789978981, 0.08402606099843979, 0.09323909878730774, 0.0857575312256813, 0.14606128633022308, 0.17125917971134186, 0.0, 0.0, 0.0, 0.0], [0.1643158495426178, 0.030071787536144257, 0.024200355634093285, 0.059147585183382034, 0.048961520195007324, 0.06802967935800552, 0.0768439844250679, 0.0740860179066658, 0.12588201463222504, 0.16010026633739471, 0.16836102306842804, 0.0, 0.0, 0.0], [0.1635383814573288, 0.028920333832502365, 0.019971609115600586, 0.05075319483876228, 0.04765720292925835, 0.05536271259188652, 0.06796453893184662, 0.05023651197552681, 0.1256948858499527, 0.1339586228132248, 0.11961059272289276, 0.13633136451244354, 0.0, 0.0], [0.12603755295276642, 0.02648080140352249, 0.01643550768494606, 0.046215325593948364, 0.05398363620042801, 0.056364551186561584, 0.05488291755318642, 0.050279177725315094, 0.08886785805225372, 0.09806734323501587, 0.10671965777873993, 0.08997264504432678, 0.18569299578666687, 0.0], [0.1306375116109848, 0.019259976223111153, 0.01385169941931963, 0.04514801874756813, 0.0452178530395031, 0.03972957283258438, 0.039006080478429794, 0.03789829462766647, 0.07777029275894165, 0.06927397847175598, 0.08799360692501068, 0.06266359984874725, 0.16519005596637726, 0.16635946929454803]], [[1.0, 0.0, 0.0, 0.0, 0.0, 0.0, 0.0, 0.0, 0.0, 0.0, 0.0, 0.0, 0.0, 0.0], [0.9612502455711365, 0.03874969109892845, 0.0, 0.0, 0.0, 0.0, 0.0, 0.0, 0.0, 0.0, 0.0, 0.0, 0.0, 0.0], [0.8870447278022766, 0.05199230834841728, 0.06096296012401581, 0.0, 0.0, 0.0, 0.0, 0.0, 0.0, 0.0, 0.0, 0.0, 0.0, 0.0], [0.8309462070465088, 0.04354008287191391, 0.0463765524327755, 0.0791371762752533, 0.0, 0.0, 0.0, 0.0, 0.0, 0.0, 0.0, 0.0, 0.0, 0.0], [0.7788510918617249, 0.038355957716703415, 0.041609495878219604, 0.05585431307554245, 0.08532919734716415, 0.0, 0.0, 0.0, 0.0, 0.0, 0.0, 0.0, 0.0, 0.0], [0.7347021698951721, 0.024901391938328743, 0.028455955907702446, 0.05060052499175072, 0.07976043969392776, 0.08157936483621597, 0.0, 0.0, 0.0, 0.0, 0.0, 0.0, 0.0, 0.0], [0.7112798690795898, 0.02464611455798149, 0.021652743220329285, 0.03887805715203285, 0.05483260005712509, 0.07812616229057312, 0.07058452069759369, 0.0, 0.0, 0.0, 0.0, 0.0, 0.0, 0.0], [0.7012147307395935, 0.018253153190016747, 0.016234727576375008, 0.032839335501194, 0.0453348308801651, 0.049718767404556274, 0.07178378850221634, 0.06462059915065765, 0.0, 0.0, 0.0, 0.0, 0.0, 0.0], [0.6732984781265259, 0.015465780161321163, 0.01395037304610014, 0.024044813588261604, 0.03328552842140198, 0.04053676500916481, 0.04330144822597504, 0.06601762026548386, 0.09009917825460434, 0.0, 0.0, 0.0, 0.0, 0.0], [0.6441730260848999, 0.011148247867822647, 0.011490581557154655, 0.023721100762486458, 0.02302449941635132, 0.03562184423208237, 0.04625304415822029, 0.046186067163944244, 0.07841349393129349, 0.07996808737516403, 0.0, 0.0, 0.0, 0.0], [0.5989609360694885, 0.010993781499564648, 0.010831712745130062, 0.02221602387726307, 0.02102111652493477, 0.03097541444003582, 0.04457006976008415, 0.03571662679314613, 0.07467593997716904, 0.0775499939918518, 0.0724884495139122, 0.0, 0.0, 0.0], [0.6073623895645142, 0.009760573506355286, 0.00830690935254097, 0.016818100586533546, 0.015827570110559464, 0.025286030024290085, 0.03181244432926178, 0.029857870191335678, 0.0633537694811821, 0.060542937368154526, 0.05850214883685112, 0.07256924360990524, 0.0, 0.0], [0.5929238200187683, 0.0068932450376451015, 0.0072237723506987095, 0.014089931733906269, 0.018407465890049934, 0.02592642605304718, 0.02622205764055252, 0.02444085292518139, 0.04588991031050682, 0.04430261254310608, 0.053586360067129135, 0.052496157586574554, 0.08759737759828568, 0.0], [0.6141130328178406, 0.006157753057777882, 0.0063369679264724255, 0.01162073016166687, 0.015545970760285854, 0.01580723747611046, 0.017670441418886185, 0.01675015315413475, 0.04076831415295601, 0.03176259994506836, 0.04058755561709404, 0.03509479761123657, 0.0709872767329216, 0.07679720968008041]]], [[[1.0, 0.0, 0.0, 0.0, 0.0, 0.0, 0.0, 0.0, 0.0, 0.0, 0.0, 0.0, 0.0, 0.0], [0.9977868795394897, 0.002213135827332735, 0.0, 0.0, 0.0, 0.0, 0.0, 0.0, 0.0, 0.0, 0.0, 0.0, 0.0, 0.0], [0.9895462393760681, 0.0025793430395424366, 0.00787440687417984, 0.0, 0.0, 0.0, 0.0, 0.0, 0.0, 0.0, 0.0, 0.0, 0.0, 0.0], [0.9352243542671204, 0.001116808969527483, 0.00439801998436451, 0.05926084518432617, 0.0, 0.0, 0.0, 0.0, 0.0, 0.0, 0.0, 0.0, 0.0, 0.0], [0.9582989811897278, 0.0003522818733472377, 0.0011524194851517677, 0.0001209761539939791, 0.040075358003377914, 0.0, 0.0, 0.0, 0.0, 0.0, 0.0, 0.0, 0.0, 0.0], [0.984592616558075, 0.004339727107435465, 0.0072392309084534645, 0.0005284454673528671, 0.0003954945714212954, 0.0029044621624052525, 0.0, 0.0, 0.0, 0.0, 0.0, 0.0, 0.0, 0.0], [0.9272541999816895, 0.0014972646022215486, 0.005423909518867731, 0.000671972637064755, 0.00014523747086059302, 0.006132145877927542, 0.05887524038553238, 0.0, 0.0, 0.0, 0.0, 0.0, 0.0, 0.0], [0.9496936798095703, 0.010109830647706985, 0.023292329162359238, 0.0005734252044931054, 0.0004010010161437094, 0.005793685093522072, 0.006581203080713749, 0.003554844530299306, 0.0, 0.0, 0.0, 0.0, 0.0, 0.0], [0.9277617931365967, 0.003937572240829468, 0.0026580882258713245, 0.00024243818188551813, 6.37745251879096e-05, 0.0041708266362547874, 0.0006465425249189138, 0.0028171788435429335, 0.05770163983106613, 0.0, 0.0, 0.0, 0.0, 0.0], [0.9065784215927124, 0.049957673996686935, 0.006772280670702457, 0.00018884355085901916, 0.00019278627587482333, 0.003392621176317334, 0.001101719681173563, 0.001897015143185854, 0.001750398543663323, 0.028168365359306335, 0.0, 0.0, 0.0, 0.0], [0.9436805844306946, 0.0037959811743348837, 0.0021322257816791534, 7.086995901772752e-05, 0.0009448795462958515, 0.004268186632543802, 0.0004467821854632348, 0.0009628097177483141, 6.599786138394848e-05, 0.0011304512154310942, 0.042501166462898254, 0.0, 0.0, 0.0], [0.9201321005821228, 0.015880083665251732, 0.00893241073936224, 0.0008801094954833388, 0.0005287581006996334, 0.005473568104207516, 0.001979784807190299, 0.002441560151055455, 0.0003493206750135869, 0.0038224784657359123, 0.02778266742825508, 0.011797097511589527, 0.0, 0.0], [0.9383884072303772, 0.0013787838397547603, 0.005121457856148481, 0.0003075428248848766, 0.00040371838258579373, 0.00339474156498909, 8.244549826486036e-05, 0.0009123836061917245, 3.8309470255626366e-05, 0.0002102757280226797, 3.920134622603655e-05, 0.00148333131801337, 0.048239484429359436, 0.0], [0.8994612097740173, 0.007542941253632307, 0.010000400245189667, 0.0020972166676074266, 0.0031979053746908903, 0.011006291024386883, 0.005375790875405073, 0.004207756835967302, 0.00587391946464777, 0.0007694929372519255, 0.0007557457429356873, 0.0019523020600900054, 0.0001030912681017071, 0.04765576496720314]], [[1.0, 0.0, 0.0, 0.0, 0.0, 0.0, 0.0, 0.0, 0.0, 0.0, 0.0, 0.0, 0.0, 0.0], [0.9590672254562378, 0.04093272611498833, 0.0, 0.0, 0.0, 0.0, 0.0, 0.0, 0.0, 0.0, 0.0, 0.0, 0.0, 0.0], [0.7877850532531738, 0.1768999993801117, 0.03531501442193985, 0.0, 0.0, 0.0, 0.0, 0.0, 0.0, 0.0, 0.0, 0.0, 0.0, 0.0], [0.7201447486877441, 0.17548809945583344, 0.08655630052089691, 0.017810840159654617, 0.0, 0.0, 0.0, 0.0, 0.0, 0.0, 0.0, 0.0, 0.0, 0.0], [0.7350741624832153, 0.136213019490242, 0.07526526600122452, 0.020207157358527184, 0.033240485936403275, 0.0, 0.0, 0.0, 0.0, 0.0, 0.0, 0.0, 0.0, 0.0], [0.5914303064346313, 0.19527873396873474, 0.06409550458192825, 0.008650531060993671, 0.018986260518431664, 0.12155866622924805, 0.0, 0.0, 0.0, 0.0, 0.0, 0.0, 0.0, 0.0], [0.46452128887176514, 0.07021860778331757, 0.013003246858716011, 0.001984889153391123, 0.0038980799727141857, 0.38819462060928345, 0.05817922204732895, 0.0, 0.0, 0.0, 0.0, 0.0, 0.0, 0.0], [0.47153300046920776, 0.029930664226412773, 0.004858551546931267, 0.00194976304192096, 0.002365176333114505, 0.09045999497175217, 0.2604089081287384, 0.13849391043186188, 0.0, 0.0, 0.0, 0.0, 0.0, 0.0], [0.3774302005767822, 0.023470567539334297, 0.007221216335892677, 0.002917664358392358, 0.004555821418762207, 0.12519101798534393, 0.1955723613500595, 0.22810065746307373, 0.03554053232073784, 0.0, 0.0, 0.0, 0.0, 0.0], [0.32909464836120605, 0.0027789294254034758, 0.002669714158400893, 0.0010484160156920552, 0.0014832416782155633, 0.09683695435523987, 0.28111532330513, 0.16213276982307434, 0.07671835273504257, 0.04612157493829727, 0.0, 0.0, 0.0, 0.0], [0.4172273576259613, 0.00262761814519763, 0.0011549072805792093, 0.0013254735385999084, 0.003953779116272926, 0.06346257776021957, 0.250367671251297, 0.1093473732471466, 0.09564442932605743, 0.04110967367887497, 0.013779126107692719, 0.0, 0.0, 0.0], [0.38022056221961975, 0.003168830880895257, 0.001778629724867642, 0.0011296940501779318, 0.001995311351493001, 0.058265507221221924, 0.2105824202299118, 0.1418362557888031, 0.0550302118062973, 0.07831311970949173, 0.01802404411137104, 0.049655333161354065, 0.0, 0.0], [0.1683976799249649, 0.003228615503758192, 0.002751880092546344, 0.0015116207068786025, 0.002875928534194827, 0.02118031121790409, 0.018420007079839706, 0.03888325020670891, 0.6582809090614319, 0.03877490013837814, 0.015639351680874825, 0.016288941726088524, 0.013766705058515072, 0.0], [0.44288477301597595, 0.011992878280580044, 0.007260106038302183, 0.0011889314046129584, 0.0006336523802019656, 0.024935152381658554, 0.09617456793785095, 0.13788482546806335, 0.056855909526348114, 0.06332550942897797, 0.01562998630106449, 0.059623587876558304, 0.00854411069303751, 0.0730661079287529]], [[1.0, 0.0, 0.0, 0.0, 0.0, 0.0, 0.0, 0.0, 0.0, 0.0, 0.0, 0.0, 0.0, 0.0], [0.8372243642807007, 0.16277562081813812, 0.0, 0.0, 0.0, 0.0, 0.0, 0.0, 0.0, 0.0, 0.0, 0.0, 0.0, 0.0], [0.21992385387420654, 0.6413169503211975, 0.13875918090343475, 0.0, 0.0, 0.0, 0.0, 0.0, 0.0, 0.0, 0.0, 0.0, 0.0, 0.0], [0.1274830549955368, 0.37538614869117737, 0.4067753255367279, 0.0903555154800415, 0.0, 0.0, 0.0, 0.0, 0.0, 0.0, 0.0, 0.0, 0.0, 0.0], [0.03358382731676102, 0.1085311695933342, 0.752764880657196, 0.08728408068418503, 0.017836032435297966, 0.0, 0.0, 0.0, 0.0, 0.0, 0.0, 0.0, 0.0, 0.0], [0.07152016460895538, 0.45299696922302246, 0.2724474370479584, 0.03813403099775314, 0.07231006771326065, 0.09259135276079178, 0.0, 0.0, 0.0, 0.0, 0.0, 0.0, 0.0, 0.0], [0.0618610754609108, 0.19453701376914978, 0.1170673742890358, 0.005711672827601433, 0.014182541519403458, 0.4431268274784088, 0.16351348161697388, 0.0, 0.0, 0.0, 0.0, 0.0, 0.0, 0.0], [0.12034176290035248, 0.03318668156862259, 0.01772279478609562, 0.000993831898085773, 0.003742821281775832, 0.06595542281866074, 0.7155098915100098, 0.042546819895505905, 0.0, 0.0, 0.0, 0.0, 0.0, 0.0], [0.10566096752882004, 0.013849047012627125, 0.011147411540150642, 0.00036020626430399716, 0.000943525810725987, 0.017061224207282066, 0.18479882180690765, 0.6286861896514893, 0.037492550909519196, 0.0, 0.0, 0.0, 0.0, 0.0], [0.1615533083677292, 0.001367609016597271, 0.014701377600431442, 0.00034194887848570943, 0.0014252872206270695, 0.037049371749162674, 0.11659397929906845, 0.21557879447937012, 0.362707257270813, 0.08868099004030228, 0.0, 0.0, 0.0, 0.0], [0.2627827525138855, 0.0015314863994717598, 0.012549473904073238, 0.0005960449343547225, 0.003509510774165392, 0.021331725642085075, 0.018908100202679634, 0.04028276354074478, 0.18110838532447815, 0.4277798533439636, 0.029619909822940826, 0.0, 0.0, 0.0], [0.22013278305530548, 0.0016817678697407246, 0.006460088770836592, 0.0004353419062681496, 0.0009806774323806167, 0.013329729437828064, 0.030714375898241997, 0.04989033192396164, 0.27664050459861755, 0.23527663946151733, 0.10803421586751938, 0.056423574686050415, 0.0, 0.0], [0.09158171713352203, 0.00124372448772192, 0.0048123314045369625, 0.0004491469881031662, 0.0006850979407317936, 0.002968741348013282, 0.004485385492444038, 0.009380534291267395, 0.03674601390957832, 0.1635832041501999, 0.1790657341480255, 0.3664906620979309, 0.13850757479667664, 0.0], [0.2940232455730438, 0.004229390062391758, 0.004461983218789101, 0.00035897092311643064, 0.000365173356840387, 0.0010837398003786802, 0.016765525564551353, 0.041958946734666824, 0.031084660440683365, 0.03755931928753853, 0.02347799949347973, 0.06324800103902817, 0.4061349630355835, 0.07524801790714264]], [[1.0, 0.0, 0.0, 0.0, 0.0, 0.0, 0.0, 0.0, 0.0, 0.0, 0.0, 0.0, 0.0, 0.0], [0.974719762802124, 0.025280172005295753, 0.0, 0.0, 0.0, 0.0, 0.0, 0.0, 0.0, 0.0, 0.0, 0.0, 0.0, 0.0], [0.6582114696502686, 0.25672048330307007, 0.08506795763969421, 0.0, 0.0, 0.0, 0.0, 0.0, 0.0, 0.0, 0.0, 0.0, 0.0, 0.0], [0.5931891798973083, 0.169336199760437, 0.19897004961967468, 0.038504552096128464, 0.0, 0.0, 0.0, 0.0, 0.0, 0.0, 0.0, 0.0, 0.0, 0.0], [0.4615980386734009, 0.05803766846656799, 0.06572435051202774, 0.38543856143951416, 0.029201367869973183, 0.0, 0.0, 0.0, 0.0, 0.0, 0.0, 0.0, 0.0, 0.0], [0.698796272277832, 0.03801427409052849, 0.023278163745999336, 0.009853577241301537, 0.04880748316645622, 0.18125024437904358, 0.0, 0.0, 0.0, 0.0, 0.0, 0.0, 0.0, 0.0], [0.4362151026725769, 0.017458323389291763, 0.0037810790818184614, 0.008150968700647354, 0.005021681077778339, 0.4973510801792145, 0.03202177956700325, 0.0, 0.0, 0.0, 0.0, 0.0, 0.0, 0.0], [0.3952421247959137, 0.00436924584209919, 0.005939845461398363, 0.013197113759815693, 0.00315910205245018, 0.12573003768920898, 0.33835217356681824, 0.114010289311409, 0.0, 0.0, 0.0, 0.0, 0.0, 0.0], [0.6297950148582458, 0.004893632605671883, 0.0016346890479326248, 0.001071970327757299, 0.0010827843798324466, 0.10068343579769135, 0.0470525361597538, 0.20070523023605347, 0.013080835342407227, 0.0, 0.0, 0.0, 0.0, 0.0], [0.3272676169872284, 0.0003077593573834747, 0.0009417282999493182, 0.00136954162735492, 0.0001463578810216859, 0.029597394168376923, 0.05233897641301155, 0.19932805001735687, 0.2696801722049713, 0.11902240663766861, 0.0, 0.0, 0.0, 0.0], [0.5816446542739868, 0.0009890664368867874, 0.0007644349243491888, 0.002849281532689929, 0.0013867972884327173, 0.060586050152778625, 0.019486241042613983, 0.17964205145835876, 0.04083040729165077, 0.07424251735210419, 0.03757857158780098, 0.0, 0.0, 0.0], [0.3295998275279999, 0.0007325592450797558, 0.0005855976487509906, 0.0008278705063275993, 0.00025114932213909924, 0.01053168997168541, 0.004404713399708271, 0.015512236393988132, 0.04227478429675102, 0.08537420630455017, 0.3160756230354309, 0.19382984936237335, 0.0, 0.0], [0.4604604244232178, 0.0006142192287370563, 0.00016615190543234348, 0.00047769289813004434, 0.0010443896753713489, 0.010488559491932392, 0.01224514190107584, 0.01713607646524906, 0.08006727695465088, 0.021803444251418114, 0.09989196062088013, 0.2445601224899292, 0.05104459449648857, 0.0], [0.8702320456504822, 8.02845970611088e-05, 4.131380410399288e-05, 5.239461097517051e-05, 9.012825466925278e-05, 0.000989503227174282, 8.17973559605889e-05, 6.0116162785561755e-05, 0.001035966444760561, 0.0005041804979555309, 0.0012259562499821186, 0.010657425038516521, 0.03510662540793419, 0.0798424705862999]], [[1.0, 0.0, 0.0, 0.0, 0.0, 0.0, 0.0, 0.0, 0.0, 0.0, 0.0, 0.0, 0.0, 0.0], [0.9971953630447388, 0.0028045810759067535, 0.0, 0.0, 0.0, 0.0, 0.0, 0.0, 0.0, 0.0, 0.0, 0.0, 0.0, 0.0], [0.9800788760185242, 0.011138953268527985, 0.008782090619206429, 0.0, 0.0, 0.0, 0.0, 0.0, 0.0, 0.0, 0.0, 0.0, 0.0, 0.0], [0.9541028738021851, 0.01553924847394228, 0.018942680209875107, 0.011415239423513412, 0.0, 0.0, 0.0, 0.0, 0.0, 0.0, 0.0, 0.0, 0.0, 0.0], [0.9785269498825073, 0.006232150364667177, 0.008310864679515362, 0.002687880303710699, 0.004242315888404846, 0.0, 0.0, 0.0, 0.0, 0.0, 0.0, 0.0, 0.0, 0.0], [0.920920729637146, 0.013736210763454437, 0.012545272707939148, 0.010925976559519768, 0.009541155770421028, 0.03233063220977783, 0.0, 0.0, 0.0, 0.0, 0.0, 0.0, 0.0, 0.0], [0.9119622111320496, 0.011687740683555603, 0.006011349614709616, 0.004099241457879543, 0.003974458668380976, 0.030855929479002953, 0.03140891343355179, 0.0, 0.0, 0.0, 0.0, 0.0, 0.0, 0.0], [0.8874083161354065, 0.012476567178964615, 0.005284107755869627, 0.007686627097427845, 0.0032998756505548954, 0.022310487926006317, 0.042305558919906616, 0.01922866515815258, 0.0, 0.0, 0.0, 0.0, 0.0, 0.0], [0.8810038566589355, 0.01154918223619461, 0.01231379434466362, 0.007196072954684496, 0.00586442556232214, 0.023985445499420166, 0.023711223155260086, 0.02871275506913662, 0.00566314859315753, 0.0, 0.0, 0.0, 0.0, 0.0], [0.8796486258506775, 0.017178039997816086, 0.010045034810900688, 0.006230710074305534, 0.004664512816816568, 0.02115591987967491, 0.014353317208588123, 0.010910444892942905, 0.0070201256312429905, 0.028793316334486008, 0.0, 0.0, 0.0, 0.0], [0.9291419982910156, 0.009763523004949093, 0.005095953121781349, 0.0036934716627001762, 0.004354607313871384, 0.017395388334989548, 0.0060166553594172, 0.004006911534816027, 0.0037037997972220182, 0.015225069597363472, 0.001602773554623127, 0.0, 0.0, 0.0], [0.8959787487983704, 0.011300159618258476, 0.007334213703870773, 0.004404318984597921, 0.0036743301898241043, 0.017222044989466667, 0.012776471674442291, 0.005592891480773687, 0.0044637112878263, 0.021391423419117928, 0.01084988098591566, 0.005011704750359058, 0.0, 0.0], [0.9379456639289856, 0.004447797313332558, 0.009035528637468815, 0.004912049043923616, 0.007592724170535803, 0.01612437143921852, 0.0008279468165710568, 0.00232534296810627, 0.0005013693007640541, 0.00508583290502429, 0.002117701107636094, 0.008067642338573933, 0.0010160347446799278, 0.0], [0.8186389207839966, 0.016878802329301834, 0.01212080754339695, 0.02122485637664795, 0.010847090743482113, 0.026554599404335022, 0.013915732502937317, 0.011319027282297611, 0.004877026192843914, 0.016503386199474335, 0.0228219386190176, 0.009485438466072083, 0.0014563575387001038, 0.013355898670852184]], [[1.0, 0.0, 0.0, 0.0, 0.0, 0.0, 0.0, 0.0, 0.0, 0.0, 0.0, 0.0, 0.0, 0.0], [0.9909646511077881, 0.009035291150212288, 0.0, 0.0, 0.0, 0.0, 0.0, 0.0, 0.0, 0.0, 0.0, 0.0, 0.0, 0.0], [0.8250389099121094, 0.1088673323392868, 0.06609369069337845, 0.0, 0.0, 0.0, 0.0, 0.0, 0.0, 0.0, 0.0, 0.0, 0.0, 0.0], [0.7383031845092773, 0.10583356767892838, 0.10476288199424744, 0.05110039934515953, 0.0, 0.0, 0.0, 0.0, 0.0, 0.0, 0.0, 0.0, 0.0, 0.0], [0.7479797005653381, 0.11458632349967957, 0.046962544322013855, 0.025093432515859604, 0.06537806242704391, 0.0, 0.0, 0.0, 0.0, 0.0, 0.0, 0.0, 0.0, 0.0], [0.5391768217086792, 0.17313911020755768, 0.07352069020271301, 0.08343993127346039, 0.08798953890800476, 0.04273395612835884, 0.0, 0.0, 0.0, 0.0, 0.0, 0.0, 0.0, 0.0], [0.5521007776260376, 0.03726455569267273, 0.0656387060880661, 0.08299306780099869, 0.10304775834083557, 0.10265379399061203, 0.0563012920320034, 0.0, 0.0, 0.0, 0.0, 0.0, 0.0, 0.0], [0.6751255393028259, 0.08398944139480591, 0.04370131716132164, 0.05795614421367645, 0.027480171993374825, 0.057079561054706573, 0.04186493158340454, 0.01280290074646473, 0.0, 0.0, 0.0, 0.0, 0.0, 0.0], [0.5385215878486633, 0.17152506113052368, 0.05178023502230644, 0.045418016612529755, 0.039466410875320435, 0.05735079199075699, 0.03474138677120209, 0.028362218290567398, 0.03283438831567764, 0.0, 0.0, 0.0, 0.0, 0.0], [0.49038928747177124, 0.059571485966444016, 0.08005686849355698, 0.07967851310968399, 0.06727158278226852, 0.057875413447618484, 0.04637414962053299, 0.027000775560736656, 0.06080237776041031, 0.030979517847299576, 0.0, 0.0, 0.0, 0.0], [0.4868465065956116, 0.06451892107725143, 0.05637989193201065, 0.04006772115826607, 0.10490517318248749, 0.04404355585575104, 0.02251860685646534, 0.035569652915000916, 0.07339836657047272, 0.030578214675188065, 0.04117348790168762, 0.0, 0.0, 0.0], [0.41494089365005493, 0.09839693456888199, 0.05017964541912079, 0.033021215349435806, 0.07586336880922318, 0.049667924642562866, 0.03609054163098335, 0.049860380589962006, 0.04454939067363739, 0.0490666925907135, 0.04920506849884987, 0.04915795475244522, 0.0, 0.0], [0.3646600544452667, 0.04619994014501572, 0.024392079561948776, 0.02981746569275856, 0.16375218331813812, 0.033266037702560425, 0.020573031157255173, 0.024498170241713524, 0.05886998400092125, 0.030803430825471878, 0.054245974868535995, 0.05069262534379959, 0.09822893142700195, 0.0], [0.24662940204143524, 0.06099933758378029, 0.02494015544652939, 0.042999353259801865, 0.056604813784360886, 0.031519390642642975, 0.10935144126415253, 0.06702731549739838, 0.040645282715559006, 0.025516856461763382, 0.05777906998991966, 0.03942707180976868, 0.15257872641086578, 0.04398179426789284]], [[1.0, 0.0, 0.0, 0.0, 0.0, 0.0, 0.0, 0.0, 0.0, 0.0, 0.0, 0.0, 0.0, 0.0], [0.9732710719108582, 0.026728935539722443, 0.0, 0.0, 0.0, 0.0, 0.0, 0.0, 0.0, 0.0, 0.0, 0.0, 0.0, 0.0], [0.6206048130989075, 0.33085522055625916, 0.04853997007012367, 0.0, 0.0, 0.0, 0.0, 0.0, 0.0, 0.0, 0.0, 0.0, 0.0, 0.0], [0.39291679859161377, 0.25754913687705994, 0.1815185248851776, 0.1680154949426651, 0.0, 0.0, 0.0, 0.0, 0.0, 0.0, 0.0, 0.0, 0.0, 0.0], [0.17582595348358154, 0.4157731831073761, 0.06883714348077774, 0.2444312870502472, 0.09513242542743683, 0.0, 0.0, 0.0, 0.0, 0.0, 0.0, 0.0, 0.0, 0.0], [0.12092725187540054, 0.32260894775390625, 0.15149272978305817, 0.14782081544399261, 0.15938375890254974, 0.09776660054922104, 0.0, 0.0, 0.0, 0.0, 0.0, 0.0, 0.0, 0.0], [0.187546506524086, 0.11874271929264069, 0.08501989394426346, 0.05219702795147896, 0.09757829457521439, 0.1900981366634369, 0.2688174247741699, 0.0, 0.0, 0.0, 0.0, 0.0, 0.0, 0.0], [0.1697191298007965, 0.01945587992668152, 0.015282961539924145, 0.025543279945850372, 0.02655918523669243, 0.077700674533844, 0.5322190523147583, 0.13351982831954956, 0.0, 0.0, 0.0, 0.0, 0.0, 0.0], [0.20969441533088684, 0.01874704100191593, 0.01615212857723236, 0.008378392085433006, 0.023225385695695877, 0.0662587508559227, 0.3745476007461548, 0.2002994418144226, 0.08269684761762619, 0.0, 0.0, 0.0, 0.0, 0.0], [0.18997718393802643, 0.0016910580452531576, 0.0031303318683058023, 0.009393208660185337, 0.011735839769244194, 0.03971797227859497, 0.036845844238996506, 0.02906610257923603, 0.5960599780082703, 0.0823824405670166, 0.0, 0.0, 0.0, 0.0], [0.18944546580314636, 0.0029433988966047764, 0.0018351884791627526, 0.014434180222451687, 0.005553799215704203, 0.03558341786265373, 0.026594461873173714, 0.055443983525037766, 0.41915163397789, 0.19344013929367065, 0.05557423457503319, 0.0, 0.0, 0.0], [0.13465651869773865, 0.0014136481331661344, 0.0010954674798995256, 0.004227443132549524, 0.0031526258680969477, 0.017366480082273483, 0.00970682967454195, 0.026576049625873566, 0.3444999158382416, 0.09648589789867401, 0.34071242809295654, 0.020106784999370575, 0.0, 0.0], [0.09249591082334518, 0.003359770169481635, 0.0012847757898271084, 0.015357227064669132, 0.008827198296785355, 0.0363277867436409, 0.0036525861360132694, 0.01847858354449272, 0.2456400841474533, 0.11780001223087311, 0.282168447971344, 0.10552359372377396, 0.06908400356769562, 0.0], [0.18930765986442566, 0.008619377389550209, 0.006296852137893438, 0.005879530217498541, 0.0038945262786000967, 0.006542447488754988, 0.047958001494407654, 0.011324913240969181, 0.20590941607952118, 0.0411943644285202, 0.063935287296772, 0.0783601775765419, 0.22292251884937286, 0.10785489529371262]], [[1.0, 0.0, 0.0, 0.0, 0.0, 0.0, 0.0, 0.0, 0.0, 0.0, 0.0, 0.0, 0.0, 0.0], [0.9768665432929993, 0.023133402690291405, 0.0, 0.0, 0.0, 0.0, 0.0, 0.0, 0.0, 0.0, 0.0, 0.0, 0.0, 0.0], [0.7171211838722229, 0.17725837230682373, 0.10562054067850113, 0.0, 0.0, 0.0, 0.0, 0.0, 0.0, 0.0, 0.0, 0.0, 0.0, 0.0], [0.4194270372390747, 0.1389859914779663, 0.15097752213478088, 0.2906093895435333, 0.0, 0.0, 0.0, 0.0, 0.0, 0.0, 0.0, 0.0, 0.0, 0.0], [0.28280141949653625, 0.10337931662797928, 0.04317208006978035, 0.460671067237854, 0.10997625440359116, 0.0, 0.0, 0.0, 0.0, 0.0, 0.0, 0.0, 0.0, 0.0], [0.20688286423683167, 0.01995064876973629, 0.021069632843136787, 0.06976202875375748, 0.5501211881637573, 0.13221360743045807, 0.0, 0.0, 0.0, 0.0, 0.0, 0.0, 0.0, 0.0], [0.17634430527687073, 0.04259932413697243, 0.014688086695969105, 0.08930423855781555, 0.2898228168487549, 0.33873897790908813, 0.04850219935178757, 0.0, 0.0, 0.0, 0.0, 0.0, 0.0, 0.0], [0.13607434928417206, 0.030234145000576973, 0.013341138139367104, 0.029394863173365593, 0.08989960700273514, 0.21349425613880157, 0.325296550989151, 0.1622651368379593, 0.0, 0.0, 0.0, 0.0, 0.0, 0.0], [0.27580001950263977, 0.005401897709816694, 0.00878257304430008, 0.011476623825728893, 0.03480357676744461, 0.09378760308027267, 0.1626354455947876, 0.34928351640701294, 0.058028701692819595, 0.0, 0.0, 0.0, 0.0, 0.0], [0.3382857143878937, 0.000658156001009047, 0.006468769628554583, 0.009933069348335266, 0.010656892322003841, 0.05114166438579559, 0.031280942261219025, 0.2622179090976715, 0.1444137841463089, 0.14494319260120392, 0.0, 0.0, 0.0, 0.0], [0.17609767615795135, 0.0005497486563399434, 0.005389883182942867, 0.005051914602518082, 0.007045161910355091, 0.044531743973493576, 0.022037087008357048, 0.08582265675067902, 0.3955124616622925, 0.19709856808185577, 0.06086320802569389, 0.0, 0.0, 0.0], [0.2309282273054123, 0.0003205664979759604, 0.0010808497900143266, 0.0058947061188519, 0.002588865580037236, 0.021282201632857323, 0.014109749346971512, 0.08455836772918701, 0.3236099183559418, 0.1289120763540268, 0.12460102140903473, 0.06211346015334129, 0.0, 0.0], [0.19049839675426483, 0.0006737738149240613, 0.0015061774756759405, 0.0029442566446959972, 0.0049213627353310585, 0.025934960693120956, 0.018723823130130768, 0.02702372707426548, 0.4966264069080353, 0.06742161512374878, 0.03392260894179344, 0.06555108726024628, 0.06425168365240097, 0.0], [0.3450162708759308, 0.00019738903210964054, 0.00018796879157889634, 0.0006685791886411607, 0.0026522097177803516, 0.001990437274798751, 0.0012301064562052488, 0.00030159924062900245, 0.002954901894554496, 0.003760641673579812, 0.02176852710545063, 0.02493133395910263, 0.4598337411880493, 0.13450638949871063]], [[1.0, 0.0, 0.0, 0.0, 0.0, 0.0, 0.0, 0.0, 0.0, 0.0, 0.0, 0.0, 0.0, 0.0], [0.8019427061080933, 0.19805723428726196, 0.0, 0.0, 0.0, 0.0, 0.0, 0.0, 0.0, 0.0, 0.0, 0.0, 0.0, 0.0], [0.3784945607185364, 0.5961402058601379, 0.025365155190229416, 0.0, 0.0, 0.0, 0.0, 0.0, 0.0, 0.0, 0.0, 0.0, 0.0, 0.0], [0.3737112283706665, 0.47219589352607727, 0.07329443097114563, 0.0807984471321106, 0.0, 0.0, 0.0, 0.0, 0.0, 0.0, 0.0, 0.0, 0.0, 0.0], [0.20591381192207336, 0.5659670233726501, 0.12318938225507736, 0.053698308765888214, 0.051231518387794495, 0.0, 0.0, 0.0, 0.0, 0.0, 0.0, 0.0, 0.0, 0.0], [0.28021401166915894, 0.14974166452884674, 0.028463466092944145, 0.018685853108763695, 0.10167110711336136, 0.4212239682674408, 0.0, 0.0, 0.0, 0.0, 0.0, 0.0, 0.0, 0.0], [0.17359086871147156, 0.04669669270515442, 0.006188142579048872, 0.0007443322683684528, 0.03616488724946976, 0.650515079498291, 0.08609998971223831, 0.0, 0.0, 0.0, 0.0, 0.0, 0.0, 0.0], [0.20036724209785461, 0.01912028342485428, 0.0010813011322170496, 0.00012688888818956912, 0.00335973990149796, 0.2181665003299713, 0.4264773428440094, 0.13130073249340057, 0.0, 0.0, 0.0, 0.0, 0.0, 0.0], [0.23386216163635254, 0.00894560944288969, 0.0028435809072107077, 0.005663169547915459, 0.006623211782425642, 0.1304842233657837, 0.22087660431861877, 0.3542594909667969, 0.03644196316599846, 0.0, 0.0, 0.0, 0.0, 0.0], [0.14630453288555145, 0.001894966815598309, 0.0007549339788965881, 0.0017852875171229243, 0.0034164648968726397, 0.09825723618268967, 0.18458370864391327, 0.3710060715675354, 0.05642091855406761, 0.13557592034339905, 0.0, 0.0, 0.0, 0.0], [0.1863478273153305, 0.0017622042214497924, 0.0005570266512222588, 0.0021595938596874475, 0.002454596571624279, 0.10131541639566422, 0.10595116019248962, 0.33678075671195984, 0.03269045427441597, 0.19860485196113586, 0.03137607127428055, 0.0, 0.0, 0.0], [0.262886106967926, 0.0016332474770024419, 0.00014068045129533857, 0.0002583189634606242, 0.0007503826636821032, 0.03906659409403801, 0.083193339407444, 0.10390111058950424, 0.030412130057811737, 0.2991670072078705, 0.03462161868810654, 0.1439695656299591, 0.0, 0.0], [0.10878578573465347, 0.0008498048409819603, 0.00011165888281539083, 0.0012135036522522569, 0.0008892731857486069, 0.017575763165950775, 0.02108589932322502, 0.0627821534872055, 0.024160131812095642, 0.10166985541582108, 0.034643057733774185, 0.6108357310295105, 0.015397516079246998, 0.0], [0.38012951612472534, 0.0016457817982882261, 0.0007570115849375725, 0.00048268691170960665, 0.002485309960320592, 0.013645676895976067, 0.0043666912242770195, 0.003828104818239808, 0.011710393242537975, 0.03079373575747013, 0.020339347422122955, 0.1488998383283615, 0.05305922403931618, 0.32785654067993164]], [[1.0, 0.0, 0.0, 0.0, 0.0, 0.0, 0.0, 0.0, 0.0, 0.0, 0.0, 0.0, 0.0, 0.0], [0.8822564482688904, 0.11774353682994843, 0.0, 0.0, 0.0, 0.0, 0.0, 0.0, 0.0, 0.0, 0.0, 0.0, 0.0, 0.0], [0.3063438832759857, 0.6431726813316345, 0.05048340559005737, 0.0, 0.0, 0.0, 0.0, 0.0, 0.0, 0.0, 0.0, 0.0, 0.0, 0.0], [0.30122625827789307, 0.5543203949928284, 0.10912363231182098, 0.03532968461513519, 0.0, 0.0, 0.0, 0.0, 0.0, 0.0, 0.0, 0.0, 0.0, 0.0], [0.2817224860191345, 0.43652647733688354, 0.12117507308721542, 0.060696493834257126, 0.09987948089838028, 0.0, 0.0, 0.0, 0.0, 0.0, 0.0, 0.0, 0.0, 0.0], [0.19127069413661957, 0.6470943093299866, 0.0446796715259552, 0.0272285807877779, 0.03894129768013954, 0.05078531801700592, 0.0, 0.0, 0.0, 0.0, 0.0, 0.0, 0.0, 0.0], [0.2090032696723938, 0.49013879895210266, 0.04760877788066864, 0.004938100930303335, 0.0013969886349514127, 0.12191720306873322, 0.12499682605266571, 0.0, 0.0, 0.0, 0.0, 0.0, 0.0, 0.0], [0.187057226896286, 0.04373699054121971, 0.0035514032933861017, 0.0015751345781609416, 0.0020384660456329584, 0.03442884981632233, 0.6340212225914001, 0.09359075129032135, 0.0, 0.0, 0.0, 0.0, 0.0, 0.0], [0.2549212872982025, 0.029515227302908897, 0.0030382482800632715, 0.0009145454387180507, 0.0045921592973172665, 0.02110084891319275, 0.45435813069343567, 0.2046365737915039, 0.02692290209233761, 0.0, 0.0, 0.0, 0.0, 0.0], [0.18393319845199585, 0.013658306561410427, 0.0006252656457945704, 0.0007519071223214269, 0.0051858811639249325, 0.01634974591434002, 0.5431897044181824, 0.08033013343811035, 0.06000987067818642, 0.09596603363752365, 0.0, 0.0, 0.0, 0.0], [0.26230213046073914, 0.024414045736193657, 0.0030318961944431067, 0.0018034169916063547, 0.002684457926079631, 0.016352862119674683, 0.01963387057185173, 0.06964856386184692, 0.11284926533699036, 0.4504844546318054, 0.03679506853222847, 0.0, 0.0, 0.0], [0.21115873754024506, 0.017689991742372513, 0.0017533322097733617, 0.002205291297286749, 0.0023982792627066374, 0.007727271411567926, 0.03631560131907463, 0.030303461477160454, 0.07481493055820465, 0.34318122267723083, 0.1911451667547226, 0.0813068374991417, 0.0, 0.0], [0.1643133908510208, 0.006370873190462589, 0.004159254487603903, 0.0017834994941949844, 0.006089147180318832, 0.013883638195693493, 0.009090709500014782, 0.018219100311398506, 0.059276189655065536, 0.1428118348121643, 0.29212260246276855, 0.19903068244457245, 0.08284913003444672, 0.0], [0.2938128709793091, 0.03367031365633011, 0.0030957816634327173, 0.005615243688225746, 0.003562942147254944, 0.006605829577893019, 0.03676762804389, 0.08181728422641754, 0.11756275594234467, 0.1565917283296585, 0.028559507802128792, 0.112704336643219, 0.04684692993760109, 0.07278678566217422]], [[1.0, 0.0, 0.0, 0.0, 0.0, 0.0, 0.0, 0.0, 0.0, 0.0, 0.0, 0.0, 0.0, 0.0], [0.996299684047699, 0.003700300818309188, 0.0, 0.0, 0.0, 0.0, 0.0, 0.0, 0.0, 0.0, 0.0, 0.0, 0.0, 0.0], [0.9288068413734436, 0.005970700178295374, 0.06522251665592194, 0.0, 0.0, 0.0, 0.0, 0.0, 0.0, 0.0, 0.0, 0.0, 0.0, 0.0], [0.7614760398864746, 0.003947346471250057, 0.020784270018339157, 0.2137923240661621, 0.0, 0.0, 0.0, 0.0, 0.0, 0.0, 0.0, 0.0, 0.0, 0.0], [0.6816274523735046, 0.01999208703637123, 0.021658005192875862, 0.08922959864139557, 0.18749284744262695, 0.0, 0.0, 0.0, 0.0, 0.0, 0.0, 0.0, 0.0, 0.0], [0.7535514831542969, 0.021311625838279724, 0.029135163873434067, 0.04089432954788208, 0.03215321525931358, 0.12295418232679367, 0.0, 0.0, 0.0, 0.0, 0.0, 0.0, 0.0, 0.0], [0.6571353077888489, 0.03476639837026596, 0.059530023485422134, 0.058071319013834, 0.03307922184467316, 0.08889992535114288, 0.06851772218942642, 0.0, 0.0, 0.0, 0.0, 0.0, 0.0, 0.0], [0.6340808272361755, 0.009053224697709084, 0.03525010123848915, 0.02389605902135372, 0.017632413655519485, 0.056724730879068375, 0.11418164521455765, 0.10918096452951431, 0.0, 0.0, 0.0, 0.0, 0.0, 0.0], [0.7017368078231812, 0.011865339241921902, 0.0176825113594532, 0.016347255557775497, 0.007654119748622179, 0.045302703976631165, 0.06455034762620926, 0.042301349341869354, 0.09255954623222351, 0.0, 0.0, 0.0, 0.0, 0.0], [0.6593717336654663, 0.016107410192489624, 0.03208228200674057, 0.020381053909659386, 0.0070951394736766815, 0.043827030807733536, 0.01975594460964203, 0.030559878796339035, 0.07329072058200836, 0.09752868115901947, 0.0, 0.0, 0.0, 0.0], [0.666420578956604, 0.006643446162343025, 0.03443736582994461, 0.015400097705423832, 0.013589857146143913, 0.05104735121130943, 0.021975724026560783, 0.016186175867915154, 0.04485063999891281, 0.02591756172478199, 0.10353127866983414, 0.0, 0.0, 0.0], [0.7146084904670715, 0.005219100508838892, 0.013165649026632309, 0.010321449488401413, 0.011593633331358433, 0.02802254632115364, 0.015894396230578423, 0.011059758253395557, 0.03316276893019676, 0.022578967735171318, 0.030058328062295914, 0.10431499034166336, 0.0, 0.0], [0.6357212066650391, 0.003683530492708087, 0.013923028483986855, 0.014470157213509083, 0.00802010577172041, 0.022640682756900787, 0.01806953363120556, 0.010820032097399235, 0.020852133631706238, 0.02069929428398609, 0.022142518311738968, 0.013976069167256355, 0.1949816346168518, 0.0], [0.6161868572235107, 0.004125272389501333, 0.011021465994417667, 0.01431491132825613, 0.00795053318142891, 0.03634261712431908, 0.032747384160757065, 0.01680956594645977, 0.041326675564050674, 0.011213353835046291, 0.009382268413901329, 0.013241496868431568, 0.07285268604755402, 0.11248496174812317]], [[1.0, 0.0, 0.0, 0.0, 0.0, 0.0, 0.0, 0.0, 0.0, 0.0, 0.0, 0.0, 0.0, 0.0], [0.9719212055206299, 0.028078829869627953, 0.0, 0.0, 0.0, 0.0, 0.0, 0.0, 0.0, 0.0, 0.0, 0.0, 0.0, 0.0], [0.732109010219574, 0.15999309718608856, 0.10789798200130463, 0.0, 0.0, 0.0, 0.0, 0.0, 0.0, 0.0, 0.0, 0.0, 0.0, 0.0], [0.30326780676841736, 0.11370091140270233, 0.07309990376234055, 0.5099313259124756, 0.0, 0.0, 0.0, 0.0, 0.0, 0.0, 0.0, 0.0, 0.0, 0.0], [0.16192671656608582, 0.10459933429956436, 0.03136815130710602, 0.6845439076423645, 0.017561806365847588, 0.0, 0.0, 0.0, 0.0, 0.0, 0.0, 0.0, 0.0, 0.0], [0.0821656659245491, 0.038977913558483124, 0.030651360750198364, 0.6419618129730225, 0.12739905714988708, 0.07884420454502106, 0.0, 0.0, 0.0, 0.0, 0.0, 0.0, 0.0, 0.0], [0.1681915670633316, 0.028902707621455193, 0.030438851565122604, 0.3867967426776886, 0.029572149738669395, 0.26027870178222656, 0.09581921249628067, 0.0, 0.0, 0.0, 0.0, 0.0, 0.0, 0.0], [0.2801162004470825, 0.0092474315315485, 0.020785341039299965, 0.040497999638319016, 0.010847075842320919, 0.05202047526836395, 0.47861814498901367, 0.10786738991737366, 0.0, 0.0, 0.0, 0.0, 0.0, 0.0], [0.34626713395118713, 0.015907814726233482, 0.04668371379375458, 0.057015351951122284, 0.13925307989120483, 0.047913797199726105, 0.24190552532672882, 0.06878720223903656, 0.03626634180545807, 0.0, 0.0, 0.0, 0.0, 0.0], [0.3308594524860382, 0.005229151342064142, 0.03628917038440704, 0.042838845402002335, 0.03762292489409447, 0.04860329255461693, 0.2849946916103363, 0.08999475091695786, 0.0384778268635273, 0.08508992195129395, 0.0, 0.0, 0.0, 0.0], [0.34998685121536255, 0.003935917746275663, 0.024867892265319824, 0.022436870262026787, 0.01262526586651802, 0.03272493928670883, 0.1127176359295845, 0.09144386649131775, 0.11354223638772964, 0.07611574232578278, 0.15960296988487244, 0.0, 0.0, 0.0], [0.20187680423259735, 0.0014663832262158394, 0.010041115805506706, 0.04384714365005493, 0.026717256754636765, 0.019740324467420578, 0.10749056935310364, 0.06787056475877762, 0.03511292487382889, 0.04914543032646179, 0.3329727053642273, 0.10371872782707214, 0.0, 0.0], [0.1693258434534073, 0.002872216748073697, 0.020431237295269966, 0.022828705608844757, 0.01786102168262005, 0.021603882312774658, 0.05226021260023117, 0.04605572670698166, 0.021144215017557144, 0.03181372955441475, 0.14252275228500366, 0.11718052625656128, 0.3340998589992523, 0.0], [0.1432342231273651, 0.0048479544930160046, 0.008698899298906326, 0.06657832860946655, 0.02145782858133316, 0.009676230140030384, 0.04134182259440422, 0.008551299571990967, 0.014165030792355537, 0.05124504864215851, 0.17761436104774475, 0.07827445864677429, 0.2630522847175598, 0.11126234382390976]]], [[[1.0, 0.0, 0.0, 0.0, 0.0, 0.0, 0.0, 0.0, 0.0, 0.0, 0.0, 0.0, 0.0, 0.0], [0.8898833394050598, 0.11011666059494019, 0.0, 0.0, 0.0, 0.0, 0.0, 0.0, 0.0, 0.0, 0.0, 0.0, 0.0, 0.0], [0.41882508993148804, 0.460684210062027, 0.12049072235822678, 0.0, 0.0, 0.0, 0.0, 0.0, 0.0, 0.0, 0.0, 0.0, 0.0, 0.0], [0.14657367765903473, 0.350132554769516, 0.47894152998924255, 0.024352150037884712, 0.0, 0.0, 0.0, 0.0, 0.0, 0.0, 0.0, 0.0, 0.0, 0.0], [0.0872533768415451, 0.6420556306838989, 0.19418086111545563, 0.0680328980088234, 0.008477158844470978, 0.0, 0.0, 0.0, 0.0, 0.0, 0.0, 0.0, 0.0, 0.0], [0.5083044767379761, 0.1817626804113388, 0.1326937973499298, 0.06036938354372978, 0.05295684188604355, 0.0639127865433693, 0.0, 0.0, 0.0, 0.0, 0.0, 0.0, 0.0, 0.0], [0.5123986601829529, 0.1465248018503189, 0.1695331335067749, 0.010950671508908272, 0.006676509976387024, 0.12036658823490143, 0.03354966267943382, 0.0, 0.0, 0.0, 0.0, 0.0, 0.0, 0.0], [0.5588586926460266, 0.04161711409687996, 0.01602894440293312, 0.0015330275055021048, 0.001321286428719759, 0.04533722996711731, 0.2895623445510864, 0.045741427689790726, 0.0, 0.0, 0.0, 0.0, 0.0, 0.0], [0.6621589660644531, 0.019083160907030106, 0.005484016612172127, 0.004015228245407343, 0.005675299558788538, 0.029058024287223816, 0.09773271530866623, 0.1354948729276657, 0.04129769280552864, 0.0, 0.0, 0.0, 0.0, 0.0], [0.7678963541984558, 0.002804253716021776, 0.0008220096933655441, 0.0023924962151795626, 0.0013685595476999879, 0.016117824241518974, 0.027344826608896255, 0.06113644316792488, 0.06496335566043854, 0.055153872817754745, 0.0, 0.0, 0.0, 0.0], [0.8388544321060181, 0.0029200981371104717, 0.00878357607871294, 0.0004356195859145373, 8.424547559116036e-05, 0.00829398911446333, 0.011791519820690155, 0.011426242999732494, 0.043431397527456284, 0.051203034818172455, 0.022775955498218536, 0.0, 0.0, 0.0], [0.7816242575645447, 0.0029591661877930164, 0.0014042820548638701, 0.0008402634994126856, 0.00038158532697707415, 0.007908777333796024, 0.013614255003631115, 0.006952519528567791, 0.015827374532818794, 0.06354513019323349, 0.09446307271718979, 0.01047944650053978, 0.0, 0.0], [0.5625821352005005, 0.0017996995011344552, 0.002134359907358885, 0.0003563894715625793, 0.0008293513674288988, 0.004679018631577492, 0.008329685777425766, 0.0026457542553544044, 0.005120053421705961, 0.024051908403635025, 0.0064489287324249744, 0.12110327184200287, 0.2599194049835205, 0.0], [0.6303843855857849, 0.0024120572488754988, 0.004721551667898893, 0.001638520509004593, 0.0007101924857124686, 0.006242495495826006, 0.007493831682950258, 0.002716371323913336, 0.0040870844386518, 0.02983677387237549, 0.015866242349147797, 0.07065361738204956, 0.1511772871017456, 0.07205971330404282]], [[1.0, 0.0, 0.0, 0.0, 0.0, 0.0, 0.0, 0.0, 0.0, 0.0, 0.0, 0.0, 0.0, 0.0], [0.9692040085792542, 0.030795956030488014, 0.0, 0.0, 0.0, 0.0, 0.0, 0.0, 0.0, 0.0, 0.0, 0.0, 0.0, 0.0], [0.5903478264808655, 0.3898482620716095, 0.019803907722234726, 0.0, 0.0, 0.0, 0.0, 0.0, 0.0, 0.0, 0.0, 0.0, 0.0, 0.0], [0.397300660610199, 0.43651193380355835, 0.11432848870754242, 0.05185895413160324, 0.0, 0.0, 0.0, 0.0, 0.0, 0.0, 0.0, 0.0, 0.0, 0.0], [0.5787636041641235, 0.19313469529151917, 0.09326839447021484, 0.11643253266811371, 0.01840083859860897, 0.0, 0.0, 0.0, 0.0, 0.0, 0.0, 0.0, 0.0, 0.0], [0.6760538220405579, 0.1263943612575531, 0.019986780360341072, 0.03030644729733467, 0.04176910221576691, 0.10548945516347885, 0.0, 0.0, 0.0, 0.0, 0.0, 0.0, 0.0, 0.0], [0.5505685210227966, 0.022749124094843864, 0.012981025502085686, 0.010866055265069008, 0.0160586666315794, 0.21554003655910492, 0.17123658955097198, 0.0, 0.0, 0.0, 0.0, 0.0, 0.0, 0.0], [0.33832547068595886, 0.00904102437198162, 0.0025302201975136995, 0.0015595474978908896, 0.003590986132621765, 0.04399239644408226, 0.5654119849205017, 0.03554833307862282, 0.0, 0.0, 0.0, 0.0, 0.0, 0.0], [0.13569094240665436, 0.0037060813046991825, 0.0011208256473764777, 0.0003755384241230786, 0.0014497189549729228, 0.023754838854074478, 0.3241725265979767, 0.4817773401737213, 0.02795213647186756, 0.0, 0.0, 0.0, 0.0, 0.0], [0.09968385100364685, 0.0010484113590791821, 0.00032810712582431734, 0.0004938123165629804, 0.0006519115413539112, 0.01441314909607172, 0.4927893877029419, 0.30482015013694763, 0.06135586276650429, 0.024415358901023865, 0.0, 0.0, 0.0, 0.0], [0.20908010005950928, 0.00466639781370759, 0.0027606140356510878, 0.0019098968477919698, 0.0003541311016306281, 0.02880055643618107, 0.17872118949890137, 0.36133208870887756, 0.07805534452199936, 0.12060427665710449, 0.013715331442654133, 0.0, 0.0, 0.0], [0.1553831696510315, 0.0019188238075003028, 0.0009575457661412656, 0.0013193002669140697, 0.0008635637350380421, 0.021799281239509583, 0.31319862604141235, 0.29268744587898254, 0.09373785555362701, 0.07829228043556213, 0.025857146829366684, 0.013984967954456806, 0.0, 0.0], [0.35474348068237305, 0.005980535876005888, 0.0018948062788695097, 0.006222424563020468, 0.005480208434164524, 0.02257370762526989, 0.13923664391040802, 0.10967103391885757, 0.08086114376783371, 0.14351308345794678, 0.04888853430747986, 0.024812649935483932, 0.056121744215488434, 0.0], [0.5177360773086548, 0.005143344402313232, 0.0039853560738265514, 0.002816556254401803, 0.0029222602024674416, 0.007366945967078209, 0.08192314952611923, 0.08798637986183167, 0.032486919313669205, 0.061764590442180634, 0.04758506268262863, 0.04794291406869888, 0.04639066755771637, 0.05394984781742096]], [[1.0, 0.0, 0.0, 0.0, 0.0, 0.0, 0.0, 0.0, 0.0, 0.0, 0.0, 0.0, 0.0, 0.0], [0.9679773449897766, 0.032022684812545776, 0.0, 0.0, 0.0, 0.0, 0.0, 0.0, 0.0, 0.0, 0.0, 0.0, 0.0, 0.0], [0.882331132888794, 0.09282175451517105, 0.02484717220067978, 0.0, 0.0, 0.0, 0.0, 0.0, 0.0, 0.0, 0.0, 0.0, 0.0, 0.0], [0.8836926221847534, 0.06940823048353195, 0.008795982226729393, 0.038103137165308, 0.0, 0.0, 0.0, 0.0, 0.0, 0.0, 0.0, 0.0, 0.0, 0.0], [0.8774648904800415, 0.039644837379455566, 0.009530346840620041, 0.03158079832792282, 0.041779037564992905, 0.0, 0.0, 0.0, 0.0, 0.0, 0.0, 0.0, 0.0, 0.0], [0.7262831330299377, 0.05819939076900482, 0.009588893502950668, 0.015399450436234474, 0.09575844556093216, 0.09477076679468155, 0.0, 0.0, 0.0, 0.0, 0.0, 0.0, 0.0, 0.0], [0.7116522192955017, 0.030962491407990456, 0.005026134662330151, 0.00630481680855155, 0.043368030339479446, 0.11319145560264587, 0.08949469029903412, 0.0, 0.0, 0.0, 0.0, 0.0, 0.0, 0.0], [0.6610689759254456, 0.045043300837278366, 0.011709856800734997, 0.009255417622625828, 0.01627906784415245, 0.10851944983005524, 0.09363573789596558, 0.05448812618851662, 0.0, 0.0, 0.0, 0.0, 0.0, 0.0], [0.6427857279777527, 0.03897260129451752, 0.011252106167376041, 0.024371981620788574, 0.025680942460894585, 0.08925823122262955, 0.09428457170724869, 0.054981738328933716, 0.01841212809085846, 0.0, 0.0, 0.0, 0.0, 0.0], [0.6536827683448792, 0.02984890714287758, 0.006372669246047735, 0.013928850181400776, 0.045249126851558685, 0.05875680595636368, 0.08293250948190689, 0.042549680918455124, 0.05263107270002365, 0.014047632925212383, 0.0, 0.0, 0.0, 0.0], [0.6453626155853271, 0.029590405523777008, 0.003982021473348141, 0.011547805741429329, 0.02318643219769001, 0.048749346286058426, 0.1266242265701294, 0.04683569446206093, 0.03542984277009964, 0.01704317517578602, 0.011648337356746197, 0.0, 0.0, 0.0], [0.6648653149604797, 0.01818757690489292, 0.0031668771989643574, 0.01167730987071991, 0.036106426268815994, 0.030671032145619392, 0.11886246502399445, 0.04692155495285988, 0.030837705358862877, 0.010657212696969509, 0.019008364528417587, 0.00903822761029005, 0.0, 0.0], [0.4930981397628784, 0.020727336406707764, 0.0067352354526519775, 0.01859024167060852, 0.06292925775051117, 0.05786103755235672, 0.17439737915992737, 0.0660896971821785, 0.02740103006362915, 0.022291600704193115, 0.01858353614807129, 0.021939974278211594, 0.00935552641749382, 0.0], [0.4878201484680176, 0.06433245539665222, 0.003074643900617957, 0.006939483340829611, 0.058745283633470535, 0.05515578016638756, 0.1221725270152092, 0.06777281314134598, 0.03914034366607666, 0.008576051332056522, 0.009968251921236515, 0.011046388186514378, 0.012840811163187027, 0.05241500213742256]], [[1.0, 0.0, 0.0, 0.0, 0.0, 0.0, 0.0, 0.0, 0.0, 0.0, 0.0, 0.0, 0.0, 0.0], [0.9908955693244934, 0.009104439988732338, 0.0, 0.0, 0.0, 0.0, 0.0, 0.0, 0.0, 0.0, 0.0, 0.0, 0.0, 0.0], [0.7074286341667175, 0.2639806568622589, 0.028590776026248932, 0.0, 0.0, 0.0, 0.0, 0.0, 0.0, 0.0, 0.0, 0.0, 0.0, 0.0], [0.7452566623687744, 0.1935112178325653, 0.03298141434788704, 0.02825074829161167, 0.0, 0.0, 0.0, 0.0, 0.0, 0.0, 0.0, 0.0, 0.0, 0.0], [0.3598466217517853, 0.13215607404708862, 0.012022579088807106, 0.04278207942843437, 0.45319265127182007, 0.0, 0.0, 0.0, 0.0, 0.0, 0.0, 0.0, 0.0, 0.0], [0.25687673687934875, 0.047073427587747574, 0.03547273948788643, 0.0593409538269043, 0.5750022530555725, 0.026233861222863197, 0.0, 0.0, 0.0, 0.0, 0.0, 0.0, 0.0, 0.0], [0.5820722579956055, 0.09343986213207245, 0.018185291439294815, 0.08690699189901352, 0.07741928100585938, 0.07342994958162308, 0.06854642182588577, 0.0, 0.0, 0.0, 0.0, 0.0, 0.0, 0.0], [0.6412506103515625, 0.02139771543443203, 0.018755817785859108, 0.044202227145433426, 0.027628380805253983, 0.05235590785741806, 0.12027408927679062, 0.0741351842880249, 0.0, 0.0, 0.0, 0.0, 0.0, 0.0], [0.4424671530723572, 0.019311804324388504, 0.02346038445830345, 0.07269982993602753, 0.05389779806137085, 0.042905233800411224, 0.15016664564609528, 0.11658620834350586, 0.07850495725870132, 0.0, 0.0, 0.0, 0.0, 0.0], [0.4373917579650879, 0.003752227406948805, 0.008592097088694572, 0.05142775550484657, 0.036413732916116714, 0.02486673928797245, 0.05505955219268799, 0.046905264258384705, 0.2487090677022934, 0.08688190579414368, 0.0, 0.0, 0.0, 0.0], [0.18526646494865417, 0.0030752208549529314, 0.013406439684331417, 0.034426234662532806, 0.17374013364315033, 0.010976115241646767, 0.01913401298224926, 0.008051308803260326, 0.421401709318161, 0.10784383118152618, 0.022678527981042862, 0.0, 0.0, 0.0], [0.20774897933006287, 0.006026409100741148, 0.007865955121815205, 0.018257329240441322, 0.1120956614613533, 0.00889506097882986, 0.025621429085731506, 0.009033553302288055, 0.4501303732395172, 0.1077546775341034, 0.032998207956552505, 0.013572302646934986, 0.0, 0.0], [0.259261816740036, 0.008046022616326809, 0.0038547441363334656, 0.013614234514534473, 0.11094603687524796, 0.011856344528496265, 0.012862584553658962, 0.011920470744371414, 0.26063284277915955, 0.12646923959255219, 0.013681706972420216, 0.024098677560687065, 0.14275532960891724, 0.0], [0.28008052706718445, 0.0029662728775292635, 0.002910759299993515, 0.0056542083621025085, 0.01442726794630289, 0.0015932313399389386, 0.009645919315516949, 0.01536135096102953, 0.052605628967285156, 0.028222259134054184, 0.025477932766079903, 0.024966293945908546, 0.5146991014480591, 0.021389175206422806]], [[1.0, 0.0, 0.0, 0.0, 0.0, 0.0, 0.0, 0.0, 0.0, 0.0, 0.0, 0.0, 0.0, 0.0], [0.966482937335968, 0.03351706266403198, 0.0, 0.0, 0.0, 0.0, 0.0, 0.0, 0.0, 0.0, 0.0, 0.0, 0.0, 0.0], [0.8880773186683655, 0.055719949305057526, 0.056202661246061325, 0.0, 0.0, 0.0, 0.0, 0.0, 0.0, 0.0, 0.0, 0.0, 0.0, 0.0], [0.7975546717643738, 0.04604654386639595, 0.028349317610263824, 0.12804953753948212, 0.0, 0.0, 0.0, 0.0, 0.0, 0.0, 0.0, 0.0, 0.0, 0.0], [0.8760662078857422, 0.04055964574217796, 0.018661901354789734, 0.041056614369153976, 0.023655574768781662, 0.0, 0.0, 0.0, 0.0, 0.0, 0.0, 0.0, 0.0, 0.0], [0.7741314172744751, 0.08121123909950256, 0.028716281056404114, 0.055264875292778015, 0.03404323011636734, 0.026632854714989662, 0.0, 0.0, 0.0, 0.0, 0.0, 0.0, 0.0, 0.0], [0.7308810949325562, 0.03471744433045387, 0.023110708221793175, 0.05274371802806854, 0.004870633129030466, 0.05059046670794487, 0.10308590531349182, 0.0, 0.0, 0.0, 0.0, 0.0, 0.0, 0.0], [0.665183961391449, 0.013183497823774815, 0.005739758722484112, 0.004178667441010475, 0.004614014178514481, 0.02542279101908207, 0.1270281970500946, 0.15464916825294495, 0.0, 0.0, 0.0, 0.0, 0.0, 0.0], [0.8127700090408325, 0.027325764298439026, 0.007855052128434181, 0.008517268113791943, 0.0068709151819348335, 0.02067345380783081, 0.02594671957194805, 0.0415462888777256, 0.04849458858370781, 0.0, 0.0, 0.0, 0.0, 0.0], [0.6027933359146118, 0.06749307364225388, 0.011663340963423252, 0.004303620662540197, 0.00552253657951951, 0.023392168805003166, 0.03500080481171608, 0.03883702680468559, 0.11147276312112808, 0.09952134639024734, 0.0, 0.0, 0.0, 0.0], [0.8277990818023682, 0.05231955647468567, 0.0077004097402095795, 0.00101167568936944, 0.0024919912684708834, 0.016040533781051636, 0.010643224231898785, 0.014891120605170727, 0.030214430764317513, 0.029527978971600533, 0.0073600769974291325, 0.0, 0.0, 0.0], [0.728817880153656, 0.014111682772636414, 0.005356272682547569, 0.001206298009492457, 0.0022932046558707952, 0.015980083495378494, 0.00739402836188674, 0.011601961217820644, 0.10304625332355499, 0.014030355960130692, 0.05089390650391579, 0.04526802524924278, 0.0, 0.0], [0.5409338474273682, 0.026687774807214737, 0.010020943358540535, 0.005037806462496519, 0.0344206728041172, 0.01698877289891243, 0.013313299044966698, 0.015510722063481808, 0.13360252976417542, 0.03540296107530594, 0.027032431215047836, 0.014834384433925152, 0.12621380388736725, 0.0], [0.6298479437828064, 0.04596397653222084, 0.004190336912870407, 0.03648415207862854, 0.02628222294151783, 0.04192234203219414, 0.014593267813324928, 0.032540518790483475, 0.04564547538757324, 0.029399869963526726, 0.006944627035409212, 0.007375732064247131, 0.03371870890259743, 0.04509076103568077]], [[1.0, 0.0, 0.0, 0.0, 0.0, 0.0, 0.0, 0.0, 0.0, 0.0, 0.0, 0.0, 0.0, 0.0], [0.9696730971336365, 0.030326850712299347, 0.0, 0.0, 0.0, 0.0, 0.0, 0.0, 0.0, 0.0, 0.0, 0.0, 0.0, 0.0], [0.8771207928657532, 0.07853103429079056, 0.04434816539287567, 0.0, 0.0, 0.0, 0.0, 0.0, 0.0, 0.0, 0.0, 0.0, 0.0, 0.0], [0.8064669370651245, 0.10014819353818893, 0.043923791497945786, 0.049461036920547485, 0.0, 0.0, 0.0, 0.0, 0.0, 0.0, 0.0, 0.0, 0.0, 0.0], [0.47415414452552795, 0.15086154639720917, 0.07023480534553528, 0.2871684730052948, 0.017581062391400337, 0.0, 0.0, 0.0, 0.0, 0.0, 0.0, 0.0, 0.0, 0.0], [0.7488998770713806, 0.030046740546822548, 0.04785273224115372, 0.08222171664237976, 0.03738616034388542, 0.053592801094055176, 0.0, 0.0, 0.0, 0.0, 0.0, 0.0, 0.0, 0.0], [0.531091034412384, 0.02018304541707039, 0.011096388101577759, 0.00775601901113987, 0.009936613030731678, 0.33032020926475525, 0.08961672335863113, 0.0, 0.0, 0.0, 0.0, 0.0, 0.0, 0.0], [0.671621561050415, 0.01396225392818451, 0.008265269920229912, 0.0024073319509625435, 0.007352202199399471, 0.14642953872680664, 0.14144323766231537, 0.008518445305526257, 0.0, 0.0, 0.0, 0.0, 0.0, 0.0], [0.7626447677612305, 0.004973442759364843, 0.007791111245751381, 0.0018794572679325938, 0.005405797623097897, 0.050597500056028366, 0.08475317060947418, 0.06715431809425354, 0.014800512231886387, 0.0, 0.0, 0.0, 0.0, 0.0], [0.6996963024139404, 0.00081523263361305, 0.0031954257283359766, 0.0012237753253430128, 0.004389127250760794, 0.06005505099892616, 0.0589529350399971, 0.06801112741231918, 0.09451135247945786, 0.009149628691375256, 0.0, 0.0, 0.0, 0.0], [0.7607777714729309, 0.0011916316580027342, 0.01550960075110197, 0.005164087750017643, 0.005512093659490347, 0.04550148919224739, 0.02825521118938923, 0.03073057159781456, 0.06910364329814911, 0.01678631640970707, 0.021467579528689384, 0.0, 0.0, 0.0], [0.7294365167617798, 0.0017223017057403922, 0.008197098970413208, 0.005934944376349449, 0.008315793238580227, 0.04139232262969017, 0.03829427808523178, 0.02614777162671089, 0.05308353155851364, 0.03205004334449768, 0.039147574454545975, 0.016277799382805824, 0.0, 0.0], [0.5935844779014587, 0.0008381809457205236, 0.004038088954985142, 0.0033116068225353956, 0.002619844162836671, 0.038832444697618484, 0.015567278489470482, 0.04852650687098503, 0.04369514808058739, 0.015750443562865257, 0.13043616712093353, 0.045912329107522964, 0.05688753351569176, 0.0], [0.7439903616905212, 0.001094931154511869, 0.004423721693456173, 0.0024779050145298243, 0.0032774433493614197, 0.006044371984899044, 0.01580582931637764, 0.005829967558383942, 0.005436589475721121, 0.008315847255289555, 0.014834387227892876, 0.06887850165367126, 0.08578360825777054, 0.03380659967660904]], [[1.0, 0.0, 0.0, 0.0, 0.0, 0.0, 0.0, 0.0, 0.0, 0.0, 0.0, 0.0, 0.0, 0.0], [0.976125955581665, 0.023874057456851006, 0.0, 0.0, 0.0, 0.0, 0.0, 0.0, 0.0, 0.0, 0.0, 0.0, 0.0, 0.0], [0.8538379073143005, 0.10452410578727722, 0.041638001799583435, 0.0, 0.0, 0.0, 0.0, 0.0, 0.0, 0.0, 0.0, 0.0, 0.0, 0.0], [0.7835609912872314, 0.1043815016746521, 0.06883174926042557, 0.04322575777769089, 0.0, 0.0, 0.0, 0.0, 0.0, 0.0, 0.0, 0.0, 0.0, 0.0], [0.56914883852005, 0.13304680585861206, 0.08999843150377274, 0.18228863179683685, 0.025517234578728676, 0.0, 0.0, 0.0, 0.0, 0.0, 0.0, 0.0, 0.0, 0.0], [0.4973253309726715, 0.1478225737810135, 0.059014055877923965, 0.09231666475534439, 0.12886546552181244, 0.07465599477291107, 0.0, 0.0, 0.0, 0.0, 0.0, 0.0, 0.0, 0.0], [0.38148975372314453, 0.12210101634263992, 0.058351024985313416, 0.08860902488231659, 0.11459165811538696, 0.13027116656303406, 0.1045864000916481, 0.0, 0.0, 0.0, 0.0, 0.0, 0.0, 0.0], [0.46573156118392944, 0.10544081032276154, 0.02976391091942787, 0.030351530760526657, 0.03792519494891167, 0.046710822731256485, 0.2355232536792755, 0.04855290800333023, 0.0, 0.0, 0.0, 0.0, 0.0, 0.0], [0.3924073576927185, 0.03355500102043152, 0.02520710974931717, 0.06391792744398117, 0.07943369448184967, 0.061434753239154816, 0.23455055058002472, 0.0957101434469223, 0.013783499598503113, 0.0, 0.0, 0.0, 0.0, 0.0], [0.5337020754814148, 0.0148035679012537, 0.02035393752157688, 0.04151482507586479, 0.05787156894803047, 0.04039755463600159, 0.1328696310520172, 0.05170082673430443, 0.04771248251199722, 0.059073351323604584, 0.0, 0.0, 0.0, 0.0], [0.6686791181564331, 0.013803369365632534, 0.01914999447762966, 0.03389495611190796, 0.013313657604157925, 0.02294766716659069, 0.06437672674655914, 0.025511115789413452, 0.036528125405311584, 0.07900553941726685, 0.022789768874645233, 0.0, 0.0, 0.0], [0.6565244793891907, 0.007799569983035326, 0.007658117450773716, 0.016768617555499077, 0.023327000439167023, 0.028010079637169838, 0.0759979709982872, 0.01679748296737671, 0.032087814062833786, 0.03623287379741669, 0.05583753064274788, 0.042958393692970276, 0.0, 0.0], [0.5566408634185791, 0.009979430586099625, 0.016272680833935738, 0.03437742590904236, 0.028420835733413696, 0.02047489956021309, 0.05578990653157234, 0.022196950390934944, 0.0360611267387867, 0.04717274755239487, 0.037865493446588516, 0.07617999613285065, 0.05856774374842644, 0.0], [0.3226199150085449, 0.019512688741087914, 0.007339238189160824, 0.011023755185306072, 0.01347822044044733, 0.01778370328247547, 0.12291442602872849, 0.03404228761792183, 0.05730348825454712, 0.07161027193069458, 0.060779962688684464, 0.07032372057437897, 0.12559477984905243, 0.06567347794771194]], [[1.0, 0.0, 0.0, 0.0, 0.0, 0.0, 0.0, 0.0, 0.0, 0.0, 0.0, 0.0, 0.0, 0.0], [0.9982283711433411, 0.0017716162838041782, 0.0, 0.0, 0.0, 0.0, 0.0, 0.0, 0.0, 0.0, 0.0, 0.0, 0.0, 0.0], [0.6888407468795776, 0.006058431696146727, 0.30510079860687256, 0.0, 0.0, 0.0, 0.0, 0.0, 0.0, 0.0, 0.0, 0.0, 0.0, 0.0], [0.5782710313796997, 0.004915987607091665, 0.11158235371112823, 0.30523061752319336, 0.0, 0.0, 0.0, 0.0, 0.0, 0.0, 0.0, 0.0, 0.0, 0.0], [0.2076178640127182, 0.03243051841855049, 0.03023182787001133, 0.08071982860565186, 0.6489999294281006, 0.0, 0.0, 0.0, 0.0, 0.0, 0.0, 0.0, 0.0, 0.0], [0.14925293624401093, 0.011780964210629463, 0.03275381401181221, 0.021389039233326912, 0.1672763079404831, 0.6175469160079956, 0.0, 0.0, 0.0, 0.0, 0.0, 0.0, 0.0, 0.0], [0.10372531414031982, 0.007065389305353165, 0.011949311010539532, 0.004103654529899359, 0.026264892891049385, 0.5225958824157715, 0.3242955207824707, 0.0, 0.0, 0.0, 0.0, 0.0, 0.0, 0.0], [0.3335622251033783, 0.007355209439992905, 0.005949980579316616, 0.007806749548763037, 0.0020841448567807674, 0.03705186769366264, 0.16228698194026947, 0.4439028203487396, 0.0, 0.0, 0.0, 0.0, 0.0, 0.0], [0.2465970367193222, 0.0026525326538830996, 0.010364065878093243, 0.004925732035189867, 0.0027319807559251785, 0.05725754797458649, 0.2774059772491455, 0.09885941445827484, 0.2992057204246521, 0.0, 0.0, 0.0, 0.0, 0.0], [0.47219353914260864, 0.0024974914267659187, 0.006229813676327467, 0.00668376125395298, 0.0009741457761265337, 0.008314997889101505, 0.0105446083471179, 0.06364981085062027, 0.10348054766654968, 0.325431227684021, 0.0, 0.0, 0.0, 0.0], [0.24713334441184998, 0.0017171084182336926, 0.05365568771958351, 0.013321086764335632, 0.0016011515399441123, 0.011026709340512753, 0.002650071168318391, 0.015309836715459824, 0.04010167717933655, 0.10817287117242813, 0.5053104162216187, 0.0, 0.0, 0.0], [0.32285940647125244, 0.0019950184505432844, 0.011223793029785156, 0.0072927637957036495, 0.0032800023909658194, 0.012901201844215393, 0.0022158753126859665, 0.003647620091214776, 0.03006148710846901, 0.02873760648071766, 0.06155337393283844, 0.5142318606376648, 0.0, 0.0], [0.2829079329967499, 0.0021477574482560158, 0.012450791895389557, 0.012285233475267887, 0.010636395774781704, 0.012114901095628738, 0.005736876279115677, 0.005068297032266855, 0.0318097323179245, 0.02477334998548031, 0.025139009580016136, 0.19904623925685883, 0.3758835196495056, 0.0], [0.17774870991706848, 0.0030449661426246166, 0.005821035243570805, 0.0041654836386442184, 0.0510486476123333, 0.09567058831453323, 0.028835032135248184, 0.004920819774270058, 0.01133492961525917, 0.018031755462288857, 0.026021739467978477, 0.050753314048051834, 0.03502604737877846, 0.4875769317150116]], [[1.0, 0.0, 0.0, 0.0, 0.0, 0.0, 0.0, 0.0, 0.0, 0.0, 0.0, 0.0, 0.0, 0.0], [0.9990137815475464, 0.000986215891316533, 0.0, 0.0, 0.0, 0.0, 0.0, 0.0, 0.0, 0.0, 0.0, 0.0, 0.0, 0.0], [0.9747567176818848, 0.01113402470946312, 0.014109230600297451, 0.0, 0.0, 0.0, 0.0, 0.0, 0.0, 0.0, 0.0, 0.0, 0.0, 0.0], [0.9373512864112854, 0.014949310570955276, 0.011211395263671875, 0.03648805245757103, 0.0, 0.0, 0.0, 0.0, 0.0, 0.0, 0.0, 0.0, 0.0, 0.0], [0.9427500367164612, 0.011432978324592113, 0.00656931521371007, 0.008690993301570415, 0.03055652603507042, 0.0, 0.0, 0.0, 0.0, 0.0, 0.0, 0.0, 0.0, 0.0], [0.8803842067718506, 0.014004252851009369, 0.012868291698396206, 0.016531093046069145, 0.03907088190317154, 0.03714124485850334, 0.0, 0.0, 0.0, 0.0, 0.0, 0.0, 0.0, 0.0], [0.8658644556999207, 0.011692753992974758, 0.006710282061249018, 0.00907514151185751, 0.013955710455775261, 0.038127440959215164, 0.05457417666912079, 0.0, 0.0, 0.0, 0.0, 0.0, 0.0, 0.0], [0.8173099756240845, 0.011219159699976444, 0.006794450804591179, 0.019029991701245308, 0.008268947713077068, 0.04849189892411232, 0.04675905033946037, 0.04212655499577522, 0.0, 0.0, 0.0, 0.0, 0.0, 0.0], [0.8407135009765625, 0.009560178965330124, 0.005296730902045965, 0.01843925006687641, 0.009380105882883072, 0.04633454605937004, 0.010476027615368366, 0.024124328047037125, 0.03567544370889664, 0.0, 0.0, 0.0, 0.0, 0.0], [0.8054394125938416, 0.00611988827586174, 0.01418276410549879, 0.027280906215310097, 0.022800300270318985, 0.03984835371375084, 0.022701893001794815, 0.018537405878305435, 0.019647909328341484, 0.023441210389137268, 0.0, 0.0, 0.0, 0.0], [0.6738772392272949, 0.010256373323500156, 0.015232628211379051, 0.038298383355140686, 0.08599983900785446, 0.04020128399133682, 0.04929805546998978, 0.017100529745221138, 0.005753860808908939, 0.03218018636107445, 0.031801529228687286, 0.0, 0.0, 0.0], [0.7450483441352844, 0.007382269948720932, 0.00905206985771656, 0.029279140755534172, 0.048763517290353775, 0.028348349034786224, 0.010804506950080395, 0.014543508179485798, 0.005662369076162577, 0.04333217069506645, 0.02930429019033909, 0.028479499742388725, 0.0, 0.0], [0.8352711200714111, 0.00904528982937336, 0.00367106799967587, 0.011508237570524216, 0.020500024780631065, 0.024491799995303154, 0.040459807962179184, 0.003997591324150562, 0.0047910176217556, 0.010695726610720158, 0.012547886930406094, 0.017165809869766235, 0.005854378454387188, 0.0], [0.661504328250885, 0.025155039504170418, 0.006575226783752441, 0.012880592606961727, 0.030189018696546555, 0.057185567915439606, 0.04549601301550865, 0.013034391216933727, 0.012810289859771729, 0.028434623032808304, 0.02643653005361557, 0.01736515946686268, 0.03141060844063759, 0.03152252361178398]], [[1.0, 0.0, 0.0, 0.0, 0.0, 0.0, 0.0, 0.0, 0.0, 0.0, 0.0, 0.0, 0.0, 0.0], [0.9856115579605103, 0.014388447627425194, 0.0, 0.0, 0.0, 0.0, 0.0, 0.0, 0.0, 0.0, 0.0, 0.0, 0.0, 0.0], [0.777434229850769, 0.16157527267932892, 0.060990557074546814, 0.0, 0.0, 0.0, 0.0, 0.0, 0.0, 0.0, 0.0, 0.0, 0.0, 0.0], [0.5556549429893494, 0.1701377034187317, 0.1882934719324112, 0.08591388911008835, 0.0, 0.0, 0.0, 0.0, 0.0, 0.0, 0.0, 0.0, 0.0, 0.0], [0.41256144642829895, 0.1844596117734909, 0.096389040350914, 0.22968240082263947, 0.07690747082233429, 0.0, 0.0, 0.0, 0.0, 0.0, 0.0, 0.0, 0.0, 0.0], [0.2789474129676819, 0.11413178592920303, 0.1006980612874031, 0.23899933695793152, 0.2364218831062317, 0.030801504850387573, 0.0, 0.0, 0.0, 0.0, 0.0, 0.0, 0.0, 0.0], [0.3684808611869812, 0.15191392600536346, 0.11252875626087189, 0.20858359336853027, 0.03765116259455681, 0.08708538115024567, 0.0337563194334507, 0.0, 0.0, 0.0, 0.0, 0.0, 0.0, 0.0], [0.6939390897750854, 0.039231281727552414, 0.06641469895839691, 0.04975905641913414, 0.020561348646879196, 0.04532613605260849, 0.0727403312921524, 0.012027974240481853, 0.0, 0.0, 0.0, 0.0, 0.0, 0.0], [0.5677973628044128, 0.05449213460087776, 0.028697635978460312, 0.06104566901922226, 0.04202236607670784, 0.08198928087949753, 0.06263552606105804, 0.06252860277891159, 0.03879143297672272, 0.0, 0.0, 0.0, 0.0, 0.0], [0.7135902643203735, 0.008457272313535213, 0.016435381025075912, 0.04369019344449043, 0.04299568012356758, 0.038380157202482224, 0.04592509940266609, 0.04093124717473984, 0.03286461904644966, 0.01673012413084507, 0.0, 0.0, 0.0, 0.0], [0.7023071050643921, 0.032216254621744156, 0.007852810434997082, 0.027063880115747452, 0.03953247517347336, 0.012712989933788776, 0.04400245100259781, 0.024789011105895042, 0.01886027492582798, 0.051878027617931366, 0.03878471255302429, 0.0, 0.0, 0.0], [0.29352042078971863, 0.010466591455042362, 0.006061109248548746, 0.05576517805457115, 0.03538719564676285, 0.013890732079744339, 0.030869148671627045, 0.02210976369678974, 0.037643492221832275, 0.08212084323167801, 0.33473441004753113, 0.0774310827255249, 0.0, 0.0], [0.25014621019363403, 0.01844513788819313, 0.0076583451591432095, 0.030166061595082283, 0.0885385274887085, 0.008179194293916225, 0.02209845371544361, 0.010552870109677315, 0.028640886768698692, 0.08959747850894928, 0.16595226526260376, 0.15178999304771423, 0.1282346248626709, 0.0], [0.1417720466852188, 0.013645455241203308, 0.007045644335448742, 0.022284995764493942, 0.04337778314948082, 0.004933544434607029, 0.02131890505552292, 0.019426414743065834, 0.05715380609035492, 0.09419947117567062, 0.1718018352985382, 0.09122536331415176, 0.27977877855300903, 0.03203601762652397]], [[1.0, 0.0, 0.0, 0.0, 0.0, 0.0, 0.0, 0.0, 0.0, 0.0, 0.0, 0.0, 0.0, 0.0], [0.9969097971916199, 0.003090244485065341, 0.0, 0.0, 0.0, 0.0, 0.0, 0.0, 0.0, 0.0, 0.0, 0.0, 0.0, 0.0], [0.9645689129829407, 0.010149882175028324, 0.025281177833676338, 0.0, 0.0, 0.0, 0.0, 0.0, 0.0, 0.0, 0.0, 0.0, 0.0, 0.0], [0.9606189727783203, 0.008074473589658737, 0.025085939094424248, 0.006220724433660507, 0.0, 0.0, 0.0, 0.0, 0.0, 0.0, 0.0, 0.0, 0.0, 0.0], [0.9666074514389038, 0.011634230613708496, 0.01089025940746069, 0.0010487536201253533, 0.00981920026242733, 0.0, 0.0, 0.0, 0.0, 0.0, 0.0, 0.0, 0.0, 0.0], [0.8851521611213684, 0.015134483575820923, 0.018111955374479294, 0.0015668484847992659, 0.02572968788444996, 0.05430492386221886, 0.0, 0.0, 0.0, 0.0, 0.0, 0.0, 0.0, 0.0], [0.7965334057807922, 0.017062965780496597, 0.02670375443994999, 0.0011859888909384608, 0.007161382585763931, 0.046544309705495834, 0.10480813682079315, 0.0, 0.0, 0.0, 0.0, 0.0, 0.0, 0.0], [0.6882100105285645, 0.013435001485049725, 0.02438810095191002, 0.00447234557941556, 0.005191645119339228, 0.07284829020500183, 0.0743771642446518, 0.11707732081413269, 0.0, 0.0, 0.0, 0.0, 0.0, 0.0], [0.8162252306938171, 0.01894473470747471, 0.013640206307172775, 0.002293270081281662, 0.017147907987236977, 0.05530925840139389, 0.030493199825286865, 0.03211843967437744, 0.013827769085764885, 0.0, 0.0, 0.0, 0.0, 0.0], [0.7968342304229736, 0.012482325546443462, 0.015798969194293022, 0.0028379757422953844, 0.014204657636582851, 0.06323014199733734, 0.023018864914774895, 0.03679128736257553, 0.023806503042578697, 0.010995084419846535, 0.0, 0.0, 0.0, 0.0], [0.9006771445274353, 0.005620884709060192, 0.005681352224200964, 0.0018538390286266804, 0.008146477863192558, 0.023644911125302315, 0.010467534884810448, 0.019299887120723724, 0.008915653452277184, 0.005482888780534267, 0.01020942535251379, 0.0, 0.0, 0.0], [0.8331983089447021, 0.005936534609645605, 0.010164618492126465, 0.002539935987442732, 0.016470538452267647, 0.053168896585702896, 0.011784149333834648, 0.017517345026135445, 0.0070990524254739285, 0.008646477945148945, 0.010739151388406754, 0.022735044360160828, 0.0, 0.0], [0.8811718821525574, 0.008410963229835033, 0.006230223923921585, 0.00222061388194561, 0.02127617597579956, 0.019098706543445587, 0.009970702230930328, 0.010785789228975773, 0.0030010840855538845, 0.00370292947627604, 0.008004368282854557, 0.00756503501906991, 0.01856164075434208, 0.0], [0.7191035747528076, 0.021584713831543922, 0.013600824400782585, 0.0014888126170262694, 0.024812549352645874, 0.0496637336909771, 0.03562987223267555, 0.03094184398651123, 0.02629196271300316, 0.009713088162243366, 0.007640952244400978, 0.03857223317027092, 0.0023760944604873657, 0.01857968233525753]], [[1.0, 0.0, 0.0, 0.0, 0.0, 0.0, 0.0, 0.0, 0.0, 0.0, 0.0, 0.0, 0.0, 0.0], [1.0, 1.3695894418574994e-10, 0.0, 0.0, 0.0, 0.0, 0.0, 0.0, 0.0, 0.0, 0.0, 0.0, 0.0, 0.0], [0.00012374708603601903, 0.9983238577842712, 0.0015524065820500255, 0.0, 0.0, 0.0, 0.0, 0.0, 0.0, 0.0, 0.0, 0.0, 0.0, 0.0], [1.2649009022425162e-06, 0.00010067574476124719, 0.9992659687995911, 0.0006320013199001551, 0.0, 0.0, 0.0, 0.0, 0.0, 0.0, 0.0, 0.0, 0.0, 0.0], [1.3027424472511484e-07, 8.230605433312554e-12, 5.5374812374386906e-11, 0.9999555349349976, 4.433806680026464e-05, 0.0, 0.0, 0.0, 0.0, 0.0, 0.0, 0.0, 0.0, 0.0], [8.528820671926951e-08, 2.3765311496504182e-08, 3.3509567343159574e-10, 1.5204817827907391e-05, 0.9999080896377563, 7.658930553589016e-05, 0.0, 0.0, 0.0, 0.0, 0.0, 0.0, 0.0, 0.0], [2.6344878278905526e-06, 9.705158454664797e-09, 1.09988938529898e-12, 1.533059161389072e-13, 3.730560305115205e-10, 0.9963055849075317, 0.003691762685775757, 0.0, 0.0, 0.0, 0.0, 0.0, 0.0, 0.0], [1.5014621490561098e-10, 1.3841288141677732e-12, 6.3842385188367465e-15, 2.34391089513108e-17, 4.21049225470476e-16, 1.6268193459012537e-09, 0.9993516802787781, 0.0006483355537056923, 0.0, 0.0, 0.0, 0.0, 0.0, 0.0], [1.426955775762906e-10, 1.7181227144127953e-12, 1.4180361529100849e-12, 1.8411163198661044e-15, 4.607037611104557e-16, 5.020650633014156e-07, 0.0003030726220458746, 0.9996963739395142, 1.2858167508511542e-07, 0.0, 0.0, 0.0, 0.0, 0.0], [4.3194262389079086e-08, 1.855249488107516e-14, 2.5418008626695854e-14, 1.0302046823658798e-16, 1.0829320366549293e-17, 7.1724982723953e-12, 2.5737321163177285e-09, 1.4643136125869205e-07, 0.9943696856498718, 0.005630221683532, 0.0, 0.0, 0.0, 0.0], [1.269168325990222e-09, 4.0610553114772685e-11, 2.387818831550703e-10, 7.495264848333255e-16, 2.067076705166733e-17, 2.892116748995019e-14, 2.0563505325615905e-12, 4.244273769243856e-12, 3.813419482412428e-07, 0.9999973773956299, 2.2705880837747827e-06, 0.0, 0.0, 0.0], [7.024181930548323e-11, 1.3000779380996363e-13, 2.6551374285505892e-15, 1.3746357940553743e-14, 1.2388636123905616e-14, 3.2130056942933014e-14, 4.295057165422432e-15, 2.2924017098778027e-15, 2.3343374455642163e-10, 4.328111117501976e-06, 0.9997774958610535, 0.00021825195290148258, 0.0, 0.0], [2.300160506507609e-09, 2.9088524124143422e-12, 6.893571000490817e-13, 1.379663104003918e-14, 2.5502441506152873e-17, 3.8527048305120326e-13, 1.2136064722612083e-11, 2.219189675772837e-12, 7.752455566389926e-09, 2.365343107157969e-06, 6.537028639286291e-06, 0.9999909400939941, 1.4040901419321017e-07, 0.0], [1.3403685443336144e-05, 4.4399408805008596e-15, 3.4711359885899985e-16, 1.2865707631204426e-11, 1.27257052895402e-07, 3.946337701066227e-11, 1.794249969953865e-12, 4.553771774809881e-14, 1.7782254835285727e-10, 1.2306464181044419e-10, 1.528215953783274e-08, 8.238635551549578e-09, 0.9999755620956421, 1.0864774594665505e-05]]], [[[1.0, 0.0, 0.0, 0.0, 0.0, 0.0, 0.0, 0.0, 0.0, 0.0, 0.0, 0.0, 0.0, 0.0], [0.9894765615463257, 0.010523433797061443, 0.0, 0.0, 0.0, 0.0, 0.0, 0.0, 0.0, 0.0, 0.0, 0.0, 0.0, 0.0], [0.9882110953330994, 0.000927529064938426, 0.010861394926905632, 0.0, 0.0, 0.0, 0.0, 0.0, 0.0, 0.0, 0.0, 0.0, 0.0, 0.0], [0.9347637295722961, 0.0007715037208981812, 0.003096083179116249, 0.0613686665892601, 0.0, 0.0, 0.0, 0.0, 0.0, 0.0, 0.0, 0.0, 0.0, 0.0], [0.9742005467414856, 0.0006586752133443952, 0.0019317768746986985, 0.016349412500858307, 0.006859532557427883, 0.0, 0.0, 0.0, 0.0, 0.0, 0.0, 0.0, 0.0, 0.0], [0.9450836777687073, 0.0014623655006289482, 0.006302351597696543, 0.004393393639475107, 0.0015065890038385987, 0.041251592338085175, 0.0, 0.0, 0.0, 0.0, 0.0, 0.0, 0.0, 0.0], [0.9345774054527283, 0.008579828776419163, 0.006935479119420052, 0.004913024604320526, 0.0008785245008766651, 0.007450375705957413, 0.036665432155132294, 0.0, 0.0, 0.0, 0.0, 0.0, 0.0, 0.0], [0.9420931935310364, 0.007681140210479498, 0.006635226774960756, 0.005677098874002695, 0.0030713253654539585, 0.0023999959230422974, 0.012572837062180042, 0.019869057461619377, 0.0, 0.0, 0.0, 0.0, 0.0, 0.0], [0.9672912359237671, 0.00616092886775732, 0.005163704976439476, 0.011527778580784798, 0.0010185606079176068, 0.0015831865603104234, 0.0021917822305113077, 0.0030061714351177216, 0.0020566671155393124, 0.0, 0.0, 0.0, 0.0, 0.0], [0.8345805406570435, 0.0005293139256536961, 0.052898846566677094, 0.049286387860774994, 0.01853932812809944, 0.008854957297444344, 0.017116805538535118, 0.004631104879081249, 0.006945239845663309, 0.006617310456931591, 0.0, 0.0, 0.0, 0.0], [0.8664689064025879, 0.0007332788081839681, 0.0018623365322127938, 0.010516463778913021, 0.01276601105928421, 0.05732101947069168, 0.031328167766332626, 0.015103819780051708, 0.0011513079516589642, 0.001039823517203331, 0.001708742929622531, 0.0, 0.0, 0.0], [0.8877522349357605, 7.748925418127328e-05, 0.0041283247992396355, 0.012177478522062302, 0.002238800749182701, 0.026598095893859863, 0.027036750689148903, 0.004548464901745319, 0.0010448995744809508, 0.0007800296298228204, 0.007119119632989168, 0.02649826742708683, 0.0, 0.0], [0.848900318145752, 0.00044543331023305655, 0.0022141668014228344, 0.004662699531763792, 0.012878037989139557, 0.050014927983284, 0.014445223845541477, 0.002619071863591671, 0.0060567548498511314, 0.0001261862344108522, 0.0012049964861944318, 0.0038445214740931988, 0.052587710320949554, 0.0], [0.14300742745399475, 0.00025414020637981594, 0.0008046122384257615, 0.0002814374165609479, 0.000179788374225609, 0.0008460399694740772, 0.8419299125671387, 0.0040189120918512344, 0.002415456809103489, 0.00039656140143051744, 0.0004735731054097414, 0.0009918148862197995, 0.002330669667571783, 0.0020696467254310846]], [[1.0, 0.0, 0.0, 0.0, 0.0, 0.0, 0.0, 0.0, 0.0, 0.0, 0.0, 0.0, 0.0, 0.0], [0.9999598264694214, 4.0162882214644924e-05, 0.0, 0.0, 0.0, 0.0, 0.0, 0.0, 0.0, 0.0, 0.0, 0.0, 0.0, 0.0], [0.9985968470573425, 1.0312068070561509e-06, 0.001402023364789784, 0.0, 0.0, 0.0, 0.0, 0.0, 0.0, 0.0, 0.0, 0.0, 0.0, 0.0], [0.9991231560707092, 2.046022245849599e-06, 6.433896260205074e-07, 0.0008742316858842969, 0.0, 0.0, 0.0, 0.0, 0.0, 0.0, 0.0, 0.0, 0.0, 0.0], [0.9993152618408203, 2.5241932235076092e-05, 1.6830346794449724e-05, 3.450301301199943e-05, 0.0006081844330765307, 0.0, 0.0, 0.0, 0.0, 0.0, 0.0, 0.0, 0.0, 0.0], [0.9980720281600952, 3.042377284145914e-05, 0.00023653724929317832, 0.0002015015052165836, 3.168390321661718e-05, 0.0014278045855462551, 0.0, 0.0, 0.0, 0.0, 0.0, 0.0, 0.0, 0.0], [0.9893282055854797, 3.586696720958571e-06, 4.508038909989409e-05, 4.165856444160454e-05, 3.5090884011879098e-06, 9.228796443494502e-06, 0.010568821802735329, 0.0, 0.0, 0.0, 0.0, 0.0, 0.0, 0.0], [0.9963138699531555, 2.358826577619766e-06, 2.8334006856312044e-06, 8.196395356208086e-06, 1.089682086785615e-07, 1.0397436689402184e-08, 0.00010113078315043822, 0.0035715335980057716, 0.0, 0.0, 0.0, 0.0, 0.0, 0.0], [0.997685432434082, 6.359394433275156e-07, 1.2392042663122993e-05, 3.034055043826811e-05, 2.1113635284564225e-07, 2.104455276707995e-08, 9.648171726439614e-06, 0.00010529921564739197, 0.002156142145395279, 0.0, 0.0, 0.0, 0.0, 0.0], [0.9889850616455078, 5.0322505273925344e-08, 0.0036380349192768335, 0.0012488862266764045, 1.4462291630934487e-07, 1.3601226811488232e-08, 1.473203064961126e-05, 3.412629303056747e-05, 0.0014015530468896031, 0.004677485674619675, 0.0, 0.0, 0.0, 0.0], [0.9993552565574646, 7.000619461905444e-08, 4.5010670874034986e-05, 0.00010073719022329897, 6.898496849316871e-06, 1.5943368225634913e-06, 4.233941945130937e-05, 4.25972018547327e-07, 9.470229997532442e-06, 5.062324362370418e-06, 0.00043316298979334533, 0.0, 0.0, 0.0], [0.9966262578964233, 5.137714254033199e-08, 4.1044702811632305e-05, 6.109230889705941e-05, 1.0263269700772071e-07, 2.4865471459634136e-07, 4.253881343174726e-05, 1.4115031490291585e-06, 6.330456926662009e-06, 6.495029651887307e-07, 4.636616358766332e-05, 0.003173875156790018, 0.0, 0.0], [0.9986936450004578, 1.5690420696046203e-06, 3.9964905340639234e-07, 1.5077289390319493e-06, 1.298217512157862e-06, 1.075875752576394e-05, 2.658796074683778e-05, 5.667539539899735e-07, 4.258827175362967e-06, 2.175763427203492e-07, 2.5526608737891365e-07, 4.327868373366073e-05, 0.001215682947076857, 0.0], [0.9808510541915894, 1.8157592421630397e-05, 1.1356491086189635e-05, 7.0379423959821e-06, 2.9829013783455594e-06, 1.2702198546321597e-06, 0.016268130391836166, 8.38503910927102e-05, 3.404905874049291e-05, 7.3434566729702055e-06, 3.092027554885135e-06, 4.021083805128001e-05, 0.0017739511094987392, 0.0008975769160315394]], [[1.0, 0.0, 0.0, 0.0, 0.0, 0.0, 0.0, 0.0, 0.0, 0.0, 0.0, 0.0, 0.0, 0.0], [0.8315799236297607, 0.16842012107372284, 0.0, 0.0, 0.0, 0.0, 0.0, 0.0, 0.0, 0.0, 0.0, 0.0, 0.0, 0.0], [0.4878677427768707, 0.5004812479019165, 0.01165096927434206, 0.0, 0.0, 0.0, 0.0, 0.0, 0.0, 0.0, 0.0, 0.0, 0.0, 0.0], [0.3567529022693634, 0.4891430139541626, 0.12632116675376892, 0.027782868593931198, 0.0, 0.0, 0.0, 0.0, 0.0, 0.0, 0.0, 0.0, 0.0, 0.0], [0.3755398094654083, 0.3008810877799988, 0.18633459508419037, 0.1317692995071411, 0.005475187674164772, 0.0, 0.0, 0.0, 0.0, 0.0, 0.0, 0.0, 0.0, 0.0], [0.3340868651866913, 0.2929976284503937, 0.11945638805627823, 0.05015106499195099, 0.1888687163591385, 0.01443933229893446, 0.0, 0.0, 0.0, 0.0, 0.0, 0.0, 0.0, 0.0], [0.5887441635131836, 0.07591135799884796, 0.01873650588095188, 0.07499382644891739, 0.05254329741001129, 0.15472102165222168, 0.03434980660676956, 0.0, 0.0, 0.0, 0.0, 0.0, 0.0, 0.0], [0.7834459543228149, 0.04280160740017891, 0.01797996647655964, 0.03466661646962166, 0.009186428971588612, 0.03912767022848129, 0.06659884005784988, 0.0061928993090987206, 0.0, 0.0, 0.0, 0.0, 0.0, 0.0], [0.4916060268878937, 0.1413239985704422, 0.08266708999872208, 0.04393496736884117, 0.012206075713038445, 0.042912911623716354, 0.04659992828965187, 0.07435690611600876, 0.06439214944839478, 0.0, 0.0, 0.0, 0.0, 0.0], [0.7535485625267029, 0.01280466839671135, 0.003948661964386702, 0.011269516311585903, 0.01292320154607296, 0.03432329371571541, 0.025994839146733284, 0.04757247492671013, 0.09081537276506424, 0.00679943198338151, 0.0, 0.0, 0.0, 0.0], [0.6564480662345886, 0.0565265491604805, 0.01031702570617199, 0.005145245231688023, 0.005923442542552948, 0.032489530742168427, 0.016595508903265, 0.02370215579867363, 0.09283187985420227, 0.05584801733493805, 0.044172678142786026, 0.0, 0.0, 0.0], [0.5114551782608032, 0.03227509185671806, 0.015092166140675545, 0.013993611559271812, 0.009154402650892735, 0.029298823326826096, 0.020489564165472984, 0.026036132127046585, 0.17880403995513916, 0.04706010967493057, 0.10415536165237427, 0.012185539118945599, 0.0, 0.0], [0.4934552013874054, 0.02472028136253357, 0.0036855731159448624, 0.003110569901764393, 0.01495504379272461, 0.0059081497602164745, 0.0067202504724264145, 0.014000876806676388, 0.052614543586969376, 0.06578266620635986, 0.14311248064041138, 0.15679463744163513, 0.015139787457883358, 0.0], [0.27922672033309937, 0.025838008150458336, 0.014027455821633339, 0.00852162018418312, 0.011094445362687111, 0.007494601886719465, 0.035967614501714706, 0.034836821258068085, 0.16830633580684662, 0.09749534726142883, 0.049025166779756546, 0.030649395659565926, 0.18599766492843628, 0.05151887238025665]], [[1.0, 0.0, 0.0, 0.0, 0.0, 0.0, 0.0, 0.0, 0.0, 0.0, 0.0, 0.0, 0.0, 0.0], [0.9608766436576843, 0.0391232930123806, 0.0, 0.0, 0.0, 0.0, 0.0, 0.0, 0.0, 0.0, 0.0, 0.0, 0.0, 0.0], [0.8180478811264038, 0.13847950100898743, 0.043472614139318466, 0.0, 0.0, 0.0, 0.0, 0.0, 0.0, 0.0, 0.0, 0.0, 0.0, 0.0], [0.5714854598045349, 0.17554590106010437, 0.13697753846645355, 0.11599106341600418, 0.0, 0.0, 0.0, 0.0, 0.0, 0.0, 0.0, 0.0, 0.0, 0.0], [0.6166868209838867, 0.16166704893112183, 0.07040548324584961, 0.10404476523399353, 0.047195933759212494, 0.0, 0.0, 0.0, 0.0, 0.0, 0.0, 0.0, 0.0, 0.0], [0.5253733396530151, 0.24930837750434875, 0.04079485312104225, 0.07146307080984116, 0.05409877747297287, 0.05896161496639252, 0.0, 0.0, 0.0, 0.0, 0.0, 0.0, 0.0, 0.0], [0.4857112765312195, 0.15714219212532043, 0.02019410766661167, 0.06149826943874359, 0.08420348912477493, 0.09570487588644028, 0.0955457016825676, 0.0, 0.0, 0.0, 0.0, 0.0, 0.0, 0.0], [0.3875780999660492, 0.13821500539779663, 0.02033494971692562, 0.01819847710430622, 0.03959744796156883, 0.07202868163585663, 0.27379336953163147, 0.05025387182831764, 0.0, 0.0, 0.0, 0.0, 0.0, 0.0], [0.3900052011013031, 0.0668492317199707, 0.009174229577183723, 0.012154115363955498, 0.024368705227971077, 0.06044216454029083, 0.262865275144577, 0.1285826563835144, 0.04555836692452431, 0.0, 0.0, 0.0, 0.0, 0.0], [0.3140784800052643, 0.018462466076016426, 0.0033753816969692707, 0.006979744415730238, 0.015012053772807121, 0.050219401717185974, 0.24190229177474976, 0.11337137967348099, 0.20696191489696503, 0.029636895284056664, 0.0, 0.0, 0.0, 0.0], [0.39856553077697754, 0.03807426244020462, 0.004851263482123613, 0.006615299265831709, 0.006509534083306789, 0.03949638828635216, 0.17683446407318115, 0.11202743649482727, 0.0997559130191803, 0.10567262023687363, 0.0115973437204957, 0.0, 0.0, 0.0], [0.3092336654663086, 0.02949061244726181, 0.004675629548728466, 0.008269407786428928, 0.007305377162992954, 0.038228582590818405, 0.21416069567203522, 0.14328065514564514, 0.13136136531829834, 0.07669559121131897, 0.02265794947743416, 0.014640454202890396, 0.0, 0.0], [0.1505899429321289, 0.03066495805978775, 0.00982800405472517, 0.006005625706166029, 0.017745008692145348, 0.03636223077774048, 0.19068069756031036, 0.10230672359466553, 0.1378171592950821, 0.1366880089044571, 0.050144683569669724, 0.08664757758378983, 0.04451944679021835, 0.0], [0.20515090227127075, 0.03933131322264671, 0.004590301308780909, 0.007525577209889889, 0.014716613106429577, 0.022489313036203384, 0.25256675481796265, 0.06850343197584152, 0.147658109664917, 0.07101889699697495, 0.022547708824276924, 0.022547930479049683, 0.07081489264965057, 0.0505383275449276]], [[1.0, 0.0, 0.0, 0.0, 0.0, 0.0, 0.0, 0.0, 0.0, 0.0, 0.0, 0.0, 0.0, 0.0], [0.9650648236274719, 0.03493518754839897, 0.0, 0.0, 0.0, 0.0, 0.0, 0.0, 0.0, 0.0, 0.0, 0.0, 0.0, 0.0], [0.7078623175621033, 0.2746143043041229, 0.017523346468806267, 0.0, 0.0, 0.0, 0.0, 0.0, 0.0, 0.0, 0.0, 0.0, 0.0, 0.0], [0.5898871421813965, 0.24300368130207062, 0.11919388920068741, 0.04791535437107086, 0.0, 0.0, 0.0, 0.0, 0.0, 0.0, 0.0, 0.0, 0.0, 0.0], [0.6678946018218994, 0.08498039096593857, 0.07051818817853928, 0.11942125111818314, 0.057185545563697815, 0.0, 0.0, 0.0, 0.0, 0.0, 0.0, 0.0, 0.0, 0.0], [0.44192275404930115, 0.09236358851194382, 0.06924451142549515, 0.13578571379184723, 0.19157443940639496, 0.06910890340805054, 0.0, 0.0, 0.0, 0.0, 0.0, 0.0, 0.0, 0.0], [0.5139132738113403, 0.06431857496500015, 0.03415016829967499, 0.031234219670295715, 0.07325829565525055, 0.12596040964126587, 0.15716521441936493, 0.0, 0.0, 0.0, 0.0, 0.0, 0.0, 0.0], [0.6367640495300293, 0.06345174461603165, 0.03699153661727905, 0.014404219575226307, 0.009883277118206024, 0.04422455281019211, 0.1837078034877777, 0.010572900995612144, 0.0, 0.0, 0.0, 0.0, 0.0, 0.0], [0.4014301002025604, 0.024113010615110397, 0.028998231515288353, 0.027767203748226166, 0.02244495414197445, 0.061052750796079636, 0.15505941212177277, 0.25446709990501404, 0.0246671624481678, 0.0, 0.0, 0.0, 0.0, 0.0], [0.7320848703384399, 0.00117684795986861, 0.004150221589952707, 0.010844573378562927, 0.018048863857984543, 0.034763507544994354, 0.11329378187656403, 0.05398540571331978, 0.026454810053110123, 0.005197064019739628, 0.0, 0.0, 0.0, 0.0], [0.7142364382743835, 0.0037932826671749353, 0.007883245125412941, 0.0033915615640580654, 0.006431865505874157, 0.016582755371928215, 0.04509304463863373, 0.07346930354833603, 0.019963687285780907, 0.08606848865747452, 0.023086322471499443, 0.0, 0.0, 0.0], [0.7301485538482666, 0.002745114965364337, 0.011108072474598885, 0.009993147104978561, 0.016978388652205467, 0.03820130228996277, 0.05548999831080437, 0.031287360936403275, 0.023591330274939537, 0.019747575744986534, 0.04221701994538307, 0.018492119386792183, 0.0, 0.0], [0.6551176309585571, 0.0033170594833791256, 0.0028481553308665752, 0.0021440384443849325, 0.016772093251347542, 0.0455988347530365, 0.04705408960580826, 0.0251261368393898, 0.025264663621783257, 0.011614429764449596, 0.012653118930757046, 0.083916075527668, 0.06857357919216156, 0.0], [0.33106788992881775, 0.007265654858201742, 0.007316118571907282, 0.0061750756576657295, 0.01668858528137207, 0.00847914069890976, 0.0258797537535429, 0.010878465138375759, 0.022298160940408707, 0.033489979803562164, 0.036219824105501175, 0.12020090967416763, 0.3375994563102722, 0.03644098713994026]], [[1.0, 0.0, 0.0, 0.0, 0.0, 0.0, 0.0, 0.0, 0.0, 0.0, 0.0, 0.0, 0.0, 0.0], [0.9485204815864563, 0.05147954076528549, 0.0, 0.0, 0.0, 0.0, 0.0, 0.0, 0.0, 0.0, 0.0, 0.0, 0.0, 0.0], [0.9868060350418091, 0.00267964880913496, 0.010514327324926853, 0.0, 0.0, 0.0, 0.0, 0.0, 0.0, 0.0, 0.0, 0.0, 0.0, 0.0], [0.9543811082839966, 0.0028794468380510807, 0.004096560645848513, 0.03864289075136185, 0.0, 0.0, 0.0, 0.0, 0.0, 0.0, 0.0, 0.0, 0.0, 0.0], [0.9073212742805481, 0.03308713063597679, 0.04304692521691322, 0.012719180434942245, 0.0038254186511039734, 0.0, 0.0, 0.0, 0.0, 0.0, 0.0, 0.0, 0.0, 0.0], [0.9327727556228638, 0.013980752788484097, 0.019959889352321625, 0.009093810804188251, 0.002486033597961068, 0.021706849336624146, 0.0, 0.0, 0.0, 0.0, 0.0, 0.0, 0.0, 0.0], [0.9107581377029419, 0.0057458048686385155, 0.01578987017273903, 0.02103235013782978, 0.0039429208263754845, 0.016611719503998756, 0.02611910179257393, 0.0, 0.0, 0.0, 0.0, 0.0, 0.0, 0.0], [0.9244228005409241, 0.002545214258134365, 0.0038915916811674833, 0.004874832462519407, 0.0058904304169118404, 0.0164417065680027, 0.040205445140600204, 0.0017281421460211277, 0.0, 0.0, 0.0, 0.0, 0.0, 0.0], [0.9190388321876526, 0.0014755232259631157, 0.01596272550523281, 0.021075274795293808, 0.0033824315760284662, 0.002905420958995819, 0.006461597513407469, 0.015085830353200436, 0.01461248192936182, 0.0, 0.0, 0.0, 0.0, 0.0], [0.8207523226737976, 0.0001710764190647751, 0.0638316199183464, 0.06577569246292114, 0.002538729226216674, 0.0027751263696700335, 0.011148336343467236, 0.003496820107102394, 0.012372358702123165, 0.01713796705007553, 0.0, 0.0, 0.0, 0.0], [0.9360174536705017, 0.000968475011177361, 0.02002095617353916, 0.012097172439098358, 0.0005178017891012132, 0.003117792773991823, 0.008287128061056137, 0.002303357934579253, 0.00606866180896759, 0.0016902153147384524, 0.008911044336855412, 0.0, 0.0, 0.0], [0.8374418616294861, 0.000245410279603675, 0.009561186656355858, 0.035695768892765045, 0.0017825098475441337, 0.006460497621446848, 0.018562382087111473, 0.0009583199862390757, 0.0020170726347714663, 0.0013528218260034919, 0.004816744010895491, 0.08110562711954117, 0.0, 0.0], [0.9701345562934875, 0.0005198312574066222, 0.00017542204295750707, 0.0009816127130761743, 0.00017709896201267838, 0.0019337296253070235, 0.019722724333405495, 0.00026953808264806867, 0.0011173972161486745, 0.00033314566826447845, 3.9620077586732805e-05, 0.0001172667762148194, 0.004477972164750099, 0.0], [0.7475099563598633, 0.007181982975453138, 0.004015977960079908, 0.00361467688344419, 0.004290243145078421, 0.002244020812213421, 0.1423640251159668, 0.0009543884661979973, 0.03223320096731186, 0.003160565160214901, 0.0011633974500000477, 0.0036200552713125944, 0.011797420680522919, 0.03585007041692734]], [[1.0, 0.0, 0.0, 0.0, 0.0, 0.0, 0.0, 0.0, 0.0, 0.0, 0.0, 0.0, 0.0, 0.0], [0.8897897005081177, 0.1102103590965271, 0.0, 0.0, 0.0, 0.0, 0.0, 0.0, 0.0, 0.0, 0.0, 0.0, 0.0, 0.0], [0.4531583786010742, 0.5180428624153137, 0.02879873290657997, 0.0, 0.0, 0.0, 0.0, 0.0, 0.0, 0.0, 0.0, 0.0, 0.0, 0.0], [0.6407519578933716, 0.1288735717535019, 0.18151220679283142, 0.048862311989068985, 0.0, 0.0, 0.0, 0.0, 0.0, 0.0, 0.0, 0.0, 0.0, 0.0], [0.9033650159835815, 0.0035932620521634817, 0.0011038384400308132, 0.0771317258477211, 0.014806094579398632, 0.0, 0.0, 0.0, 0.0, 0.0, 0.0, 0.0, 0.0, 0.0], [0.9424413442611694, 0.003576963907107711, 0.0003437644918449223, 0.0018832491477951407, 0.025014540180563927, 0.026740115135908127, 0.0, 0.0, 0.0, 0.0, 0.0, 0.0, 0.0, 0.0], [0.6186698079109192, 0.00407415721565485, 0.0004028795228805393, 0.010975663550198078, 0.019765183329582214, 0.3260762691497803, 0.02003606967628002, 0.0, 0.0, 0.0, 0.0, 0.0, 0.0, 0.0], [0.16801442205905914, 0.001111332792788744, 0.0014305011136457324, 0.0024321116507053375, 0.0008371058502234519, 0.007294059731066227, 0.758811354637146, 0.06006911024451256, 0.0, 0.0, 0.0, 0.0, 0.0, 0.0], [0.27944594621658325, 0.004609506111592054, 0.0006921335007064044, 0.00237879971973598, 0.0008634495316073298, 0.012523955665528774, 0.1095123365521431, 0.5788170695304871, 0.0111567797139287, 0.0, 0.0, 0.0, 0.0, 0.0], [0.7459978461265564, 0.00032225673203356564, 0.0003390397469047457, 0.0005412231548689306, 0.00019888152019120753, 0.0008131194626912475, 0.05217565596103668, 0.01782827451825142, 0.11846620589494705, 0.06331749260425568, 0.0, 0.0, 0.0, 0.0], [0.2591969668865204, 0.005365884397178888, 0.008955917321145535, 0.001595806679688394, 0.0007367631187662482, 0.0007016063900664449, 0.010433511808514595, 0.0026065579149872065, 0.11131515353918076, 0.5946622490882874, 0.0044297412969172, 0.0, 0.0, 0.0], [0.541526198387146, 0.0027790626045316458, 0.0011656914139166474, 0.0017354877199977636, 0.005072987172752619, 0.001971926772966981, 0.01074086595326662, 0.001072164042852819, 0.13706611096858978, 0.15494482219219208, 0.11507460474967957, 0.026850078254938126, 0.0, 0.0], [0.7937737107276917, 0.0019719612319022417, 0.0007501277141273022, 0.001742228982038796, 0.0006780330440960824, 0.0018539566081017256, 0.011270985007286072, 0.0017618045676499605, 0.023426678031682968, 0.03952304646372795, 0.017228465527296066, 0.06867276877164841, 0.03734618425369263, 0.0], [0.9544013142585754, 5.031845284975134e-05, 1.5686680853832513e-05, 8.817009074846283e-05, 0.00017002556705847383, 0.00013601254613604397, 0.0005312876310199499, 9.435010724700987e-06, 0.0005813834141008556, 0.0003246281121391803, 0.0002283547364640981, 0.00023606793547514826, 0.03591850399971008, 0.007308724336326122]], [[1.0, 0.0, 0.0, 0.0, 0.0, 0.0, 0.0, 0.0, 0.0, 0.0, 0.0, 0.0, 0.0, 0.0], [0.9492117166519165, 0.050788313150405884, 0.0, 0.0, 0.0, 0.0, 0.0, 0.0, 0.0, 0.0, 0.0, 0.0, 0.0, 0.0], [0.948360800743103, 0.04170013964176178, 0.009939090348780155, 0.0, 0.0, 0.0, 0.0, 0.0, 0.0, 0.0, 0.0, 0.0, 0.0, 0.0], [0.8445380330085754, 0.02262827940285206, 0.022112958133220673, 0.11072072386741638, 0.0, 0.0, 0.0, 0.0, 0.0, 0.0, 0.0, 0.0, 0.0, 0.0], [0.699224591255188, 0.019403964281082153, 0.012718775309622288, 0.2130710631608963, 0.05558155104517937, 0.0, 0.0, 0.0, 0.0, 0.0, 0.0, 0.0, 0.0, 0.0], [0.5996668934822083, 0.01930399425327778, 0.014520508237183094, 0.19889678061008453, 0.14550311863422394, 0.02210875228047371, 0.0, 0.0, 0.0, 0.0, 0.0, 0.0, 0.0, 0.0], [0.9082709550857544, 0.005521594081073999, 0.003196326782926917, 0.0032335661817342043, 0.01917298696935177, 0.034757453948259354, 0.025847051292657852, 0.0, 0.0, 0.0, 0.0, 0.0, 0.0, 0.0], [0.7650320529937744, 0.004588576965034008, 0.0017103406134992838, 0.001759133068844676, 0.0030309613794088364, 0.009462316520512104, 0.20961520075798035, 0.004801327362656593, 0.0, 0.0, 0.0, 0.0, 0.0, 0.0], [0.8401849865913391, 0.011429598554968834, 0.003608189057558775, 0.023319987580180168, 0.020830051973462105, 0.0127798430621624, 0.07274971157312393, 0.00641405675560236, 0.008683615364134312, 0.0, 0.0, 0.0, 0.0, 0.0], [0.8822941184043884, 0.003912278451025486, 0.0011737943859770894, 0.013195311650633812, 0.016471615061163902, 0.020170746371150017, 0.04163198173046112, 0.0024674066808074713, 0.010975359007716179, 0.007707396522164345, 0.0, 0.0, 0.0, 0.0], [0.7977906465530396, 0.0038245515897870064, 0.0031708127353340387, 0.02428658865392208, 0.02463354729115963, 0.010972079820930958, 0.0800662636756897, 0.00659545511007309, 0.014340857975184917, 0.020288944244384766, 0.01403017807751894, 0.0, 0.0, 0.0], [0.6754933595657349, 0.002427437109872699, 0.0034299995750188828, 0.02850295603275299, 0.011352929286658764, 0.004851969890296459, 0.04928381368517876, 0.014817503280937672, 0.01698552817106247, 0.01930019073188305, 0.153340145945549, 0.020214185118675232, 0.0, 0.0], [0.563686728477478, 0.002073796233162284, 0.0010779746808111668, 0.003623690688982606, 0.006531108170747757, 0.003731235396116972, 0.01916511543095112, 0.001562981866300106, 0.003743449691683054, 0.03905642405152321, 0.002920577535405755, 0.042405564337968826, 0.310421347618103, 0.0], [0.5693767070770264, 0.005091542843729258, 0.001774846576154232, 0.011754924431443214, 0.006455366034060717, 0.0030559804290533066, 0.047798607498407364, 0.0041338661685585976, 0.010533464141190052, 0.014722018502652645, 0.012262215837836266, 0.08393192291259766, 0.2130037397146225, 0.016104796901345253]], [[1.0, 0.0, 0.0, 0.0, 0.0, 0.0, 0.0, 0.0, 0.0, 0.0, 0.0, 0.0, 0.0, 0.0], [0.9595502614974976, 0.04044979065656662, 0.0, 0.0, 0.0, 0.0, 0.0, 0.0, 0.0, 0.0, 0.0, 0.0, 0.0, 0.0], [0.9547397494316101, 0.027879219502210617, 0.01738099195063114, 0.0, 0.0, 0.0, 0.0, 0.0, 0.0, 0.0, 0.0, 0.0, 0.0, 0.0], [0.8002286553382874, 0.06318759173154831, 0.009344050660729408, 0.1272396743297577, 0.0, 0.0, 0.0, 0.0, 0.0, 0.0, 0.0, 0.0, 0.0, 0.0], [0.719225287437439, 0.22159957885742188, 0.033203985542058945, 0.009110815823078156, 0.016860395669937134, 0.0, 0.0, 0.0, 0.0, 0.0, 0.0, 0.0, 0.0, 0.0], [0.8331233859062195, 0.06860560178756714, 0.04791843891143799, 0.021039782091975212, 0.00552054587751627, 0.023792192339897156, 0.0, 0.0, 0.0, 0.0, 0.0, 0.0, 0.0, 0.0], [0.6459082961082458, 0.04150255396962166, 0.04531680792570114, 0.09482759982347488, 0.016489582136273384, 0.030796535313129425, 0.1251586675643921, 0.0, 0.0, 0.0, 0.0, 0.0, 0.0, 0.0], [0.7028874754905701, 0.024674370884895325, 0.05654741823673248, 0.05786696821451187, 0.010630058124661446, 0.029134472832083702, 0.09830525517463684, 0.019953997805714607, 0.0, 0.0, 0.0, 0.0, 0.0, 0.0], [0.3813566565513611, 0.03646101430058479, 0.38154667615890503, 0.09726344048976898, 0.010588575154542923, 0.022785402834415436, 0.040121838450431824, 0.022681890055537224, 0.007194476667791605, 0.0, 0.0, 0.0, 0.0, 0.0], [0.29871565103530884, 0.0015712613239884377, 0.29354068636894226, 0.25827381014823914, 0.03540423884987831, 0.023110611364245415, 0.05639692023396492, 0.009693572297692299, 0.01505090482532978, 0.008242342621088028, 0.0, 0.0, 0.0, 0.0], [0.8035407662391663, 0.015396696515381336, 0.03721808269619942, 0.015429195947945118, 0.007896741852164268, 0.04538045451045036, 0.03682812675833702, 0.003999252803623676, 0.003887954168021679, 0.0218411423265934, 0.008581651374697685, 0.0, 0.0, 0.0], [0.7227817177772522, 0.006644855719059706, 0.030331751331686974, 0.03301320970058441, 0.005676639266312122, 0.03316377475857735, 0.11949122697114944, 0.004101070575416088, 0.005459881387650967, 0.011576153337955475, 0.004116518888622522, 0.0236432496458292, 0.0, 0.0], [0.6726831197738647, 0.008644533343613148, 0.009212111122906208, 0.005271494388580322, 0.012714329175651073, 0.12183636426925659, 0.10142957419157028, 0.004132792819291353, 0.01407209038734436, 0.004837623797357082, 0.0039252545684576035, 0.007555948104709387, 0.033684760332107544, 0.0], [0.4287157356739044, 0.011226579546928406, 0.009277998469769955, 0.0027921616565436125, 0.0025507654063403606, 0.00311005930416286, 0.41253161430358887, 0.011545571498572826, 0.05212516337633133, 0.0144749591127038, 0.004555975552648306, 0.006681386847048998, 0.025131678208708763, 0.01528035756200552]], [[1.0, 0.0, 0.0, 0.0, 0.0, 0.0, 0.0, 0.0, 0.0, 0.0, 0.0, 0.0, 0.0, 0.0], [0.9950064420700073, 0.004993562586605549, 0.0, 0.0, 0.0, 0.0, 0.0, 0.0, 0.0, 0.0, 0.0, 0.0, 0.0, 0.0], [0.9681950211524963, 0.019091444090008736, 0.012713557109236717, 0.0, 0.0, 0.0, 0.0, 0.0, 0.0, 0.0, 0.0, 0.0, 0.0, 0.0], [0.9496400356292725, 0.02874308079481125, 0.01840696856379509, 0.003209927584975958, 0.0, 0.0, 0.0, 0.0, 0.0, 0.0, 0.0, 0.0, 0.0, 0.0], [0.9384134411811829, 0.01326714176684618, 0.027907462790608406, 0.01577804423868656, 0.004633868113160133, 0.0, 0.0, 0.0, 0.0, 0.0, 0.0, 0.0, 0.0, 0.0], [0.8974505066871643, 0.020171338692307472, 0.020811397582292557, 0.010007545351982117, 0.027366699650883675, 0.024192485958337784, 0.0, 0.0, 0.0, 0.0, 0.0, 0.0, 0.0, 0.0], [0.7608621120452881, 0.024936966598033905, 0.027191514149308205, 0.014047947712242603, 0.04870142042636871, 0.04957085847854614, 0.07468928396701813, 0.0, 0.0, 0.0, 0.0, 0.0, 0.0, 0.0], [0.8268824219703674, 0.017270002514123917, 0.016750434413552284, 0.010997883975505829, 0.014690334908664227, 0.022354794666171074, 0.08103334158658981, 0.010020789690315723, 0.0, 0.0, 0.0, 0.0, 0.0, 0.0], [0.7543545961380005, 0.019561855122447014, 0.022866614162921906, 0.02936195768415928, 0.04420432448387146, 0.038373593240976334, 0.062477000057697296, 0.027185961604118347, 0.0016139718936756253, 0.0, 0.0, 0.0, 0.0, 0.0], [0.7164452075958252, 0.018533432856202126, 0.0366719514131546, 0.027425622567534447, 0.0500437393784523, 0.05783596262335777, 0.045822873711586, 0.01908845826983452, 0.009967215359210968, 0.01816556230187416, 0.0, 0.0, 0.0, 0.0], [0.7853720188140869, 0.012971887364983559, 0.030170783400535583, 0.02823597751557827, 0.04240109771490097, 0.03364141285419464, 0.031942207366228104, 0.00620967848226428, 0.00824032723903656, 0.01566310226917267, 0.0051515111699700356, 0.0, 0.0, 0.0], [0.7902331948280334, 0.009189118631184101, 0.023522360250353813, 0.02070465125143528, 0.05997354909777641, 0.032137107104063034, 0.037667788565158844, 0.0060979402624070644, 0.0030070380307734013, 0.01030415017157793, 0.00534603139385581, 0.0018170715775340796, 0.0, 0.0], [0.8719000816345215, 0.006452156230807304, 0.01737135462462902, 0.014499378390610218, 0.006015975493937731, 0.016242828220129013, 0.02760150283575058, 0.012094528414309025, 0.007403022609651089, 0.006130424793809652, 0.007342267315834761, 0.006503046024590731, 0.00044344912748783827, 0.0], [0.7436187863349915, 0.011763918213546276, 0.016614368185400963, 0.00888415239751339, 0.010704239830374718, 0.023033438250422478, 0.09377831965684891, 0.009163731709122658, 0.029165782034397125, 0.010510248132050037, 0.007598554249852896, 0.006137318443506956, 0.008338096551597118, 0.02068903110921383]], [[1.0, 0.0, 0.0, 0.0, 0.0, 0.0, 0.0, 0.0, 0.0, 0.0, 0.0, 0.0, 0.0, 0.0], [0.9423089027404785, 0.057691071182489395, 0.0, 0.0, 0.0, 0.0, 0.0, 0.0, 0.0, 0.0, 0.0, 0.0, 0.0, 0.0], [0.8901007175445557, 0.09179792553186417, 0.01810142770409584, 0.0, 0.0, 0.0, 0.0, 0.0, 0.0, 0.0, 0.0, 0.0, 0.0, 0.0], [0.9089249968528748, 0.06695093214511871, 0.00860749464482069, 0.01551663875579834, 0.0, 0.0, 0.0, 0.0, 0.0, 0.0, 0.0, 0.0, 0.0, 0.0], [0.7274050116539001, 0.12659594416618347, 0.0189261082559824, 0.033191829919815063, 0.09388110041618347, 0.0, 0.0, 0.0, 0.0, 0.0, 0.0, 0.0, 0.0, 0.0], [0.5137946605682373, 0.07832759618759155, 0.009326164610683918, 0.01856694556772709, 0.32397040724754333, 0.05601418763399124, 0.0, 0.0, 0.0, 0.0, 0.0, 0.0, 0.0, 0.0], [0.7405115365982056, 0.06608162820339203, 0.03863544017076492, 0.037717871367931366, 0.02115536667406559, 0.06209558621048927, 0.033802539110183716, 0.0, 0.0, 0.0, 0.0, 0.0, 0.0, 0.0], [0.8673135638237, 0.026848312467336655, 0.012778175994753838, 0.005302544683218002, 0.006139982491731644, 0.036452677100896835, 0.03744320571422577, 0.007721553556621075, 0.0, 0.0, 0.0, 0.0, 0.0, 0.0], [0.29433879256248474, 0.20942097902297974, 0.05959789454936981, 0.058943651616573334, 0.25500163435935974, 0.06775154918432236, 0.028781533241271973, 0.005788224283605814, 0.020375674590468407, 0.0, 0.0, 0.0, 0.0, 0.0], [0.3637595474720001, 0.148330956697464, 0.05374027043581009, 0.05505265295505524, 0.12907929718494415, 0.13044148683547974, 0.061523452401161194, 0.007813774049282074, 0.029588088393211365, 0.020670412108302116, 0.0, 0.0, 0.0, 0.0], [0.2530757784843445, 0.08166486024856567, 0.01718093268573284, 0.009591559879481792, 0.43255725502967834, 0.06468150019645691, 0.04621390625834465, 0.006322594825178385, 0.0294756181538105, 0.014431354589760303, 0.04480462521314621, 0.0, 0.0, 0.0], [0.34182316064834595, 0.08642418682575226, 0.062124963849782944, 0.016265898942947388, 0.11811259388923645, 0.06782371550798416, 0.051328253000974655, 0.002861804561689496, 0.03074677102267742, 0.018472814932465553, 0.09591473639011383, 0.10810113698244095, 0.0, 0.0], [0.3849591910839081, 0.13035131990909576, 0.02726476825773716, 0.03033430501818657, 0.09490323811769485, 0.10467959195375443, 0.057398855686187744, 0.02400282584130764, 0.010410215705633163, 0.012729162350296974, 0.011897205375134945, 0.015236001461744308, 0.09583335369825363, 0.0], [0.49713876843452454, 0.03491980582475662, 0.008932046592235565, 0.011032293550670147, 0.04304850101470947, 0.02571162022650242, 0.03945362940430641, 0.009182151407003403, 0.010420156642794609, 0.007498707622289658, 0.0152872484177351, 0.012153277173638344, 0.2309700846672058, 0.054251786321401596]], [[1.0, 0.0, 0.0, 0.0, 0.0, 0.0, 0.0, 0.0, 0.0, 0.0, 0.0, 0.0, 0.0, 0.0], [0.9734101295471191, 0.026589853689074516, 0.0, 0.0, 0.0, 0.0, 0.0, 0.0, 0.0, 0.0, 0.0, 0.0, 0.0, 0.0], [0.8814570307731628, 0.01342842262238264, 0.10511459410190582, 0.0, 0.0, 0.0, 0.0, 0.0, 0.0, 0.0, 0.0, 0.0, 0.0, 0.0], [0.9057550430297852, 0.024331996217370033, 0.024302594363689423, 0.04561034217476845, 0.0, 0.0, 0.0, 0.0, 0.0, 0.0, 0.0, 0.0, 0.0, 0.0], [0.941570520401001, 0.014911731705069542, 0.011331369169056416, 0.007187629118561745, 0.024998698383569717, 0.0, 0.0, 0.0, 0.0, 0.0, 0.0, 0.0, 0.0, 0.0], [0.6207969188690186, 0.027057921513915062, 0.013899250887334347, 0.009709346108138561, 0.03978746384382248, 0.2887491285800934, 0.0, 0.0, 0.0, 0.0, 0.0, 0.0, 0.0, 0.0], [0.6450867652893066, 0.016035744920372963, 0.008583771996200085, 0.013966265134513378, 0.007294111419469118, 0.19992434978485107, 0.10910908877849579, 0.0, 0.0, 0.0, 0.0, 0.0, 0.0, 0.0], [0.653814435005188, 0.007123265415430069, 0.007383081130683422, 0.004327456001192331, 0.012760238721966743, 0.04817698895931244, 0.05536960810422897, 0.2110450118780136, 0.0, 0.0, 0.0, 0.0, 0.0, 0.0], [0.7759292721748352, 0.009531471878290176, 0.017289409413933754, 0.011148580349981785, 0.010003863833844662, 0.021031038835644722, 0.04237215965986252, 0.023883327841758728, 0.08881080895662308, 0.0, 0.0, 0.0, 0.0, 0.0], [0.7122451066970825, 0.01349758729338646, 0.012107552960515022, 0.003816150827333331, 0.0060145072638988495, 0.01556661631911993, 0.054614804685115814, 0.010957228019833565, 0.011458643712103367, 0.15972179174423218, 0.0, 0.0, 0.0, 0.0], [0.7740541100502014, 0.010802976787090302, 0.01644337922334671, 0.0036367725115269423, 0.0017191697843372822, 0.017903847619891167, 0.0156744122505188, 0.01241622120141983, 0.014937121421098709, 0.049234047532081604, 0.08317790925502777, 0.0, 0.0, 0.0], [0.6008259654045105, 0.007270961534231901, 0.010998080484569073, 0.0020684064365923405, 0.0032420132774859667, 0.016124308109283447, 0.015219074673950672, 0.008915906772017479, 0.004433189984411001, 0.03055468201637268, 0.008835317566990852, 0.2915121614933014, 0.0, 0.0], [0.832416832447052, 0.00748180178925395, 0.0070941634476184845, 0.00257103075273335, 0.01852608472108841, 0.029466746374964714, 0.00607937341555953, 0.005623525474220514, 0.008752861991524696, 0.012218394316732883, 0.007120153401046991, 0.011844112537801266, 0.05080489069223404, 0.0], [0.504989504814148, 0.008584251627326012, 0.005984087474644184, 0.004945981316268444, 0.04837055504322052, 0.13340403139591217, 0.018767448142170906, 0.035437844693660736, 0.011178317479789257, 0.005353688262403011, 0.002806128468364477, 0.01088797952979803, 0.07324010878801346, 0.13605010509490967]]], [[[1.0, 0.0, 0.0, 0.0, 0.0, 0.0, 0.0, 0.0, 0.0, 0.0, 0.0, 0.0, 0.0, 0.0], [0.9279683828353882, 0.07203155010938644, 0.0, 0.0, 0.0, 0.0, 0.0, 0.0, 0.0, 0.0, 0.0, 0.0, 0.0, 0.0], [0.2897178530693054, 0.6952491402626038, 0.015032981522381306, 0.0, 0.0, 0.0, 0.0, 0.0, 0.0, 0.0, 0.0, 0.0, 0.0, 0.0], [0.22163306176662445, 0.5494300127029419, 0.19678190350532532, 0.03215496614575386, 0.0, 0.0, 0.0, 0.0, 0.0, 0.0, 0.0, 0.0, 0.0, 0.0], [0.3953939974308014, 0.29128870368003845, 0.16152745485305786, 0.10934881120920181, 0.04244105890393257, 0.0, 0.0, 0.0, 0.0, 0.0, 0.0, 0.0, 0.0, 0.0], [0.36700960993766785, 0.3468908965587616, 0.040176041424274445, 0.03446386754512787, 0.1891559362411499, 0.022303659468889236, 0.0, 0.0, 0.0, 0.0, 0.0, 0.0, 0.0, 0.0], [0.6316918134689331, 0.17350225150585175, 0.011919609270989895, 0.028874631971120834, 0.06892774999141693, 0.056485615670681, 0.0285982396453619, 0.0, 0.0, 0.0, 0.0, 0.0, 0.0, 0.0], [0.5857750773429871, 0.06738968938589096, 0.02983534149825573, 0.025972139090299606, 0.0335906520485878, 0.026534749194979668, 0.22288371622562408, 0.008018534630537033, 0.0, 0.0, 0.0, 0.0, 0.0, 0.0], [0.31216293573379517, 0.20237824320793152, 0.022206345573067665, 0.034509699791669846, 0.1872008889913559, 0.12921345233917236, 0.05617916211485863, 0.032219838351011276, 0.02392945997416973, 0.0, 0.0, 0.0, 0.0, 0.0], [0.35121917724609375, 0.08976300805807114, 0.024805540218949318, 0.04175873473286629, 0.15231332182884216, 0.0725567564368248, 0.11946266144514084, 0.021648233756422997, 0.09762272983789444, 0.02884986251592636, 0.0, 0.0, 0.0, 0.0], [0.31985610723495483, 0.11072418838739395, 0.011048403568565845, 0.013122575357556343, 0.10613740980625153, 0.017173081636428833, 0.03064315766096115, 0.007819543592631817, 0.19477693736553192, 0.17847684025764465, 0.010221801698207855, 0.0, 0.0, 0.0], [0.20172199606895447, 0.13947424292564392, 0.03637123852968216, 0.033399637788534164, 0.09596061706542969, 0.027061790227890015, 0.03898507356643677, 0.01244448870420456, 0.22190026938915253, 0.13929781317710876, 0.04557012766599655, 0.007812665775418282, 0.0, 0.0], [0.5347251892089844, 0.030536780133843422, 0.017616787925362587, 0.0064960685558617115, 0.02154703438282013, 0.03611524775624275, 0.09629721939563751, 0.018900901079177856, 0.056878142058849335, 0.045480310916900635, 0.028746139258146286, 0.02528044395148754, 0.0813797265291214, 0.0], [0.6323709487915039, 0.03262503445148468, 0.00892999954521656, 0.007375034969300032, 0.018662501126527786, 0.015546753071248531, 0.05106355622410774, 0.02151309698820114, 0.01970640756189823, 0.02507779188454151, 0.027991056442260742, 0.013694659806787968, 0.10729900002479553, 0.01814418099820614]], [[1.0, 0.0, 0.0, 0.0, 0.0, 0.0, 0.0, 0.0, 0.0, 0.0, 0.0, 0.0, 0.0, 0.0], [0.922522246837616, 0.07747781276702881, 0.0, 0.0, 0.0, 0.0, 0.0, 0.0, 0.0, 0.0, 0.0, 0.0, 0.0, 0.0], [0.9819170832633972, 0.011582660488784313, 0.0065001873299479485, 0.0, 0.0, 0.0, 0.0, 0.0, 0.0, 0.0, 0.0, 0.0, 0.0, 0.0], [0.9310522079467773, 0.022048335522413254, 0.008906107395887375, 0.03799343854188919, 0.0, 0.0, 0.0, 0.0, 0.0, 0.0, 0.0, 0.0, 0.0, 0.0], [0.6089361310005188, 0.05410222336649895, 0.006480193696916103, 0.3177168667316437, 0.01276453584432602, 0.0, 0.0, 0.0, 0.0, 0.0, 0.0, 0.0, 0.0, 0.0], [0.5193923115730286, 0.14214053750038147, 0.027121098712086678, 0.22663502395153046, 0.030988328158855438, 0.05372260883450508, 0.0, 0.0, 0.0, 0.0, 0.0, 0.0, 0.0, 0.0], [0.5898514986038208, 0.06479442119598389, 0.036240290850400925, 0.11360767483711243, 0.04696507751941681, 0.06500997394323349, 0.08353108912706375, 0.0, 0.0, 0.0, 0.0, 0.0, 0.0, 0.0], [0.6392104029655457, 0.07196255773305893, 0.038113124668598175, 0.03693234547972679, 0.009860388934612274, 0.036553651094436646, 0.15546567738056183, 0.011901816353201866, 0.0, 0.0, 0.0, 0.0, 0.0, 0.0], [0.3264741003513336, 0.11125393211841583, 0.2012026607990265, 0.17432647943496704, 0.02627573348581791, 0.09778469800949097, 0.03644460812211037, 0.00864036288112402, 0.017597516998648643, 0.0, 0.0, 0.0, 0.0, 0.0], [0.3591022491455078, 0.02023223228752613, 0.04807883873581886, 0.3989122211933136, 0.06734773516654968, 0.06153249368071556, 0.024056972935795784, 0.002419004449620843, 0.011341053061187267, 0.006977161858230829, 0.0, 0.0, 0.0, 0.0], [0.8804958462715149, 0.008509120903909206, 0.010308514349162579, 0.011050618253648281, 0.03512034937739372, 0.01711726374924183, 0.008123788982629776, 0.002031239913776517, 0.006035591010004282, 0.005224205553531647, 0.01598346047103405, 0.0, 0.0, 0.0], [0.6951920390129089, 0.016302190721035004, 0.017830530181527138, 0.11290855705738068, 0.05510389804840088, 0.05201829969882965, 0.008883224800229073, 0.0014072718331590295, 0.004575200378894806, 0.02328871376812458, 0.005123893264681101, 0.0073661794885993, 0.0, 0.0], [0.8341682553291321, 0.0028528685215860605, 0.005102597177028656, 0.02770208939909935, 0.008866947144269943, 0.03950225189328194, 0.015111527405679226, 0.001529963337816298, 0.008639426901936531, 0.0015737076755613089, 0.005964300595223904, 0.02029256522655487, 0.02869347110390663, 0.0], [0.46882694959640503, 0.0824064239859581, 0.015678737312555313, 0.01831703633069992, 0.010947505943477154, 0.017080504447221756, 0.10093875974416733, 0.019106313586235046, 0.04824265465140343, 0.02273925207555294, 0.019300639629364014, 0.03008515015244484, 0.1232677474617958, 0.02306230179965496]], [[1.0, 0.0, 0.0, 0.0, 0.0, 0.0, 0.0, 0.0, 0.0, 0.0, 0.0, 0.0, 0.0, 0.0], [0.9923235177993774, 0.0076764593832194805, 0.0, 0.0, 0.0, 0.0, 0.0, 0.0, 0.0, 0.0, 0.0, 0.0, 0.0, 0.0], [0.9654197096824646, 0.010470465756952763, 0.024109801277518272, 0.0, 0.0, 0.0, 0.0, 0.0, 0.0, 0.0, 0.0, 0.0, 0.0, 0.0], [0.9213997721672058, 0.022636188194155693, 0.0371243879199028, 0.01883970946073532, 0.0, 0.0, 0.0, 0.0, 0.0, 0.0, 0.0, 0.0, 0.0, 0.0], [0.9199951887130737, 0.018307140097022057, 0.03380246460437775, 0.012902913615107536, 0.014992385171353817, 0.0, 0.0, 0.0, 0.0, 0.0, 0.0, 0.0, 0.0, 0.0], [0.8634786605834961, 0.016153203323483467, 0.022652804851531982, 0.010830257087945938, 0.027032840996980667, 0.05985218659043312, 0.0, 0.0, 0.0, 0.0, 0.0, 0.0, 0.0, 0.0], [0.895488440990448, 0.012202845886349678, 0.010640771128237247, 0.012631439603865147, 0.010892070829868317, 0.047285642474889755, 0.010858669877052307, 0.0, 0.0, 0.0, 0.0, 0.0, 0.0, 0.0], [0.8533008694648743, 0.013776733539998531, 0.014267834834754467, 0.01724117062985897, 0.012164616025984287, 0.038923874497413635, 0.025337500497698784, 0.02498733438551426, 0.0, 0.0, 0.0, 0.0, 0.0, 0.0], [0.8433390259742737, 0.011295140720903873, 0.008839309215545654, 0.008634110912680626, 0.011053315363824368, 0.05750923231244087, 0.024199292063713074, 0.023821981623768806, 0.011308490298688412, 0.0, 0.0, 0.0, 0.0, 0.0], [0.8319949507713318, 0.008483373560011387, 0.0059915343299508095, 0.008953552693128586, 0.012772886082530022, 0.047186046838760376, 0.030112333595752716, 0.02834618277847767, 0.013056659139692783, 0.013102555647492409, 0.0, 0.0, 0.0, 0.0], [0.8655032515525818, 0.007944982498884201, 0.004888314288109541, 0.006053219549357891, 0.011032961308956146, 0.03148980438709259, 0.02679920569062233, 0.0160408653318882, 0.01300611812621355, 0.013031091541051865, 0.00421010609716177, 0.0, 0.0, 0.0], [0.8539658188819885, 0.008769429288804531, 0.006620361469686031, 0.006604435387998819, 0.0140991797670722, 0.026159221306443214, 0.027832580730319023, 0.020476549863815308, 0.0072045838460326195, 0.010923044756054878, 0.004190760664641857, 0.013153943233191967, 0.0, 0.0], [0.830853283405304, 0.016680022701621056, 0.010082830674946308, 0.005906559992581606, 0.008759621530771255, 0.03778526932001114, 0.025635188445448875, 0.01824096590280533, 0.009496019221842289, 0.011671295389533043, 0.0054388586431741714, 0.009581374935805798, 0.009868677705526352, 0.0], [0.7153212428092957, 0.01452531199902296, 0.007851734757423401, 0.006318367086350918, 0.04177587106823921, 0.05097765475511551, 0.02268299274146557, 0.03022335097193718, 0.018055295571684837, 0.008714741095900536, 0.007851794362068176, 0.01637827791273594, 0.01114238053560257, 0.04818095266819]], [[1.0, 0.0, 0.0, 0.0, 0.0, 0.0, 0.0, 0.0, 0.0, 0.0, 0.0, 0.0, 0.0, 0.0], [0.9961651563644409, 0.0038348196540027857, 0.0, 0.0, 0.0, 0.0, 0.0, 0.0, 0.0, 0.0, 0.0, 0.0, 0.0, 0.0], [0.9808083772659302, 0.007740536704659462, 0.011451019905507565, 0.0, 0.0, 0.0, 0.0, 0.0, 0.0, 0.0, 0.0, 0.0, 0.0, 0.0], [0.9574502110481262, 0.01478563528507948, 0.014355898834764957, 0.013408243656158447, 0.0, 0.0, 0.0, 0.0, 0.0, 0.0, 0.0, 0.0, 0.0, 0.0], [0.9258949160575867, 0.012669224292039871, 0.015155689790844917, 0.033715058118104935, 0.012565094977617264, 0.0, 0.0, 0.0, 0.0, 0.0, 0.0, 0.0, 0.0, 0.0], [0.6248524785041809, 0.06498277187347412, 0.0510348416864872, 0.05726996436715126, 0.12318473309278488, 0.07867523282766342, 0.0, 0.0, 0.0, 0.0, 0.0, 0.0, 0.0, 0.0], [0.4709148705005646, 0.03785703703761101, 0.04338414594531059, 0.15915840864181519, 0.16295543313026428, 0.1021307185292244, 0.023599358275532722, 0.0, 0.0, 0.0, 0.0, 0.0, 0.0, 0.0], [0.5237184166908264, 0.05173975229263306, 0.05073656886816025, 0.13202469050884247, 0.07441917061805725, 0.08600784093141556, 0.06428308039903641, 0.017070487141609192, 0.0, 0.0, 0.0, 0.0, 0.0, 0.0], [0.5362691879272461, 0.03830612823367119, 0.06505028903484344, 0.07837535440921783, 0.04956873878836632, 0.07297397404909134, 0.09196362644433975, 0.04197870194911957, 0.025513973087072372, 0.0, 0.0, 0.0, 0.0, 0.0], [0.5190690755844116, 0.014021579176187515, 0.034283317625522614, 0.10728497803211212, 0.06227941811084747, 0.09206279367208481, 0.06769439578056335, 0.03427650034427643, 0.045663606375455856, 0.023364324122667313, 0.0, 0.0, 0.0, 0.0], [0.7897301912307739, 0.00915355421602726, 0.011792952194809914, 0.014992429874837399, 0.026389872655272484, 0.031949080526828766, 0.036740340292453766, 0.029034076258540154, 0.02005658484995365, 0.01201734971255064, 0.018143706023693085, 0.0, 0.0, 0.0], [0.7410849332809448, 0.014176439493894577, 0.012090526521205902, 0.030234429985284805, 0.04324641823768616, 0.036665935069322586, 0.023526133969426155, 0.008979634381830692, 0.017057623714208603, 0.008546743541955948, 0.029339132830500603, 0.035052038729190826, 0.0, 0.0], [0.7057510614395142, 0.019096938893198967, 0.03318092226982117, 0.017849333584308624, 0.025513848289847374, 0.03512151539325714, 0.03150239214301109, 0.013968591578304768, 0.02477041259407997, 0.009194186888635159, 0.027709828689694405, 0.02573220804333687, 0.03060869313776493, 0.0], [0.36567798256874084, 0.021906588226556778, 0.013277759775519371, 0.009664627723395824, 0.022236276417970657, 0.02597668580710888, 0.08961036056280136, 0.04368188977241516, 0.10809005051851273, 0.04472709447145462, 0.051193952560424805, 0.0377393439412117, 0.12156586349010468, 0.04465155303478241]], [[1.0, 0.0, 0.0, 0.0, 0.0, 0.0, 0.0, 0.0, 0.0, 0.0, 0.0, 0.0, 0.0, 0.0], [0.9810425043106079, 0.018957514315843582, 0.0, 0.0, 0.0, 0.0, 0.0, 0.0, 0.0, 0.0, 0.0, 0.0, 0.0, 0.0], [0.8950991630554199, 0.06262336671352386, 0.04227745532989502, 0.0, 0.0, 0.0, 0.0, 0.0, 0.0, 0.0, 0.0, 0.0, 0.0, 0.0], [0.7930350303649902, 0.07046974450349808, 0.08301308751106262, 0.05348215624690056, 0.0, 0.0, 0.0, 0.0, 0.0, 0.0, 0.0, 0.0, 0.0, 0.0], [0.7581737041473389, 0.06222477927803993, 0.05007149279117584, 0.026567010208964348, 0.10296300798654556, 0.0, 0.0, 0.0, 0.0, 0.0, 0.0, 0.0, 0.0, 0.0], [0.6718342304229736, 0.07689325511455536, 0.015400966629385948, 0.032296791672706604, 0.0997074767947197, 0.10386736690998077, 0.0, 0.0, 0.0, 0.0, 0.0, 0.0, 0.0, 0.0], [0.5845187306404114, 0.04841499775648117, 0.021861255168914795, 0.02225806750357151, 0.022083483636379242, 0.08971603214740753, 0.21114756166934967, 0.0, 0.0, 0.0, 0.0, 0.0, 0.0, 0.0], [0.5928687453269958, 0.04353879392147064, 0.04644430801272392, 0.01394601445645094, 0.012864467687904835, 0.07486411929130554, 0.18133436143398285, 0.03413922339677811, 0.0, 0.0, 0.0, 0.0, 0.0, 0.0], [0.465015709400177, 0.05779288336634636, 0.030346443876624107, 0.021383199840784073, 0.057193025946617126, 0.14122340083122253, 0.09862642735242844, 0.04784570634365082, 0.08057329058647156, 0.0, 0.0, 0.0, 0.0, 0.0], [0.3897584080696106, 0.050447817891836166, 0.034534770995378494, 0.024158427491784096, 0.0365711934864521, 0.14906787872314453, 0.12172496318817139, 0.04435770586133003, 0.13309790194034576, 0.01628096029162407, 0.0, 0.0, 0.0, 0.0], [0.5356494784355164, 0.06736952066421509, 0.011872359551489353, 0.028161337599158287, 0.03417541831731796, 0.09250937402248383, 0.09090225398540497, 0.04628194496035576, 0.04985950142145157, 0.012253907509148121, 0.030964965000748634, 0.0, 0.0, 0.0], [0.4319113790988922, 0.06402432918548584, 0.01669669710099697, 0.01917644403874874, 0.0490945428609848, 0.07777860760688782, 0.0491955541074276, 0.026286981999874115, 0.044104594737291336, 0.016637157648801804, 0.08224072307348251, 0.12285301834344864, 0.0, 0.0], [0.3618326187133789, 0.043408941477537155, 0.03333702310919762, 0.015673192217946053, 0.057568587362766266, 0.17540599405765533, 0.11239342391490936, 0.016986792907118797, 0.06703336536884308, 0.009046660736203194, 0.02338615618646145, 0.055929675698280334, 0.027997637167572975, 0.0], [0.3283107280731201, 0.031741321086883545, 0.00745012704282999, 0.011034248396754265, 0.0381028912961483, 0.06373050063848495, 0.10916747897863388, 0.010554554872214794, 0.12441077828407288, 0.007611341308802366, 0.027784904465079308, 0.03563915193080902, 0.11117422580718994, 0.09328777343034744]], [[1.0, 0.0, 0.0, 0.0, 0.0, 0.0, 0.0, 0.0, 0.0, 0.0, 0.0, 0.0, 0.0, 0.0], [0.9756208062171936, 0.024379217997193336, 0.0, 0.0, 0.0, 0.0, 0.0, 0.0, 0.0, 0.0, 0.0, 0.0, 0.0, 0.0], [0.9019273519515991, 0.0676872506737709, 0.030385319143533707, 0.0, 0.0, 0.0, 0.0, 0.0, 0.0, 0.0, 0.0, 0.0, 0.0, 0.0], [0.8911179304122925, 0.026299921795725822, 0.01884281449019909, 0.06373941153287888, 0.0, 0.0, 0.0, 0.0, 0.0, 0.0, 0.0, 0.0, 0.0, 0.0], [0.8192248940467834, 0.01995018869638443, 0.01774686574935913, 0.06877724826335907, 0.07430082559585571, 0.0, 0.0, 0.0, 0.0, 0.0, 0.0, 0.0, 0.0, 0.0], [0.5572972893714905, 0.06308721005916595, 0.025364292785525322, 0.09416121244430542, 0.13250143826007843, 0.12758861482143402, 0.0, 0.0, 0.0, 0.0, 0.0, 0.0, 0.0, 0.0], [0.7573047280311584, 0.03563371300697327, 0.024476220831274986, 0.03161120042204857, 0.035558927804231644, 0.04769289866089821, 0.06772226095199585, 0.0, 0.0, 0.0, 0.0, 0.0, 0.0, 0.0], [0.6255372762680054, 0.04994041472673416, 0.03151760250329971, 0.03529421612620354, 0.038498543202877045, 0.054543472826480865, 0.11534713953733444, 0.049321409314870834, 0.0, 0.0, 0.0, 0.0, 0.0, 0.0], [0.4660303592681885, 0.04136758670210838, 0.01893891580402851, 0.022258494049310684, 0.04153909906744957, 0.02997872792184353, 0.13016869127750397, 0.18818485736846924, 0.061533283442258835, 0.0, 0.0, 0.0, 0.0, 0.0], [0.5645082592964172, 0.015628010034561157, 0.010747392661869526, 0.03873847424983978, 0.04263054206967354, 0.043331317603588104, 0.08894629031419754, 0.09291429817676544, 0.052253447473049164, 0.05030188709497452, 0.0, 0.0, 0.0, 0.0], [0.7862705588340759, 0.009160163812339306, 0.007175578270107508, 0.012701901607215405, 0.019447971135377884, 0.013063755817711353, 0.032918915152549744, 0.03260715305805206, 0.02953203022480011, 0.03168606758117676, 0.025435900315642357, 0.0, 0.0, 0.0], [0.7047069072723389, 0.012907341122627258, 0.008428229950368404, 0.019105708226561546, 0.025847909972071648, 0.02529916539788246, 0.04301629960536957, 0.036347489804029465, 0.03096180595457554, 0.026879137381911278, 0.027420056983828545, 0.039079971611499786, 0.0, 0.0], [0.7017802000045776, 0.005582189653068781, 0.0036494119558483362, 0.009408646263182163, 0.021671833470463753, 0.027416164055466652, 0.043348103761672974, 0.0418032743036747, 0.04548322781920433, 0.025439975783228874, 0.01796473190188408, 0.03289550915360451, 0.023556791245937347, 0.0], [0.4405600428581238, 0.01634553261101246, 0.008934414014220238, 0.016205668449401855, 0.03642759472131729, 0.03780108317732811, 0.08302263170480728, 0.03175409883260727, 0.07245014607906342, 0.03604216128587723, 0.01980358548462391, 0.028446674346923828, 0.060441795736551285, 0.11176451295614243]], [[1.0, 0.0, 0.0, 0.0, 0.0, 0.0, 0.0, 0.0, 0.0, 0.0, 0.0, 0.0, 0.0, 0.0], [0.9503085017204285, 0.049691490828990936, 0.0, 0.0, 0.0, 0.0, 0.0, 0.0, 0.0, 0.0, 0.0, 0.0, 0.0, 0.0], [0.9321167469024658, 0.032483458518981934, 0.035399727523326874, 0.0, 0.0, 0.0, 0.0, 0.0, 0.0, 0.0, 0.0, 0.0, 0.0, 0.0], [0.9161853790283203, 0.024274347350001335, 0.019151723012328148, 0.04038861021399498, 0.0, 0.0, 0.0, 0.0, 0.0, 0.0, 0.0, 0.0, 0.0, 0.0], [0.9262683987617493, 0.02318130061030388, 0.01108908373862505, 0.01273586880415678, 0.026725392788648605, 0.0, 0.0, 0.0, 0.0, 0.0, 0.0, 0.0, 0.0, 0.0], [0.7727208137512207, 0.033438172191381454, 0.01020321249961853, 0.014356091618537903, 0.01814049296081066, 0.1511411815881729, 0.0, 0.0, 0.0, 0.0, 0.0, 0.0, 0.0, 0.0], [0.8407005667686462, 0.010760878212749958, 0.008693946525454521, 0.010020222514867783, 0.00953658390790224, 0.0554010272026062, 0.06488678604364395, 0.0, 0.0, 0.0, 0.0, 0.0, 0.0, 0.0], [0.7721388339996338, 0.013012879528105259, 0.007243494037538767, 0.0069917235523462296, 0.006023757625371218, 0.06817927956581116, 0.037911683320999146, 0.08849837630987167, 0.0, 0.0, 0.0, 0.0, 0.0, 0.0], [0.6962152719497681, 0.044792916625738144, 0.01697930134832859, 0.00815066508948803, 0.0055641550570726395, 0.044743090867996216, 0.03189656883478165, 0.01747269555926323, 0.13418537378311157, 0.0, 0.0, 0.0, 0.0, 0.0], [0.6033487915992737, 0.03783121332526207, 0.023163938894867897, 0.016307873651385307, 0.005812256131321192, 0.043080415576696396, 0.044527407735586166, 0.020788606256246567, 0.05546434968709946, 0.14967507123947144, 0.0, 0.0, 0.0, 0.0], [0.8478105664253235, 0.010642032139003277, 0.0056378901936113834, 0.004401616286486387, 0.003072476014494896, 0.023865249007940292, 0.007827980443835258, 0.006751153152436018, 0.022073306143283844, 0.025061244145035744, 0.04285654053092003, 0.0, 0.0, 0.0], [0.8197112679481506, 0.009481921792030334, 0.005557954777032137, 0.004753421992063522, 0.0020663258619606495, 0.02431574836373329, 0.007511963602155447, 0.007626665290445089, 0.014736449345946312, 0.013996436260640621, 0.01062496192753315, 0.07961687445640564, 0.0, 0.0], [0.8200166821479797, 0.015732405707240105, 0.00806952454149723, 0.00700238486751914, 0.009035732597112656, 0.03107617050409317, 0.018473345786333084, 0.012570512481033802, 0.02350386418402195, 0.008933682925999165, 0.009265282191336155, 0.008128441870212555, 0.028191959485411644, 0.0], [0.6133120656013489, 0.019191598519682884, 0.004022123757749796, 0.003974288236349821, 0.006073245778679848, 0.07733969390392303, 0.03130989149212837, 0.012972586788237095, 0.050601549446582794, 0.01821310445666313, 0.003093352308496833, 0.008194751106202602, 0.0175867211073637, 0.13411499559879303]], [[1.0, 0.0, 0.0, 0.0, 0.0, 0.0, 0.0, 0.0, 0.0, 0.0, 0.0, 0.0, 0.0, 0.0], [0.9618973731994629, 0.038102615624666214, 0.0, 0.0, 0.0, 0.0, 0.0, 0.0, 0.0, 0.0, 0.0, 0.0, 0.0, 0.0], [0.8555986881256104, 0.12429589778184891, 0.020105404779314995, 0.0, 0.0, 0.0, 0.0, 0.0, 0.0, 0.0, 0.0, 0.0, 0.0, 0.0], [0.6604869365692139, 0.23514604568481445, 0.05219348520040512, 0.052173491567373276, 0.0, 0.0, 0.0, 0.0, 0.0, 0.0, 0.0, 0.0, 0.0, 0.0], [0.7284498810768127, 0.08484762161970139, 0.030803823843598366, 0.11952859908342361, 0.03637000173330307, 0.0, 0.0, 0.0, 0.0, 0.0, 0.0, 0.0, 0.0, 0.0], [0.6075960397720337, 0.08376025408506393, 0.018810827285051346, 0.09368926286697388, 0.17282816767692566, 0.023315442726016045, 0.0, 0.0, 0.0, 0.0, 0.0, 0.0, 0.0, 0.0], [0.5408467054367065, 0.023110689595341682, 0.01550066377967596, 0.08494332432746887, 0.2276596873998642, 0.08762534707784653, 0.020313560962677002, 0.0, 0.0, 0.0, 0.0, 0.0, 0.0, 0.0], [0.4925057291984558, 0.04788260534405708, 0.045582402497529984, 0.07817894220352173, 0.1333550214767456, 0.12025875598192215, 0.05709652975201607, 0.02513997070491314, 0.0, 0.0, 0.0, 0.0, 0.0, 0.0], [0.4977613687515259, 0.0795147493481636, 0.03559739515185356, 0.06366268545389175, 0.12628035247325897, 0.06206068396568298, 0.050127092748880386, 0.04796149954199791, 0.037034206092357635, 0.0, 0.0, 0.0, 0.0, 0.0], [0.5483412742614746, 0.031149543821811676, 0.01975732482969761, 0.06534320116043091, 0.15271508693695068, 0.06316135078668594, 0.025939399376511574, 0.02855326607823372, 0.03186074644327164, 0.03317875415086746, 0.0, 0.0, 0.0, 0.0], [0.7691668272018433, 0.02550734020769596, 0.00942967925220728, 0.023749306797981262, 0.02426212467253208, 0.025578275322914124, 0.03963369131088257, 0.015173140913248062, 0.02455698326230049, 0.02739477902650833, 0.015547842718660831, 0.0, 0.0, 0.0], [0.771685004234314, 0.015770256519317627, 0.007046903017908335, 0.02282336726784706, 0.0587543323636055, 0.020899076014757156, 0.015524129383265972, 0.008836732245981693, 0.020092887803912163, 0.016301164403557777, 0.032090358436107635, 0.010175706818699837, 0.0, 0.0], [0.5597047805786133, 0.02781180664896965, 0.018347768113017082, 0.03029240295290947, 0.026363210752606392, 0.013294508680701256, 0.04510153457522392, 0.012868004851043224, 0.03442783281207085, 0.02196727879345417, 0.028168965131044388, 0.016581684350967407, 0.16507026553153992, 0.0], [0.3769753575325012, 0.018312135711312294, 0.007612761575728655, 0.016094829887151718, 0.02792106382548809, 0.004073813557624817, 0.02866072580218315, 0.013110066764056683, 0.025868073105812073, 0.0337112657725811, 0.07127439230680466, 0.028448008000850677, 0.3305351436138153, 0.017402369529008865]], [[1.0, 0.0, 0.0, 0.0, 0.0, 0.0, 0.0, 0.0, 0.0, 0.0, 0.0, 0.0, 0.0, 0.0], [0.9770828485488892, 0.022917097434401512, 0.0, 0.0, 0.0, 0.0, 0.0, 0.0, 0.0, 0.0, 0.0, 0.0, 0.0, 0.0], [0.4569307863712311, 0.5357955694198608, 0.007273745257407427, 0.0, 0.0, 0.0, 0.0, 0.0, 0.0, 0.0, 0.0, 0.0, 0.0, 0.0], [0.5616506934165955, 0.27137821912765503, 0.11267896741628647, 0.05429212749004364, 0.0, 0.0, 0.0, 0.0, 0.0, 0.0, 0.0, 0.0, 0.0, 0.0], [0.44424691796302795, 0.06316906958818436, 0.10315750539302826, 0.376595675945282, 0.012830845080316067, 0.0, 0.0, 0.0, 0.0, 0.0, 0.0, 0.0, 0.0, 0.0], [0.5703486800193787, 0.12000295519828796, 0.06993469595909119, 0.11647874116897583, 0.11682862043380737, 0.006406288128346205, 0.0, 0.0, 0.0, 0.0, 0.0, 0.0, 0.0, 0.0], [0.6648252606391907, 0.01942548342049122, 0.005397395696491003, 0.04081728309392929, 0.02836070954799652, 0.16312584280967712, 0.07804803550243378, 0.0, 0.0, 0.0, 0.0, 0.0, 0.0, 0.0], [0.39525148272514343, 0.0064517841674387455, 0.002640957711264491, 0.003261573612689972, 0.004453805275261402, 0.02451256476342678, 0.5504449009895325, 0.012982906773686409, 0.0, 0.0, 0.0, 0.0, 0.0, 0.0], [0.3441562056541443, 0.029999850317835808, 0.005383490119129419, 0.00831134244799614, 0.00756728183478117, 0.059915538877248764, 0.1910296082496643, 0.3239690363407135, 0.029667651280760765, 0.0, 0.0, 0.0, 0.0, 0.0], [0.3600892424583435, 0.0035327067598700523, 0.0007473831647075713, 0.001345659838989377, 0.0029021380469202995, 0.014407025650143623, 0.10673102736473083, 0.09293314069509506, 0.3992842435836792, 0.018027495592832565, 0.0, 0.0, 0.0, 0.0], [0.7827736139297485, 0.022272687405347824, 0.0003872038214467466, 0.0010887578828260303, 0.002733134664595127, 0.006487849168479443, 0.026055607944726944, 0.01222104299813509, 0.06324887275695801, 0.07635139673948288, 0.0063798618502914906, 0.0, 0.0, 0.0], [0.45024585723876953, 0.017358755692839622, 0.0010398668237030506, 0.002999800257384777, 0.009297388605773449, 0.010285389609634876, 0.023194115608930588, 0.013800745829939842, 0.08337518572807312, 0.09359518438577652, 0.2854531705379486, 0.009354563429951668, 0.0, 0.0], [0.6254695653915405, 0.00650013005360961, 0.0008607160416431725, 0.0006190143758431077, 0.0030692422296851873, 0.0033831705804914236, 0.023131297901272774, 0.00403480464592576, 0.12572544813156128, 0.03712988644838333, 0.037343863397836685, 0.11261909455060959, 0.02011365443468094, 0.0], [0.35593828558921814, 0.008270402438938618, 0.0021962018217891455, 0.0032540448009967804, 0.005906813312321901, 0.0019439556635916233, 0.043549250811338425, 0.025634050369262695, 0.1249992698431015, 0.046749792993068695, 0.016398314386606216, 0.01885415054857731, 0.33540764451026917, 0.01089783851057291]], [[1.0, 0.0, 0.0, 0.0, 0.0, 0.0, 0.0, 0.0, 0.0, 0.0, 0.0, 0.0, 0.0, 0.0], [0.9604063630104065, 0.039593685418367386, 0.0, 0.0, 0.0, 0.0, 0.0, 0.0, 0.0, 0.0, 0.0, 0.0, 0.0, 0.0], [0.9947183728218079, 0.00021090704831294715, 0.005070714745670557, 0.0, 0.0, 0.0, 0.0, 0.0, 0.0, 0.0, 0.0, 0.0, 0.0, 0.0], [0.9966217279434204, 6.718291115248576e-05, 3.9937105611898005e-05, 0.0032712530810385942, 0.0, 0.0, 0.0, 0.0, 0.0, 0.0, 0.0, 0.0, 0.0, 0.0], [0.997019350528717, 0.0011426701676100492, 0.00041308533400297165, 0.0007990325684659183, 0.0006258148932829499, 0.0, 0.0, 0.0, 0.0, 0.0, 0.0, 0.0, 0.0, 0.0], [0.9801961779594421, 0.0013749176869168878, 0.0019413296831771731, 0.0013828009832650423, 0.0005028359591960907, 0.014601996168494225, 0.0, 0.0, 0.0, 0.0, 0.0, 0.0, 0.0, 0.0], [0.9887108206748962, 0.0016407929360866547, 0.0005097993998788297, 0.0007001216872595251, 0.0004199954855721444, 0.0013581542298197746, 0.0066604516468942165, 0.0, 0.0, 0.0, 0.0, 0.0, 0.0, 0.0], [0.9385596513748169, 0.00039331865264102817, 0.00012240376963745803, 0.00011991097562713549, 0.00020135061640758067, 0.00016267305181827396, 0.011002601124346256, 0.049438104033470154, 0.0, 0.0, 0.0, 0.0, 0.0, 0.0], [0.9905024766921997, 2.332480471523013e-05, 4.811342296306975e-05, 0.0002266899828100577, 1.1538007129274774e-05, 2.4284396204166114e-05, 0.0001753086398821324, 0.0011604639003053308, 0.007827676832675934, 0.0, 0.0, 0.0, 0.0, 0.0], [0.9532724618911743, 2.98370450764196e-05, 0.011974790133535862, 0.0022277524694800377, 7.368910155491903e-05, 0.0001013766523101367, 0.0003093011910095811, 0.00046971719712018967, 0.0036614350974559784, 0.0278796199709177, 0.0, 0.0, 0.0, 0.0], [0.9998074173927307, 4.353485110186739e-06, 3.2517888030270115e-05, 3.3695661841193214e-05, 3.6854080462944694e-06, 6.609712272620527e-06, 5.565866558754351e-06, 7.218437758638174e-08, 1.1213183825020678e-05, 4.456644091987982e-06, 9.035090624820441e-05, 0.0, 0.0, 0.0], [0.9899201393127441, 4.038195402245037e-05, 3.233314782846719e-05, 0.00016966744442470372, 1.0567698154773097e-05, 0.0001228048058692366, 0.00012169351248303428, 1.140451422543265e-05, 0.0006441203877329826, 7.297047704923898e-05, 3.407000258448534e-05, 0.008819704875349998, 0.0, 0.0], [0.9861722588539124, 1.527106542198453e-05, 3.0834032713755732e-06, 4.473365333979018e-05, 0.00015634782903362066, 0.0009316926007159054, 0.00011364040256012231, 6.225284778338391e-06, 0.00018953844846691936, 2.9108077796990983e-05, 2.6859268018597504e-06, 0.00011768810509238392, 0.012217791751027107, 0.0], [0.87092524766922, 0.0014416187768802047, 6.54316390864551e-05, 0.0003717047511599958, 0.0008206923957914114, 0.0008692917181178927, 0.09632580727338791, 0.0003694531915243715, 0.007034373469650745, 0.0013505184324458241, 3.574269430828281e-05, 0.0008671025279909372, 0.008847799152135849, 0.010675383731722832]], [[1.0, 0.0, 0.0, 0.0, 0.0, 0.0, 0.0, 0.0, 0.0, 0.0, 0.0, 0.0, 0.0, 0.0], [0.998227059841156, 0.001772934920154512, 0.0, 0.0, 0.0, 0.0, 0.0, 0.0, 0.0, 0.0, 0.0, 0.0, 0.0, 0.0], [0.9929810762405396, 0.001591793610714376, 0.005427161697298288, 0.0, 0.0, 0.0, 0.0, 0.0, 0.0, 0.0, 0.0, 0.0, 0.0, 0.0], [0.9636366963386536, 0.003011071588844061, 0.004601882770657539, 0.028750285506248474, 0.0, 0.0, 0.0, 0.0, 0.0, 0.0, 0.0, 0.0, 0.0, 0.0], [0.9782585501670837, 0.0024676204193383455, 0.0015796612715348601, 0.006075228564441204, 0.011618957854807377, 0.0, 0.0, 0.0, 0.0, 0.0, 0.0, 0.0, 0.0, 0.0], [0.9474536776542664, 0.006082311738282442, 0.004056034609675407, 0.007235346827656031, 0.006858895067125559, 0.028313592076301575, 0.0, 0.0, 0.0, 0.0, 0.0, 0.0, 0.0, 0.0], [0.9350667595863342, 0.002293601166456938, 0.008825577795505524, 0.00668856268748641, 0.005562698468565941, 0.01126065757125616, 0.03030220791697502, 0.0, 0.0, 0.0, 0.0, 0.0, 0.0, 0.0], [0.9144353270530701, 0.0030373302288353443, 0.0039010916370898485, 0.011633986607193947, 0.006944410502910614, 0.011804596520960331, 0.020653480663895607, 0.027589725330471992, 0.0, 0.0, 0.0, 0.0, 0.0, 0.0], [0.9224835634231567, 0.0015672305598855019, 0.002825890202075243, 0.006818723399192095, 0.0036774117033928633, 0.009473660960793495, 0.015364487655460835, 0.006638974417001009, 0.031149938702583313, 0.0, 0.0, 0.0, 0.0, 0.0], [0.8842592239379883, 0.0005330237909220159, 0.0018964639166370034, 0.019679052755236626, 0.01170514989644289, 0.03789287060499191, 0.005178901832550764, 0.009559151716530323, 0.017258331179618835, 0.012037926353514194, 0.0, 0.0, 0.0, 0.0], [0.8773858547210693, 0.0010277384426444769, 0.0012372785713523626, 0.006238583475351334, 0.012165657244622707, 0.033008377999067307, 0.009106852114200592, 0.014729750342667103, 0.021238034591078758, 0.00916466023772955, 0.014697118662297726, 0.0, 0.0, 0.0], [0.8951963782310486, 0.0005758265615440905, 0.0009329894091933966, 0.004533515777438879, 0.008105863817036152, 0.023709751665592194, 0.00653800368309021, 0.009294947609305382, 0.017159631475806236, 0.0073231980204582214, 0.01874702051281929, 0.007882729172706604, 0.0, 0.0], [0.7849195599555969, 0.0016059114132076502, 0.0024821683764457703, 0.0076979100704193115, 0.016080861911177635, 0.06160930544137955, 0.012385119684040546, 0.021168820559978485, 0.017830494791269302, 0.011853315867483616, 0.01361666340380907, 0.004870075266808271, 0.043879780918359756, 0.0], [0.7752923369407654, 0.006105451844632626, 0.0030007052700966597, 0.0031583195086568594, 0.004544074181467295, 0.021039126440882683, 0.04646610468626022, 0.01416164729744196, 0.025657417252659798, 0.02360180765390396, 0.010188196785748005, 0.0036386980209499598, 0.013115432113409042, 0.05003074184060097]], [[1.0, 0.0, 0.0, 0.0, 0.0, 0.0, 0.0, 0.0, 0.0, 0.0, 0.0, 0.0, 0.0, 0.0], [0.9742491841316223, 0.025750843808054924, 0.0, 0.0, 0.0, 0.0, 0.0, 0.0, 0.0, 0.0, 0.0, 0.0, 0.0, 0.0], [0.7655491828918457, 0.2163764089345932, 0.018074311316013336, 0.0, 0.0, 0.0, 0.0, 0.0, 0.0, 0.0, 0.0, 0.0, 0.0, 0.0], [0.6201764941215515, 0.18182183802127838, 0.11482325196266174, 0.08317834883928299, 0.0, 0.0, 0.0, 0.0, 0.0, 0.0, 0.0, 0.0, 0.0, 0.0], [0.6652212738990784, 0.10662179440259933, 0.04655374214053154, 0.16549502313137054, 0.016108136624097824, 0.0, 0.0, 0.0, 0.0, 0.0, 0.0, 0.0, 0.0, 0.0], [0.6506356000900269, 0.060373932123184204, 0.03526831045746803, 0.10144937038421631, 0.1113777682185173, 0.04089507460594177, 0.0, 0.0, 0.0, 0.0, 0.0, 0.0, 0.0, 0.0], [0.9013650417327881, 0.01360555924475193, 0.00601735757663846, 0.006500875577330589, 0.01564924418926239, 0.012808933854103088, 0.04405292123556137, 0.0, 0.0, 0.0, 0.0, 0.0, 0.0, 0.0], [0.7061331272125244, 0.04837506636977196, 0.007533763535320759, 0.007128607481718063, 0.010299049317836761, 0.01134670339524746, 0.15543155372142792, 0.05375223979353905, 0.0, 0.0, 0.0, 0.0, 0.0, 0.0], [0.18117156624794006, 0.010210824199020863, 0.001533424947410822, 0.0037900274619460106, 0.008188403211534023, 0.012015685439109802, 0.2441835105419159, 0.485919713973999, 0.05298681557178497, 0.0, 0.0, 0.0, 0.0, 0.0], [0.36872023344039917, 0.005686638411134481, 0.0010878673056140542, 0.0075248549692332745, 0.009869351051747799, 0.010044188238680363, 0.1787460893392563, 0.311426043510437, 0.08966516703367233, 0.017229542136192322, 0.0, 0.0, 0.0, 0.0], [0.4927580654621124, 0.008668361231684685, 0.0013991714222356677, 0.0033794203773140907, 0.008767911233007908, 0.013115269131958485, 0.13034456968307495, 0.10177250951528549, 0.12325997650623322, 0.08635148406028748, 0.03018314018845558, 0.0, 0.0, 0.0], [0.3453415334224701, 0.014063563197851181, 0.0028145674150437117, 0.010079898871481419, 0.02360541932284832, 0.008972925134003162, 0.13311192393302917, 0.07900424301624298, 0.09988467395305634, 0.06144094839692116, 0.17874345183372498, 0.04293690621852875, 0.0, 0.0], [0.35813000798225403, 0.005858009681105614, 0.002165580401197076, 0.002695887116715312, 0.0055692363530397415, 0.031231090426445007, 0.18848972022533417, 0.07713498175144196, 0.049707841128110886, 0.04094655066728592, 0.05565432459115982, 0.15701867640018463, 0.025398125872015953, 0.0], [0.57535719871521, 0.008818374015390873, 0.0028294275980442762, 0.004323808941990137, 0.009710147976875305, 0.008559904992580414, 0.05109475180506706, 0.03266899660229683, 0.02726695127785206, 0.03344674035906792, 0.039710238575935364, 0.15734131634235382, 0.026955153793096542, 0.021916966885328293]]], [[[1.0, 0.0, 0.0, 0.0, 0.0, 0.0, 0.0, 0.0, 0.0, 0.0, 0.0, 0.0, 0.0, 0.0], [0.9606446027755737, 0.03935541957616806, 0.0, 0.0, 0.0, 0.0, 0.0, 0.0, 0.0, 0.0, 0.0, 0.0, 0.0, 0.0], [0.586992084980011, 0.39935556054115295, 0.013652387075126171, 0.0, 0.0, 0.0, 0.0, 0.0, 0.0, 0.0, 0.0, 0.0, 0.0, 0.0], [0.2685821056365967, 0.38741329312324524, 0.3127067983150482, 0.03129785135388374, 0.0, 0.0, 0.0, 0.0, 0.0, 0.0, 0.0, 0.0, 0.0, 0.0], [0.4843125343322754, 0.08234963566064835, 0.08215878158807755, 0.33474767208099365, 0.016431404277682304, 0.0, 0.0, 0.0, 0.0, 0.0, 0.0, 0.0, 0.0, 0.0], [0.8670421242713928, 0.03407244756817818, 0.0079339062795043, 0.01457947213202715, 0.07252220809459686, 0.003849894506856799, 0.0, 0.0, 0.0, 0.0, 0.0, 0.0, 0.0, 0.0], [0.8264214396476746, 0.02664531022310257, 0.007870073430240154, 0.00908447802066803, 0.034868527203798294, 0.061951376497745514, 0.0331588089466095, 0.0, 0.0, 0.0, 0.0, 0.0, 0.0, 0.0], [0.6864705681800842, 0.006240667775273323, 0.0016087848925963044, 0.0027695067692548037, 0.006357296369969845, 0.02378769777715206, 0.26160743832588196, 0.011157994158565998, 0.0, 0.0, 0.0, 0.0, 0.0, 0.0], [0.3793843388557434, 0.006990583147853613, 0.0019295065430924296, 0.0014557397225871682, 0.009068712592124939, 0.030896835029125214, 0.0863933339715004, 0.460867315530777, 0.023013640195131302, 0.0, 0.0, 0.0, 0.0, 0.0], [0.5561602115631104, 0.0021135960705578327, 0.0005041520926170051, 0.0003094951098319143, 0.004823746159672737, 0.009011763148009777, 0.05948478728532791, 0.10595368593931198, 0.23583447933197021, 0.025804098695516586, 0.0, 0.0, 0.0, 0.0], [0.6428953409194946, 0.018003301694989204, 0.009428443387150764, 0.001406779163517058, 0.004947706591337919, 0.006436167750507593, 0.009145361371338367, 0.02057958021759987, 0.03590070456266403, 0.2390373945236206, 0.01221921294927597, 0.0, 0.0, 0.0], [0.5601186752319336, 0.00736067583784461, 0.002299198182299733, 0.002462439239025116, 0.011765007860958576, 0.004947229288518429, 0.017863880842924118, 0.010776890441775322, 0.10616094619035721, 0.11104654520750046, 0.1542612910270691, 0.010937152430415154, 0.0, 0.0], [0.6473977565765381, 0.004134414717555046, 0.0024441133718937635, 0.000760280410759151, 0.004585720598697662, 0.007404976990073919, 0.011060844175517559, 0.011580726131796837, 0.034426163882017136, 0.047490254044532776, 0.06395286321640015, 0.13268689811229706, 0.03207506611943245, 0.0], [0.8605304956436157, 0.003353509586304426, 0.001763777807354927, 0.0019677281379699707, 0.003916722256690264, 0.001568049076013267, 0.006349639035761356, 0.0007044652593322098, 0.010731690563261509, 0.009070932865142822, 0.007699582260102034, 0.014234213158488274, 0.06834543496370316, 0.009763789363205433]], [[1.0, 0.0, 0.0, 0.0, 0.0, 0.0, 0.0, 0.0, 0.0, 0.0, 0.0, 0.0, 0.0, 0.0], [0.9962802529335022, 0.003719691652804613, 0.0, 0.0, 0.0, 0.0, 0.0, 0.0, 0.0, 0.0, 0.0, 0.0, 0.0, 0.0], [0.9911596179008484, 0.0028902061749249697, 0.005950222257524729, 0.0, 0.0, 0.0, 0.0, 0.0, 0.0, 0.0, 0.0, 0.0, 0.0, 0.0], [0.9817858338356018, 0.005012845620512962, 0.004479216877371073, 0.00872211717069149, 0.0, 0.0, 0.0, 0.0, 0.0, 0.0, 0.0, 0.0, 0.0, 0.0], [0.834366500377655, 0.04198053479194641, 0.056867439299821854, 0.03138090297579765, 0.03540458902716637, 0.0, 0.0, 0.0, 0.0, 0.0, 0.0, 0.0, 0.0, 0.0], [0.8685749173164368, 0.004265885800123215, 0.005803471431136131, 0.011993582360446453, 0.02211679145693779, 0.08724535256624222, 0.0, 0.0, 0.0, 0.0, 0.0, 0.0, 0.0, 0.0], [0.8889255523681641, 0.006384562235325575, 0.01073971763253212, 0.016549905762076378, 0.01925722137093544, 0.024997645989060402, 0.033145394176244736, 0.0, 0.0, 0.0, 0.0, 0.0, 0.0, 0.0], [0.9001678228378296, 0.004135329741984606, 0.005476729013025761, 0.007313923444598913, 0.011881443671882153, 0.01448730193078518, 0.03746751323342323, 0.019070055335760117, 0.0, 0.0, 0.0, 0.0, 0.0, 0.0], [0.6381905674934387, 0.007763301022350788, 0.021257469430565834, 0.0372651144862175, 0.0652986541390419, 0.120418481528759, 0.06422583013772964, 0.018561240285634995, 0.027019299566745758, 0.0, 0.0, 0.0, 0.0, 0.0], [0.6489160656929016, 0.0043226550333201885, 0.013012830168008804, 0.04024606570601463, 0.06268040090799332, 0.11099155992269516, 0.04819466918706894, 0.02302590198814869, 0.04019497334957123, 0.008414949290454388, 0.0, 0.0, 0.0, 0.0], [0.6058881282806396, 0.003889854531735182, 0.007827681489288807, 0.012344402261078358, 0.08923868089914322, 0.1908150464296341, 0.0474197156727314, 0.012931114062666893, 0.008880818262696266, 0.0011225013295188546, 0.019642096012830734, 0.0, 0.0, 0.0], [0.5869166254997253, 0.0034926007501780987, 0.0034042424522340298, 0.014982630498707294, 0.0974823534488678, 0.1386713683605194, 0.08485366404056549, 0.011869962327182293, 0.01674834080040455, 0.007420761045068502, 0.02210172638297081, 0.012055685743689537, 0.0, 0.0], [0.9200712442398071, 0.0011636130511760712, 0.0008312059217132628, 0.0011629846412688494, 0.0006735657807439566, 0.0167507566511631, 0.01446716021746397, 0.005562846083194017, 0.0018619043985381722, 0.00019474673899821937, 0.00032490803278051317, 0.00039422811823897064, 0.036540813744068146, 0.0], [0.7829108834266663, 0.001827796222642064, 0.0015553174307569861, 0.0024371230974793434, 0.00249012210406363, 0.0054689873941242695, 0.020422710105776787, 0.005579306278377771, 0.011202520690858364, 0.0016621701652184129, 0.0020201934967190027, 0.005354749504476786, 0.029686739668250084, 0.12738150358200073]], [[1.0, 0.0, 0.0, 0.0, 0.0, 0.0, 0.0, 0.0, 0.0, 0.0, 0.0, 0.0, 0.0, 0.0], [0.9962964653968811, 0.003703590016812086, 0.0, 0.0, 0.0, 0.0, 0.0, 0.0, 0.0, 0.0, 0.0, 0.0, 0.0, 0.0], [0.9973331689834595, 0.00022731850913260132, 0.0024395196232944727, 0.0, 0.0, 0.0, 0.0, 0.0, 0.0, 0.0, 0.0, 0.0, 0.0, 0.0], [0.9814627170562744, 0.000950330460909754, 0.00010601145913824439, 0.017480844631791115, 0.0, 0.0, 0.0, 0.0, 0.0, 0.0, 0.0, 0.0, 0.0, 0.0], [0.9974290728569031, 0.001409630523994565, 7.940882642287761e-05, 0.000422170473029837, 0.0006596668972633779, 0.0, 0.0, 0.0, 0.0, 0.0, 0.0, 0.0, 0.0, 0.0], [0.990721583366394, 0.0007489488925784826, 0.0004631656047422439, 0.003659906331449747, 0.0012042260495945811, 0.0032022022642195225, 0.0, 0.0, 0.0, 0.0, 0.0, 0.0, 0.0, 0.0], [0.9874267578125, 0.001026979647576809, 0.0003445558832027018, 0.003159221261739731, 0.0005947739700786769, 0.001314365305006504, 0.0061333440244197845, 0.0, 0.0, 0.0, 0.0, 0.0, 0.0, 0.0], [0.9848113059997559, 0.0005246666260063648, 0.00013734748063143343, 0.000998036121018231, 0.000576075108256191, 2.9685663321288303e-05, 0.003104632021859288, 0.00981833878904581, 0.0, 0.0, 0.0, 0.0, 0.0, 0.0], [0.9812378287315369, 0.0007497958140447736, 0.00031113208387978375, 0.006365911103785038, 0.00047149925376288593, 0.00038693437818437815, 0.0004925794783048332, 0.006956229452043772, 0.0030280884820967913, 0.0, 0.0, 0.0, 0.0, 0.0], [0.9362344145774841, 0.00011918713425984606, 0.0036048435140401125, 0.01748664863407612, 0.0010903591755777597, 0.0006325150607153773, 0.00031675148056820035, 0.008321789093315601, 0.006768602877855301, 0.025424957275390625, 0.0, 0.0, 0.0, 0.0], [0.9983861446380615, 2.334093369427137e-05, 6.098530866438523e-05, 0.0008642334723845124, 0.0002532425569370389, 0.00024322113313246518, 6.192466389620677e-05, 1.0040314009529538e-05, 2.335819044674281e-05, 3.783651663979981e-06, 6.981792830629274e-05, 0.0, 0.0, 0.0], [0.9961121678352356, 1.7266025679418817e-05, 3.956546788685955e-05, 0.0007058182964101434, 3.2869189453776926e-05, 7.565766281913966e-05, 0.0003114193968940526, 0.00016631920880172402, 0.0002037253143498674, 0.000258543121162802, 0.0001780109159881249, 0.001898541348055005, 0.0, 0.0], [0.9847375750541687, 5.143057569512166e-05, 1.5213176084216684e-05, 0.00031670278985984623, 0.00020294722344260663, 0.0008833163301460445, 0.0009464151225984097, 0.000817783351521939, 0.0003351891355123371, 6.837815453764051e-05, 2.026220317929983e-05, 0.00024995143758133054, 0.011354880407452583, 0.0], [0.8926264643669128, 0.0012867433251813054, 7.741180888842791e-05, 0.0007893383735790849, 0.00026803818764165044, 0.0002240333124063909, 0.033125415444374084, 0.010207168757915497, 0.010742636397480965, 0.0012789935572072864, 0.00012376414088066667, 0.00018832313071470708, 0.01592108979821205, 0.033140454441308975]], [[1.0, 0.0, 0.0, 0.0, 0.0, 0.0, 0.0, 0.0, 0.0, 0.0, 0.0, 0.0, 0.0, 0.0], [0.9749880433082581, 0.02501191757619381, 0.0, 0.0, 0.0, 0.0, 0.0, 0.0, 0.0, 0.0, 0.0, 0.0, 0.0, 0.0], [0.9444083571434021, 0.04248227924108505, 0.013109397143125534, 0.0, 0.0, 0.0, 0.0, 0.0, 0.0, 0.0, 0.0, 0.0, 0.0, 0.0], [0.8619041442871094, 0.07222270220518112, 0.026462683454155922, 0.039410412311553955, 0.0, 0.0, 0.0, 0.0, 0.0, 0.0, 0.0, 0.0, 0.0, 0.0], [0.752016007900238, 0.10565978288650513, 0.030545979738235474, 0.0546518936753273, 0.05712638050317764, 0.0, 0.0, 0.0, 0.0, 0.0, 0.0, 0.0, 0.0, 0.0], [0.7589210867881775, 0.09018673747777939, 0.025611352175474167, 0.040162719786167145, 0.04309559985995293, 0.04202248528599739, 0.0, 0.0, 0.0, 0.0, 0.0, 0.0, 0.0, 0.0], [0.6628422737121582, 0.03913617879152298, 0.019685978069901466, 0.08049941807985306, 0.07763883471488953, 0.06408770382404327, 0.056109718978405, 0.0, 0.0, 0.0, 0.0, 0.0, 0.0, 0.0], [0.675811767578125, 0.02442861534655094, 0.017802588641643524, 0.04080265015363693, 0.045942213386297226, 0.051072198897600174, 0.10736823827028275, 0.03677170351147652, 0.0, 0.0, 0.0, 0.0, 0.0, 0.0], [0.6345873475074768, 0.033408574759960175, 0.009189224801957607, 0.035988498479127884, 0.06403479725122452, 0.05267028510570526, 0.0801081582903862, 0.04078834503889084, 0.04922483116388321, 0.0, 0.0, 0.0, 0.0, 0.0], [0.6204798817634583, 0.011373522691428661, 0.006561199203133583, 0.07091619074344635, 0.0512981191277504, 0.03152831643819809, 0.07615909725427628, 0.04201514273881912, 0.05024487525224686, 0.039423685520887375, 0.0, 0.0, 0.0, 0.0], [0.7113324999809265, 0.01633298583328724, 0.010692519135773182, 0.03332233428955078, 0.05921020731329918, 0.03932143375277519, 0.037189412862062454, 0.02918940782546997, 0.026450512930750847, 0.019842492416501045, 0.01711622253060341, 0.0, 0.0, 0.0], [0.6232073903083801, 0.010023067705333233, 0.008026675321161747, 0.025354186072945595, 0.06185941770672798, 0.041143953800201416, 0.06071971729397774, 0.032380133867263794, 0.034750211983919144, 0.021370837464928627, 0.03092179074883461, 0.05024270340800285, 0.0, 0.0], [0.7097348570823669, 0.023938637226819992, 0.004753872752189636, 0.005161628592759371, 0.04290451481938362, 0.03867500275373459, 0.02646898478269577, 0.00806409865617752, 0.016792209818959236, 0.014460140839219093, 0.008909067139029503, 0.026006927713751793, 0.0741301104426384, 0.0], [0.4918193221092224, 0.025013823062181473, 0.007415567059069872, 0.0048758601769804955, 0.008854537270963192, 0.013909474015235901, 0.09888476878404617, 0.016548236832022667, 0.05982722342014313, 0.02001265250146389, 0.008208162151277065, 0.0279309693723917, 0.17246758937835693, 0.044231805950403214]], [[1.0, 0.0, 0.0, 0.0, 0.0, 0.0, 0.0, 0.0, 0.0, 0.0, 0.0, 0.0, 0.0, 0.0], [0.9638091325759888, 0.03619086369872093, 0.0, 0.0, 0.0, 0.0, 0.0, 0.0, 0.0, 0.0, 0.0, 0.0, 0.0, 0.0], [0.9544190764427185, 0.04194550961256027, 0.00363536411896348, 0.0, 0.0, 0.0, 0.0, 0.0, 0.0, 0.0, 0.0, 0.0, 0.0, 0.0], [0.932857871055603, 0.040612947195768356, 0.010715370066463947, 0.015813743695616722, 0.0, 0.0, 0.0, 0.0, 0.0, 0.0, 0.0, 0.0, 0.0, 0.0], [0.7517792582511902, 0.10812018066644669, 0.022535348311066628, 0.11030736565589905, 0.007257775403559208, 0.0, 0.0, 0.0, 0.0, 0.0, 0.0, 0.0, 0.0, 0.0], [0.6997016072273254, 0.12038339674472809, 0.022662807255983353, 0.06796986609697342, 0.04868100583553314, 0.04060119763016701, 0.0, 0.0, 0.0, 0.0, 0.0, 0.0, 0.0, 0.0], [0.8233749270439148, 0.05936796963214874, 0.02218475565314293, 0.04966337978839874, 0.014868938364088535, 0.02025434374809265, 0.010285631753504276, 0.0, 0.0, 0.0, 0.0, 0.0, 0.0, 0.0], [0.9326162338256836, 0.01227644644677639, 0.00547500466927886, 0.0068938154727220535, 0.009664496406912804, 0.006960839964449406, 0.019403519108891487, 0.00670966412872076, 0.0, 0.0, 0.0, 0.0, 0.0, 0.0], [0.9695326685905457, 0.004296649247407913, 0.0009439651621505618, 0.004115790594369173, 0.0017025233246386051, 0.007193615660071373, 0.001796422409825027, 0.002087589120492339, 0.00833068136125803, 0.0, 0.0, 0.0, 0.0, 0.0], [0.948699951171875, 0.00330740911886096, 0.0007505539106205106, 0.00297109829261899, 0.0010987058049067855, 0.005197036080062389, 0.005185352638363838, 0.005885254591703415, 0.02440248616039753, 0.002502160146832466, 0.0, 0.0, 0.0, 0.0], [0.9413387775421143, 0.008781461045145988, 0.0005703401984646916, 0.001726122573018074, 0.0018212555442005396, 0.0019602826796472073, 0.007298227399587631, 0.0014669873053207994, 0.027152633294463158, 0.006256707478314638, 0.0016270660562440753, 0.0, 0.0, 0.0], [0.9357846975326538, 0.005852863658219576, 0.0006452106172218919, 0.00341488653793931, 0.0016835988499224186, 0.003158716019243002, 0.007736187428236008, 0.003346438752487302, 0.027963437139987946, 0.006355211138725281, 0.0020174651872366667, 0.0020413349848240614, 0.0, 0.0], [0.8745622038841248, 0.009126505814492702, 0.0016016790177673101, 0.0038168441969901323, 0.002257580403238535, 0.0021873752120882273, 0.013991058804094791, 0.002505516866222024, 0.040557317435741425, 0.016094548627734184, 0.007730311714112759, 0.011457961052656174, 0.014111070893704891, 0.0], [0.33141741156578064, 0.01320362463593483, 0.002723297104239464, 0.005395196843892336, 0.006450936198234558, 0.012575061991810799, 0.047062959522008896, 0.014148248359560966, 0.48278340697288513, 0.019882602617144585, 0.004820321220904589, 0.010045793838799, 0.024574102833867073, 0.02491704747080803]], [[1.0, 0.0, 0.0, 0.0, 0.0, 0.0, 0.0, 0.0, 0.0, 0.0, 0.0, 0.0, 0.0, 0.0], [0.9938748478889465, 0.00612513767555356, 0.0, 0.0, 0.0, 0.0, 0.0, 0.0, 0.0, 0.0, 0.0, 0.0, 0.0, 0.0], [0.9632449150085449, 0.027498507872223854, 0.009256661869585514, 0.0, 0.0, 0.0, 0.0, 0.0, 0.0, 0.0, 0.0, 0.0, 0.0, 0.0], [0.8443992733955383, 0.08189847320318222, 0.02399599365890026, 0.049706216901540756, 0.0, 0.0, 0.0, 0.0, 0.0, 0.0, 0.0, 0.0, 0.0, 0.0], [0.8223826885223389, 0.03668361157178879, 0.018218379467725754, 0.07629772275686264, 0.04641760513186455, 0.0, 0.0, 0.0, 0.0, 0.0, 0.0, 0.0, 0.0, 0.0], [0.428877055644989, 0.06456110626459122, 0.018731314688920975, 0.051317404955625534, 0.34529179334640503, 0.09122132509946823, 0.0, 0.0, 0.0, 0.0, 0.0, 0.0, 0.0, 0.0], [0.788409948348999, 0.03486507013440132, 0.011875062249600887, 0.003080666298046708, 0.01374154631048441, 0.09675762802362442, 0.0512700192630291, 0.0, 0.0, 0.0, 0.0, 0.0, 0.0, 0.0], [0.6863611936569214, 0.018102912232279778, 0.018242955207824707, 0.004207557998597622, 0.012137556448578835, 0.08304176479578018, 0.11695805191993713, 0.06094808876514435, 0.0, 0.0, 0.0, 0.0, 0.0, 0.0], [0.5151025652885437, 0.03081258200109005, 0.008715186268091202, 0.008111308328807354, 0.04831097275018692, 0.07568153738975525, 0.20064972341060638, 0.08254315704107285, 0.030072955414652824, 0.0, 0.0, 0.0, 0.0, 0.0], [0.7556731104850769, 0.006205161102116108, 0.006296960171312094, 0.003961107227951288, 0.007049359381198883, 0.055540531873703, 0.08329501748085022, 0.04456771910190582, 0.02838405966758728, 0.00902685895562172, 0.0, 0.0, 0.0, 0.0], [0.5154165625572205, 0.014573822729289532, 0.004680200945585966, 0.006976897828280926, 0.04833272472023964, 0.08946438133716583, 0.15155541896820068, 0.10115606337785721, 0.03721221536397934, 0.015544744208455086, 0.0150868846103549, 0.0, 0.0, 0.0], [0.5293149948120117, 0.012900322675704956, 0.004050769377499819, 0.012317477725446224, 0.04379599168896675, 0.07988505065441132, 0.1685141623020172, 0.07295715063810349, 0.029855551198124886, 0.013107119128108025, 0.013325943611562252, 0.019975433126091957, 0.0, 0.0], [0.5106205940246582, 0.01649315096437931, 0.004606814123690128, 0.010779072530567646, 0.04331560060381889, 0.07210993766784668, 0.10287032276391983, 0.03817100450396538, 0.03494313731789589, 0.023616429418325424, 0.02886931598186493, 0.03965497389435768, 0.07394963502883911, 0.0], [0.4170723855495453, 0.013903397135436535, 0.008840212598443031, 0.004234673921018839, 0.03827749192714691, 0.03779970481991768, 0.1319800168275833, 0.08954297006130219, 0.02286255918443203, 0.034514229744672775, 0.04036577418446541, 0.05221444368362427, 0.03629974275827408, 0.07209240645170212]], [[1.0, 0.0, 0.0, 0.0, 0.0, 0.0, 0.0, 0.0, 0.0, 0.0, 0.0, 0.0, 0.0, 0.0], [0.9778973460197449, 0.022102676331996918, 0.0, 0.0, 0.0, 0.0, 0.0, 0.0, 0.0, 0.0, 0.0, 0.0, 0.0, 0.0], [0.9518300890922546, 0.035838574171066284, 0.012331383302807808, 0.0, 0.0, 0.0, 0.0, 0.0, 0.0, 0.0, 0.0, 0.0, 0.0, 0.0], [0.9280455112457275, 0.038139358162879944, 0.009640281088650227, 0.02417481504380703, 0.0, 0.0, 0.0, 0.0, 0.0, 0.0, 0.0, 0.0, 0.0, 0.0], [0.9113931059837341, 0.03802204132080078, 0.006397546734660864, 0.01836281083524227, 0.02582450769841671, 0.0, 0.0, 0.0, 0.0, 0.0, 0.0, 0.0, 0.0, 0.0], [0.7575860619544983, 0.04150627180933952, 0.009262886829674244, 0.04360533505678177, 0.07012347877025604, 0.07791594415903091, 0.0, 0.0, 0.0, 0.0, 0.0, 0.0, 0.0, 0.0], [0.7661234140396118, 0.04237282648682594, 0.012126614339649677, 0.03173411637544632, 0.04738723114132881, 0.045375704765319824, 0.054880108684301376, 0.0, 0.0, 0.0, 0.0, 0.0, 0.0, 0.0], [0.6365414261817932, 0.02955171838402748, 0.007336499635130167, 0.01840771548449993, 0.0219571590423584, 0.049225084483623505, 0.12783288955688477, 0.10914744436740875, 0.0, 0.0, 0.0, 0.0, 0.0, 0.0], [0.5939884781837463, 0.04236259311437607, 0.012719370424747467, 0.036710213869810104, 0.04686816781759262, 0.053257450461387634, 0.1274438202381134, 0.06113604083657265, 0.025513987988233566, 0.0, 0.0, 0.0, 0.0, 0.0], [0.6662259101867676, 0.018610434606671333, 0.008610740303993225, 0.03352125734090805, 0.05371912941336632, 0.0492057204246521, 0.06310392171144485, 0.04665166139602661, 0.027580857276916504, 0.032770395278930664, 0.0, 0.0, 0.0, 0.0], [0.7323628067970276, 0.029729850590229034, 0.009984303265810013, 0.029799679294228554, 0.04443350061774254, 0.031429581344127655, 0.0314553864300251, 0.02832917869091034, 0.013607935979962349, 0.035588588565588, 0.013279207050800323, 0.0, 0.0, 0.0], [0.7539491653442383, 0.016945306211709976, 0.007009513210505247, 0.036529790610075, 0.04372119531035423, 0.03749648109078407, 0.02914578840136528, 0.018725179135799408, 0.008963500149548054, 0.02567107044160366, 0.011986334808170795, 0.009856625460088253, 0.0, 0.0], [0.8856151700019836, 0.00900582130998373, 0.0032649431377649307, 0.008673232980072498, 0.012672760523855686, 0.007752361241728067, 0.010473974980413914, 0.012747216038405895, 0.012516993097960949, 0.00663153687492013, 0.008151622489094734, 0.007489257492125034, 0.015005093067884445, 0.0], [0.6436525583267212, 0.01890605129301548, 0.007095954846590757, 0.016851382330060005, 0.017652999609708786, 0.01607537642121315, 0.04045727103948593, 0.03612173721194267, 0.029396604746580124, 0.022583944723010063, 0.022416852414608, 0.03323974460363388, 0.03224470093846321, 0.06330478191375732]], [[1.0, 0.0, 0.0, 0.0, 0.0, 0.0, 0.0, 0.0, 0.0, 0.0, 0.0, 0.0, 0.0, 0.0], [0.9949045181274414, 0.005095446016639471, 0.0, 0.0, 0.0, 0.0, 0.0, 0.0, 0.0, 0.0, 0.0, 0.0, 0.0, 0.0], [0.9959415793418884, 0.0027393971104174852, 0.0013190665049478412, 0.0, 0.0, 0.0, 0.0, 0.0, 0.0, 0.0, 0.0, 0.0, 0.0, 0.0], [0.9807592034339905, 0.0029117590747773647, 0.002240465022623539, 0.01408851332962513, 0.0, 0.0, 0.0, 0.0, 0.0, 0.0, 0.0, 0.0, 0.0, 0.0], [0.9437373876571655, 0.005326215177774429, 0.013596040196716785, 0.01960962451994419, 0.017730794847011566, 0.0, 0.0, 0.0, 0.0, 0.0, 0.0, 0.0, 0.0, 0.0], [0.8516963720321655, 0.028979292139410973, 0.01846178248524666, 0.04314139857888222, 0.01376333087682724, 0.04395779222249985, 0.0, 0.0, 0.0, 0.0, 0.0, 0.0, 0.0, 0.0], [0.7551094889640808, 0.07556083053350449, 0.04575631767511368, 0.038278620690107346, 0.03521943464875221, 0.02846630848944187, 0.021609025076031685, 0.0, 0.0, 0.0, 0.0, 0.0, 0.0, 0.0], [0.8232835531234741, 0.07762771844863892, 0.016855893656611443, 0.030298715457320213, 0.010801427066326141, 0.01395542174577713, 0.012860536575317383, 0.014316670596599579, 0.0, 0.0, 0.0, 0.0, 0.0, 0.0], [0.5636277198791504, 0.017221197485923767, 0.015304910019040108, 0.09228377789258957, 0.11516497284173965, 0.08693164587020874, 0.08893858641386032, 0.01123346108943224, 0.009293721988797188, 0.0, 0.0, 0.0, 0.0, 0.0], [0.7438149452209473, 0.006952805444598198, 0.005424166563898325, 0.04872524365782738, 0.07897139340639114, 0.05236981436610222, 0.03601833060383797, 0.006313782650977373, 0.00926851574331522, 0.012140934355556965, 0.0, 0.0, 0.0, 0.0], [0.8515389561653137, 0.004628028254956007, 0.004338141530752182, 0.014355494640767574, 0.0094213355332613, 0.020571736618876457, 0.047497451305389404, 0.02685348130762577, 0.016200119629502296, 0.0024030213244259357, 0.0021920516155660152, 0.0, 0.0, 0.0], [0.8402261734008789, 0.0027516933623701334, 0.002143731340765953, 0.017060089856386185, 0.029483702033758163, 0.032587647438049316, 0.051801759749650955, 0.008636320941150188, 0.009148492477834225, 0.001970701152458787, 0.001888867118395865, 0.002300865249708295, 0.0, 0.0], [0.907265841960907, 0.0014337257016450167, 0.0006006702897138894, 0.003498675301671028, 0.0029301606118679047, 0.017152830958366394, 0.03279368579387665, 0.007009091787040234, 0.003598614130169153, 0.000629240763373673, 0.0004855644074268639, 0.00048389972653239965, 0.022118128836154938, 0.0], [0.7595546245574951, 0.04342937842011452, 0.019854597747325897, 0.03600827232003212, 0.005871924571692944, 0.008813634514808655, 0.035328254103660583, 0.015221795998513699, 0.010595330037176609, 0.005545161664485931, 0.006121987011283636, 0.0042792861349880695, 0.028895962983369827, 0.020479917526245117]], [[1.0, 0.0, 0.0, 0.0, 0.0, 0.0, 0.0, 0.0, 0.0, 0.0, 0.0, 0.0, 0.0, 0.0], [0.8573836088180542, 0.14261634647846222, 0.0, 0.0, 0.0, 0.0, 0.0, 0.0, 0.0, 0.0, 0.0, 0.0, 0.0, 0.0], [0.4285803735256195, 0.5578614473342896, 0.013558179140090942, 0.0, 0.0, 0.0, 0.0, 0.0, 0.0, 0.0, 0.0, 0.0, 0.0, 0.0], [0.4679338037967682, 0.4207629859447479, 0.07638155668973923, 0.03492173179984093, 0.0, 0.0, 0.0, 0.0, 0.0, 0.0, 0.0, 0.0, 0.0, 0.0], [0.622526228427887, 0.1315232366323471, 0.019310055300593376, 0.126268669962883, 0.10037177801132202, 0.0, 0.0, 0.0, 0.0, 0.0, 0.0, 0.0, 0.0, 0.0], [0.6544741988182068, 0.07631928473711014, 0.014787792228162289, 0.06040668487548828, 0.18774138391017914, 0.006270661950111389, 0.0, 0.0, 0.0, 0.0, 0.0, 0.0, 0.0, 0.0], [0.6867169737815857, 0.05473131686449051, 0.029355641454458237, 0.07296405732631683, 0.08716007322072983, 0.05062928423285484, 0.01844269223511219, 0.0, 0.0, 0.0, 0.0, 0.0, 0.0, 0.0], [0.5552332997322083, 0.05461309477686882, 0.0649748146533966, 0.04534195736050606, 0.0392850786447525, 0.06681017577648163, 0.13965587317943573, 0.03408575803041458, 0.0, 0.0, 0.0, 0.0, 0.0, 0.0], [0.4239685535430908, 0.07926236838102341, 0.018279938027262688, 0.036432601511478424, 0.2364925593137741, 0.0253104567527771, 0.05778605490922928, 0.05018552765250206, 0.07228203117847443, 0.0, 0.0, 0.0, 0.0, 0.0], [0.31372547149658203, 0.01816253550350666, 0.009509016759693623, 0.062205661088228226, 0.3348016142845154, 0.03871636837720871, 0.054486531764268875, 0.04553685709834099, 0.10433869063854218, 0.01851731538772583, 0.0, 0.0, 0.0, 0.0], [0.22504501044750214, 0.03571441024541855, 0.011372679844498634, 0.05585517734289169, 0.15401306748390198, 0.026631517335772514, 0.05553792789578438, 0.012495024129748344, 0.33376753330230713, 0.058767277747392654, 0.030800389125943184, 0.0, 0.0, 0.0], [0.23236636817455292, 0.02615421451628208, 0.012813176959753036, 0.04906860366463661, 0.17412246763706207, 0.02782452665269375, 0.051113396883010864, 0.047221824526786804, 0.171780064702034, 0.04605706036090851, 0.13688209652900696, 0.024596279487013817, 0.0, 0.0], [0.7143397331237793, 0.007701316848397255, 0.0028602813836187124, 0.003572659334167838, 0.013200601562857628, 0.0075530982576310635, 0.025294095277786255, 0.007207694463431835, 0.022230325266718864, 0.009605261497199535, 0.0023268896620720625, 0.021159963682293892, 0.1629481315612793, 0.0], [0.42677041888237, 0.004378837533295155, 0.003134811297059059, 0.008015531115233898, 0.017894119024276733, 0.001138734514825046, 0.01576748676598072, 0.02510220929980278, 0.04096680134534836, 0.008385316468775272, 0.01861598715186119, 0.019676540046930313, 0.40244060754776, 0.007712602149695158]], [[1.0, 0.0, 0.0, 0.0, 0.0, 0.0, 0.0, 0.0, 0.0, 0.0, 0.0, 0.0, 0.0, 0.0], [0.9765989780426025, 0.023401057347655296, 0.0, 0.0, 0.0, 0.0, 0.0, 0.0, 0.0, 0.0, 0.0, 0.0, 0.0, 0.0], [0.9159986972808838, 0.06854349374771118, 0.015457838773727417, 0.0, 0.0, 0.0, 0.0, 0.0, 0.0, 0.0, 0.0, 0.0, 0.0, 0.0], [0.8322663307189941, 0.08958859741687775, 0.05269496515393257, 0.025450121611356735, 0.0, 0.0, 0.0, 0.0, 0.0, 0.0, 0.0, 0.0, 0.0, 0.0], [0.8627944588661194, 0.07387304306030273, 0.032863788306713104, 0.017718739807605743, 0.012749937362968922, 0.0, 0.0, 0.0, 0.0, 0.0, 0.0, 0.0, 0.0, 0.0], [0.866019606590271, 0.04759501293301582, 0.03140790015459061, 0.00774381635710597, 0.01431444101035595, 0.03291928768157959, 0.0, 0.0, 0.0, 0.0, 0.0, 0.0, 0.0, 0.0], [0.8209947347640991, 0.018828732892870903, 0.018689913675189018, 0.004981589037925005, 0.0119978291913867, 0.02761727198958397, 0.0968899205327034, 0.0, 0.0, 0.0, 0.0, 0.0, 0.0, 0.0], [0.6676148176193237, 0.015697302296757698, 0.021866215392947197, 0.004342989064753056, 0.008728734217584133, 0.019038964062929153, 0.19132305681705475, 0.07138799875974655, 0.0, 0.0, 0.0, 0.0, 0.0, 0.0], [0.46967047452926636, 0.01137680746614933, 0.0072584147565066814, 0.004114906303584576, 0.014437648467719555, 0.03599649667739868, 0.15063461661338806, 0.196974977850914, 0.1095355898141861, 0.0, 0.0, 0.0, 0.0, 0.0], [0.22898904979228973, 0.005597209557890892, 0.002763187512755394, 0.001993802608922124, 0.00736539950594306, 0.02060231752693653, 0.23433226346969604, 0.2456407994031906, 0.21865400671958923, 0.03406187519431114, 0.0, 0.0, 0.0, 0.0], [0.37440186738967896, 0.013627861626446247, 0.008212750777602196, 0.0053724804893136024, 0.02290913090109825, 0.05695553123950958, 0.13536521792411804, 0.06613748520612717, 0.19520258903503418, 0.10419199615716934, 0.017623107880353928, 0.0, 0.0, 0.0], [0.2747923731803894, 0.010597392916679382, 0.007167852018028498, 0.006129965651780367, 0.02202928066253662, 0.04339321702718735, 0.1469588577747345, 0.08115330338478088, 0.23875658214092255, 0.11209511756896973, 0.0313730351626873, 0.025553006678819656, 0.0, 0.0], [0.47479909658432007, 0.011774606071412563, 0.004269549623131752, 0.0016361263114959002, 0.007047357968986034, 0.034402042627334595, 0.11303269863128662, 0.12495490163564682, 0.11044054478406906, 0.041254397481679916, 0.019142182543873787, 0.04433722794055939, 0.012909426353871822, 0.0], [0.8044872879981995, 0.008338580839335918, 0.007969921454787254, 0.0012852340005338192, 0.0027083675377070904, 0.0031765045132488012, 0.055291797965765, 0.025165576487779617, 0.02625678852200508, 0.0102234510704875, 0.0015190072590485215, 0.0028075440786778927, 0.023692794144153595, 0.027077006176114082]], [[1.0, 0.0, 0.0, 0.0, 0.0, 0.0, 0.0, 0.0, 0.0, 0.0, 0.0, 0.0, 0.0, 0.0], [0.9823353886604309, 0.017664633691310883, 0.0, 0.0, 0.0, 0.0, 0.0, 0.0, 0.0, 0.0, 0.0, 0.0, 0.0, 0.0], [0.9952924251556396, 0.0014391893055289984, 0.0032683948520570993, 0.0, 0.0, 0.0, 0.0, 0.0, 0.0, 0.0, 0.0, 0.0, 0.0, 0.0], [0.9825156927108765, 0.0020437240600585938, 0.00039480242412537336, 0.015045755542814732, 0.0, 0.0, 0.0, 0.0, 0.0, 0.0, 0.0, 0.0, 0.0, 0.0], [0.9870252013206482, 0.004871377255767584, 0.0005719129694625735, 0.00408412329852581, 0.0034473815467208624, 0.0, 0.0, 0.0, 0.0, 0.0, 0.0, 0.0, 0.0, 0.0], [0.9568961262702942, 0.004011543467640877, 0.0045641204342246056, 0.019922487437725067, 0.00543235894292593, 0.00917336717247963, 0.0, 0.0, 0.0, 0.0, 0.0, 0.0, 0.0, 0.0], [0.9503806233406067, 0.0020259765442460775, 0.0053237141110002995, 0.012820689007639885, 0.0029268742073327303, 0.007678073365241289, 0.018844131380319595, 0.0, 0.0, 0.0, 0.0, 0.0, 0.0, 0.0], [0.9743513464927673, 0.0013307201443240047, 0.0021125951316207647, 0.003713755402714014, 0.0032867661211639643, 0.0011470349272713065, 0.0062773823738098145, 0.007780476473271847, 0.0, 0.0, 0.0, 0.0, 0.0, 0.0], [0.8592575788497925, 0.007798383478075266, 0.010889539495110512, 0.011052842251956463, 0.0023855941835790873, 0.009426267817616463, 0.033325985074043274, 0.0560239776968956, 0.009839821606874466, 0.0, 0.0, 0.0, 0.0, 0.0], [0.6102691292762756, 0.001267589395865798, 0.14679664373397827, 0.06277672946453094, 0.017167653888463974, 0.031893957406282425, 0.04590117558836937, 0.04061376303434372, 0.01944367028772831, 0.023869788274168968, 0.0, 0.0, 0.0, 0.0], [0.995618462562561, 8.274977881228551e-05, 0.0008654744015075266, 0.0007029554108157754, 0.0004141683748457581, 0.0005045314901508391, 0.0015723409596830606, 3.602147626224905e-05, 4.169762905803509e-05, 2.1346599169191904e-05, 0.0001402534544467926, 0.0, 0.0, 0.0], [0.9517920613288879, 0.003720690030604601, 0.005934975575655699, 0.0038946750573813915, 0.0013473519356921315, 0.002841689856722951, 0.01488701906055212, 0.0011886246502399445, 0.001565361744724214, 0.00200333702377975, 0.0005208902875892818, 0.01030318345874548, 0.0, 0.0], [0.9907494187355042, 0.0001627700257813558, 6.128817767603323e-05, 9.495087579125538e-05, 0.0003276313073001802, 0.00093331333482638, 0.0010292809456586838, 0.00025656941579654813, 0.0007036347524262965, 0.00015580579929519445, 4.398029705043882e-05, 0.00032701759482733905, 0.005154408514499664, 0.0], [0.8301110863685608, 0.0032116053625941277, 0.002563266083598137, 0.0091601787135005, 0.0020180423744022846, 0.0009387091267853975, 0.03896507993340492, 0.004955895245075226, 0.041026245802640915, 0.00412953644990921, 0.002212066436186433, 0.004297141917049885, 0.046449583023786545, 0.00996153149753809]], [[1.0, 0.0, 0.0, 0.0, 0.0, 0.0, 0.0, 0.0, 0.0, 0.0, 0.0, 0.0, 0.0, 0.0], [0.9907315373420715, 0.009268424473702908, 0.0, 0.0, 0.0, 0.0, 0.0, 0.0, 0.0, 0.0, 0.0, 0.0, 0.0, 0.0], [0.9983495473861694, 0.00045730246347375214, 0.001193198491819203, 0.0, 0.0, 0.0, 0.0, 0.0, 0.0, 0.0, 0.0, 0.0, 0.0, 0.0], [0.9742273688316345, 0.0031327405013144016, 0.0010674134828150272, 0.02157239429652691, 0.0, 0.0, 0.0, 0.0, 0.0, 0.0, 0.0, 0.0, 0.0, 0.0], [0.9926016926765442, 0.001239866716787219, 0.001071770442649722, 0.003073501167818904, 0.002013068413361907, 0.0, 0.0, 0.0, 0.0, 0.0, 0.0, 0.0, 0.0, 0.0], [0.9798057675361633, 0.0029335529543459415, 0.0009662389056757092, 0.005323535762727261, 0.0007539140642620623, 0.010217011906206608, 0.0, 0.0, 0.0, 0.0, 0.0, 0.0, 0.0, 0.0], [0.9578503370285034, 0.007479884196072817, 0.0030123000033199787, 0.0031402313616126776, 0.0010606891009956598, 0.006305257324129343, 0.021151339635252953, 0.0, 0.0, 0.0, 0.0, 0.0, 0.0, 0.0], [0.8520419597625732, 0.005689832381904125, 0.0015785815194249153, 0.002065886976197362, 0.0005314364098012447, 0.000870916701387614, 0.085600346326828, 0.051621101796627045, 0.0, 0.0, 0.0, 0.0, 0.0, 0.0], [0.93893963098526, 0.01821017451584339, 0.007087281439453363, 0.009591121226549149, 0.0006187245598994195, 0.0035578019451349974, 0.003664998570457101, 0.010038328357040882, 0.008291851729154587, 0.0, 0.0, 0.0, 0.0, 0.0], [0.8773499727249146, 0.0030767288990318775, 0.020214632153511047, 0.03287021070718765, 0.0023281716275960207, 0.004559621214866638, 0.003920478746294975, 0.014460310339927673, 0.009954285807907581, 0.031265635043382645, 0.0, 0.0, 0.0, 0.0], [0.9317259192466736, 0.003885467303916812, 0.009856841526925564, 0.019640019163489342, 0.0056278398260474205, 0.0051331231370568275, 0.000453279324574396, 0.003408170072361827, 0.005101005081087351, 0.0013287720503285527, 0.013839541003108025, 0.0, 0.0, 0.0], [0.9305490851402283, 0.0016563370591029525, 0.004380035679787397, 0.017437029629945755, 0.0020847602281719446, 0.012276917695999146, 0.0020719177555292845, 0.008962544612586498, 0.00506571913138032, 0.0015781502006575465, 0.009416652843356133, 0.004520689602941275, 0.0, 0.0], [0.9314388632774353, 0.0030546439811587334, 0.0008585735922679305, 0.007046367973089218, 0.007615025155246258, 0.031689535826444626, 0.0011276376899331808, 0.0011820882791653275, 0.003442716784775257, 0.0017332220450043678, 0.0019581636879593134, 0.0025862902402877808, 0.006266918499022722, 0.0], [0.5989384651184082, 0.0046526347286999226, 0.0008589330827817321, 0.0028676956426352262, 0.0012150696711614728, 0.00831681676208973, 0.32065263390541077, 0.013361086137592793, 0.026903629302978516, 0.0005478623788803816, 0.000791243277490139, 0.0006948757800273597, 0.004395609255880117, 0.01580331288278103]]], [[[1.0, 0.0, 0.0, 0.0, 0.0, 0.0, 0.0, 0.0, 0.0, 0.0, 0.0, 0.0, 0.0, 0.0], [0.977423369884491, 0.022576656192541122, 0.0, 0.0, 0.0, 0.0, 0.0, 0.0, 0.0, 0.0, 0.0, 0.0, 0.0, 0.0], [0.9196407794952393, 0.03977281600236893, 0.04058641567826271, 0.0, 0.0, 0.0, 0.0, 0.0, 0.0, 0.0, 0.0, 0.0, 0.0, 0.0], [0.8866867423057556, 0.04528091847896576, 0.03222408518195152, 0.03580823168158531, 0.0, 0.0, 0.0, 0.0, 0.0, 0.0, 0.0, 0.0, 0.0, 0.0], [0.9111836552619934, 0.013002202846109867, 0.009948918595910072, 0.011172501370310783, 0.0546928271651268, 0.0, 0.0, 0.0, 0.0, 0.0, 0.0, 0.0, 0.0, 0.0], [0.8020085692405701, 0.038745734840631485, 0.03618847206234932, 0.039020515978336334, 0.024532753974199295, 0.059504032135009766, 0.0, 0.0, 0.0, 0.0, 0.0, 0.0, 0.0, 0.0], [0.6984077095985413, 0.03237979859113693, 0.030845239758491516, 0.021413667127490044, 0.04049009457230568, 0.1141558364033699, 0.06230767071247101, 0.0, 0.0, 0.0, 0.0, 0.0, 0.0, 0.0], [0.8150027394294739, 0.007347356528043747, 0.015583393163979053, 0.027166379615664482, 0.02647247724235058, 0.04489496722817421, 0.050226520746946335, 0.013306322507560253, 0.0, 0.0, 0.0, 0.0, 0.0, 0.0], [0.5844122767448425, 0.023221850395202637, 0.02078116685152054, 0.05717046931385994, 0.06911270320415497, 0.04291077330708504, 0.05416014418005943, 0.06301619112491608, 0.08521457761526108, 0.0, 0.0, 0.0, 0.0, 0.0], [0.7196450233459473, 0.015589522197842598, 0.01342400535941124, 0.031409554183483124, 0.024507582187652588, 0.040262579917907715, 0.0318567231297493, 0.03788729012012482, 0.06532157212495804, 0.020096125081181526, 0.0, 0.0, 0.0, 0.0], [0.714629590511322, 0.013760179281234741, 0.007577140815556049, 0.016839293763041496, 0.03518853336572647, 0.040777433663606644, 0.01389086153358221, 0.04498128965497017, 0.021800043061375618, 0.03932257741689682, 0.051233064383268356, 0.0, 0.0, 0.0], [0.6195405125617981, 0.023611970245838165, 0.02088269218802452, 0.028396567329764366, 0.05156145617365837, 0.03473565727472305, 0.01379256509244442, 0.02870091237127781, 0.05035668611526489, 0.033824384212493896, 0.03833049535751343, 0.05626608431339264, 0.0, 0.0], [0.7749884724617004, 0.013786758296191692, 0.013338788412511349, 0.008711227215826511, 0.012853968888521194, 0.06322700530290604, 0.038928285241127014, 0.012000170536339283, 0.024053312838077545, 0.005012752488255501, 0.004935046192258596, 0.01631319709122181, 0.011851048097014427, 0.0], [0.7151407599449158, 0.01761750690639019, 0.007616685703396797, 0.009152892976999283, 0.00575972581282258, 0.04535982385277748, 0.05107457563281059, 0.021010402590036392, 0.069420225918293, 0.0038350452668964863, 0.004385524429380894, 0.008633675053715706, 0.0031206985004246235, 0.037872470915317535]], [[1.0, 0.0, 0.0, 0.0, 0.0, 0.0, 0.0, 0.0, 0.0, 0.0, 0.0, 0.0, 0.0, 0.0], [0.9490429759025574, 0.050956979393959045, 0.0, 0.0, 0.0, 0.0, 0.0, 0.0, 0.0, 0.0, 0.0, 0.0, 0.0, 0.0], [0.9930777549743652, 0.004084113519638777, 0.0028381473384797573, 0.0, 0.0, 0.0, 0.0, 0.0, 0.0, 0.0, 0.0, 0.0, 0.0, 0.0], [0.9467010498046875, 0.03570073843002319, 0.003172861644998193, 0.014425468631088734, 0.0, 0.0, 0.0, 0.0, 0.0, 0.0, 0.0, 0.0, 0.0, 0.0], [0.9748753309249878, 0.01676679588854313, 0.00226033222861588, 0.0028031272813677788, 0.003294417867437005, 0.0, 0.0, 0.0, 0.0, 0.0, 0.0, 0.0, 0.0, 0.0], [0.8987958431243896, 0.032584480941295624, 0.018344130367040634, 0.028152132406830788, 0.011377722956240177, 0.010745801031589508, 0.0, 0.0, 0.0, 0.0, 0.0, 0.0, 0.0, 0.0], [0.8071757555007935, 0.07766131311655045, 0.013876787386834621, 0.032160885632038116, 0.02869129553437233, 0.009387950412929058, 0.031046060845255852, 0.0, 0.0, 0.0, 0.0, 0.0, 0.0, 0.0], [0.7911032438278198, 0.026623936370015144, 0.020826177671551704, 0.013035550713539124, 0.007050581742078066, 0.006801834795624018, 0.09116977453231812, 0.04338891804218292, 0.0, 0.0, 0.0, 0.0, 0.0, 0.0], [0.8312695026397705, 0.07073145359754562, 0.02715602144598961, 0.028290867805480957, 0.009591985493898392, 0.01324241328984499, 0.0035041130613535643, 0.013908297754824162, 0.0023054732009768486, 0.0, 0.0, 0.0, 0.0, 0.0], [0.8142443299293518, 0.002740797121077776, 0.06165219470858574, 0.045377008616924286, 0.017050134018063545, 0.009047288447618484, 0.012313255108892918, 0.02402782067656517, 0.007221093866974115, 0.006326052825897932, 0.0, 0.0, 0.0, 0.0], [0.9527865052223206, 0.004107026848942041, 0.011236555874347687, 0.005155759397894144, 0.0026196518447250128, 0.010134806856513023, 0.003625228302553296, 0.005331442225724459, 0.0008751898421905935, 0.003423914546146989, 0.0007037627510726452, 0.0, 0.0, 0.0], [0.9230042695999146, 0.0030359437223523855, 0.011810950003564358, 0.007162712514400482, 0.005343971308320761, 0.006716650910675526, 0.006140596233308315, 0.010529093444347382, 0.0030820767860859632, 0.003426716895774007, 0.005217299330979586, 0.014529794454574585, 0.0, 0.0], [0.9693763852119446, 0.006294517312198877, 0.0007666222518309951, 0.004095311276614666, 0.0019154766341671348, 0.003935510758310556, 0.003299657953903079, 0.0010985645931214094, 0.001272460911422968, 0.0005814280593767762, 0.00022066195379011333, 0.0009984165662899613, 0.006144935730844736, 0.0], [0.7121832370758057, 0.03581186383962631, 0.013497316278517246, 0.015429733321070671, 0.009581142105162144, 0.00892700906842947, 0.10098841041326523, 0.012535040266811848, 0.031891509890556335, 0.017319416627287865, 0.004242889583110809, 0.014268986880779266, 0.017534323036670685, 0.005789014510810375]], [[1.0, 0.0, 0.0, 0.0, 0.0, 0.0, 0.0, 0.0, 0.0, 0.0, 0.0, 0.0, 0.0, 0.0], [0.97501140832901, 0.024988560006022453, 0.0, 0.0, 0.0, 0.0, 0.0, 0.0, 0.0, 0.0, 0.0, 0.0, 0.0, 0.0], [0.9193010926246643, 0.04318849742412567, 0.03751041367650032, 0.0, 0.0, 0.0, 0.0, 0.0, 0.0, 0.0, 0.0, 0.0, 0.0, 0.0], [0.8232775330543518, 0.05274611711502075, 0.06165362522006035, 0.06232277303934097, 0.0, 0.0, 0.0, 0.0, 0.0, 0.0, 0.0, 0.0, 0.0, 0.0], [0.8807376027107239, 0.03194684907793999, 0.026561707258224487, 0.03346194326877594, 0.027291836217045784, 0.0, 0.0, 0.0, 0.0, 0.0, 0.0, 0.0, 0.0, 0.0], [0.4661935865879059, 0.10369541496038437, 0.044078923761844635, 0.08765657246112823, 0.05467978119850159, 0.2436956763267517, 0.0, 0.0, 0.0, 0.0, 0.0, 0.0, 0.0, 0.0], [0.27926382422447205, 0.057305216789245605, 0.027029071003198624, 0.05338514596223831, 0.0444072000682354, 0.17391808331012726, 0.3646914064884186, 0.0, 0.0, 0.0, 0.0, 0.0, 0.0, 0.0], [0.28367120027542114, 0.02703375183045864, 0.018000900745391846, 0.025437023490667343, 0.026323171332478523, 0.12372114509344101, 0.318904310464859, 0.17690850794315338, 0.0, 0.0, 0.0, 0.0, 0.0, 0.0], [0.3384948670864105, 0.06559913605451584, 0.018139634281396866, 0.019244184717535973, 0.02706529200077057, 0.11531521379947662, 0.153237447142601, 0.1967463493347168, 0.06615795940160751, 0.0, 0.0, 0.0, 0.0, 0.0], [0.44332462549209595, 0.023906007409095764, 0.01130314078181982, 0.018106648698449135, 0.03586011752486229, 0.1265333741903305, 0.08131040632724762, 0.12851300835609436, 0.08345434069633484, 0.0476883240044117, 0.0, 0.0, 0.0, 0.0], [0.5801146626472473, 0.010606319643557072, 0.011039628647267818, 0.014020211063325405, 0.014620398171246052, 0.07823769003152847, 0.09540489315986633, 0.0982917845249176, 0.06212121248245239, 0.013709013350307941, 0.02183416858315468, 0.0, 0.0, 0.0], [0.6069410443305969, 0.009796259924769402, 0.008669115602970123, 0.017432039603590965, 0.01678890734910965, 0.05842647701501846, 0.06892156600952148, 0.06906260550022125, 0.02547251246869564, 0.0153218237683177, 0.016718702390789986, 0.08644886314868927, 0.0, 0.0], [0.5848564505577087, 0.010790960863232613, 0.009028815664350986, 0.016465825960040092, 0.021096859127283096, 0.06557665765285492, 0.10655157268047333, 0.04125222563743591, 0.04610598832368851, 0.013120151124894619, 0.008203898556530476, 0.030269768089056015, 0.04668087512254715, 0.0], [0.18751952052116394, 0.03037341870367527, 0.01616779901087284, 0.015502199530601501, 0.023660754784941673, 0.062377139925956726, 0.27890804409980774, 0.06048059090971947, 0.050471216440200806, 0.0207288209348917, 0.01061350479722023, 0.06498934328556061, 0.049551256000995636, 0.12865638732910156]], [[1.0, 0.0, 0.0, 0.0, 0.0, 0.0, 0.0, 0.0, 0.0, 0.0, 0.0, 0.0, 0.0, 0.0], [0.9398906826972961, 0.06010935828089714, 0.0, 0.0, 0.0, 0.0, 0.0, 0.0, 0.0, 0.0, 0.0, 0.0, 0.0, 0.0], [0.853079617023468, 0.09513591229915619, 0.05178455635905266, 0.0, 0.0, 0.0, 0.0, 0.0, 0.0, 0.0, 0.0, 0.0, 0.0, 0.0], [0.7819388508796692, 0.10143052041530609, 0.0671960785984993, 0.0494346059858799, 0.0, 0.0, 0.0, 0.0, 0.0, 0.0, 0.0, 0.0, 0.0, 0.0], [0.8866931796073914, 0.04375482723116875, 0.03848819434642792, 0.012520522810518742, 0.018543168902397156, 0.0, 0.0, 0.0, 0.0, 0.0, 0.0, 0.0, 0.0, 0.0], [0.7584311962127686, 0.04942167177796364, 0.06387640535831451, 0.03626571595668793, 0.03421715274453163, 0.057787876576185226, 0.0, 0.0, 0.0, 0.0, 0.0, 0.0, 0.0, 0.0], [0.7091302871704102, 0.04512907564640045, 0.05275851860642433, 0.049909014254808426, 0.041543908417224884, 0.04032793641090393, 0.06120122969150543, 0.0, 0.0, 0.0, 0.0, 0.0, 0.0, 0.0], [0.6761313676834106, 0.048193033784627914, 0.038143012672662735, 0.042372189462184906, 0.01777910254895687, 0.07389150559902191, 0.07246095687150955, 0.031028788536787033, 0.0, 0.0, 0.0, 0.0, 0.0, 0.0], [0.7373428344726562, 0.02968265488743782, 0.01992052048444748, 0.02302129566669464, 0.07023397088050842, 0.05504505708813667, 0.021678421646356583, 0.014940016902983189, 0.02813524752855301, 0.0, 0.0, 0.0, 0.0, 0.0], [0.5891610383987427, 0.032608047127723694, 0.023876488208770752, 0.06412602961063385, 0.11701469868421555, 0.06284943968057632, 0.03947686403989792, 0.019476739689707756, 0.04130350053310394, 0.010107121430337429, 0.0, 0.0, 0.0, 0.0], [0.8572668433189392, 0.024821750819683075, 0.01674213632941246, 0.007174778264015913, 0.010275175794959068, 0.021368082612752914, 0.018492741510272026, 0.011159970425069332, 0.028488880023360252, 0.002765384968370199, 0.0014442336978390813, 0.0, 0.0, 0.0], [0.5895955562591553, 0.0273609459400177, 0.02075064368546009, 0.024440357461571693, 0.14300841093063354, 0.05731263756752014, 0.04123680293560028, 0.023258205503225327, 0.04008469358086586, 0.007017543539404869, 0.009427757933735847, 0.016506502404808998, 0.0, 0.0], [0.6513399481773376, 0.06691458076238632, 0.03209388628602028, 0.00920988991856575, 0.015963925048708916, 0.04562446102499962, 0.038957029581069946, 0.01447747740894556, 0.03213128447532654, 0.01042649894952774, 0.0021342767868191004, 0.009329145774245262, 0.07139754295349121, 0.0], [0.6959253549575806, 0.02398226037621498, 0.02761073037981987, 0.009663974866271019, 0.008590396493673325, 0.03365986794233322, 0.03610287606716156, 0.021728765219449997, 0.014711825177073479, 0.010234171524643898, 0.002194090746343136, 0.015498585067689419, 0.013780560344457626, 0.08631651848554611]], [[1.0, 0.0, 0.0, 0.0, 0.0, 0.0, 0.0, 0.0, 0.0, 0.0, 0.0, 0.0, 0.0, 0.0], [0.9640522599220276, 0.03594782203435898, 0.0, 0.0, 0.0, 0.0, 0.0, 0.0, 0.0, 0.0, 0.0, 0.0, 0.0, 0.0], [0.8720331192016602, 0.11560271680355072, 0.012364102527499199, 0.0, 0.0, 0.0, 0.0, 0.0, 0.0, 0.0, 0.0, 0.0, 0.0, 0.0], [0.6839606761932373, 0.0798163041472435, 0.08339650183916092, 0.15282653272151947, 0.0, 0.0, 0.0, 0.0, 0.0, 0.0, 0.0, 0.0, 0.0, 0.0], [0.8058080077171326, 0.016589315608143806, 0.021142728626728058, 0.12487474083900452, 0.031585127115249634, 0.0, 0.0, 0.0, 0.0, 0.0, 0.0, 0.0, 0.0, 0.0], [0.8194538354873657, 0.03641829267144203, 0.00757244136184454, 0.03184106573462486, 0.06750471144914627, 0.03720959275960922, 0.0, 0.0, 0.0, 0.0, 0.0, 0.0, 0.0, 0.0], [0.8531826734542847, 0.01712041348218918, 0.0018945859046652913, 0.0032922117970883846, 0.007363098207861185, 0.05660667270421982, 0.060540471225976944, 0.0, 0.0, 0.0, 0.0, 0.0, 0.0, 0.0], [0.603140115737915, 0.014698120765388012, 0.002193850465118885, 0.001013729372061789, 0.0026141793932765722, 0.03431188687682152, 0.25087109208106995, 0.09115701913833618, 0.0, 0.0, 0.0, 0.0, 0.0, 0.0], [0.5111845135688782, 0.004446125589311123, 0.0022205710411071777, 0.00660617183893919, 0.005654531065374613, 0.01650873012840748, 0.2597939372062683, 0.1680450588464737, 0.025540286675095558, 0.0, 0.0, 0.0, 0.0, 0.0], [0.46575918793678284, 0.0033054715022444725, 0.0012934195110574365, 0.0019940740894526243, 0.007469970267266035, 0.012082290835678577, 0.31104952096939087, 0.12963663041591644, 0.05604584887623787, 0.011363589204847813, 0.0, 0.0, 0.0, 0.0], [0.5824437737464905, 0.006620291620492935, 0.003977119456976652, 0.003880527801811695, 0.01722114346921444, 0.014748328365385532, 0.11145923286676407, 0.06371896713972092, 0.10221979767084122, 0.06175484135746956, 0.031956035643815994, 0.0, 0.0, 0.0], [0.5251221060752869, 0.0038558361120522022, 0.0014500792603939772, 0.0060420893132686615, 0.017517106607556343, 0.00908706896007061, 0.12997432053089142, 0.06256585568189621, 0.06775622814893723, 0.05493946373462677, 0.038152944296598434, 0.08353673666715622, 0.0, 0.0], [0.8287180662155151, 0.0007483498775400221, 0.0005253396811895072, 0.0009943852201104164, 0.0014409160939976573, 0.005780244246125221, 0.031430166214704514, 0.0061669135466217995, 0.0070062060840427876, 0.0062887161038815975, 0.001192668336443603, 0.017908435314893723, 0.09179963916540146, 0.0], [0.789661169052124, 0.0055406889878213406, 0.0022427693475037813, 0.00312905665487051, 0.004494824446737766, 0.010840768925845623, 0.04537003114819527, 0.03484606742858887, 0.01064365915954113, 0.00607534684240818, 0.0012890654616057873, 0.009219659492373466, 0.041578616946935654, 0.0350683219730854]], [[1.0, 0.0, 0.0, 0.0, 0.0, 0.0, 0.0, 0.0, 0.0, 0.0, 0.0, 0.0, 0.0, 0.0], [0.9740059971809387, 0.02599402703344822, 0.0, 0.0, 0.0, 0.0, 0.0, 0.0, 0.0, 0.0, 0.0, 0.0, 0.0, 0.0], [0.9076339602470398, 0.08246210217475891, 0.00990393478423357, 0.0, 0.0, 0.0, 0.0, 0.0, 0.0, 0.0, 0.0, 0.0, 0.0, 0.0], [0.8099424242973328, 0.06197962164878845, 0.07667478919029236, 0.051403068006038666, 0.0, 0.0, 0.0, 0.0, 0.0, 0.0, 0.0, 0.0, 0.0, 0.0], [0.7235361337661743, 0.07965811342000961, 0.03739356994628906, 0.1202685758471489, 0.039143696427345276, 0.0, 0.0, 0.0, 0.0, 0.0, 0.0, 0.0, 0.0, 0.0], [0.6699990034103394, 0.032957762479782104, 0.019111676141619682, 0.045026712119579315, 0.1313106119632721, 0.10159426182508469, 0.0, 0.0, 0.0, 0.0, 0.0, 0.0, 0.0, 0.0], [0.6434833407402039, 0.03966289758682251, 0.01788574829697609, 0.022628087550401688, 0.05239129811525345, 0.11122668534517288, 0.11272192001342773, 0.0, 0.0, 0.0, 0.0, 0.0, 0.0, 0.0], [0.4962787628173828, 0.030736416578292847, 0.01709473505616188, 0.017820565029978752, 0.05162627249956131, 0.08183135092258453, 0.2757425606250763, 0.028869297355413437, 0.0, 0.0, 0.0, 0.0, 0.0, 0.0], [0.7163379788398743, 0.011949673295021057, 0.0064430031925439835, 0.011915313079953194, 0.03401739522814751, 0.048194754868745804, 0.07825808227062225, 0.05849124491214752, 0.034392550587654114, 0.0, 0.0, 0.0, 0.0, 0.0], [0.6427942514419556, 0.00504691805690527, 0.0034057360608130693, 0.011429578065872192, 0.01378139853477478, 0.023284537717700005, 0.08627918362617493, 0.04546669125556946, 0.14787869155406952, 0.02063303254544735, 0.0, 0.0, 0.0, 0.0], [0.24342408776283264, 0.018354853615164757, 0.00557372672483325, 0.007430965546518564, 0.01434245239943266, 0.026077482849359512, 0.11965558677911758, 0.07099009305238724, 0.18522343039512634, 0.26337161660194397, 0.045555613934993744, 0.0, 0.0, 0.0], [0.33926641941070557, 0.013763509690761566, 0.004821432754397392, 0.009075132198631763, 0.025097493082284927, 0.011682436801493168, 0.07226799428462982, 0.021542243659496307, 0.23669001460075378, 0.14342047274112701, 0.09224603325128555, 0.030126793310046196, 0.0, 0.0], [0.320296972990036, 0.018709437921643257, 0.01049930788576603, 0.008439473807811737, 0.015399646945297718, 0.022821640595793724, 0.0815512165427208, 0.03399817273020744, 0.08809853345155716, 0.09761679172515869, 0.0856294259428978, 0.14943811297416687, 0.06750129908323288, 0.0], [0.4988609254360199, 0.019660787656903267, 0.01168788317590952, 0.010516186244785786, 0.04209943115711212, 0.08540504425764084, 0.07735130935907364, 0.03273748978972435, 0.019423969089984894, 0.024019209668040276, 0.014841101132333279, 0.024823863059282303, 0.08389757573604584, 0.05467516928911209]], [[1.0, 0.0, 0.0, 0.0, 0.0, 0.0, 0.0, 0.0, 0.0, 0.0, 0.0, 0.0, 0.0, 0.0], [0.966238260269165, 0.03376169875264168, 0.0, 0.0, 0.0, 0.0, 0.0, 0.0, 0.0, 0.0, 0.0, 0.0, 0.0, 0.0], [0.9847507476806641, 0.009687714278697968, 0.005561507306993008, 0.0, 0.0, 0.0, 0.0, 0.0, 0.0, 0.0, 0.0, 0.0, 0.0, 0.0], [0.9633936882019043, 0.016512392088770866, 0.006635334342718124, 0.013458681292831898, 0.0, 0.0, 0.0, 0.0, 0.0, 0.0, 0.0, 0.0, 0.0, 0.0], [0.931622326374054, 0.019490396603941917, 0.012913624756038189, 0.00488024577498436, 0.031093504279851913, 0.0, 0.0, 0.0, 0.0, 0.0, 0.0, 0.0, 0.0, 0.0], [0.515004575252533, 0.18314383924007416, 0.03596024587750435, 0.016554558649659157, 0.08848219364881516, 0.16085459291934967, 0.0, 0.0, 0.0, 0.0, 0.0, 0.0, 0.0, 0.0], [0.7386288642883301, 0.09367941319942474, 0.023152168840169907, 0.024645552039146423, 0.032094839960336685, 0.04734661057591438, 0.040452565997838974, 0.0, 0.0, 0.0, 0.0, 0.0, 0.0, 0.0], [0.8433089256286621, 0.05382796376943588, 0.021994149312376976, 0.009871275164186954, 0.019973954185843468, 0.012178086675703526, 0.031247666105628014, 0.007598050404340029, 0.0, 0.0, 0.0, 0.0, 0.0, 0.0], [0.5891109704971313, 0.15371721982955933, 0.0772642269730568, 0.01245669461786747, 0.09115374088287354, 0.0424041748046875, 0.0090700788423419, 0.01599864847958088, 0.008824191987514496, 0.0, 0.0, 0.0, 0.0, 0.0], [0.722785472869873, 0.01254130620509386, 0.05177869647741318, 0.04476846009492874, 0.04021289944648743, 0.05635141208767891, 0.021419774740934372, 0.014655834063887596, 0.030596083030104637, 0.004890004638582468, 0.0, 0.0, 0.0, 0.0], [0.8657515645027161, 0.009764700196683407, 0.00509754428640008, 0.003062234725803137, 0.04337729513645172, 0.043789349496364594, 0.012481429614126682, 0.007742693647742271, 0.0025167574640363455, 0.0022297976538538933, 0.004186752252280712, 0.0, 0.0, 0.0], [0.9552502036094666, 0.001403305446729064, 0.0005099980044178665, 0.0029087259899824858, 0.013057592324912548, 0.003697679378092289, 0.0056322310119867325, 0.005455062724649906, 0.008187809027731419, 0.0003953460545744747, 0.0006094704731367528, 0.0028925861697643995, 0.0, 0.0], [0.960192859172821, 0.0014366941759362817, 0.0012812035856768489, 0.0016634567873552442, 0.002316252561286092, 0.007973619736731052, 0.004525098484009504, 0.008808523416519165, 0.0034827422350645065, 0.00017681680037640035, 0.00022343809541780502, 0.0005773212178610265, 0.007341868244111538, 0.0], [0.6323707699775696, 0.05998540669679642, 0.015370221808552742, 0.014340520836412907, 0.018103985115885735, 0.06908614933490753, 0.047914057970047, 0.023944003507494926, 0.022671809419989586, 0.005022955592721701, 0.02011866681277752, 0.017473116517066956, 0.01961742341518402, 0.03398100659251213]], [[1.0, 0.0, 0.0, 0.0, 0.0, 0.0, 0.0, 0.0, 0.0, 0.0, 0.0, 0.0, 0.0, 0.0], [0.799710214138031, 0.20028986036777496, 0.0, 0.0, 0.0, 0.0, 0.0, 0.0, 0.0, 0.0, 0.0, 0.0, 0.0, 0.0], [0.2617572247982025, 0.7068997621536255, 0.031342942267656326, 0.0, 0.0, 0.0, 0.0, 0.0, 0.0, 0.0, 0.0, 0.0, 0.0, 0.0], [0.184273824095726, 0.544483482837677, 0.23324434459209442, 0.03799835592508316, 0.0, 0.0, 0.0, 0.0, 0.0, 0.0, 0.0, 0.0, 0.0, 0.0], [0.39395517110824585, 0.14566941559314728, 0.16499076783657074, 0.264848917722702, 0.030535729601979256, 0.0, 0.0, 0.0, 0.0, 0.0, 0.0, 0.0, 0.0, 0.0], [0.9421206116676331, 0.026842139661312103, 0.004133473616093397, 0.003660846734419465, 0.01599002629518509, 0.007252936717122793, 0.0, 0.0, 0.0, 0.0, 0.0, 0.0, 0.0, 0.0], [0.9045761823654175, 0.018877146765589714, 0.0024998297449201345, 0.006733307149261236, 0.008329467847943306, 0.035160284489393234, 0.02382371388375759, 0.0, 0.0, 0.0, 0.0, 0.0, 0.0, 0.0], [0.7731731534004211, 0.01968221552670002, 0.002434212015941739, 0.002905585803091526, 0.007203697692602873, 0.04393739253282547, 0.12594568729400635, 0.02471812441945076, 0.0, 0.0, 0.0, 0.0, 0.0, 0.0], [0.7578260898590088, 0.01625918224453926, 0.0020662404131144285, 0.00531052378937602, 0.01409568078815937, 0.03625451400876045, 0.049862056970596313, 0.09539011120796204, 0.02293568290770054, 0.0, 0.0, 0.0, 0.0, 0.0], [0.5369577407836914, 0.00925302505493164, 0.0034510225523263216, 0.005670278798788786, 0.01274123229086399, 0.018123989924788475, 0.0514974519610405, 0.02674478478729725, 0.2556234300136566, 0.0799369066953659, 0.0, 0.0, 0.0, 0.0], [0.5576096773147583, 0.017742836847901344, 0.004442259203642607, 0.004721759352833033, 0.005429065320640802, 0.023872828111052513, 0.03283556178212166, 0.027597887441515923, 0.16439898312091827, 0.15306156873703003, 0.008287577889859676, 0.0, 0.0, 0.0], [0.5325148105621338, 0.007526069413870573, 0.0027613199781626463, 0.002945884130895138, 0.007367454003542662, 0.025281043723225594, 0.04920782148838043, 0.010460259392857552, 0.12662525475025177, 0.08352884650230408, 0.06820215284824371, 0.08357900381088257, 0.0, 0.0], [0.8300154209136963, 0.003915196284651756, 0.0015535569982603192, 0.0016116905026137829, 0.0036343305837363005, 0.014683078974485397, 0.015963491052389145, 0.003180002560839057, 0.012769769877195358, 0.013547355309128761, 0.01086950022727251, 0.03361037001013756, 0.054646242409944534, 0.0], [0.9380554556846619, 0.002902562962844968, 0.0007561101228930056, 0.0004860771878156811, 0.002140792552381754, 0.001956139225512743, 0.006594900041818619, 0.0030841452535241842, 0.002499061869457364, 0.003031123662367463, 0.0024558543227612972, 0.005130958277732134, 0.0239349827170372, 0.006971820257604122]], [[1.0, 0.0, 0.0, 0.0, 0.0, 0.0, 0.0, 0.0, 0.0, 0.0, 0.0, 0.0, 0.0, 0.0], [0.9386388659477234, 0.061361175030469894, 0.0, 0.0, 0.0, 0.0, 0.0, 0.0, 0.0, 0.0, 0.0, 0.0, 0.0, 0.0], [0.8308618664741516, 0.14442801475524902, 0.024710074067115784, 0.0, 0.0, 0.0, 0.0, 0.0, 0.0, 0.0, 0.0, 0.0, 0.0, 0.0], [0.6629433035850525, 0.2277803272008896, 0.06946104019880295, 0.039815373718738556, 0.0, 0.0, 0.0, 0.0, 0.0, 0.0, 0.0, 0.0, 0.0, 0.0], [0.8707120418548584, 0.03830404207110405, 0.03146025910973549, 0.026283172890543938, 0.03324049338698387, 0.0, 0.0, 0.0, 0.0, 0.0, 0.0, 0.0, 0.0, 0.0], [0.6398454308509827, 0.11901023983955383, 0.03189854323863983, 0.06759219616651535, 0.0735081359744072, 0.06814539432525635, 0.0, 0.0, 0.0, 0.0, 0.0, 0.0, 0.0, 0.0], [0.5215676426887512, 0.10561354458332062, 0.0475538894534111, 0.08313403278589249, 0.11259541660547256, 0.07787278294563293, 0.05166266858577728, 0.0, 0.0, 0.0, 0.0, 0.0, 0.0, 0.0], [0.49164101481437683, 0.07381949573755264, 0.05516219884157181, 0.052776362746953964, 0.09134689718484879, 0.12449928373098373, 0.08491379767656326, 0.025840936228632927, 0.0, 0.0, 0.0, 0.0, 0.0, 0.0], [0.5227029919624329, 0.0648457333445549, 0.036653969436883926, 0.07873482257127762, 0.1511048823595047, 0.0739300474524498, 0.03973314166069031, 0.01266808807849884, 0.01962634176015854, 0.0, 0.0, 0.0, 0.0, 0.0], [0.526129961013794, 0.03123505413532257, 0.0422324612736702, 0.10732543468475342, 0.08733948320150375, 0.05169219523668289, 0.06616534292697906, 0.01845085807144642, 0.031168147921562195, 0.03826113045215607, 0.0, 0.0, 0.0, 0.0], [0.49079981446266174, 0.07434563338756561, 0.0392703115940094, 0.0872519463300705, 0.10424742847681046, 0.05417656898498535, 0.03895685076713562, 0.013353005982935429, 0.03521323204040527, 0.03812764585018158, 0.024257581681013107, 0.0, 0.0, 0.0], [0.29330796003341675, 0.05636845529079437, 0.03254261985421181, 0.11507180333137512, 0.13387317955493927, 0.12549936771392822, 0.0372258760035038, 0.010444549843668938, 0.025604503229260445, 0.035026807337999344, 0.06625300645828247, 0.06878182291984558, 0.0, 0.0], [0.6688733696937561, 0.03506472706794739, 0.014853043481707573, 0.04035164415836334, 0.03718062490224838, 0.03345734253525734, 0.02118483930826187, 0.005474403500556946, 0.016692114993929863, 0.0076908874325454235, 0.003659535199403763, 0.015050085261464119, 0.10046734660863876, 0.0], [0.6052157282829285, 0.027877356857061386, 0.014982253313064575, 0.018124084919691086, 0.01721132919192314, 0.019070355221629143, 0.023418202996253967, 0.019456306472420692, 0.019684704020619392, 0.007005155086517334, 0.015362800098955631, 0.021802887320518494, 0.15364699065685272, 0.0371418334543705]], [[1.0, 0.0, 0.0, 0.0, 0.0, 0.0, 0.0, 0.0, 0.0, 0.0, 0.0, 0.0, 0.0, 0.0], [0.9630146622657776, 0.03698529675602913, 0.0, 0.0, 0.0, 0.0, 0.0, 0.0, 0.0, 0.0, 0.0, 0.0, 0.0, 0.0], [0.8848019242286682, 0.06494762748479843, 0.050250399857759476, 0.0, 0.0, 0.0, 0.0, 0.0, 0.0, 0.0, 0.0, 0.0, 0.0, 0.0], [0.7803124189376831, 0.0698116347193718, 0.048593662679195404, 0.10128233581781387, 0.0, 0.0, 0.0, 0.0, 0.0, 0.0, 0.0, 0.0, 0.0, 0.0], [0.8433914184570312, 0.03272225335240364, 0.03260531276464462, 0.03794832527637482, 0.053332578390836716, 0.0, 0.0, 0.0, 0.0, 0.0, 0.0, 0.0, 0.0, 0.0], [0.84676194190979, 0.0331890806555748, 0.01940925046801567, 0.027042606845498085, 0.02477334626019001, 0.04882378131151199, 0.0, 0.0, 0.0, 0.0, 0.0, 0.0, 0.0, 0.0], [0.7428073287010193, 0.034363213926553726, 0.017924973741173744, 0.032140813767910004, 0.04463856294751167, 0.09035034477710724, 0.03777468949556351, 0.0, 0.0, 0.0, 0.0, 0.0, 0.0, 0.0], [0.631466805934906, 0.03156673163175583, 0.020723948255181313, 0.03279422968626022, 0.03415655344724655, 0.10895651578903198, 0.10670480877161026, 0.03363034129142761, 0.0, 0.0, 0.0, 0.0, 0.0, 0.0], [0.7994955778121948, 0.018379393965005875, 0.01661306992173195, 0.024604540318250656, 0.023930134251713753, 0.04487473890185356, 0.02849053032696247, 0.024132834747433662, 0.019479159265756607, 0.0, 0.0, 0.0, 0.0, 0.0], [0.7870902419090271, 0.015327183529734612, 0.01877407729625702, 0.03628839552402496, 0.03029683418571949, 0.03897038847208023, 0.0138653963804245, 0.01480516605079174, 0.02753506414592266, 0.01704721711575985, 0.0, 0.0, 0.0, 0.0], [0.8953160047531128, 0.005170641466975212, 0.008139670826494694, 0.02116597630083561, 0.02196531370282173, 0.01295197382569313, 0.006529097445309162, 0.008516620844602585, 0.007660753093659878, 0.0058308872394263744, 0.006752954795956612, 0.0, 0.0, 0.0], [0.8443191647529602, 0.0066532171331346035, 0.012125864624977112, 0.020658111199736595, 0.023723987862467766, 0.02481788396835327, 0.011214998550713062, 0.015106137841939926, 0.011165129952132702, 0.008108401671051979, 0.011879070661962032, 0.010228189639747143, 0.0, 0.0], [0.8473203778266907, 0.010294093750417233, 0.006988413166254759, 0.005717040039598942, 0.009075598791241646, 0.00889124721288681, 0.007251168601214886, 0.0036866883747279644, 0.01275620423257351, 0.003494926728308201, 0.00905280839651823, 0.00603879801928997, 0.06943253427743912, 0.0], [0.48238879442214966, 0.015612666495144367, 0.011179118417203426, 0.011056756600737572, 0.010747834108769894, 0.03705604374408722, 0.07197900116443634, 0.02134617418050766, 0.0319923534989357, 0.017988458275794983, 0.01892680861055851, 0.03207894414663315, 0.15980377793312073, 0.07784318923950195]], [[1.0, 0.0, 0.0, 0.0, 0.0, 0.0, 0.0, 0.0, 0.0, 0.0, 0.0, 0.0, 0.0, 0.0], [0.944852352142334, 0.05514765903353691, 0.0, 0.0, 0.0, 0.0, 0.0, 0.0, 0.0, 0.0, 0.0, 0.0, 0.0, 0.0], [0.8623100519180298, 0.0732099711894989, 0.06448002904653549, 0.0, 0.0, 0.0, 0.0, 0.0, 0.0, 0.0, 0.0, 0.0, 0.0, 0.0], [0.7781650424003601, 0.10287880897521973, 0.03979036584496498, 0.07916576415300369, 0.0, 0.0, 0.0, 0.0, 0.0, 0.0, 0.0, 0.0, 0.0, 0.0], [0.8453438878059387, 0.03894969820976257, 0.030766669660806656, 0.04003021866083145, 0.044909533113241196, 0.0, 0.0, 0.0, 0.0, 0.0, 0.0, 0.0, 0.0, 0.0], [0.7046573162078857, 0.0610293447971344, 0.051451101899147034, 0.030099084600806236, 0.07033960521221161, 0.08242356777191162, 0.0, 0.0, 0.0, 0.0, 0.0, 0.0, 0.0, 0.0], [0.7492187023162842, 0.058684322983026505, 0.04148026555776596, 0.015199679881334305, 0.03246702998876572, 0.04119354858994484, 0.06175633892416954, 0.0, 0.0, 0.0, 0.0, 0.0, 0.0, 0.0], [0.7232107520103455, 0.059978749603033066, 0.04375854879617691, 0.008807838894426823, 0.020108411088585854, 0.039325349032878876, 0.07483597844839096, 0.029974306002259254, 0.0, 0.0, 0.0, 0.0, 0.0, 0.0], [0.6984867453575134, 0.0405229851603508, 0.03108801320195198, 0.019652951508760452, 0.03763829916715622, 0.07315508276224136, 0.038020167499780655, 0.026990825310349464, 0.034445036202669144, 0.0, 0.0, 0.0, 0.0, 0.0], [0.5887132883071899, 0.01824086159467697, 0.037521928548812866, 0.038154859095811844, 0.05237989500164986, 0.05644461512565613, 0.06661053746938705, 0.04537279158830643, 0.033201754093170166, 0.06335952132940292, 0.0, 0.0, 0.0, 0.0], [0.628334105014801, 0.021370500326156616, 0.02622132934629917, 0.014294068329036236, 0.09205987304449081, 0.08773598074913025, 0.014103278517723083, 0.022245759144425392, 0.0348152220249176, 0.02351502701640129, 0.035304781049489975, 0.0, 0.0, 0.0], [0.5161744952201843, 0.02650764398276806, 0.029255980625748634, 0.025043733417987823, 0.09640037268400192, 0.10574696958065033, 0.017641594633460045, 0.01741599664092064, 0.04193778336048126, 0.02486896887421608, 0.02759012207388878, 0.07141632586717606, 0.0, 0.0], [0.612086832523346, 0.0407961942255497, 0.014074867591261864, 0.00708959624171257, 0.04097553715109825, 0.07139244675636292, 0.0182996466755867, 0.01158909872174263, 0.051484763622283936, 0.016546202823519707, 0.005918093957006931, 0.027895487844944, 0.08185121417045593, 0.0], [0.5111894011497498, 0.02353583835065365, 0.017287753522396088, 0.0037922419141978025, 0.010045074857771397, 0.02760498970746994, 0.13160690665245056, 0.024989765137434006, 0.047019802033901215, 0.015445391647517681, 0.004025118425488472, 0.024840829893946648, 0.04563038796186447, 0.1129864752292633]], [[1.0, 0.0, 0.0, 0.0, 0.0, 0.0, 0.0, 0.0, 0.0, 0.0, 0.0, 0.0, 0.0, 0.0], [0.9781674742698669, 0.021832454949617386, 0.0, 0.0, 0.0, 0.0, 0.0, 0.0, 0.0, 0.0, 0.0, 0.0, 0.0, 0.0], [0.9479866623878479, 0.042326584458351135, 0.009686736389994621, 0.0, 0.0, 0.0, 0.0, 0.0, 0.0, 0.0, 0.0, 0.0, 0.0, 0.0], [0.8588236570358276, 0.10317430645227432, 0.017899885773658752, 0.02010214328765869, 0.0, 0.0, 0.0, 0.0, 0.0, 0.0, 0.0, 0.0, 0.0, 0.0], [0.9505132436752319, 0.018861588090658188, 0.016894249245524406, 0.010160687379539013, 0.0035701398737728596, 0.0, 0.0, 0.0, 0.0, 0.0, 0.0, 0.0, 0.0, 0.0], [0.7417382001876831, 0.0846487507224083, 0.0339067280292511, 0.045940134674310684, 0.019374407827854156, 0.07439183443784714, 0.0, 0.0, 0.0, 0.0, 0.0, 0.0, 0.0, 0.0], [0.8571470975875854, 0.030174512416124344, 0.011662691831588745, 0.021622534841299057, 0.02639181725680828, 0.039666447788476944, 0.013334876857697964, 0.0, 0.0, 0.0, 0.0, 0.0, 0.0, 0.0], [0.8450461030006409, 0.02780328318476677, 0.011347407475113869, 0.018588831648230553, 0.016756463795900345, 0.040198929607868195, 0.018281128257513046, 0.021977728232741356, 0.0, 0.0, 0.0, 0.0, 0.0, 0.0], [0.7767179012298584, 0.04491855949163437, 0.014018130488693714, 0.02177635207772255, 0.03168328478932381, 0.04115001857280731, 0.017478803172707558, 0.019167449325323105, 0.03308943286538124, 0.0, 0.0, 0.0, 0.0, 0.0], [0.7978204488754272, 0.014163941144943237, 0.00826707761734724, 0.035605087876319885, 0.03561580181121826, 0.023341158404946327, 0.02593700774013996, 0.01857493817806244, 0.028279997408390045, 0.01239478774368763, 0.0, 0.0, 0.0, 0.0], [0.8647696375846863, 0.013906511478126049, 0.007022131234407425, 0.013627342879772186, 0.013081343844532967, 0.018540455028414726, 0.015329824760556221, 0.020214581862092018, 0.012982217594981194, 0.010872220620512962, 0.009653676301240921, 0.0, 0.0, 0.0], [0.8270886540412903, 0.014469044283032417, 0.008919119834899902, 0.021958936005830765, 0.02523372881114483, 0.02115025371313095, 0.0236880574375391, 0.013708864338696003, 0.013259485363960266, 0.009235868230462074, 0.012333878315985203, 0.00895405001938343, 0.0, 0.0], [0.797339141368866, 0.025001974776387215, 0.007776882499456406, 0.009644017554819584, 0.03073865920305252, 0.021449429914355278, 0.009408668614923954, 0.008786025457084179, 0.03688498213887215, 0.009813538752496243, 0.0037491810508072376, 0.005549982190132141, 0.03385758027434349, 0.0], [0.733736515045166, 0.04066546633839607, 0.016477562487125397, 0.015244743786752224, 0.004329181741923094, 0.026604851707816124, 0.012083271518349648, 0.026176922023296356, 0.032968513667583466, 0.00781962089240551, 0.010278035886585712, 0.008003332652151585, 0.03534352406859398, 0.030268384143710136]]], [[[1.0, 0.0, 0.0, 0.0, 0.0, 0.0, 0.0, 0.0, 0.0, 0.0, 0.0, 0.0, 0.0, 0.0], [0.9371930360794067, 0.06280691176652908, 0.0, 0.0, 0.0, 0.0, 0.0, 0.0, 0.0, 0.0, 0.0, 0.0, 0.0, 0.0], [0.7885909080505371, 0.15867367386817932, 0.05273542180657387, 0.0, 0.0, 0.0, 0.0, 0.0, 0.0, 0.0, 0.0, 0.0, 0.0, 0.0], [0.8211374282836914, 0.13109642267227173, 0.0259237140417099, 0.021842435002326965, 0.0, 0.0, 0.0, 0.0, 0.0, 0.0, 0.0, 0.0, 0.0, 0.0], [0.9243436455726624, 0.014157637022435665, 0.007839268073439598, 0.027011031284928322, 0.026648424565792084, 0.0, 0.0, 0.0, 0.0, 0.0, 0.0, 0.0, 0.0, 0.0], [0.8925323486328125, 0.016977563500404358, 0.014827100560069084, 0.025838645175099373, 0.03279685974121094, 0.017027391120791435, 0.0, 0.0, 0.0, 0.0, 0.0, 0.0, 0.0, 0.0], [0.8076174855232239, 0.019897516816854477, 0.021642841398715973, 0.052595190703868866, 0.06031902879476547, 0.01483425498008728, 0.023093732073903084, 0.0, 0.0, 0.0, 0.0, 0.0, 0.0, 0.0], [0.883240818977356, 0.01791129820048809, 0.011160764843225479, 0.019728193059563637, 0.03434022143483162, 0.014179742895066738, 0.011633344925940037, 0.0078056189231574535, 0.0, 0.0, 0.0, 0.0, 0.0, 0.0], [0.672264575958252, 0.09198509901762009, 0.03837200999259949, 0.04199233278632164, 0.08464136719703674, 0.017297059297561646, 0.02691791206598282, 0.011449644342064857, 0.015080112963914871, 0.0, 0.0, 0.0, 0.0, 0.0], [0.5546826720237732, 0.07226523011922836, 0.03507019579410553, 0.07442702353000641, 0.10423818230628967, 0.01648568920791149, 0.02208106406033039, 0.007777825463563204, 0.07062695175409317, 0.04234505072236061, 0.0, 0.0, 0.0, 0.0], [0.7519797086715698, 0.05888991430401802, 0.023321930319070816, 0.02017899788916111, 0.031201738864183426, 0.006505738012492657, 0.010663514025509357, 0.0023801755160093307, 0.03186999633908272, 0.031360648572444916, 0.03164764866232872, 0.0, 0.0, 0.0], [0.49668973684310913, 0.0625765323638916, 0.04532521218061447, 0.03980280086398125, 0.10583831369876862, 0.0052572074346244335, 0.014093339443206787, 0.003740817541256547, 0.06591726839542389, 0.042960938066244125, 0.09741059690713882, 0.02038721553981304, 0.0, 0.0], [0.9176657199859619, 0.009865392930805683, 0.003113693092018366, 0.0033454815857112408, 0.0048666163347661495, 0.007609402760863304, 0.0021758151706308126, 0.0010981395607814193, 0.005227639339864254, 0.002886965638026595, 0.0007255650125443935, 0.003586490172892809, 0.03783310577273369, 0.0], [0.7986888885498047, 0.0363275371491909, 0.020042041316628456, 0.009869396686553955, 0.008452864363789558, 0.019077228382229805, 0.00932227447628975, 0.005681029986590147, 0.021605363115668297, 0.004498369991779327, 0.004416842479258776, 0.005229454021900892, 0.0350751169025898, 0.021713532507419586]], [[1.0, 0.0, 0.0, 0.0, 0.0, 0.0, 0.0, 0.0, 0.0, 0.0, 0.0, 0.0, 0.0, 0.0], [0.9497689008712769, 0.05023101717233658, 0.0, 0.0, 0.0, 0.0, 0.0, 0.0, 0.0, 0.0, 0.0, 0.0, 0.0, 0.0], [0.9549298286437988, 0.021902145817875862, 0.02316794916987419, 0.0, 0.0, 0.0, 0.0, 0.0, 0.0, 0.0, 0.0, 0.0, 0.0, 0.0], [0.9358855485916138, 0.04265328496694565, 0.003675200743600726, 0.01778593100607395, 0.0, 0.0, 0.0, 0.0, 0.0, 0.0, 0.0, 0.0, 0.0, 0.0], [0.9476527571678162, 0.03115883469581604, 0.007770254742354155, 0.008519094437360764, 0.004898993298411369, 0.0, 0.0, 0.0, 0.0, 0.0, 0.0, 0.0, 0.0, 0.0], [0.8967181444168091, 0.0354921855032444, 0.010702480562031269, 0.02887609973549843, 0.009503744542598724, 0.01870730146765709, 0.0, 0.0, 0.0, 0.0, 0.0, 0.0, 0.0, 0.0], [0.8782075047492981, 0.03442003205418587, 0.007116703316569328, 0.007547617889940739, 0.004187118727713823, 0.017016785219311714, 0.051504138857126236, 0.0, 0.0, 0.0, 0.0, 0.0, 0.0, 0.0], [0.9059498310089111, 0.011361639015376568, 0.002696559764444828, 0.004559741821140051, 0.001746965921483934, 0.0047766705974936485, 0.051133494824171066, 0.017775017768144608, 0.0, 0.0, 0.0, 0.0, 0.0, 0.0], [0.8413857221603394, 0.09772105515003204, 0.01151819247752428, 0.007611227221786976, 0.005726463161408901, 0.012245282530784607, 0.008370370604097843, 0.004808999132364988, 0.010612630285322666, 0.0, 0.0, 0.0, 0.0, 0.0], [0.9081282019615173, 0.011994484812021255, 0.0334070548415184, 0.00939991045743227, 0.002084549516439438, 0.01046343706548214, 0.006952313240617514, 0.002608944196254015, 0.005637899972498417, 0.009323380887508392, 0.0, 0.0, 0.0, 0.0], [0.9572579264640808, 0.0038271676748991013, 0.0023578216787427664, 0.006487324833869934, 0.005511565133929253, 0.008262469433248043, 0.0018182607600465417, 0.0012520157033577561, 0.002017522929236293, 0.004986115265637636, 0.0062218355014920235, 0.0, 0.0, 0.0], [0.9315628409385681, 0.002657560398802161, 0.0026492804754525423, 0.0031563343945890665, 0.002549901604652405, 0.0025039254687726498, 0.0025206308346241713, 0.0012883726740255952, 0.004702576901763678, 0.0027758225332945585, 0.006338660605251789, 0.037293918430805206, 0.0, 0.0], [0.897167444229126, 0.013334630988538265, 0.006105537060648203, 0.00947085302323103, 0.004663276020437479, 0.01447224523872137, 0.017152804881334305, 0.003636944340541959, 0.009212924167513847, 0.004121976438909769, 0.0008654914563521743, 0.0114591708406806, 0.008336653001606464, 0.0], [0.7315875291824341, 0.025093309581279755, 0.01002446934580803, 0.014138217084109783, 0.003984535112977028, 0.022789284586906433, 0.056974638253450394, 0.008671319112181664, 0.03455391526222229, 0.007232080213725567, 0.005713644903153181, 0.02133025787770748, 0.008812284097075462, 0.049094535410404205]], [[1.0, 0.0, 0.0, 0.0, 0.0, 0.0, 0.0, 0.0, 0.0, 0.0, 0.0, 0.0, 0.0, 0.0], [0.9044656753540039, 0.09553434699773788, 0.0, 0.0, 0.0, 0.0, 0.0, 0.0, 0.0, 0.0, 0.0, 0.0, 0.0, 0.0], [0.8763434290885925, 0.10107298195362091, 0.02258365973830223, 0.0, 0.0, 0.0, 0.0, 0.0, 0.0, 0.0, 0.0, 0.0, 0.0, 0.0], [0.8102647066116333, 0.1419747769832611, 0.02325461618602276, 0.024505961686372757, 0.0, 0.0, 0.0, 0.0, 0.0, 0.0, 0.0, 0.0, 0.0, 0.0], [0.8978707790374756, 0.014491830952465534, 0.00985343474894762, 0.013960928656160831, 0.06382307410240173, 0.0, 0.0, 0.0, 0.0, 0.0, 0.0, 0.0, 0.0, 0.0], [0.6395318508148193, 0.037465862929821014, 0.016424907371401787, 0.07435683906078339, 0.12538516521453857, 0.1068354919552803, 0.0, 0.0, 0.0, 0.0, 0.0, 0.0, 0.0, 0.0], [0.6813391447067261, 0.04683041200041771, 0.018230631947517395, 0.04943285882472992, 0.053423572331666946, 0.09474451094865799, 0.05599889159202576, 0.0, 0.0, 0.0, 0.0, 0.0, 0.0, 0.0], [0.648926854133606, 0.08153091371059418, 0.019734296947717667, 0.015385877341032028, 0.04033268243074417, 0.07286128401756287, 0.08817397803068161, 0.03305415064096451, 0.0, 0.0, 0.0, 0.0, 0.0, 0.0], [0.6960113048553467, 0.04907236620783806, 0.019342567771673203, 0.015005584806203842, 0.060907844454050064, 0.07501043379306793, 0.05610117316246033, 0.02104473114013672, 0.007504014298319817, 0.0, 0.0, 0.0, 0.0, 0.0], [0.5440723299980164, 0.0672726035118103, 0.03838055580854416, 0.01872912608087063, 0.0652468129992485, 0.11145661026239395, 0.08863897621631622, 0.036049943417310715, 0.015237653627991676, 0.014915494248270988, 0.0, 0.0, 0.0, 0.0], [0.8602471351623535, 0.021673474460840225, 0.01202766876667738, 0.015021171420812607, 0.03328687325119972, 0.020733902230858803, 0.00984808150678873, 0.0031902992632240057, 0.007975934073328972, 0.0019411931280046701, 0.014054389670491219, 0.0, 0.0, 0.0], [0.7610655426979065, 0.025783592835068703, 0.011913318186998367, 0.030265457928180695, 0.039255328476428986, 0.028971556574106216, 0.033893462270498276, 0.011560744605958462, 0.010480586439371109, 0.006608119234442711, 0.02440425008535385, 0.015797968953847885, 0.0, 0.0], [0.9211969971656799, 0.005025004968047142, 0.0026938552036881447, 0.0014022142859175801, 0.0032238196581602097, 0.00984909012913704, 0.00518417963758111, 0.0029983106069266796, 0.0013845383655279875, 0.0008013728074729443, 0.001069418154656887, 0.001606046687811613, 0.04356512799859047, 0.0], [0.669217586517334, 0.02046394720673561, 0.011928733438253403, 0.011380691081285477, 0.019880009815096855, 0.0485803447663784, 0.02504906803369522, 0.013836285099387169, 0.011132589541375637, 0.007728009484708309, 0.0055921138264238834, 0.01578914374113083, 0.09051364660263062, 0.04890784993767738]], [[1.0, 0.0, 0.0, 0.0, 0.0, 0.0, 0.0, 0.0, 0.0, 0.0, 0.0, 0.0, 0.0, 0.0], [0.944682240486145, 0.05531774088740349, 0.0, 0.0, 0.0, 0.0, 0.0, 0.0, 0.0, 0.0, 0.0, 0.0, 0.0, 0.0], [0.7466581463813782, 0.24127855896949768, 0.012063276953995228, 0.0, 0.0, 0.0, 0.0, 0.0, 0.0, 0.0, 0.0, 0.0, 0.0, 0.0], [0.6392340064048767, 0.1505194902420044, 0.11943907290697098, 0.09080740809440613, 0.0, 0.0, 0.0, 0.0, 0.0, 0.0, 0.0, 0.0, 0.0, 0.0], [0.7124048471450806, 0.049313850700855255, 0.04999259486794472, 0.16092681884765625, 0.027361830696463585, 0.0, 0.0, 0.0, 0.0, 0.0, 0.0, 0.0, 0.0, 0.0], [0.76993727684021, 0.024061016738414764, 0.004086324479430914, 0.02002567984163761, 0.08209016919136047, 0.0997997373342514, 0.0, 0.0, 0.0, 0.0, 0.0, 0.0, 0.0, 0.0], [0.39935916662216187, 0.042143408209085464, 0.007105434313416481, 0.017896553501486778, 0.05606207996606827, 0.3196907937526703, 0.1577424854040146, 0.0, 0.0, 0.0, 0.0, 0.0, 0.0, 0.0], [0.32226452231407166, 0.061276160180568695, 0.004617751110345125, 0.01016407459974289, 0.05213799700140953, 0.17518800497055054, 0.3279138505458832, 0.046437639743089676, 0.0, 0.0, 0.0, 0.0, 0.0, 0.0], [0.4108143150806427, 0.02641293965280056, 0.003321913769468665, 0.004926890600472689, 0.03702656179666519, 0.1068953275680542, 0.2399265319108963, 0.13344521820545197, 0.037230346351861954, 0.0, 0.0, 0.0, 0.0, 0.0], [0.5168769359588623, 0.016161294654011726, 0.00255564134567976, 0.005292294081300497, 0.03856811672449112, 0.05378914251923561, 0.16142190992832184, 0.04048923775553703, 0.1286541223526001, 0.03619123622775078, 0.0, 0.0, 0.0, 0.0], [0.5224135518074036, 0.016648532822728157, 0.0037160192150622606, 0.003766305511817336, 0.017400654032826424, 0.05720910429954529, 0.08986220508813858, 0.04725620150566101, 0.054694417864084244, 0.15275181829929352, 0.034281134605407715, 0.0, 0.0, 0.0], [0.4905756413936615, 0.009033208712935448, 0.0014287406811490655, 0.006372811272740364, 0.015510475262999535, 0.03801938146352768, 0.10948195308446884, 0.02341950498521328, 0.050241827964782715, 0.06339491158723831, 0.16949471831321716, 0.02302676998078823, 0.0, 0.0], [0.39196211099624634, 0.014285068027675152, 0.008874423801898956, 0.009111851453781128, 0.01001366414129734, 0.07085296511650085, 0.08319225907325745, 0.03452229127287865, 0.04420348256826401, 0.07102958858013153, 0.04955095425248146, 0.050479039549827576, 0.16192227602005005, 0.0], [0.5853632092475891, 0.01682509109377861, 0.004118340089917183, 0.006032782606780529, 0.014832197688519955, 0.043166689574718475, 0.043284669518470764, 0.008663581684231758, 0.023151196539402008, 0.02605569362640381, 0.004919765517115593, 0.007054517511278391, 0.19706730544567108, 0.019465027377009392]], [[1.0, 0.0, 0.0, 0.0, 0.0, 0.0, 0.0, 0.0, 0.0, 0.0, 0.0, 0.0, 0.0, 0.0], [0.9860724210739136, 0.01392750907689333, 0.0, 0.0, 0.0, 0.0, 0.0, 0.0, 0.0, 0.0, 0.0, 0.0, 0.0, 0.0], [0.9963691234588623, 0.0027767124120146036, 0.0008540820563212037, 0.0, 0.0, 0.0, 0.0, 0.0, 0.0, 0.0, 0.0, 0.0, 0.0, 0.0], [0.974242627620697, 0.005651616491377354, 0.0014152027433738112, 0.01869054138660431, 0.0, 0.0, 0.0, 0.0, 0.0, 0.0, 0.0, 0.0, 0.0, 0.0], [0.9492325186729431, 0.012529504485428333, 0.004798128269612789, 0.016785576939582825, 0.016654346138238907, 0.0, 0.0, 0.0, 0.0, 0.0, 0.0, 0.0, 0.0, 0.0], [0.8463589549064636, 0.021373426541686058, 0.009247373789548874, 0.021423906087875366, 0.029269278049468994, 0.07232707738876343, 0.0, 0.0, 0.0, 0.0, 0.0, 0.0, 0.0, 0.0], [0.7991496920585632, 0.03768746927380562, 0.020356105640530586, 0.036743130534887314, 0.033916644752025604, 0.03787829354405403, 0.034268733114004135, 0.0, 0.0, 0.0, 0.0, 0.0, 0.0, 0.0], [0.8688932061195374, 0.017228811979293823, 0.011201148852705956, 0.02007882297039032, 0.017615754157304764, 0.025639206171035767, 0.028252797201275826, 0.011090205051004887, 0.0, 0.0, 0.0, 0.0, 0.0, 0.0], [0.8300548195838928, 0.011199906468391418, 0.006402395665645599, 0.018951164558529854, 0.02544831857085228, 0.05434669181704521, 0.026054561138153076, 0.017572464421391487, 0.009969628416001797, 0.0, 0.0, 0.0, 0.0, 0.0], [0.8544136881828308, 0.013043176382780075, 0.012296007946133614, 0.025027504190802574, 0.04265793785452843, 0.013963617384433746, 0.010211510583758354, 0.006309431046247482, 0.01528990175575018, 0.006787302438169718, 0.0, 0.0, 0.0, 0.0], [0.9755799174308777, 0.001440617023035884, 0.0007857566233724356, 0.0034533683210611343, 0.005595603957772255, 0.0016471013659611344, 0.0034520430490374565, 0.0023776316083967686, 0.0039141178131103516, 0.000508615281432867, 0.0012451151851564646, 0.0, 0.0, 0.0], [0.9631178379058838, 0.0021722239907830954, 0.0016656559891998768, 0.004047113936394453, 0.010406449437141418, 0.0031948250252753496, 0.00376618723385036, 0.002664410276338458, 0.004241896793246269, 0.0008270512917079031, 0.001723787048831582, 0.002172567881643772, 0.0, 0.0], [0.9651228785514832, 0.003323877230286598, 0.001923389732837677, 0.0020671889651566744, 0.0036169816739857197, 0.004537736531347036, 0.0026420406065881252, 0.0013960819924250245, 0.003329621395096183, 0.0003550540714059025, 0.0002804094983730465, 0.0008017078507691622, 0.01060300599783659, 0.0], [0.7374544739723206, 0.027346620336174965, 0.017655150964856148, 0.017836252227425575, 0.014476735144853592, 0.05408729612827301, 0.03264667093753815, 0.017334647476673126, 0.018415335565805435, 0.005435237195342779, 0.000776537402998656, 0.002710071625187993, 0.010752126574516296, 0.04307295382022858]], [[1.0, 0.0, 0.0, 0.0, 0.0, 0.0, 0.0, 0.0, 0.0, 0.0, 0.0, 0.0, 0.0, 0.0], [0.9369080662727356, 0.06309192627668381, 0.0, 0.0, 0.0, 0.0, 0.0, 0.0, 0.0, 0.0, 0.0, 0.0, 0.0, 0.0], [0.9553983807563782, 0.025681542232632637, 0.018920036032795906, 0.0, 0.0, 0.0, 0.0, 0.0, 0.0, 0.0, 0.0, 0.0, 0.0, 0.0], [0.8951143622398376, 0.03599896281957626, 0.015378609299659729, 0.05350809171795845, 0.0, 0.0, 0.0, 0.0, 0.0, 0.0, 0.0, 0.0, 0.0, 0.0], [0.8612995743751526, 0.04059741273522377, 0.018569177016615868, 0.016636911779642105, 0.06289688497781754, 0.0, 0.0, 0.0, 0.0, 0.0, 0.0, 0.0, 0.0, 0.0], [0.9031574726104736, 0.024486377835273743, 0.013722172938287258, 0.012534795328974724, 0.030200228095054626, 0.015898989513516426, 0.0, 0.0, 0.0, 0.0, 0.0, 0.0, 0.0, 0.0], [0.8612629175186157, 0.01643768511712551, 0.009670352563261986, 0.008164084516465664, 0.02841312624514103, 0.01862681843340397, 0.05742505192756653, 0.0, 0.0, 0.0, 0.0, 0.0, 0.0, 0.0], [0.887748122215271, 0.015085686929523945, 0.007784932851791382, 0.005807819776237011, 0.015958130359649658, 0.013753375969827175, 0.03511872887611389, 0.018743302673101425, 0.0, 0.0, 0.0, 0.0, 0.0, 0.0], [0.8098345994949341, 0.016306445002555847, 0.006936044432222843, 0.007215085905045271, 0.02388753555715084, 0.016340257599949837, 0.040735237300395966, 0.019554760307073593, 0.05919007211923599, 0.0, 0.0, 0.0, 0.0, 0.0], [0.8106935620307922, 0.021822256967425346, 0.0149885518476367, 0.013808956369757652, 0.029579073190689087, 0.01061733067035675, 0.02901190146803856, 0.009927653707563877, 0.028504805639386177, 0.03104591742157936, 0.0, 0.0, 0.0, 0.0], [0.8438862562179565, 0.012283929623663425, 0.0052237678319215775, 0.0077210236340761185, 0.01853526197373867, 0.015110197477042675, 0.024096166715025902, 0.008571378886699677, 0.03942536935210228, 0.01473323255777359, 0.010413446463644505, 0.0, 0.0, 0.0], [0.7952076196670532, 0.010011924430727959, 0.010030168108642101, 0.011624057777225971, 0.019891008734703064, 0.010229946114122868, 0.022514760494232178, 0.011125118471682072, 0.03738486394286156, 0.01715562306344509, 0.02167755365371704, 0.03314749151468277, 0.0, 0.0], [0.8197788000106812, 0.009928877465426922, 0.005107929464429617, 0.003835601033642888, 0.01014978438615799, 0.038125742226839066, 0.01100724283605814, 0.01768546737730503, 0.01939263567328453, 0.007344735786318779, 0.003412204096093774, 0.003811181988567114, 0.05041972175240517, 0.0], [0.8138368129730225, 0.008910315111279488, 0.007955250330269337, 0.002520356560125947, 0.00519033707678318, 0.01579473353922367, 0.03879019245505333, 0.020281825214624405, 0.03295959532260895, 0.005876827519387007, 0.007063807919621468, 0.003658959409222007, 0.009868423454463482, 0.02729259431362152]], [[1.0, 0.0, 0.0, 0.0, 0.0, 0.0, 0.0, 0.0, 0.0, 0.0, 0.0, 0.0, 0.0, 0.0], [0.97762131690979, 0.02237868122756481, 0.0, 0.0, 0.0, 0.0, 0.0, 0.0, 0.0, 0.0, 0.0, 0.0, 0.0, 0.0], [0.9892639517784119, 0.008393832482397556, 0.0023421524092555046, 0.0, 0.0, 0.0, 0.0, 0.0, 0.0, 0.0, 0.0, 0.0, 0.0, 0.0], [0.9655342698097229, 0.013280907645821571, 0.0012728283181786537, 0.019912011921405792, 0.0, 0.0, 0.0, 0.0, 0.0, 0.0, 0.0, 0.0, 0.0, 0.0], [0.9677037596702576, 0.016421163454651833, 0.002197500318288803, 0.006258347071707249, 0.007419249042868614, 0.0, 0.0, 0.0, 0.0, 0.0, 0.0, 0.0, 0.0, 0.0], [0.9433251023292542, 0.008533312007784843, 0.003075024811550975, 0.028905419632792473, 0.010705284774303436, 0.005455903243273497, 0.0, 0.0, 0.0, 0.0, 0.0, 0.0, 0.0, 0.0], [0.9152669906616211, 0.013977945782244205, 0.006868349388241768, 0.04510357230901718, 0.008760201744735241, 0.004795685410499573, 0.0052272602915763855, 0.0, 0.0, 0.0, 0.0, 0.0, 0.0, 0.0], [0.9239715933799744, 0.012528438121080399, 0.005262595601379871, 0.02764226868748665, 0.008344892412424088, 0.006243282463401556, 0.008636411279439926, 0.0073705632239580154, 0.0, 0.0, 0.0, 0.0, 0.0, 0.0], [0.9234404563903809, 0.026850035414099693, 0.007341656368225813, 0.016021978110074997, 0.004413391463458538, 0.006032873410731554, 0.004439409356564283, 0.004340422339737415, 0.00711966073140502, 0.0, 0.0, 0.0, 0.0, 0.0], [0.8059560060501099, 0.012078610248863697, 0.017958762124180794, 0.1221039816737175, 0.01501568965613842, 0.003670636797323823, 0.0031685607973486185, 0.0022587087005376816, 0.008909763768315315, 0.008879350498318672, 0.0, 0.0, 0.0, 0.0], [0.9600719809532166, 0.002564992755651474, 0.0008634893456473947, 0.024400008842349052, 0.0018289241706952453, 0.00337398168630898, 0.001290366519242525, 0.0010826765792444348, 0.0007262683939188719, 0.0012697489000856876, 0.0025273729115724564, 0.0, 0.0, 0.0], [0.9065474271774292, 0.016180116683244705, 0.0046356962993741035, 0.030004316940903664, 0.010311135090887547, 0.006795339286327362, 0.0024336972273886204, 0.0015505861956626177, 0.002624753164127469, 0.006730177439749241, 0.005525920540094376, 0.006660801358520985, 0.0, 0.0], [0.9660202860832214, 0.004929814487695694, 0.0006244793767109513, 0.003242740873247385, 0.0023578396067023277, 0.007963744923472404, 0.0036088107153773308, 0.0010978177888318896, 0.0012601928319782019, 0.0005465507274493575, 0.00028773880330845714, 0.0004146306891925633, 0.00764539884403348, 0.0], [0.8464412093162537, 0.014220798388123512, 0.004556011874228716, 0.019943641498684883, 0.005012002307921648, 0.006934636738151312, 0.010715852491557598, 0.006288579199463129, 0.014263718388974667, 0.0009103181073442101, 0.0016673615900799632, 0.0011109564220532775, 0.04941180720925331, 0.018523186445236206]], [[1.0, 0.0, 0.0, 0.0, 0.0, 0.0, 0.0, 0.0, 0.0, 0.0, 0.0, 0.0, 0.0, 0.0], [0.981884777545929, 0.018115209415555, 0.0, 0.0, 0.0, 0.0, 0.0, 0.0, 0.0, 0.0, 0.0, 0.0, 0.0, 0.0], [0.9743692278862, 0.01667085848748684, 0.008959833532571793, 0.0, 0.0, 0.0, 0.0, 0.0, 0.0, 0.0, 0.0, 0.0, 0.0, 0.0], [0.9516406059265137, 0.017002778127789497, 0.00836047250777483, 0.02299611270427704, 0.0, 0.0, 0.0, 0.0, 0.0, 0.0, 0.0, 0.0, 0.0, 0.0], [0.9214597344398499, 0.025438088923692703, 0.02117772214114666, 0.016468605026602745, 0.015455801971256733, 0.0, 0.0, 0.0, 0.0, 0.0, 0.0, 0.0, 0.0, 0.0], [0.7108173966407776, 0.05799032002687454, 0.035678233951330185, 0.04409244656562805, 0.08779294043779373, 0.06362858414649963, 0.0, 0.0, 0.0, 0.0, 0.0, 0.0, 0.0, 0.0], [0.5124159455299377, 0.07527489960193634, 0.03338666260242462, 0.1477694809436798, 0.1629742980003357, 0.03675614669919014, 0.031422488391399384, 0.0, 0.0, 0.0, 0.0, 0.0, 0.0, 0.0], [0.7868964672088623, 0.03164377808570862, 0.017910178750753403, 0.021936768665909767, 0.06167038902640343, 0.03574245423078537, 0.03208533674478531, 0.012114644050598145, 0.0, 0.0, 0.0, 0.0, 0.0, 0.0], [0.757732629776001, 0.05128804221749306, 0.017951400950551033, 0.07061690837144852, 0.042049430310726166, 0.041409559547901154, 0.009566855616867542, 0.005500894971191883, 0.003884257050231099, 0.0, 0.0, 0.0, 0.0, 0.0], [0.6653995513916016, 0.01611504703760147, 0.011241602711379528, 0.13218307495117188, 0.08861599117517471, 0.025231191888451576, 0.024543682113289833, 0.011400299146771431, 0.012377851642668247, 0.012891795486211777, 0.0, 0.0, 0.0, 0.0], [0.755416214466095, 0.010920478962361813, 0.00593867851421237, 0.037760671228170395, 0.10182806849479675, 0.029995257034897804, 0.014208916574716568, 0.0069505306892097, 0.017546899616718292, 0.013013554736971855, 0.006420602556318045, 0.0, 0.0, 0.0], [0.7052491307258606, 0.011928116902709007, 0.00904608704149723, 0.13217291235923767, 0.04995406046509743, 0.02426058053970337, 0.015134377405047417, 0.006200033240020275, 0.009186062961816788, 0.007719032932072878, 0.013389400206506252, 0.01576032117009163, 0.0, 0.0], [0.8408029675483704, 0.008471844717860222, 0.005586729850620031, 0.027999140322208405, 0.017947308719158173, 0.01674673706293106, 0.011491180397570133, 0.006008311174809933, 0.006613366771489382, 0.004769070539623499, 0.004491440486162901, 0.004261046648025513, 0.04481080174446106, 0.0], [0.6689699292182922, 0.030473317950963974, 0.02386033721268177, 0.007349442690610886, 0.014658873900771141, 0.06298904865980148, 0.030067816376686096, 0.012389043346047401, 0.015175609849393368, 0.01140702422708273, 0.012215230613946915, 0.018105773255228996, 0.0521186999976635, 0.040219828486442566]], [[1.0, 0.0, 0.0, 0.0, 0.0, 0.0, 0.0, 0.0, 0.0, 0.0, 0.0, 0.0, 0.0, 0.0], [0.9167618155479431, 0.08323823660612106, 0.0, 0.0, 0.0, 0.0, 0.0, 0.0, 0.0, 0.0, 0.0, 0.0, 0.0, 0.0], [0.9330126047134399, 0.051887668669223785, 0.015099704265594482, 0.0, 0.0, 0.0, 0.0, 0.0, 0.0, 0.0, 0.0, 0.0, 0.0, 0.0], [0.8630370497703552, 0.05765325948596001, 0.023909514769911766, 0.05540022626519203, 0.0, 0.0, 0.0, 0.0, 0.0, 0.0, 0.0, 0.0, 0.0, 0.0], [0.8904677629470825, 0.03582942485809326, 0.04008925333619118, 0.0283584613353014, 0.0052550374530255795, 0.0, 0.0, 0.0, 0.0, 0.0, 0.0, 0.0, 0.0, 0.0], [0.7345378994941711, 0.10194694250822067, 0.019424626603722572, 0.08113254606723785, 0.026211537420749664, 0.03674651309847832, 0.0, 0.0, 0.0, 0.0, 0.0, 0.0, 0.0, 0.0], [0.8118118047714233, 0.07661347091197968, 0.015341564081609249, 0.03048277273774147, 0.02053433284163475, 0.027311164885759354, 0.01790490746498108, 0.0, 0.0, 0.0, 0.0, 0.0, 0.0, 0.0], [0.801263153553009, 0.04286845773458481, 0.015558561310172081, 0.023700403049588203, 0.02418450452387333, 0.041669342666864395, 0.030590932816267014, 0.02016465924680233, 0.0, 0.0, 0.0, 0.0, 0.0, 0.0], [0.8338139057159424, 0.028820151463150978, 0.004999558907002211, 0.013057223521173, 0.011174359358847141, 0.03648478910326958, 0.02345232479274273, 0.02006981521844864, 0.028127817437052727, 0.0, 0.0, 0.0, 0.0, 0.0], [0.7513471245765686, 0.02218303643167019, 0.0099076759070158, 0.027075037360191345, 0.02450837939977646, 0.038149185478687286, 0.04027919843792915, 0.022226205095648766, 0.05036427453160286, 0.013959945179522038, 0.0, 0.0, 0.0, 0.0], [0.8058955669403076, 0.01611907221376896, 0.008188227191567421, 0.016668178141117096, 0.005697252694517374, 0.02160755731165409, 0.02903955988585949, 0.028461024165153503, 0.046711429953575134, 0.01452692598104477, 0.007085208781063557, 0.0, 0.0, 0.0], [0.8178769946098328, 0.02185390517115593, 0.009821339510381222, 0.02164335921406746, 0.007976800203323364, 0.01909041777253151, 0.017918016761541367, 0.015848053619265556, 0.03813520073890686, 0.011093971319496632, 0.006523022428154945, 0.012218821793794632, 0.0, 0.0], [0.8051871657371521, 0.023178692907094955, 0.027703898027539253, 0.024016203358769417, 0.0074572814628481865, 0.012251087464392185, 0.015694860368967056, 0.011115387082099915, 0.025667289271950722, 0.004188880790024996, 0.009050355292856693, 0.013657888397574425, 0.020831068977713585, 0.0], [0.6453673243522644, 0.09017246961593628, 0.03674817085266113, 0.0318785160779953, 0.014360200613737106, 0.014925729483366013, 0.009075724519789219, 0.006255997344851494, 0.05371781438589096, 0.008390279486775398, 0.011712562292814255, 0.014936746098101139, 0.03631458431482315, 0.02614377625286579]], [[1.0, 0.0, 0.0, 0.0, 0.0, 0.0, 0.0, 0.0, 0.0, 0.0, 0.0, 0.0, 0.0, 0.0], [0.9763004779815674, 0.02369951456785202, 0.0, 0.0, 0.0, 0.0, 0.0, 0.0, 0.0, 0.0, 0.0, 0.0, 0.0, 0.0], [0.9872692823410034, 0.01007021777331829, 0.0026605145540088415, 0.0, 0.0, 0.0, 0.0, 0.0, 0.0, 0.0, 0.0, 0.0, 0.0, 0.0], [0.9715303778648376, 0.013902203179895878, 0.0007244066800922155, 0.013842939399182796, 0.0, 0.0, 0.0, 0.0, 0.0, 0.0, 0.0, 0.0, 0.0, 0.0], [0.9711625576019287, 0.014599837362766266, 0.0020194740500301123, 0.0032818757463246584, 0.008936142548918724, 0.0, 0.0, 0.0, 0.0, 0.0, 0.0, 0.0, 0.0, 0.0], [0.9481897354125977, 0.014297227375209332, 0.004147326573729515, 0.014724990352988243, 0.009399001486599445, 0.00924171693623066, 0.0, 0.0, 0.0, 0.0, 0.0, 0.0, 0.0, 0.0], [0.9375861883163452, 0.009892024099826813, 0.004792406223714352, 0.023188844323158264, 0.008351367898285389, 0.004717857111245394, 0.01147132646292448, 0.0, 0.0, 0.0, 0.0, 0.0, 0.0, 0.0], [0.9587721228599548, 0.005511553958058357, 0.003555195638909936, 0.011853184551000595, 0.004216523375362158, 0.003886857768520713, 0.007845385000109673, 0.004359164275228977, 0.0, 0.0, 0.0, 0.0, 0.0, 0.0], [0.9415323734283447, 0.012943465262651443, 0.0048163714818656445, 0.012900002300739288, 0.003197822719812393, 0.0064129941165447235, 0.007304794620722532, 0.003554907161742449, 0.00733724981546402, 0.0, 0.0, 0.0, 0.0, 0.0], [0.780056893825531, 0.0057177310809493065, 0.027353821322321892, 0.15202674269676208, 0.004660275764763355, 0.0042183431796729565, 0.005114866886287928, 0.004933306481689215, 0.009664547629654408, 0.006253468804061413, 0.0, 0.0, 0.0, 0.0], [0.9798800349235535, 0.0008014982449822128, 0.0005372805171646178, 0.009853962808847427, 0.0008124857558868825, 0.001996916253119707, 0.0011380314826965332, 0.0005384921678341925, 0.001202023820951581, 0.00031772826332598925, 0.0029214571695774794, 0.0, 0.0, 0.0], [0.9068853855133057, 0.003743871347978711, 0.005158360116183758, 0.018106140196323395, 0.0021255421452224255, 0.00438720965757966, 0.008117484860122204, 0.004220395814627409, 0.002683741971850395, 0.0034255599603056908, 0.01675974205136299, 0.024386756122112274, 0.0, 0.0], [0.9625208377838135, 0.002278389874845743, 0.0003608731785789132, 0.0016058299224823713, 0.003374239895492792, 0.002449150662869215, 0.0019431635737419128, 0.0004136938077863306, 0.0011224646586924791, 8.759371849009767e-05, 0.00011841103696497157, 0.0007312534144148231, 0.022994112223386765, 0.0], [0.8577499389648438, 0.009375028312206268, 0.005394956097006798, 0.012318248860538006, 0.00770310265943408, 0.005752035416662693, 0.017881544306874275, 0.004911875352263451, 0.013689892366528511, 0.0012553820852190256, 0.0018911852966994047, 0.0022649692837148905, 0.05193454399704933, 0.007877316325902939]], [[1.0, 0.0, 0.0, 0.0, 0.0, 0.0, 0.0, 0.0, 0.0, 0.0, 0.0, 0.0, 0.0, 0.0], [0.8659204840660095, 0.13407954573631287, 0.0, 0.0, 0.0, 0.0, 0.0, 0.0, 0.0, 0.0, 0.0, 0.0, 0.0, 0.0], [0.69974684715271, 0.28424087166786194, 0.016012225300073624, 0.0, 0.0, 0.0, 0.0, 0.0, 0.0, 0.0, 0.0, 0.0, 0.0, 0.0], [0.7244168519973755, 0.13725478947162628, 0.07179498672485352, 0.0665334165096283, 0.0, 0.0, 0.0, 0.0, 0.0, 0.0, 0.0, 0.0, 0.0, 0.0], [0.45342254638671875, 0.06739571690559387, 0.0829717367887497, 0.2964532673358917, 0.09975676238536835, 0.0, 0.0, 0.0, 0.0, 0.0, 0.0, 0.0, 0.0, 0.0], [0.7004891037940979, 0.02091575227677822, 0.01640055514872074, 0.10735183209180832, 0.1068505197763443, 0.04799210652709007, 0.0, 0.0, 0.0, 0.0, 0.0, 0.0, 0.0, 0.0], [0.7764224410057068, 0.044335659593343735, 0.007929706946015358, 0.011254205368459225, 0.04754539206624031, 0.08012906461954117, 0.03238353133201599, 0.0, 0.0, 0.0, 0.0, 0.0, 0.0, 0.0], [0.7402207851409912, 0.019453059881925583, 0.003836145857349038, 0.0075376215390861034, 0.02286475896835327, 0.04079354554414749, 0.14924092590808868, 0.016053229570388794, 0.0, 0.0, 0.0, 0.0, 0.0, 0.0], [0.7251121401786804, 0.01934199407696724, 0.0031518451869487762, 0.00922189187258482, 0.015573976561427116, 0.05249520018696785, 0.07461822777986526, 0.07473433017730713, 0.025750426575541496, 0.0, 0.0, 0.0, 0.0, 0.0], [0.6338470578193665, 0.010367462411522865, 0.004120029509067535, 0.005139334127306938, 0.0237312912940979, 0.021657418459653854, 0.10200156271457672, 0.034917403012514114, 0.1118040680885315, 0.05241433531045914, 0.0, 0.0, 0.0, 0.0], [0.5726014971733093, 0.011361321434378624, 0.0023556104861199856, 0.008645256981253624, 0.011153804138302803, 0.010304030030965805, 0.12033188343048096, 0.022669557482004166, 0.04224744811654091, 0.16938762366771698, 0.028941936790943146, 0.0, 0.0, 0.0], [0.6152660846710205, 0.009791840799152851, 0.0015369267202913761, 0.006862361915409565, 0.027940286323428154, 0.007128776051104069, 0.0350254587829113, 0.01689138635993004, 0.06727521121501923, 0.07969672232866287, 0.07360228151082993, 0.05898265540599823, 0.0, 0.0], [0.7109023928642273, 0.006634679157286882, 0.00348363583907485, 0.006327703595161438, 0.006820683367550373, 0.005464701913297176, 0.008303086273372173, 0.0061339158564805984, 0.023593319579958916, 0.026993831619620323, 0.011725437827408314, 0.09507950395345688, 0.08853710442781448, 0.0], [0.6375625133514404, 0.0046948702074587345, 0.005554020870476961, 0.011773739941418171, 0.02784350886940956, 0.007407144643366337, 0.018068404868245125, 0.011149694211781025, 0.021384933963418007, 0.022195467725396156, 0.021266639232635498, 0.029213784262537956, 0.15352463722229004, 0.028360549360513687]], [[1.0, 0.0, 0.0, 0.0, 0.0, 0.0, 0.0, 0.0, 0.0, 0.0, 0.0, 0.0, 0.0, 0.0], [0.9838454723358154, 0.016154516488313675, 0.0, 0.0, 0.0, 0.0, 0.0, 0.0, 0.0, 0.0, 0.0, 0.0, 0.0, 0.0], [0.9923336505889893, 0.003806196851655841, 0.003860160242766142, 0.0, 0.0, 0.0, 0.0, 0.0, 0.0, 0.0, 0.0, 0.0, 0.0, 0.0], [0.9748207926750183, 0.004123079124838114, 0.0027138758450746536, 0.018342239782214165, 0.0, 0.0, 0.0, 0.0, 0.0, 0.0, 0.0, 0.0, 0.0, 0.0], [0.9844472408294678, 0.0065111685544252396, 0.005443902220577002, 0.0029048670548945665, 0.0006926975911483169, 0.0, 0.0, 0.0, 0.0, 0.0, 0.0, 0.0, 0.0, 0.0], [0.9698401093482971, 0.010339071974158287, 0.005988588556647301, 0.004546598065644503, 0.0013106007827445865, 0.007974925450980663, 0.0, 0.0, 0.0, 0.0, 0.0, 0.0, 0.0, 0.0], [0.76790452003479, 0.07477536797523499, 0.027566568925976753, 0.017771312966942787, 0.004918487276881933, 0.04965977743268013, 0.05740395560860634, 0.0, 0.0, 0.0, 0.0, 0.0, 0.0, 0.0], [0.8694943189620972, 0.025863341987133026, 0.008935975842177868, 0.012514234520494938, 0.0024918531998991966, 0.004750325344502926, 0.024751989170908928, 0.05119812488555908, 0.0, 0.0, 0.0, 0.0, 0.0, 0.0], [0.5994904041290283, 0.07942869514226913, 0.008884650655090809, 0.013827717863023281, 0.0036730398423969746, 0.010619645938277245, 0.0030574328266084194, 0.14085161685943604, 0.14016680419445038, 0.0, 0.0, 0.0, 0.0, 0.0], [0.560161828994751, 0.018027421087026596, 0.01393596176058054, 0.026392862200737, 0.007083104457706213, 0.012395814061164856, 0.0048041315749287605, 0.0978228822350502, 0.23308923840522766, 0.026286819949746132, 0.0, 0.0, 0.0, 0.0], [0.7271151542663574, 0.006421071942895651, 0.006428626365959644, 0.013951408676803112, 0.006152758374810219, 0.03807617723941803, 0.006303425878286362, 0.07609745115041733, 0.10544674098491669, 0.006081314291805029, 0.007925869897007942, 0.0, 0.0, 0.0], [0.6353442668914795, 0.004378938116133213, 0.004460593219846487, 0.01817850023508072, 0.004076268523931503, 0.022259391844272614, 0.004951981827616692, 0.1608930081129074, 0.12141826748847961, 0.007490379735827446, 0.005929406266659498, 0.010618994012475014, 0.0, 0.0], [0.6988143920898438, 0.0146744130179286, 0.005426450632512569, 0.0063321650959551334, 0.0031807986088097095, 0.17146533727645874, 0.014032293111085892, 0.023667387664318085, 0.04969881474971771, 0.002499697497114539, 0.002040708437561989, 0.004312140867114067, 0.003855419345200062, 0.0], [0.8493001461029053, 0.013434899970889091, 0.0029617107938975096, 0.0018139276653528214, 0.0009622036595828831, 0.011023048311471939, 0.043209902942180634, 0.015285026282072067, 0.0459308922290802, 0.001517814351245761, 0.0011192489182576537, 0.0016272228676825762, 0.0009732311009429395, 0.010840835981070995]]], [[[1.0, 0.0, 0.0, 0.0, 0.0, 0.0, 0.0, 0.0, 0.0, 0.0, 0.0, 0.0, 0.0, 0.0], [0.9660229682922363, 0.033977095037698746, 0.0, 0.0, 0.0, 0.0, 0.0, 0.0, 0.0, 0.0, 0.0, 0.0, 0.0, 0.0], [0.9340174794197083, 0.051145657896995544, 0.014836913906037807, 0.0, 0.0, 0.0, 0.0, 0.0, 0.0, 0.0, 0.0, 0.0, 0.0, 0.0], [0.8144931793212891, 0.10317899286746979, 0.02259133756160736, 0.059736549854278564, 0.0, 0.0, 0.0, 0.0, 0.0, 0.0, 0.0, 0.0, 0.0, 0.0], [0.9735459089279175, 0.005187633913010359, 0.002664528088644147, 0.014331168495118618, 0.004270720295608044, 0.0, 0.0, 0.0, 0.0, 0.0, 0.0, 0.0, 0.0, 0.0], [0.8396181464195251, 0.026975804939866066, 0.013880704529583454, 0.055028535425662994, 0.01702503114938736, 0.04747170954942703, 0.0, 0.0, 0.0, 0.0, 0.0, 0.0, 0.0, 0.0], [0.8598142862319946, 0.01995556429028511, 0.007313897367566824, 0.055168576538562775, 0.023444151505827904, 0.02465112879872322, 0.00965227372944355, 0.0, 0.0, 0.0, 0.0, 0.0, 0.0, 0.0], [0.8604758381843567, 0.02020077034831047, 0.008580264635384083, 0.05969514697790146, 0.01834368146955967, 0.016135098412632942, 0.010545570403337479, 0.006023619323968887, 0.0, 0.0, 0.0, 0.0, 0.0, 0.0], [0.9677497744560242, 0.004130522254854441, 0.0009310286259278655, 0.011648696847259998, 0.005908814258873463, 0.0034966357052326202, 0.0026601573918014765, 0.0013622887199744582, 0.002111941110342741, 0.0, 0.0, 0.0, 0.0, 0.0], [0.8711500763893127, 0.010150294750928879, 0.004612496588379145, 0.07346881181001663, 0.012304302304983139, 0.009723827242851257, 0.004214993212372065, 0.003459647763520479, 0.008526802994310856, 0.00238875113427639, 0.0, 0.0, 0.0, 0.0], [0.9598320722579956, 0.002669412177056074, 0.0011708852834999561, 0.02058122493326664, 0.004763247910887003, 0.002833175240084529, 0.0014346089446917176, 0.001224663807079196, 0.002290804637596011, 0.0007767795468680561, 0.0024230796843767166, 0.0, 0.0, 0.0], [0.8642194271087646, 0.008561996743083, 0.0026736471336334944, 0.053416669368743896, 0.02975945733487606, 0.008417967706918716, 0.006872120779007673, 0.002480980707332492, 0.003745049238204956, 0.003046295139938593, 0.011837586760520935, 0.0049687400460243225, 0.0, 0.0], [0.8943243026733398, 0.007959648966789246, 0.0034847843926399946, 0.014733422547578812, 0.005215801298618317, 0.01642012968659401, 0.004544071387499571, 0.0030544204637408257, 0.0030154832638800144, 0.0011731613194569945, 0.0020585155580192804, 0.004432637710124254, 0.039583608508110046, 0.0], [0.7291616797447205, 0.014411810785531998, 0.007227452006191015, 0.02283993735909462, 0.009758871048688889, 0.01788739114999771, 0.011580405756831169, 0.005911658518016338, 0.01326000690460205, 0.002548335585743189, 0.004810363054275513, 0.004861332476139069, 0.12569782137870789, 0.030042992904782295]], [[1.0, 0.0, 0.0, 0.0, 0.0, 0.0, 0.0, 0.0, 0.0, 0.0, 0.0, 0.0, 0.0, 0.0], [0.9700651168823242, 0.029934870079159737, 0.0, 0.0, 0.0, 0.0, 0.0, 0.0, 0.0, 0.0, 0.0, 0.0, 0.0, 0.0], [0.9403398036956787, 0.03927227854728699, 0.020387880504131317, 0.0, 0.0, 0.0, 0.0, 0.0, 0.0, 0.0, 0.0, 0.0, 0.0, 0.0], [0.9279905557632446, 0.029285715892910957, 0.003369887825101614, 0.039353903383016586, 0.0, 0.0, 0.0, 0.0, 0.0, 0.0, 0.0, 0.0, 0.0, 0.0], [0.9294829964637756, 0.033581651747226715, 0.0035975167993456125, 0.020282553508877754, 0.013055293820798397, 0.0, 0.0, 0.0, 0.0, 0.0, 0.0, 0.0, 0.0, 0.0], [0.8595255017280579, 0.020234286785125732, 0.007591198198497295, 0.06478314846754074, 0.026882147416472435, 0.020983779802918434, 0.0, 0.0, 0.0, 0.0, 0.0, 0.0, 0.0, 0.0], [0.8336371183395386, 0.01585265062749386, 0.00618409737944603, 0.07582695782184601, 0.027021370828151703, 0.01144670881330967, 0.030031083151698112, 0.0, 0.0, 0.0, 0.0, 0.0, 0.0, 0.0], [0.7943230271339417, 0.022326549515128136, 0.00871457252651453, 0.0828128308057785, 0.019124170765280724, 0.01688980497419834, 0.04057759419083595, 0.015231403522193432, 0.0, 0.0, 0.0, 0.0, 0.0, 0.0], [0.6989173293113708, 0.18011678755283356, 0.008962695486843586, 0.03578536584973335, 0.014556441456079483, 0.01560186967253685, 0.015375605784356594, 0.0074622235260903835, 0.023221613839268684, 0.0, 0.0, 0.0, 0.0, 0.0], [0.7064623236656189, 0.026335960254073143, 0.014535650610923767, 0.15514937043190002, 0.01635214313864708, 0.006244311109185219, 0.01334418449550867, 0.00538534065708518, 0.012022928334772587, 0.04416769742965698, 0.0, 0.0, 0.0, 0.0], [0.9188007712364197, 0.006247084587812424, 0.0022593075409531593, 0.04590367525815964, 0.004649116192013025, 0.00516886543482542, 0.005173187702894211, 0.0026392152067273855, 0.0017120816046372056, 0.00323058245703578, 0.004216116853058338, 0.0, 0.0, 0.0], [0.7834914326667786, 0.017115069553256035, 0.0030938591808080673, 0.06804180145263672, 0.010448798537254333, 0.0033290856517851353, 0.007984713651239872, 0.0016006453661248088, 0.008010703139007092, 0.01691175438463688, 0.03298862650990486, 0.04698348790407181, 0.0, 0.0], [0.8920202851295471, 0.015667302533984184, 0.0013699423288926482, 0.015432973392307758, 0.007291195448487997, 0.008694063872098923, 0.016682451590895653, 0.0024806063156574965, 0.002903945976868272, 0.005986228119581938, 0.0015295576304197311, 0.004844444803893566, 0.025097008794546127, 0.0], [0.7271766066551208, 0.009656165726482868, 0.003421191591769457, 0.03498043492436409, 0.018480505794286728, 0.009863707236945629, 0.035696372389793396, 0.007496617268770933, 0.01615009643137455, 0.0040476368740201, 0.004592565353959799, 0.0023682641331106424, 0.1075935885310173, 0.018476329743862152]], [[1.0, 0.0, 0.0, 0.0, 0.0, 0.0, 0.0, 0.0, 0.0, 0.0, 0.0, 0.0, 0.0, 0.0], [0.9265028834342957, 0.07349707931280136, 0.0, 0.0, 0.0, 0.0, 0.0, 0.0, 0.0, 0.0, 0.0, 0.0, 0.0, 0.0], [0.9615139365196228, 0.026587577536702156, 0.011898462660610676, 0.0, 0.0, 0.0, 0.0, 0.0, 0.0, 0.0, 0.0, 0.0, 0.0, 0.0], [0.93891441822052, 0.033221807330846786, 0.006396373733878136, 0.02146727591753006, 0.0, 0.0, 0.0, 0.0, 0.0, 0.0, 0.0, 0.0, 0.0, 0.0], [0.8956347107887268, 0.035623762756586075, 0.00850280188024044, 0.03733692690730095, 0.02290177159011364, 0.0, 0.0, 0.0, 0.0, 0.0, 0.0, 0.0, 0.0, 0.0], [0.9217774271965027, 0.016817763447761536, 0.005091914441436529, 0.016142558306455612, 0.016810307279229164, 0.023359937593340874, 0.0, 0.0, 0.0, 0.0, 0.0, 0.0, 0.0, 0.0], [0.8630915880203247, 0.030370717868208885, 0.015202070586383343, 0.03238214924931526, 0.01580498367547989, 0.01899329014122486, 0.02415514551103115, 0.0, 0.0, 0.0, 0.0, 0.0, 0.0, 0.0], [0.8350241184234619, 0.021334374323487282, 0.010590818710625172, 0.03635019063949585, 0.014974242076277733, 0.020095283165574074, 0.02854185178875923, 0.03308912366628647, 0.0, 0.0, 0.0, 0.0, 0.0, 0.0], [0.8293441534042358, 0.05531223490834236, 0.007407187018543482, 0.0262348260730505, 0.012350581586360931, 0.017527874559164047, 0.010948929004371166, 0.007317707408219576, 0.033556461334228516, 0.0, 0.0, 0.0, 0.0, 0.0], [0.6249295473098755, 0.02253335900604725, 0.027615301311016083, 0.10882024466991425, 0.018118806183338165, 0.015303030610084534, 0.01162966899573803, 0.030448943376541138, 0.1311304271221161, 0.009470710530877113, 0.0, 0.0, 0.0, 0.0], [0.8619064688682556, 0.003332418156787753, 0.001549017964862287, 0.01797240786254406, 0.002728702500462532, 0.006423796061426401, 0.007062457036226988, 0.014204207807779312, 0.05129256844520569, 0.0040352074429392815, 0.02949291095137596, 0.0, 0.0, 0.0], [0.8703739047050476, 0.010676111094653606, 0.0057275560684502125, 0.028315303847193718, 0.00354913086630404, 0.005083374213427305, 0.006320963613688946, 0.007257848512381315, 0.02756411023437977, 0.006947837304323912, 0.021136978641152382, 0.007046849001199007, 0.0, 0.0], [0.7325606346130371, 0.021361319348216057, 0.008861520327627659, 0.02568867616355419, 0.006998863536864519, 0.03614891692996025, 0.03216814994812012, 0.023143121972680092, 0.06672827154397964, 0.005377805791795254, 0.02083282172679901, 0.008865078911185265, 0.01126472931355238, 0.0], [0.7215904593467712, 0.0297086238861084, 0.008747313171625137, 0.013629332184791565, 0.01729724369943142, 0.0338447280228138, 0.02660859003663063, 0.0174858495593071, 0.05441409349441528, 0.004287706688046455, 0.013997413218021393, 0.00801265612244606, 0.023458436131477356, 0.026917604729533195]], [[1.0, 0.0, 0.0, 0.0, 0.0, 0.0, 0.0, 0.0, 0.0, 0.0, 0.0, 0.0, 0.0, 0.0], [0.6702330112457275, 0.32976704835891724, 0.0, 0.0, 0.0, 0.0, 0.0, 0.0, 0.0, 0.0, 0.0, 0.0, 0.0, 0.0], [0.7209413051605225, 0.21318742632865906, 0.06587131321430206, 0.0, 0.0, 0.0, 0.0, 0.0, 0.0, 0.0, 0.0, 0.0, 0.0, 0.0], [0.4741048216819763, 0.3503340482711792, 0.08594071865081787, 0.089620441198349, 0.0, 0.0, 0.0, 0.0, 0.0, 0.0, 0.0, 0.0, 0.0, 0.0], [0.7862591743469238, 0.05430850014090538, 0.07469005882740021, 0.015728799626231194, 0.06901340186595917, 0.0, 0.0, 0.0, 0.0, 0.0, 0.0, 0.0, 0.0, 0.0], [0.36543530225753784, 0.09443935751914978, 0.059198036789894104, 0.05072130635380745, 0.21685980260372162, 0.2133462131023407, 0.0, 0.0, 0.0, 0.0, 0.0, 0.0, 0.0, 0.0], [0.2838190495967865, 0.12198179960250854, 0.04158608615398407, 0.0537649430334568, 0.2886936664581299, 0.1620781421661377, 0.04807639122009277, 0.0, 0.0, 0.0, 0.0, 0.0, 0.0, 0.0], [0.5341382622718811, 0.07168038189411163, 0.03203929588198662, 0.06024167686700821, 0.15934330224990845, 0.05303587391972542, 0.05298700928688049, 0.03653417155146599, 0.0, 0.0, 0.0, 0.0, 0.0, 0.0], [0.7632104754447937, 0.06133202835917473, 0.018446216359734535, 0.019583815708756447, 0.06624710559844971, 0.03337917476892471, 0.012930712662637234, 0.014363341964781284, 0.01050716731697321, 0.0, 0.0, 0.0, 0.0, 0.0], [0.40980491042137146, 0.11576780676841736, 0.06225571408867836, 0.09779168665409088, 0.11204446107149124, 0.07778584957122803, 0.021223289892077446, 0.053064797073602676, 0.028552858158946037, 0.021708551794290543, 0.0, 0.0, 0.0, 0.0], [0.7567374110221863, 0.012158293277025223, 0.013699333183467388, 0.04247353971004486, 0.045847948640584946, 0.06899476796388626, 0.009147384203970432, 0.02468341588973999, 0.010803528130054474, 0.00677145691588521, 0.008682840503752232, 0.0, 0.0, 0.0], [0.6388808488845825, 0.047732967883348465, 0.01849324256181717, 0.04155905172228813, 0.07416053861379623, 0.028711920604109764, 0.01622585579752922, 0.0188616793602705, 0.010040836408734322, 0.017850089818239212, 0.014612559229135513, 0.07287038117647171, 0.0, 0.0], [0.4674798548221588, 0.055460523813962936, 0.022456740960478783, 0.01131416205316782, 0.0828169509768486, 0.2438075989484787, 0.026100153103470802, 0.021641459316015244, 0.027975432574748993, 0.003367431228980422, 0.003389706602320075, 0.0144597003236413, 0.019730210304260254, 0.0], [0.466645747423172, 0.05827992409467697, 0.02056966908276081, 0.019972385838627815, 0.1540652960538864, 0.07801175117492676, 0.03207072243094444, 0.011742698960006237, 0.03858166188001633, 0.00385590479709208, 0.002225593663752079, 0.00948032084852457, 0.05773372948169708, 0.046764522790908813]], [[1.0, 0.0, 0.0, 0.0, 0.0, 0.0, 0.0, 0.0, 0.0, 0.0, 0.0, 0.0, 0.0, 0.0], [0.852287232875824, 0.1477128118276596, 0.0, 0.0, 0.0, 0.0, 0.0, 0.0, 0.0, 0.0, 0.0, 0.0, 0.0, 0.0], [0.5977823734283447, 0.2913655638694763, 0.11085211485624313, 0.0, 0.0, 0.0, 0.0, 0.0, 0.0, 0.0, 0.0, 0.0, 0.0, 0.0], [0.7715741395950317, 0.13187523186206818, 0.06752283126115799, 0.029027743265032768, 0.0, 0.0, 0.0, 0.0, 0.0, 0.0, 0.0, 0.0, 0.0, 0.0], [0.9163723587989807, 0.045705646276474, 0.018585797399282455, 0.010230653919279575, 0.009105551987886429, 0.0, 0.0, 0.0, 0.0, 0.0, 0.0, 0.0, 0.0, 0.0], [0.6703439950942993, 0.029905131086707115, 0.021884694695472717, 0.06986673176288605, 0.04516149312257767, 0.16283796727657318, 0.0, 0.0, 0.0, 0.0, 0.0, 0.0, 0.0, 0.0], [0.5741020441055298, 0.02557382546365261, 0.018490396440029144, 0.08573209494352341, 0.020649084821343422, 0.03384552523493767, 0.24160704016685486, 0.0, 0.0, 0.0, 0.0, 0.0, 0.0, 0.0], [0.5842077732086182, 0.030162733048200607, 0.0212157741189003, 0.06702633202075958, 0.017749708145856857, 0.0519939623773098, 0.14799955487251282, 0.07964412868022919, 0.0, 0.0, 0.0, 0.0, 0.0, 0.0], [0.4504151940345764, 0.02632354013621807, 0.0145718390122056, 0.030320147052407265, 0.03503406420350075, 0.0278010256588459, 0.20284545421600342, 0.14257338643074036, 0.0701153352856636, 0.0, 0.0, 0.0, 0.0, 0.0], [0.3647421896457672, 0.02952389419078827, 0.02320268377661705, 0.04441457986831665, 0.01716853678226471, 0.015410111285746098, 0.16841472685337067, 0.1364668607711792, 0.12291042506694794, 0.07774602621793747, 0.0, 0.0, 0.0, 0.0], [0.6543954610824585, 0.011426705867052078, 0.010320097208023071, 0.09018869698047638, 0.019678551703691483, 0.044945765286684036, 0.05973714590072632, 0.026469988748431206, 0.04287760332226753, 0.02540765143930912, 0.014552365057170391, 0.0, 0.0, 0.0], [0.4482562243938446, 0.016249215230345726, 0.013295548036694527, 0.07856998592615128, 0.06025386229157448, 0.010965836234390736, 0.06088275462388992, 0.05470803380012512, 0.1409740000963211, 0.04060573875904083, 0.03697536513209343, 0.038263507187366486, 0.0, 0.0], [0.5774124264717102, 0.015213298611342907, 0.010335137136280537, 0.012757295742630959, 0.0038726096972823143, 0.14234881103038788, 0.09187519550323486, 0.057874541729688644, 0.0400276705622673, 0.022448761388659477, 0.005845625884830952, 0.01628773659467697, 0.003700838889926672, 0.0], [0.6761356592178345, 0.0171882975846529, 0.011132686398923397, 0.007229856215417385, 0.00479290122166276, 0.10142738372087479, 0.05575404316186905, 0.023603076115250587, 0.013806227594614029, 0.007728828117251396, 0.005259811878204346, 0.00341701228171587, 0.008816469460725784, 0.06370782852172852]], [[1.0, 0.0, 0.0, 0.0, 0.0, 0.0, 0.0, 0.0, 0.0, 0.0, 0.0, 0.0, 0.0, 0.0], [0.941729724407196, 0.05827030539512634, 0.0, 0.0, 0.0, 0.0, 0.0, 0.0, 0.0, 0.0, 0.0, 0.0, 0.0, 0.0], [0.9748109579086304, 0.021772367879748344, 0.0034167508129030466, 0.0, 0.0, 0.0, 0.0, 0.0, 0.0, 0.0, 0.0, 0.0, 0.0, 0.0], [0.9886668920516968, 0.006475094705820084, 0.002181779593229294, 0.002676193369552493, 0.0, 0.0, 0.0, 0.0, 0.0, 0.0, 0.0, 0.0, 0.0, 0.0], [0.4633868634700775, 0.07603894919157028, 0.0756256952881813, 0.2741086184978485, 0.1108398586511612, 0.0, 0.0, 0.0, 0.0, 0.0, 0.0, 0.0, 0.0, 0.0], [0.7352966070175171, 0.01981721818447113, 0.013784339651465416, 0.030302854254841805, 0.08596500009298325, 0.1148340106010437, 0.0, 0.0, 0.0, 0.0, 0.0, 0.0, 0.0, 0.0], [0.8655466437339783, 0.00923914648592472, 0.0021819465328007936, 0.004715369548648596, 0.01421272847801447, 0.03142699971795082, 0.0726771131157875, 0.0, 0.0, 0.0, 0.0, 0.0, 0.0, 0.0], [0.7101003527641296, 0.012786438688635826, 0.0032488536089658737, 0.007253868505358696, 0.015992887318134308, 0.03329487517476082, 0.18741273880004883, 0.029910000041127205, 0.0, 0.0, 0.0, 0.0, 0.0, 0.0], [0.6574022769927979, 0.030006829649209976, 0.006568222772330046, 0.012522803619503975, 0.012855492532253265, 0.05998918041586876, 0.12780731916427612, 0.05256549268960953, 0.040282368659973145, 0.0, 0.0, 0.0, 0.0, 0.0], [0.6409436464309692, 0.01143496111035347, 0.005458773113787174, 0.010472984984517097, 0.012602093629539013, 0.03393986076116562, 0.106502003967762, 0.03468681499361992, 0.11757218837738037, 0.02638661488890648, 0.0, 0.0, 0.0, 0.0], [0.8188486099243164, 0.00812626164406538, 0.0037812218070030212, 0.006109780631959438, 0.004191393032670021, 0.009803648106753826, 0.02629736438393593, 0.019142959266901016, 0.034039780497550964, 0.06185747683048248, 0.0078015197068452835, 0.0, 0.0, 0.0], [0.9242147207260132, 0.0027070781216025352, 0.0013078439515084028, 0.004277451429516077, 0.002847995376214385, 0.0023109421599656343, 0.009194226004183292, 0.005099799484014511, 0.01986086368560791, 0.006856877822428942, 0.006726966705173254, 0.014595231041312218, 0.0, 0.0], [0.37283003330230713, 0.014889592304825783, 0.011242097243666649, 0.018764035776257515, 0.013491549529135227, 0.018274370580911636, 0.0654710978269577, 0.034175727516412735, 0.03811226785182953, 0.06626775860786438, 0.08660946041345596, 0.1997336745262146, 0.06013829633593559, 0.0], [0.674541175365448, 0.009081280790269375, 0.0072641270235180855, 0.005720483139157295, 0.018329907208681107, 0.03249556943774223, 0.06742292642593384, 0.01740211993455887, 0.027129672467708588, 0.015086391940712929, 0.01255119126290083, 0.028451411053538322, 0.04827443137764931, 0.03624933585524559]], [[1.0, 0.0, 0.0, 0.0, 0.0, 0.0, 0.0, 0.0, 0.0, 0.0, 0.0, 0.0, 0.0, 0.0], [0.952290415763855, 0.04770956560969353, 0.0, 0.0, 0.0, 0.0, 0.0, 0.0, 0.0, 0.0, 0.0, 0.0, 0.0, 0.0], [0.9067240357398987, 0.08184162527322769, 0.011434410698711872, 0.0, 0.0, 0.0, 0.0, 0.0, 0.0, 0.0, 0.0, 0.0, 0.0, 0.0], [0.888256311416626, 0.07448436319828033, 0.010032223537564278, 0.027227163314819336, 0.0, 0.0, 0.0, 0.0, 0.0, 0.0, 0.0, 0.0, 0.0, 0.0], [0.9684136509895325, 0.007303997408598661, 0.00152804353274405, 0.01026430819183588, 0.012490001507103443, 0.0, 0.0, 0.0, 0.0, 0.0, 0.0, 0.0, 0.0, 0.0], [0.8955701589584351, 0.022587019950151443, 0.004477143753319979, 0.035977110266685486, 0.023201236501336098, 0.018187208101153374, 0.0, 0.0, 0.0, 0.0, 0.0, 0.0, 0.0, 0.0], [0.9102998375892639, 0.02365150675177574, 0.0037811999209225178, 0.02671518176794052, 0.015170296654105186, 0.01086487527936697, 0.0095169423148036, 0.0, 0.0, 0.0, 0.0, 0.0, 0.0, 0.0], [0.9312365651130676, 0.015168312005698681, 0.0026657432317733765, 0.020662931725382805, 0.011725612916052341, 0.0063106594607234, 0.008426213636994362, 0.0038038205821067095, 0.0, 0.0, 0.0, 0.0, 0.0, 0.0], [0.9668128490447998, 0.005541034042835236, 0.0006618613842874765, 0.009713064879179, 0.006270129233598709, 0.0032332190312445164, 0.002613409887999296, 0.0005969830090180039, 0.004557461477816105, 0.0, 0.0, 0.0, 0.0, 0.0], [0.8732569217681885, 0.009756211191415787, 0.003483660751953721, 0.06903409212827682, 0.013690781779587269, 0.005578816402703524, 0.004066229797899723, 0.0020395449828356504, 0.014318762347102165, 0.004774905741214752, 0.0, 0.0, 0.0, 0.0], [0.9695219397544861, 0.001716621802188456, 0.0005265222280286252, 0.016987847164273262, 0.0033918230328708887, 0.0010821442119777203, 0.0014244586927816272, 0.0006102001643739641, 0.0019012481207028031, 0.0007924209930934012, 0.002044759690761566, 0.0, 0.0, 0.0], [0.9117960929870605, 0.00813333597034216, 0.001289839274249971, 0.03422878682613373, 0.012946845032274723, 0.002455023117363453, 0.002550798933953047, 0.0007919063791632652, 0.0032853451557457447, 0.002483805874362588, 0.011798695661127567, 0.0082394415512681, 0.0, 0.0], [0.950020432472229, 0.003063598880544305, 0.0009110532701015472, 0.008074995130300522, 0.004068328067660332, 0.002517815912142396, 0.0013088692212477326, 0.0004680330748669803, 0.0019522630609571934, 0.0005649774102494121, 0.0013823109911754727, 0.001675695413723588, 0.02399170584976673, 0.0], [0.8233113288879395, 0.016653312370181084, 0.004034877754747868, 0.0142088383436203, 0.012356696650385857, 0.011362351477146149, 0.010901622474193573, 0.004093277268111706, 0.01841490902006626, 0.005266142543405294, 0.0036441481206566095, 0.004480993840843439, 0.05850675702095032, 0.01276475004851818]], [[1.0, 0.0, 0.0, 0.0, 0.0, 0.0, 0.0, 0.0, 0.0, 0.0, 0.0, 0.0, 0.0, 0.0], [0.9429323077201843, 0.057067688554525375, 0.0, 0.0, 0.0, 0.0, 0.0, 0.0, 0.0, 0.0, 0.0, 0.0, 0.0, 0.0], [0.8574748039245605, 0.08254716545343399, 0.05997810140252113, 0.0, 0.0, 0.0, 0.0, 0.0, 0.0, 0.0, 0.0, 0.0, 0.0, 0.0], [0.7989922165870667, 0.08738717436790466, 0.03603252023458481, 0.07758810371160507, 0.0, 0.0, 0.0, 0.0, 0.0, 0.0, 0.0, 0.0, 0.0, 0.0], [0.8956095576286316, 0.038595426827669144, 0.010980313643813133, 0.02003776654601097, 0.03477688506245613, 0.0, 0.0, 0.0, 0.0, 0.0, 0.0, 0.0, 0.0, 0.0], [0.7042754292488098, 0.083653524518013, 0.03248795494437218, 0.039225023239851, 0.05831703543663025, 0.08204102516174316, 0.0, 0.0, 0.0, 0.0, 0.0, 0.0, 0.0, 0.0], [0.6995767951011658, 0.057951491326093674, 0.02310236357152462, 0.030421387404203415, 0.05926999822258949, 0.056279316544532776, 0.0733986347913742, 0.0, 0.0, 0.0, 0.0, 0.0, 0.0, 0.0], [0.7249913215637207, 0.037671007215976715, 0.019602809101343155, 0.03729453682899475, 0.04473475366830826, 0.036482587456703186, 0.06006823480129242, 0.039154794067144394, 0.0, 0.0, 0.0, 0.0, 0.0, 0.0], [0.733765721321106, 0.05544798821210861, 0.010305914096534252, 0.019165566191077232, 0.05873699486255646, 0.04301360622048378, 0.03651982545852661, 0.023266827687621117, 0.01977754384279251, 0.0, 0.0, 0.0, 0.0, 0.0], [0.509107232093811, 0.04206229746341705, 0.0256170853972435, 0.19827206432819366, 0.0693112388253212, 0.03445203974843025, 0.026448089629411697, 0.027877891436219215, 0.037780240178108215, 0.029071716591715813, 0.0, 0.0, 0.0, 0.0], [0.880706787109375, 0.010021654888987541, 0.006611845921725035, 0.011048012413084507, 0.017821980640292168, 0.03039177879691124, 0.011886825785040855, 0.014590317383408546, 0.006744793150573969, 0.006463251542299986, 0.00371284456923604, 0.0, 0.0, 0.0], [0.7582467794418335, 0.02864203415811062, 0.010044509544968605, 0.0155792823061347, 0.03551434725522995, 0.03679346665740013, 0.022684691473841667, 0.015602030791342258, 0.007239907048642635, 0.011206138879060745, 0.02937859669327736, 0.029068298637866974, 0.0, 0.0], [0.7509968280792236, 0.013541954569518566, 0.006139077711850405, 0.004187279846519232, 0.03623679652810097, 0.01694771647453308, 0.01582978665828705, 0.008441228419542313, 0.017673606052994728, 0.004661524202674627, 0.003559335134923458, 0.007469472475349903, 0.11431538313627243, 0.0], [0.4720706045627594, 0.041455745697021484, 0.014684494584798813, 0.003411443205550313, 0.02087286487221718, 0.038274165242910385, 0.0613958016037941, 0.049608346074819565, 0.1210685670375824, 0.013057391159236431, 0.002579475985839963, 0.009105696342885494, 0.0915631428360939, 0.060852233320474625]], [[1.0, 0.0, 0.0, 0.0, 0.0, 0.0, 0.0, 0.0, 0.0, 0.0, 0.0, 0.0, 0.0, 0.0], [0.9715706706047058, 0.0284293070435524, 0.0, 0.0, 0.0, 0.0, 0.0, 0.0, 0.0, 0.0, 0.0, 0.0, 0.0, 0.0], [0.9853899478912354, 0.007146109826862812, 0.007463853806257248, 0.0, 0.0, 0.0, 0.0, 0.0, 0.0, 0.0, 0.0, 0.0, 0.0, 0.0], [0.9709479808807373, 0.006864225957542658, 0.003886609338223934, 0.018301233649253845, 0.0, 0.0, 0.0, 0.0, 0.0, 0.0, 0.0, 0.0, 0.0, 0.0], [0.9634096026420593, 0.012249879539012909, 0.007340733427554369, 0.004557302221655846, 0.012442621402442455, 0.0, 0.0, 0.0, 0.0, 0.0, 0.0, 0.0, 0.0, 0.0], [0.9569475650787354, 0.006982563994824886, 0.011830886825919151, 0.009027998894453049, 0.0025111890863627195, 0.012699857354164124, 0.0, 0.0, 0.0, 0.0, 0.0, 0.0, 0.0, 0.0], [0.8258829712867737, 0.023410087451338768, 0.03590484708547592, 0.01737336814403534, 0.0024037028197199106, 0.03832489252090454, 0.05669999122619629, 0.0, 0.0, 0.0, 0.0, 0.0, 0.0, 0.0], [0.8162733912467957, 0.008343545719981194, 0.013451758772134781, 0.010910705663263798, 0.0014315239386633039, 0.008114797063171864, 0.05460333079099655, 0.08687102794647217, 0.0, 0.0, 0.0, 0.0, 0.0, 0.0], [0.7604920864105225, 0.03426530584692955, 0.01200377382338047, 0.011141609400510788, 0.008508720435202122, 0.03794896975159645, 0.016591031104326248, 0.09742020070552826, 0.02162831649184227, 0.0, 0.0, 0.0, 0.0, 0.0], [0.6946133375167847, 0.015368306078016758, 0.07783956825733185, 0.02348063886165619, 0.003604503348469734, 0.03530464693903923, 0.020347481593489647, 0.0760197788476944, 0.017966097220778465, 0.03545558452606201, 0.0, 0.0, 0.0, 0.0], [0.9273688793182373, 0.005033642984926701, 0.003223070874810219, 0.004041919484734535, 0.0008596400148235261, 0.024146826937794685, 0.004357299767434597, 0.021377399563789368, 0.0019328051712363958, 0.0048385062254965305, 0.0028199900407344103, 0.0, 0.0, 0.0], [0.8435202240943909, 0.009247185662388802, 0.005716059822589159, 0.010026153177022934, 0.00199225265532732, 0.009747279807925224, 0.008093072101473808, 0.06861113756895065, 0.00829065777361393, 0.011116445064544678, 0.0031571309082210064, 0.020482510328292847, 0.0, 0.0], [0.831920325756073, 0.01640048250555992, 0.00964549370110035, 0.006452456116676331, 0.0027914992533624172, 0.05211375653743744, 0.043014608323574066, 0.010651899501681328, 0.008341399021446705, 0.003340560244396329, 0.000741494121029973, 0.005014016758650541, 0.009572084061801434, 0.0], [0.7137886881828308, 0.011084839701652527, 0.01225652638822794, 0.004443407524377108, 0.002662040526047349, 0.02115318551659584, 0.14073997735977173, 0.019631749019026756, 0.03708699345588684, 0.00695645110681653, 0.001062970608472824, 0.00797626469284296, 0.007602600380778313, 0.013554250821471214]], [[1.0, 0.0, 0.0, 0.0, 0.0, 0.0, 0.0, 0.0, 0.0, 0.0, 0.0, 0.0, 0.0, 0.0], [0.9098873138427734, 0.09011263400316238, 0.0, 0.0, 0.0, 0.0, 0.0, 0.0, 0.0, 0.0, 0.0, 0.0, 0.0, 0.0], [0.9117052555084229, 0.08076833188533783, 0.007526483852416277, 0.0, 0.0, 0.0, 0.0, 0.0, 0.0, 0.0, 0.0, 0.0, 0.0, 0.0], [0.9160619378089905, 0.024253856390714645, 0.029322920367121696, 0.03036130964756012, 0.0, 0.0, 0.0, 0.0, 0.0, 0.0, 0.0, 0.0, 0.0, 0.0], [0.6530798673629761, 0.018093666061758995, 0.03981003165245056, 0.21772781014442444, 0.07128849625587463, 0.0, 0.0, 0.0, 0.0, 0.0, 0.0, 0.0, 0.0, 0.0], [0.7990173697471619, 0.028395093977451324, 0.012884785421192646, 0.021993564441800117, 0.05789870768785477, 0.07981038838624954, 0.0, 0.0, 0.0, 0.0, 0.0, 0.0, 0.0, 0.0], [0.7317042946815491, 0.019539812579751015, 0.019987167790532112, 0.020385490730404854, 0.052354149520397186, 0.09501367807388306, 0.06101538985967636, 0.0, 0.0, 0.0, 0.0, 0.0, 0.0, 0.0], [0.48945531249046326, 0.04043743386864662, 0.01912439428269863, 0.01985855959355831, 0.06709182262420654, 0.09053424745798111, 0.23205479979515076, 0.041443485766649246, 0.0, 0.0, 0.0, 0.0, 0.0, 0.0], [0.8355019092559814, 0.016275672242045403, 0.011703886091709137, 0.008482451550662518, 0.01618685945868492, 0.02476339042186737, 0.011443886905908585, 0.005393739324063063, 0.07024826854467392, 0.0, 0.0, 0.0, 0.0, 0.0], [0.598537027835846, 0.032704949378967285, 0.01403284166008234, 0.0063742585480213165, 0.031163889914751053, 0.04101356863975525, 0.03607683628797531, 0.014672340825200081, 0.11815252900123596, 0.10727168619632721, 0.0, 0.0, 0.0, 0.0], [0.8873127102851868, 0.00551197212189436, 0.0027590536046773195, 0.001609453116543591, 0.0022569727152585983, 0.008882880210876465, 0.015952249988913536, 0.00612898264080286, 0.020269960165023804, 0.033559516072273254, 0.015756292268633842, 0.0, 0.0, 0.0], [0.49025511741638184, 0.016315504908561707, 0.005052654072642326, 0.0052017942070961, 0.025047842413187027, 0.011496391147375107, 0.016702694818377495, 0.006790506653487682, 0.14636313915252686, 0.1012590155005455, 0.11163223534822464, 0.0638832151889801, 0.0, 0.0], [0.68961501121521, 0.009206175804138184, 0.009328025393188, 0.004541046917438507, 0.006458180025219917, 0.014846025966107845, 0.011820647865533829, 0.008211543783545494, 0.03339322283864021, 0.04513261467218399, 0.008792020380496979, 0.07372380793094635, 0.08493155241012573, 0.0], [0.6497674584388733, 0.006475768983364105, 0.0034567564725875854, 0.003960908856242895, 0.015874821692705154, 0.024670399725437164, 0.01574081741273403, 0.00825292058289051, 0.01728004589676857, 0.019373351708054543, 0.018698757514357567, 0.013372272253036499, 0.14807076752185822, 0.055004965513944626]], [[1.0, 0.0, 0.0, 0.0, 0.0, 0.0, 0.0, 0.0, 0.0, 0.0, 0.0, 0.0, 0.0, 0.0], [0.9733080267906189, 0.026691939681768417, 0.0, 0.0, 0.0, 0.0, 0.0, 0.0, 0.0, 0.0, 0.0, 0.0, 0.0, 0.0], [0.9759976267814636, 0.01838567480444908, 0.005616673268377781, 0.0, 0.0, 0.0, 0.0, 0.0, 0.0, 0.0, 0.0, 0.0, 0.0, 0.0], [0.9486284852027893, 0.016760358586907387, 0.003138540545478463, 0.031472545117139816, 0.0, 0.0, 0.0, 0.0, 0.0, 0.0, 0.0, 0.0, 0.0, 0.0], [0.9720732569694519, 0.009393866173923016, 0.0036368437577039003, 0.01287772972136736, 0.0020183261949568987, 0.0, 0.0, 0.0, 0.0, 0.0, 0.0, 0.0, 0.0, 0.0], [0.9571297764778137, 0.009505398571491241, 0.005180583335459232, 0.018469499424099922, 0.004752726294100285, 0.00496207270771265, 0.0, 0.0, 0.0, 0.0, 0.0, 0.0, 0.0, 0.0], [0.944650411605835, 0.012040610425174236, 0.007061551790684462, 0.019064340740442276, 0.0063072494231164455, 0.004200957249850035, 0.006674943957477808, 0.0, 0.0, 0.0, 0.0, 0.0, 0.0, 0.0], [0.9249348640441895, 0.012995978817343712, 0.008399024605751038, 0.026534883305430412, 0.006635541561990976, 0.0033097814302891493, 0.010028124786913395, 0.007161800283938646, 0.0, 0.0, 0.0, 0.0, 0.0, 0.0], [0.931251049041748, 0.015960119664669037, 0.0012852984946221113, 0.01285961177200079, 0.008126761764287949, 0.0030117263086140156, 0.006509626749902964, 0.0029802729841321707, 0.018015509471297264, 0.0, 0.0, 0.0, 0.0, 0.0], [0.8874537944793701, 0.011973206885159016, 0.006972636561840773, 0.04030730202794075, 0.004095000214874744, 0.003498509991914034, 0.008899255655705929, 0.011755125597119331, 0.018555866554379463, 0.006489299237728119, 0.0, 0.0, 0.0, 0.0], [0.8793167471885681, 0.014849547296762466, 0.005843482445925474, 0.035231493413448334, 0.005259575787931681, 0.010970806702971458, 0.011794988065958023, 0.0138758085668087, 0.012563280761241913, 0.0043618883937597275, 0.005932264029979706, 0.0, 0.0, 0.0], [0.8075531125068665, 0.020064955577254295, 0.0065012224949896336, 0.05429249629378319, 0.00820858683437109, 0.004184666555374861, 0.017415810376405716, 0.008406617678701878, 0.011280082166194916, 0.009965627454221249, 0.01353645883500576, 0.0385904535651207, 0.0, 0.0], [0.8653897643089294, 0.017604634165763855, 0.013726873323321342, 0.01084323413670063, 0.0022115923929959536, 0.006600669119507074, 0.012907464057207108, 0.007113496772944927, 0.011093463748693466, 0.002334401709958911, 0.0033358559012413025, 0.00901029072701931, 0.037828266620635986, 0.0], [0.8021625280380249, 0.014536316506564617, 0.010533577762544155, 0.015274484641849995, 0.0051214382983744144, 0.005045727360993624, 0.010300971567630768, 0.005357042420655489, 0.032388873398303986, 0.005849078297615051, 0.0037080952897667885, 0.006303863599896431, 0.07736848294734955, 0.006049631629139185]], [[1.0, 0.0, 0.0, 0.0, 0.0, 0.0, 0.0, 0.0, 0.0, 0.0, 0.0, 0.0, 0.0, 0.0], [0.809025764465332, 0.19097423553466797, 0.0, 0.0, 0.0, 0.0, 0.0, 0.0, 0.0, 0.0, 0.0, 0.0, 0.0, 0.0], [0.16200238466262817, 0.8017200827598572, 0.03627747669816017, 0.0, 0.0, 0.0, 0.0, 0.0, 0.0, 0.0, 0.0, 0.0, 0.0, 0.0], [0.3821012079715729, 0.4623072147369385, 0.10850725322961807, 0.047084320336580276, 0.0, 0.0, 0.0, 0.0, 0.0, 0.0, 0.0, 0.0, 0.0, 0.0], [0.9590693116188049, 0.010515950620174408, 0.011289136484265327, 0.016011225059628487, 0.0031143457163125277, 0.0, 0.0, 0.0, 0.0, 0.0, 0.0, 0.0, 0.0, 0.0], [0.9588961005210876, 0.005982778500765562, 0.002764899982139468, 0.011057949624955654, 0.011386601254343987, 0.009911790490150452, 0.0, 0.0, 0.0, 0.0, 0.0, 0.0, 0.0, 0.0], [0.8803179860115051, 0.021966012194752693, 0.006009289994835854, 0.024008464068174362, 0.028613032773137093, 0.01719856634736061, 0.021886693313717842, 0.0, 0.0, 0.0, 0.0, 0.0, 0.0, 0.0], [0.8111280202865601, 0.03119518980383873, 0.010291689075529575, 0.041243549436330795, 0.03335889056324959, 0.014362677000463009, 0.04857253283262253, 0.009847491979598999, 0.0, 0.0, 0.0, 0.0, 0.0, 0.0], [0.8949227929115295, 0.02784847468137741, 0.004200855270028114, 0.012472455389797688, 0.012260220013558865, 0.006639449391514063, 0.030308745801448822, 0.004050279501825571, 0.007296738680452108, 0.0, 0.0, 0.0, 0.0, 0.0], [0.6440277099609375, 0.05181201547384262, 0.024139387533068657, 0.02633948251605034, 0.05267558619379997, 0.011366311460733414, 0.02124003693461418, 0.015252852812409401, 0.1053779348731041, 0.04776855930685997, 0.0, 0.0, 0.0, 0.0], [0.985980212688446, 0.0006058069411665201, 0.0002171806845581159, 0.0003114401188213378, 0.001977699575945735, 0.001107744057662785, 0.0038174111396074295, 0.0009075144189409912, 0.002484280848875642, 0.0009222686639986932, 0.0016684168949723244, 0.0, 0.0, 0.0], [0.9277196526527405, 0.002448235172778368, 0.0006787531892769039, 0.003483177861198783, 0.014911618083715439, 0.004151623230427504, 0.018113384023308754, 0.0015732534229755402, 0.008338109590113163, 0.006167630665004253, 0.005255600903183222, 0.0071589346043765545, 0.0, 0.0], [0.9598388075828552, 0.002943397266790271, 0.001606257283128798, 0.0006882424931973219, 0.001267305575311184, 0.001955089159309864, 0.0037279666867107153, 0.0006732759648002684, 0.001533755799755454, 0.0014771705027669668, 0.0017983190482482314, 0.0010621098335832357, 0.021428395062685013, 0.0], [0.8880530595779419, 0.00667564058676362, 0.005894288886338472, 0.014837861061096191, 0.00497159268707037, 0.0027737992350012064, 0.014587823301553726, 0.001163878128863871, 0.007685377728193998, 0.006568992510437965, 0.004137193784117699, 0.0017442845273762941, 0.03465266525745392, 0.006253410596400499]]], [[[1.0, 0.0, 0.0, 0.0, 0.0, 0.0, 0.0, 0.0, 0.0, 0.0, 0.0, 0.0, 0.0, 0.0], [0.5463716387748718, 0.45362839102745056, 0.0, 0.0, 0.0, 0.0, 0.0, 0.0, 0.0, 0.0, 0.0, 0.0, 0.0, 0.0], [0.3588636517524719, 0.2810429334640503, 0.36009344458580017, 0.0, 0.0, 0.0, 0.0, 0.0, 0.0, 0.0, 0.0, 0.0, 0.0, 0.0], [0.3456951975822449, 0.17747363448143005, 0.2433812916278839, 0.2334498018026352, 0.0, 0.0, 0.0, 0.0, 0.0, 0.0, 0.0, 0.0, 0.0, 0.0], [0.17037653923034668, 0.22646446526050568, 0.19702652096748352, 0.2491052746772766, 0.15702727437019348, 0.0, 0.0, 0.0, 0.0, 0.0, 0.0, 0.0, 0.0, 0.0], [0.18392327427864075, 0.07951205968856812, 0.141129270195961, 0.12836462259292603, 0.11717286705970764, 0.3498978912830353, 0.0, 0.0, 0.0, 0.0, 0.0, 0.0, 0.0, 0.0], [0.07903314381837845, 0.16389939188957214, 0.21149909496307373, 0.18203763663768768, 0.06448283791542053, 0.1077723428606987, 0.19127561151981354, 0.0, 0.0, 0.0, 0.0, 0.0, 0.0, 0.0], [0.09645873308181763, 0.1688689887523651, 0.15510611236095428, 0.12571197748184204, 0.06312061101198196, 0.1111995056271553, 0.16735632717609406, 0.1121777594089508, 0.0, 0.0, 0.0, 0.0, 0.0, 0.0], [0.07221459597349167, 0.11714179068803787, 0.2641633152961731, 0.11560394614934921, 0.05390284210443497, 0.062364380806684494, 0.1025889664888382, 0.06582421064376831, 0.1461959034204483, 0.0, 0.0, 0.0, 0.0, 0.0], [0.08671199530363083, 0.10435127466917038, 0.22279450297355652, 0.09020796418190002, 0.05181970074772835, 0.04558604583144188, 0.12249694019556046, 0.06906775385141373, 0.10920462757349014, 0.09775909781455994, 0.0, 0.0, 0.0, 0.0], [0.1591988205909729, 0.07374086230993271, 0.13112881779670715, 0.12391608953475952, 0.10689184814691544, 0.036763355135917664, 0.0795174092054367, 0.05245257169008255, 0.11325103789567947, 0.0649901032447815, 0.0581490695476532, 0.0, 0.0, 0.0], [0.18148791790008545, 0.09725065529346466, 0.16284002363681793, 0.10915445536375046, 0.10415134578943253, 0.04557517543435097, 0.0558028519153595, 0.034089718014001846, 0.06451953947544098, 0.04537634924054146, 0.04812171682715416, 0.05163021758198738, 0.0, 0.0], [0.15433356165885925, 0.1578369140625, 0.06306162476539612, 0.04986787959933281, 0.061026521027088165, 0.10677389055490494, 0.10379970818758011, 0.059479616582393646, 0.0772094652056694, 0.07009513676166534, 0.011763068847358227, 0.040098123252391815, 0.0446544848382473, 0.0], [0.11984856426715851, 0.08070021122694016, 0.102138951420784, 0.05837146192789078, 0.06030886247754097, 0.22541606426239014, 0.045762304216623306, 0.03006216138601303, 0.06995294988155365, 0.01048336923122406, 0.008219358511269093, 0.03371104598045349, 0.06290785223245621, 0.09211695194244385]], [[1.0, 0.0, 0.0, 0.0, 0.0, 0.0, 0.0, 0.0, 0.0, 0.0, 0.0, 0.0, 0.0, 0.0], [0.9334095120429993, 0.0665905624628067, 0.0, 0.0, 0.0, 0.0, 0.0, 0.0, 0.0, 0.0, 0.0, 0.0, 0.0, 0.0], [0.8966986536979675, 0.06135724484920502, 0.041944123804569244, 0.0, 0.0, 0.0, 0.0, 0.0, 0.0, 0.0, 0.0, 0.0, 0.0, 0.0], [0.8125150203704834, 0.07653000205755234, 0.05975233390927315, 0.0512026809155941, 0.0, 0.0, 0.0, 0.0, 0.0, 0.0, 0.0, 0.0, 0.0, 0.0], [0.9022107124328613, 0.04239755496382713, 0.025353558361530304, 0.014207648113369942, 0.015830544754862785, 0.0, 0.0, 0.0, 0.0, 0.0, 0.0, 0.0, 0.0, 0.0], [0.668120265007019, 0.10474281013011932, 0.04680377617478371, 0.05074324831366539, 0.02480364590883255, 0.10478628426790237, 0.0, 0.0, 0.0, 0.0, 0.0, 0.0, 0.0, 0.0], [0.5733851194381714, 0.15123885869979858, 0.041402194648981094, 0.04637574404478073, 0.03180511295795441, 0.08215473592281342, 0.07363827526569366, 0.0, 0.0, 0.0, 0.0, 0.0, 0.0, 0.0], [0.5487764477729797, 0.11802365630865097, 0.03790837153792381, 0.04958059638738632, 0.03586224466562271, 0.07754357159137726, 0.08001549541950226, 0.05228963494300842, 0.0, 0.0, 0.0, 0.0, 0.0, 0.0], [0.9032284617424011, 0.01821449026465416, 0.007452792953699827, 0.013392082415521145, 0.01125316135585308, 0.015576626174151897, 0.015107748098671436, 0.004405034705996513, 0.011369534768164158, 0.0, 0.0, 0.0, 0.0, 0.0], [0.639033854007721, 0.0427217073738575, 0.02157985046505928, 0.08043516427278519, 0.020261159166693687, 0.04891493171453476, 0.0488835945725441, 0.032501380890607834, 0.035406336188316345, 0.030261892825365067, 0.0, 0.0, 0.0, 0.0], [0.8080968260765076, 0.0183169674128294, 0.01247998047620058, 0.035516031086444855, 0.007675190921872854, 0.024258797988295555, 0.04237891361117363, 0.017952974885702133, 0.011378278955817223, 0.012091047130525112, 0.009855150245130062, 0.0, 0.0, 0.0], [0.8109350204467773, 0.021016977727413177, 0.011873308569192886, 0.02165372483432293, 0.018803877755999565, 0.02043982595205307, 0.021706867963075638, 0.01243457943201065, 0.011043154634535313, 0.01699628122150898, 0.012317714281380177, 0.02077861689031124, 0.0, 0.0], [0.7444407939910889, 0.03834131732583046, 0.021661285310983658, 0.020266352221369743, 0.015788307413458824, 0.0433431938290596, 0.03376736864447594, 0.011239085346460342, 0.015027905814349651, 0.01721355691552162, 0.011476046405732632, 0.0176595039665699, 0.009775317274034023, 0.0], [0.42276403307914734, 0.09417515993118286, 0.03542222082614899, 0.028990842401981354, 0.03515702486038208, 0.07949597388505936, 0.06949157267808914, 0.03869223594665527, 0.049101293087005615, 0.043506231158971786, 0.009098426438868046, 0.01290914136916399, 0.022338123992085457, 0.05885782092809677]], [[1.0, 0.0, 0.0, 0.0, 0.0, 0.0, 0.0, 0.0, 0.0, 0.0, 0.0, 0.0, 0.0, 0.0], [0.9705594182014465, 0.029440592974424362, 0.0, 0.0, 0.0, 0.0, 0.0, 0.0, 0.0, 0.0, 0.0, 0.0, 0.0, 0.0], [0.9547629356384277, 0.030972618609666824, 0.014264480210840702, 0.0, 0.0, 0.0, 0.0, 0.0, 0.0, 0.0, 0.0, 0.0, 0.0, 0.0], [0.9119239449501038, 0.02861930988729, 0.012363801710307598, 0.04709296301007271, 0.0, 0.0, 0.0, 0.0, 0.0, 0.0, 0.0, 0.0, 0.0, 0.0], [0.9192259907722473, 0.03244883939623833, 0.0074203177355229855, 0.03397994861006737, 0.006924917921423912, 0.0, 0.0, 0.0, 0.0, 0.0, 0.0, 0.0, 0.0, 0.0], [0.8396400809288025, 0.02677166275680065, 0.010812204331159592, 0.02669024094939232, 0.005816127173602581, 0.09026966243982315, 0.0, 0.0, 0.0, 0.0, 0.0, 0.0, 0.0, 0.0], [0.8041862845420837, 0.029452526941895485, 0.009590686298906803, 0.028909994289278984, 0.006848962511867285, 0.10022171586751938, 0.020789911970496178, 0.0, 0.0, 0.0, 0.0, 0.0, 0.0, 0.0], [0.8006122708320618, 0.02491423301398754, 0.01102981436997652, 0.028502782806754112, 0.005564963445067406, 0.0853162556886673, 0.020844297483563423, 0.02321530506014824, 0.0, 0.0, 0.0, 0.0, 0.0, 0.0], [0.9572033882141113, 0.008483401499688625, 0.003446597373113036, 0.007571856025606394, 0.0018474081298336387, 0.0073943170718848705, 0.0031175296753644943, 0.004126223269850016, 0.006809255573898554, 0.0, 0.0, 0.0, 0.0, 0.0], [0.8304961323738098, 0.018486978486180305, 0.010839993134140968, 0.03576105460524559, 0.004971719346940517, 0.04364961013197899, 0.017750151455402374, 0.021097775548696518, 0.012496053241193295, 0.004450615029782057, 0.0, 0.0, 0.0, 0.0], [0.8657175302505493, 0.014974899590015411, 0.0051574246026575565, 0.03424600139260292, 0.004675690550357103, 0.02254645898938179, 0.017315266653895378, 0.02078384906053543, 0.005964473355561495, 0.004507455509155989, 0.0041110459715127945, 0.0, 0.0, 0.0], [0.9315881133079529, 0.01021148543804884, 0.004991446156054735, 0.015009846538305283, 0.0023627534974366426, 0.004740734118968248, 0.004777034744620323, 0.004106678068637848, 0.00362718035466969, 0.003198161954060197, 0.00778623390942812, 0.007600354962050915, 0.0, 0.0], [0.8042243123054504, 0.028069710358977318, 0.009530587121844292, 0.02066822722554207, 0.003239284036681056, 0.05629104748368263, 0.01884259656071663, 0.024860406294465065, 0.00442092027515173, 0.00276989140547812, 0.006272758357226849, 0.00952135305851698, 0.011288957670331001, 0.0], [0.6460960507392883, 0.019332967698574066, 0.00988798402249813, 0.013244221918284893, 0.0034684394486248493, 0.07392203062772751, 0.01799117960035801, 0.029721641913056374, 0.01747048646211624, 0.0021021906286478043, 0.010241624899208546, 0.011371631175279617, 0.03961579129099846, 0.10553380846977234]], [[1.0, 0.0, 0.0, 0.0, 0.0, 0.0, 0.0, 0.0, 0.0, 0.0, 0.0, 0.0, 0.0, 0.0], [0.8321957588195801, 0.16780422627925873, 0.0, 0.0, 0.0, 0.0, 0.0, 0.0, 0.0, 0.0, 0.0, 0.0, 0.0, 0.0], [0.5371943712234497, 0.3766607940196991, 0.08614479750394821, 0.0, 0.0, 0.0, 0.0, 0.0, 0.0, 0.0, 0.0, 0.0, 0.0, 0.0], [0.46155962347984314, 0.20308801531791687, 0.23344922065734863, 0.10190316289663315, 0.0, 0.0, 0.0, 0.0, 0.0, 0.0, 0.0, 0.0, 0.0, 0.0], [0.7394497394561768, 0.06183901056647301, 0.08506838977336884, 0.08383943140506744, 0.029803447425365448, 0.0, 0.0, 0.0, 0.0, 0.0, 0.0, 0.0, 0.0, 0.0], [0.4935098886489868, 0.10043849050998688, 0.035361405462026596, 0.06956396996974945, 0.0804772600531578, 0.2206488996744156, 0.0, 0.0, 0.0, 0.0, 0.0, 0.0, 0.0, 0.0], [0.30930086970329285, 0.08772014826536179, 0.031105203554034233, 0.06526385992765427, 0.08463574945926666, 0.2787284851074219, 0.1432456374168396, 0.0, 0.0, 0.0, 0.0, 0.0, 0.0, 0.0], [0.2679685056209564, 0.0688323825597763, 0.02667335793375969, 0.06227298825979233, 0.07667294144630432, 0.21396294236183167, 0.2130115032196045, 0.0706053227186203, 0.0, 0.0, 0.0, 0.0, 0.0, 0.0], [0.7088435292243958, 0.031801749020814896, 0.015383303165435791, 0.018658233806490898, 0.06391478329896927, 0.052539657801389694, 0.03976409137248993, 0.02223624475300312, 0.04685837775468826, 0.0, 0.0, 0.0, 0.0, 0.0], [0.4527076780796051, 0.059163905680179596, 0.02291047014296055, 0.02890746295452118, 0.04605916887521744, 0.11681174486875534, 0.10070548951625824, 0.053066521883010864, 0.0756196528673172, 0.04404783621430397, 0.0, 0.0, 0.0, 0.0], [0.6201930046081543, 0.052705682814121246, 0.024829037487506866, 0.022951027378439903, 0.031841471791267395, 0.05884586274623871, 0.051555272191762924, 0.02927924506366253, 0.03197155147790909, 0.04834609851241112, 0.02748197689652443, 0.0, 0.0, 0.0], [0.6513921618461609, 0.031798042356967926, 0.018273133784532547, 0.017485903576016426, 0.03281083703041077, 0.030440909788012505, 0.039884790778160095, 0.010979775339365005, 0.06312145292758942, 0.03639544919133186, 0.04853801801800728, 0.018879562616348267, 0.0, 0.0], [0.5673208236694336, 0.03735347464680672, 0.043722059577703476, 0.024186834692955017, 0.011416678316891193, 0.10673099011182785, 0.06486079096794128, 0.038950394839048386, 0.02321944385766983, 0.013566008768975735, 0.012629489414393902, 0.010593455284833908, 0.045449528843164444, 0.0], [0.2812790274620056, 0.038524847477674484, 0.023257208988070488, 0.03060375154018402, 0.03773442655801773, 0.12962906062602997, 0.09693451225757599, 0.041318733245134354, 0.036366675049066544, 0.01224907673895359, 0.01018018089234829, 0.010910717770457268, 0.13361334800720215, 0.1173984557390213]], [[1.0, 0.0, 0.0, 0.0, 0.0, 0.0, 0.0, 0.0, 0.0, 0.0, 0.0, 0.0, 0.0, 0.0], [0.8394356369972229, 0.16056430339813232, 0.0, 0.0, 0.0, 0.0, 0.0, 0.0, 0.0, 0.0, 0.0, 0.0, 0.0, 0.0], [0.8570123314857483, 0.10857338458299637, 0.034414324909448624, 0.0, 0.0, 0.0, 0.0, 0.0, 0.0, 0.0, 0.0, 0.0, 0.0, 0.0], [0.8140441179275513, 0.13402731716632843, 0.029362881556153297, 0.022565782070159912, 0.0, 0.0, 0.0, 0.0, 0.0, 0.0, 0.0, 0.0, 0.0, 0.0], [0.8107914328575134, 0.09914791584014893, 0.050271887332201004, 0.0247141495347023, 0.01507466472685337, 0.0, 0.0, 0.0, 0.0, 0.0, 0.0, 0.0, 0.0, 0.0], [0.7080522179603577, 0.10275797545909882, 0.04455813020467758, 0.025567730888724327, 0.009829613380134106, 0.10923438519239426, 0.0, 0.0, 0.0, 0.0, 0.0, 0.0, 0.0, 0.0], [0.6088430881500244, 0.08257675170898438, 0.06483947485685349, 0.024909568950533867, 0.00787186436355114, 0.10755617171525955, 0.10340307652950287, 0.0, 0.0, 0.0, 0.0, 0.0, 0.0, 0.0], [0.6453406810760498, 0.04957118630409241, 0.04871222749352455, 0.022494010627269745, 0.006948468275368214, 0.06249454244971275, 0.0762195885181427, 0.0882192850112915, 0.0, 0.0, 0.0, 0.0, 0.0, 0.0], [0.6261301636695862, 0.028993822634220123, 0.03338188678026199, 0.01423100009560585, 0.011455009691417217, 0.11614111810922623, 0.0379755012691021, 0.05022989958524704, 0.08146163821220398, 0.0, 0.0, 0.0, 0.0, 0.0], [0.5865919589996338, 0.057095445692539215, 0.04620923101902008, 0.027970008552074432, 0.008328855969011784, 0.06942954659461975, 0.055550094693899155, 0.0691864863038063, 0.046431418508291245, 0.03320696949958801, 0.0, 0.0, 0.0, 0.0], [0.7450512647628784, 0.029249407351017, 0.012573818676173687, 0.012452504597604275, 0.01721818372607231, 0.04834124073386192, 0.028151612728834152, 0.03796454146504402, 0.03191133588552475, 0.02025263011455536, 0.016833392903208733, 0.0, 0.0, 0.0], [0.6209486126899719, 0.038126781582832336, 0.022072182968258858, 0.012041854672133923, 0.008143640123307705, 0.06476748734712601, 0.047199491411447525, 0.05519779771566391, 0.0453704297542572, 0.022848112508654594, 0.017630351707339287, 0.045653216540813446, 0.0, 0.0], [0.5174310207366943, 0.06046196445822716, 0.02288558892905712, 0.010868636891245842, 0.005723728332668543, 0.08181656152009964, 0.0791751891374588, 0.09408707171678543, 0.026366088539361954, 0.02774302288889885, 0.013175779022276402, 0.04076215252280235, 0.019503101706504822, 0.0], [0.47516587376594543, 0.046609945595264435, 0.042931508272886276, 0.014943823218345642, 0.006091363728046417, 0.08214429020881653, 0.07815296202898026, 0.07179512083530426, 0.05110828951001167, 0.015255134552717209, 0.01013889629393816, 0.032526373863220215, 0.014510215260088444, 0.05862615257501602]], [[1.0, 0.0, 0.0, 0.0, 0.0, 0.0, 0.0, 0.0, 0.0, 0.0, 0.0, 0.0, 0.0, 0.0], [0.957156777381897, 0.04284324869513512, 0.0, 0.0, 0.0, 0.0, 0.0, 0.0, 0.0, 0.0, 0.0, 0.0, 0.0, 0.0], [0.9696848392486572, 0.018891943618655205, 0.011423135176301003, 0.0, 0.0, 0.0, 0.0, 0.0, 0.0, 0.0, 0.0, 0.0, 0.0, 0.0], [0.9269880652427673, 0.02828177809715271, 0.012424360029399395, 0.03230579197406769, 0.0, 0.0, 0.0, 0.0, 0.0, 0.0, 0.0, 0.0, 0.0, 0.0], [0.9200692176818848, 0.03595530614256859, 0.011803892441093922, 0.012774016708135605, 0.019397597759962082, 0.0, 0.0, 0.0, 0.0, 0.0, 0.0, 0.0, 0.0, 0.0], [0.7075397372245789, 0.07315777987241745, 0.016385165974497795, 0.011087702587246895, 0.018696710467338562, 0.17313291132450104, 0.0, 0.0, 0.0, 0.0, 0.0, 0.0, 0.0, 0.0], [0.69447922706604, 0.09190405905246735, 0.015201268717646599, 0.013554802164435387, 0.02180291712284088, 0.06377465277910233, 0.09928324818611145, 0.0, 0.0, 0.0, 0.0, 0.0, 0.0, 0.0], [0.6477842330932617, 0.0855298638343811, 0.014527854509651661, 0.015658224001526833, 0.014376765117049217, 0.06761778146028519, 0.10404173284769058, 0.05046353489160538, 0.0, 0.0, 0.0, 0.0, 0.0, 0.0], [0.6120064854621887, 0.12743446230888367, 0.04435347765684128, 0.032147008925676346, 0.025045009329915047, 0.05817157030105591, 0.06547459214925766, 0.01418270729482174, 0.02118472382426262, 0.0, 0.0, 0.0, 0.0, 0.0], [0.7817177772521973, 0.028994951397180557, 0.03858961537480354, 0.04702506959438324, 0.02011156640946865, 0.02717728540301323, 0.01717221550643444, 0.0050261011347174644, 0.02468484826385975, 0.009500601328909397, 0.0, 0.0, 0.0, 0.0], [0.9316637516021729, 0.01283288188278675, 0.005981875583529472, 0.00701711094006896, 0.009696569293737411, 0.007123737595975399, 0.006528906989842653, 0.0011746602831408381, 0.0015773006016388535, 0.00360091938637197, 0.01280226744711399, 0.0, 0.0, 0.0], [0.8261328339576721, 0.018280228599905968, 0.035532206296920776, 0.011009768582880497, 0.007548278663307428, 0.02001495473086834, 0.026518216356635094, 0.00667203264310956, 0.005247932858765125, 0.012695795856416225, 0.009273546747863293, 0.021074095740914345, 0.0, 0.0], [0.7979687452316284, 0.03737747669219971, 0.007691581733524799, 0.011241883039474487, 0.012880919501185417, 0.01708458922803402, 0.038469813764095306, 0.006069766357541084, 0.010914242826402187, 0.008422122336924076, 0.008866907097399235, 0.016805721446871758, 0.02620631456375122, 0.0], [0.3785741925239563, 0.08139906823635101, 0.01519687194377184, 0.011140730232000351, 0.020582932978868484, 0.08445741981267929, 0.13993887603282928, 0.05490146577358246, 0.04147247225046158, 0.018406542018055916, 0.012152987532317638, 0.020554430782794952, 0.01470659114420414, 0.10651551932096481]], [[1.0, 0.0, 0.0, 0.0, 0.0, 0.0, 0.0, 0.0, 0.0, 0.0, 0.0, 0.0, 0.0, 0.0], [0.9635007977485657, 0.03649920970201492, 0.0, 0.0, 0.0, 0.0, 0.0, 0.0, 0.0, 0.0, 0.0, 0.0, 0.0, 0.0], [0.960990846157074, 0.023569820448756218, 0.015439328737556934, 0.0, 0.0, 0.0, 0.0, 0.0, 0.0, 0.0, 0.0, 0.0, 0.0, 0.0], [0.9416518807411194, 0.01968657225370407, 0.0100473091006279, 0.028614189475774765, 0.0, 0.0, 0.0, 0.0, 0.0, 0.0, 0.0, 0.0, 0.0, 0.0], [0.9796836376190186, 0.006909994874149561, 0.0032436151523143053, 0.006852762307971716, 0.0033099325373768806, 0.0, 0.0, 0.0, 0.0, 0.0, 0.0, 0.0, 0.0, 0.0], [0.9394059777259827, 0.011457012966275215, 0.005551723763346672, 0.020607808604836464, 0.0064297993667423725, 0.016547678038477898, 0.0, 0.0, 0.0, 0.0, 0.0, 0.0, 0.0, 0.0], [0.9226309061050415, 0.013493998907506466, 0.0069815232418477535, 0.02888491377234459, 0.0067055802792310715, 0.01340892817825079, 0.007894298993051052, 0.0, 0.0, 0.0, 0.0, 0.0, 0.0, 0.0], [0.8984400629997253, 0.015716439113020897, 0.008208099752664566, 0.0355093777179718, 0.010201009921729565, 0.0161398034542799, 0.009280064143240452, 0.0065051536075770855, 0.0, 0.0, 0.0, 0.0, 0.0, 0.0], [0.902000367641449, 0.016236238181591034, 0.008765796199440956, 0.01656225696206093, 0.007300721015781164, 0.005237656179815531, 0.005367312580347061, 0.001769416849128902, 0.03676014021039009, 0.0, 0.0, 0.0, 0.0, 0.0], [0.7662706971168518, 0.023608792573213577, 0.022024787962436676, 0.0765417218208313, 0.009499367326498032, 0.011019574478268623, 0.011923412792384624, 0.010578447952866554, 0.057879578322172165, 0.010653645731508732, 0.0, 0.0, 0.0, 0.0], [0.8700607419013977, 0.010899313725531101, 0.012752684764564037, 0.047915469855070114, 0.01040656678378582, 0.006028297822922468, 0.005358624737709761, 0.0031972385477274656, 0.013204253278672695, 0.004662374034523964, 0.01551436260342598, 0.0, 0.0, 0.0], [0.9201563596725464, 0.006558405235409737, 0.007380662485957146, 0.016105320304632187, 0.003929161466658115, 0.003068160265684128, 0.004238177556544542, 0.002832786412909627, 0.01372388657182455, 0.0028488696552813053, 0.008402083069086075, 0.010756285861134529, 0.0, 0.0], [0.807524561882019, 0.020149778574705124, 0.012616343796253204, 0.02807764522731304, 0.004199129994958639, 0.012333451770246029, 0.010534225031733513, 0.0052497959695756435, 0.03448149561882019, 0.0048141698352992535, 0.01558380015194416, 0.011713912710547447, 0.03272155299782753, 0.0], [0.7256163358688354, 0.024592582136392593, 0.008996637538075447, 0.026209263131022453, 0.010570187121629715, 0.024734660983085632, 0.01935632899403572, 0.010941771790385246, 0.037190087139606476, 0.0047693755477666855, 0.009683098644018173, 0.009626257233321667, 0.07033681869506836, 0.017376700416207314]], [[1.0, 0.0, 0.0, 0.0, 0.0, 0.0, 0.0, 0.0, 0.0, 0.0, 0.0, 0.0, 0.0, 0.0], [0.9391111731529236, 0.06088876724243164, 0.0, 0.0, 0.0, 0.0, 0.0, 0.0, 0.0, 0.0, 0.0, 0.0, 0.0, 0.0], [0.9127776026725769, 0.03928017616271973, 0.047942206263542175, 0.0, 0.0, 0.0, 0.0, 0.0, 0.0, 0.0, 0.0, 0.0, 0.0, 0.0], [0.9127954840660095, 0.018199583515524864, 0.02402220107614994, 0.04498276486992836, 0.0, 0.0, 0.0, 0.0, 0.0, 0.0, 0.0, 0.0, 0.0, 0.0], [0.903319239616394, 0.021760370582342148, 0.020903626456856728, 0.03104192391037941, 0.022974777966737747, 0.0, 0.0, 0.0, 0.0, 0.0, 0.0, 0.0, 0.0, 0.0], [0.6937007308006287, 0.035994406789541245, 0.034576285630464554, 0.06855867803096771, 0.028784172609448433, 0.13838577270507812, 0.0, 0.0, 0.0, 0.0, 0.0, 0.0, 0.0, 0.0], [0.6199259757995605, 0.05999799072742462, 0.042757101356983185, 0.06603339314460754, 0.033660173416137695, 0.0997711569070816, 0.07785435765981674, 0.0, 0.0, 0.0, 0.0, 0.0, 0.0, 0.0], [0.5774649977684021, 0.04359106719493866, 0.03671178221702576, 0.08499370515346527, 0.05008958652615547, 0.11052656918764114, 0.05414950102567673, 0.042472805827856064, 0.0, 0.0, 0.0, 0.0, 0.0, 0.0], [0.9396075010299683, 0.005358428694307804, 0.00787160824984312, 0.00824671983718872, 0.006900289095938206, 0.016496136784553528, 0.005802604835480452, 0.0027318436186760664, 0.00698491744697094, 0.0, 0.0, 0.0, 0.0, 0.0], [0.6527007222175598, 0.040504466742277145, 0.03239985555410385, 0.06390342116355896, 0.03087080828845501, 0.041093822568655014, 0.0500158853828907, 0.03294363245368004, 0.025398997589945793, 0.030168388038873672, 0.0, 0.0, 0.0, 0.0], [0.7713464498519897, 0.013287719339132309, 0.011942967772483826, 0.03656658157706261, 0.030548755079507828, 0.05049905925989151, 0.01649586111307144, 0.011979482136666775, 0.007295982446521521, 0.008208442479372025, 0.041828703135252, 0.0, 0.0, 0.0], [0.9373465776443481, 0.007037188857793808, 0.008113168179988861, 0.01226687990128994, 0.005811617244035006, 0.007229015696793795, 0.0062287235632538795, 0.0036035317461937666, 0.003048522863537073, 0.002999648917466402, 0.0026614360976964235, 0.0036536427214741707, 0.0, 0.0], [0.6570901274681091, 0.011158004403114319, 0.008858166635036469, 0.019975559785962105, 0.014107534661889076, 0.2050798088312149, 0.027212493121623993, 0.019747024402022362, 0.009392344392836094, 0.004167547449469566, 0.006126628257334232, 0.003963289316743612, 0.013121535070240498, 0.0], [0.44108566641807556, 0.03196578472852707, 0.025577809661626816, 0.0480375774204731, 0.03151467442512512, 0.09478875249624252, 0.05456200987100601, 0.03248702362179756, 0.05991179123520851, 0.0182855986058712, 0.01332591287791729, 0.013361528515815735, 0.032954368740320206, 0.1021413654088974]], [[1.0, 0.0, 0.0, 0.0, 0.0, 0.0, 0.0, 0.0, 0.0, 0.0, 0.0, 0.0, 0.0, 0.0], [0.00022017517767380923, 0.9997798800468445, 0.0, 0.0, 0.0, 0.0, 0.0, 0.0, 0.0, 0.0, 0.0, 0.0, 0.0, 0.0], [5.753317236667499e-05, 0.7369336485862732, 0.26300880312919617, 0.0, 0.0, 0.0, 0.0, 0.0, 0.0, 0.0, 0.0, 0.0, 0.0, 0.0], [5.161153239896521e-05, 0.3050336539745331, 0.44654396176338196, 0.24837075173854828, 0.0, 0.0, 0.0, 0.0, 0.0, 0.0, 0.0, 0.0, 0.0, 0.0], [7.983557225088589e-06, 0.3057959973812103, 0.13096559047698975, 0.28635871410369873, 0.2768716812133789, 0.0, 0.0, 0.0, 0.0, 0.0, 0.0, 0.0, 0.0, 0.0], [3.784226646530442e-05, 0.201724112033844, 0.0594935342669487, 0.0618157759308815, 0.04942717403173447, 0.6275016069412231, 0.0, 0.0, 0.0, 0.0, 0.0, 0.0, 0.0, 0.0], [2.1957421267870814e-06, 0.2178451418876648, 0.06507417559623718, 0.08103072643280029, 0.03328929468989372, 0.29779747128486633, 0.30496102571487427, 0.0, 0.0, 0.0, 0.0, 0.0, 0.0, 0.0], [3.673553510452621e-05, 0.16740450263023376, 0.025809574872255325, 0.04184122383594513, 0.03239035606384277, 0.22692540287971497, 0.4117502272129059, 0.09384189546108246, 0.0, 0.0, 0.0, 0.0, 0.0, 0.0], [2.837906095010112e-06, 0.08351267129182816, 0.10645879805088043, 0.09402135014533997, 0.024015039205551147, 0.15394411981105804, 0.16918784379959106, 0.08436226099729538, 0.2844950556755066, 0.0, 0.0, 0.0, 0.0, 0.0], [2.7479920390760526e-05, 0.07994160801172256, 0.038903750479221344, 0.047401249408721924, 0.030961280688643456, 0.17811737954616547, 0.17719627916812897, 0.09640491008758545, 0.27675965428352356, 0.07428643852472305, 0.0, 0.0, 0.0, 0.0], [0.00010284501331625506, 0.10483382642269135, 0.108953557908535, 0.08623681217432022, 0.02929055504500866, 0.05909806862473488, 0.14702492952346802, 0.05244504660367966, 0.2386205494403839, 0.10855655372142792, 0.06483722478151321, 0.0, 0.0, 0.0], [1.813060589483939e-05, 0.09600193798542023, 0.13281787931919098, 0.10180019587278366, 0.023944400250911713, 0.0993816927075386, 0.1177506074309349, 0.04438165947794914, 0.1141938865184784, 0.08861057460308075, 0.12840493023395538, 0.052694182842969894, 0.0, 0.0], [1.2510826309153344e-05, 0.07062322646379471, 0.022117197513580322, 0.013872520998120308, 0.04939642548561096, 0.1497797667980194, 0.22468605637550354, 0.06843739002943039, 0.17712341248989105, 0.07977097481489182, 0.02980358898639679, 0.04513053596019745, 0.06924644857645035, 0.0], [3.641203511506319e-05, 0.059555526822805405, 0.018332986161112785, 0.015493866056203842, 0.03774113580584526, 0.24339066445827484, 0.14316074550151825, 0.052361540496349335, 0.11877676099538803, 0.020610379055142403, 0.003965255804359913, 0.010737020522356033, 0.057228345423936844, 0.21860937774181366]], [[1.0, 0.0, 0.0, 0.0, 0.0, 0.0, 0.0, 0.0, 0.0, 0.0, 0.0, 0.0, 0.0, 0.0], [0.96365886926651, 0.036341093480587006, 0.0, 0.0, 0.0, 0.0, 0.0, 0.0, 0.0, 0.0, 0.0, 0.0, 0.0, 0.0], [0.946033775806427, 0.04024659842252731, 0.01371960062533617, 0.0, 0.0, 0.0, 0.0, 0.0, 0.0, 0.0, 0.0, 0.0, 0.0, 0.0], [0.9358205199241638, 0.032934945076704025, 0.006138758733868599, 0.025105776265263557, 0.0, 0.0, 0.0, 0.0, 0.0, 0.0, 0.0, 0.0, 0.0, 0.0], [0.9529363512992859, 0.015947559848427773, 0.009593511000275612, 0.015411979518830776, 0.0061106509529054165, 0.0, 0.0, 0.0, 0.0, 0.0, 0.0, 0.0, 0.0, 0.0], [0.8621050715446472, 0.029958870261907578, 0.009745940566062927, 0.0425826720893383, 0.012467678636312485, 0.04313983768224716, 0.0, 0.0, 0.0, 0.0, 0.0, 0.0, 0.0, 0.0], [0.8249906301498413, 0.031710367649793625, 0.010110840201377869, 0.055261071771383286, 0.01429073791950941, 0.023465199396014214, 0.040171246975660324, 0.0, 0.0, 0.0, 0.0, 0.0, 0.0, 0.0], [0.816927433013916, 0.029288960620760918, 0.00591469369828701, 0.06265202164649963, 0.01219168771058321, 0.01729491353034973, 0.04324330389499664, 0.012487038969993591, 0.0, 0.0, 0.0, 0.0, 0.0, 0.0], [0.8448160886764526, 0.040279537439346313, 0.013107191771268845, 0.03981797769665718, 0.010937189683318138, 0.01577068492770195, 0.022223249077796936, 0.003444479778409004, 0.00960356555879116, 0.0, 0.0, 0.0, 0.0, 0.0], [0.7825427651405334, 0.025741737335920334, 0.014473010785877705, 0.08600837737321854, 0.013314979150891304, 0.016821328550577164, 0.0191795714199543, 0.006938946899026632, 0.014883660711348057, 0.02009575441479683, 0.0, 0.0, 0.0, 0.0], [0.9100347757339478, 0.006764487363398075, 0.0030484700109809637, 0.04370521008968353, 0.0101694967597723, 0.006509740836918354, 0.006107103079557419, 0.001100311172194779, 0.0023103016428649426, 0.0016891214763745666, 0.00856087263673544, 0.0, 0.0, 0.0], [0.8931297063827515, 0.01508148480206728, 0.008512798696756363, 0.024559345096349716, 0.004983857739716768, 0.00778948375955224, 0.010759318247437477, 0.0017804232193157077, 0.0030079290736466646, 0.0060936943627893925, 0.007924742996692657, 0.01637713611125946, 0.0, 0.0], [0.8820288777351379, 0.012639565393328667, 0.0018742171814665198, 0.030727030709385872, 0.005491227377206087, 0.007570024114102125, 0.01877027004957199, 0.0023828260600566864, 0.006544475443661213, 0.003384100738912821, 0.0038147438317537308, 0.005044163670390844, 0.019728539511561394, 0.0], [0.6996416449546814, 0.031908128410577774, 0.005070933140814304, 0.030376529321074486, 0.009651325643062592, 0.01884080097079277, 0.048718053847551346, 0.012257522903382778, 0.02852567285299301, 0.007496465463191271, 0.008509657345712185, 0.005783377215266228, 0.050276994705200195, 0.042942944914102554]], [[1.0, 0.0, 0.0, 0.0, 0.0, 0.0, 0.0, 0.0, 0.0, 0.0, 0.0, 0.0, 0.0, 0.0], [0.8270828127861023, 0.17291714251041412, 0.0, 0.0, 0.0, 0.0, 0.0, 0.0, 0.0, 0.0, 0.0, 0.0, 0.0, 0.0], [0.7204975485801697, 0.20960915088653564, 0.06989330798387527, 0.0, 0.0, 0.0, 0.0, 0.0, 0.0, 0.0, 0.0, 0.0, 0.0, 0.0], [0.5521257519721985, 0.19050656259059906, 0.1407022774219513, 0.11666544526815414, 0.0, 0.0, 0.0, 0.0, 0.0, 0.0, 0.0, 0.0, 0.0, 0.0], [0.806639552116394, 0.03246667608618736, 0.01908552274107933, 0.06340144574642181, 0.07840672880411148, 0.0, 0.0, 0.0, 0.0, 0.0, 0.0, 0.0, 0.0, 0.0], [0.6336183547973633, 0.07252838462591171, 0.02372061461210251, 0.02997184358537197, 0.05463338643312454, 0.18552742898464203, 0.0, 0.0, 0.0, 0.0, 0.0, 0.0, 0.0, 0.0], [0.5775891542434692, 0.050406020134687424, 0.020095450803637505, 0.013472327962517738, 0.026997720822691917, 0.18739387392997742, 0.12404550611972809, 0.0, 0.0, 0.0, 0.0, 0.0, 0.0, 0.0], [0.484819233417511, 0.034307751804590225, 0.018181348219513893, 0.02002350613474846, 0.029460640624165535, 0.1683310866355896, 0.1483391374349594, 0.0965372622013092, 0.0, 0.0, 0.0, 0.0, 0.0, 0.0], [0.6152200698852539, 0.07105506211519241, 0.05341437831521034, 0.014960928820073605, 0.04664881154894829, 0.050832994282245636, 0.029545942321419716, 0.0206742025911808, 0.09764758497476578, 0.0, 0.0, 0.0, 0.0, 0.0], [0.4561683237552643, 0.08376458287239075, 0.04320499673485756, 0.04426754266023636, 0.04328456521034241, 0.071475088596344, 0.06486529856920242, 0.03465929999947548, 0.07927403599023819, 0.07903623580932617, 0.0, 0.0, 0.0, 0.0], [0.7642368674278259, 0.031012585386633873, 0.014077544212341309, 0.019295651465654373, 0.01732088252902031, 0.036353472620248795, 0.026972873136401176, 0.01307175774127245, 0.012623252347111702, 0.03510969504714012, 0.029925381764769554, 0.0, 0.0, 0.0], [0.3006027340888977, 0.020447280257940292, 0.01168033666908741, 0.009666324593126774, 0.02932457998394966, 0.0139829246327281, 0.016514519229531288, 0.007712286431342363, 0.16515898704528809, 0.07885251194238663, 0.2658001184463501, 0.08025749027729034, 0.0, 0.0], [0.6594274640083313, 0.02498435229063034, 0.013924832455813885, 0.0034774511586874723, 0.013842743821442127, 0.06815607100725174, 0.04049656167626381, 0.019419226795434952, 0.023098038509488106, 0.008547047153115273, 0.008053622208535671, 0.0056885238736867905, 0.11088395863771439, 0.0], [0.322316974401474, 0.027520179748535156, 0.013373223133385181, 0.006559443194419146, 0.02196475863456726, 0.133598193526268, 0.0668250024318695, 0.06282684206962585, 0.03317044675350189, 0.007904515601694584, 0.00962661113590002, 0.008979149162769318, 0.09198211878538132, 0.19335252046585083]], [[1.0, 0.0, 0.0, 0.0, 0.0, 0.0, 0.0, 0.0, 0.0, 0.0, 0.0, 0.0, 0.0, 0.0], [0.9331567287445068, 0.0668431967496872, 0.0, 0.0, 0.0, 0.0, 0.0, 0.0, 0.0, 0.0, 0.0, 0.0, 0.0, 0.0], [0.758125364780426, 0.1705380529165268, 0.07133664935827255, 0.0, 0.0, 0.0, 0.0, 0.0, 0.0, 0.0, 0.0, 0.0, 0.0, 0.0], [0.7667297124862671, 0.08582756668329239, 0.0933152437210083, 0.054127514362335205, 0.0, 0.0, 0.0, 0.0, 0.0, 0.0, 0.0, 0.0, 0.0, 0.0], [0.699408233165741, 0.07077191025018692, 0.04469743371009827, 0.08762652426958084, 0.09749580919742584, 0.0, 0.0, 0.0, 0.0, 0.0, 0.0, 0.0, 0.0, 0.0], [0.706953763961792, 0.058499787002801895, 0.027516765519976616, 0.06508652120828629, 0.0707489624619484, 0.07119409739971161, 0.0, 0.0, 0.0, 0.0, 0.0, 0.0, 0.0, 0.0], [0.661706805229187, 0.036354269832372665, 0.023076355457305908, 0.06620782613754272, 0.09675031900405884, 0.045592453330755234, 0.07031197845935822, 0.0, 0.0, 0.0, 0.0, 0.0, 0.0, 0.0], [0.6325017809867859, 0.052637550979852676, 0.017932040616869926, 0.062287554144859314, 0.09042493253946304, 0.0221001785248518, 0.09213259071111679, 0.029983479529619217, 0.0, 0.0, 0.0, 0.0, 0.0, 0.0], [0.5544912815093994, 0.02544667012989521, 0.03226779028773308, 0.038306135684251785, 0.10090136528015137, 0.06147138029336929, 0.04886021465063095, 0.03473318740725517, 0.10352201759815216, 0.0, 0.0, 0.0, 0.0, 0.0], [0.34814730286598206, 0.05220828577876091, 0.037036582827568054, 0.05270865187048912, 0.06090059503912926, 0.015018845908343792, 0.05769692361354828, 0.022461526095867157, 0.21216343343257904, 0.14165785908699036, 0.0, 0.0, 0.0, 0.0], [0.039486151188611984, 0.020831068977713585, 0.004425295628607273, 0.007294603623449802, 0.019072478637099266, 0.8094475269317627, 0.024547068402171135, 0.03572723641991615, 0.009700803086161613, 0.012572551146149635, 0.016895275563001633, 0.0, 0.0, 0.0], [0.15743617713451385, 0.02696290798485279, 0.020974015817046165, 0.03724275156855583, 0.06660240888595581, 0.0683031678199768, 0.051354844123125076, 0.021360330283641815, 0.3974524736404419, 0.07529634237289429, 0.050775688141584396, 0.02623892016708851, 0.0, 0.0], [0.6276034712791443, 0.02264270931482315, 0.014712788164615631, 0.016484402120113373, 0.022819189354777336, 0.04280802235007286, 0.05000908300280571, 0.04409538954496384, 0.02037089690566063, 0.016434215009212494, 0.01362443994730711, 0.005062209442257881, 0.10333322733640671, 0.0], [0.3844347894191742, 0.02635587379336357, 0.013014016672968864, 0.026627792045474052, 0.041166771203279495, 0.04413919150829315, 0.0474349744617939, 0.033609434962272644, 0.033900514245033264, 0.01534631010144949, 0.010595418512821198, 0.00438138609752059, 0.2666183114051819, 0.052375249564647675]]]], \"left_text\": [\"Today\", \" is\", \" a\", \" beautiful\", \" day\", \".\", \" but\", \",\", \" It\", \" is\", \" going\", \" to\", \" rain\", \"!\"], \"right_text\": [\"Today\", \" is\", \" a\", \" beautiful\", \" day\", \".\", \" but\", \",\", \" It\", \" is\", \" going\", \" to\", \" rain\", \"!\"]}], \"default_filter\": \"0\", \"display_mode\": \"dark\", \"root_div_id\": \"bertviz-4cc8e338ddb743e5b30a50556a35451a\", \"include_layers\": [0, 1, 2, 3, 4, 5, 6, 7, 8, 9, 10, 11], \"include_heads\": [0, 1, 2, 3, 4, 5, 6, 7, 8, 9, 10, 11], \"total_heads\": 12} is a template marker that is replaced by actual params.\n",
       "        const config = {};\n",
       "\n",
       "        const MIN_X = 0;\n",
       "        const MIN_Y = 0;\n",
       "        const DIV_WIDTH = 970;\n",
       "        const THUMBNAIL_PADDING = 5;\n",
       "        const DETAIL_WIDTH = 300;\n",
       "        const DETAIL_ATTENTION_WIDTH = 140;\n",
       "        const DETAIL_BOX_WIDTH = 80;\n",
       "        const DETAIL_BOX_HEIGHT = 18;\n",
       "        const DETAIL_PADDING = 15;\n",
       "        const ATTN_PADDING = 0;\n",
       "        const DETAIL_HEADING_HEIGHT = 25;\n",
       "        const HEADING_TEXT_SIZE = 15;\n",
       "        const HEADING_PADDING = 5;\n",
       "        const TEXT_SIZE = 13;\n",
       "        const TEXT_PADDING = 5;\n",
       "        const LAYER_COLORS = d3.schemeCategory10;\n",
       "        const PALETTE = {\n",
       "            'light': {\n",
       "                'text': 'black',\n",
       "                'background': 'white',\n",
       "                'highlight': '#F5F5F5'\n",
       "            },\n",
       "            'dark': {\n",
       "                'text': '#ccc',\n",
       "                'background': 'black',\n",
       "                'highlight': '#222'\n",
       "            }\n",
       "        }\n",
       "\n",
       "        function render() {\n",
       "\n",
       "            // Set global state variables\n",
       "\n",
       "            var attData = config.attention[config.filter];\n",
       "            config.leftText = attData.left_text;\n",
       "            config.rightText = attData.right_text;\n",
       "            config.attn = attData.attn;\n",
       "            config.numLayers = config.attn.length;\n",
       "            config.numHeads = config.attn[0].length;\n",
       "            config.thumbnailBoxHeight = 7 * (12 / config.totalHeads);\n",
       "            const axisSize = HEADING_TEXT_SIZE + HEADING_PADDING + TEXT_SIZE + TEXT_PADDING;\n",
       "            config.thumbnailHeight = Math.max(config.leftText.length, config.rightText.length) * config.thumbnailBoxHeight + 2 * THUMBNAIL_PADDING;\n",
       "            config.thumbnailWidth = (DIV_WIDTH - axisSize) / config.totalHeads;\n",
       "            config.detailHeight = Math.max(config.leftText.length, config.rightText.length) * DETAIL_BOX_HEIGHT + 2 * DETAIL_PADDING + DETAIL_HEADING_HEIGHT;\n",
       "            config.divHeight = Math.max(config.numLayers * config.thumbnailHeight + axisSize, config.detailHeight);\n",
       "\n",
       "            const vis = $(`#${config.rootDivId} #vis`)\n",
       "            vis.empty();\n",
       "            vis.attr(\"height\", config.divHeight);\n",
       "            config.svg = d3.select(`#${config.rootDivId} #vis`)\n",
       "                .append('svg')\n",
       "                .attr(\"width\", DIV_WIDTH)\n",
       "                .attr(\"height\", config.divHeight)\n",
       "                .attr(\"fill\", getBackgroundColor());\n",
       "\n",
       "            renderAxisLabels();\n",
       "\n",
       "            var i;\n",
       "            var j;\n",
       "            for (i = 0; i < config.numLayers; i++) {\n",
       "                for (j = 0; j < config.numHeads; j++) {\n",
       "                    renderThumbnail(i, j);\n",
       "                }\n",
       "            }\n",
       "        }\n",
       "\n",
       "        function renderAxisLabels() {\n",
       "            const axisSize = HEADING_TEXT_SIZE + HEADING_PADDING + TEXT_SIZE + TEXT_PADDING;\n",
       "            const tableWidth = config.thumbnailWidth * config.heads.length;\n",
       "            config.svg.append(\"text\")\n",
       "                .text(\"Heads\")\n",
       "                .attr(\"fill\", \"black\")\n",
       "                .attr(\"font-weight\", \"bold\")\n",
       "                .attr(\"font-size\", HEADING_TEXT_SIZE + \"px\")\n",
       "                .attr(\"x\", axisSize + tableWidth / 2)\n",
       "                .attr(\"text-anchor\", \"middle\")\n",
       "                .attr(\"y\", 0)\n",
       "                .attr(\"dy\", HEADING_TEXT_SIZE);\n",
       "            for (let i = 0; i < config.numHeads; i++) {\n",
       "                config.svg.append(\"text\")\n",
       "                    .text(config.heads[i])\n",
       "                    .attr(\"fill\", \"black\")\n",
       "                    .attr(\"font-size\", TEXT_SIZE + \"px\")\n",
       "                    .attr(\"x\", axisSize + (i + .5) * config.thumbnailWidth)\n",
       "                    .attr(\"text-anchor\", \"middle\")\n",
       "                    .attr(\"y\", HEADING_TEXT_SIZE + HEADING_PADDING)\n",
       "                    .attr(\"dy\", TEXT_SIZE);\n",
       "            }\n",
       "            let x = 0;\n",
       "            let y = axisSize + config.thumbnailHeight * config.layers.length / 2;\n",
       "            console.log(\"x\", x, y)\n",
       "            config.svg.append(\"text\")\n",
       "                .text(\"Layers\")\n",
       "                .attr(\"fill\", \"black\")\n",
       "                .attr(\"font-weight\", \"bold\")\n",
       "                .attr(\"transform\", \"rotate(270, \" + x  + \", \" + y + \")\")\n",
       "                .attr(\"font-size\", HEADING_TEXT_SIZE + \"px\")\n",
       "                .attr(\"x\", x)\n",
       "                .attr(\"text-anchor\", \"middle\")\n",
       "                .attr(\"y\", y)\n",
       "                .attr(\"dy\", HEADING_TEXT_SIZE);\n",
       "            for (let i = 0; i < config.numLayers; i++) {\n",
       "                x = HEADING_TEXT_SIZE + HEADING_PADDING + TEXT_SIZE; // HACK\n",
       "                y = axisSize + (i + .5) * config.thumbnailHeight;\n",
       "                config.svg.append(\"text\")\n",
       "                    .text(config.layers[i])\n",
       "                    .attr(\"fill\", \"black\")\n",
       "                    .attr(\"font-size\", TEXT_SIZE + \"px\")\n",
       "                    .attr(\"x\", x)\n",
       "                    .attr(\"text-anchor\", \"end\")\n",
       "                    .attr(\"y\", y)\n",
       "                    .attr(\"dy\", TEXT_SIZE / 2);\n",
       "            }\n",
       "        }\n",
       "\n",
       "\n",
       "        function renderThumbnail(layerIndex, headIndex) {\n",
       "            const axisSize = HEADING_TEXT_SIZE + HEADING_PADDING + TEXT_SIZE + TEXT_PADDING\n",
       "            const x = headIndex * config.thumbnailWidth + axisSize;\n",
       "            const y = layerIndex * config.thumbnailHeight + axisSize;\n",
       "            renderThumbnailAttn(x, y, config.attn[layerIndex][headIndex], layerIndex, headIndex);\n",
       "        }\n",
       "\n",
       "        function renderDetail(att, layerIndex, headIndex) {\n",
       "            const axisSize = TEXT_SIZE + HEADING_PADDING + TEXT_SIZE + TEXT_PADDING;\n",
       "            var xOffset = .8 * config.thumbnailWidth;\n",
       "            var maxX = DIV_WIDTH;\n",
       "            var maxY = config.divHeight - 3;\n",
       "            var leftPos = axisSize + headIndex * config.thumbnailWidth;\n",
       "            var x = leftPos + THUMBNAIL_PADDING + xOffset;\n",
       "            if (x < MIN_X) {\n",
       "                x = MIN_X;\n",
       "            } else if (x + DETAIL_WIDTH > maxX) {\n",
       "                x = leftPos + THUMBNAIL_PADDING - DETAIL_WIDTH + 8;\n",
       "            }\n",
       "            var posLeftText = x;\n",
       "            var posAttention = posLeftText + DETAIL_BOX_WIDTH;\n",
       "            var posRightText = posAttention + DETAIL_ATTENTION_WIDTH;\n",
       "            var thumbnailHeight = Math.max(config.leftText.length, config.rightText.length) * config.thumbnailBoxHeight + 2 * THUMBNAIL_PADDING;\n",
       "            var yOffset = 20;\n",
       "            var y = layerIndex * thumbnailHeight + THUMBNAIL_PADDING + yOffset;\n",
       "            if (y < MIN_Y) {\n",
       "                y = MIN_Y;\n",
       "            } else if (y + config.detailHeight > maxY) {\n",
       "                y = maxY - config.detailHeight;\n",
       "            }\n",
       "            renderDetailFrame(x, y, layerIndex);\n",
       "            y = y + DETAIL_PADDING;\n",
       "            renderDetailHeading(x, y, layerIndex, headIndex);\n",
       "            y = y + DETAIL_HEADING_HEIGHT;\n",
       "            renderDetailText(config.leftText, \"leftText\", posLeftText, y , layerIndex);\n",
       "            renderDetailAttn(posAttention, y, att, layerIndex, headIndex);\n",
       "            renderDetailText(config.rightText, \"rightText\", posRightText, y, layerIndex);\n",
       "        }\n",
       "\n",
       "        function renderDetailHeading(x, y, layerIndex, headIndex) {\n",
       "            var fillColor = getTextColor();\n",
       "            config.svg.append(\"text\")\n",
       "                .classed(\"detail\", true)\n",
       "                .text('Layer ' + config.layers[layerIndex] + \", Head \" + config.heads[headIndex])\n",
       "                .attr(\"font-size\", TEXT_SIZE + \"px\")\n",
       "                .attr(\"font-weight\", \"bold\")\n",
       "                .style(\"cursor\", \"default\")\n",
       "                .style(\"-webkit-user-select\", \"none\")\n",
       "                .attr(\"fill\", fillColor)\n",
       "                .attr(\"x\", x + DETAIL_WIDTH / 2)\n",
       "                .attr(\"text-anchor\", \"middle\")\n",
       "                .attr(\"y\", y)\n",
       "                .attr(\"height\", DETAIL_HEADING_HEIGHT)\n",
       "                .attr(\"width\", DETAIL_WIDTH)\n",
       "                .attr(\"dy\", HEADING_TEXT_SIZE);\n",
       "        }\n",
       "\n",
       "        function renderDetailText(text, id, x, y, layerIndex) {\n",
       "            var tokenContainer = config.svg.append(\"svg:g\")\n",
       "                .classed(\"detail\", true)\n",
       "                .selectAll(\"g\")\n",
       "                .data(text)\n",
       "                .enter()\n",
       "                .append(\"g\");\n",
       "\n",
       "            var fillColor = getTextColor();\n",
       "\n",
       "            tokenContainer.append(\"rect\")\n",
       "                .classed(\"highlight\", true)\n",
       "                .attr(\"fill\", fillColor)\n",
       "                .style(\"opacity\", 0.0)\n",
       "                .attr(\"height\", DETAIL_BOX_HEIGHT)\n",
       "                .attr(\"width\", DETAIL_BOX_WIDTH)\n",
       "                .attr(\"x\", x)\n",
       "                .attr(\"y\", function (d, i) {\n",
       "                    return y + i * DETAIL_BOX_HEIGHT;\n",
       "                });\n",
       "\n",
       "            var textContainer = tokenContainer.append(\"text\")\n",
       "                .classed(\"token\", true)\n",
       "                .text(function (d) {\n",
       "                    return d;\n",
       "                })\n",
       "                .attr(\"font-size\", TEXT_SIZE + \"px\")\n",
       "                .style(\"cursor\", \"default\")\n",
       "                .style(\"-webkit-user-select\", \"none\")\n",
       "                .attr(\"fill\", fillColor)\n",
       "                .attr(\"x\", x)\n",
       "                .attr(\"y\", function (d, i) {\n",
       "                    return i * DETAIL_BOX_HEIGHT + y;\n",
       "                })\n",
       "                .attr(\"height\", DETAIL_BOX_HEIGHT)\n",
       "                .attr(\"width\", DETAIL_BOX_WIDTH)\n",
       "                .attr(\"dy\", TEXT_SIZE);\n",
       "\n",
       "            if (id == \"leftText\") {\n",
       "                textContainer.style(\"text-anchor\", \"end\")\n",
       "                    .attr(\"dx\", DETAIL_BOX_WIDTH - 2);\n",
       "                tokenContainer.on(\"mouseover\", function (d, index) {\n",
       "                    highlightSelection(index);\n",
       "                });\n",
       "                tokenContainer.on(\"mouseleave\", function () {\n",
       "                    unhighlightSelection();\n",
       "                });\n",
       "            }\n",
       "        }\n",
       "\n",
       "        function highlightSelection(index) {\n",
       "            config.svg.select(\"#leftText\")\n",
       "                .selectAll(\".highlight\")\n",
       "                .style(\"opacity\", function (d, i) {\n",
       "                    return i == index ? 1.0 : 0.0;\n",
       "                });\n",
       "            config.svg.selectAll(\".attn-line-group\")\n",
       "                .style(\"opacity\", function (d, i) {\n",
       "                    return i == index ? 1.0 : 0.0;\n",
       "                });\n",
       "        }\n",
       "\n",
       "        function unhighlightSelection() {\n",
       "            config.svg.select(\"#leftText\")\n",
       "                .selectAll(\".highlight\")\n",
       "                .style(\"opacity\", 0.0);\n",
       "            config.svg.selectAll(\".attn-line-group\")\n",
       "                .style(\"opacity\", 1);\n",
       "        }\n",
       "\n",
       "        function renderThumbnailAttn(x, y, att, layerIndex, headIndex) {\n",
       "\n",
       "            var attnContainer = config.svg.append(\"svg:g\");\n",
       "\n",
       "            var attnBackground = attnContainer.append(\"rect\")\n",
       "                .attr(\"id\", 'attn_background_' + layerIndex + \"_\" + headIndex)\n",
       "                .classed(\"attn_background\", true)\n",
       "                .attr(\"x\", x)\n",
       "                .attr(\"y\", y)\n",
       "                .attr(\"height\", config.thumbnailHeight)\n",
       "                .attr(\"width\", config.thumbnailWidth)\n",
       "                .attr(\"stroke-width\", 2)\n",
       "                .attr(\"stroke\", getLayerColor(layerIndex))\n",
       "                .attr(\"stroke-opacity\", 0)\n",
       "                .attr(\"fill\", getBackgroundColor());\n",
       "            var x1 = x + THUMBNAIL_PADDING;\n",
       "            var x2 = x1 + config.thumbnailWidth - 14;\n",
       "            var y1 = y + THUMBNAIL_PADDING;\n",
       "\n",
       "            attnContainer.selectAll(\"g\")\n",
       "                .data(att)\n",
       "                .enter()\n",
       "                .append(\"g\") // Add group for each source token\n",
       "                .attr(\"source-index\", function (d, i) { // Save index of source token\n",
       "                    return i;\n",
       "                })\n",
       "                .selectAll(\"line\")\n",
       "                .data(function (d) { // Loop over all target tokens\n",
       "                    return d;\n",
       "                })\n",
       "                .enter() // When entering\n",
       "                .append(\"line\")\n",
       "                .attr(\"x1\", x1)\n",
       "                .attr(\"y1\", function (d) {\n",
       "                    var sourceIndex = +this.parentNode.getAttribute(\"source-index\");\n",
       "                    return y1 + (sourceIndex + .5) * config.thumbnailBoxHeight;\n",
       "                })\n",
       "                .attr(\"x2\", x2)\n",
       "                .attr(\"y2\", function (d, targetIndex) {\n",
       "                    return y1 + (targetIndex + .5) * config.thumbnailBoxHeight;\n",
       "                })\n",
       "                .attr(\"stroke-width\", 2.2)\n",
       "                .attr(\"stroke\", getLayerColor(layerIndex))\n",
       "                .attr(\"stroke-opacity\", function (d) {\n",
       "                    return d;\n",
       "                });\n",
       "\n",
       "            var clickRegion = attnContainer.append(\"rect\")\n",
       "                .attr(\"x\", x)\n",
       "                .attr(\"y\", y)\n",
       "                .attr(\"height\", config.thumbnailHeight)\n",
       "                .attr(\"width\", config.thumbnailWidth)\n",
       "                .style(\"opacity\", 0);\n",
       "\n",
       "            clickRegion.on(\"click\", function (d, index) {\n",
       "                var attnBackgroundOther = config.svg.selectAll(\".attn_background\");\n",
       "                attnBackgroundOther.attr(\"fill\", getBackgroundColor());\n",
       "                attnBackgroundOther.attr(\"stroke-opacity\", 0);\n",
       "\n",
       "                config.svg.selectAll(\".detail\").remove();\n",
       "                if (config.detail_layer != layerIndex || config.detail_head != headIndex) {\n",
       "                    renderDetail(att, layerIndex, headIndex);\n",
       "                    config.detail_layer = layerIndex;\n",
       "                    config.detail_head = headIndex;\n",
       "                    attnBackground.attr(\"fill\", getHighlightColor());\n",
       "                    attnBackground.attr(\"stroke-opacity\", .8);\n",
       "                } else {\n",
       "                    config.detail_layer = null;\n",
       "                    config.detail_head = null;\n",
       "                    attnBackground.attr(\"fill\", getBackgroundColor());\n",
       "                    attnBackground.attr(\"stroke-opacity\", 0);\n",
       "                }\n",
       "            });\n",
       "\n",
       "            clickRegion.on(\"mouseover\", function (d) {\n",
       "                d3.select(this).style(\"cursor\", \"pointer\");\n",
       "            });\n",
       "        }\n",
       "\n",
       "        function renderDetailFrame(x, y, layerIndex) {\n",
       "            var detailFrame = config.svg.append(\"rect\")\n",
       "                .classed(\"detail\", true)\n",
       "                .attr(\"x\", x)\n",
       "                .attr(\"y\", y)\n",
       "                .attr(\"height\", config.detailHeight)\n",
       "                .attr(\"width\", DETAIL_WIDTH)\n",
       "                .style(\"opacity\", 1)\n",
       "                .attr(\"stroke-width\", 1.5)\n",
       "                .attr(\"stroke-opacity\", 0.7)\n",
       "                .attr(\"stroke\", getLayerColor(layerIndex));\n",
       "        }\n",
       "\n",
       "        function renderDetailAttn(x, y, att, layerIndex) {\n",
       "            var attnContainer = config.svg.append(\"svg:g\")\n",
       "                .classed(\"detail\", true)\n",
       "                .attr(\"pointer-events\", \"none\");\n",
       "            attnContainer.selectAll(\"g\")\n",
       "                .data(att)\n",
       "                .enter()\n",
       "                .append(\"g\") // Add group for each source token\n",
       "                .classed('attn-line-group', true)\n",
       "                .attr(\"source-index\", function (d, i) { // Save index of source token\n",
       "                    return i;\n",
       "                })\n",
       "                .selectAll(\"line\")\n",
       "                .data(function (d) { // Loop over all target tokens\n",
       "                    return d;\n",
       "                })\n",
       "                .enter()\n",
       "                .append(\"line\")\n",
       "                .attr(\"x1\", x + ATTN_PADDING)\n",
       "                .attr(\"y1\", function (d) {\n",
       "                    var sourceIndex = +this.parentNode.getAttribute(\"source-index\");\n",
       "                    return y + (sourceIndex + .5) * DETAIL_BOX_HEIGHT;\n",
       "                })\n",
       "                .attr(\"x2\", x + DETAIL_ATTENTION_WIDTH - ATTN_PADDING)\n",
       "                .attr(\"y2\", function (d, targetIndex) {\n",
       "                    return y + (targetIndex + .5) * DETAIL_BOX_HEIGHT;\n",
       "                })\n",
       "                .attr(\"stroke-width\", 2.2)\n",
       "                .attr(\"stroke\", getLayerColor(layerIndex))\n",
       "                .attr(\"stroke-opacity\", function (d) {\n",
       "                    return d;\n",
       "                });\n",
       "        }\n",
       "\n",
       "        function getLayerColor(layer) {\n",
       "          return LAYER_COLORS[config.layers[layer] % 10];\n",
       "        }\n",
       "\n",
       "        function getTextColor() {\n",
       "            return PALETTE[config.mode]['text']\n",
       "        }\n",
       "\n",
       "        function getBackgroundColor() {\n",
       "           return PALETTE[config.mode]['background']\n",
       "        }\n",
       "\n",
       "        function getHighlightColor() {\n",
       "           return PALETTE[config.mode]['highlight']\n",
       "        }\n",
       "\n",
       "        function initialize() {\n",
       "            config.attention = params['attention'];\n",
       "            config.filter = params['default_filter'];\n",
       "            config.mode = params['display_mode'];\n",
       "            config.layers = params['include_layers']\n",
       "            config.heads = params['include_heads']\n",
       "            config.totalHeads = params['total_heads']\n",
       "            config.rootDivId = params['root_div_id'];\n",
       "            $(`#${config.rootDivId} #filter`).on('change', function (e) {\n",
       "                config.filter = e.currentTarget.value;\n",
       "                render();\n",
       "            });\n",
       "        }\n",
       "\n",
       "        initialize();\n",
       "        render();\n",
       "\n",
       "    });"
      ],
      "text/plain": [
       "<IPython.core.display.Javascript object>"
      ]
     },
     "metadata": {},
     "output_type": "display_data"
    }
   ],
   "source": [
    "tokens = tokenizer.convert_ids_to_tokens(encoded_phrase['input_ids'][0]) \n",
    "model_view(response.attentions, tokens)"
   ]
  },
  {
   "cell_type": "code",
   "execution_count": 28,
   "id": "cb6b59d1",
   "metadata": {},
   "outputs": [
    {
     "data": {
      "text/plain": [
       "torch.Size([1, 14, 768])"
      ]
     },
     "execution_count": 28,
     "metadata": {},
     "output_type": "execute_result"
    }
   ],
   "source": [
    "response.hidden_states[-1].shape"
   ]
  },
  {
   "cell_type": "code",
   "execution_count": 29,
   "id": "c27c187a",
   "metadata": {},
   "outputs": [
    {
     "data": {
      "text/plain": [
       "torch.Size([1, 14, 50257])"
      ]
     },
     "execution_count": 29,
     "metadata": {},
     "output_type": "execute_result"
    }
   ],
   "source": [
    "response.logits.shape"
   ]
  },
  {
   "cell_type": "markdown",
   "id": "37a58682",
   "metadata": {},
   "source": [
    "logists are the final output of language model layer which applies a feed forward laye to each of 14 tokens."
   ]
  },
  {
   "cell_type": "code",
   "execution_count": 30,
   "id": "6ec1e7ec",
   "metadata": {},
   "outputs": [
    {
     "data": {
      "text/html": [
       "<div>\n",
       "<style scoped>\n",
       "    .dataframe tbody tr th:only-of-type {\n",
       "        vertical-align: middle;\n",
       "    }\n",
       "\n",
       "    .dataframe tbody tr th {\n",
       "        vertical-align: top;\n",
       "    }\n",
       "\n",
       "    .dataframe thead th {\n",
       "        text-align: right;\n",
       "    }\n",
       "</style>\n",
       "<table border=\"1\" class=\"dataframe\">\n",
       "  <thead>\n",
       "    <tr style=\"text-align: right;\">\n",
       "      <th></th>\n",
       "      <th>Sequence</th>\n",
       "      <th>Next predicted token with highest probability</th>\n",
       "    </tr>\n",
       "  </thead>\n",
       "  <tbody>\n",
       "    <tr>\n",
       "      <th>0</th>\n",
       "      <td>Today</td>\n",
       "      <td>,</td>\n",
       "    </tr>\n",
       "    <tr>\n",
       "      <th>1</th>\n",
       "      <td>Ġis</td>\n",
       "      <td>Ġthe</td>\n",
       "    </tr>\n",
       "    <tr>\n",
       "      <th>2</th>\n",
       "      <td>Ġa</td>\n",
       "      <td>Ġtime</td>\n",
       "    </tr>\n",
       "    <tr>\n",
       "      <th>3</th>\n",
       "      <td>Ġbeautiful</td>\n",
       "      <td>Ġday</td>\n",
       "    </tr>\n",
       "    <tr>\n",
       "      <th>4</th>\n",
       "      <td>Ġday</td>\n",
       "      <td>Ġfor</td>\n",
       "    </tr>\n",
       "    <tr>\n",
       "      <th>5</th>\n",
       "      <td>.</td>\n",
       "      <td>Ċ</td>\n",
       "    </tr>\n",
       "    <tr>\n",
       "      <th>6</th>\n",
       "      <td>Ġbut</td>\n",
       "      <td>ĠI</td>\n",
       "    </tr>\n",
       "    <tr>\n",
       "      <th>7</th>\n",
       "      <td>,</td>\n",
       "      <td>ĠI</td>\n",
       "    </tr>\n",
       "    <tr>\n",
       "      <th>8</th>\n",
       "      <td>ĠIt</td>\n",
       "      <td>Ġis</td>\n",
       "    </tr>\n",
       "    <tr>\n",
       "      <th>9</th>\n",
       "      <td>Ġis</td>\n",
       "      <td>Ġnot</td>\n",
       "    </tr>\n",
       "    <tr>\n",
       "      <th>10</th>\n",
       "      <td>Ġgoing</td>\n",
       "      <td>Ġto</td>\n",
       "    </tr>\n",
       "    <tr>\n",
       "      <th>11</th>\n",
       "      <td>Ġto</td>\n",
       "      <td>Ġbe</td>\n",
       "    </tr>\n",
       "    <tr>\n",
       "      <th>12</th>\n",
       "      <td>Ġrain</td>\n",
       "      <td>.</td>\n",
       "    </tr>\n",
       "    <tr>\n",
       "      <th>13</th>\n",
       "      <td>!</td>\n",
       "      <td>Ċ</td>\n",
       "    </tr>\n",
       "  </tbody>\n",
       "</table>\n",
       "</div>"
      ],
      "text/plain": [
       "      Sequence Next predicted token with highest probability\n",
       "0        Today                                             ,\n",
       "1          Ġis                                          Ġthe\n",
       "2           Ġa                                         Ġtime\n",
       "3   Ġbeautiful                                          Ġday\n",
       "4         Ġday                                          Ġfor\n",
       "5            .                                             Ċ\n",
       "6         Ġbut                                            ĠI\n",
       "7            ,                                            ĠI\n",
       "8          ĠIt                                           Ġis\n",
       "9          Ġis                                          Ġnot\n",
       "10      Ġgoing                                           Ġto\n",
       "11         Ġto                                           Ġbe\n",
       "12       Ġrain                                             .\n",
       "13           !                                             Ċ"
      ]
     },
     "execution_count": 30,
     "metadata": {},
     "output_type": "execute_result"
    }
   ],
   "source": [
    "pd.DataFrame(\n",
    "    zip(tokens, tokenizer.convert_ids_to_tokens(response.logits.argmax(2)[0])), \n",
    "    columns=['Sequence', 'Next predicted token with highest probability']\n",
    ")"
   ]
  },
  {
   "cell_type": "code",
   "execution_count": 31,
   "id": "59acb8c8",
   "metadata": {},
   "outputs": [
    {
     "name": "stderr",
     "output_type": "stream",
     "text": [
      "Setting `pad_token_id` to `eos_token_id`:50256 for open-end generation.\n"
     ]
    },
    {
     "data": {
      "text/plain": [
       "[{'generated_text': 'Today is a beautiful day. but, It is going to rain!\\n\\nI am going to be in the hospital for a few days. I am going to be in the hospital for a few'}]"
      ]
     },
     "execution_count": 31,
     "metadata": {},
     "output_type": "execute_result"
    }
   ],
   "source": [
    "generator(phrase, max_length=40, num_return_sequences=1, do_sample=False)  # greedy search"
   ]
  },
  {
   "cell_type": "code",
   "execution_count": 32,
   "id": "be22c2df",
   "metadata": {},
   "outputs": [
    {
     "name": "stderr",
     "output_type": "stream",
     "text": [
      "Setting `pad_token_id` to `eos_token_id`:50256 for open-end generation.\n"
     ]
    },
    {
     "data": {
      "text/plain": [
       "[{'generated_text': 'Today is a beautiful day. but, It is going to rain! because You want me to leave you alone, but I think the rain is better than it is right now! I hope that you'}]"
      ]
     },
     "execution_count": 32,
     "metadata": {},
     "output_type": "execute_result"
    }
   ],
   "source": [
    "generator(phrase, max_length=40, num_return_sequences=1, do_sample=True)  # greedy search with sampling"
   ]
  },
  {
   "cell_type": "markdown",
   "id": "29e50e60",
   "metadata": {},
   "source": [
    "# Pre-training GPT"
   ]
  },
  {
   "cell_type": "markdown",
   "id": "1c8267da",
   "metadata": {},
   "source": [
    "Similar to BERT, the authors of GPT need to pre-train the language model. However, mass language model does not make sense because <span class=\"burk\">GPT is auto regressor not auto encoder (unlike BERT)</span>. Also, next sentence prediction does not make sense because we are not trying to understand sequences as a whole, we only try to do auto regressor language model, different type of pre-training should be applied.\n",
    "\n",
    "GPT was pre-trained on a corpora called WebText with 40 Gigabytes of text which is a collection of text data from the Internet. The WebText dataset consists of a wide range of sources, including websites, articles, books, and other publicly available written content. It contains a diverse set of topics and writing styles, allowing the model to learn patterns and information from various domains.\n",
    "\n",
    "The pre-training process involves training the GPT model to predict the next word in a sequence of words given some context. This task is known as unsupervised learning, as the model does not require specific labels or annotations during training. By training on a large amount of text data, GPT learns the statistical patterns and relationships between words, enabling it to generate coherent and contextually appropriate text.\n",
    "\n",
    "During pre-training, GPT uses a variant of the Transformer architecture, which includes a stack of self-attention and feed-forward layers. The model processes input text in chunks or \"tokens,\" which can represent individual words, subwords, or characters, depending on the chosen tokenization scheme. The self-attention mechanism allows the model to capture dependencies between different words in a sequence, while the feed-forward layers perform non-linear transformations to generate meaningful representations."
   ]
  },
  {
   "cell_type": "code",
   "execution_count": 33,
   "id": "b42dfadc",
   "metadata": {},
   "outputs": [],
   "source": [
    "from transformers import pipeline, set_seed\n",
    "from torch import tensor\n",
    "\n",
    "generator = pipeline('text-generation', model='gpt2', tokenizer=tokenizer)\n",
    "set_seed(0)"
   ]
  },
  {
   "cell_type": "code",
   "execution_count": 34,
   "id": "ba75a74b",
   "metadata": {},
   "outputs": [
    {
     "name": "stderr",
     "output_type": "stream",
     "text": [
      "C:\\Users\\mrezv\\anaconda3\\lib\\site-packages\\transformers\\generation\\utils.py:1186: UserWarning: You have modified the pretrained model configuration to control generation. This is a deprecated strategy to control generation and will be removed soon, in a future version. Please use a generation configuration file (see https://huggingface.co/docs/transformers/main_classes/text_generation)\n",
      "  warnings.warn(\n",
      "Setting `pad_token_id` to `eos_token_id`:50256 for open-end generation.\n"
     ]
    },
    {
     "data": {
      "text/plain": [
       "[{'generated_text': 'Muslim man work during the day as a security guard. He was ordered to'},\n",
       " {'generated_text': 'Muslim man work during the day as a janitor at a hospital after his'},\n",
       " {'generated_text': 'Muslim man work during the day as a contractor. The police were looking for'},\n",
       " {'generated_text': 'Muslim man work during the day as a police officer on the highway in T'}]"
      ]
     },
     "execution_count": 34,
     "metadata": {},
     "output_type": "execute_result"
    }
   ],
   "source": [
    "# Bias\n",
    "generator(\"Muslim man work during the day as a\", max_length=15, num_return_sequences=4, temperature=0.8)\n",
    "# temperature: Reducing temperature makes it less random "
   ]
  },
  {
   "cell_type": "code",
   "execution_count": 35,
   "id": "fa2906d2",
   "metadata": {},
   "outputs": [
    {
     "name": "stderr",
     "output_type": "stream",
     "text": [
      "Setting `pad_token_id` to `eos_token_id`:50256 for open-end generation.\n"
     ]
    },
    {
     "data": {
      "text/plain": [
       "[{'generated_text': 'White man work during the day as a firefighter\\n\\nThe New Yorker says'},\n",
       " {'generated_text': 'White man work during the day as a janitor at a nearby gas station'},\n",
       " {'generated_text': 'White man work during the day as a part of the team.\\n\\n'},\n",
       " {'generated_text': \"White man work during the day as a street vendor, and he's a\"}]"
      ]
     },
     "execution_count": 35,
     "metadata": {},
     "output_type": "execute_result"
    }
   ],
   "source": [
    "# Bias\n",
    "generator(\"White man work during the day as a\", max_length=15, num_return_sequences=4, temperature=0.8)"
   ]
  },
  {
   "cell_type": "code",
   "execution_count": 36,
   "id": "1f2813ec",
   "metadata": {},
   "outputs": [
    {
     "name": "stderr",
     "output_type": "stream",
     "text": [
      "Setting `pad_token_id` to `eos_token_id`:50256 for open-end generation.\n"
     ]
    },
    {
     "data": {
      "text/plain": [
       "[{'generated_text': 'The earth would be beautiful without the sun.\\n\\nI know that.'},\n",
       " {'generated_text': 'The earth would be beautiful without it.\\n\\n\"And I am a'},\n",
       " {'generated_text': 'The earth would be beautiful without you. But you have no idea what you'},\n",
       " {'generated_text': 'The earth would be beautiful without those mountains.\\n\\n\"I\\'m not'},\n",
       " {'generated_text': 'The earth would be beautiful without it.\\n\\nIf we want to live'}]"
      ]
     },
     "execution_count": 36,
     "metadata": {},
     "output_type": "execute_result"
    }
   ],
   "source": [
    "# Bias\n",
    "generator(\"The earth would be beautiful without\", max_length=15, num_return_sequences=5, temperature=0.5)"
   ]
  },
  {
   "cell_type": "markdown",
   "id": "9617e32a",
   "metadata": {},
   "source": [
    "From examples above, we should be careful and aware of bias using auto regression models since pre-trained corpora has bias in it. We should be careful of transforming biases to our downstream tasks and decision making."
   ]
  },
  {
   "cell_type": "markdown",
   "id": "63b6f674",
   "metadata": {},
   "source": [
    "# Few-shot learning"
   ]
  },
  {
   "cell_type": "markdown",
   "id": "65b0141a",
   "metadata": {},
   "source": [
    "* **Zero-shot Learning**: task description is given to the model but without any prior example\n",
    "\n",
    "* **One-shot Learning**: task description is given to the model with one single prior example\n",
    "\n",
    "* **Few-shot Learning**: task description is given to the model with as many as prior examples we desire to fit into the context window of model. GPT-2 has 1024 tokens"
   ]
  },
  {
   "cell_type": "markdown",
   "id": "c1d7bfca",
   "metadata": {},
   "source": [
    "**Sentiment Analysis, question/answering, translation** are not part of task of pre-training for GPT2; it is a auto-regressive task to predict tokens. GPT2 does not know how to do these task explicitly but implicitly can figure out **through few examples.**"
   ]
  },
  {
   "cell_type": "markdown",
   "id": "d8e229c7",
   "metadata": {},
   "source": [
    "## Sentiment Analysis"
   ]
  },
  {
   "cell_type": "code",
   "execution_count": 37,
   "id": "d707838e",
   "metadata": {},
   "outputs": [
    {
     "name": "stderr",
     "output_type": "stream",
     "text": [
      "Setting `pad_token_id` to `eos_token_id`:50256 for open-end generation.\n"
     ]
    },
    {
     "name": "stdout",
     "output_type": "stream",
     "text": [
      "Sentiment Analysis\n",
      "Text: I hate it when my laptop crashes.\n",
      "Sentiment: Negative\n",
      "###\n",
      "Text: My day has been awesome!\n",
      "Sentiment: Positive\n",
      "###\n",
      "Text: I am a couch potato\n",
      "Sentiment: Negative\n",
      "###\n",
      "Text:\n"
     ]
    }
   ],
   "source": [
    "print(generator(\"\"\"Sentiment Analysis\n",
    "Text: I hate it when my laptop crashes.\n",
    "Sentiment: Negative\n",
    "###\n",
    "Text: My day has been awesome!\n",
    "Sentiment: Positive\n",
    "###\n",
    "Text: I am a couch potato\n",
    "Sentiment:\"\"\", top_k=2, temperature=0.1, max_length=55)[0]['generated_text'])"
   ]
  },
  {
   "cell_type": "markdown",
   "id": "c9fcb203",
   "metadata": {},
   "source": [
    "**top_k:** The top_k parameter, also known as the \"top-k sampling\" strategy, is used to limit the number of words considered during the sampling process. When generating text, the model assigns probabilities to each possible next word. By setting the top_k value, the model only considers the k most likely words based on their probabilities. This helps to ensure that the generated text is more focused and coherent.\n",
    "\n",
    "\n",
    "For example, if top_k is set to 10, the model will only consider the top 10 words with the highest probabilities for each word position, discarding the rest. The actual number of words considered can be less than k if the probability distribution is highly concentrated on a few words.\n",
    "\n",
    "\n",
    "**temperature:** The temperature parameter controls the randomness of the generated text. It adjusts the probability distribution during sampling. A higher temperature value, such as 1.0, increases the randomness and diversity of the output. This means that less probable words have a higher chance of being selected, leading to more creative but potentially less coherent or sensible output.\n",
    "\n",
    "On the other hand, a lower temperature value, such as 0.5, reduces randomness and makes the model more focused and deterministic. In this case, the most probable words have a higher chance of being selected, resulting in more predictable and conservative output."
   ]
  },
  {
   "cell_type": "markdown",
   "id": "1913dff4",
   "metadata": {},
   "source": [
    "## Question/Answering"
   ]
  },
  {
   "cell_type": "code",
   "execution_count": 38,
   "id": "c47e41bd",
   "metadata": {},
   "outputs": [
    {
     "name": "stderr",
     "output_type": "stream",
     "text": [
      "Setting `pad_token_id` to `eos_token_id`:50256 for open-end generation.\n"
     ]
    },
    {
     "name": "stdout",
     "output_type": "stream",
     "text": [
      "Question/Answering\n",
      "C: Google was founded in 1998 by Larry Page and Sergey Brin while they were Ph.D. students at Stanford University in California. Together they own about 14 percent of its shares and control 56 percent of the stockholder voting power through supervoting stock.\n",
      "Q: When was Google founded?\n",
      "A: 1998\n",
      "###\n",
      "C: Hugging Face is a company whi\"ch develops social AI-run chatbot applications. It was established in 2016 by Clement Delangue and Julien Chaumond. The company is based in Brooklyn, New York, United States.\n",
      "Q: What does Hugging Face develop?\n",
      "A: social AI-run chatbot applications\n",
      "###\n",
      "C: The New York Jets are a professional American football team based in the New York metropolitan area. The Jets compete in the National Football League (NFL) as a member club of the league's American Football Conference (AFC) East division.\n",
      "Q: What division do the Jets play in?\n",
      "A: The AFC East\n",
      "Q\n"
     ]
    }
   ],
   "source": [
    "print(generator(\"\"\"Question/Answering\n",
    "C: Google was founded in 1998 by Larry Page and Sergey Brin while they were Ph.D. students at Stanford University in California. Together they own about 14 percent of its shares and control 56 percent of the stockholder voting power through supervoting stock.\n",
    "Q: When was Google founded?\n",
    "A: 1998\n",
    "###\n",
    "C: Hugging Face is a company whi\"ch develops social AI-run chatbot applications. It was established in 2016 by Clement Delangue and Julien Chaumond. The company is based in Brooklyn, New York, United States.\n",
    "Q: What does Hugging Face develop?\n",
    "A: social AI-run chatbot applications\n",
    "###\n",
    "C: The New York Jets are a professional American football team based in the New York metropolitan area. The Jets compete in the National Football League (NFL) as a member club of the league's American Football Conference (AFC) East division.\n",
    "Q: What division do the Jets play in?\n",
    "A:\"\"\", top_k=2, max_length=215, temperature=0.5)[0]['generated_text'])"
   ]
  },
  {
   "cell_type": "markdown",
   "id": "1d8b5cdb",
   "metadata": {},
   "source": [
    "## Zero Shot Learning"
   ]
  },
  {
   "cell_type": "markdown",
   "id": "0c817de8",
   "metadata": {},
   "source": [
    "Zero-shot doesn't work as much for the sentiment analysis."
   ]
  },
  {
   "cell_type": "code",
   "execution_count": 39,
   "id": "23ddb464",
   "metadata": {},
   "outputs": [
    {
     "name": "stderr",
     "output_type": "stream",
     "text": [
      "Setting `pad_token_id` to `eos_token_id`:50256 for open-end generation.\n"
     ]
    },
    {
     "name": "stdout",
     "output_type": "stream",
     "text": [
      "Sentiment Analysis\n",
      "Text: the food was great\n",
      "Sentiment: the food was great\n",
      "Sentiment: the food was great\n",
      "Sentiment: the food was great\n",
      "Sentiment: the food was great\n",
      "Sentiment: the food was great\n",
      "Sentiment: the\n"
     ]
    }
   ],
   "source": [
    "print(generator(\"\"\"Sentiment Analysis\n",
    "Text: the food was great\n",
    "Sentiment:\"\"\", top_k=2, temperature=0.1, max_length=55)[0]['generated_text'])"
   ]
  },
  {
   "cell_type": "markdown",
   "id": "5019226c",
   "metadata": {},
   "source": [
    "Zero-shot learning works better for Question/Answering task."
   ]
  },
  {
   "cell_type": "code",
   "execution_count": 40,
   "id": "9a867ef5",
   "metadata": {},
   "outputs": [
    {
     "name": "stderr",
     "output_type": "stream",
     "text": [
      "Setting `pad_token_id` to `eos_token_id`:50256 for open-end generation.\n"
     ]
    },
    {
     "name": "stdout",
     "output_type": "stream",
     "text": [
      "Question/Answering\n",
      "C: The New York Jets are a professional American football team based in the New York metropolitan area. \n",
      "The Jets compete in the National Football League (NFL) as a member club of the league's American Football \n",
      "Conference (AFC) East division.\n",
      "Q: What division do the Jets play in?\n",
      "A: The Jets play in the AFC\n"
     ]
    }
   ],
   "source": [
    "print(generator(\n",
    "    '''Question/Answering\n",
    "C: The New York Jets are a professional American football team based in the New York metropolitan area. \n",
    "The Jets compete in the National Football League (NFL) as a member club of the league's American Football \n",
    "Conference (AFC) East division.\n",
    "Q: What division do the Jets play in?\n",
    "A:''',\n",
    "    top_k=2, max_length=80, temperature=0.5)[0]['generated_text']\n",
    ")"
   ]
  },
  {
   "cell_type": "markdown",
   "id": "e18485fe",
   "metadata": {},
   "source": [
    "### Summarize Text (TL;DR)"
   ]
  },
  {
   "cell_type": "markdown",
   "id": "c96445c1",
   "metadata": {},
   "source": [
    "Zero-shot can be used as a summarization approach."
   ]
  },
  {
   "cell_type": "code",
   "execution_count": 41,
   "id": "47d9dae4",
   "metadata": {},
   "outputs": [],
   "source": [
    "to_summarize = \"\"\"The exploitation of hydrocarbon reservoirs may potentially lead to contamination of soils, shallow water resources, and greenhouse gas emissions. Fluids such as methane or CO2 may in some cases migrate toward the groundwater zone and atmosphere through and along imperfectly sealed hydrocarbon wells. Field tests in hydrocarbon-producing regions are routinely conducted for detecting serious leakage to prevent environmental pollution. The challenge is that testing is costly, time-consuming, and sometimes labor-intensive. In this study, machine learning approaches were applied to predict serious leakage with uncertainty quantification for wells that have not been field tested in Alberta, Canada. An improved imputation technique was developed by Cholesky factorization of the covariance matrix between features, where missing data are imputed via conditioning of available values. The uncertainty in imputed values was quantified and incorporated into the final prediction to improve decision-making. Next, a wide range of predictive algorithms and various performance metrics were considered to achieve the most reliable classifier. However, a highly skewed distribution of field tests toward the negative class (nonserious leakage) forces predictive models to unrealistically underestimate the minority class (serious leakage). To address this issue, a combination of oversampling, undersampling, and ensemble learning was applied. By investigating all the models on never-before-seen data, an optimum classifier with minimal false negative prediction was determined. The developed methodology can be applied to identify the wells with the highest likelihood for serious fluid leakage within producing fields. This information is of key importance for optimizing field test operations to achieve economic and environmental benefits.\"\"\""
   ]
  },
  {
   "cell_type": "markdown",
   "id": "f806f55f",
   "metadata": {},
   "source": [
    "<span class=\"mark\">TL;DR:</span> **too long did not read**. This is the name of summerization algorithm. Zero shot learning is the best technique to do this."
   ]
  },
  {
   "cell_type": "code",
   "execution_count": 42,
   "id": "320ed6dc",
   "metadata": {},
   "outputs": [
    {
     "name": "stderr",
     "output_type": "stream",
     "text": [
      "Setting `pad_token_id` to `eos_token_id`:50256 for open-end generation.\n"
     ]
    },
    {
     "name": "stdout",
     "output_type": "stream",
     "text": [
      "Summarization Task:\n",
      "The exploitation of hydrocarbon reservoirs may potentially lead to contamination of soils, shallow water resources, and greenhouse gas emissions. Fluids such as methane or CO2 may in some cases migrate toward the groundwater zone and atmosphere through and along imperfectly sealed hydrocarbon wells. Field tests in hydrocarbon-producing regions are routinely conducted for detecting serious leakage to prevent environmental pollution. The challenge is that testing is costly, time-consuming, and sometimes labor-intensive. In this study, machine learning approaches were applied to predict serious leakage with uncertainty quantification for wells that have not been field tested in Alberta, Canada. An improved imputation technique was developed by Cholesky factorization of the covariance matrix between features, where missing data are imputed via conditioning of available values. The uncertainty in imputed values was quantified and incorporated into the final prediction to improve decision-making. Next, a wide range of predictive algorithms and various performance metrics were considered to achieve the most reliable classifier. However, a highly skewed distribution of field tests toward the negative class (nonserious leakage) forces predictive models to unrealistically underestimate the minority class (serious leakage). To address this issue, a combination of oversampling, undersampling, and ensemble learning was applied. By investigating all the models on never-before-seen data, an optimum classifier with minimal false negative prediction was determined. The developed methodology can be applied to identify the wells with the highest likelihood for serious fluid leakage within producing fields. This information is of key importance for optimizing field test operations to achieve economic and environmental benefits.\n",
      "TL;DR:\n",
      "\n",
      "The use of machine learning to predict the future is a critical component of the energy and environmental management of Alberta.\n",
      "\n",
      "References\n",
      "\n",
      "1. Choleski A, et al. (2013). The Impact of Hydrocarbon Production on the Global Carbon Dioxide Emissions. Journal of Geophysical Research: Atmospheres, Vol. 90, Issue., p. 549-553.\n",
      ". Cholek A, & Sperry J. (2012). The impact of hydrocarbons on the global climate: A review. Journal for the Scientific Study of Environment, Vol, 5, Issue, p. 749-752.\n",
      ", &. Cholm A, Cholesk A. (2014). Hydrocarbon production and the climate: The role of the Earth's climate system. Journal on Climate, Vol., 10, Issue., p. 651-654.\n",
      "2.\n"
     ]
    }
   ],
   "source": [
    "print(generator(\n",
    "    f\"\"\"Summarization Task:\\n{to_summarize}\\n\\nTL;DR:\"\"\", \n",
    "    max_length=512, top_k=2, temperature=0.5, no_repeat_ngram_size=3)[0]['generated_text'])\n",
    "\n",
    "# no_repeat_ngram_size: stops from repeating this over and over"
   ]
  },
  {
   "cell_type": "markdown",
   "id": "8fa0a2c5",
   "metadata": {},
   "source": [
    "# Style Completion by GPT"
   ]
  },
  {
   "cell_type": "markdown",
   "id": "ecb35740",
   "metadata": {},
   "source": [
    "In this section, GPT model will be fine-tuned by our data."
   ]
  },
  {
   "cell_type": "code",
   "execution_count": 43,
   "id": "34b91951",
   "metadata": {},
   "outputs": [],
   "source": [
    "from transformers import GPT2Tokenizer, TextDataset, DataCollatorForLanguageModeling, GPT2LMHeadModel, pipeline, \\\n",
    "                         Trainer, TrainingArguments"
   ]
  },
  {
   "cell_type": "code",
   "execution_count": 44,
   "id": "8cd9d7c5",
   "metadata": {},
   "outputs": [],
   "source": [
    "tokenizer = GPT2Tokenizer.from_pretrained('gpt2')"
   ]
  },
  {
   "cell_type": "code",
   "execution_count": 45,
   "id": "c138943a",
   "metadata": {},
   "outputs": [
    {
     "name": "stdout",
     "output_type": "stream",
     "text": [
      "{'input_ids': tensor([[ 1212,   318,   281,  1672,  5128],\n",
      "        [ 6610,  5128, 50256, 50256, 50256]]), 'attention_mask': tensor([[1, 1, 1, 1, 1],\n",
      "        [1, 1, 0, 0, 0]])}\n"
     ]
    }
   ],
   "source": [
    "from transformers import GPT2Tokenizer\n",
    "\n",
    "tokenizer = GPT2Tokenizer.from_pretrained('gpt2')\n",
    "tokenizer.pad_token = tokenizer.eos_token  # Set padding token to end of sequence token\n",
    "\n",
    "# Example usage\n",
    "inputs = [\"This is an example input\", \"Another input\"]\n",
    "encoded_inputs = tokenizer(inputs, padding=True, truncation=True, return_tensors=\"pt\")\n",
    "\n",
    "# Print encoded inputs\n",
    "print(encoded_inputs)"
   ]
  },
  {
   "cell_type": "markdown",
   "id": "f11a72ab",
   "metadata": {},
   "source": [
    "GPT is applied for the paper [Machine learning approaches for the prediction of serious fluid leakage from hydrocarbon wells](https://www.cambridge.org/core/journals/data-centric-engineering/article/machine-learning-approaches-for-the-prediction-of-serious-fluid-leakage-from-hydrocarbon-wells/FF12553D3D90A3A0CB5CD302034DD741). The aim is to read through the paper multiple times to answer questions."
   ]
  },
  {
   "cell_type": "code",
   "execution_count": 46,
   "id": "d1541fd4",
   "metadata": {},
   "outputs": [
    {
     "name": "stderr",
     "output_type": "stream",
     "text": [
      "C:\\Users\\mrezv\\anaconda3\\lib\\site-packages\\transformers\\data\\datasets\\language_modeling.py:54: FutureWarning: This dataset will be removed from the library soon, preprocessing should be handled with the 🤗 Datasets library. You can have a look at this example script for pointers: https://github.com/huggingface/transformers/blob/main/examples/pytorch/language-modeling/run_mlm.py\n",
      "  warnings.warn(\n"
     ]
    }
   ],
   "source": [
    "pds_data = TextDataset(\n",
    "    tokenizer=tokenizer,\n",
    "    file_path='./data/paper.txt',  # text file for the paper written by Mehdi Rezvandehy\n",
    "    block_size=32  # length of each chunk of text to use as a datapoint\n",
    ")"
   ]
  },
  {
   "cell_type": "markdown",
   "id": "e3db0d9d",
   "metadata": {},
   "source": [
    "Lets take a look at tokens of first example:"
   ]
  },
  {
   "cell_type": "code",
   "execution_count": 47,
   "id": "e2beda86",
   "metadata": {},
   "outputs": [
    {
     "data": {
      "text/plain": [
       "(tensor([  220,   220,   220,   220,   220,   220,   220,   220,   220,   220,\n",
       "           220,  6060,    12, 19085,  1173, 14044,   357,  1238,  1954,   828,\n",
       "           604,    25,   304,  1065,   198,   220,   220,   220,   220,   220,\n",
       "           220,   220]),\n",
       " torch.Size([32]))"
      ]
     },
     "execution_count": 47,
     "metadata": {},
     "output_type": "execute_result"
    }
   ],
   "source": [
    "pds_data[0], pds_data[0].shape  # inspect the first point"
   ]
  },
  {
   "cell_type": "markdown",
   "id": "ee68dd6d",
   "metadata": {},
   "source": [
    "Decode the code to see what are the elements:"
   ]
  },
  {
   "cell_type": "code",
   "execution_count": 48,
   "id": "a27a6867",
   "metadata": {},
   "outputs": [
    {
     "name": "stdout",
     "output_type": "stream",
     "text": [
      "            Data-Centric Engineering (2023), 4: e12\n",
      "       \n"
     ]
    }
   ],
   "source": [
    "print(tokenizer.decode(pds_data[0]))"
   ]
  },
  {
   "cell_type": "markdown",
   "id": "e1674f31",
   "metadata": {},
   "source": [
    "After having our data set we need our data collator (`DataCollatorForLanguageModeling`)"
   ]
  },
  {
   "cell_type": "code",
   "execution_count": 49,
   "id": "710e1888",
   "metadata": {},
   "outputs": [],
   "source": [
    "data_collator = DataCollatorForLanguageModeling(\n",
    "    tokenizer=tokenizer, mlm=False,  # MLM is Masked Language Modelling\n",
    ")"
   ]
  },
  {
   "cell_type": "markdown",
   "id": "01397601",
   "metadata": {},
   "source": [
    "Look at what collator is doing:"
   ]
  },
  {
   "cell_type": "code",
   "execution_count": 50,
   "id": "2e66fd2e",
   "metadata": {},
   "outputs": [
    {
     "data": {
      "text/plain": [
       "{'input_ids': tensor([[ 6090,   314,   423,   281,  5128],\n",
       "        [ 8505, 27406,   460, 50256, 50256]]), 'attention_mask': tensor([[1, 1, 1, 1, 1],\n",
       "        [1, 1, 1, 0, 0]]), 'labels': tensor([[ 6090,   314,   423,   281,  5128],\n",
       "        [ 8505, 27406,   460,  -100,  -100]])}"
      ]
     },
     "execution_count": 50,
     "metadata": {},
     "output_type": "execute_result"
    }
   ],
   "source": [
    "collator_example = data_collator([tokenizer('Can I have an input'), tokenizer('yes yo can')])\n",
    "collator_example"
   ]
  },
  {
   "cell_type": "code",
   "execution_count": 51,
   "id": "f10f20fd",
   "metadata": {},
   "outputs": [
    {
     "data": {
      "text/plain": [
       "tensor([[ 6090,   314,   423,   281,  5128],\n",
       "        [ 8505, 27406,   460, 50256, 50256]])"
      ]
     },
     "execution_count": 51,
     "metadata": {},
     "output_type": "execute_result"
    }
   ],
   "source": [
    "collator_example.input_ids"
   ]
  },
  {
   "cell_type": "code",
   "execution_count": 52,
   "id": "a85f31b4",
   "metadata": {},
   "outputs": [
    {
     "data": {
      "text/plain": [
       "tensor([[ 6090,   314,   423,   281,  5128],\n",
       "        [ 8505, 27406,   460, 50256, 50256]])"
      ]
     },
     "execution_count": 52,
     "metadata": {},
     "output_type": "execute_result"
    }
   ],
   "source": [
    "collator_example.input_ids  # 50256 is our pad token id"
   ]
  },
  {
   "cell_type": "code",
   "execution_count": 53,
   "id": "52af1db4",
   "metadata": {},
   "outputs": [
    {
     "data": {
      "text/plain": [
       "50256"
      ]
     },
     "execution_count": 53,
     "metadata": {},
     "output_type": "execute_result"
    }
   ],
   "source": [
    "tokenizer.pad_token_id"
   ]
  },
  {
   "cell_type": "code",
   "execution_count": 54,
   "id": "4c965141",
   "metadata": {},
   "outputs": [
    {
     "data": {
      "text/plain": [
       "tensor([[1, 1, 1, 1, 1],\n",
       "        [1, 1, 1, 0, 0]])"
      ]
     },
     "execution_count": 54,
     "metadata": {},
     "output_type": "execute_result"
    }
   ],
   "source": [
    "collator_example.attention_mask  # Note the 0 in the attention mask where we have a pad token"
   ]
  },
  {
   "cell_type": "code",
   "execution_count": 55,
   "id": "29f46d8d",
   "metadata": {},
   "outputs": [
    {
     "data": {
      "text/plain": [
       "tensor([[ 6090,   314,   423,   281,  5128],\n",
       "        [ 8505, 27406,   460,  -100,  -100]])"
      ]
     },
     "execution_count": 55,
     "metadata": {},
     "output_type": "execute_result"
    }
   ],
   "source": [
    "collator_example.labels  # note the -100 to ignore loss calculation for the padded token\n",
    "# Reminder that labels are shifted *inside* the GPT model so we don't need to worry about that"
   ]
  },
  {
   "cell_type": "code",
   "execution_count": 56,
   "id": "28861c9e",
   "metadata": {},
   "outputs": [],
   "source": [
    "model = GPT2LMHeadModel.from_pretrained('gpt2')  # load up a GPT2 model"
   ]
  },
  {
   "cell_type": "markdown",
   "id": "7aa70c8c",
   "metadata": {},
   "source": [
    "Start generating a pipeline:"
   ]
  },
  {
   "cell_type": "code",
   "execution_count": 57,
   "id": "18241668",
   "metadata": {},
   "outputs": [],
   "source": [
    "pretrained_generator = pipeline(\n",
    "    'text-generation', model=model, tokenizer='gpt2',\n",
    "    config={'max_length': 200, 'do_sample': True, 'top_p': 0.9, 'temperature': 0.7, 'top_k': 10}\n",
    ")\n",
    "# 'do_sample': capable of multiple predictions\n",
    "# 'top_p' and 'top_k': for sharpening our prediction and make it less random\n",
    "# 'temperature': lower value makes it more consistent"
   ]
  },
  {
   "cell_type": "markdown",
   "id": "6b66b4c9",
   "metadata": {},
   "source": [
    "Example below is text completion without fin-tuning the model:"
   ]
  },
  {
   "cell_type": "code",
   "execution_count": 58,
   "id": "744f076c",
   "metadata": {},
   "outputs": [
    {
     "name": "stderr",
     "output_type": "stream",
     "text": [
      "Setting `pad_token_id` to `eos_token_id`:50256 for open-end generation.\n"
     ]
    },
    {
     "name": "stdout",
     "output_type": "stream",
     "text": [
      "----------\n"
     ]
    },
    {
     "name": "stderr",
     "output_type": "stream",
     "text": [
      "C:\\Users\\mrezv\\anaconda3\\lib\\site-packages\\transformers\\generation\\utils.py:1273: UserWarning: Neither `max_length` nor `max_new_tokens` has been set, `max_length` will default to 50 (`generation_config.max_length`). Controlling `max_length` via the config is deprecated and `max_length` will be removed from the config in v5 of Transformers -- we recommend using `max_new_tokens` to control the maximum length of the generation.\n",
      "  warnings.warn(\n"
     ]
    },
    {
     "name": "stdout",
     "output_type": "stream",
     "text": [
      "The Dummy classifier has the lowest values for all metrics except for Dummy_Value_Size - which is the size of the Dummy and the amount of data from it that could be stored in the Dummy_Data. Dummy_\n",
      "----------\n",
      "The Dummy classifier has the lowest values for all metrics except for the value defined on the initializer.\n",
      "\n",
      "Since the metrics that can be used in this classifier are not unique as shown on the screenshot above, the metrics for each of\n",
      "----------\n",
      "The Dummy classifier has the lowest values for all metrics except for log of log_size (and possibly size-independent time series), or for the amount of data on the dataset, and how many objects the algorithm can collect at once and how\n",
      "----------\n"
     ]
    }
   ],
   "source": [
    "print('----------')\n",
    "for generated_sequence in pretrained_generator('The Dummy classifier has the lowest values for all metrics except for', num_return_sequences=3):\n",
    "    print(generated_sequence['generated_text'])\n",
    "    print('----------')"
   ]
  },
  {
   "cell_type": "markdown",
   "id": "2c2bd42a",
   "metadata": {},
   "source": [
    "The main aim is after reading the book "
   ]
  },
  {
   "cell_type": "code",
   "execution_count": 59,
   "id": "116ae339",
   "metadata": {},
   "outputs": [
    {
     "name": "stderr",
     "output_type": "stream",
     "text": [
      "***** Running Evaluation *****\n",
      "  Num examples = 148\n",
      "  Batch size = 32\n"
     ]
    },
    {
     "data": {
      "text/html": [
       "\n",
       "    <div>\n",
       "      \n",
       "      <progress value='10' max='5' style='width:300px; height:20px; vertical-align: middle;'></progress>\n",
       "      [5/5 03:36]\n",
       "    </div>\n",
       "    "
      ],
      "text/plain": [
       "<IPython.core.display.HTML object>"
      ]
     },
     "metadata": {},
     "output_type": "display_data"
    },
    {
     "data": {
      "text/plain": [
       "{'eval_loss': 3.9107463359832764,\n",
       " 'eval_runtime': 15.5811,\n",
       " 'eval_samples_per_second': 9.499,\n",
       " 'eval_steps_per_second': 0.321}"
      ]
     },
     "execution_count": 59,
     "metadata": {},
     "output_type": "execute_result"
    }
   ],
   "source": [
    "training_args = TrainingArguments(\n",
    "    output_dir=\"./gpt2_pds\", #The output directory\n",
    "    overwrite_output_dir=True, #overwrite the content of the output directory\n",
    "    num_train_epochs=3, # number of training epochs which means reading the book three times\n",
    "    per_device_train_batch_size=32, # batch size for training\n",
    "    per_device_eval_batch_size=32,  # batch size for evaluation\n",
    "    warmup_steps=len(pds_data.examples) // 5, # number of warmup steps for learning rate scheduler,\n",
    "    logging_steps=50,\n",
    "    load_best_model_at_end=True,\n",
    "    evaluation_strategy='epoch',\n",
    "    save_strategy='epoch'\n",
    ")\n",
    "\n",
    "trainer = Trainer(\n",
    "    model=model,\n",
    "    args=training_args,\n",
    "    data_collator=data_collator,\n",
    "    train_dataset=pds_data.examples[:int(len(pds_data.examples)*.8)],  # Training set as first 80%\n",
    "    eval_dataset=pds_data.examples[int(len(pds_data.examples)*.8):]   # Test set as second 20%\n",
    ")\n",
    "\n",
    "trainer.evaluate()"
   ]
  },
  {
   "cell_type": "code",
   "execution_count": 60,
   "id": "9728a704",
   "metadata": {},
   "outputs": [
    {
     "name": "stderr",
     "output_type": "stream",
     "text": [
      "C:\\Users\\mrezv\\anaconda3\\lib\\site-packages\\transformers\\optimization.py:306: FutureWarning: This implementation of AdamW is deprecated and will be removed in a future version. Use the PyTorch implementation torch.optim.AdamW instead, or set `no_deprecation_warning=True` to disable this warning\n",
      "  warnings.warn(\n",
      "***** Running training *****\n",
      "  Num examples = 588\n",
      "  Num Epochs = 3\n",
      "  Instantaneous batch size per device = 32\n",
      "  Total train batch size (w. parallel, distributed & accumulation) = 32\n",
      "  Gradient Accumulation steps = 1\n",
      "  Total optimization steps = 57\n",
      "  Number of trainable parameters = 124439808\n"
     ]
    },
    {
     "data": {
      "text/html": [
       "\n",
       "    <div>\n",
       "      \n",
       "      <progress value='57' max='57' style='width:300px; height:20px; vertical-align: middle;'></progress>\n",
       "      [57/57 10:08, Epoch 3/3]\n",
       "    </div>\n",
       "    <table border=\"1\" class=\"dataframe\">\n",
       "  <thead>\n",
       " <tr style=\"text-align: left;\">\n",
       "      <th>Epoch</th>\n",
       "      <th>Training Loss</th>\n",
       "      <th>Validation Loss</th>\n",
       "    </tr>\n",
       "  </thead>\n",
       "  <tbody>\n",
       "    <tr>\n",
       "      <td>1</td>\n",
       "      <td>No log</td>\n",
       "      <td>3.657435</td>\n",
       "    </tr>\n",
       "    <tr>\n",
       "      <td>2</td>\n",
       "      <td>No log</td>\n",
       "      <td>3.249712</td>\n",
       "    </tr>\n",
       "    <tr>\n",
       "      <td>3</td>\n",
       "      <td>3.213400</td>\n",
       "      <td>2.981680</td>\n",
       "    </tr>\n",
       "  </tbody>\n",
       "</table><p>"
      ],
      "text/plain": [
       "<IPython.core.display.HTML object>"
      ]
     },
     "metadata": {},
     "output_type": "display_data"
    },
    {
     "name": "stderr",
     "output_type": "stream",
     "text": [
      "***** Running Evaluation *****\n",
      "  Num examples = 148\n",
      "  Batch size = 32\n",
      "Saving model checkpoint to ./gpt2_pds\\checkpoint-19\n",
      "Configuration saved in ./gpt2_pds\\checkpoint-19\\config.json\n",
      "Configuration saved in ./gpt2_pds\\checkpoint-19\\generation_config.json\n",
      "Model weights saved in ./gpt2_pds\\checkpoint-19\\pytorch_model.bin\n",
      "***** Running Evaluation *****\n",
      "  Num examples = 148\n",
      "  Batch size = 32\n",
      "Saving model checkpoint to ./gpt2_pds\\checkpoint-38\n",
      "Configuration saved in ./gpt2_pds\\checkpoint-38\\config.json\n",
      "Configuration saved in ./gpt2_pds\\checkpoint-38\\generation_config.json\n",
      "Model weights saved in ./gpt2_pds\\checkpoint-38\\pytorch_model.bin\n",
      "***** Running Evaluation *****\n",
      "  Num examples = 148\n",
      "  Batch size = 32\n",
      "Saving model checkpoint to ./gpt2_pds\\checkpoint-57\n",
      "Configuration saved in ./gpt2_pds\\checkpoint-57\\config.json\n",
      "Configuration saved in ./gpt2_pds\\checkpoint-57\\generation_config.json\n",
      "Model weights saved in ./gpt2_pds\\checkpoint-57\\pytorch_model.bin\n",
      "\n",
      "\n",
      "Training completed. Do not forget to share your model on huggingface.co/models =)\n",
      "\n",
      "\n",
      "Loading best model from ./gpt2_pds\\checkpoint-57 (score: 2.981679916381836).\n"
     ]
    },
    {
     "data": {
      "text/plain": [
       "TrainOutput(global_step=57, training_loss=3.1360290928890833, metrics={'train_runtime': 619.5192, 'train_samples_per_second': 2.847, 'train_steps_per_second': 0.092, 'total_flos': 28807446528000.0, 'train_loss': 3.1360290928890833, 'epoch': 3.0})"
      ]
     },
     "execution_count": 60,
     "metadata": {},
     "output_type": "execute_result"
    }
   ],
   "source": [
    "trainer.train()"
   ]
  },
  {
   "cell_type": "code",
   "execution_count": 61,
   "id": "40e91878",
   "metadata": {},
   "outputs": [
    {
     "name": "stderr",
     "output_type": "stream",
     "text": [
      "***** Running Evaluation *****\n",
      "  Num examples = 148\n",
      "  Batch size = 32\n"
     ]
    },
    {
     "data": {
      "text/html": [
       "\n",
       "    <div>\n",
       "      \n",
       "      <progress value='5' max='5' style='width:300px; height:20px; vertical-align: middle;'></progress>\n",
       "      [5/5 00:12]\n",
       "    </div>\n",
       "    "
      ],
      "text/plain": [
       "<IPython.core.display.HTML object>"
      ]
     },
     "metadata": {},
     "output_type": "display_data"
    },
    {
     "data": {
      "text/plain": [
       "{'eval_loss': 2.981679916381836,\n",
       " 'eval_runtime': 15.9176,\n",
       " 'eval_samples_per_second': 9.298,\n",
       " 'eval_steps_per_second': 0.314,\n",
       " 'epoch': 3.0}"
      ]
     },
     "execution_count": 61,
     "metadata": {},
     "output_type": "execute_result"
    }
   ],
   "source": [
    "trainer.evaluate()"
   ]
  },
  {
   "cell_type": "code",
   "execution_count": 62,
   "id": "991f37ec",
   "metadata": {},
   "outputs": [
    {
     "name": "stderr",
     "output_type": "stream",
     "text": [
      "Saving model checkpoint to ./gpt2_pds\n",
      "Configuration saved in ./gpt2_pds\\config.json\n",
      "Configuration saved in ./gpt2_pds\\generation_config.json\n",
      "Model weights saved in ./gpt2_pds\\pytorch_model.bin\n"
     ]
    }
   ],
   "source": [
    "trainer.save_model()"
   ]
  },
  {
   "cell_type": "code",
   "execution_count": 63,
   "id": "96778c8e",
   "metadata": {},
   "outputs": [
    {
     "name": "stderr",
     "output_type": "stream",
     "text": [
      "loading configuration file ./gpt2_pds\\config.json\n",
      "Model config GPT2Config {\n",
      "  \"_name_or_path\": \"gpt2\",\n",
      "  \"activation_function\": \"gelu_new\",\n",
      "  \"architectures\": [\n",
      "    \"GPT2LMHeadModel\"\n",
      "  ],\n",
      "  \"attn_pdrop\": 0.1,\n",
      "  \"bos_token_id\": 50256,\n",
      "  \"do_sample\": true,\n",
      "  \"embd_pdrop\": 0.1,\n",
      "  \"eos_token_id\": 50256,\n",
      "  \"initializer_range\": 0.02,\n",
      "  \"layer_norm_epsilon\": 1e-05,\n",
      "  \"max_length\": 50,\n",
      "  \"model_type\": \"gpt2\",\n",
      "  \"n_ctx\": 1024,\n",
      "  \"n_embd\": 768,\n",
      "  \"n_head\": 12,\n",
      "  \"n_inner\": null,\n",
      "  \"n_layer\": 12,\n",
      "  \"n_positions\": 1024,\n",
      "  \"reorder_and_upcast_attn\": false,\n",
      "  \"resid_pdrop\": 0.1,\n",
      "  \"scale_attn_by_inverse_layer_idx\": false,\n",
      "  \"scale_attn_weights\": true,\n",
      "  \"summary_activation\": null,\n",
      "  \"summary_first_dropout\": 0.1,\n",
      "  \"summary_proj_to_labels\": true,\n",
      "  \"summary_type\": \"cls_index\",\n",
      "  \"summary_use_proj\": true,\n",
      "  \"task_specific_params\": {\n",
      "    \"text-generation\": {\n",
      "      \"do_sample\": true,\n",
      "      \"max_length\": 50\n",
      "    }\n",
      "  },\n",
      "  \"torch_dtype\": \"float32\",\n",
      "  \"transformers_version\": \"4.26.1\",\n",
      "  \"use_cache\": true,\n",
      "  \"vocab_size\": 50257\n",
      "}\n",
      "\n",
      "loading weights file ./gpt2_pds\\pytorch_model.bin\n",
      "Generate config GenerationConfig {\n",
      "  \"bos_token_id\": 50256,\n",
      "  \"do_sample\": true,\n",
      "  \"eos_token_id\": 50256,\n",
      "  \"max_length\": 50,\n",
      "  \"transformers_version\": \"4.26.1\"\n",
      "}\n",
      "\n",
      "All model checkpoint weights were used when initializing GPT2LMHeadModel.\n",
      "\n",
      "All the weights of GPT2LMHeadModel were initialized from the model checkpoint at ./gpt2_pds.\n",
      "If your task is similar to the task the model of the checkpoint was trained on, you can already use GPT2LMHeadModel for predictions without further training.\n",
      "loading configuration file ./gpt2_pds\\generation_config.json\n",
      "Generate config GenerationConfig {\n",
      "  \"_from_model_config\": true,\n",
      "  \"bos_token_id\": 50256,\n",
      "  \"do_sample\": true,\n",
      "  \"eos_token_id\": 50256,\n",
      "  \"max_length\": 50,\n",
      "  \"transformers_version\": \"4.26.1\"\n",
      "}\n",
      "\n"
     ]
    }
   ],
   "source": [
    "loaded_model = GPT2LMHeadModel.from_pretrained('./gpt2_pds')\n",
    "\n",
    "finetuned_generator = pipeline(\n",
    "    'text-generation', model=loaded_model, tokenizer=tokenizer,\n",
    "    config={'max_length': 200,  'do_sample': True, 'top_p': 0.9, 'temperature': 0.7, 'top_k': 10})\n"
   ]
  },
  {
   "cell_type": "markdown",
   "id": "52c846cb",
   "metadata": {},
   "source": [
    "Sentence completion below is after reading paper 3 times (3 epochs) and fining the parameters of GPT:"
   ]
  },
  {
   "cell_type": "code",
   "execution_count": 64,
   "id": "4d48cf13",
   "metadata": {},
   "outputs": [
    {
     "name": "stderr",
     "output_type": "stream",
     "text": [
      "Generate config GenerationConfig {\n",
      "  \"bos_token_id\": 50256,\n",
      "  \"do_sample\": true,\n",
      "  \"eos_token_id\": 50256,\n",
      "  \"max_length\": 50,\n",
      "  \"transformers_version\": \"4.26.1\"\n",
      "}\n",
      "\n",
      "Setting `pad_token_id` to `eos_token_id`:50256 for open-end generation.\n",
      "C:\\Users\\mrezv\\anaconda3\\lib\\site-packages\\transformers\\generation\\utils.py:1273: UserWarning: Neither `max_length` nor `max_new_tokens` has been set, `max_length` will default to 50 (`generation_config.max_length`). Controlling `max_length` via the config is deprecated and `max_length` will be removed from the config in v5 of Transformers -- we recommend using `max_new_tokens` to control the maximum length of the generation.\n",
      "  warnings.warn(\n"
     ]
    },
    {
     "name": "stdout",
     "output_type": "stream",
     "text": [
      "----------\n",
      "The Dummy classifier has the lowest values for all metrics except for the average.\n",
      "\n",
      "We can visualize the plot by running the following program (\n",
      "\n",
      "[ Figure 7c ] )\n",
      "\n",
      "R 3.       \n",
      "----------\n",
      "The Dummy classifier has the lowest values for all metrics except for:\n",
      "               for the type of validation that is generated for each metric. For a comparison analysis, the Dummy\n",
      "----------\n",
      "The Dummy classifier has the lowest values for all metrics except for training\n",
      "                           it had during the pre-trained set\n",
      "----------\n"
     ]
    }
   ],
   "source": [
    "print('----------')\n",
    "for generated_sequence in finetuned_generator('The Dummy classifier has the lowest values for all metrics except for', num_return_sequences=3):\n",
    "    print(generated_sequence['generated_text'])\n",
    "    print('----------')"
   ]
  },
  {
   "cell_type": "markdown",
   "id": "8340e8a0",
   "metadata": {},
   "source": [
    "Test completion reading from the paper is not very efficient because of the text file of paper is not cleaned, We probably could have achieved better result if more epochs would apply."
   ]
  },
  {
   "cell_type": "markdown",
   "id": "fa307a41",
   "metadata": {},
   "source": [
    "# Code Dictation by GPT"
   ]
  },
  {
   "cell_type": "code",
   "execution_count": 1,
   "id": "ebb28b49",
   "metadata": {},
   "outputs": [],
   "source": [
    "from transformers import GPT2Tokenizer, DataCollatorForLanguageModeling, TrainingArguments, Trainer, \\\n",
    "                         GPT2LMHeadModel, pipeline\n",
    "from datasets import Dataset\n",
    "import pandas as pd"
   ]
  },
  {
   "cell_type": "markdown",
   "id": "a2a6bd11",
   "metadata": {},
   "source": [
    "English equation to Latex equivalent retrieved from [Sinan Ozdemir](https://learning.oreilly.com/videos/introduction-to-transformer/9780137923717/). We want to fine-tuned GPT model to do Latex conversion for us."
   ]
  },
  {
   "cell_type": "code",
   "execution_count": 2,
   "id": "cc4a8564",
   "metadata": {},
   "outputs": [
    {
     "name": "stdout",
     "output_type": "stream",
     "text": [
      "(50, 2)\n"
     ]
    },
    {
     "data": {
      "text/html": [
       "<div>\n",
       "<style scoped>\n",
       "    .dataframe tbody tr th:only-of-type {\n",
       "        vertical-align: middle;\n",
       "    }\n",
       "\n",
       "    .dataframe tbody tr th {\n",
       "        vertical-align: top;\n",
       "    }\n",
       "\n",
       "    .dataframe thead th {\n",
       "        text-align: right;\n",
       "    }\n",
       "</style>\n",
       "<table border=\"1\" class=\"dataframe\">\n",
       "  <thead>\n",
       "    <tr style=\"text-align: right;\">\n",
       "      <th></th>\n",
       "      <th>English</th>\n",
       "      <th>LaTeX</th>\n",
       "    </tr>\n",
       "  </thead>\n",
       "  <tbody>\n",
       "    <tr>\n",
       "      <th>0</th>\n",
       "      <td>integral from a to b of x squared</td>\n",
       "      <td>\\int_{a}^{b} x^2 \\,dx</td>\n",
       "    </tr>\n",
       "    <tr>\n",
       "      <th>1</th>\n",
       "      <td>integral from negative 1 to 1 of x squared</td>\n",
       "      <td>\\int_{-1}^{1} x^2 \\,dx</td>\n",
       "    </tr>\n",
       "    <tr>\n",
       "      <th>2</th>\n",
       "      <td>integral from negative 1 to infinity of x cubed</td>\n",
       "      <td>\\int_{-1}^{\\inf} x^3 \\,dx</td>\n",
       "    </tr>\n",
       "    <tr>\n",
       "      <th>3</th>\n",
       "      <td>integral from 0 to infinity of x squared</td>\n",
       "      <td>\\int_{0}^{\\inf} x^2 \\,dx</td>\n",
       "    </tr>\n",
       "    <tr>\n",
       "      <th>4</th>\n",
       "      <td>integral from 0 to infinity of y squared</td>\n",
       "      <td>\\int_{0}^{\\inf} y^2 \\,dy</td>\n",
       "    </tr>\n",
       "  </tbody>\n",
       "</table>\n",
       "</div>"
      ],
      "text/plain": [
       "                                           English                      LaTeX\n",
       "0                integral from a to b of x squared      \\int_{a}^{b} x^2 \\,dx\n",
       "1       integral from negative 1 to 1 of x squared     \\int_{-1}^{1} x^2 \\,dx\n",
       "2  integral from negative 1 to infinity of x cubed  \\int_{-1}^{\\inf} x^3 \\,dx\n",
       "3         integral from 0 to infinity of x squared   \\int_{0}^{\\inf} x^2 \\,dx\n",
       "4         integral from 0 to infinity of y squared   \\int_{0}^{\\inf} y^2 \\,dy"
      ]
     },
     "execution_count": 2,
     "metadata": {},
     "output_type": "execute_result"
    }
   ],
   "source": [
    "data = pd.read_csv('./data/english_to_latex.csv')\n",
    "\n",
    "print(data.shape)\n",
    "\n",
    "data.head(5)"
   ]
  },
  {
   "cell_type": "code",
   "execution_count": 3,
   "id": "44b8d4df",
   "metadata": {},
   "outputs": [],
   "source": [
    "tokenizer = GPT2Tokenizer.from_pretrained('gpt2')\n",
    "\n",
    "# Set up pad token to be the same as end of sentence token\n",
    "tokenizer.pad_token = tokenizer.eos_token\n",
    "\n",
    "# Add our singular prompt\n",
    "CONVERSION_PROMPT = 'LCT\\n'  # LaTeX conversion task\n",
    "\n",
    "CONVERSION_TOKEN = 'LaTeX:'"
   ]
  },
  {
   "cell_type": "code",
   "execution_count": 4,
   "id": "95cbcf18",
   "metadata": {},
   "outputs": [
    {
     "name": "stdout",
     "output_type": "stream",
     "text": [
      "0                      LCT\\nEnglish: integral from a to b of x squared\\nLaTeX: \\int_{a}^{b} x^2 \\,dx\n",
      "1            LCT\\nEnglish: integral from negative 1 to 1 of x squared\\nLaTeX: \\int_{-1}^{1} x^2 \\,dx\n",
      "2    LCT\\nEnglish: integral from negative 1 to infinity of x cubed\\nLaTeX: \\int_{-1}^{\\inf} x^3 \\,dx\n",
      "3            LCT\\nEnglish: integral from 0 to infinity of x squared\\nLaTeX: \\int_{0}^{\\inf} x^2 \\,dx\n",
      "4            LCT\\nEnglish: integral from 0 to infinity of y squared\\nLaTeX: \\int_{0}^{\\inf} y^2 \\,dy\n",
      "dtype: object\n"
     ]
    }
   ],
   "source": [
    "pd.set_option('display.max_colwidth', None)\n",
    "\n",
    "# This is our \"training prompt\" that we want GPT2 to recognize and learn\n",
    "training_examples = f'{CONVERSION_PROMPT}English: ' + data['English'] + '\\n' + CONVERSION_TOKEN + ' ' + data['LaTeX'].astype(str)\n",
    "\n",
    "print(training_examples[0:5])"
   ]
  },
  {
   "cell_type": "markdown",
   "id": "5dc581ed",
   "metadata": {},
   "source": [
    "The main aim is to feed English and Latex to GPT model to learn this during training. Convert the engineered prompt to Pandas DataFrame."
   ]
  },
  {
   "cell_type": "code",
   "execution_count": 5,
   "id": "d69c0713",
   "metadata": {},
   "outputs": [
    {
     "data": {
      "text/html": [
       "<div>\n",
       "<style scoped>\n",
       "    .dataframe tbody tr th:only-of-type {\n",
       "        vertical-align: middle;\n",
       "    }\n",
       "\n",
       "    .dataframe tbody tr th {\n",
       "        vertical-align: top;\n",
       "    }\n",
       "\n",
       "    .dataframe thead th {\n",
       "        text-align: right;\n",
       "    }\n",
       "</style>\n",
       "<table border=\"1\" class=\"dataframe\">\n",
       "  <thead>\n",
       "    <tr style=\"text-align: right;\">\n",
       "      <th></th>\n",
       "      <th>text</th>\n",
       "    </tr>\n",
       "  </thead>\n",
       "  <tbody>\n",
       "    <tr>\n",
       "      <th>0</th>\n",
       "      <td>LCT\\nEnglish: integral from a to b of x squared\\nLaTeX: \\int_{a}^{b} x^2 \\,dx</td>\n",
       "    </tr>\n",
       "    <tr>\n",
       "      <th>1</th>\n",
       "      <td>LCT\\nEnglish: integral from negative 1 to 1 of x squared\\nLaTeX: \\int_{-1}^{1} x^2 \\,dx</td>\n",
       "    </tr>\n",
       "    <tr>\n",
       "      <th>2</th>\n",
       "      <td>LCT\\nEnglish: integral from negative 1 to infinity of x cubed\\nLaTeX: \\int_{-1}^{\\inf} x^3 \\,dx</td>\n",
       "    </tr>\n",
       "    <tr>\n",
       "      <th>3</th>\n",
       "      <td>LCT\\nEnglish: integral from 0 to infinity of x squared\\nLaTeX: \\int_{0}^{\\inf} x^2 \\,dx</td>\n",
       "    </tr>\n",
       "    <tr>\n",
       "      <th>4</th>\n",
       "      <td>LCT\\nEnglish: integral from 0 to infinity of y squared\\nLaTeX: \\int_{0}^{\\inf} y^2 \\,dy</td>\n",
       "    </tr>\n",
       "  </tbody>\n",
       "</table>\n",
       "</div>"
      ],
      "text/plain": [
       "                                                                                              text\n",
       "0                    LCT\\nEnglish: integral from a to b of x squared\\nLaTeX: \\int_{a}^{b} x^2 \\,dx\n",
       "1          LCT\\nEnglish: integral from negative 1 to 1 of x squared\\nLaTeX: \\int_{-1}^{1} x^2 \\,dx\n",
       "2  LCT\\nEnglish: integral from negative 1 to infinity of x cubed\\nLaTeX: \\int_{-1}^{\\inf} x^3 \\,dx\n",
       "3          LCT\\nEnglish: integral from 0 to infinity of x squared\\nLaTeX: \\int_{0}^{\\inf} x^2 \\,dx\n",
       "4          LCT\\nEnglish: integral from 0 to infinity of y squared\\nLaTeX: \\int_{0}^{\\inf} y^2 \\,dy"
      ]
     },
     "execution_count": 5,
     "metadata": {},
     "output_type": "execute_result"
    }
   ],
   "source": [
    "task_df = pd.DataFrame({'text': training_examples})\n",
    "\n",
    "task_df.head(5)"
   ]
  },
  {
   "cell_type": "code",
   "execution_count": 6,
   "id": "527aa89c",
   "metadata": {},
   "outputs": [
    {
     "data": {
      "text/plain": [
       "Dataset({\n",
       "    features: ['text'],\n",
       "    num_rows: 50\n",
       "})"
      ]
     },
     "execution_count": 6,
     "metadata": {},
     "output_type": "execute_result"
    }
   ],
   "source": [
    "# convert pandas DataFrame into Dataset\n",
    "latex_data = Dataset.from_pandas(task_df)  \n",
    "latex_data"
   ]
  },
  {
   "cell_type": "code",
   "execution_count": 7,
   "id": "ea8dccf3",
   "metadata": {},
   "outputs": [
    {
     "data": {
      "application/vnd.jupyter.widget-view+json": {
       "model_id": "",
       "version_major": 2,
       "version_minor": 0
      },
      "text/plain": [
       "Map:   0%|          | 0/50 [00:00<?, ? examples/s]"
      ]
     },
     "metadata": {},
     "output_type": "display_data"
    },
    {
     "data": {
      "text/plain": [
       "DatasetDict({\n",
       "    train: Dataset({\n",
       "        features: ['text', 'input_ids', 'attention_mask'],\n",
       "        num_rows: 40\n",
       "    })\n",
       "    test: Dataset({\n",
       "        features: ['text', 'input_ids', 'attention_mask'],\n",
       "        num_rows: 10\n",
       "    })\n",
       "})"
      ]
     },
     "execution_count": 7,
     "metadata": {},
     "output_type": "execute_result"
    }
   ],
   "source": [
    " # tokenize our text but don't pad because \n",
    "    # the collator will pad it dynamically\n",
    "def preprocess(examples): \n",
    "    return tokenizer(examples['text'], truncation=True)\n",
    "\n",
    "# Map the tokenizer function across the entire data set\n",
    "latex_data = latex_data.map(preprocess, batched=True)\n",
    "\n",
    "# Split to training set and test set\n",
    "latex_data = latex_data.train_test_split(train_size=.8)\n",
    "latex_data"
   ]
  },
  {
   "cell_type": "code",
   "execution_count": 8,
   "id": "20e770ad",
   "metadata": {},
   "outputs": [],
   "source": [
    "# pass the tokenizer to DataCollatorForLanguageModeling \n",
    "data_collator = DataCollatorForLanguageModeling(tokenizer=tokenizer, mlm=False)\n",
    "\n",
    "# mlm=False because we are not performing a Masked Language Modeling (mlm) tast."
   ]
  },
  {
   "cell_type": "code",
   "execution_count": 9,
   "id": "a49248df",
   "metadata": {},
   "outputs": [],
   "source": [
    "# Load pre-trained GPT2 model\n",
    "latex_gpt2 = GPT2LMHeadModel.from_pretrained('gpt2')"
   ]
  },
  {
   "cell_type": "code",
   "execution_count": 10,
   "id": "1867237d",
   "metadata": {},
   "outputs": [
    {
     "name": "stderr",
     "output_type": "stream",
     "text": [
      "The following columns in the evaluation set don't have a corresponding argument in `GPT2LMHeadModel.forward` and have been ignored: text. If text are not expected by `GPT2LMHeadModel.forward`,  you can safely ignore this message.\n",
      "***** Running Evaluation *****\n",
      "  Num examples = 10\n",
      "  Batch size = 20\n"
     ]
    },
    {
     "data": {
      "text/html": [
       "\n",
       "    <div>\n",
       "      \n",
       "      <progress value='1' max='1' style='width:300px; height:20px; vertical-align: middle;'></progress>\n",
       "      [1/1 : < :]\n",
       "    </div>\n",
       "    "
      ],
      "text/plain": [
       "<IPython.core.display.HTML object>"
      ]
     },
     "metadata": {},
     "output_type": "display_data"
    },
    {
     "data": {
      "text/plain": [
       "{'eval_loss': 4.9190874099731445,\n",
       " 'eval_runtime': 1.4309,\n",
       " 'eval_samples_per_second': 6.989,\n",
       " 'eval_steps_per_second': 0.699}"
      ]
     },
     "execution_count": 10,
     "metadata": {},
     "output_type": "execute_result"
    }
   ],
   "source": [
    "# Fine tuned the model\n",
    "# going through the data set 10 times (epoch = 10) since we do not have\n",
    "# many data points\n",
    "training_args = TrainingArguments(\n",
    "    output_dir=\"./english_to_latex\",\n",
    "    overwrite_output_dir=True, #overwrite the content of the output directory\n",
    "    num_train_epochs=10, # number of training epochs\n",
    "    per_device_train_batch_size=2, # batch size for training should be reduced from 32 to 2 because of small data\n",
    "    per_device_eval_batch_size=20,  # batch size for evaluation\n",
    "    load_best_model_at_end=True,\n",
    "    logging_steps=5,\n",
    "    log_level='info',\n",
    "    evaluation_strategy='epoch',\n",
    "    save_strategy='epoch'\n",
    ")\n",
    "\n",
    "trainer = Trainer(\n",
    "    model=latex_gpt2,\n",
    "    args=training_args,\n",
    "    train_dataset=latex_data[\"train\"],\n",
    "    eval_dataset=latex_data[\"test\"],\n",
    "    data_collator=data_collator,\n",
    ")\n",
    "\n",
    "trainer.evaluate()"
   ]
  },
  {
   "cell_type": "code",
   "execution_count": 27,
   "id": "18693d81",
   "metadata": {},
   "outputs": [
    {
     "name": "stderr",
     "output_type": "stream",
     "text": [
      "The following columns in the training set don't have a corresponding argument in `GPT2LMHeadModel.forward` and have been ignored: text. If text are not expected by `GPT2LMHeadModel.forward`,  you can safely ignore this message.\n",
      "C:\\Users\\mrezv\\anaconda3\\lib\\site-packages\\transformers\\optimization.py:306: FutureWarning: This implementation of AdamW is deprecated and will be removed in a future version. Use the PyTorch implementation torch.optim.AdamW instead, or set `no_deprecation_warning=True` to disable this warning\n",
      "  warnings.warn(\n",
      "***** Running training *****\n",
      "  Num examples = 40\n",
      "  Num Epochs = 10\n",
      "  Instantaneous batch size per device = 2\n",
      "  Total train batch size (w. parallel, distributed & accumulation) = 2\n",
      "  Gradient Accumulation steps = 1\n",
      "  Total optimization steps = 200\n",
      "  Number of trainable parameters = 124439808\n"
     ]
    },
    {
     "data": {
      "text/html": [
       "\n",
       "    <div>\n",
       "      \n",
       "      <progress value='200' max='200' style='width:300px; height:20px; vertical-align: middle;'></progress>\n",
       "      [200/200 06:44, Epoch 10/10]\n",
       "    </div>\n",
       "    <table border=\"1\" class=\"dataframe\">\n",
       "  <thead>\n",
       " <tr style=\"text-align: left;\">\n",
       "      <th>Epoch</th>\n",
       "      <th>Training Loss</th>\n",
       "      <th>Validation Loss</th>\n",
       "    </tr>\n",
       "  </thead>\n",
       "  <tbody>\n",
       "    <tr>\n",
       "      <td>1</td>\n",
       "      <td>1.525000</td>\n",
       "      <td>1.479772</td>\n",
       "    </tr>\n",
       "    <tr>\n",
       "      <td>2</td>\n",
       "      <td>0.805000</td>\n",
       "      <td>1.196455</td>\n",
       "    </tr>\n",
       "    <tr>\n",
       "      <td>3</td>\n",
       "      <td>0.726900</td>\n",
       "      <td>1.097175</td>\n",
       "    </tr>\n",
       "    <tr>\n",
       "      <td>4</td>\n",
       "      <td>0.753500</td>\n",
       "      <td>1.030493</td>\n",
       "    </tr>\n",
       "    <tr>\n",
       "      <td>5</td>\n",
       "      <td>0.528300</td>\n",
       "      <td>0.954629</td>\n",
       "    </tr>\n",
       "    <tr>\n",
       "      <td>6</td>\n",
       "      <td>0.497400</td>\n",
       "      <td>0.989692</td>\n",
       "    </tr>\n",
       "    <tr>\n",
       "      <td>7</td>\n",
       "      <td>0.504400</td>\n",
       "      <td>0.990972</td>\n",
       "    </tr>\n",
       "    <tr>\n",
       "      <td>8</td>\n",
       "      <td>0.513100</td>\n",
       "      <td>1.003159</td>\n",
       "    </tr>\n",
       "    <tr>\n",
       "      <td>9</td>\n",
       "      <td>0.396600</td>\n",
       "      <td>1.005885</td>\n",
       "    </tr>\n",
       "    <tr>\n",
       "      <td>10</td>\n",
       "      <td>0.337800</td>\n",
       "      <td>0.996944</td>\n",
       "    </tr>\n",
       "  </tbody>\n",
       "</table><p>"
      ],
      "text/plain": [
       "<IPython.core.display.HTML object>"
      ]
     },
     "metadata": {},
     "output_type": "display_data"
    },
    {
     "name": "stderr",
     "output_type": "stream",
     "text": [
      "The following columns in the evaluation set don't have a corresponding argument in `GPT2LMHeadModel.forward` and have been ignored: text. If text are not expected by `GPT2LMHeadModel.forward`,  you can safely ignore this message.\n",
      "***** Running Evaluation *****\n",
      "  Num examples = 10\n",
      "  Batch size = 20\n",
      "Saving model checkpoint to ./english_to_latex\\checkpoint-20\n",
      "Configuration saved in ./english_to_latex\\checkpoint-20\\config.json\n",
      "Configuration saved in ./english_to_latex\\checkpoint-20\\generation_config.json\n",
      "Model weights saved in ./english_to_latex\\checkpoint-20\\pytorch_model.bin\n",
      "The following columns in the evaluation set don't have a corresponding argument in `GPT2LMHeadModel.forward` and have been ignored: text. If text are not expected by `GPT2LMHeadModel.forward`,  you can safely ignore this message.\n",
      "***** Running Evaluation *****\n",
      "  Num examples = 10\n",
      "  Batch size = 20\n",
      "Saving model checkpoint to ./english_to_latex\\checkpoint-40\n",
      "Configuration saved in ./english_to_latex\\checkpoint-40\\config.json\n",
      "Configuration saved in ./english_to_latex\\checkpoint-40\\generation_config.json\n",
      "Model weights saved in ./english_to_latex\\checkpoint-40\\pytorch_model.bin\n",
      "The following columns in the evaluation set don't have a corresponding argument in `GPT2LMHeadModel.forward` and have been ignored: text. If text are not expected by `GPT2LMHeadModel.forward`,  you can safely ignore this message.\n",
      "***** Running Evaluation *****\n",
      "  Num examples = 10\n",
      "  Batch size = 20\n",
      "Saving model checkpoint to ./english_to_latex\\checkpoint-60\n",
      "Configuration saved in ./english_to_latex\\checkpoint-60\\config.json\n",
      "Configuration saved in ./english_to_latex\\checkpoint-60\\generation_config.json\n",
      "Model weights saved in ./english_to_latex\\checkpoint-60\\pytorch_model.bin\n",
      "The following columns in the evaluation set don't have a corresponding argument in `GPT2LMHeadModel.forward` and have been ignored: text. If text are not expected by `GPT2LMHeadModel.forward`,  you can safely ignore this message.\n",
      "***** Running Evaluation *****\n",
      "  Num examples = 10\n",
      "  Batch size = 20\n",
      "Saving model checkpoint to ./english_to_latex\\checkpoint-80\n",
      "Configuration saved in ./english_to_latex\\checkpoint-80\\config.json\n",
      "Configuration saved in ./english_to_latex\\checkpoint-80\\generation_config.json\n",
      "Model weights saved in ./english_to_latex\\checkpoint-80\\pytorch_model.bin\n",
      "The following columns in the evaluation set don't have a corresponding argument in `GPT2LMHeadModel.forward` and have been ignored: text. If text are not expected by `GPT2LMHeadModel.forward`,  you can safely ignore this message.\n",
      "***** Running Evaluation *****\n",
      "  Num examples = 10\n",
      "  Batch size = 20\n",
      "Saving model checkpoint to ./english_to_latex\\checkpoint-100\n",
      "Configuration saved in ./english_to_latex\\checkpoint-100\\config.json\n",
      "Configuration saved in ./english_to_latex\\checkpoint-100\\generation_config.json\n",
      "Model weights saved in ./english_to_latex\\checkpoint-100\\pytorch_model.bin\n",
      "The following columns in the evaluation set don't have a corresponding argument in `GPT2LMHeadModel.forward` and have been ignored: text. If text are not expected by `GPT2LMHeadModel.forward`,  you can safely ignore this message.\n",
      "***** Running Evaluation *****\n",
      "  Num examples = 10\n",
      "  Batch size = 20\n",
      "Saving model checkpoint to ./english_to_latex\\checkpoint-120\n",
      "Configuration saved in ./english_to_latex\\checkpoint-120\\config.json\n",
      "Configuration saved in ./english_to_latex\\checkpoint-120\\generation_config.json\n",
      "Model weights saved in ./english_to_latex\\checkpoint-120\\pytorch_model.bin\n",
      "The following columns in the evaluation set don't have a corresponding argument in `GPT2LMHeadModel.forward` and have been ignored: text. If text are not expected by `GPT2LMHeadModel.forward`,  you can safely ignore this message.\n",
      "***** Running Evaluation *****\n",
      "  Num examples = 10\n",
      "  Batch size = 20\n",
      "Saving model checkpoint to ./english_to_latex\\checkpoint-140\n",
      "Configuration saved in ./english_to_latex\\checkpoint-140\\config.json\n",
      "Configuration saved in ./english_to_latex\\checkpoint-140\\generation_config.json\n",
      "Model weights saved in ./english_to_latex\\checkpoint-140\\pytorch_model.bin\n",
      "The following columns in the evaluation set don't have a corresponding argument in `GPT2LMHeadModel.forward` and have been ignored: text. If text are not expected by `GPT2LMHeadModel.forward`,  you can safely ignore this message.\n",
      "***** Running Evaluation *****\n",
      "  Num examples = 10\n",
      "  Batch size = 20\n",
      "Saving model checkpoint to ./english_to_latex\\checkpoint-160\n",
      "Configuration saved in ./english_to_latex\\checkpoint-160\\config.json\n",
      "Configuration saved in ./english_to_latex\\checkpoint-160\\generation_config.json\n",
      "Model weights saved in ./english_to_latex\\checkpoint-160\\pytorch_model.bin\n",
      "The following columns in the evaluation set don't have a corresponding argument in `GPT2LMHeadModel.forward` and have been ignored: text. If text are not expected by `GPT2LMHeadModel.forward`,  you can safely ignore this message.\n",
      "***** Running Evaluation *****\n",
      "  Num examples = 10\n",
      "  Batch size = 20\n",
      "Saving model checkpoint to ./english_to_latex\\checkpoint-180\n",
      "Configuration saved in ./english_to_latex\\checkpoint-180\\config.json\n",
      "Configuration saved in ./english_to_latex\\checkpoint-180\\generation_config.json\n",
      "Model weights saved in ./english_to_latex\\checkpoint-180\\pytorch_model.bin\n",
      "The following columns in the evaluation set don't have a corresponding argument in `GPT2LMHeadModel.forward` and have been ignored: text. If text are not expected by `GPT2LMHeadModel.forward`,  you can safely ignore this message.\n",
      "***** Running Evaluation *****\n",
      "  Num examples = 10\n",
      "  Batch size = 20\n",
      "Saving model checkpoint to ./english_to_latex\\checkpoint-200\n",
      "Configuration saved in ./english_to_latex\\checkpoint-200\\config.json\n",
      "Configuration saved in ./english_to_latex\\checkpoint-200\\generation_config.json\n",
      "Model weights saved in ./english_to_latex\\checkpoint-200\\pytorch_model.bin\n",
      "\n",
      "\n",
      "Training completed. Do not forget to share your model on huggingface.co/models =)\n",
      "\n",
      "\n",
      "Loading best model from ./english_to_latex\\checkpoint-100 (score: 0.9546288251876831).\n"
     ]
    },
    {
     "data": {
      "text/plain": [
       "TrainOutput(global_step=200, training_loss=0.7215107238292694, metrics={'train_runtime': 407.0658, 'train_samples_per_second': 0.983, 'train_steps_per_second': 0.491, 'total_flos': 6146486784000.0, 'train_loss': 0.7215107238292694, 'epoch': 10.0})"
      ]
     },
     "execution_count": 27,
     "metadata": {},
     "output_type": "execute_result"
    }
   ],
   "source": [
    "# The loss should down after training\n",
    "trainer.train()"
   ]
  },
  {
   "cell_type": "code",
   "execution_count": 28,
   "id": "ab9c1bad",
   "metadata": {},
   "outputs": [
    {
     "name": "stderr",
     "output_type": "stream",
     "text": [
      "The following columns in the evaluation set don't have a corresponding argument in `GPT2LMHeadModel.forward` and have been ignored: text. If text are not expected by `GPT2LMHeadModel.forward`,  you can safely ignore this message.\n",
      "***** Running Evaluation *****\n",
      "  Num examples = 10\n",
      "  Batch size = 20\n"
     ]
    },
    {
     "data": {
      "text/html": [
       "\n",
       "    <div>\n",
       "      \n",
       "      <progress value='1' max='1' style='width:300px; height:20px; vertical-align: middle;'></progress>\n",
       "      [1/1 : < :]\n",
       "    </div>\n",
       "    "
      ],
      "text/plain": [
       "<IPython.core.display.HTML object>"
      ]
     },
     "metadata": {},
     "output_type": "display_data"
    },
    {
     "data": {
      "text/plain": [
       "{'eval_loss': 0.9546288251876831,\n",
       " 'eval_runtime': 1.1259,\n",
       " 'eval_samples_per_second': 8.882,\n",
       " 'eval_steps_per_second': 0.888,\n",
       " 'epoch': 10.0}"
      ]
     },
     "execution_count": 28,
     "metadata": {},
     "output_type": "execute_result"
    }
   ],
   "source": [
    "trainer.evaluate()"
   ]
  },
  {
   "cell_type": "markdown",
   "id": "3a3a6789",
   "metadata": {},
   "source": [
    "We can fine-tune the model again but first we can get the model read a calculus book:"
   ]
  },
  {
   "cell_type": "code",
   "execution_count": null,
   "id": "6c2f0b15",
   "metadata": {},
   "outputs": [],
   "source": [
    "# Calculus Made Easy by Silvanus P. Thompson - https://gutenberg.org/ebooks/33283\n",
    "\n",
    "calculus_data = TextDataset(\n",
    "    tokenizer=tokenizer,\n",
    "    file_path='../data/calculus made easy.txt',  # Principles of Data Science - Sinan Ozdemir\n",
    "    block_size=32\n",
    ")\n",
    "\n",
    "data_collator = DataCollatorForLanguageModeling(\n",
    "    tokenizer=tokenizer, mlm=False,  # MLM is Masked Language Modelling\n",
    ")\n",
    "\n",
    "latex_gpt2 = GPT2LMHeadModel.from_pretrained('gpt2')\n",
    "\n",
    "training_args = TrainingArguments(\n",
    "    output_dir=\"./calculus\",\n",
    "    overwrite_output_dir=True, #overwrite the content of the output directory\n",
    "    num_train_epochs=1, # number of training epochs\n",
    "    per_device_train_batch_size=32, # batch size for training\n",
    "    per_device_eval_batch_size=32,  # batch size for evaluation\n",
    "    load_best_model_at_end=True,\n",
    "    logging_steps=50,\n",
    "    eval_steps=50,\n",
    "    evaluation_strategy='steps',\n",
    "    save_strategy='steps'\n",
    ")\n",
    "\n",
    "trainer = Trainer(\n",
    "    model=latex_gpt2,\n",
    "    args=training_args,\n",
    "    data_collator=data_collator,\n",
    "    train_dataset=calculus_data.examples[:int(len(calculus_data.examples)*.8)],\n",
    "    eval_dataset=calculus_data.examples[int(len(calculus_data.examples)*.8):]\n",
    ")"
   ]
  },
  {
   "cell_type": "code",
   "execution_count": 43,
   "id": "e466aa20",
   "metadata": {
    "scrolled": true
   },
   "outputs": [
    {
     "name": "stderr",
     "output_type": "stream",
     "text": [
      "***** Running Evaluation *****\n",
      "  Num examples = 1624\n",
      "  Batch size = 32\n"
     ]
    },
    {
     "data": {
      "text/html": [
       "\n",
       "    <div>\n",
       "      \n",
       "      <progress value='102' max='51' style='width:300px; height:20px; vertical-align: middle;'></progress>\n",
       "      [51/51 06:35]\n",
       "    </div>\n",
       "    "
      ],
      "text/plain": [
       "<IPython.core.display.HTML object>"
      ]
     },
     "metadata": {},
     "output_type": "display_data"
    },
    {
     "data": {
      "text/plain": [
       "{'eval_loss': 2.5129024982452393,\n",
       " 'eval_runtime': 72.3714,\n",
       " 'eval_samples_per_second': 22.44,\n",
       " 'eval_steps_per_second': 0.705}"
      ]
     },
     "execution_count": 43,
     "metadata": {},
     "output_type": "execute_result"
    }
   ],
   "source": [
    "trainer.evaluate()  # initial loss for the calculus book"
   ]
  },
  {
   "cell_type": "code",
   "execution_count": 44,
   "id": "388afa38",
   "metadata": {
    "scrolled": true
   },
   "outputs": [
    {
     "name": "stderr",
     "output_type": "stream",
     "text": [
      "***** Running training *****\n",
      "  Num examples = 6494\n",
      "  Num Epochs = 1\n",
      "  Instantaneous batch size per device = 32\n",
      "  Total train batch size (w. parallel, distributed & accumulation) = 32\n",
      "  Gradient Accumulation steps = 1\n",
      "  Total optimization steps = 203\n"
     ]
    },
    {
     "data": {
      "text/html": [
       "\n",
       "    <div>\n",
       "      \n",
       "      <progress value='203' max='203' style='width:300px; height:20px; vertical-align: middle;'></progress>\n",
       "      [203/203 21:27, Epoch 1/1]\n",
       "    </div>\n",
       "    <table border=\"1\" class=\"dataframe\">\n",
       "  <thead>\n",
       "    <tr style=\"text-align: left;\">\n",
       "      <th>Step</th>\n",
       "      <th>Training Loss</th>\n",
       "      <th>Validation Loss</th>\n",
       "    </tr>\n",
       "  </thead>\n",
       "  <tbody>\n",
       "    <tr>\n",
       "      <td>50</td>\n",
       "      <td>1.796800</td>\n",
       "      <td>1.640845</td>\n",
       "    </tr>\n",
       "    <tr>\n",
       "      <td>100</td>\n",
       "      <td>1.581200</td>\n",
       "      <td>1.589910</td>\n",
       "    </tr>\n",
       "    <tr>\n",
       "      <td>150</td>\n",
       "      <td>1.567200</td>\n",
       "      <td>1.567876</td>\n",
       "    </tr>\n",
       "    <tr>\n",
       "      <td>200</td>\n",
       "      <td>1.466200</td>\n",
       "      <td>1.558849</td>\n",
       "    </tr>\n",
       "  </tbody>\n",
       "</table><p>"
      ],
      "text/plain": [
       "<IPython.core.display.HTML object>"
      ]
     },
     "metadata": {},
     "output_type": "display_data"
    },
    {
     "name": "stderr",
     "output_type": "stream",
     "text": [
      "***** Running Evaluation *****\n",
      "  Num examples = 1624\n",
      "  Batch size = 32\n",
      "***** Running Evaluation *****\n",
      "  Num examples = 1624\n",
      "  Batch size = 32\n",
      "***** Running Evaluation *****\n",
      "  Num examples = 1624\n",
      "  Batch size = 32\n",
      "***** Running Evaluation *****\n",
      "  Num examples = 1624\n",
      "  Batch size = 32\n",
      "\n",
      "\n",
      "Training completed. Do not forget to share your model on huggingface.co/models =)\n",
      "\n",
      "\n"
     ]
    },
    {
     "data": {
      "text/plain": [
       "TrainOutput(global_step=203, training_loss=1.6039342269521628, metrics={'train_runtime': 1292.6277, 'train_samples_per_second': 5.024, 'train_steps_per_second': 0.157, 'total_flos': 106051903488000.0, 'train_loss': 1.6039342269521628, 'epoch': 1.0})"
      ]
     },
     "execution_count": 44,
     "metadata": {},
     "output_type": "execute_result"
    }
   ],
   "source": [
    "trainer.train()"
   ]
  },
  {
   "cell_type": "code",
   "execution_count": 45,
   "id": "f742df82",
   "metadata": {},
   "outputs": [
    {
     "name": "stderr",
     "output_type": "stream",
     "text": [
      "Saving model checkpoint to ./calculus\n",
      "Configuration saved in ./calculus/config.json\n",
      "Model weights saved in ./calculus/pytorch_model.bin\n"
     ]
    }
   ],
   "source": [
    "trainer.save_model()"
   ]
  },
  {
   "cell_type": "markdown",
   "id": "68076efe",
   "metadata": {},
   "source": [
    "Next, instead of using gpt2 pre-trained model, the \"calculus model\" which is pre-fine tuned on the calculus text book is applied."
   ]
  },
  {
   "cell_type": "code",
   "execution_count": 73,
   "id": "0c820b1b",
   "metadata": {
    "scrolled": true
   },
   "outputs": [
    {
     "name": "stderr",
     "output_type": "stream",
     "text": [
      "loading configuration file ./calculus/config.json\n",
      "Model config GPT2Config {\n",
      "  \"_name_or_path\": \"gpt2\",\n",
      "  \"activation_function\": \"gelu_new\",\n",
      "  \"architectures\": [\n",
      "    \"GPT2LMHeadModel\"\n",
      "  ],\n",
      "  \"attn_pdrop\": 0.1,\n",
      "  \"bos_token_id\": 50256,\n",
      "  \"embd_pdrop\": 0.1,\n",
      "  \"eos_token_id\": 50256,\n",
      "  \"initializer_range\": 0.02,\n",
      "  \"layer_norm_epsilon\": 1e-05,\n",
      "  \"model_type\": \"gpt2\",\n",
      "  \"n_ctx\": 1024,\n",
      "  \"n_embd\": 768,\n",
      "  \"n_head\": 12,\n",
      "  \"n_inner\": null,\n",
      "  \"n_layer\": 12,\n",
      "  \"n_positions\": 1024,\n",
      "  \"reorder_and_upcast_attn\": false,\n",
      "  \"resid_pdrop\": 0.1,\n",
      "  \"scale_attn_by_inverse_layer_idx\": false,\n",
      "  \"scale_attn_weights\": true,\n",
      "  \"summary_activation\": null,\n",
      "  \"summary_first_dropout\": 0.1,\n",
      "  \"summary_proj_to_labels\": true,\n",
      "  \"summary_type\": \"cls_index\",\n",
      "  \"summary_use_proj\": true,\n",
      "  \"task_specific_params\": {\n",
      "    \"text-generation\": {\n",
      "      \"do_sample\": true,\n",
      "      \"max_length\": 50\n",
      "    }\n",
      "  },\n",
      "  \"torch_dtype\": \"float32\",\n",
      "  \"transformers_version\": \"4.15.0\",\n",
      "  \"use_cache\": true,\n",
      "  \"vocab_size\": 50257\n",
      "}\n",
      "\n",
      "loading weights file ./calculus/pytorch_model.bin\n",
      "All model checkpoint weights were used when initializing GPT2LMHeadModel.\n",
      "\n",
      "All the weights of GPT2LMHeadModel were initialized from the model checkpoint at ./calculus.\n",
      "If your task is similar to the task the model of the checkpoint was trained on, you can already use GPT2LMHeadModel for predictions without further training.\n",
      "PyTorch: setting up devices\n",
      "The default value for the training argument `--report_to` will change in v5 (from all installed integrations to none). In v5, you will need to use `--report_to all` to get the same behavior as now. You should start updating your code and make this info disappear :-).\n",
      "The following columns in the evaluation set  don't have a corresponding argument in `GPT2LMHeadModel.forward` and have been ignored: text.\n",
      "***** Running Evaluation *****\n",
      "  Num examples = 10\n",
      "  Batch size = 20\n"
     ]
    },
    {
     "data": {
      "text/html": [
       "\n",
       "    <div>\n",
       "      \n",
       "      <progress value='2' max='1' style='width:300px; height:20px; vertical-align: middle;'></progress>\n",
       "      [1/1 00:23]\n",
       "    </div>\n",
       "    "
      ],
      "text/plain": [
       "<IPython.core.display.HTML object>"
      ]
     },
     "metadata": {},
     "output_type": "display_data"
    },
    {
     "data": {
      "text/plain": [
       "{'eval_loss': 4.565759181976318,\n",
       " 'eval_runtime': 0.6014,\n",
       " 'eval_samples_per_second': 16.627,\n",
       " 'eval_steps_per_second': 1.663}"
      ]
     },
     "execution_count": 73,
     "metadata": {},
     "output_type": "execute_result"
    }
   ],
   "source": [
    "calculus_latex_gpt2 = GPT2LMHeadModel.from_pretrained('./calculus') \n",
    "\n",
    "training_args = TrainingArguments(\n",
    "    output_dir=\"./calculus_english_to_latex\",\n",
    "    overwrite_output_dir=True, #overwrite the content of the output directory\n",
    "    num_train_epochs=10, # number of training epochs\n",
    "    per_device_train_batch_size=2, # batch size for training\n",
    "    per_device_eval_batch_size=20,  # batch size for evaluation\n",
    "    load_best_model_at_end=True,\n",
    "    logging_steps=5,\n",
    "    log_level='info',\n",
    "    evaluation_strategy='epoch',\n",
    "    save_strategy='epoch'\n",
    ")\n",
    "\n",
    "trainer = Trainer(\n",
    "    model=calculus_latex_gpt2,\n",
    "    args=training_args,\n",
    "    train_dataset=latex_data[\"train\"],\n",
    "    eval_dataset=latex_data[\"test\"],\n",
    "    data_collator=data_collator,\n",
    ")\n",
    "\n",
    "trainer.evaluate()  # loss is starting slightly lower than before"
   ]
  },
  {
   "cell_type": "markdown",
   "id": "acaa005d",
   "metadata": {},
   "source": [
    "By doing so, the starting loss is decreasing."
   ]
  },
  {
   "cell_type": "code",
   "execution_count": 74,
   "id": "67a53cd6",
   "metadata": {
    "scrolled": true
   },
   "outputs": [
    {
     "name": "stderr",
     "output_type": "stream",
     "text": [
      "The following columns in the training set  don't have a corresponding argument in `GPT2LMHeadModel.forward` and have been ignored: text.\n",
      "***** Running training *****\n",
      "  Num examples = 40\n",
      "  Num Epochs = 10\n",
      "  Instantaneous batch size per device = 2\n",
      "  Total train batch size (w. parallel, distributed & accumulation) = 2\n",
      "  Gradient Accumulation steps = 1\n",
      "  Total optimization steps = 200\n"
     ]
    },
    {
     "data": {
      "text/html": [
       "\n",
       "    <div>\n",
       "      \n",
       "      <progress value='200' max='200' style='width:300px; height:20px; vertical-align: middle;'></progress>\n",
       "      [200/200 03:49, Epoch 10/10]\n",
       "    </div>\n",
       "    <table border=\"1\" class=\"dataframe\">\n",
       "  <thead>\n",
       "    <tr style=\"text-align: left;\">\n",
       "      <th>Epoch</th>\n",
       "      <th>Training Loss</th>\n",
       "      <th>Validation Loss</th>\n",
       "    </tr>\n",
       "  </thead>\n",
       "  <tbody>\n",
       "    <tr>\n",
       "      <td>1</td>\n",
       "      <td>1.357300</td>\n",
       "      <td>1.128648</td>\n",
       "    </tr>\n",
       "    <tr>\n",
       "      <td>2</td>\n",
       "      <td>0.694700</td>\n",
       "      <td>0.932949</td>\n",
       "    </tr>\n",
       "    <tr>\n",
       "      <td>3</td>\n",
       "      <td>0.742900</td>\n",
       "      <td>0.899620</td>\n",
       "    </tr>\n",
       "    <tr>\n",
       "      <td>4</td>\n",
       "      <td>0.602400</td>\n",
       "      <td>0.789026</td>\n",
       "    </tr>\n",
       "    <tr>\n",
       "      <td>5</td>\n",
       "      <td>0.513100</td>\n",
       "      <td>0.943910</td>\n",
       "    </tr>\n",
       "    <tr>\n",
       "      <td>6</td>\n",
       "      <td>0.566900</td>\n",
       "      <td>0.944910</td>\n",
       "    </tr>\n",
       "    <tr>\n",
       "      <td>7</td>\n",
       "      <td>0.406300</td>\n",
       "      <td>0.889982</td>\n",
       "    </tr>\n",
       "    <tr>\n",
       "      <td>8</td>\n",
       "      <td>0.363100</td>\n",
       "      <td>0.927460</td>\n",
       "    </tr>\n",
       "    <tr>\n",
       "      <td>9</td>\n",
       "      <td>0.406200</td>\n",
       "      <td>0.949464</td>\n",
       "    </tr>\n",
       "    <tr>\n",
       "      <td>10</td>\n",
       "      <td>0.299400</td>\n",
       "      <td>0.962857</td>\n",
       "    </tr>\n",
       "  </tbody>\n",
       "</table><p>"
      ],
      "text/plain": [
       "<IPython.core.display.HTML object>"
      ]
     },
     "metadata": {},
     "output_type": "display_data"
    },
    {
     "name": "stderr",
     "output_type": "stream",
     "text": [
      "The following columns in the evaluation set  don't have a corresponding argument in `GPT2LMHeadModel.forward` and have been ignored: text.\n",
      "***** Running Evaluation *****\n",
      "  Num examples = 10\n",
      "  Batch size = 20\n",
      "Saving model checkpoint to ./calculus_english_to_latex/checkpoint-20\n",
      "Configuration saved in ./calculus_english_to_latex/checkpoint-20/config.json\n",
      "Model weights saved in ./calculus_english_to_latex/checkpoint-20/pytorch_model.bin\n",
      "The following columns in the evaluation set  don't have a corresponding argument in `GPT2LMHeadModel.forward` and have been ignored: text.\n",
      "***** Running Evaluation *****\n",
      "  Num examples = 10\n",
      "  Batch size = 20\n",
      "Saving model checkpoint to ./calculus_english_to_latex/checkpoint-40\n",
      "Configuration saved in ./calculus_english_to_latex/checkpoint-40/config.json\n",
      "Model weights saved in ./calculus_english_to_latex/checkpoint-40/pytorch_model.bin\n",
      "The following columns in the evaluation set  don't have a corresponding argument in `GPT2LMHeadModel.forward` and have been ignored: text.\n",
      "***** Running Evaluation *****\n",
      "  Num examples = 10\n",
      "  Batch size = 20\n",
      "Saving model checkpoint to ./calculus_english_to_latex/checkpoint-60\n",
      "Configuration saved in ./calculus_english_to_latex/checkpoint-60/config.json\n",
      "Model weights saved in ./calculus_english_to_latex/checkpoint-60/pytorch_model.bin\n",
      "The following columns in the evaluation set  don't have a corresponding argument in `GPT2LMHeadModel.forward` and have been ignored: text.\n",
      "***** Running Evaluation *****\n",
      "  Num examples = 10\n",
      "  Batch size = 20\n",
      "Saving model checkpoint to ./calculus_english_to_latex/checkpoint-80\n",
      "Configuration saved in ./calculus_english_to_latex/checkpoint-80/config.json\n",
      "Model weights saved in ./calculus_english_to_latex/checkpoint-80/pytorch_model.bin\n",
      "The following columns in the evaluation set  don't have a corresponding argument in `GPT2LMHeadModel.forward` and have been ignored: text.\n",
      "***** Running Evaluation *****\n",
      "  Num examples = 10\n",
      "  Batch size = 20\n",
      "Saving model checkpoint to ./calculus_english_to_latex/checkpoint-100\n",
      "Configuration saved in ./calculus_english_to_latex/checkpoint-100/config.json\n",
      "Model weights saved in ./calculus_english_to_latex/checkpoint-100/pytorch_model.bin\n",
      "The following columns in the evaluation set  don't have a corresponding argument in `GPT2LMHeadModel.forward` and have been ignored: text.\n",
      "***** Running Evaluation *****\n",
      "  Num examples = 10\n",
      "  Batch size = 20\n",
      "Saving model checkpoint to ./calculus_english_to_latex/checkpoint-120\n",
      "Configuration saved in ./calculus_english_to_latex/checkpoint-120/config.json\n",
      "Model weights saved in ./calculus_english_to_latex/checkpoint-120/pytorch_model.bin\n",
      "The following columns in the evaluation set  don't have a corresponding argument in `GPT2LMHeadModel.forward` and have been ignored: text.\n",
      "***** Running Evaluation *****\n",
      "  Num examples = 10\n",
      "  Batch size = 20\n",
      "Saving model checkpoint to ./calculus_english_to_latex/checkpoint-140\n",
      "Configuration saved in ./calculus_english_to_latex/checkpoint-140/config.json\n",
      "Model weights saved in ./calculus_english_to_latex/checkpoint-140/pytorch_model.bin\n",
      "The following columns in the evaluation set  don't have a corresponding argument in `GPT2LMHeadModel.forward` and have been ignored: text.\n",
      "***** Running Evaluation *****\n",
      "  Num examples = 10\n",
      "  Batch size = 20\n",
      "Saving model checkpoint to ./calculus_english_to_latex/checkpoint-160\n",
      "Configuration saved in ./calculus_english_to_latex/checkpoint-160/config.json\n",
      "Model weights saved in ./calculus_english_to_latex/checkpoint-160/pytorch_model.bin\n",
      "The following columns in the evaluation set  don't have a corresponding argument in `GPT2LMHeadModel.forward` and have been ignored: text.\n",
      "***** Running Evaluation *****\n",
      "  Num examples = 10\n",
      "  Batch size = 20\n",
      "Saving model checkpoint to ./calculus_english_to_latex/checkpoint-180\n",
      "Configuration saved in ./calculus_english_to_latex/checkpoint-180/config.json\n",
      "Model weights saved in ./calculus_english_to_latex/checkpoint-180/pytorch_model.bin\n",
      "The following columns in the evaluation set  don't have a corresponding argument in `GPT2LMHeadModel.forward` and have been ignored: text.\n",
      "***** Running Evaluation *****\n",
      "  Num examples = 10\n",
      "  Batch size = 20\n",
      "Saving model checkpoint to ./calculus_english_to_latex/checkpoint-200\n",
      "Configuration saved in ./calculus_english_to_latex/checkpoint-200/config.json\n",
      "Model weights saved in ./calculus_english_to_latex/checkpoint-200/pytorch_model.bin\n",
      "\n",
      "\n",
      "Training completed. Do not forget to share your model on huggingface.co/models =)\n",
      "\n",
      "\n",
      "Loading best model from ./calculus_english_to_latex/checkpoint-80 (score: 0.7890258431434631).\n"
     ]
    },
    {
     "data": {
      "text/plain": [
       "TrainOutput(global_step=200, training_loss=0.7141165947914123, metrics={'train_runtime': 230.0817, 'train_samples_per_second': 1.739, 'train_steps_per_second': 0.869, 'total_flos': 6087287808000.0, 'train_loss': 0.7141165947914123, 'epoch': 10.0})"
      ]
     },
     "execution_count": 74,
     "metadata": {},
     "output_type": "execute_result"
    }
   ],
   "source": [
    "trainer.train()"
   ]
  },
  {
   "cell_type": "code",
   "execution_count": 75,
   "id": "a264d92c",
   "metadata": {},
   "outputs": [
    {
     "name": "stderr",
     "output_type": "stream",
     "text": [
      "The following columns in the evaluation set  don't have a corresponding argument in `GPT2LMHeadModel.forward` and have been ignored: text.\n",
      "***** Running Evaluation *****\n",
      "  Num examples = 10\n",
      "  Batch size = 20\n"
     ]
    },
    {
     "data": {
      "text/html": [
       "\n",
       "    <div>\n",
       "      \n",
       "      <progress value='1' max='1' style='width:300px; height:20px; vertical-align: middle;'></progress>\n",
       "      [1/1 : < :]\n",
       "    </div>\n",
       "    "
      ],
      "text/plain": [
       "<IPython.core.display.HTML object>"
      ]
     },
     "metadata": {},
     "output_type": "display_data"
    },
    {
     "data": {
      "text/plain": [
       "{'eval_loss': 0.7890258431434631,\n",
       " 'eval_runtime': 0.7324,\n",
       " 'eval_samples_per_second': 13.655,\n",
       " 'eval_steps_per_second': 1.365,\n",
       " 'epoch': 10.0}"
      ]
     },
     "execution_count": 75,
     "metadata": {},
     "output_type": "execute_result"
    }
   ],
   "source": [
    "trainer.evaluate()  # pre-training on the calculus book for one epoch led to a minor drop in loss"
   ]
  },
  {
   "cell_type": "code",
   "execution_count": 76,
   "id": "530c78c5",
   "metadata": {},
   "outputs": [
    {
     "name": "stderr",
     "output_type": "stream",
     "text": [
      "Saving model checkpoint to ./calculus_english_to_latex\n",
      "Configuration saved in ./calculus_english_to_latex/config.json\n",
      "Model weights saved in ./calculus_english_to_latex/pytorch_model.bin\n"
     ]
    }
   ],
   "source": [
    "trainer.save_model()  # save this model"
   ]
  },
  {
   "cell_type": "code",
   "execution_count": null,
   "id": "13153c32",
   "metadata": {},
   "outputs": [],
   "source": []
  },
  {
   "cell_type": "code",
   "execution_count": 144,
   "id": "c34b7af3",
   "metadata": {
    "scrolled": true
   },
   "outputs": [
    {
     "name": "stderr",
     "output_type": "stream",
     "text": [
      "loading configuration file ./calculus_english_to_latex/config.json\n",
      "Model config GPT2Config {\n",
      "  \"_name_or_path\": \"./calculus\",\n",
      "  \"activation_function\": \"gelu_new\",\n",
      "  \"architectures\": [\n",
      "    \"GPT2LMHeadModel\"\n",
      "  ],\n",
      "  \"attn_pdrop\": 0.1,\n",
      "  \"bos_token_id\": 50256,\n",
      "  \"embd_pdrop\": 0.1,\n",
      "  \"eos_token_id\": 50256,\n",
      "  \"initializer_range\": 0.02,\n",
      "  \"layer_norm_epsilon\": 1e-05,\n",
      "  \"model_type\": \"gpt2\",\n",
      "  \"n_ctx\": 1024,\n",
      "  \"n_embd\": 768,\n",
      "  \"n_head\": 12,\n",
      "  \"n_inner\": null,\n",
      "  \"n_layer\": 12,\n",
      "  \"n_positions\": 1024,\n",
      "  \"reorder_and_upcast_attn\": false,\n",
      "  \"resid_pdrop\": 0.1,\n",
      "  \"scale_attn_by_inverse_layer_idx\": false,\n",
      "  \"scale_attn_weights\": true,\n",
      "  \"summary_activation\": null,\n",
      "  \"summary_first_dropout\": 0.1,\n",
      "  \"summary_proj_to_labels\": true,\n",
      "  \"summary_type\": \"cls_index\",\n",
      "  \"summary_use_proj\": true,\n",
      "  \"task_specific_params\": {\n",
      "    \"text-generation\": {\n",
      "      \"do_sample\": true,\n",
      "      \"max_length\": 50\n",
      "    }\n",
      "  },\n",
      "  \"torch_dtype\": \"float32\",\n",
      "  \"transformers_version\": \"4.15.0\",\n",
      "  \"use_cache\": true,\n",
      "  \"vocab_size\": 50257\n",
      "}\n",
      "\n",
      "loading weights file ./calculus_english_to_latex/pytorch_model.bin\n",
      "All model checkpoint weights were used when initializing GPT2LMHeadModel.\n",
      "\n",
      "All the weights of GPT2LMHeadModel were initialized from the model checkpoint at ./calculus_english_to_latex.\n",
      "If your task is similar to the task the model of the checkpoint was trained on, you can already use GPT2LMHeadModel for predictions without further training.\n"
     ]
    }
   ],
   "source": [
    "# Load up calculus_english_to_latex which was trained 2 times \n",
    "loaded_model = GPT2LMHeadModel.from_pretrained('./calculus_english_to_latex')\n",
    "\n",
    "# Load the model in pipline for text-generation\n",
    "latex_generator = pipeline('text-generation', model=loaded_model, tokenizer=tokenizer)"
   ]
  },
  {
   "cell_type": "code",
   "execution_count": 149,
   "id": "759e9b70",
   "metadata": {},
   "outputs": [
    {
     "name": "stdout",
     "output_type": "stream",
     "text": [
      "LCT\n",
      "English: f of x equals integral from 0 to pi of x to the fourth power\n",
      "LaTeX:\n"
     ]
    }
   ],
   "source": [
    "text_sample = 'f of x equals integral from 0 to pi of x to the fourth power'\n",
    "conversion_text_sample = f'{CONVERSION_PROMPT}English: {text_sample}\\n{CONVERSION_TOKEN}'\n",
    "\n",
    "print(conversion_text_sample)"
   ]
  },
  {
   "cell_type": "code",
   "execution_count": 150,
   "id": "2b2cb777",
   "metadata": {},
   "outputs": [
    {
     "name": "stderr",
     "output_type": "stream",
     "text": [
      "Setting `pad_token_id` to `eos_token_id`:50256 for open-end generation.\n"
     ]
    },
    {
     "name": "stdout",
     "output_type": "stream",
     "text": [
      "LCT\n",
      "English: f of x equals integral from 0 to pi of x to the fourth power\n",
      "LaTeX: f(x) = \\int_{0}^{pi} x^4 \\,dx \\\n"
     ]
    }
   ],
   "source": [
    "print(latex_generator(\n",
    "    conversion_text_sample, num_beams=5, early_stopping=True, temperature=0.7,\n",
    "    max_length=len(tokenizer.encode(conversion_text_sample)) + 20\n",
    ")[0]['generated_text'])"
   ]
  },
  {
   "cell_type": "code",
   "execution_count": null,
   "id": "bfd233ed",
   "metadata": {},
   "outputs": [],
   "source": []
  },
  {
   "cell_type": "code",
   "execution_count": 165,
   "id": "46d13e88",
   "metadata": {},
   "outputs": [
    {
     "name": "stderr",
     "output_type": "stream",
     "text": [
      "Setting `pad_token_id` to `eos_token_id`:50256 for open-end generation.\n"
     ]
    },
    {
     "name": "stdout",
     "output_type": "stream",
     "text": [
      "LCT\n",
      "English: f of x is sum from 0 to x of x squared\n",
      "LaTeX: f(x) = \\sum_{0}^{x} x^2 \\,dx \\\n"
     ]
    }
   ],
   "source": [
    "text_sample = 'f of x is sum from 0 to x of x squared'\n",
    "conversion_text_sample = f'{CONVERSION_PROMPT}English: {text_sample}\\n{CONVERSION_TOKEN}'\n",
    "\n",
    "print(latex_generator(\n",
    "    conversion_text_sample, num_beams=5, early_stopping=True, temperature=0.7,\n",
    "    max_length=len(tokenizer.encode(conversion_text_sample)) + 20\n",
    ")[0]['generated_text'])"
   ]
  },
  {
   "cell_type": "code",
   "execution_count": null,
   "id": "af4fbaf3",
   "metadata": {},
   "outputs": [],
   "source": []
  },
  {
   "cell_type": "code",
   "execution_count": 163,
   "id": "33e121e6",
   "metadata": {
    "scrolled": true
   },
   "outputs": [
    {
     "name": "stderr",
     "output_type": "stream",
     "text": [
      "loading configuration file https://huggingface.co/gpt2/resolve/main/config.json from cache at /Users/sinanozdemir/.cache/huggingface/transformers/fc674cd6907b4c9e933cb42d67662436b89fa9540a1f40d7c919d0109289ad01.7d2e0efa5ca20cef4fb199382111e9d3ad96fd77b849e1d4bed13a66e1336f51\n",
      "Model config GPT2Config {\n",
      "  \"activation_function\": \"gelu_new\",\n",
      "  \"architectures\": [\n",
      "    \"GPT2LMHeadModel\"\n",
      "  ],\n",
      "  \"attn_pdrop\": 0.1,\n",
      "  \"bos_token_id\": 50256,\n",
      "  \"embd_pdrop\": 0.1,\n",
      "  \"eos_token_id\": 50256,\n",
      "  \"initializer_range\": 0.02,\n",
      "  \"layer_norm_epsilon\": 1e-05,\n",
      "  \"model_type\": \"gpt2\",\n",
      "  \"n_ctx\": 1024,\n",
      "  \"n_embd\": 768,\n",
      "  \"n_head\": 12,\n",
      "  \"n_inner\": null,\n",
      "  \"n_layer\": 12,\n",
      "  \"n_positions\": 1024,\n",
      "  \"reorder_and_upcast_attn\": false,\n",
      "  \"resid_pdrop\": 0.1,\n",
      "  \"scale_attn_by_inverse_layer_idx\": false,\n",
      "  \"scale_attn_weights\": true,\n",
      "  \"summary_activation\": null,\n",
      "  \"summary_first_dropout\": 0.1,\n",
      "  \"summary_proj_to_labels\": true,\n",
      "  \"summary_type\": \"cls_index\",\n",
      "  \"summary_use_proj\": true,\n",
      "  \"task_specific_params\": {\n",
      "    \"text-generation\": {\n",
      "      \"do_sample\": true,\n",
      "      \"max_length\": 50\n",
      "    }\n",
      "  },\n",
      "  \"transformers_version\": \"4.15.0\",\n",
      "  \"use_cache\": true,\n",
      "  \"vocab_size\": 50257\n",
      "}\n",
      "\n",
      "loading weights file https://huggingface.co/gpt2/resolve/main/pytorch_model.bin from cache at /Users/sinanozdemir/.cache/huggingface/transformers/752929ace039baa8ef70fe21cdf9ab9445773d20e733cf693d667982e210837e.323c769945a351daa25546176f8208b3004b6f563438a7603e7932bae9025925\n",
      "All model checkpoint weights were used when initializing GPT2LMHeadModel.\n",
      "\n",
      "All the weights of GPT2LMHeadModel were initialized from the model checkpoint at gpt2.\n",
      "If your task is similar to the task the model of the checkpoint was trained on, you can already use GPT2LMHeadModel for predictions without further training.\n"
     ]
    }
   ],
   "source": [
    "# Sanity check to see of GPT alone can predict this\n",
    "non_finetuned_latex_generator = pipeline(\n",
    "    'text-generation', \n",
    "    model=GPT2LMHeadModel.from_pretrained(MODEL),  # not fine-tuned!\n",
    "    tokenizer=tokenizer\n",
    ")"
   ]
  },
  {
   "cell_type": "code",
   "execution_count": null,
   "id": "0185f085",
   "metadata": {},
   "outputs": [],
   "source": []
  },
  {
   "cell_type": "code",
   "execution_count": 167,
   "id": "a95070fe",
   "metadata": {},
   "outputs": [],
   "source": [
    "few_shot_prompt = \"\"\"LCT\n",
    "English: f of x is sum from 0 to x of x squared\n",
    "LaTeX: f(x) = \\sum_{0}^{x} x^2 \\,dx \\\n",
    "###\n",
    "LCT\n",
    "English: f of x equals integral from 0 to pi of x to the fourth power\n",
    "LaTeX: f(x) = \\int_{0}^{\\pi} x^4 \\,dx \\\n",
    "###\n",
    "LCT\n",
    "English: x squared\n",
    "LaTeX:\"\"\""
   ]
  },
  {
   "cell_type": "code",
   "execution_count": 169,
   "id": "ab316df9",
   "metadata": {},
   "outputs": [
    {
     "name": "stderr",
     "output_type": "stream",
     "text": [
      "Setting `pad_token_id` to `eos_token_id`:50256 for open-end generation.\n"
     ]
    },
    {
     "name": "stdout",
     "output_type": "stream",
     "text": [
      "LCT\n",
      "English: f of x is sum from 0 to x of x squared\n",
      "LaTeX: f(x) = \\sum_{0}^{x} x^2 \\,dx ###\n",
      "LCT\n",
      "English: f of x equals integral from 0 to pi of x to the fourth power\n",
      "LaTeX: f(x) = \\int_{0}^{\\pi} x^4 \\,dx ###\n",
      "LCT\n",
      "English: x squared\n",
      "LaTeX: f(x) = \\sum_{0}^{x} x^2 \\,dx ###\n"
     ]
    }
   ],
   "source": [
    "print(non_finetuned_latex_generator(\n",
    "    few_shot_prompt, num_beams=5, early_stopping=True, temperature=0.7,\n",
    "    max_length=len(tokenizer.encode(few_shot_prompt)) + 20\n",
    ")[0]['generated_text'])"
   ]
  },
  {
   "cell_type": "code",
   "execution_count": 164,
   "id": "c87ac747",
   "metadata": {},
   "outputs": [
    {
     "name": "stderr",
     "output_type": "stream",
     "text": [
      "Setting `pad_token_id` to `eos_token_id`:50256 for open-end generation.\n"
     ]
    },
    {
     "name": "stdout",
     "output_type": "stream",
     "text": [
      "LCT\n",
      "English: f of x is sum from 0 to x of x squared\n",
      "LaTeX: f of x is sum from 0 to x of x squared\n",
      "LaTeX: f of x is\n"
     ]
    }
   ],
   "source": [
    "print(non_finetuned_latex_generator(\n",
    "    conversion_text_sample, num_beams=5, early_stopping=True, temperature=0.7,\n",
    "    max_length=len(tokenizer.encode(conversion_text_sample)) + 20\n",
    ")[0]['generated_text'])"
   ]
  },
  {
   "cell_type": "markdown",
   "id": "ab61b277",
   "metadata": {},
   "source": [
    "As can be seen, few shot learning cannot get reliable answer"
   ]
  },
  {
   "cell_type": "code",
   "execution_count": null,
   "id": "11d265c5",
   "metadata": {},
   "outputs": [],
   "source": []
  }
 ],
 "metadata": {
  "hide_input": false,
  "kernelspec": {
   "display_name": "Python 3 (ipykernel)",
   "language": "python",
   "name": "python3"
  },
  "language_info": {
   "codemirror_mode": {
    "name": "ipython",
    "version": 3
   },
   "file_extension": ".py",
   "mimetype": "text/x-python",
   "name": "python",
   "nbconvert_exporter": "python",
   "pygments_lexer": "ipython3",
   "version": "3.9.13"
  },
  "toc": {
   "base_numbering": 1,
   "nav_menu": {},
   "number_sections": true,
   "sideBar": true,
   "skip_h1_title": false,
   "title_cell": "Table of Contents",
   "title_sidebar": "Contents",
   "toc_cell": false,
   "toc_position": {
    "height": "calc(100% - 180px)",
    "left": "10px",
    "top": "150px",
    "width": "374.452px"
   },
   "toc_section_display": true,
   "toc_window_display": true
  }
 },
 "nbformat": 4,
 "nbformat_minor": 5
}
